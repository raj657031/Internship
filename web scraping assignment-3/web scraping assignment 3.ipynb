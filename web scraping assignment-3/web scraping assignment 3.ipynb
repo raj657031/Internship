{
 "cells": [
  {
   "cell_type": "code",
   "execution_count": null,
   "id": "d54267a1",
   "metadata": {},
   "outputs": [],
   "source": [
    "                                            web scraping assignment-3"
   ]
  },
  {
   "cell_type": "code",
   "execution_count": 1,
   "id": "2c651207",
   "metadata": {},
   "outputs": [],
   "source": [
    " #Importing Libraries\n",
    "import selenium\n",
    "import pandas as pd\n",
    "import time\n",
    "from bs4 import BeautifulSoup\n",
    "\n",
    "# Importing selenium webdriver \n",
    "from selenium import webdriver\n",
    "import warnings\n",
    "warnings.filterwarnings('ignore')\n",
    "\n",
    "# Importing required Exceptions which needs to handled\n",
    "from selenium.common.exceptions import StaleElementReferenceException, NoSuchElementException\n",
    "from selenium.webdriver.common.by import By\n",
    "#Importing requests\n",
    "import requests\n",
    "\n",
    "# importing regex\n",
    "import re"
   ]
  },
  {
   "cell_type": "code",
   "execution_count": 2,
   "id": "1cb74357",
   "metadata": {},
   "outputs": [],
   "source": [
    "#question 1"
   ]
  },
  {
   "cell_type": "code",
   "execution_count": 7,
   "id": "625f1089",
   "metadata": {},
   "outputs": [
    {
     "name": "stdout",
     "output_type": "stream",
     "text": [
      "Enter the product you want to search : guitar\n"
     ]
    }
   ],
   "source": [
    "# connect to webdriver\n",
    "driver=webdriver.Chrome() \n",
    "time.sleep(2)\n",
    "\n",
    "# to get url\n",
    "url = \"https://www.amazon.in/\"\n",
    "driver.get(url)\n",
    "\n",
    "time.sleep(7)\n",
    "# input the keywords that user wants to search\n",
    "search = input('Enter the product you want to search : ')"
   ]
  },
  {
   "cell_type": "code",
   "execution_count": 8,
   "id": "5df91ae7",
   "metadata": {},
   "outputs": [],
   "source": [
    "# to Locate searc_bar by id\n",
    "search_bar = driver.find_element(By.ID,\"twotabsearchtextbox\") \n",
    "# to send user input to search bar\n",
    "search_bar.send_keys(search)\n",
    " # to Locate search_button by xpath\n",
    "search_button = driver.find_element(By.XPATH,'//div[@class=\"nav-search-submit nav-sprite\"]/span/input')      \n",
    "search_button.click()    "
   ]
  },
  {
   "cell_type": "code",
   "execution_count": 9,
   "id": "a77aaa72",
   "metadata": {},
   "outputs": [],
   "source": [
    "#question 2"
   ]
  },
  {
   "cell_type": "code",
   "execution_count": 10,
   "id": "892a62c6",
   "metadata": {},
   "outputs": [],
   "source": [
    "#Making empty lists and scraping the required spots\n",
    "Product_name = []\n",
    "Brand_name= []\n",
    "Price = []\n",
    "Return = []\n",
    "Expected_Delivery = []\n",
    "Availability = []\n"
   ]
  },
  {
   "cell_type": "code",
   "execution_count": 11,
   "id": "74a7bf5e",
   "metadata": {},
   "outputs": [],
   "source": [
    "#collecting all the Product URLS\n",
    "urls = []\n",
    "for i in range(0,3):\n",
    "    Page_urls=driver.find_elements(By.XPATH,'//a[@class=\"a-link-normal s-underline-text s-underline-link-text s-link-style a-text-normal\"]')#collecting urls of all the guitar\n",
    "    for i in Page_urls:\n",
    "        urls.append(i.get_attribute('href'))\n",
    "        \n",
    "    #next button \n",
    "    nxt_btn=driver.find_element(By.XPATH,'//a[@class=\"s-pagination-item s-pagination-next s-pagination-button s-pagination-separator\"]') \n",
    "    url=nxt_btn.get_attribute('href')\n",
    "    driver.get(url)\n",
    "    time.sleep(2)"
   ]
  },
  {
   "cell_type": "code",
   "execution_count": 12,
   "id": "a62fce6d",
   "metadata": {},
   "outputs": [],
   "source": [
    "#Start with for loop\n",
    "for i in urls:\n",
    "    driver.get(i)\n",
    "    time.sleep(2)\n",
    "#Scraping product name\n",
    "    try:\n",
    "        produc=driver.find_element(By.XPATH,'/html/body/div[2]/div[2]/div[5]/div[3]/div[4]/div[1]/div/h1/span')\n",
    "        Product_name.append(produc.text)\n",
    "    except NoSuchElementException as e:\n",
    "        Product_name.append(\"-\")\n",
    "        \n",
    "        \n",
    "    #Scraping brand name\n",
    "    try:\n",
    "        brand=driver.find_element(By.XPATH,'//div[@id=\"bylineInfo_feature_div\"]/div/a')\n",
    "        Brand_name.append(brand.text)\n",
    "    except NoSuchElementException as e:\n",
    "        Brand_name.append(\"-\")\n",
    "        \n",
    "        \n",
    "    #Scraping Price\n",
    "    try:\n",
    "        pric=driver.find_element(By.XPATH,'//span[@class=\"a-price-whole\"]')  \n",
    "        Price.append(pric.text)\n",
    "    except NoSuchElementException as e:\n",
    "        Price.append(\"-\")\n",
    "        \n",
    "        \n",
    "    #Scraping Return/Exchange\n",
    "    try:\n",
    "        retur=driver.find_element(By.XPATH,'//div[@data-name=\"RETURNS_POLICY\"]/span/div[2]/a')\n",
    "        Return.append(retur.text)\n",
    "    except NoSuchElementException as e:\n",
    "        Return.append(\"-\")\n",
    "        \n",
    "     \n",
    "    #Scraping  Expected_Delivery\n",
    "    try:\n",
    "        delivary=driver.find_element(By.XPATH,'//span[@class=\"a-color-base a-text-bold\"]')\n",
    "        Expected_Delivery.append(delivary.text)\n",
    "    except NoSuchElementException as e:\n",
    "        Expected_Delivery.append(\"-\")\n",
    "        \n",
    "        \n",
    "    #Scraping Availability\n",
    "    try:\n",
    "        avail=driver.find_element(By.XPATH,'//div[@id=\"availability\"]')\n",
    "        Availability.append(avail.text)\n",
    "    except NoSuchElementException as e:\n",
    "        Availability.append(\"-\")\n"
   ]
  },
  {
   "cell_type": "code",
   "execution_count": 13,
   "id": "ba052891",
   "metadata": {},
   "outputs": [],
   "source": [
    "# To make dataframe\n",
    "Guitar=pd.DataFrame({})\n",
    "Guitar['Name'] = Product_name\n",
    "Guitar['Brand'] = Brand_name\n",
    "Guitar['Price'] = Price\n",
    "Guitar['Return'] = Return\n",
    "Guitar['Expected_Delivery'] = Expected_Delivery\n",
    "Guitar['Availability'] = Availability\n",
    "Guitar['Urls'] = urls"
   ]
  },
  {
   "cell_type": "code",
   "execution_count": 14,
   "id": "d735f25d",
   "metadata": {},
   "outputs": [
    {
     "data": {
      "text/html": [
       "<div>\n",
       "<style scoped>\n",
       "    .dataframe tbody tr th:only-of-type {\n",
       "        vertical-align: middle;\n",
       "    }\n",
       "\n",
       "    .dataframe tbody tr th {\n",
       "        vertical-align: top;\n",
       "    }\n",
       "\n",
       "    .dataframe thead th {\n",
       "        text-align: right;\n",
       "    }\n",
       "</style>\n",
       "<table border=\"1\" class=\"dataframe\">\n",
       "  <thead>\n",
       "    <tr style=\"text-align: right;\">\n",
       "      <th></th>\n",
       "      <th>Name</th>\n",
       "      <th>Brand</th>\n",
       "      <th>Price</th>\n",
       "      <th>Return</th>\n",
       "      <th>Expected_Delivery</th>\n",
       "      <th>Availability</th>\n",
       "      <th>Urls</th>\n",
       "    </tr>\n",
       "  </thead>\n",
       "  <tbody>\n",
       "    <tr>\n",
       "      <th>0</th>\n",
       "      <td>Kadence rosewood Guitar Frontier Series, Elect...</td>\n",
       "      <td>Visit the Kadence Store</td>\n",
       "      <td>4,999</td>\n",
       "      <td>-</td>\n",
       "      <td>-</td>\n",
       "      <td>In stock</td>\n",
       "      <td>https://www.amazon.in/sspa/click?ie=UTF8&amp;spc=M...</td>\n",
       "    </tr>\n",
       "    <tr>\n",
       "      <th>1</th>\n",
       "      <td>Kadence Frontier guitar with Online Guitar lea...</td>\n",
       "      <td>Visit the Kadence Store</td>\n",
       "      <td>4,999</td>\n",
       "      <td>-</td>\n",
       "      <td>-</td>\n",
       "      <td>In stock</td>\n",
       "      <td>https://www.amazon.in/sspa/click?ie=UTF8&amp;spc=M...</td>\n",
       "    </tr>\n",
       "    <tr>\n",
       "      <th>2</th>\n",
       "      <td>Kadence Slowhand Premium Jumbo Semi Acoustic G...</td>\n",
       "      <td>Visit the Kadence Store</td>\n",
       "      <td>11,999</td>\n",
       "      <td>-</td>\n",
       "      <td>-</td>\n",
       "      <td>In stock</td>\n",
       "      <td>https://www.amazon.in/sspa/click?ie=UTF8&amp;spc=M...</td>\n",
       "    </tr>\n",
       "    <tr>\n",
       "      <th>3</th>\n",
       "      <td>Medellin Acoustic Guitar (with guitar learning...</td>\n",
       "      <td>Brand: Medellin</td>\n",
       "      <td>2,499</td>\n",
       "      <td>-</td>\n",
       "      <td>-</td>\n",
       "      <td>In stock</td>\n",
       "      <td>https://www.amazon.in/sspa/click?ie=UTF8&amp;spc=M...</td>\n",
       "    </tr>\n",
       "    <tr>\n",
       "      <th>4</th>\n",
       "      <td>Juârez Acoustic Guitar, 38 Inch Cutaway, 038C ...</td>\n",
       "      <td>Visit the JUAREZ Store</td>\n",
       "      <td>1,999</td>\n",
       "      <td>-</td>\n",
       "      <td>-</td>\n",
       "      <td>In stock</td>\n",
       "      <td>https://www.amazon.in/Juarez-Acoustic-Cutaway-...</td>\n",
       "    </tr>\n",
       "    <tr>\n",
       "      <th>...</th>\n",
       "      <td>...</td>\n",
       "      <td>...</td>\n",
       "      <td>...</td>\n",
       "      <td>...</td>\n",
       "      <td>...</td>\n",
       "      <td>...</td>\n",
       "      <td>...</td>\n",
       "    </tr>\n",
       "    <tr>\n",
       "      <th>166</th>\n",
       "      <td>Medellin 38\" Acoustic Guitar premium wood with...</td>\n",
       "      <td>Visit the Kadence Store</td>\n",
       "      <td>2,699</td>\n",
       "      <td>-</td>\n",
       "      <td>-</td>\n",
       "      <td>In stock</td>\n",
       "      <td>https://www.amazon.in/Medellin-Acoustic-adjust...</td>\n",
       "    </tr>\n",
       "    <tr>\n",
       "      <th>167</th>\n",
       "      <td>PS Signature Acoustic Guitar (Natural Color) F...</td>\n",
       "      <td>Brand: PS Signature</td>\n",
       "      <td>2,999</td>\n",
       "      <td>-</td>\n",
       "      <td>-</td>\n",
       "      <td>In stock</td>\n",
       "      <td>https://www.amazon.in/PS-Signature-Acoustic-Gu...</td>\n",
       "    </tr>\n",
       "    <tr>\n",
       "      <th>168</th>\n",
       "      <td>Vault Performer Pro FX Premium Electro Acousti...</td>\n",
       "      <td>Visit the VAULT Store</td>\n",
       "      <td>64,999</td>\n",
       "      <td>-</td>\n",
       "      <td>-</td>\n",
       "      <td>Only 2 left in stock</td>\n",
       "      <td>https://www.amazon.in/Performer-Premium-Electr...</td>\n",
       "    </tr>\n",
       "    <tr>\n",
       "      <th>169</th>\n",
       "      <td>Ibanez Performance Series PC12MHCEOPN Grand Co...</td>\n",
       "      <td>Brand: Ibanez</td>\n",
       "      <td>16,800</td>\n",
       "      <td>-</td>\n",
       "      <td>-</td>\n",
       "      <td>Only 1 left in stock</td>\n",
       "      <td>https://www.amazon.in/Ibanez-Performance-PC12M...</td>\n",
       "    </tr>\n",
       "    <tr>\n",
       "      <th>170</th>\n",
       "      <td>Yamaha 16 Incheses wood Acoustic Guitar F280 D...</td>\n",
       "      <td>Visit the YAMAHA Store</td>\n",
       "      <td>8,480</td>\n",
       "      <td>-</td>\n",
       "      <td>-</td>\n",
       "      <td>Only 1 left in stock</td>\n",
       "      <td>https://www.amazon.in/Acoustic-F280-Dreadnough...</td>\n",
       "    </tr>\n",
       "  </tbody>\n",
       "</table>\n",
       "<p>171 rows × 7 columns</p>\n",
       "</div>"
      ],
      "text/plain": [
       "                                                  Name  \\\n",
       "0    Kadence rosewood Guitar Frontier Series, Elect...   \n",
       "1    Kadence Frontier guitar with Online Guitar lea...   \n",
       "2    Kadence Slowhand Premium Jumbo Semi Acoustic G...   \n",
       "3    Medellin Acoustic Guitar (with guitar learning...   \n",
       "4    Juârez Acoustic Guitar, 38 Inch Cutaway, 038C ...   \n",
       "..                                                 ...   \n",
       "166  Medellin 38\" Acoustic Guitar premium wood with...   \n",
       "167  PS Signature Acoustic Guitar (Natural Color) F...   \n",
       "168  Vault Performer Pro FX Premium Electro Acousti...   \n",
       "169  Ibanez Performance Series PC12MHCEOPN Grand Co...   \n",
       "170  Yamaha 16 Incheses wood Acoustic Guitar F280 D...   \n",
       "\n",
       "                       Brand   Price Return Expected_Delivery  \\\n",
       "0    Visit the Kadence Store   4,999      -                 -   \n",
       "1    Visit the Kadence Store   4,999      -                 -   \n",
       "2    Visit the Kadence Store  11,999      -                 -   \n",
       "3            Brand: Medellin   2,499      -                 -   \n",
       "4     Visit the JUAREZ Store   1,999      -                 -   \n",
       "..                       ...     ...    ...               ...   \n",
       "166  Visit the Kadence Store   2,699      -                 -   \n",
       "167      Brand: PS Signature   2,999      -                 -   \n",
       "168    Visit the VAULT Store  64,999      -                 -   \n",
       "169            Brand: Ibanez  16,800      -                 -   \n",
       "170   Visit the YAMAHA Store   8,480      -                 -   \n",
       "\n",
       "             Availability                                               Urls  \n",
       "0                In stock  https://www.amazon.in/sspa/click?ie=UTF8&spc=M...  \n",
       "1                In stock  https://www.amazon.in/sspa/click?ie=UTF8&spc=M...  \n",
       "2                In stock  https://www.amazon.in/sspa/click?ie=UTF8&spc=M...  \n",
       "3                In stock  https://www.amazon.in/sspa/click?ie=UTF8&spc=M...  \n",
       "4                In stock  https://www.amazon.in/Juarez-Acoustic-Cutaway-...  \n",
       "..                    ...                                                ...  \n",
       "166              In stock  https://www.amazon.in/Medellin-Acoustic-adjust...  \n",
       "167              In stock  https://www.amazon.in/PS-Signature-Acoustic-Gu...  \n",
       "168  Only 2 left in stock  https://www.amazon.in/Performer-Premium-Electr...  \n",
       "169  Only 1 left in stock  https://www.amazon.in/Ibanez-Performance-PC12M...  \n",
       "170  Only 1 left in stock  https://www.amazon.in/Acoustic-F280-Dreadnough...  \n",
       "\n",
       "[171 rows x 7 columns]"
      ]
     },
     "execution_count": 14,
     "metadata": {},
     "output_type": "execute_result"
    }
   ],
   "source": [
    "Guitar"
   ]
  },
  {
   "cell_type": "code",
   "execution_count": 15,
   "id": "7822956e",
   "metadata": {},
   "outputs": [
    {
     "data": {
      "text/plain": [
       "<bound method WebDriver.close of <selenium.webdriver.chrome.webdriver.WebDriver (session=\"c11add8f749bcb96e981f5a164b2de5c\")>>"
      ]
     },
     "execution_count": 15,
     "metadata": {},
     "output_type": "execute_result"
    }
   ],
   "source": [
    "driver.close"
   ]
  },
  {
   "cell_type": "code",
   "execution_count": 1,
   "id": "3f970dab",
   "metadata": {},
   "outputs": [],
   "source": [
    "#question 3"
   ]
  },
  {
   "cell_type": "code",
   "execution_count": 4,
   "id": "c7c0c6ed",
   "metadata": {},
   "outputs": [],
   "source": [
    "# Connecting to the webdriver\n",
    "driver=webdriver.Chrome()"
   ]
  },
  {
   "cell_type": "code",
   "execution_count": 5,
   "id": "8b4edd7f",
   "metadata": {},
   "outputs": [],
   "source": [
    "#Creating empty list \n",
    "urls = []    #empty list\n",
    "data = []    #empty list"
   ]
  },
  {
   "cell_type": "code",
   "execution_count": 6,
   "id": "d66ea5bb",
   "metadata": {},
   "outputs": [],
   "source": [
    "# Getting the webpage of mentioned url \n",
    "url = \"https://images.google.com/\""
   ]
  },
  {
   "cell_type": "code",
   "execution_count": 7,
   "id": "e98eea63",
   "metadata": {},
   "outputs": [
    {
     "name": "stdout",
     "output_type": "stream",
     "text": [
      "Downloading 0 of 50 images\n",
      "Downloading 1 of 50 images\n",
      "Downloading 2 of 50 images\n",
      "Downloading 3 of 50 images\n",
      "Downloading 4 of 50 images\n",
      "Downloading 5 of 50 images\n",
      "Downloading 6 of 50 images\n",
      "Downloading 7 of 50 images\n",
      "Downloading 8 of 50 images\n",
      "Downloading 9 of 50 images\n",
      "Downloading 10 of 50 images\n",
      "Downloading 11 of 50 images\n",
      "Downloading 12 of 50 images\n",
      "Downloading 13 of 50 images\n",
      "Downloading 14 of 50 images\n",
      "Downloading 15 of 50 images\n",
      "Downloading 16 of 50 images\n",
      "Downloading 17 of 50 images\n",
      "Downloading 18 of 50 images\n",
      "Downloading 19 of 50 images\n",
      "Downloading 20 of 50 images\n",
      "Downloading 21 of 50 images\n",
      "Downloading 22 of 50 images\n",
      "Downloading 23 of 50 images\n",
      "Downloading 24 of 50 images\n",
      "Downloading 25 of 50 images\n",
      "Downloading 26 of 50 images\n",
      "Downloading 27 of 50 images\n",
      "Downloading 28 of 50 images\n",
      "Downloading 29 of 50 images\n",
      "Downloading 30 of 50 images\n",
      "Downloading 31 of 50 images\n",
      "Downloading 32 of 50 images\n",
      "Downloading 33 of 50 images\n",
      "Downloading 34 of 50 images\n",
      "Downloading 35 of 50 images\n",
      "Downloading 36 of 50 images\n",
      "Downloading 37 of 50 images\n",
      "Downloading 38 of 50 images\n",
      "Downloading 39 of 50 images\n",
      "Downloading 40 of 50 images\n",
      "Downloading 41 of 50 images\n",
      "Downloading 42 of 50 images\n",
      "Downloading 43 of 50 images\n",
      "Downloading 44 of 50 images\n",
      "Downloading 45 of 50 images\n",
      "Downloading 46 of 50 images\n",
      "Downloading 47 of 50 images\n",
      "Downloading 48 of 50 images\n",
      "Downloading 49 of 50 images\n"
     ]
    }
   ],
   "source": [
    "search_item = [\"fruits\", \"cars\", \"Machine Learning\", \"Guitar\", \"Cakes\"]\n",
    "for item in search_item:\n",
    "    driver.get(url)  \n",
    "    time.sleep(5)\n",
    "    \n",
    "    # Finding webelement for search_bar\n",
    "    search_bar = driver.find_element(By.CLASS_NAME,\"gLFyf\") \n",
    "    \n",
    "    # Sending keys to get the keyword for search bar\n",
    "    search_bar.send_keys(str(item))\n",
    "    \n",
    "    # Clicking on search button\n",
    "    search_button = driver.find_element(By.XPATH,'//button[@class=\"Tg7LZd\"]').click()\n",
    "    \n",
    "    # Scrolling down the webpage to get some more images\n",
    "    for _ in range(50):\n",
    "        driver.execute_script(\"window.scrollBy(0,100)\")\n",
    "        \n",
    "        imgs = driver.find_elements(By.XPATH,'//img[@class=\"rg_i Q4LuWd\"]')\n",
    "    img_url = []\n",
    "    for image in imgs:\n",
    "        source = image.get_attribute('src')\n",
    "        if source is not None:\n",
    "                if(source[0:4] == 'http'):\n",
    "                    img_url.append(source)\n",
    "    for i in img_url[:10]:\n",
    "        urls.append(i)\n",
    "                    \n",
    "for i in range(len(urls)):\n",
    "    if i >= 50:\n",
    "        break\n",
    "    print(\"Downloading {0} of {1} images\" .format(i, 50))\n",
    "    response = requests.get(urls[i])\n",
    "    file = open(r\"C:\\Users\\jkart\\Pictures\\fliprobo\"+str(i)+\".jpg\",\"wb\")\n",
    "    file.write(response.content)"
   ]
  },
  {
   "cell_type": "code",
   "execution_count": 9,
   "id": "efc45264",
   "metadata": {},
   "outputs": [],
   "source": [
    "driver.close()"
   ]
  },
  {
   "cell_type": "code",
   "execution_count": 41,
   "id": "b7d27ccf",
   "metadata": {},
   "outputs": [],
   "source": [
    "#question 4"
   ]
  },
  {
   "cell_type": "code",
   "execution_count": 49,
   "id": "fbd550d9",
   "metadata": {},
   "outputs": [],
   "source": [
    "# connect to wed browser\n",
    "driver = webdriver.Chrome()\n",
    "\n",
    "# To get the web page \n",
    "url = \"https://www.flipkart.com/\"\n",
    "driver.get(url)\n",
    "time.sleep(3)"
   ]
  },
  {
   "cell_type": "code",
   "execution_count": 52,
   "id": "33631dc9",
   "metadata": {},
   "outputs": [],
   "source": [
    "#clicking on login popup\n",
    "login_pop=driver.find_element(By.XPATH, '/html/body/div[2]/div/div/button')\n",
    "login_pop.click()"
   ]
  },
  {
   "cell_type": "code",
   "execution_count": 53,
   "id": "38e3c11e",
   "metadata": {},
   "outputs": [],
   "source": [
    "#sending input in searchbar\n",
    "input= driver.find_element(By.XPATH, '/html/body/div[1]/div/div[1]/div[1]/div[2]/div[2]/form/div/div/input')\n",
    "input.send_keys('redmi smartphone')"
   ]
  },
  {
   "cell_type": "code",
   "execution_count": 54,
   "id": "e88c442c",
   "metadata": {},
   "outputs": [],
   "source": [
    "from selenium.common.exceptions import NoSuchElementException, StaleElementReferenceException"
   ]
  },
  {
   "cell_type": "code",
   "execution_count": 55,
   "id": "9e83ead3",
   "metadata": {},
   "outputs": [],
   "source": [
    "#clicking on search button\n",
    "try:\n",
    "    search_btn=driver.find_element(By.XPATH, '/html/body/div[1]/div/div[1]/div[1]/div[2]/div[2]/form/div/button/svg')\n",
    "    search_btn.click()\n",
    "except NoSuchElementException:\n",
    "    search_btn=driver.find_element(By.XPATH, '/html/body/div[1]/div/div[1]/div[1]/div[2]/div[2]/form/div/button')\n",
    "    search_btn.click()"
   ]
  },
  {
   "cell_type": "code",
   "execution_count": 56,
   "id": "a6d7f5b6",
   "metadata": {},
   "outputs": [],
   "source": [
    "#scraping name\n",
    "smartphone_name=[i.text for i in driver.find_elements(By.XPATH, '//div[@class=\"_4rR01T\"]')]"
   ]
  },
  {
   "cell_type": "code",
   "execution_count": 57,
   "id": "7c8e03aa",
   "metadata": {},
   "outputs": [
    {
     "data": {
      "text/plain": [
       "24"
      ]
     },
     "execution_count": 57,
     "metadata": {},
     "output_type": "execute_result"
    }
   ],
   "source": [
    "len(smartphone_name)"
   ]
  },
  {
   "cell_type": "code",
   "execution_count": 58,
   "id": "0f052ca8",
   "metadata": {},
   "outputs": [
    {
     "data": {
      "text/plain": [
       "['REDMI 12 (Moonstone Silver, 128 GB)',\n",
       " 'REDMI 11 Prime (Peppy Purple, 128 GB)',\n",
       " 'REDMI 12 (Jade Black, 128 GB)',\n",
       " 'REDMI 12 (Pastel Blue, 128 GB)',\n",
       " 'REDMI A1+ (Black, 32 GB)',\n",
       " 'REDMI A2 (Aqua Blue, 64 GB)',\n",
       " 'REDMI A2 (Classic Black, 64 GB)',\n",
       " 'REDMI A2 (Sea Green, 32 GB)',\n",
       " 'REDMI A2 (Aqua Blue, 64 GB)',\n",
       " 'REDMI 12 (Pastel Blue, 128 GB)',\n",
       " 'REDMI A2 (Aqua Blue, 32 GB)',\n",
       " 'REDMI 10 Power (Power Black, 128 GB)',\n",
       " 'Redmi 6A (Blue, 16 GB)',\n",
       " 'REDMI 12 (Moonstone Silver, 128 GB)',\n",
       " 'REDMI A1+ (Light Green, 32 GB)',\n",
       " 'REDMI 11 Prime (Flashy Black, 128 GB)',\n",
       " 'REDMI 11 Prime (Playful Green, 128 GB)',\n",
       " 'REDMI A2 (Sea Green, 64 GB)',\n",
       " 'REDMI A2 (Classic Black, 64 GB)',\n",
       " 'REDMI 12 (Jade Black, 128 GB)',\n",
       " 'REDMI 12 5G (Jade Black, 128 GB)',\n",
       " 'REDMI Note 12 (Ice Blue, 64 GB)',\n",
       " 'REDMI Note 12 (Lunar Black, 64 GB)',\n",
       " 'REDMI Note 12 (Sunrise Gold, 64 GB)']"
      ]
     },
     "execution_count": 58,
     "metadata": {},
     "output_type": "execute_result"
    }
   ],
   "source": [
    "smartphone_name"
   ]
  },
  {
   "cell_type": "code",
   "execution_count": 59,
   "id": "ff77ad23",
   "metadata": {},
   "outputs": [],
   "source": [
    "#scraping brand name\n",
    "brand_name=[i.text.split(\" \")[0] for i in driver.find_elements(By.XPATH, '//div[@class=\"_4rR01T\"]')]"
   ]
  },
  {
   "cell_type": "code",
   "execution_count": 60,
   "id": "33e58e59",
   "metadata": {},
   "outputs": [
    {
     "data": {
      "text/plain": [
       "['REDMI',\n",
       " 'REDMI',\n",
       " 'REDMI',\n",
       " 'REDMI',\n",
       " 'REDMI',\n",
       " 'REDMI',\n",
       " 'REDMI',\n",
       " 'REDMI',\n",
       " 'REDMI',\n",
       " 'REDMI',\n",
       " 'REDMI',\n",
       " 'REDMI',\n",
       " 'Redmi',\n",
       " 'REDMI',\n",
       " 'REDMI',\n",
       " 'REDMI',\n",
       " 'REDMI',\n",
       " 'REDMI',\n",
       " 'REDMI',\n",
       " 'REDMI',\n",
       " 'REDMI',\n",
       " 'REDMI',\n",
       " 'REDMI',\n",
       " 'REDMI']"
      ]
     },
     "execution_count": 60,
     "metadata": {},
     "output_type": "execute_result"
    }
   ],
   "source": [
    "brand_name"
   ]
  },
  {
   "cell_type": "code",
   "execution_count": 61,
   "id": "7dcf8a0c",
   "metadata": {},
   "outputs": [],
   "source": [
    "#scraping price\n",
    "for i in smartphone_name:\n",
    "    price=[a.text for a in driver.find_elements(By.XPATH, '//div[@class=\"_30jeq3 _1_WHN1\"]')]"
   ]
  },
  {
   "cell_type": "code",
   "execution_count": 62,
   "id": "26ccc8af",
   "metadata": {},
   "outputs": [
    {
     "data": {
      "text/plain": [
       "['₹9,999',\n",
       " '₹10,499',\n",
       " '₹9,999',\n",
       " '₹9,999',\n",
       " '₹6,299',\n",
       " '₹6,640',\n",
       " '₹6,802',\n",
       " '₹6,725',\n",
       " '₹6,808',\n",
       " '₹11,499',\n",
       " '₹7,128',\n",
       " '₹12,540',\n",
       " '₹6,490',\n",
       " '₹11,499',\n",
       " '₹6,299',\n",
       " '₹10,499',\n",
       " '₹10,499',\n",
       " '₹6,804',\n",
       " '₹6,745',\n",
       " '₹11,499',\n",
       " '₹15,755',\n",
       " '₹12,999',\n",
       " '₹12,999',\n",
       " '₹12,999']"
      ]
     },
     "execution_count": 62,
     "metadata": {},
     "output_type": "execute_result"
    }
   ],
   "source": [
    "len(price)\n",
    "price"
   ]
  },
  {
   "cell_type": "code",
   "execution_count": 63,
   "id": "7d05ef95",
   "metadata": {},
   "outputs": [],
   "source": [
    "import requests\n",
    "from bs4 import BeautifulSoup\n"
   ]
  },
  {
   "cell_type": "code",
   "execution_count": 64,
   "id": "f09ef087",
   "metadata": {},
   "outputs": [],
   "source": [
    "soup=BeautifulSoup(driver.page_source, 'html.parser')"
   ]
  },
  {
   "cell_type": "code",
   "execution_count": 65,
   "id": "23165166",
   "metadata": {},
   "outputs": [],
   "source": [
    "#scraping phone info\n",
    "for i in smartphone_name:\n",
    "    info=[i.text for i in driver.find_elements(By.XPATH, '//div[@class=\"fMghEO\"]')]"
   ]
  },
  {
   "cell_type": "code",
   "execution_count": 66,
   "id": "b7953175",
   "metadata": {},
   "outputs": [
    {
     "name": "stdout",
     "output_type": "stream",
     "text": [
      "['4 GB RAM | 128 GB ROM | Expandable Upto 1 TB\\n17.25 cm (6.79 inch) Full HD+ Display\\n50MP + 8MP + 2MP | 8MP Front Camera\\n5000 mAh Battery\\nHelio G88 Processor\\n1 Year Manufacturer Warranty for Phone and 6 Months Warranty for in the Box Accessories', '6 GB RAM | 128 GB ROM | Expandable Upto 512 GB\\n16.71 cm (6.58 inch) Full HD+ Display\\n50MP + 2MP + 2MP | 8MP Front Camera\\n5000 mAh Battery\\nHelio G99 Processor\\n1 Year Manufacturer Warranty for Phone and 6 Months Warranty for In the Box Accessories', '4 GB RAM | 128 GB ROM | Expandable Upto 1 TB\\n17.25 cm (6.79 inch) Full HD+ Display\\n50MP + 8MP + 2MP | 8MP Front Camera\\n5000 mAh Battery\\nHelio G88 Processor\\n1 Year Manufacturer Warranty for Phone and 6 Months Warranty for in the Box Accessories', '4 GB RAM | 128 GB ROM | Expandable Upto 1 TB\\n17.25 cm (6.79 inch) Full HD+ Display\\n50MP + 8MP + 2MP | 8MP Front Camera\\n5000 mAh Battery\\nHelio G88 Processor\\n1 Year Manufacturer Warranty for Phone and 6 Months Warranty for in the Box Accessories', '2 GB RAM | 32 GB ROM | Expandable Upto 512 GB\\n16.56 cm (6.52 inch) HD+ Display\\n8MP Rear Camera | 5MP Front Camera\\n5000 mAh Lithium Polymer Battery\\nMediatek Helio A22 Processor\\n1 Year Manufacturer Warranty for Phone and 6 Months Warranty for in the Box Accessories', '2 GB RAM | 64 GB ROM\\n16.56 cm (6.52 inch) Display\\n8MP Rear Camera\\n5000 mAh Battery\\n2 year on phone domestic', '4 GB RAM | 64 GB ROM\\n16.56 cm (6.52 inch) Display\\n8MP Rear Camera\\n5000 mAh Battery\\n2 year on phone domestic', '2 GB RAM | 32 GB ROM\\n16.56 cm (6.52 inch) Display\\n8MP Rear Camera\\n5000 mAh Battery\\n2 year on phone domestic', '4 GB RAM | 64 GB ROM\\n16.56 cm (6.52 inch) Display\\n8MP Rear Camera\\n5000 mAh Battery\\n2 year on phone domestic', '6 GB RAM | 128 GB ROM | Expandable Upto 1 TB\\n17.25 cm (6.79 inch) Full HD+ Display\\n50MP + 8MP + 2MP | 8MP Front Camera\\n5000 mAh Battery\\nHelio G88 Processor\\n1 Year Manufacturer Warranty for Phone and 6 Months Warranty for in the Box Accessories', '2 GB RAM | 32 GB ROM\\n16.56 cm (6.52 inch) Display\\n8MP Rear Camera\\n5000 mAh Battery\\n2 year on phone domestic', '8 GB RAM | 128 GB ROM\\n17.02 cm (6.7 inch) Display\\n50MP Rear Camera | 5MP Front Camera\\n6000 mAh Battery\\n12 Months Warranty', '2 GB RAM | 16 GB ROM | Expandable Upto 128 GB\\n13.84 cm (5.45 inch) Display\\n13MP Rear Camera | 5MP Front Camera\\n3000 mAh Battery\\n1 Year Manufacturer Warranty', '6 GB RAM | 128 GB ROM | Expandable Upto 1 TB\\n17.25 cm (6.79 inch) Full HD+ Display\\n50MP + 8MP + 2MP | 8MP Front Camera\\n5000 mAh Battery\\nHelio G88 Processor\\n1 Year Manufacturer Warranty for Phone and 6 Months Warranty for in the Box Accessories', '2 GB RAM | 32 GB ROM | Expandable Upto 512 GB\\n16.56 cm (6.52 inch) HD+ Display\\n8MP Rear Camera | 5MP Front Camera\\n5000 mAh Lithium Polymer Battery\\nMediatek Helio A22 Processor\\n1 Year Manufacturer Warranty for Phone and 6 Months Warranty for in the Box Accessories', '6 GB RAM | 128 GB ROM | Expandable Upto 512 GB\\n16.71 cm (6.58 inch) Full HD+ Display\\n50MP + 2MP + 2MP | 8MP Front Camera\\n5000 mAh Battery\\nHelio G99 Processor\\n1 Year Manufacturer Warranty for Phone and 6 Months Warranty for In the Box Accessories', '6 GB RAM | 128 GB ROM | Expandable Upto 512 GB\\n16.71 cm (6.58 inch) Full HD+ Display\\n50MP + 2MP + 2MP | 8MP Front Camera\\n5000 mAh Battery\\nHelio G99 Processor\\n1 Year Manufacturer Warranty for Phone and 6 Months Warranty for In the Box Accessories', '4 GB RAM | 64 GB ROM\\n16.56 cm (6.52 inch) Display\\n8MP Rear Camera\\n5000 mAh Battery\\n2 year on phone domestic', '2 GB RAM | 64 GB ROM\\n16.56 cm (6.52 inch) Display\\n8MP Rear Camera\\n5000 mAh Battery\\n2 year on phone domestic', '6 GB RAM | 128 GB ROM | Expandable Upto 1 TB\\n17.25 cm (6.79 inch) Full HD+ Display\\n50MP + 8MP + 2MP | 8MP Front Camera\\n5000 mAh Battery\\nHelio G88 Processor\\n1 Year Manufacturer Warranty for Phone and 6 Months Warranty for in the Box Accessories', '6 GB RAM | 128 GB ROM\\n17.25 cm (6.79 inch) Full HD Display\\n50MP Rear Camera\\n5000 mAh Battery\\n1 Year Domestic Warranty for Phone and 6 Months Warranty for In-Box Accessories', '6 GB RAM | 64 GB ROM | Expandable Upto 1 TB\\n16.94 cm (6.67 inch) Full HD+ Super AMOLED Display\\n50MP + 8MP + 2MP | 13MP Front Camera\\n5000 mAh Battery\\nSnapdragon 685 Processor\\n1 Year Manufacturer Warranty for Phone and 6 Months Warranty for In the Box Accessories', '6 GB RAM | 64 GB ROM | Expandable Upto 1 TB\\n16.94 cm (6.67 inch) Full HD+ Super AMOLED Display\\n50MP + 8MP + 2MP | 13MP Front Camera\\n5000 mAh Battery\\nSnapdragon 685 Processor\\n1 Year Manufacturer Warranty for Phone and 6 Months Warranty for In the Box Accessories', '6 GB RAM | 64 GB ROM | Expandable Upto 1 TB\\n16.94 cm (6.67 inch) Full HD+ Super AMOLED Display\\n50MP + 8MP + 2MP | 13MP Front Camera\\n5000 mAh Battery\\nSnapdragon 685 Processor\\n1 Year Manufacturer Warranty for Phone and 6 Months Warranty for In the Box Accessories']\n"
     ]
    }
   ],
   "source": [
    "print(info)"
   ]
  },
  {
   "cell_type": "code",
   "execution_count": 67,
   "id": "ff101806",
   "metadata": {},
   "outputs": [
    {
     "name": "stdout",
     "output_type": "stream",
     "text": [
      "['4', '6', '4', '4', '2', '2', '4', '2', '4', '6', '2', '8', '2', '6', '2', '6', '6', '4', '2', '6', '6', '6', '6', '6']\n"
     ]
    }
   ],
   "source": [
    "info1=driver.find_elements(By.XPATH, '//div[@class=\"fMghEO\"]')\n",
    "RAM=[i.text.split('|')[0].split(\" \")[0] for i in driver.find_elements(By.XPATH, '//div[@class=\"fMghEO\"]')]\n",
    "print(RAM)"
   ]
  },
  {
   "cell_type": "code",
   "execution_count": 68,
   "id": "3b7e168d",
   "metadata": {},
   "outputs": [
    {
     "data": {
      "text/plain": [
       "24"
      ]
     },
     "execution_count": 68,
     "metadata": {},
     "output_type": "execute_result"
    }
   ],
   "source": [
    "\n",
    "len(RAM)"
   ]
  },
  {
   "cell_type": "code",
   "execution_count": 70,
   "id": "040ff194",
   "metadata": {},
   "outputs": [
    {
     "name": "stdout",
     "output_type": "stream",
     "text": [
      "24\n"
     ]
    }
   ],
   "source": [
    "#scraping rom\n",
    "info1=driver.find_elements(By.XPATH, '//div[@class=\"fMghEO\"]')\n",
    "for i in info1:\n",
    "    ROM=[i.text.split('GB')[1].split('|')[1] for i in driver.find_elements(By.XPATH, '//div[@class=\"fMghEO\"]')]\n",
    "print(len(ROM))"
   ]
  },
  {
   "cell_type": "code",
   "execution_count": 71,
   "id": "eb57401a",
   "metadata": {},
   "outputs": [
    {
     "name": "stdout",
     "output_type": "stream",
     "text": [
      "[' 128 ', ' 128 ', ' 128 ', ' 128 ', ' 32 ', ' 64 ', ' 64 ', ' 32 ', ' 64 ', ' 128 ', ' 32 ', ' 128 ', ' 16 ', ' 128 ', ' 32 ', ' 128 ', ' 128 ', ' 64 ', ' 64 ', ' 128 ', ' 128 ', ' 64 ', ' 64 ', ' 64 ']\n"
     ]
    }
   ],
   "source": [
    "print(ROM)"
   ]
  },
  {
   "cell_type": "code",
   "execution_count": 72,
   "id": "b60c454f",
   "metadata": {},
   "outputs": [
    {
     "name": "stdout",
     "output_type": "stream",
     "text": [
      "['https://www.flipkart.com/redmi-12-moonstone-silver-128-gb/p/itme52e778c12701?pid=MOBGRMFK2MGRNG4Q&lid=LSTMOBGRMFK2MGRNG4QFZLVXT&marketplace=FLIPKART&q=redmi+smartphone&store=tyy%2F4io&spotlightTagId=BestsellerId_tyy%2F4io&srno=s_1_1&otracker=search&otracker1=search&fm=Search&iid=a35484ac-03fc-428d-ac61-c7c96712a1ac.MOBGRMFK2MGRNG4Q.SEARCH&ppt=sp&ppn=sp&ssid=7gn4beomgw0000001694263541535&qH=16e35e1c76bc3b93', 'https://www.flipkart.com/redmi-11-prime-peppy-purple-128-gb/p/itm52d6b0fe396e9?pid=MOBGZHFGUHYSHQYM&lid=LSTMOBGZHFGUHYSHQYMWGOOJ0&marketplace=FLIPKART&q=redmi+smartphone&store=tyy%2F4io&srno=s_1_2&otracker=search&otracker1=search&fm=organic&iid=a35484ac-03fc-428d-ac61-c7c96712a1ac.MOBGZHFGUHYSHQYM.SEARCH&ppt=hp&ppn=homepage&ssid=7gn4beomgw0000001694263541535&qH=16e35e1c76bc3b93', 'https://www.flipkart.com/redmi-12-jade-black-128-gb/p/itm7b10fd42f78b2?pid=MOBGRMFKKDQ2A3V4&lid=LSTMOBGRMFKKDQ2A3V4XZOVEW&marketplace=FLIPKART&q=redmi+smartphone&store=tyy%2F4io&spotlightTagId=BestsellerId_tyy%2F4io&srno=s_1_3&otracker=search&otracker1=search&fm=organic&iid=a35484ac-03fc-428d-ac61-c7c96712a1ac.MOBGRMFKKDQ2A3V4.SEARCH&ppt=hp&ppn=homepage&ssid=7gn4beomgw0000001694263541535&qH=16e35e1c76bc3b93', 'https://www.flipkart.com/redmi-12-pastel-blue-128-gb/p/itm48719506a7ceb?pid=MOBGRMFKKGYD9ETX&lid=LSTMOBGRMFKKGYD9ETX5KD9VL&marketplace=FLIPKART&q=redmi+smartphone&store=tyy%2F4io&spotlightTagId=BestsellerId_tyy%2F4io&srno=s_1_4&otracker=search&otracker1=search&fm=organic&iid=a35484ac-03fc-428d-ac61-c7c96712a1ac.MOBGRMFKKGYD9ETX.SEARCH&ppt=hp&ppn=homepage&ssid=7gn4beomgw0000001694263541535&qH=16e35e1c76bc3b93', 'https://www.flipkart.com/redmi-a1-black-32-gb/p/itm70b00a77a7d1d?pid=MOBGGYBABVXHHRDQ&lid=LSTMOBGGYBABVXHHRDQI6PZV5&marketplace=FLIPKART&q=redmi+smartphone&store=tyy%2F4io&srno=s_1_5&otracker=search&otracker1=search&fm=organic&iid=a35484ac-03fc-428d-ac61-c7c96712a1ac.MOBGGYBABVXHHRDQ.SEARCH&ppt=hp&ppn=homepage&ssid=7gn4beomgw0000001694263541535&qH=16e35e1c76bc3b93', 'https://www.flipkart.com/redmi-a2-aqua-blue-64-gb/p/itm5d49be2c0a95a?pid=MOBGR4UZWNAYKSUH&lid=LSTMOBGR4UZWNAYKSUHE3CTOU&marketplace=FLIPKART&q=redmi+smartphone&store=tyy%2F4io&srno=s_1_6&otracker=search&otracker1=search&fm=organic&iid=a35484ac-03fc-428d-ac61-c7c96712a1ac.MOBGR4UZWNAYKSUH.SEARCH&ppt=hp&ppn=homepage&ssid=7gn4beomgw0000001694263541535&qH=16e35e1c76bc3b93', 'https://www.flipkart.com/redmi-a2-classic-black-64-gb/p/itm5d49be2c0a95a?pid=MOBGPVYHRXZ3PFZU&lid=LSTMOBGPVYHRXZ3PFZU0QHLLF&marketplace=FLIPKART&q=redmi+smartphone&store=tyy%2F4io&srno=s_1_7&otracker=search&otracker1=search&fm=organic&iid=a35484ac-03fc-428d-ac61-c7c96712a1ac.MOBGPVYHRXZ3PFZU.SEARCH&ppt=hp&ppn=homepage&ssid=7gn4beomgw0000001694263541535&qH=16e35e1c76bc3b93', 'https://www.flipkart.com/redmi-a2-sea-green-32-gb/p/itm5d49be2c0a95a?pid=MOBGPVYATHJDTSSR&lid=LSTMOBGPVYATHJDTSSR6JMF4X&marketplace=FLIPKART&q=redmi+smartphone&store=tyy%2F4io&srno=s_1_8&otracker=search&otracker1=search&fm=organic&iid=a35484ac-03fc-428d-ac61-c7c96712a1ac.MOBGPVYATHJDTSSR.SEARCH&ppt=hp&ppn=homepage&ssid=7gn4beomgw0000001694263541535&qH=16e35e1c76bc3b93', 'https://www.flipkart.com/redmi-a2-aqua-blue-64-gb/p/itm5d49be2c0a95a?pid=MOBGPVYMG9RWX6XY&lid=LSTMOBGPVYMG9RWX6XYCWTZEK&marketplace=FLIPKART&q=redmi+smartphone&store=tyy%2F4io&srno=s_1_9&otracker=search&otracker1=search&fm=organic&iid=a35484ac-03fc-428d-ac61-c7c96712a1ac.MOBGPVYMG9RWX6XY.SEARCH&ppt=hp&ppn=homepage&ssid=7gn4beomgw0000001694263541535&qH=16e35e1c76bc3b93', 'https://www.flipkart.com/redmi-12-pastel-blue-128-gb/p/itm9b1a6640faccd?pid=MOBGRMFKAHNTZPWE&lid=LSTMOBGRMFKAHNTZPWE1H5IWS&marketplace=FLIPKART&q=redmi+smartphone&store=tyy%2F4io&srno=s_1_10&otracker=search&otracker1=search&fm=organic&iid=a35484ac-03fc-428d-ac61-c7c96712a1ac.MOBGRMFKAHNTZPWE.SEARCH&ppt=hp&ppn=homepage&ssid=7gn4beomgw0000001694263541535&qH=16e35e1c76bc3b93', 'https://www.flipkart.com/redmi-a2-aqua-blue-32-gb/p/itm5d49be2c0a95a?pid=MOBGPUZR8GHCE5ZQ&lid=LSTMOBGPUZR8GHCE5ZQ1P4DF9&marketplace=FLIPKART&q=redmi+smartphone&store=tyy%2F4io&srno=s_1_11&otracker=search&otracker1=search&fm=organic&iid=a35484ac-03fc-428d-ac61-c7c96712a1ac.MOBGPUZR8GHCE5ZQ.SEARCH&ppt=hp&ppn=homepage&ssid=7gn4beomgw0000001694263541535&qH=16e35e1c76bc3b93', 'https://www.flipkart.com/redmi-10-power-power-black-128-gb/p/itm97f5d2ec83588?pid=MOBGHDXFYKKZFZGV&lid=LSTMOBGHDXFYKKZFZGVE0QYTC&marketplace=FLIPKART&q=redmi+smartphone&store=tyy%2F4io&srno=s_1_12&otracker=search&otracker1=search&fm=organic&iid=a35484ac-03fc-428d-ac61-c7c96712a1ac.MOBGHDXFYKKZFZGV.SEARCH&ppt=hp&ppn=homepage&ssid=7gn4beomgw0000001694263541535&qH=16e35e1c76bc3b93', 'https://www.flipkart.com/redmi-6a-blue-16-gb/p/itm1ed294a755383?pid=MOBF9Z2Z3YDBSF6V&lid=LSTMOBF9Z2Z3YDBSF6VX16ZOH&marketplace=FLIPKART&q=redmi+smartphone&store=tyy%2F4io&srno=s_1_13&otracker=search&otracker1=search&fm=organic&iid=a35484ac-03fc-428d-ac61-c7c96712a1ac.MOBF9Z2Z3YDBSF6V.SEARCH&ppt=hp&ppn=homepage&ssid=7gn4beomgw0000001694263541535&qH=16e35e1c76bc3b93', 'https://www.flipkart.com/redmi-12-moonstone-silver-128-gb/p/itm6722b15672602?pid=MOBGRMFK4CSR7GGH&lid=LSTMOBGRMFK4CSR7GGHHKEX2Z&marketplace=FLIPKART&q=redmi+smartphone&store=tyy%2F4io&srno=s_1_14&otracker=search&otracker1=search&fm=organic&iid=a35484ac-03fc-428d-ac61-c7c96712a1ac.MOBGRMFK4CSR7GGH.SEARCH&ppt=hp&ppn=homepage&ssid=7gn4beomgw0000001694263541535&qH=16e35e1c76bc3b93', 'https://www.flipkart.com/redmi-a1-light-green-32-gb/p/itmecc9e7ba0a1df?pid=MOBGGYBAHSAJVKHP&lid=LSTMOBGGYBAHSAJVKHP4UBD9A&marketplace=FLIPKART&q=redmi+smartphone&store=tyy%2F4io&srno=s_1_15&otracker=search&otracker1=search&fm=organic&iid=a35484ac-03fc-428d-ac61-c7c96712a1ac.MOBGGYBAHSAJVKHP.SEARCH&ppt=hp&ppn=homepage&ssid=7gn4beomgw0000001694263541535&qH=16e35e1c76bc3b93', 'https://www.flipkart.com/redmi-11-prime-flashy-black-128-gb/p/itm01f508ea28ab0?pid=MOBGZHFGNDNWAZKZ&lid=LSTMOBGZHFGNDNWAZKZUMANTL&marketplace=FLIPKART&q=redmi+smartphone&store=tyy%2F4io&srno=s_1_16&otracker=search&otracker1=search&fm=organic&iid=a35484ac-03fc-428d-ac61-c7c96712a1ac.MOBGZHFGNDNWAZKZ.SEARCH&ppt=hp&ppn=homepage&ssid=7gn4beomgw0000001694263541535&qH=16e35e1c76bc3b93', 'https://www.flipkart.com/redmi-11-prime-playful-green-128-gb/p/itm0b080e6994972?pid=MOBGZHFGZQMESCDK&lid=LSTMOBGZHFGZQMESCDKZ6ILTE&marketplace=FLIPKART&q=redmi+smartphone&store=tyy%2F4io&srno=s_1_17&otracker=search&otracker1=search&fm=organic&iid=a35484ac-03fc-428d-ac61-c7c96712a1ac.MOBGZHFGZQMESCDK.SEARCH&ppt=hp&ppn=homepage&ssid=7gn4beomgw0000001694263541535&qH=16e35e1c76bc3b93', 'https://www.flipkart.com/redmi-a2-sea-green-64-gb/p/itm5d49be2c0a95a?pid=MOBGPVYEHMPGNCBZ&lid=LSTMOBGPVYEHMPGNCBZHUKI4Z&marketplace=FLIPKART&q=redmi+smartphone&store=tyy%2F4io&srno=s_1_18&otracker=search&otracker1=search&fm=organic&iid=a35484ac-03fc-428d-ac61-c7c96712a1ac.MOBGPVYEHMPGNCBZ.SEARCH&ppt=hp&ppn=homepage&ssid=7gn4beomgw0000001694263541535&qH=16e35e1c76bc3b93', 'https://www.flipkart.com/redmi-a2-classic-black-64-gb/p/itm5d49be2c0a95a?pid=MOBGRHB6XAEUADQB&lid=LSTMOBGRHB6XAEUADQBAI4AJ4&marketplace=FLIPKART&q=redmi+smartphone&store=tyy%2F4io&srno=s_1_19&otracker=search&otracker1=search&fm=organic&iid=a35484ac-03fc-428d-ac61-c7c96712a1ac.MOBGRHB6XAEUADQB.SEARCH&ppt=hp&ppn=homepage&ssid=7gn4beomgw0000001694263541535&qH=16e35e1c76bc3b93', 'https://www.flipkart.com/redmi-12-jade-black-128-gb/p/itmb7050ec01c09f?pid=MOBGRMFKTHKQSJEG&lid=LSTMOBGRMFKTHKQSJEGQK3FM2&marketplace=FLIPKART&q=redmi+smartphone&store=tyy%2F4io&srno=s_1_20&otracker=search&otracker1=search&fm=organic&iid=a35484ac-03fc-428d-ac61-c7c96712a1ac.MOBGRMFKTHKQSJEG.SEARCH&ppt=hp&ppn=homepage&ssid=7gn4beomgw0000001694263541535&qH=16e35e1c76bc3b93', 'https://www.flipkart.com/redmi-12-5g-jade-black-128-gb/p/itm0c8ba13f6fc5b?pid=MOBGS7GYGUAJ4UYZ&lid=LSTMOBGS7GYGUAJ4UYZQQUS5Q&marketplace=FLIPKART&q=redmi+smartphone&store=tyy%2F4io&srno=s_1_21&otracker=search&otracker1=search&fm=organic&iid=a35484ac-03fc-428d-ac61-c7c96712a1ac.MOBGS7GYGUAJ4UYZ.SEARCH&ppt=hp&ppn=homepage&ssid=7gn4beomgw0000001694263541535&qH=16e35e1c76bc3b93', 'https://www.flipkart.com/redmi-note-12-ice-blue-64-gb/p/itmee415766dfc1a?pid=MOBGNYHZYZ4CNTCM&lid=LSTMOBGNYHZYZ4CNTCMVONB0S&marketplace=FLIPKART&q=redmi+smartphone&store=tyy%2F4io&srno=s_1_22&otracker=search&otracker1=search&fm=organic&iid=a35484ac-03fc-428d-ac61-c7c96712a1ac.MOBGNYHZYZ4CNTCM.SEARCH&ppt=hp&ppn=homepage&ssid=7gn4beomgw0000001694263541535&qH=16e35e1c76bc3b93', 'https://www.flipkart.com/redmi-note-12-lunar-black-64-gb/p/itm6756d6e7a86be?pid=MOBGNYHZJGGE3ZHM&lid=LSTMOBGNYHZJGGE3ZHMWSTXBO&marketplace=FLIPKART&q=redmi+smartphone&store=tyy%2F4io&srno=s_1_23&otracker=search&otracker1=search&fm=organic&iid=a35484ac-03fc-428d-ac61-c7c96712a1ac.MOBGNYHZJGGE3ZHM.SEARCH&ppt=hp&ppn=homepage&ssid=7gn4beomgw0000001694263541535&qH=16e35e1c76bc3b93', 'https://www.flipkart.com/redmi-note-12-sunrise-gold-64-gb/p/itm5d170187bcbf0?pid=MOBGNYHZ7ZGHES2V&lid=LSTMOBGNYHZ7ZGHES2VQILAET&marketplace=FLIPKART&q=redmi+smartphone&store=tyy%2F4io&srno=s_1_24&otracker=search&otracker1=search&fm=organic&iid=a35484ac-03fc-428d-ac61-c7c96712a1ac.MOBGNYHZ7ZGHES2V.SEARCH&ppt=hp&ppn=homepage&ssid=7gn4beomgw0000001694263541535&qH=16e35e1c76bc3b93']\n",
      "['https://www.flipkart.com/redmi-12-moonstone-silver-128-gb/p/itme52e778c12701?pid=MOBGRMFK2MGRNG4Q&lid=LSTMOBGRMFK2MGRNG4QFZLVXT&marketplace=FLIPKART&q=redmi+smartphone&store=tyy%2F4io&spotlightTagId=BestsellerId_tyy%2F4io&srno=s_1_1&otracker=search&otracker1=search&fm=Search&iid=a35484ac-03fc-428d-ac61-c7c96712a1ac.MOBGRMFK2MGRNG4Q.SEARCH&ppt=sp&ppn=sp&ssid=7gn4beomgw0000001694263541535&qH=16e35e1c76bc3b93', 'https://www.flipkart.com/redmi-11-prime-peppy-purple-128-gb/p/itm52d6b0fe396e9?pid=MOBGZHFGUHYSHQYM&lid=LSTMOBGZHFGUHYSHQYMWGOOJ0&marketplace=FLIPKART&q=redmi+smartphone&store=tyy%2F4io&srno=s_1_2&otracker=search&otracker1=search&fm=organic&iid=a35484ac-03fc-428d-ac61-c7c96712a1ac.MOBGZHFGUHYSHQYM.SEARCH&ppt=hp&ppn=homepage&ssid=7gn4beomgw0000001694263541535&qH=16e35e1c76bc3b93', 'https://www.flipkart.com/redmi-12-jade-black-128-gb/p/itm7b10fd42f78b2?pid=MOBGRMFKKDQ2A3V4&lid=LSTMOBGRMFKKDQ2A3V4XZOVEW&marketplace=FLIPKART&q=redmi+smartphone&store=tyy%2F4io&spotlightTagId=BestsellerId_tyy%2F4io&srno=s_1_3&otracker=search&otracker1=search&fm=organic&iid=a35484ac-03fc-428d-ac61-c7c96712a1ac.MOBGRMFKKDQ2A3V4.SEARCH&ppt=hp&ppn=homepage&ssid=7gn4beomgw0000001694263541535&qH=16e35e1c76bc3b93', 'https://www.flipkart.com/redmi-12-pastel-blue-128-gb/p/itm48719506a7ceb?pid=MOBGRMFKKGYD9ETX&lid=LSTMOBGRMFKKGYD9ETX5KD9VL&marketplace=FLIPKART&q=redmi+smartphone&store=tyy%2F4io&spotlightTagId=BestsellerId_tyy%2F4io&srno=s_1_4&otracker=search&otracker1=search&fm=organic&iid=a35484ac-03fc-428d-ac61-c7c96712a1ac.MOBGRMFKKGYD9ETX.SEARCH&ppt=hp&ppn=homepage&ssid=7gn4beomgw0000001694263541535&qH=16e35e1c76bc3b93', 'https://www.flipkart.com/redmi-a1-black-32-gb/p/itm70b00a77a7d1d?pid=MOBGGYBABVXHHRDQ&lid=LSTMOBGGYBABVXHHRDQI6PZV5&marketplace=FLIPKART&q=redmi+smartphone&store=tyy%2F4io&srno=s_1_5&otracker=search&otracker1=search&fm=organic&iid=a35484ac-03fc-428d-ac61-c7c96712a1ac.MOBGGYBABVXHHRDQ.SEARCH&ppt=hp&ppn=homepage&ssid=7gn4beomgw0000001694263541535&qH=16e35e1c76bc3b93', 'https://www.flipkart.com/redmi-a2-aqua-blue-64-gb/p/itm5d49be2c0a95a?pid=MOBGR4UZWNAYKSUH&lid=LSTMOBGR4UZWNAYKSUHE3CTOU&marketplace=FLIPKART&q=redmi+smartphone&store=tyy%2F4io&srno=s_1_6&otracker=search&otracker1=search&fm=organic&iid=a35484ac-03fc-428d-ac61-c7c96712a1ac.MOBGR4UZWNAYKSUH.SEARCH&ppt=hp&ppn=homepage&ssid=7gn4beomgw0000001694263541535&qH=16e35e1c76bc3b93', 'https://www.flipkart.com/redmi-a2-classic-black-64-gb/p/itm5d49be2c0a95a?pid=MOBGPVYHRXZ3PFZU&lid=LSTMOBGPVYHRXZ3PFZU0QHLLF&marketplace=FLIPKART&q=redmi+smartphone&store=tyy%2F4io&srno=s_1_7&otracker=search&otracker1=search&fm=organic&iid=a35484ac-03fc-428d-ac61-c7c96712a1ac.MOBGPVYHRXZ3PFZU.SEARCH&ppt=hp&ppn=homepage&ssid=7gn4beomgw0000001694263541535&qH=16e35e1c76bc3b93', 'https://www.flipkart.com/redmi-a2-sea-green-32-gb/p/itm5d49be2c0a95a?pid=MOBGPVYATHJDTSSR&lid=LSTMOBGPVYATHJDTSSR6JMF4X&marketplace=FLIPKART&q=redmi+smartphone&store=tyy%2F4io&srno=s_1_8&otracker=search&otracker1=search&fm=organic&iid=a35484ac-03fc-428d-ac61-c7c96712a1ac.MOBGPVYATHJDTSSR.SEARCH&ppt=hp&ppn=homepage&ssid=7gn4beomgw0000001694263541535&qH=16e35e1c76bc3b93', 'https://www.flipkart.com/redmi-a2-aqua-blue-64-gb/p/itm5d49be2c0a95a?pid=MOBGPVYMG9RWX6XY&lid=LSTMOBGPVYMG9RWX6XYCWTZEK&marketplace=FLIPKART&q=redmi+smartphone&store=tyy%2F4io&srno=s_1_9&otracker=search&otracker1=search&fm=organic&iid=a35484ac-03fc-428d-ac61-c7c96712a1ac.MOBGPVYMG9RWX6XY.SEARCH&ppt=hp&ppn=homepage&ssid=7gn4beomgw0000001694263541535&qH=16e35e1c76bc3b93', 'https://www.flipkart.com/redmi-12-pastel-blue-128-gb/p/itm9b1a6640faccd?pid=MOBGRMFKAHNTZPWE&lid=LSTMOBGRMFKAHNTZPWE1H5IWS&marketplace=FLIPKART&q=redmi+smartphone&store=tyy%2F4io&srno=s_1_10&otracker=search&otracker1=search&fm=organic&iid=a35484ac-03fc-428d-ac61-c7c96712a1ac.MOBGRMFKAHNTZPWE.SEARCH&ppt=hp&ppn=homepage&ssid=7gn4beomgw0000001694263541535&qH=16e35e1c76bc3b93', 'https://www.flipkart.com/redmi-a2-aqua-blue-32-gb/p/itm5d49be2c0a95a?pid=MOBGPUZR8GHCE5ZQ&lid=LSTMOBGPUZR8GHCE5ZQ1P4DF9&marketplace=FLIPKART&q=redmi+smartphone&store=tyy%2F4io&srno=s_1_11&otracker=search&otracker1=search&fm=organic&iid=a35484ac-03fc-428d-ac61-c7c96712a1ac.MOBGPUZR8GHCE5ZQ.SEARCH&ppt=hp&ppn=homepage&ssid=7gn4beomgw0000001694263541535&qH=16e35e1c76bc3b93', 'https://www.flipkart.com/redmi-10-power-power-black-128-gb/p/itm97f5d2ec83588?pid=MOBGHDXFYKKZFZGV&lid=LSTMOBGHDXFYKKZFZGVE0QYTC&marketplace=FLIPKART&q=redmi+smartphone&store=tyy%2F4io&srno=s_1_12&otracker=search&otracker1=search&fm=organic&iid=a35484ac-03fc-428d-ac61-c7c96712a1ac.MOBGHDXFYKKZFZGV.SEARCH&ppt=hp&ppn=homepage&ssid=7gn4beomgw0000001694263541535&qH=16e35e1c76bc3b93', 'https://www.flipkart.com/redmi-6a-blue-16-gb/p/itm1ed294a755383?pid=MOBF9Z2Z3YDBSF6V&lid=LSTMOBF9Z2Z3YDBSF6VX16ZOH&marketplace=FLIPKART&q=redmi+smartphone&store=tyy%2F4io&srno=s_1_13&otracker=search&otracker1=search&fm=organic&iid=a35484ac-03fc-428d-ac61-c7c96712a1ac.MOBF9Z2Z3YDBSF6V.SEARCH&ppt=hp&ppn=homepage&ssid=7gn4beomgw0000001694263541535&qH=16e35e1c76bc3b93', 'https://www.flipkart.com/redmi-12-moonstone-silver-128-gb/p/itm6722b15672602?pid=MOBGRMFK4CSR7GGH&lid=LSTMOBGRMFK4CSR7GGHHKEX2Z&marketplace=FLIPKART&q=redmi+smartphone&store=tyy%2F4io&srno=s_1_14&otracker=search&otracker1=search&fm=organic&iid=a35484ac-03fc-428d-ac61-c7c96712a1ac.MOBGRMFK4CSR7GGH.SEARCH&ppt=hp&ppn=homepage&ssid=7gn4beomgw0000001694263541535&qH=16e35e1c76bc3b93', 'https://www.flipkart.com/redmi-a1-light-green-32-gb/p/itmecc9e7ba0a1df?pid=MOBGGYBAHSAJVKHP&lid=LSTMOBGGYBAHSAJVKHP4UBD9A&marketplace=FLIPKART&q=redmi+smartphone&store=tyy%2F4io&srno=s_1_15&otracker=search&otracker1=search&fm=organic&iid=a35484ac-03fc-428d-ac61-c7c96712a1ac.MOBGGYBAHSAJVKHP.SEARCH&ppt=hp&ppn=homepage&ssid=7gn4beomgw0000001694263541535&qH=16e35e1c76bc3b93', 'https://www.flipkart.com/redmi-11-prime-flashy-black-128-gb/p/itm01f508ea28ab0?pid=MOBGZHFGNDNWAZKZ&lid=LSTMOBGZHFGNDNWAZKZUMANTL&marketplace=FLIPKART&q=redmi+smartphone&store=tyy%2F4io&srno=s_1_16&otracker=search&otracker1=search&fm=organic&iid=a35484ac-03fc-428d-ac61-c7c96712a1ac.MOBGZHFGNDNWAZKZ.SEARCH&ppt=hp&ppn=homepage&ssid=7gn4beomgw0000001694263541535&qH=16e35e1c76bc3b93', 'https://www.flipkart.com/redmi-11-prime-playful-green-128-gb/p/itm0b080e6994972?pid=MOBGZHFGZQMESCDK&lid=LSTMOBGZHFGZQMESCDKZ6ILTE&marketplace=FLIPKART&q=redmi+smartphone&store=tyy%2F4io&srno=s_1_17&otracker=search&otracker1=search&fm=organic&iid=a35484ac-03fc-428d-ac61-c7c96712a1ac.MOBGZHFGZQMESCDK.SEARCH&ppt=hp&ppn=homepage&ssid=7gn4beomgw0000001694263541535&qH=16e35e1c76bc3b93', 'https://www.flipkart.com/redmi-a2-sea-green-64-gb/p/itm5d49be2c0a95a?pid=MOBGPVYEHMPGNCBZ&lid=LSTMOBGPVYEHMPGNCBZHUKI4Z&marketplace=FLIPKART&q=redmi+smartphone&store=tyy%2F4io&srno=s_1_18&otracker=search&otracker1=search&fm=organic&iid=a35484ac-03fc-428d-ac61-c7c96712a1ac.MOBGPVYEHMPGNCBZ.SEARCH&ppt=hp&ppn=homepage&ssid=7gn4beomgw0000001694263541535&qH=16e35e1c76bc3b93', 'https://www.flipkart.com/redmi-a2-classic-black-64-gb/p/itm5d49be2c0a95a?pid=MOBGRHB6XAEUADQB&lid=LSTMOBGRHB6XAEUADQBAI4AJ4&marketplace=FLIPKART&q=redmi+smartphone&store=tyy%2F4io&srno=s_1_19&otracker=search&otracker1=search&fm=organic&iid=a35484ac-03fc-428d-ac61-c7c96712a1ac.MOBGRHB6XAEUADQB.SEARCH&ppt=hp&ppn=homepage&ssid=7gn4beomgw0000001694263541535&qH=16e35e1c76bc3b93', 'https://www.flipkart.com/redmi-12-jade-black-128-gb/p/itmb7050ec01c09f?pid=MOBGRMFKTHKQSJEG&lid=LSTMOBGRMFKTHKQSJEGQK3FM2&marketplace=FLIPKART&q=redmi+smartphone&store=tyy%2F4io&srno=s_1_20&otracker=search&otracker1=search&fm=organic&iid=a35484ac-03fc-428d-ac61-c7c96712a1ac.MOBGRMFKTHKQSJEG.SEARCH&ppt=hp&ppn=homepage&ssid=7gn4beomgw0000001694263541535&qH=16e35e1c76bc3b93', 'https://www.flipkart.com/redmi-12-5g-jade-black-128-gb/p/itm0c8ba13f6fc5b?pid=MOBGS7GYGUAJ4UYZ&lid=LSTMOBGS7GYGUAJ4UYZQQUS5Q&marketplace=FLIPKART&q=redmi+smartphone&store=tyy%2F4io&srno=s_1_21&otracker=search&otracker1=search&fm=organic&iid=a35484ac-03fc-428d-ac61-c7c96712a1ac.MOBGS7GYGUAJ4UYZ.SEARCH&ppt=hp&ppn=homepage&ssid=7gn4beomgw0000001694263541535&qH=16e35e1c76bc3b93', 'https://www.flipkart.com/redmi-note-12-ice-blue-64-gb/p/itmee415766dfc1a?pid=MOBGNYHZYZ4CNTCM&lid=LSTMOBGNYHZYZ4CNTCMVONB0S&marketplace=FLIPKART&q=redmi+smartphone&store=tyy%2F4io&srno=s_1_22&otracker=search&otracker1=search&fm=organic&iid=a35484ac-03fc-428d-ac61-c7c96712a1ac.MOBGNYHZYZ4CNTCM.SEARCH&ppt=hp&ppn=homepage&ssid=7gn4beomgw0000001694263541535&qH=16e35e1c76bc3b93', 'https://www.flipkart.com/redmi-note-12-lunar-black-64-gb/p/itm6756d6e7a86be?pid=MOBGNYHZJGGE3ZHM&lid=LSTMOBGNYHZJGGE3ZHMWSTXBO&marketplace=FLIPKART&q=redmi+smartphone&store=tyy%2F4io&srno=s_1_23&otracker=search&otracker1=search&fm=organic&iid=a35484ac-03fc-428d-ac61-c7c96712a1ac.MOBGNYHZJGGE3ZHM.SEARCH&ppt=hp&ppn=homepage&ssid=7gn4beomgw0000001694263541535&qH=16e35e1c76bc3b93', 'https://www.flipkart.com/redmi-note-12-sunrise-gold-64-gb/p/itm5d170187bcbf0?pid=MOBGNYHZ7ZGHES2V&lid=LSTMOBGNYHZ7ZGHES2VQILAET&marketplace=FLIPKART&q=redmi+smartphone&store=tyy%2F4io&srno=s_1_24&otracker=search&otracker1=search&fm=organic&iid=a35484ac-03fc-428d-ac61-c7c96712a1ac.MOBGNYHZ7ZGHES2V.SEARCH&ppt=hp&ppn=homepage&ssid=7gn4beomgw0000001694263541535&qH=16e35e1c76bc3b93']\n"
     ]
    },
    {
     "name": "stdout",
     "output_type": "stream",
     "text": [
      "['https://www.flipkart.com/redmi-12-moonstone-silver-128-gb/p/itme52e778c12701?pid=MOBGRMFK2MGRNG4Q&lid=LSTMOBGRMFK2MGRNG4QFZLVXT&marketplace=FLIPKART&q=redmi+smartphone&store=tyy%2F4io&spotlightTagId=BestsellerId_tyy%2F4io&srno=s_1_1&otracker=search&otracker1=search&fm=Search&iid=a35484ac-03fc-428d-ac61-c7c96712a1ac.MOBGRMFK2MGRNG4Q.SEARCH&ppt=sp&ppn=sp&ssid=7gn4beomgw0000001694263541535&qH=16e35e1c76bc3b93', 'https://www.flipkart.com/redmi-11-prime-peppy-purple-128-gb/p/itm52d6b0fe396e9?pid=MOBGZHFGUHYSHQYM&lid=LSTMOBGZHFGUHYSHQYMWGOOJ0&marketplace=FLIPKART&q=redmi+smartphone&store=tyy%2F4io&srno=s_1_2&otracker=search&otracker1=search&fm=organic&iid=a35484ac-03fc-428d-ac61-c7c96712a1ac.MOBGZHFGUHYSHQYM.SEARCH&ppt=hp&ppn=homepage&ssid=7gn4beomgw0000001694263541535&qH=16e35e1c76bc3b93', 'https://www.flipkart.com/redmi-12-jade-black-128-gb/p/itm7b10fd42f78b2?pid=MOBGRMFKKDQ2A3V4&lid=LSTMOBGRMFKKDQ2A3V4XZOVEW&marketplace=FLIPKART&q=redmi+smartphone&store=tyy%2F4io&spotlightTagId=BestsellerId_tyy%2F4io&srno=s_1_3&otracker=search&otracker1=search&fm=organic&iid=a35484ac-03fc-428d-ac61-c7c96712a1ac.MOBGRMFKKDQ2A3V4.SEARCH&ppt=hp&ppn=homepage&ssid=7gn4beomgw0000001694263541535&qH=16e35e1c76bc3b93', 'https://www.flipkart.com/redmi-12-pastel-blue-128-gb/p/itm48719506a7ceb?pid=MOBGRMFKKGYD9ETX&lid=LSTMOBGRMFKKGYD9ETX5KD9VL&marketplace=FLIPKART&q=redmi+smartphone&store=tyy%2F4io&spotlightTagId=BestsellerId_tyy%2F4io&srno=s_1_4&otracker=search&otracker1=search&fm=organic&iid=a35484ac-03fc-428d-ac61-c7c96712a1ac.MOBGRMFKKGYD9ETX.SEARCH&ppt=hp&ppn=homepage&ssid=7gn4beomgw0000001694263541535&qH=16e35e1c76bc3b93', 'https://www.flipkart.com/redmi-a1-black-32-gb/p/itm70b00a77a7d1d?pid=MOBGGYBABVXHHRDQ&lid=LSTMOBGGYBABVXHHRDQI6PZV5&marketplace=FLIPKART&q=redmi+smartphone&store=tyy%2F4io&srno=s_1_5&otracker=search&otracker1=search&fm=organic&iid=a35484ac-03fc-428d-ac61-c7c96712a1ac.MOBGGYBABVXHHRDQ.SEARCH&ppt=hp&ppn=homepage&ssid=7gn4beomgw0000001694263541535&qH=16e35e1c76bc3b93', 'https://www.flipkart.com/redmi-a2-aqua-blue-64-gb/p/itm5d49be2c0a95a?pid=MOBGR4UZWNAYKSUH&lid=LSTMOBGR4UZWNAYKSUHE3CTOU&marketplace=FLIPKART&q=redmi+smartphone&store=tyy%2F4io&srno=s_1_6&otracker=search&otracker1=search&fm=organic&iid=a35484ac-03fc-428d-ac61-c7c96712a1ac.MOBGR4UZWNAYKSUH.SEARCH&ppt=hp&ppn=homepage&ssid=7gn4beomgw0000001694263541535&qH=16e35e1c76bc3b93', 'https://www.flipkart.com/redmi-a2-classic-black-64-gb/p/itm5d49be2c0a95a?pid=MOBGPVYHRXZ3PFZU&lid=LSTMOBGPVYHRXZ3PFZU0QHLLF&marketplace=FLIPKART&q=redmi+smartphone&store=tyy%2F4io&srno=s_1_7&otracker=search&otracker1=search&fm=organic&iid=a35484ac-03fc-428d-ac61-c7c96712a1ac.MOBGPVYHRXZ3PFZU.SEARCH&ppt=hp&ppn=homepage&ssid=7gn4beomgw0000001694263541535&qH=16e35e1c76bc3b93', 'https://www.flipkart.com/redmi-a2-sea-green-32-gb/p/itm5d49be2c0a95a?pid=MOBGPVYATHJDTSSR&lid=LSTMOBGPVYATHJDTSSR6JMF4X&marketplace=FLIPKART&q=redmi+smartphone&store=tyy%2F4io&srno=s_1_8&otracker=search&otracker1=search&fm=organic&iid=a35484ac-03fc-428d-ac61-c7c96712a1ac.MOBGPVYATHJDTSSR.SEARCH&ppt=hp&ppn=homepage&ssid=7gn4beomgw0000001694263541535&qH=16e35e1c76bc3b93', 'https://www.flipkart.com/redmi-a2-aqua-blue-64-gb/p/itm5d49be2c0a95a?pid=MOBGPVYMG9RWX6XY&lid=LSTMOBGPVYMG9RWX6XYCWTZEK&marketplace=FLIPKART&q=redmi+smartphone&store=tyy%2F4io&srno=s_1_9&otracker=search&otracker1=search&fm=organic&iid=a35484ac-03fc-428d-ac61-c7c96712a1ac.MOBGPVYMG9RWX6XY.SEARCH&ppt=hp&ppn=homepage&ssid=7gn4beomgw0000001694263541535&qH=16e35e1c76bc3b93', 'https://www.flipkart.com/redmi-12-pastel-blue-128-gb/p/itm9b1a6640faccd?pid=MOBGRMFKAHNTZPWE&lid=LSTMOBGRMFKAHNTZPWE1H5IWS&marketplace=FLIPKART&q=redmi+smartphone&store=tyy%2F4io&srno=s_1_10&otracker=search&otracker1=search&fm=organic&iid=a35484ac-03fc-428d-ac61-c7c96712a1ac.MOBGRMFKAHNTZPWE.SEARCH&ppt=hp&ppn=homepage&ssid=7gn4beomgw0000001694263541535&qH=16e35e1c76bc3b93', 'https://www.flipkart.com/redmi-a2-aqua-blue-32-gb/p/itm5d49be2c0a95a?pid=MOBGPUZR8GHCE5ZQ&lid=LSTMOBGPUZR8GHCE5ZQ1P4DF9&marketplace=FLIPKART&q=redmi+smartphone&store=tyy%2F4io&srno=s_1_11&otracker=search&otracker1=search&fm=organic&iid=a35484ac-03fc-428d-ac61-c7c96712a1ac.MOBGPUZR8GHCE5ZQ.SEARCH&ppt=hp&ppn=homepage&ssid=7gn4beomgw0000001694263541535&qH=16e35e1c76bc3b93', 'https://www.flipkart.com/redmi-10-power-power-black-128-gb/p/itm97f5d2ec83588?pid=MOBGHDXFYKKZFZGV&lid=LSTMOBGHDXFYKKZFZGVE0QYTC&marketplace=FLIPKART&q=redmi+smartphone&store=tyy%2F4io&srno=s_1_12&otracker=search&otracker1=search&fm=organic&iid=a35484ac-03fc-428d-ac61-c7c96712a1ac.MOBGHDXFYKKZFZGV.SEARCH&ppt=hp&ppn=homepage&ssid=7gn4beomgw0000001694263541535&qH=16e35e1c76bc3b93', 'https://www.flipkart.com/redmi-6a-blue-16-gb/p/itm1ed294a755383?pid=MOBF9Z2Z3YDBSF6V&lid=LSTMOBF9Z2Z3YDBSF6VX16ZOH&marketplace=FLIPKART&q=redmi+smartphone&store=tyy%2F4io&srno=s_1_13&otracker=search&otracker1=search&fm=organic&iid=a35484ac-03fc-428d-ac61-c7c96712a1ac.MOBF9Z2Z3YDBSF6V.SEARCH&ppt=hp&ppn=homepage&ssid=7gn4beomgw0000001694263541535&qH=16e35e1c76bc3b93', 'https://www.flipkart.com/redmi-12-moonstone-silver-128-gb/p/itm6722b15672602?pid=MOBGRMFK4CSR7GGH&lid=LSTMOBGRMFK4CSR7GGHHKEX2Z&marketplace=FLIPKART&q=redmi+smartphone&store=tyy%2F4io&srno=s_1_14&otracker=search&otracker1=search&fm=organic&iid=a35484ac-03fc-428d-ac61-c7c96712a1ac.MOBGRMFK4CSR7GGH.SEARCH&ppt=hp&ppn=homepage&ssid=7gn4beomgw0000001694263541535&qH=16e35e1c76bc3b93', 'https://www.flipkart.com/redmi-a1-light-green-32-gb/p/itmecc9e7ba0a1df?pid=MOBGGYBAHSAJVKHP&lid=LSTMOBGGYBAHSAJVKHP4UBD9A&marketplace=FLIPKART&q=redmi+smartphone&store=tyy%2F4io&srno=s_1_15&otracker=search&otracker1=search&fm=organic&iid=a35484ac-03fc-428d-ac61-c7c96712a1ac.MOBGGYBAHSAJVKHP.SEARCH&ppt=hp&ppn=homepage&ssid=7gn4beomgw0000001694263541535&qH=16e35e1c76bc3b93', 'https://www.flipkart.com/redmi-11-prime-flashy-black-128-gb/p/itm01f508ea28ab0?pid=MOBGZHFGNDNWAZKZ&lid=LSTMOBGZHFGNDNWAZKZUMANTL&marketplace=FLIPKART&q=redmi+smartphone&store=tyy%2F4io&srno=s_1_16&otracker=search&otracker1=search&fm=organic&iid=a35484ac-03fc-428d-ac61-c7c96712a1ac.MOBGZHFGNDNWAZKZ.SEARCH&ppt=hp&ppn=homepage&ssid=7gn4beomgw0000001694263541535&qH=16e35e1c76bc3b93', 'https://www.flipkart.com/redmi-11-prime-playful-green-128-gb/p/itm0b080e6994972?pid=MOBGZHFGZQMESCDK&lid=LSTMOBGZHFGZQMESCDKZ6ILTE&marketplace=FLIPKART&q=redmi+smartphone&store=tyy%2F4io&srno=s_1_17&otracker=search&otracker1=search&fm=organic&iid=a35484ac-03fc-428d-ac61-c7c96712a1ac.MOBGZHFGZQMESCDK.SEARCH&ppt=hp&ppn=homepage&ssid=7gn4beomgw0000001694263541535&qH=16e35e1c76bc3b93', 'https://www.flipkart.com/redmi-a2-sea-green-64-gb/p/itm5d49be2c0a95a?pid=MOBGPVYEHMPGNCBZ&lid=LSTMOBGPVYEHMPGNCBZHUKI4Z&marketplace=FLIPKART&q=redmi+smartphone&store=tyy%2F4io&srno=s_1_18&otracker=search&otracker1=search&fm=organic&iid=a35484ac-03fc-428d-ac61-c7c96712a1ac.MOBGPVYEHMPGNCBZ.SEARCH&ppt=hp&ppn=homepage&ssid=7gn4beomgw0000001694263541535&qH=16e35e1c76bc3b93', 'https://www.flipkart.com/redmi-a2-classic-black-64-gb/p/itm5d49be2c0a95a?pid=MOBGRHB6XAEUADQB&lid=LSTMOBGRHB6XAEUADQBAI4AJ4&marketplace=FLIPKART&q=redmi+smartphone&store=tyy%2F4io&srno=s_1_19&otracker=search&otracker1=search&fm=organic&iid=a35484ac-03fc-428d-ac61-c7c96712a1ac.MOBGRHB6XAEUADQB.SEARCH&ppt=hp&ppn=homepage&ssid=7gn4beomgw0000001694263541535&qH=16e35e1c76bc3b93', 'https://www.flipkart.com/redmi-12-jade-black-128-gb/p/itmb7050ec01c09f?pid=MOBGRMFKTHKQSJEG&lid=LSTMOBGRMFKTHKQSJEGQK3FM2&marketplace=FLIPKART&q=redmi+smartphone&store=tyy%2F4io&srno=s_1_20&otracker=search&otracker1=search&fm=organic&iid=a35484ac-03fc-428d-ac61-c7c96712a1ac.MOBGRMFKTHKQSJEG.SEARCH&ppt=hp&ppn=homepage&ssid=7gn4beomgw0000001694263541535&qH=16e35e1c76bc3b93', 'https://www.flipkart.com/redmi-12-5g-jade-black-128-gb/p/itm0c8ba13f6fc5b?pid=MOBGS7GYGUAJ4UYZ&lid=LSTMOBGS7GYGUAJ4UYZQQUS5Q&marketplace=FLIPKART&q=redmi+smartphone&store=tyy%2F4io&srno=s_1_21&otracker=search&otracker1=search&fm=organic&iid=a35484ac-03fc-428d-ac61-c7c96712a1ac.MOBGS7GYGUAJ4UYZ.SEARCH&ppt=hp&ppn=homepage&ssid=7gn4beomgw0000001694263541535&qH=16e35e1c76bc3b93', 'https://www.flipkart.com/redmi-note-12-ice-blue-64-gb/p/itmee415766dfc1a?pid=MOBGNYHZYZ4CNTCM&lid=LSTMOBGNYHZYZ4CNTCMVONB0S&marketplace=FLIPKART&q=redmi+smartphone&store=tyy%2F4io&srno=s_1_22&otracker=search&otracker1=search&fm=organic&iid=a35484ac-03fc-428d-ac61-c7c96712a1ac.MOBGNYHZYZ4CNTCM.SEARCH&ppt=hp&ppn=homepage&ssid=7gn4beomgw0000001694263541535&qH=16e35e1c76bc3b93', 'https://www.flipkart.com/redmi-note-12-lunar-black-64-gb/p/itm6756d6e7a86be?pid=MOBGNYHZJGGE3ZHM&lid=LSTMOBGNYHZJGGE3ZHMWSTXBO&marketplace=FLIPKART&q=redmi+smartphone&store=tyy%2F4io&srno=s_1_23&otracker=search&otracker1=search&fm=organic&iid=a35484ac-03fc-428d-ac61-c7c96712a1ac.MOBGNYHZJGGE3ZHM.SEARCH&ppt=hp&ppn=homepage&ssid=7gn4beomgw0000001694263541535&qH=16e35e1c76bc3b93', 'https://www.flipkart.com/redmi-note-12-sunrise-gold-64-gb/p/itm5d170187bcbf0?pid=MOBGNYHZ7ZGHES2V&lid=LSTMOBGNYHZ7ZGHES2VQILAET&marketplace=FLIPKART&q=redmi+smartphone&store=tyy%2F4io&srno=s_1_24&otracker=search&otracker1=search&fm=organic&iid=a35484ac-03fc-428d-ac61-c7c96712a1ac.MOBGNYHZ7ZGHES2V.SEARCH&ppt=hp&ppn=homepage&ssid=7gn4beomgw0000001694263541535&qH=16e35e1c76bc3b93']\n",
      "['https://www.flipkart.com/redmi-12-moonstone-silver-128-gb/p/itme52e778c12701?pid=MOBGRMFK2MGRNG4Q&lid=LSTMOBGRMFK2MGRNG4QFZLVXT&marketplace=FLIPKART&q=redmi+smartphone&store=tyy%2F4io&spotlightTagId=BestsellerId_tyy%2F4io&srno=s_1_1&otracker=search&otracker1=search&fm=Search&iid=a35484ac-03fc-428d-ac61-c7c96712a1ac.MOBGRMFK2MGRNG4Q.SEARCH&ppt=sp&ppn=sp&ssid=7gn4beomgw0000001694263541535&qH=16e35e1c76bc3b93', 'https://www.flipkart.com/redmi-11-prime-peppy-purple-128-gb/p/itm52d6b0fe396e9?pid=MOBGZHFGUHYSHQYM&lid=LSTMOBGZHFGUHYSHQYMWGOOJ0&marketplace=FLIPKART&q=redmi+smartphone&store=tyy%2F4io&srno=s_1_2&otracker=search&otracker1=search&fm=organic&iid=a35484ac-03fc-428d-ac61-c7c96712a1ac.MOBGZHFGUHYSHQYM.SEARCH&ppt=hp&ppn=homepage&ssid=7gn4beomgw0000001694263541535&qH=16e35e1c76bc3b93', 'https://www.flipkart.com/redmi-12-jade-black-128-gb/p/itm7b10fd42f78b2?pid=MOBGRMFKKDQ2A3V4&lid=LSTMOBGRMFKKDQ2A3V4XZOVEW&marketplace=FLIPKART&q=redmi+smartphone&store=tyy%2F4io&spotlightTagId=BestsellerId_tyy%2F4io&srno=s_1_3&otracker=search&otracker1=search&fm=organic&iid=a35484ac-03fc-428d-ac61-c7c96712a1ac.MOBGRMFKKDQ2A3V4.SEARCH&ppt=hp&ppn=homepage&ssid=7gn4beomgw0000001694263541535&qH=16e35e1c76bc3b93', 'https://www.flipkart.com/redmi-12-pastel-blue-128-gb/p/itm48719506a7ceb?pid=MOBGRMFKKGYD9ETX&lid=LSTMOBGRMFKKGYD9ETX5KD9VL&marketplace=FLIPKART&q=redmi+smartphone&store=tyy%2F4io&spotlightTagId=BestsellerId_tyy%2F4io&srno=s_1_4&otracker=search&otracker1=search&fm=organic&iid=a35484ac-03fc-428d-ac61-c7c96712a1ac.MOBGRMFKKGYD9ETX.SEARCH&ppt=hp&ppn=homepage&ssid=7gn4beomgw0000001694263541535&qH=16e35e1c76bc3b93', 'https://www.flipkart.com/redmi-a1-black-32-gb/p/itm70b00a77a7d1d?pid=MOBGGYBABVXHHRDQ&lid=LSTMOBGGYBABVXHHRDQI6PZV5&marketplace=FLIPKART&q=redmi+smartphone&store=tyy%2F4io&srno=s_1_5&otracker=search&otracker1=search&fm=organic&iid=a35484ac-03fc-428d-ac61-c7c96712a1ac.MOBGGYBABVXHHRDQ.SEARCH&ppt=hp&ppn=homepage&ssid=7gn4beomgw0000001694263541535&qH=16e35e1c76bc3b93', 'https://www.flipkart.com/redmi-a2-aqua-blue-64-gb/p/itm5d49be2c0a95a?pid=MOBGR4UZWNAYKSUH&lid=LSTMOBGR4UZWNAYKSUHE3CTOU&marketplace=FLIPKART&q=redmi+smartphone&store=tyy%2F4io&srno=s_1_6&otracker=search&otracker1=search&fm=organic&iid=a35484ac-03fc-428d-ac61-c7c96712a1ac.MOBGR4UZWNAYKSUH.SEARCH&ppt=hp&ppn=homepage&ssid=7gn4beomgw0000001694263541535&qH=16e35e1c76bc3b93', 'https://www.flipkart.com/redmi-a2-classic-black-64-gb/p/itm5d49be2c0a95a?pid=MOBGPVYHRXZ3PFZU&lid=LSTMOBGPVYHRXZ3PFZU0QHLLF&marketplace=FLIPKART&q=redmi+smartphone&store=tyy%2F4io&srno=s_1_7&otracker=search&otracker1=search&fm=organic&iid=a35484ac-03fc-428d-ac61-c7c96712a1ac.MOBGPVYHRXZ3PFZU.SEARCH&ppt=hp&ppn=homepage&ssid=7gn4beomgw0000001694263541535&qH=16e35e1c76bc3b93', 'https://www.flipkart.com/redmi-a2-sea-green-32-gb/p/itm5d49be2c0a95a?pid=MOBGPVYATHJDTSSR&lid=LSTMOBGPVYATHJDTSSR6JMF4X&marketplace=FLIPKART&q=redmi+smartphone&store=tyy%2F4io&srno=s_1_8&otracker=search&otracker1=search&fm=organic&iid=a35484ac-03fc-428d-ac61-c7c96712a1ac.MOBGPVYATHJDTSSR.SEARCH&ppt=hp&ppn=homepage&ssid=7gn4beomgw0000001694263541535&qH=16e35e1c76bc3b93', 'https://www.flipkart.com/redmi-a2-aqua-blue-64-gb/p/itm5d49be2c0a95a?pid=MOBGPVYMG9RWX6XY&lid=LSTMOBGPVYMG9RWX6XYCWTZEK&marketplace=FLIPKART&q=redmi+smartphone&store=tyy%2F4io&srno=s_1_9&otracker=search&otracker1=search&fm=organic&iid=a35484ac-03fc-428d-ac61-c7c96712a1ac.MOBGPVYMG9RWX6XY.SEARCH&ppt=hp&ppn=homepage&ssid=7gn4beomgw0000001694263541535&qH=16e35e1c76bc3b93', 'https://www.flipkart.com/redmi-12-pastel-blue-128-gb/p/itm9b1a6640faccd?pid=MOBGRMFKAHNTZPWE&lid=LSTMOBGRMFKAHNTZPWE1H5IWS&marketplace=FLIPKART&q=redmi+smartphone&store=tyy%2F4io&srno=s_1_10&otracker=search&otracker1=search&fm=organic&iid=a35484ac-03fc-428d-ac61-c7c96712a1ac.MOBGRMFKAHNTZPWE.SEARCH&ppt=hp&ppn=homepage&ssid=7gn4beomgw0000001694263541535&qH=16e35e1c76bc3b93', 'https://www.flipkart.com/redmi-a2-aqua-blue-32-gb/p/itm5d49be2c0a95a?pid=MOBGPUZR8GHCE5ZQ&lid=LSTMOBGPUZR8GHCE5ZQ1P4DF9&marketplace=FLIPKART&q=redmi+smartphone&store=tyy%2F4io&srno=s_1_11&otracker=search&otracker1=search&fm=organic&iid=a35484ac-03fc-428d-ac61-c7c96712a1ac.MOBGPUZR8GHCE5ZQ.SEARCH&ppt=hp&ppn=homepage&ssid=7gn4beomgw0000001694263541535&qH=16e35e1c76bc3b93', 'https://www.flipkart.com/redmi-10-power-power-black-128-gb/p/itm97f5d2ec83588?pid=MOBGHDXFYKKZFZGV&lid=LSTMOBGHDXFYKKZFZGVE0QYTC&marketplace=FLIPKART&q=redmi+smartphone&store=tyy%2F4io&srno=s_1_12&otracker=search&otracker1=search&fm=organic&iid=a35484ac-03fc-428d-ac61-c7c96712a1ac.MOBGHDXFYKKZFZGV.SEARCH&ppt=hp&ppn=homepage&ssid=7gn4beomgw0000001694263541535&qH=16e35e1c76bc3b93', 'https://www.flipkart.com/redmi-6a-blue-16-gb/p/itm1ed294a755383?pid=MOBF9Z2Z3YDBSF6V&lid=LSTMOBF9Z2Z3YDBSF6VX16ZOH&marketplace=FLIPKART&q=redmi+smartphone&store=tyy%2F4io&srno=s_1_13&otracker=search&otracker1=search&fm=organic&iid=a35484ac-03fc-428d-ac61-c7c96712a1ac.MOBF9Z2Z3YDBSF6V.SEARCH&ppt=hp&ppn=homepage&ssid=7gn4beomgw0000001694263541535&qH=16e35e1c76bc3b93', 'https://www.flipkart.com/redmi-12-moonstone-silver-128-gb/p/itm6722b15672602?pid=MOBGRMFK4CSR7GGH&lid=LSTMOBGRMFK4CSR7GGHHKEX2Z&marketplace=FLIPKART&q=redmi+smartphone&store=tyy%2F4io&srno=s_1_14&otracker=search&otracker1=search&fm=organic&iid=a35484ac-03fc-428d-ac61-c7c96712a1ac.MOBGRMFK4CSR7GGH.SEARCH&ppt=hp&ppn=homepage&ssid=7gn4beomgw0000001694263541535&qH=16e35e1c76bc3b93', 'https://www.flipkart.com/redmi-a1-light-green-32-gb/p/itmecc9e7ba0a1df?pid=MOBGGYBAHSAJVKHP&lid=LSTMOBGGYBAHSAJVKHP4UBD9A&marketplace=FLIPKART&q=redmi+smartphone&store=tyy%2F4io&srno=s_1_15&otracker=search&otracker1=search&fm=organic&iid=a35484ac-03fc-428d-ac61-c7c96712a1ac.MOBGGYBAHSAJVKHP.SEARCH&ppt=hp&ppn=homepage&ssid=7gn4beomgw0000001694263541535&qH=16e35e1c76bc3b93', 'https://www.flipkart.com/redmi-11-prime-flashy-black-128-gb/p/itm01f508ea28ab0?pid=MOBGZHFGNDNWAZKZ&lid=LSTMOBGZHFGNDNWAZKZUMANTL&marketplace=FLIPKART&q=redmi+smartphone&store=tyy%2F4io&srno=s_1_16&otracker=search&otracker1=search&fm=organic&iid=a35484ac-03fc-428d-ac61-c7c96712a1ac.MOBGZHFGNDNWAZKZ.SEARCH&ppt=hp&ppn=homepage&ssid=7gn4beomgw0000001694263541535&qH=16e35e1c76bc3b93', 'https://www.flipkart.com/redmi-11-prime-playful-green-128-gb/p/itm0b080e6994972?pid=MOBGZHFGZQMESCDK&lid=LSTMOBGZHFGZQMESCDKZ6ILTE&marketplace=FLIPKART&q=redmi+smartphone&store=tyy%2F4io&srno=s_1_17&otracker=search&otracker1=search&fm=organic&iid=a35484ac-03fc-428d-ac61-c7c96712a1ac.MOBGZHFGZQMESCDK.SEARCH&ppt=hp&ppn=homepage&ssid=7gn4beomgw0000001694263541535&qH=16e35e1c76bc3b93', 'https://www.flipkart.com/redmi-a2-sea-green-64-gb/p/itm5d49be2c0a95a?pid=MOBGPVYEHMPGNCBZ&lid=LSTMOBGPVYEHMPGNCBZHUKI4Z&marketplace=FLIPKART&q=redmi+smartphone&store=tyy%2F4io&srno=s_1_18&otracker=search&otracker1=search&fm=organic&iid=a35484ac-03fc-428d-ac61-c7c96712a1ac.MOBGPVYEHMPGNCBZ.SEARCH&ppt=hp&ppn=homepage&ssid=7gn4beomgw0000001694263541535&qH=16e35e1c76bc3b93', 'https://www.flipkart.com/redmi-a2-classic-black-64-gb/p/itm5d49be2c0a95a?pid=MOBGRHB6XAEUADQB&lid=LSTMOBGRHB6XAEUADQBAI4AJ4&marketplace=FLIPKART&q=redmi+smartphone&store=tyy%2F4io&srno=s_1_19&otracker=search&otracker1=search&fm=organic&iid=a35484ac-03fc-428d-ac61-c7c96712a1ac.MOBGRHB6XAEUADQB.SEARCH&ppt=hp&ppn=homepage&ssid=7gn4beomgw0000001694263541535&qH=16e35e1c76bc3b93', 'https://www.flipkart.com/redmi-12-jade-black-128-gb/p/itmb7050ec01c09f?pid=MOBGRMFKTHKQSJEG&lid=LSTMOBGRMFKTHKQSJEGQK3FM2&marketplace=FLIPKART&q=redmi+smartphone&store=tyy%2F4io&srno=s_1_20&otracker=search&otracker1=search&fm=organic&iid=a35484ac-03fc-428d-ac61-c7c96712a1ac.MOBGRMFKTHKQSJEG.SEARCH&ppt=hp&ppn=homepage&ssid=7gn4beomgw0000001694263541535&qH=16e35e1c76bc3b93', 'https://www.flipkart.com/redmi-12-5g-jade-black-128-gb/p/itm0c8ba13f6fc5b?pid=MOBGS7GYGUAJ4UYZ&lid=LSTMOBGS7GYGUAJ4UYZQQUS5Q&marketplace=FLIPKART&q=redmi+smartphone&store=tyy%2F4io&srno=s_1_21&otracker=search&otracker1=search&fm=organic&iid=a35484ac-03fc-428d-ac61-c7c96712a1ac.MOBGS7GYGUAJ4UYZ.SEARCH&ppt=hp&ppn=homepage&ssid=7gn4beomgw0000001694263541535&qH=16e35e1c76bc3b93', 'https://www.flipkart.com/redmi-note-12-ice-blue-64-gb/p/itmee415766dfc1a?pid=MOBGNYHZYZ4CNTCM&lid=LSTMOBGNYHZYZ4CNTCMVONB0S&marketplace=FLIPKART&q=redmi+smartphone&store=tyy%2F4io&srno=s_1_22&otracker=search&otracker1=search&fm=organic&iid=a35484ac-03fc-428d-ac61-c7c96712a1ac.MOBGNYHZYZ4CNTCM.SEARCH&ppt=hp&ppn=homepage&ssid=7gn4beomgw0000001694263541535&qH=16e35e1c76bc3b93', 'https://www.flipkart.com/redmi-note-12-lunar-black-64-gb/p/itm6756d6e7a86be?pid=MOBGNYHZJGGE3ZHM&lid=LSTMOBGNYHZJGGE3ZHMWSTXBO&marketplace=FLIPKART&q=redmi+smartphone&store=tyy%2F4io&srno=s_1_23&otracker=search&otracker1=search&fm=organic&iid=a35484ac-03fc-428d-ac61-c7c96712a1ac.MOBGNYHZJGGE3ZHM.SEARCH&ppt=hp&ppn=homepage&ssid=7gn4beomgw0000001694263541535&qH=16e35e1c76bc3b93', 'https://www.flipkart.com/redmi-note-12-sunrise-gold-64-gb/p/itm5d170187bcbf0?pid=MOBGNYHZ7ZGHES2V&lid=LSTMOBGNYHZ7ZGHES2VQILAET&marketplace=FLIPKART&q=redmi+smartphone&store=tyy%2F4io&srno=s_1_24&otracker=search&otracker1=search&fm=organic&iid=a35484ac-03fc-428d-ac61-c7c96712a1ac.MOBGNYHZ7ZGHES2V.SEARCH&ppt=hp&ppn=homepage&ssid=7gn4beomgw0000001694263541535&qH=16e35e1c76bc3b93']\n"
     ]
    },
    {
     "name": "stdout",
     "output_type": "stream",
     "text": [
      "['https://www.flipkart.com/redmi-12-moonstone-silver-128-gb/p/itme52e778c12701?pid=MOBGRMFK2MGRNG4Q&lid=LSTMOBGRMFK2MGRNG4QFZLVXT&marketplace=FLIPKART&q=redmi+smartphone&store=tyy%2F4io&spotlightTagId=BestsellerId_tyy%2F4io&srno=s_1_1&otracker=search&otracker1=search&fm=Search&iid=a35484ac-03fc-428d-ac61-c7c96712a1ac.MOBGRMFK2MGRNG4Q.SEARCH&ppt=sp&ppn=sp&ssid=7gn4beomgw0000001694263541535&qH=16e35e1c76bc3b93', 'https://www.flipkart.com/redmi-11-prime-peppy-purple-128-gb/p/itm52d6b0fe396e9?pid=MOBGZHFGUHYSHQYM&lid=LSTMOBGZHFGUHYSHQYMWGOOJ0&marketplace=FLIPKART&q=redmi+smartphone&store=tyy%2F4io&srno=s_1_2&otracker=search&otracker1=search&fm=organic&iid=a35484ac-03fc-428d-ac61-c7c96712a1ac.MOBGZHFGUHYSHQYM.SEARCH&ppt=hp&ppn=homepage&ssid=7gn4beomgw0000001694263541535&qH=16e35e1c76bc3b93', 'https://www.flipkart.com/redmi-12-jade-black-128-gb/p/itm7b10fd42f78b2?pid=MOBGRMFKKDQ2A3V4&lid=LSTMOBGRMFKKDQ2A3V4XZOVEW&marketplace=FLIPKART&q=redmi+smartphone&store=tyy%2F4io&spotlightTagId=BestsellerId_tyy%2F4io&srno=s_1_3&otracker=search&otracker1=search&fm=organic&iid=a35484ac-03fc-428d-ac61-c7c96712a1ac.MOBGRMFKKDQ2A3V4.SEARCH&ppt=hp&ppn=homepage&ssid=7gn4beomgw0000001694263541535&qH=16e35e1c76bc3b93', 'https://www.flipkart.com/redmi-12-pastel-blue-128-gb/p/itm48719506a7ceb?pid=MOBGRMFKKGYD9ETX&lid=LSTMOBGRMFKKGYD9ETX5KD9VL&marketplace=FLIPKART&q=redmi+smartphone&store=tyy%2F4io&spotlightTagId=BestsellerId_tyy%2F4io&srno=s_1_4&otracker=search&otracker1=search&fm=organic&iid=a35484ac-03fc-428d-ac61-c7c96712a1ac.MOBGRMFKKGYD9ETX.SEARCH&ppt=hp&ppn=homepage&ssid=7gn4beomgw0000001694263541535&qH=16e35e1c76bc3b93', 'https://www.flipkart.com/redmi-a1-black-32-gb/p/itm70b00a77a7d1d?pid=MOBGGYBABVXHHRDQ&lid=LSTMOBGGYBABVXHHRDQI6PZV5&marketplace=FLIPKART&q=redmi+smartphone&store=tyy%2F4io&srno=s_1_5&otracker=search&otracker1=search&fm=organic&iid=a35484ac-03fc-428d-ac61-c7c96712a1ac.MOBGGYBABVXHHRDQ.SEARCH&ppt=hp&ppn=homepage&ssid=7gn4beomgw0000001694263541535&qH=16e35e1c76bc3b93', 'https://www.flipkart.com/redmi-a2-aqua-blue-64-gb/p/itm5d49be2c0a95a?pid=MOBGR4UZWNAYKSUH&lid=LSTMOBGR4UZWNAYKSUHE3CTOU&marketplace=FLIPKART&q=redmi+smartphone&store=tyy%2F4io&srno=s_1_6&otracker=search&otracker1=search&fm=organic&iid=a35484ac-03fc-428d-ac61-c7c96712a1ac.MOBGR4UZWNAYKSUH.SEARCH&ppt=hp&ppn=homepage&ssid=7gn4beomgw0000001694263541535&qH=16e35e1c76bc3b93', 'https://www.flipkart.com/redmi-a2-classic-black-64-gb/p/itm5d49be2c0a95a?pid=MOBGPVYHRXZ3PFZU&lid=LSTMOBGPVYHRXZ3PFZU0QHLLF&marketplace=FLIPKART&q=redmi+smartphone&store=tyy%2F4io&srno=s_1_7&otracker=search&otracker1=search&fm=organic&iid=a35484ac-03fc-428d-ac61-c7c96712a1ac.MOBGPVYHRXZ3PFZU.SEARCH&ppt=hp&ppn=homepage&ssid=7gn4beomgw0000001694263541535&qH=16e35e1c76bc3b93', 'https://www.flipkart.com/redmi-a2-sea-green-32-gb/p/itm5d49be2c0a95a?pid=MOBGPVYATHJDTSSR&lid=LSTMOBGPVYATHJDTSSR6JMF4X&marketplace=FLIPKART&q=redmi+smartphone&store=tyy%2F4io&srno=s_1_8&otracker=search&otracker1=search&fm=organic&iid=a35484ac-03fc-428d-ac61-c7c96712a1ac.MOBGPVYATHJDTSSR.SEARCH&ppt=hp&ppn=homepage&ssid=7gn4beomgw0000001694263541535&qH=16e35e1c76bc3b93', 'https://www.flipkart.com/redmi-a2-aqua-blue-64-gb/p/itm5d49be2c0a95a?pid=MOBGPVYMG9RWX6XY&lid=LSTMOBGPVYMG9RWX6XYCWTZEK&marketplace=FLIPKART&q=redmi+smartphone&store=tyy%2F4io&srno=s_1_9&otracker=search&otracker1=search&fm=organic&iid=a35484ac-03fc-428d-ac61-c7c96712a1ac.MOBGPVYMG9RWX6XY.SEARCH&ppt=hp&ppn=homepage&ssid=7gn4beomgw0000001694263541535&qH=16e35e1c76bc3b93', 'https://www.flipkart.com/redmi-12-pastel-blue-128-gb/p/itm9b1a6640faccd?pid=MOBGRMFKAHNTZPWE&lid=LSTMOBGRMFKAHNTZPWE1H5IWS&marketplace=FLIPKART&q=redmi+smartphone&store=tyy%2F4io&srno=s_1_10&otracker=search&otracker1=search&fm=organic&iid=a35484ac-03fc-428d-ac61-c7c96712a1ac.MOBGRMFKAHNTZPWE.SEARCH&ppt=hp&ppn=homepage&ssid=7gn4beomgw0000001694263541535&qH=16e35e1c76bc3b93', 'https://www.flipkart.com/redmi-a2-aqua-blue-32-gb/p/itm5d49be2c0a95a?pid=MOBGPUZR8GHCE5ZQ&lid=LSTMOBGPUZR8GHCE5ZQ1P4DF9&marketplace=FLIPKART&q=redmi+smartphone&store=tyy%2F4io&srno=s_1_11&otracker=search&otracker1=search&fm=organic&iid=a35484ac-03fc-428d-ac61-c7c96712a1ac.MOBGPUZR8GHCE5ZQ.SEARCH&ppt=hp&ppn=homepage&ssid=7gn4beomgw0000001694263541535&qH=16e35e1c76bc3b93', 'https://www.flipkart.com/redmi-10-power-power-black-128-gb/p/itm97f5d2ec83588?pid=MOBGHDXFYKKZFZGV&lid=LSTMOBGHDXFYKKZFZGVE0QYTC&marketplace=FLIPKART&q=redmi+smartphone&store=tyy%2F4io&srno=s_1_12&otracker=search&otracker1=search&fm=organic&iid=a35484ac-03fc-428d-ac61-c7c96712a1ac.MOBGHDXFYKKZFZGV.SEARCH&ppt=hp&ppn=homepage&ssid=7gn4beomgw0000001694263541535&qH=16e35e1c76bc3b93', 'https://www.flipkart.com/redmi-6a-blue-16-gb/p/itm1ed294a755383?pid=MOBF9Z2Z3YDBSF6V&lid=LSTMOBF9Z2Z3YDBSF6VX16ZOH&marketplace=FLIPKART&q=redmi+smartphone&store=tyy%2F4io&srno=s_1_13&otracker=search&otracker1=search&fm=organic&iid=a35484ac-03fc-428d-ac61-c7c96712a1ac.MOBF9Z2Z3YDBSF6V.SEARCH&ppt=hp&ppn=homepage&ssid=7gn4beomgw0000001694263541535&qH=16e35e1c76bc3b93', 'https://www.flipkart.com/redmi-12-moonstone-silver-128-gb/p/itm6722b15672602?pid=MOBGRMFK4CSR7GGH&lid=LSTMOBGRMFK4CSR7GGHHKEX2Z&marketplace=FLIPKART&q=redmi+smartphone&store=tyy%2F4io&srno=s_1_14&otracker=search&otracker1=search&fm=organic&iid=a35484ac-03fc-428d-ac61-c7c96712a1ac.MOBGRMFK4CSR7GGH.SEARCH&ppt=hp&ppn=homepage&ssid=7gn4beomgw0000001694263541535&qH=16e35e1c76bc3b93', 'https://www.flipkart.com/redmi-a1-light-green-32-gb/p/itmecc9e7ba0a1df?pid=MOBGGYBAHSAJVKHP&lid=LSTMOBGGYBAHSAJVKHP4UBD9A&marketplace=FLIPKART&q=redmi+smartphone&store=tyy%2F4io&srno=s_1_15&otracker=search&otracker1=search&fm=organic&iid=a35484ac-03fc-428d-ac61-c7c96712a1ac.MOBGGYBAHSAJVKHP.SEARCH&ppt=hp&ppn=homepage&ssid=7gn4beomgw0000001694263541535&qH=16e35e1c76bc3b93', 'https://www.flipkart.com/redmi-11-prime-flashy-black-128-gb/p/itm01f508ea28ab0?pid=MOBGZHFGNDNWAZKZ&lid=LSTMOBGZHFGNDNWAZKZUMANTL&marketplace=FLIPKART&q=redmi+smartphone&store=tyy%2F4io&srno=s_1_16&otracker=search&otracker1=search&fm=organic&iid=a35484ac-03fc-428d-ac61-c7c96712a1ac.MOBGZHFGNDNWAZKZ.SEARCH&ppt=hp&ppn=homepage&ssid=7gn4beomgw0000001694263541535&qH=16e35e1c76bc3b93', 'https://www.flipkart.com/redmi-11-prime-playful-green-128-gb/p/itm0b080e6994972?pid=MOBGZHFGZQMESCDK&lid=LSTMOBGZHFGZQMESCDKZ6ILTE&marketplace=FLIPKART&q=redmi+smartphone&store=tyy%2F4io&srno=s_1_17&otracker=search&otracker1=search&fm=organic&iid=a35484ac-03fc-428d-ac61-c7c96712a1ac.MOBGZHFGZQMESCDK.SEARCH&ppt=hp&ppn=homepage&ssid=7gn4beomgw0000001694263541535&qH=16e35e1c76bc3b93', 'https://www.flipkart.com/redmi-a2-sea-green-64-gb/p/itm5d49be2c0a95a?pid=MOBGPVYEHMPGNCBZ&lid=LSTMOBGPVYEHMPGNCBZHUKI4Z&marketplace=FLIPKART&q=redmi+smartphone&store=tyy%2F4io&srno=s_1_18&otracker=search&otracker1=search&fm=organic&iid=a35484ac-03fc-428d-ac61-c7c96712a1ac.MOBGPVYEHMPGNCBZ.SEARCH&ppt=hp&ppn=homepage&ssid=7gn4beomgw0000001694263541535&qH=16e35e1c76bc3b93', 'https://www.flipkart.com/redmi-a2-classic-black-64-gb/p/itm5d49be2c0a95a?pid=MOBGRHB6XAEUADQB&lid=LSTMOBGRHB6XAEUADQBAI4AJ4&marketplace=FLIPKART&q=redmi+smartphone&store=tyy%2F4io&srno=s_1_19&otracker=search&otracker1=search&fm=organic&iid=a35484ac-03fc-428d-ac61-c7c96712a1ac.MOBGRHB6XAEUADQB.SEARCH&ppt=hp&ppn=homepage&ssid=7gn4beomgw0000001694263541535&qH=16e35e1c76bc3b93', 'https://www.flipkart.com/redmi-12-jade-black-128-gb/p/itmb7050ec01c09f?pid=MOBGRMFKTHKQSJEG&lid=LSTMOBGRMFKTHKQSJEGQK3FM2&marketplace=FLIPKART&q=redmi+smartphone&store=tyy%2F4io&srno=s_1_20&otracker=search&otracker1=search&fm=organic&iid=a35484ac-03fc-428d-ac61-c7c96712a1ac.MOBGRMFKTHKQSJEG.SEARCH&ppt=hp&ppn=homepage&ssid=7gn4beomgw0000001694263541535&qH=16e35e1c76bc3b93', 'https://www.flipkart.com/redmi-12-5g-jade-black-128-gb/p/itm0c8ba13f6fc5b?pid=MOBGS7GYGUAJ4UYZ&lid=LSTMOBGS7GYGUAJ4UYZQQUS5Q&marketplace=FLIPKART&q=redmi+smartphone&store=tyy%2F4io&srno=s_1_21&otracker=search&otracker1=search&fm=organic&iid=a35484ac-03fc-428d-ac61-c7c96712a1ac.MOBGS7GYGUAJ4UYZ.SEARCH&ppt=hp&ppn=homepage&ssid=7gn4beomgw0000001694263541535&qH=16e35e1c76bc3b93', 'https://www.flipkart.com/redmi-note-12-ice-blue-64-gb/p/itmee415766dfc1a?pid=MOBGNYHZYZ4CNTCM&lid=LSTMOBGNYHZYZ4CNTCMVONB0S&marketplace=FLIPKART&q=redmi+smartphone&store=tyy%2F4io&srno=s_1_22&otracker=search&otracker1=search&fm=organic&iid=a35484ac-03fc-428d-ac61-c7c96712a1ac.MOBGNYHZYZ4CNTCM.SEARCH&ppt=hp&ppn=homepage&ssid=7gn4beomgw0000001694263541535&qH=16e35e1c76bc3b93', 'https://www.flipkart.com/redmi-note-12-lunar-black-64-gb/p/itm6756d6e7a86be?pid=MOBGNYHZJGGE3ZHM&lid=LSTMOBGNYHZJGGE3ZHMWSTXBO&marketplace=FLIPKART&q=redmi+smartphone&store=tyy%2F4io&srno=s_1_23&otracker=search&otracker1=search&fm=organic&iid=a35484ac-03fc-428d-ac61-c7c96712a1ac.MOBGNYHZJGGE3ZHM.SEARCH&ppt=hp&ppn=homepage&ssid=7gn4beomgw0000001694263541535&qH=16e35e1c76bc3b93', 'https://www.flipkart.com/redmi-note-12-sunrise-gold-64-gb/p/itm5d170187bcbf0?pid=MOBGNYHZ7ZGHES2V&lid=LSTMOBGNYHZ7ZGHES2VQILAET&marketplace=FLIPKART&q=redmi+smartphone&store=tyy%2F4io&srno=s_1_24&otracker=search&otracker1=search&fm=organic&iid=a35484ac-03fc-428d-ac61-c7c96712a1ac.MOBGNYHZ7ZGHES2V.SEARCH&ppt=hp&ppn=homepage&ssid=7gn4beomgw0000001694263541535&qH=16e35e1c76bc3b93']\n",
      "['https://www.flipkart.com/redmi-12-moonstone-silver-128-gb/p/itme52e778c12701?pid=MOBGRMFK2MGRNG4Q&lid=LSTMOBGRMFK2MGRNG4QFZLVXT&marketplace=FLIPKART&q=redmi+smartphone&store=tyy%2F4io&spotlightTagId=BestsellerId_tyy%2F4io&srno=s_1_1&otracker=search&otracker1=search&fm=Search&iid=a35484ac-03fc-428d-ac61-c7c96712a1ac.MOBGRMFK2MGRNG4Q.SEARCH&ppt=sp&ppn=sp&ssid=7gn4beomgw0000001694263541535&qH=16e35e1c76bc3b93', 'https://www.flipkart.com/redmi-11-prime-peppy-purple-128-gb/p/itm52d6b0fe396e9?pid=MOBGZHFGUHYSHQYM&lid=LSTMOBGZHFGUHYSHQYMWGOOJ0&marketplace=FLIPKART&q=redmi+smartphone&store=tyy%2F4io&srno=s_1_2&otracker=search&otracker1=search&fm=organic&iid=a35484ac-03fc-428d-ac61-c7c96712a1ac.MOBGZHFGUHYSHQYM.SEARCH&ppt=hp&ppn=homepage&ssid=7gn4beomgw0000001694263541535&qH=16e35e1c76bc3b93', 'https://www.flipkart.com/redmi-12-jade-black-128-gb/p/itm7b10fd42f78b2?pid=MOBGRMFKKDQ2A3V4&lid=LSTMOBGRMFKKDQ2A3V4XZOVEW&marketplace=FLIPKART&q=redmi+smartphone&store=tyy%2F4io&spotlightTagId=BestsellerId_tyy%2F4io&srno=s_1_3&otracker=search&otracker1=search&fm=organic&iid=a35484ac-03fc-428d-ac61-c7c96712a1ac.MOBGRMFKKDQ2A3V4.SEARCH&ppt=hp&ppn=homepage&ssid=7gn4beomgw0000001694263541535&qH=16e35e1c76bc3b93', 'https://www.flipkart.com/redmi-12-pastel-blue-128-gb/p/itm48719506a7ceb?pid=MOBGRMFKKGYD9ETX&lid=LSTMOBGRMFKKGYD9ETX5KD9VL&marketplace=FLIPKART&q=redmi+smartphone&store=tyy%2F4io&spotlightTagId=BestsellerId_tyy%2F4io&srno=s_1_4&otracker=search&otracker1=search&fm=organic&iid=a35484ac-03fc-428d-ac61-c7c96712a1ac.MOBGRMFKKGYD9ETX.SEARCH&ppt=hp&ppn=homepage&ssid=7gn4beomgw0000001694263541535&qH=16e35e1c76bc3b93', 'https://www.flipkart.com/redmi-a1-black-32-gb/p/itm70b00a77a7d1d?pid=MOBGGYBABVXHHRDQ&lid=LSTMOBGGYBABVXHHRDQI6PZV5&marketplace=FLIPKART&q=redmi+smartphone&store=tyy%2F4io&srno=s_1_5&otracker=search&otracker1=search&fm=organic&iid=a35484ac-03fc-428d-ac61-c7c96712a1ac.MOBGGYBABVXHHRDQ.SEARCH&ppt=hp&ppn=homepage&ssid=7gn4beomgw0000001694263541535&qH=16e35e1c76bc3b93', 'https://www.flipkart.com/redmi-a2-aqua-blue-64-gb/p/itm5d49be2c0a95a?pid=MOBGR4UZWNAYKSUH&lid=LSTMOBGR4UZWNAYKSUHE3CTOU&marketplace=FLIPKART&q=redmi+smartphone&store=tyy%2F4io&srno=s_1_6&otracker=search&otracker1=search&fm=organic&iid=a35484ac-03fc-428d-ac61-c7c96712a1ac.MOBGR4UZWNAYKSUH.SEARCH&ppt=hp&ppn=homepage&ssid=7gn4beomgw0000001694263541535&qH=16e35e1c76bc3b93', 'https://www.flipkart.com/redmi-a2-classic-black-64-gb/p/itm5d49be2c0a95a?pid=MOBGPVYHRXZ3PFZU&lid=LSTMOBGPVYHRXZ3PFZU0QHLLF&marketplace=FLIPKART&q=redmi+smartphone&store=tyy%2F4io&srno=s_1_7&otracker=search&otracker1=search&fm=organic&iid=a35484ac-03fc-428d-ac61-c7c96712a1ac.MOBGPVYHRXZ3PFZU.SEARCH&ppt=hp&ppn=homepage&ssid=7gn4beomgw0000001694263541535&qH=16e35e1c76bc3b93', 'https://www.flipkart.com/redmi-a2-sea-green-32-gb/p/itm5d49be2c0a95a?pid=MOBGPVYATHJDTSSR&lid=LSTMOBGPVYATHJDTSSR6JMF4X&marketplace=FLIPKART&q=redmi+smartphone&store=tyy%2F4io&srno=s_1_8&otracker=search&otracker1=search&fm=organic&iid=a35484ac-03fc-428d-ac61-c7c96712a1ac.MOBGPVYATHJDTSSR.SEARCH&ppt=hp&ppn=homepage&ssid=7gn4beomgw0000001694263541535&qH=16e35e1c76bc3b93', 'https://www.flipkart.com/redmi-a2-aqua-blue-64-gb/p/itm5d49be2c0a95a?pid=MOBGPVYMG9RWX6XY&lid=LSTMOBGPVYMG9RWX6XYCWTZEK&marketplace=FLIPKART&q=redmi+smartphone&store=tyy%2F4io&srno=s_1_9&otracker=search&otracker1=search&fm=organic&iid=a35484ac-03fc-428d-ac61-c7c96712a1ac.MOBGPVYMG9RWX6XY.SEARCH&ppt=hp&ppn=homepage&ssid=7gn4beomgw0000001694263541535&qH=16e35e1c76bc3b93', 'https://www.flipkart.com/redmi-12-pastel-blue-128-gb/p/itm9b1a6640faccd?pid=MOBGRMFKAHNTZPWE&lid=LSTMOBGRMFKAHNTZPWE1H5IWS&marketplace=FLIPKART&q=redmi+smartphone&store=tyy%2F4io&srno=s_1_10&otracker=search&otracker1=search&fm=organic&iid=a35484ac-03fc-428d-ac61-c7c96712a1ac.MOBGRMFKAHNTZPWE.SEARCH&ppt=hp&ppn=homepage&ssid=7gn4beomgw0000001694263541535&qH=16e35e1c76bc3b93', 'https://www.flipkart.com/redmi-a2-aqua-blue-32-gb/p/itm5d49be2c0a95a?pid=MOBGPUZR8GHCE5ZQ&lid=LSTMOBGPUZR8GHCE5ZQ1P4DF9&marketplace=FLIPKART&q=redmi+smartphone&store=tyy%2F4io&srno=s_1_11&otracker=search&otracker1=search&fm=organic&iid=a35484ac-03fc-428d-ac61-c7c96712a1ac.MOBGPUZR8GHCE5ZQ.SEARCH&ppt=hp&ppn=homepage&ssid=7gn4beomgw0000001694263541535&qH=16e35e1c76bc3b93', 'https://www.flipkart.com/redmi-10-power-power-black-128-gb/p/itm97f5d2ec83588?pid=MOBGHDXFYKKZFZGV&lid=LSTMOBGHDXFYKKZFZGVE0QYTC&marketplace=FLIPKART&q=redmi+smartphone&store=tyy%2F4io&srno=s_1_12&otracker=search&otracker1=search&fm=organic&iid=a35484ac-03fc-428d-ac61-c7c96712a1ac.MOBGHDXFYKKZFZGV.SEARCH&ppt=hp&ppn=homepage&ssid=7gn4beomgw0000001694263541535&qH=16e35e1c76bc3b93', 'https://www.flipkart.com/redmi-6a-blue-16-gb/p/itm1ed294a755383?pid=MOBF9Z2Z3YDBSF6V&lid=LSTMOBF9Z2Z3YDBSF6VX16ZOH&marketplace=FLIPKART&q=redmi+smartphone&store=tyy%2F4io&srno=s_1_13&otracker=search&otracker1=search&fm=organic&iid=a35484ac-03fc-428d-ac61-c7c96712a1ac.MOBF9Z2Z3YDBSF6V.SEARCH&ppt=hp&ppn=homepage&ssid=7gn4beomgw0000001694263541535&qH=16e35e1c76bc3b93', 'https://www.flipkart.com/redmi-12-moonstone-silver-128-gb/p/itm6722b15672602?pid=MOBGRMFK4CSR7GGH&lid=LSTMOBGRMFK4CSR7GGHHKEX2Z&marketplace=FLIPKART&q=redmi+smartphone&store=tyy%2F4io&srno=s_1_14&otracker=search&otracker1=search&fm=organic&iid=a35484ac-03fc-428d-ac61-c7c96712a1ac.MOBGRMFK4CSR7GGH.SEARCH&ppt=hp&ppn=homepage&ssid=7gn4beomgw0000001694263541535&qH=16e35e1c76bc3b93', 'https://www.flipkart.com/redmi-a1-light-green-32-gb/p/itmecc9e7ba0a1df?pid=MOBGGYBAHSAJVKHP&lid=LSTMOBGGYBAHSAJVKHP4UBD9A&marketplace=FLIPKART&q=redmi+smartphone&store=tyy%2F4io&srno=s_1_15&otracker=search&otracker1=search&fm=organic&iid=a35484ac-03fc-428d-ac61-c7c96712a1ac.MOBGGYBAHSAJVKHP.SEARCH&ppt=hp&ppn=homepage&ssid=7gn4beomgw0000001694263541535&qH=16e35e1c76bc3b93', 'https://www.flipkart.com/redmi-11-prime-flashy-black-128-gb/p/itm01f508ea28ab0?pid=MOBGZHFGNDNWAZKZ&lid=LSTMOBGZHFGNDNWAZKZUMANTL&marketplace=FLIPKART&q=redmi+smartphone&store=tyy%2F4io&srno=s_1_16&otracker=search&otracker1=search&fm=organic&iid=a35484ac-03fc-428d-ac61-c7c96712a1ac.MOBGZHFGNDNWAZKZ.SEARCH&ppt=hp&ppn=homepage&ssid=7gn4beomgw0000001694263541535&qH=16e35e1c76bc3b93', 'https://www.flipkart.com/redmi-11-prime-playful-green-128-gb/p/itm0b080e6994972?pid=MOBGZHFGZQMESCDK&lid=LSTMOBGZHFGZQMESCDKZ6ILTE&marketplace=FLIPKART&q=redmi+smartphone&store=tyy%2F4io&srno=s_1_17&otracker=search&otracker1=search&fm=organic&iid=a35484ac-03fc-428d-ac61-c7c96712a1ac.MOBGZHFGZQMESCDK.SEARCH&ppt=hp&ppn=homepage&ssid=7gn4beomgw0000001694263541535&qH=16e35e1c76bc3b93', 'https://www.flipkart.com/redmi-a2-sea-green-64-gb/p/itm5d49be2c0a95a?pid=MOBGPVYEHMPGNCBZ&lid=LSTMOBGPVYEHMPGNCBZHUKI4Z&marketplace=FLIPKART&q=redmi+smartphone&store=tyy%2F4io&srno=s_1_18&otracker=search&otracker1=search&fm=organic&iid=a35484ac-03fc-428d-ac61-c7c96712a1ac.MOBGPVYEHMPGNCBZ.SEARCH&ppt=hp&ppn=homepage&ssid=7gn4beomgw0000001694263541535&qH=16e35e1c76bc3b93', 'https://www.flipkart.com/redmi-a2-classic-black-64-gb/p/itm5d49be2c0a95a?pid=MOBGRHB6XAEUADQB&lid=LSTMOBGRHB6XAEUADQBAI4AJ4&marketplace=FLIPKART&q=redmi+smartphone&store=tyy%2F4io&srno=s_1_19&otracker=search&otracker1=search&fm=organic&iid=a35484ac-03fc-428d-ac61-c7c96712a1ac.MOBGRHB6XAEUADQB.SEARCH&ppt=hp&ppn=homepage&ssid=7gn4beomgw0000001694263541535&qH=16e35e1c76bc3b93', 'https://www.flipkart.com/redmi-12-jade-black-128-gb/p/itmb7050ec01c09f?pid=MOBGRMFKTHKQSJEG&lid=LSTMOBGRMFKTHKQSJEGQK3FM2&marketplace=FLIPKART&q=redmi+smartphone&store=tyy%2F4io&srno=s_1_20&otracker=search&otracker1=search&fm=organic&iid=a35484ac-03fc-428d-ac61-c7c96712a1ac.MOBGRMFKTHKQSJEG.SEARCH&ppt=hp&ppn=homepage&ssid=7gn4beomgw0000001694263541535&qH=16e35e1c76bc3b93', 'https://www.flipkart.com/redmi-12-5g-jade-black-128-gb/p/itm0c8ba13f6fc5b?pid=MOBGS7GYGUAJ4UYZ&lid=LSTMOBGS7GYGUAJ4UYZQQUS5Q&marketplace=FLIPKART&q=redmi+smartphone&store=tyy%2F4io&srno=s_1_21&otracker=search&otracker1=search&fm=organic&iid=a35484ac-03fc-428d-ac61-c7c96712a1ac.MOBGS7GYGUAJ4UYZ.SEARCH&ppt=hp&ppn=homepage&ssid=7gn4beomgw0000001694263541535&qH=16e35e1c76bc3b93', 'https://www.flipkart.com/redmi-note-12-ice-blue-64-gb/p/itmee415766dfc1a?pid=MOBGNYHZYZ4CNTCM&lid=LSTMOBGNYHZYZ4CNTCMVONB0S&marketplace=FLIPKART&q=redmi+smartphone&store=tyy%2F4io&srno=s_1_22&otracker=search&otracker1=search&fm=organic&iid=a35484ac-03fc-428d-ac61-c7c96712a1ac.MOBGNYHZYZ4CNTCM.SEARCH&ppt=hp&ppn=homepage&ssid=7gn4beomgw0000001694263541535&qH=16e35e1c76bc3b93', 'https://www.flipkart.com/redmi-note-12-lunar-black-64-gb/p/itm6756d6e7a86be?pid=MOBGNYHZJGGE3ZHM&lid=LSTMOBGNYHZJGGE3ZHMWSTXBO&marketplace=FLIPKART&q=redmi+smartphone&store=tyy%2F4io&srno=s_1_23&otracker=search&otracker1=search&fm=organic&iid=a35484ac-03fc-428d-ac61-c7c96712a1ac.MOBGNYHZJGGE3ZHM.SEARCH&ppt=hp&ppn=homepage&ssid=7gn4beomgw0000001694263541535&qH=16e35e1c76bc3b93', 'https://www.flipkart.com/redmi-note-12-sunrise-gold-64-gb/p/itm5d170187bcbf0?pid=MOBGNYHZ7ZGHES2V&lid=LSTMOBGNYHZ7ZGHES2VQILAET&marketplace=FLIPKART&q=redmi+smartphone&store=tyy%2F4io&srno=s_1_24&otracker=search&otracker1=search&fm=organic&iid=a35484ac-03fc-428d-ac61-c7c96712a1ac.MOBGNYHZ7ZGHES2V.SEARCH&ppt=hp&ppn=homepage&ssid=7gn4beomgw0000001694263541535&qH=16e35e1c76bc3b93']\n"
     ]
    },
    {
     "name": "stdout",
     "output_type": "stream",
     "text": [
      "['https://www.flipkart.com/redmi-12-moonstone-silver-128-gb/p/itme52e778c12701?pid=MOBGRMFK2MGRNG4Q&lid=LSTMOBGRMFK2MGRNG4QFZLVXT&marketplace=FLIPKART&q=redmi+smartphone&store=tyy%2F4io&spotlightTagId=BestsellerId_tyy%2F4io&srno=s_1_1&otracker=search&otracker1=search&fm=Search&iid=a35484ac-03fc-428d-ac61-c7c96712a1ac.MOBGRMFK2MGRNG4Q.SEARCH&ppt=sp&ppn=sp&ssid=7gn4beomgw0000001694263541535&qH=16e35e1c76bc3b93', 'https://www.flipkart.com/redmi-11-prime-peppy-purple-128-gb/p/itm52d6b0fe396e9?pid=MOBGZHFGUHYSHQYM&lid=LSTMOBGZHFGUHYSHQYMWGOOJ0&marketplace=FLIPKART&q=redmi+smartphone&store=tyy%2F4io&srno=s_1_2&otracker=search&otracker1=search&fm=organic&iid=a35484ac-03fc-428d-ac61-c7c96712a1ac.MOBGZHFGUHYSHQYM.SEARCH&ppt=hp&ppn=homepage&ssid=7gn4beomgw0000001694263541535&qH=16e35e1c76bc3b93', 'https://www.flipkart.com/redmi-12-jade-black-128-gb/p/itm7b10fd42f78b2?pid=MOBGRMFKKDQ2A3V4&lid=LSTMOBGRMFKKDQ2A3V4XZOVEW&marketplace=FLIPKART&q=redmi+smartphone&store=tyy%2F4io&spotlightTagId=BestsellerId_tyy%2F4io&srno=s_1_3&otracker=search&otracker1=search&fm=organic&iid=a35484ac-03fc-428d-ac61-c7c96712a1ac.MOBGRMFKKDQ2A3V4.SEARCH&ppt=hp&ppn=homepage&ssid=7gn4beomgw0000001694263541535&qH=16e35e1c76bc3b93', 'https://www.flipkart.com/redmi-12-pastel-blue-128-gb/p/itm48719506a7ceb?pid=MOBGRMFKKGYD9ETX&lid=LSTMOBGRMFKKGYD9ETX5KD9VL&marketplace=FLIPKART&q=redmi+smartphone&store=tyy%2F4io&spotlightTagId=BestsellerId_tyy%2F4io&srno=s_1_4&otracker=search&otracker1=search&fm=organic&iid=a35484ac-03fc-428d-ac61-c7c96712a1ac.MOBGRMFKKGYD9ETX.SEARCH&ppt=hp&ppn=homepage&ssid=7gn4beomgw0000001694263541535&qH=16e35e1c76bc3b93', 'https://www.flipkart.com/redmi-a1-black-32-gb/p/itm70b00a77a7d1d?pid=MOBGGYBABVXHHRDQ&lid=LSTMOBGGYBABVXHHRDQI6PZV5&marketplace=FLIPKART&q=redmi+smartphone&store=tyy%2F4io&srno=s_1_5&otracker=search&otracker1=search&fm=organic&iid=a35484ac-03fc-428d-ac61-c7c96712a1ac.MOBGGYBABVXHHRDQ.SEARCH&ppt=hp&ppn=homepage&ssid=7gn4beomgw0000001694263541535&qH=16e35e1c76bc3b93', 'https://www.flipkart.com/redmi-a2-aqua-blue-64-gb/p/itm5d49be2c0a95a?pid=MOBGR4UZWNAYKSUH&lid=LSTMOBGR4UZWNAYKSUHE3CTOU&marketplace=FLIPKART&q=redmi+smartphone&store=tyy%2F4io&srno=s_1_6&otracker=search&otracker1=search&fm=organic&iid=a35484ac-03fc-428d-ac61-c7c96712a1ac.MOBGR4UZWNAYKSUH.SEARCH&ppt=hp&ppn=homepage&ssid=7gn4beomgw0000001694263541535&qH=16e35e1c76bc3b93', 'https://www.flipkart.com/redmi-a2-classic-black-64-gb/p/itm5d49be2c0a95a?pid=MOBGPVYHRXZ3PFZU&lid=LSTMOBGPVYHRXZ3PFZU0QHLLF&marketplace=FLIPKART&q=redmi+smartphone&store=tyy%2F4io&srno=s_1_7&otracker=search&otracker1=search&fm=organic&iid=a35484ac-03fc-428d-ac61-c7c96712a1ac.MOBGPVYHRXZ3PFZU.SEARCH&ppt=hp&ppn=homepage&ssid=7gn4beomgw0000001694263541535&qH=16e35e1c76bc3b93', 'https://www.flipkart.com/redmi-a2-sea-green-32-gb/p/itm5d49be2c0a95a?pid=MOBGPVYATHJDTSSR&lid=LSTMOBGPVYATHJDTSSR6JMF4X&marketplace=FLIPKART&q=redmi+smartphone&store=tyy%2F4io&srno=s_1_8&otracker=search&otracker1=search&fm=organic&iid=a35484ac-03fc-428d-ac61-c7c96712a1ac.MOBGPVYATHJDTSSR.SEARCH&ppt=hp&ppn=homepage&ssid=7gn4beomgw0000001694263541535&qH=16e35e1c76bc3b93', 'https://www.flipkart.com/redmi-a2-aqua-blue-64-gb/p/itm5d49be2c0a95a?pid=MOBGPVYMG9RWX6XY&lid=LSTMOBGPVYMG9RWX6XYCWTZEK&marketplace=FLIPKART&q=redmi+smartphone&store=tyy%2F4io&srno=s_1_9&otracker=search&otracker1=search&fm=organic&iid=a35484ac-03fc-428d-ac61-c7c96712a1ac.MOBGPVYMG9RWX6XY.SEARCH&ppt=hp&ppn=homepage&ssid=7gn4beomgw0000001694263541535&qH=16e35e1c76bc3b93', 'https://www.flipkart.com/redmi-12-pastel-blue-128-gb/p/itm9b1a6640faccd?pid=MOBGRMFKAHNTZPWE&lid=LSTMOBGRMFKAHNTZPWE1H5IWS&marketplace=FLIPKART&q=redmi+smartphone&store=tyy%2F4io&srno=s_1_10&otracker=search&otracker1=search&fm=organic&iid=a35484ac-03fc-428d-ac61-c7c96712a1ac.MOBGRMFKAHNTZPWE.SEARCH&ppt=hp&ppn=homepage&ssid=7gn4beomgw0000001694263541535&qH=16e35e1c76bc3b93', 'https://www.flipkart.com/redmi-a2-aqua-blue-32-gb/p/itm5d49be2c0a95a?pid=MOBGPUZR8GHCE5ZQ&lid=LSTMOBGPUZR8GHCE5ZQ1P4DF9&marketplace=FLIPKART&q=redmi+smartphone&store=tyy%2F4io&srno=s_1_11&otracker=search&otracker1=search&fm=organic&iid=a35484ac-03fc-428d-ac61-c7c96712a1ac.MOBGPUZR8GHCE5ZQ.SEARCH&ppt=hp&ppn=homepage&ssid=7gn4beomgw0000001694263541535&qH=16e35e1c76bc3b93', 'https://www.flipkart.com/redmi-10-power-power-black-128-gb/p/itm97f5d2ec83588?pid=MOBGHDXFYKKZFZGV&lid=LSTMOBGHDXFYKKZFZGVE0QYTC&marketplace=FLIPKART&q=redmi+smartphone&store=tyy%2F4io&srno=s_1_12&otracker=search&otracker1=search&fm=organic&iid=a35484ac-03fc-428d-ac61-c7c96712a1ac.MOBGHDXFYKKZFZGV.SEARCH&ppt=hp&ppn=homepage&ssid=7gn4beomgw0000001694263541535&qH=16e35e1c76bc3b93', 'https://www.flipkart.com/redmi-6a-blue-16-gb/p/itm1ed294a755383?pid=MOBF9Z2Z3YDBSF6V&lid=LSTMOBF9Z2Z3YDBSF6VX16ZOH&marketplace=FLIPKART&q=redmi+smartphone&store=tyy%2F4io&srno=s_1_13&otracker=search&otracker1=search&fm=organic&iid=a35484ac-03fc-428d-ac61-c7c96712a1ac.MOBF9Z2Z3YDBSF6V.SEARCH&ppt=hp&ppn=homepage&ssid=7gn4beomgw0000001694263541535&qH=16e35e1c76bc3b93', 'https://www.flipkart.com/redmi-12-moonstone-silver-128-gb/p/itm6722b15672602?pid=MOBGRMFK4CSR7GGH&lid=LSTMOBGRMFK4CSR7GGHHKEX2Z&marketplace=FLIPKART&q=redmi+smartphone&store=tyy%2F4io&srno=s_1_14&otracker=search&otracker1=search&fm=organic&iid=a35484ac-03fc-428d-ac61-c7c96712a1ac.MOBGRMFK4CSR7GGH.SEARCH&ppt=hp&ppn=homepage&ssid=7gn4beomgw0000001694263541535&qH=16e35e1c76bc3b93', 'https://www.flipkart.com/redmi-a1-light-green-32-gb/p/itmecc9e7ba0a1df?pid=MOBGGYBAHSAJVKHP&lid=LSTMOBGGYBAHSAJVKHP4UBD9A&marketplace=FLIPKART&q=redmi+smartphone&store=tyy%2F4io&srno=s_1_15&otracker=search&otracker1=search&fm=organic&iid=a35484ac-03fc-428d-ac61-c7c96712a1ac.MOBGGYBAHSAJVKHP.SEARCH&ppt=hp&ppn=homepage&ssid=7gn4beomgw0000001694263541535&qH=16e35e1c76bc3b93', 'https://www.flipkart.com/redmi-11-prime-flashy-black-128-gb/p/itm01f508ea28ab0?pid=MOBGZHFGNDNWAZKZ&lid=LSTMOBGZHFGNDNWAZKZUMANTL&marketplace=FLIPKART&q=redmi+smartphone&store=tyy%2F4io&srno=s_1_16&otracker=search&otracker1=search&fm=organic&iid=a35484ac-03fc-428d-ac61-c7c96712a1ac.MOBGZHFGNDNWAZKZ.SEARCH&ppt=hp&ppn=homepage&ssid=7gn4beomgw0000001694263541535&qH=16e35e1c76bc3b93', 'https://www.flipkart.com/redmi-11-prime-playful-green-128-gb/p/itm0b080e6994972?pid=MOBGZHFGZQMESCDK&lid=LSTMOBGZHFGZQMESCDKZ6ILTE&marketplace=FLIPKART&q=redmi+smartphone&store=tyy%2F4io&srno=s_1_17&otracker=search&otracker1=search&fm=organic&iid=a35484ac-03fc-428d-ac61-c7c96712a1ac.MOBGZHFGZQMESCDK.SEARCH&ppt=hp&ppn=homepage&ssid=7gn4beomgw0000001694263541535&qH=16e35e1c76bc3b93', 'https://www.flipkart.com/redmi-a2-sea-green-64-gb/p/itm5d49be2c0a95a?pid=MOBGPVYEHMPGNCBZ&lid=LSTMOBGPVYEHMPGNCBZHUKI4Z&marketplace=FLIPKART&q=redmi+smartphone&store=tyy%2F4io&srno=s_1_18&otracker=search&otracker1=search&fm=organic&iid=a35484ac-03fc-428d-ac61-c7c96712a1ac.MOBGPVYEHMPGNCBZ.SEARCH&ppt=hp&ppn=homepage&ssid=7gn4beomgw0000001694263541535&qH=16e35e1c76bc3b93', 'https://www.flipkart.com/redmi-a2-classic-black-64-gb/p/itm5d49be2c0a95a?pid=MOBGRHB6XAEUADQB&lid=LSTMOBGRHB6XAEUADQBAI4AJ4&marketplace=FLIPKART&q=redmi+smartphone&store=tyy%2F4io&srno=s_1_19&otracker=search&otracker1=search&fm=organic&iid=a35484ac-03fc-428d-ac61-c7c96712a1ac.MOBGRHB6XAEUADQB.SEARCH&ppt=hp&ppn=homepage&ssid=7gn4beomgw0000001694263541535&qH=16e35e1c76bc3b93', 'https://www.flipkart.com/redmi-12-jade-black-128-gb/p/itmb7050ec01c09f?pid=MOBGRMFKTHKQSJEG&lid=LSTMOBGRMFKTHKQSJEGQK3FM2&marketplace=FLIPKART&q=redmi+smartphone&store=tyy%2F4io&srno=s_1_20&otracker=search&otracker1=search&fm=organic&iid=a35484ac-03fc-428d-ac61-c7c96712a1ac.MOBGRMFKTHKQSJEG.SEARCH&ppt=hp&ppn=homepage&ssid=7gn4beomgw0000001694263541535&qH=16e35e1c76bc3b93', 'https://www.flipkart.com/redmi-12-5g-jade-black-128-gb/p/itm0c8ba13f6fc5b?pid=MOBGS7GYGUAJ4UYZ&lid=LSTMOBGS7GYGUAJ4UYZQQUS5Q&marketplace=FLIPKART&q=redmi+smartphone&store=tyy%2F4io&srno=s_1_21&otracker=search&otracker1=search&fm=organic&iid=a35484ac-03fc-428d-ac61-c7c96712a1ac.MOBGS7GYGUAJ4UYZ.SEARCH&ppt=hp&ppn=homepage&ssid=7gn4beomgw0000001694263541535&qH=16e35e1c76bc3b93', 'https://www.flipkart.com/redmi-note-12-ice-blue-64-gb/p/itmee415766dfc1a?pid=MOBGNYHZYZ4CNTCM&lid=LSTMOBGNYHZYZ4CNTCMVONB0S&marketplace=FLIPKART&q=redmi+smartphone&store=tyy%2F4io&srno=s_1_22&otracker=search&otracker1=search&fm=organic&iid=a35484ac-03fc-428d-ac61-c7c96712a1ac.MOBGNYHZYZ4CNTCM.SEARCH&ppt=hp&ppn=homepage&ssid=7gn4beomgw0000001694263541535&qH=16e35e1c76bc3b93', 'https://www.flipkart.com/redmi-note-12-lunar-black-64-gb/p/itm6756d6e7a86be?pid=MOBGNYHZJGGE3ZHM&lid=LSTMOBGNYHZJGGE3ZHMWSTXBO&marketplace=FLIPKART&q=redmi+smartphone&store=tyy%2F4io&srno=s_1_23&otracker=search&otracker1=search&fm=organic&iid=a35484ac-03fc-428d-ac61-c7c96712a1ac.MOBGNYHZJGGE3ZHM.SEARCH&ppt=hp&ppn=homepage&ssid=7gn4beomgw0000001694263541535&qH=16e35e1c76bc3b93', 'https://www.flipkart.com/redmi-note-12-sunrise-gold-64-gb/p/itm5d170187bcbf0?pid=MOBGNYHZ7ZGHES2V&lid=LSTMOBGNYHZ7ZGHES2VQILAET&marketplace=FLIPKART&q=redmi+smartphone&store=tyy%2F4io&srno=s_1_24&otracker=search&otracker1=search&fm=organic&iid=a35484ac-03fc-428d-ac61-c7c96712a1ac.MOBGNYHZ7ZGHES2V.SEARCH&ppt=hp&ppn=homepage&ssid=7gn4beomgw0000001694263541535&qH=16e35e1c76bc3b93']\n",
      "['https://www.flipkart.com/redmi-12-moonstone-silver-128-gb/p/itme52e778c12701?pid=MOBGRMFK2MGRNG4Q&lid=LSTMOBGRMFK2MGRNG4QFZLVXT&marketplace=FLIPKART&q=redmi+smartphone&store=tyy%2F4io&spotlightTagId=BestsellerId_tyy%2F4io&srno=s_1_1&otracker=search&otracker1=search&fm=Search&iid=a35484ac-03fc-428d-ac61-c7c96712a1ac.MOBGRMFK2MGRNG4Q.SEARCH&ppt=sp&ppn=sp&ssid=7gn4beomgw0000001694263541535&qH=16e35e1c76bc3b93', 'https://www.flipkart.com/redmi-11-prime-peppy-purple-128-gb/p/itm52d6b0fe396e9?pid=MOBGZHFGUHYSHQYM&lid=LSTMOBGZHFGUHYSHQYMWGOOJ0&marketplace=FLIPKART&q=redmi+smartphone&store=tyy%2F4io&srno=s_1_2&otracker=search&otracker1=search&fm=organic&iid=a35484ac-03fc-428d-ac61-c7c96712a1ac.MOBGZHFGUHYSHQYM.SEARCH&ppt=hp&ppn=homepage&ssid=7gn4beomgw0000001694263541535&qH=16e35e1c76bc3b93', 'https://www.flipkart.com/redmi-12-jade-black-128-gb/p/itm7b10fd42f78b2?pid=MOBGRMFKKDQ2A3V4&lid=LSTMOBGRMFKKDQ2A3V4XZOVEW&marketplace=FLIPKART&q=redmi+smartphone&store=tyy%2F4io&spotlightTagId=BestsellerId_tyy%2F4io&srno=s_1_3&otracker=search&otracker1=search&fm=organic&iid=a35484ac-03fc-428d-ac61-c7c96712a1ac.MOBGRMFKKDQ2A3V4.SEARCH&ppt=hp&ppn=homepage&ssid=7gn4beomgw0000001694263541535&qH=16e35e1c76bc3b93', 'https://www.flipkart.com/redmi-12-pastel-blue-128-gb/p/itm48719506a7ceb?pid=MOBGRMFKKGYD9ETX&lid=LSTMOBGRMFKKGYD9ETX5KD9VL&marketplace=FLIPKART&q=redmi+smartphone&store=tyy%2F4io&spotlightTagId=BestsellerId_tyy%2F4io&srno=s_1_4&otracker=search&otracker1=search&fm=organic&iid=a35484ac-03fc-428d-ac61-c7c96712a1ac.MOBGRMFKKGYD9ETX.SEARCH&ppt=hp&ppn=homepage&ssid=7gn4beomgw0000001694263541535&qH=16e35e1c76bc3b93', 'https://www.flipkart.com/redmi-a1-black-32-gb/p/itm70b00a77a7d1d?pid=MOBGGYBABVXHHRDQ&lid=LSTMOBGGYBABVXHHRDQI6PZV5&marketplace=FLIPKART&q=redmi+smartphone&store=tyy%2F4io&srno=s_1_5&otracker=search&otracker1=search&fm=organic&iid=a35484ac-03fc-428d-ac61-c7c96712a1ac.MOBGGYBABVXHHRDQ.SEARCH&ppt=hp&ppn=homepage&ssid=7gn4beomgw0000001694263541535&qH=16e35e1c76bc3b93', 'https://www.flipkart.com/redmi-a2-aqua-blue-64-gb/p/itm5d49be2c0a95a?pid=MOBGR4UZWNAYKSUH&lid=LSTMOBGR4UZWNAYKSUHE3CTOU&marketplace=FLIPKART&q=redmi+smartphone&store=tyy%2F4io&srno=s_1_6&otracker=search&otracker1=search&fm=organic&iid=a35484ac-03fc-428d-ac61-c7c96712a1ac.MOBGR4UZWNAYKSUH.SEARCH&ppt=hp&ppn=homepage&ssid=7gn4beomgw0000001694263541535&qH=16e35e1c76bc3b93', 'https://www.flipkart.com/redmi-a2-classic-black-64-gb/p/itm5d49be2c0a95a?pid=MOBGPVYHRXZ3PFZU&lid=LSTMOBGPVYHRXZ3PFZU0QHLLF&marketplace=FLIPKART&q=redmi+smartphone&store=tyy%2F4io&srno=s_1_7&otracker=search&otracker1=search&fm=organic&iid=a35484ac-03fc-428d-ac61-c7c96712a1ac.MOBGPVYHRXZ3PFZU.SEARCH&ppt=hp&ppn=homepage&ssid=7gn4beomgw0000001694263541535&qH=16e35e1c76bc3b93', 'https://www.flipkart.com/redmi-a2-sea-green-32-gb/p/itm5d49be2c0a95a?pid=MOBGPVYATHJDTSSR&lid=LSTMOBGPVYATHJDTSSR6JMF4X&marketplace=FLIPKART&q=redmi+smartphone&store=tyy%2F4io&srno=s_1_8&otracker=search&otracker1=search&fm=organic&iid=a35484ac-03fc-428d-ac61-c7c96712a1ac.MOBGPVYATHJDTSSR.SEARCH&ppt=hp&ppn=homepage&ssid=7gn4beomgw0000001694263541535&qH=16e35e1c76bc3b93', 'https://www.flipkart.com/redmi-a2-aqua-blue-64-gb/p/itm5d49be2c0a95a?pid=MOBGPVYMG9RWX6XY&lid=LSTMOBGPVYMG9RWX6XYCWTZEK&marketplace=FLIPKART&q=redmi+smartphone&store=tyy%2F4io&srno=s_1_9&otracker=search&otracker1=search&fm=organic&iid=a35484ac-03fc-428d-ac61-c7c96712a1ac.MOBGPVYMG9RWX6XY.SEARCH&ppt=hp&ppn=homepage&ssid=7gn4beomgw0000001694263541535&qH=16e35e1c76bc3b93', 'https://www.flipkart.com/redmi-12-pastel-blue-128-gb/p/itm9b1a6640faccd?pid=MOBGRMFKAHNTZPWE&lid=LSTMOBGRMFKAHNTZPWE1H5IWS&marketplace=FLIPKART&q=redmi+smartphone&store=tyy%2F4io&srno=s_1_10&otracker=search&otracker1=search&fm=organic&iid=a35484ac-03fc-428d-ac61-c7c96712a1ac.MOBGRMFKAHNTZPWE.SEARCH&ppt=hp&ppn=homepage&ssid=7gn4beomgw0000001694263541535&qH=16e35e1c76bc3b93', 'https://www.flipkart.com/redmi-a2-aqua-blue-32-gb/p/itm5d49be2c0a95a?pid=MOBGPUZR8GHCE5ZQ&lid=LSTMOBGPUZR8GHCE5ZQ1P4DF9&marketplace=FLIPKART&q=redmi+smartphone&store=tyy%2F4io&srno=s_1_11&otracker=search&otracker1=search&fm=organic&iid=a35484ac-03fc-428d-ac61-c7c96712a1ac.MOBGPUZR8GHCE5ZQ.SEARCH&ppt=hp&ppn=homepage&ssid=7gn4beomgw0000001694263541535&qH=16e35e1c76bc3b93', 'https://www.flipkart.com/redmi-10-power-power-black-128-gb/p/itm97f5d2ec83588?pid=MOBGHDXFYKKZFZGV&lid=LSTMOBGHDXFYKKZFZGVE0QYTC&marketplace=FLIPKART&q=redmi+smartphone&store=tyy%2F4io&srno=s_1_12&otracker=search&otracker1=search&fm=organic&iid=a35484ac-03fc-428d-ac61-c7c96712a1ac.MOBGHDXFYKKZFZGV.SEARCH&ppt=hp&ppn=homepage&ssid=7gn4beomgw0000001694263541535&qH=16e35e1c76bc3b93', 'https://www.flipkart.com/redmi-6a-blue-16-gb/p/itm1ed294a755383?pid=MOBF9Z2Z3YDBSF6V&lid=LSTMOBF9Z2Z3YDBSF6VX16ZOH&marketplace=FLIPKART&q=redmi+smartphone&store=tyy%2F4io&srno=s_1_13&otracker=search&otracker1=search&fm=organic&iid=a35484ac-03fc-428d-ac61-c7c96712a1ac.MOBF9Z2Z3YDBSF6V.SEARCH&ppt=hp&ppn=homepage&ssid=7gn4beomgw0000001694263541535&qH=16e35e1c76bc3b93', 'https://www.flipkart.com/redmi-12-moonstone-silver-128-gb/p/itm6722b15672602?pid=MOBGRMFK4CSR7GGH&lid=LSTMOBGRMFK4CSR7GGHHKEX2Z&marketplace=FLIPKART&q=redmi+smartphone&store=tyy%2F4io&srno=s_1_14&otracker=search&otracker1=search&fm=organic&iid=a35484ac-03fc-428d-ac61-c7c96712a1ac.MOBGRMFK4CSR7GGH.SEARCH&ppt=hp&ppn=homepage&ssid=7gn4beomgw0000001694263541535&qH=16e35e1c76bc3b93', 'https://www.flipkart.com/redmi-a1-light-green-32-gb/p/itmecc9e7ba0a1df?pid=MOBGGYBAHSAJVKHP&lid=LSTMOBGGYBAHSAJVKHP4UBD9A&marketplace=FLIPKART&q=redmi+smartphone&store=tyy%2F4io&srno=s_1_15&otracker=search&otracker1=search&fm=organic&iid=a35484ac-03fc-428d-ac61-c7c96712a1ac.MOBGGYBAHSAJVKHP.SEARCH&ppt=hp&ppn=homepage&ssid=7gn4beomgw0000001694263541535&qH=16e35e1c76bc3b93', 'https://www.flipkart.com/redmi-11-prime-flashy-black-128-gb/p/itm01f508ea28ab0?pid=MOBGZHFGNDNWAZKZ&lid=LSTMOBGZHFGNDNWAZKZUMANTL&marketplace=FLIPKART&q=redmi+smartphone&store=tyy%2F4io&srno=s_1_16&otracker=search&otracker1=search&fm=organic&iid=a35484ac-03fc-428d-ac61-c7c96712a1ac.MOBGZHFGNDNWAZKZ.SEARCH&ppt=hp&ppn=homepage&ssid=7gn4beomgw0000001694263541535&qH=16e35e1c76bc3b93', 'https://www.flipkart.com/redmi-11-prime-playful-green-128-gb/p/itm0b080e6994972?pid=MOBGZHFGZQMESCDK&lid=LSTMOBGZHFGZQMESCDKZ6ILTE&marketplace=FLIPKART&q=redmi+smartphone&store=tyy%2F4io&srno=s_1_17&otracker=search&otracker1=search&fm=organic&iid=a35484ac-03fc-428d-ac61-c7c96712a1ac.MOBGZHFGZQMESCDK.SEARCH&ppt=hp&ppn=homepage&ssid=7gn4beomgw0000001694263541535&qH=16e35e1c76bc3b93', 'https://www.flipkart.com/redmi-a2-sea-green-64-gb/p/itm5d49be2c0a95a?pid=MOBGPVYEHMPGNCBZ&lid=LSTMOBGPVYEHMPGNCBZHUKI4Z&marketplace=FLIPKART&q=redmi+smartphone&store=tyy%2F4io&srno=s_1_18&otracker=search&otracker1=search&fm=organic&iid=a35484ac-03fc-428d-ac61-c7c96712a1ac.MOBGPVYEHMPGNCBZ.SEARCH&ppt=hp&ppn=homepage&ssid=7gn4beomgw0000001694263541535&qH=16e35e1c76bc3b93', 'https://www.flipkart.com/redmi-a2-classic-black-64-gb/p/itm5d49be2c0a95a?pid=MOBGRHB6XAEUADQB&lid=LSTMOBGRHB6XAEUADQBAI4AJ4&marketplace=FLIPKART&q=redmi+smartphone&store=tyy%2F4io&srno=s_1_19&otracker=search&otracker1=search&fm=organic&iid=a35484ac-03fc-428d-ac61-c7c96712a1ac.MOBGRHB6XAEUADQB.SEARCH&ppt=hp&ppn=homepage&ssid=7gn4beomgw0000001694263541535&qH=16e35e1c76bc3b93', 'https://www.flipkart.com/redmi-12-jade-black-128-gb/p/itmb7050ec01c09f?pid=MOBGRMFKTHKQSJEG&lid=LSTMOBGRMFKTHKQSJEGQK3FM2&marketplace=FLIPKART&q=redmi+smartphone&store=tyy%2F4io&srno=s_1_20&otracker=search&otracker1=search&fm=organic&iid=a35484ac-03fc-428d-ac61-c7c96712a1ac.MOBGRMFKTHKQSJEG.SEARCH&ppt=hp&ppn=homepage&ssid=7gn4beomgw0000001694263541535&qH=16e35e1c76bc3b93', 'https://www.flipkart.com/redmi-12-5g-jade-black-128-gb/p/itm0c8ba13f6fc5b?pid=MOBGS7GYGUAJ4UYZ&lid=LSTMOBGS7GYGUAJ4UYZQQUS5Q&marketplace=FLIPKART&q=redmi+smartphone&store=tyy%2F4io&srno=s_1_21&otracker=search&otracker1=search&fm=organic&iid=a35484ac-03fc-428d-ac61-c7c96712a1ac.MOBGS7GYGUAJ4UYZ.SEARCH&ppt=hp&ppn=homepage&ssid=7gn4beomgw0000001694263541535&qH=16e35e1c76bc3b93', 'https://www.flipkart.com/redmi-note-12-ice-blue-64-gb/p/itmee415766dfc1a?pid=MOBGNYHZYZ4CNTCM&lid=LSTMOBGNYHZYZ4CNTCMVONB0S&marketplace=FLIPKART&q=redmi+smartphone&store=tyy%2F4io&srno=s_1_22&otracker=search&otracker1=search&fm=organic&iid=a35484ac-03fc-428d-ac61-c7c96712a1ac.MOBGNYHZYZ4CNTCM.SEARCH&ppt=hp&ppn=homepage&ssid=7gn4beomgw0000001694263541535&qH=16e35e1c76bc3b93', 'https://www.flipkart.com/redmi-note-12-lunar-black-64-gb/p/itm6756d6e7a86be?pid=MOBGNYHZJGGE3ZHM&lid=LSTMOBGNYHZJGGE3ZHMWSTXBO&marketplace=FLIPKART&q=redmi+smartphone&store=tyy%2F4io&srno=s_1_23&otracker=search&otracker1=search&fm=organic&iid=a35484ac-03fc-428d-ac61-c7c96712a1ac.MOBGNYHZJGGE3ZHM.SEARCH&ppt=hp&ppn=homepage&ssid=7gn4beomgw0000001694263541535&qH=16e35e1c76bc3b93', 'https://www.flipkart.com/redmi-note-12-sunrise-gold-64-gb/p/itm5d170187bcbf0?pid=MOBGNYHZ7ZGHES2V&lid=LSTMOBGNYHZ7ZGHES2VQILAET&marketplace=FLIPKART&q=redmi+smartphone&store=tyy%2F4io&srno=s_1_24&otracker=search&otracker1=search&fm=organic&iid=a35484ac-03fc-428d-ac61-c7c96712a1ac.MOBGNYHZ7ZGHES2V.SEARCH&ppt=hp&ppn=homepage&ssid=7gn4beomgw0000001694263541535&qH=16e35e1c76bc3b93']\n"
     ]
    },
    {
     "name": "stdout",
     "output_type": "stream",
     "text": [
      "['https://www.flipkart.com/redmi-12-moonstone-silver-128-gb/p/itme52e778c12701?pid=MOBGRMFK2MGRNG4Q&lid=LSTMOBGRMFK2MGRNG4QFZLVXT&marketplace=FLIPKART&q=redmi+smartphone&store=tyy%2F4io&spotlightTagId=BestsellerId_tyy%2F4io&srno=s_1_1&otracker=search&otracker1=search&fm=Search&iid=a35484ac-03fc-428d-ac61-c7c96712a1ac.MOBGRMFK2MGRNG4Q.SEARCH&ppt=sp&ppn=sp&ssid=7gn4beomgw0000001694263541535&qH=16e35e1c76bc3b93', 'https://www.flipkart.com/redmi-11-prime-peppy-purple-128-gb/p/itm52d6b0fe396e9?pid=MOBGZHFGUHYSHQYM&lid=LSTMOBGZHFGUHYSHQYMWGOOJ0&marketplace=FLIPKART&q=redmi+smartphone&store=tyy%2F4io&srno=s_1_2&otracker=search&otracker1=search&fm=organic&iid=a35484ac-03fc-428d-ac61-c7c96712a1ac.MOBGZHFGUHYSHQYM.SEARCH&ppt=hp&ppn=homepage&ssid=7gn4beomgw0000001694263541535&qH=16e35e1c76bc3b93', 'https://www.flipkart.com/redmi-12-jade-black-128-gb/p/itm7b10fd42f78b2?pid=MOBGRMFKKDQ2A3V4&lid=LSTMOBGRMFKKDQ2A3V4XZOVEW&marketplace=FLIPKART&q=redmi+smartphone&store=tyy%2F4io&spotlightTagId=BestsellerId_tyy%2F4io&srno=s_1_3&otracker=search&otracker1=search&fm=organic&iid=a35484ac-03fc-428d-ac61-c7c96712a1ac.MOBGRMFKKDQ2A3V4.SEARCH&ppt=hp&ppn=homepage&ssid=7gn4beomgw0000001694263541535&qH=16e35e1c76bc3b93', 'https://www.flipkart.com/redmi-12-pastel-blue-128-gb/p/itm48719506a7ceb?pid=MOBGRMFKKGYD9ETX&lid=LSTMOBGRMFKKGYD9ETX5KD9VL&marketplace=FLIPKART&q=redmi+smartphone&store=tyy%2F4io&spotlightTagId=BestsellerId_tyy%2F4io&srno=s_1_4&otracker=search&otracker1=search&fm=organic&iid=a35484ac-03fc-428d-ac61-c7c96712a1ac.MOBGRMFKKGYD9ETX.SEARCH&ppt=hp&ppn=homepage&ssid=7gn4beomgw0000001694263541535&qH=16e35e1c76bc3b93', 'https://www.flipkart.com/redmi-a1-black-32-gb/p/itm70b00a77a7d1d?pid=MOBGGYBABVXHHRDQ&lid=LSTMOBGGYBABVXHHRDQI6PZV5&marketplace=FLIPKART&q=redmi+smartphone&store=tyy%2F4io&srno=s_1_5&otracker=search&otracker1=search&fm=organic&iid=a35484ac-03fc-428d-ac61-c7c96712a1ac.MOBGGYBABVXHHRDQ.SEARCH&ppt=hp&ppn=homepage&ssid=7gn4beomgw0000001694263541535&qH=16e35e1c76bc3b93', 'https://www.flipkart.com/redmi-a2-aqua-blue-64-gb/p/itm5d49be2c0a95a?pid=MOBGR4UZWNAYKSUH&lid=LSTMOBGR4UZWNAYKSUHE3CTOU&marketplace=FLIPKART&q=redmi+smartphone&store=tyy%2F4io&srno=s_1_6&otracker=search&otracker1=search&fm=organic&iid=a35484ac-03fc-428d-ac61-c7c96712a1ac.MOBGR4UZWNAYKSUH.SEARCH&ppt=hp&ppn=homepage&ssid=7gn4beomgw0000001694263541535&qH=16e35e1c76bc3b93', 'https://www.flipkart.com/redmi-a2-classic-black-64-gb/p/itm5d49be2c0a95a?pid=MOBGPVYHRXZ3PFZU&lid=LSTMOBGPVYHRXZ3PFZU0QHLLF&marketplace=FLIPKART&q=redmi+smartphone&store=tyy%2F4io&srno=s_1_7&otracker=search&otracker1=search&fm=organic&iid=a35484ac-03fc-428d-ac61-c7c96712a1ac.MOBGPVYHRXZ3PFZU.SEARCH&ppt=hp&ppn=homepage&ssid=7gn4beomgw0000001694263541535&qH=16e35e1c76bc3b93', 'https://www.flipkart.com/redmi-a2-sea-green-32-gb/p/itm5d49be2c0a95a?pid=MOBGPVYATHJDTSSR&lid=LSTMOBGPVYATHJDTSSR6JMF4X&marketplace=FLIPKART&q=redmi+smartphone&store=tyy%2F4io&srno=s_1_8&otracker=search&otracker1=search&fm=organic&iid=a35484ac-03fc-428d-ac61-c7c96712a1ac.MOBGPVYATHJDTSSR.SEARCH&ppt=hp&ppn=homepage&ssid=7gn4beomgw0000001694263541535&qH=16e35e1c76bc3b93', 'https://www.flipkart.com/redmi-a2-aqua-blue-64-gb/p/itm5d49be2c0a95a?pid=MOBGPVYMG9RWX6XY&lid=LSTMOBGPVYMG9RWX6XYCWTZEK&marketplace=FLIPKART&q=redmi+smartphone&store=tyy%2F4io&srno=s_1_9&otracker=search&otracker1=search&fm=organic&iid=a35484ac-03fc-428d-ac61-c7c96712a1ac.MOBGPVYMG9RWX6XY.SEARCH&ppt=hp&ppn=homepage&ssid=7gn4beomgw0000001694263541535&qH=16e35e1c76bc3b93', 'https://www.flipkart.com/redmi-12-pastel-blue-128-gb/p/itm9b1a6640faccd?pid=MOBGRMFKAHNTZPWE&lid=LSTMOBGRMFKAHNTZPWE1H5IWS&marketplace=FLIPKART&q=redmi+smartphone&store=tyy%2F4io&srno=s_1_10&otracker=search&otracker1=search&fm=organic&iid=a35484ac-03fc-428d-ac61-c7c96712a1ac.MOBGRMFKAHNTZPWE.SEARCH&ppt=hp&ppn=homepage&ssid=7gn4beomgw0000001694263541535&qH=16e35e1c76bc3b93', 'https://www.flipkart.com/redmi-a2-aqua-blue-32-gb/p/itm5d49be2c0a95a?pid=MOBGPUZR8GHCE5ZQ&lid=LSTMOBGPUZR8GHCE5ZQ1P4DF9&marketplace=FLIPKART&q=redmi+smartphone&store=tyy%2F4io&srno=s_1_11&otracker=search&otracker1=search&fm=organic&iid=a35484ac-03fc-428d-ac61-c7c96712a1ac.MOBGPUZR8GHCE5ZQ.SEARCH&ppt=hp&ppn=homepage&ssid=7gn4beomgw0000001694263541535&qH=16e35e1c76bc3b93', 'https://www.flipkart.com/redmi-10-power-power-black-128-gb/p/itm97f5d2ec83588?pid=MOBGHDXFYKKZFZGV&lid=LSTMOBGHDXFYKKZFZGVE0QYTC&marketplace=FLIPKART&q=redmi+smartphone&store=tyy%2F4io&srno=s_1_12&otracker=search&otracker1=search&fm=organic&iid=a35484ac-03fc-428d-ac61-c7c96712a1ac.MOBGHDXFYKKZFZGV.SEARCH&ppt=hp&ppn=homepage&ssid=7gn4beomgw0000001694263541535&qH=16e35e1c76bc3b93', 'https://www.flipkart.com/redmi-6a-blue-16-gb/p/itm1ed294a755383?pid=MOBF9Z2Z3YDBSF6V&lid=LSTMOBF9Z2Z3YDBSF6VX16ZOH&marketplace=FLIPKART&q=redmi+smartphone&store=tyy%2F4io&srno=s_1_13&otracker=search&otracker1=search&fm=organic&iid=a35484ac-03fc-428d-ac61-c7c96712a1ac.MOBF9Z2Z3YDBSF6V.SEARCH&ppt=hp&ppn=homepage&ssid=7gn4beomgw0000001694263541535&qH=16e35e1c76bc3b93', 'https://www.flipkart.com/redmi-12-moonstone-silver-128-gb/p/itm6722b15672602?pid=MOBGRMFK4CSR7GGH&lid=LSTMOBGRMFK4CSR7GGHHKEX2Z&marketplace=FLIPKART&q=redmi+smartphone&store=tyy%2F4io&srno=s_1_14&otracker=search&otracker1=search&fm=organic&iid=a35484ac-03fc-428d-ac61-c7c96712a1ac.MOBGRMFK4CSR7GGH.SEARCH&ppt=hp&ppn=homepage&ssid=7gn4beomgw0000001694263541535&qH=16e35e1c76bc3b93', 'https://www.flipkart.com/redmi-a1-light-green-32-gb/p/itmecc9e7ba0a1df?pid=MOBGGYBAHSAJVKHP&lid=LSTMOBGGYBAHSAJVKHP4UBD9A&marketplace=FLIPKART&q=redmi+smartphone&store=tyy%2F4io&srno=s_1_15&otracker=search&otracker1=search&fm=organic&iid=a35484ac-03fc-428d-ac61-c7c96712a1ac.MOBGGYBAHSAJVKHP.SEARCH&ppt=hp&ppn=homepage&ssid=7gn4beomgw0000001694263541535&qH=16e35e1c76bc3b93', 'https://www.flipkart.com/redmi-11-prime-flashy-black-128-gb/p/itm01f508ea28ab0?pid=MOBGZHFGNDNWAZKZ&lid=LSTMOBGZHFGNDNWAZKZUMANTL&marketplace=FLIPKART&q=redmi+smartphone&store=tyy%2F4io&srno=s_1_16&otracker=search&otracker1=search&fm=organic&iid=a35484ac-03fc-428d-ac61-c7c96712a1ac.MOBGZHFGNDNWAZKZ.SEARCH&ppt=hp&ppn=homepage&ssid=7gn4beomgw0000001694263541535&qH=16e35e1c76bc3b93', 'https://www.flipkart.com/redmi-11-prime-playful-green-128-gb/p/itm0b080e6994972?pid=MOBGZHFGZQMESCDK&lid=LSTMOBGZHFGZQMESCDKZ6ILTE&marketplace=FLIPKART&q=redmi+smartphone&store=tyy%2F4io&srno=s_1_17&otracker=search&otracker1=search&fm=organic&iid=a35484ac-03fc-428d-ac61-c7c96712a1ac.MOBGZHFGZQMESCDK.SEARCH&ppt=hp&ppn=homepage&ssid=7gn4beomgw0000001694263541535&qH=16e35e1c76bc3b93', 'https://www.flipkart.com/redmi-a2-sea-green-64-gb/p/itm5d49be2c0a95a?pid=MOBGPVYEHMPGNCBZ&lid=LSTMOBGPVYEHMPGNCBZHUKI4Z&marketplace=FLIPKART&q=redmi+smartphone&store=tyy%2F4io&srno=s_1_18&otracker=search&otracker1=search&fm=organic&iid=a35484ac-03fc-428d-ac61-c7c96712a1ac.MOBGPVYEHMPGNCBZ.SEARCH&ppt=hp&ppn=homepage&ssid=7gn4beomgw0000001694263541535&qH=16e35e1c76bc3b93', 'https://www.flipkart.com/redmi-a2-classic-black-64-gb/p/itm5d49be2c0a95a?pid=MOBGRHB6XAEUADQB&lid=LSTMOBGRHB6XAEUADQBAI4AJ4&marketplace=FLIPKART&q=redmi+smartphone&store=tyy%2F4io&srno=s_1_19&otracker=search&otracker1=search&fm=organic&iid=a35484ac-03fc-428d-ac61-c7c96712a1ac.MOBGRHB6XAEUADQB.SEARCH&ppt=hp&ppn=homepage&ssid=7gn4beomgw0000001694263541535&qH=16e35e1c76bc3b93', 'https://www.flipkart.com/redmi-12-jade-black-128-gb/p/itmb7050ec01c09f?pid=MOBGRMFKTHKQSJEG&lid=LSTMOBGRMFKTHKQSJEGQK3FM2&marketplace=FLIPKART&q=redmi+smartphone&store=tyy%2F4io&srno=s_1_20&otracker=search&otracker1=search&fm=organic&iid=a35484ac-03fc-428d-ac61-c7c96712a1ac.MOBGRMFKTHKQSJEG.SEARCH&ppt=hp&ppn=homepage&ssid=7gn4beomgw0000001694263541535&qH=16e35e1c76bc3b93', 'https://www.flipkart.com/redmi-12-5g-jade-black-128-gb/p/itm0c8ba13f6fc5b?pid=MOBGS7GYGUAJ4UYZ&lid=LSTMOBGS7GYGUAJ4UYZQQUS5Q&marketplace=FLIPKART&q=redmi+smartphone&store=tyy%2F4io&srno=s_1_21&otracker=search&otracker1=search&fm=organic&iid=a35484ac-03fc-428d-ac61-c7c96712a1ac.MOBGS7GYGUAJ4UYZ.SEARCH&ppt=hp&ppn=homepage&ssid=7gn4beomgw0000001694263541535&qH=16e35e1c76bc3b93', 'https://www.flipkart.com/redmi-note-12-ice-blue-64-gb/p/itmee415766dfc1a?pid=MOBGNYHZYZ4CNTCM&lid=LSTMOBGNYHZYZ4CNTCMVONB0S&marketplace=FLIPKART&q=redmi+smartphone&store=tyy%2F4io&srno=s_1_22&otracker=search&otracker1=search&fm=organic&iid=a35484ac-03fc-428d-ac61-c7c96712a1ac.MOBGNYHZYZ4CNTCM.SEARCH&ppt=hp&ppn=homepage&ssid=7gn4beomgw0000001694263541535&qH=16e35e1c76bc3b93', 'https://www.flipkart.com/redmi-note-12-lunar-black-64-gb/p/itm6756d6e7a86be?pid=MOBGNYHZJGGE3ZHM&lid=LSTMOBGNYHZJGGE3ZHMWSTXBO&marketplace=FLIPKART&q=redmi+smartphone&store=tyy%2F4io&srno=s_1_23&otracker=search&otracker1=search&fm=organic&iid=a35484ac-03fc-428d-ac61-c7c96712a1ac.MOBGNYHZJGGE3ZHM.SEARCH&ppt=hp&ppn=homepage&ssid=7gn4beomgw0000001694263541535&qH=16e35e1c76bc3b93', 'https://www.flipkart.com/redmi-note-12-sunrise-gold-64-gb/p/itm5d170187bcbf0?pid=MOBGNYHZ7ZGHES2V&lid=LSTMOBGNYHZ7ZGHES2VQILAET&marketplace=FLIPKART&q=redmi+smartphone&store=tyy%2F4io&srno=s_1_24&otracker=search&otracker1=search&fm=organic&iid=a35484ac-03fc-428d-ac61-c7c96712a1ac.MOBGNYHZ7ZGHES2V.SEARCH&ppt=hp&ppn=homepage&ssid=7gn4beomgw0000001694263541535&qH=16e35e1c76bc3b93']\n",
      "['https://www.flipkart.com/redmi-12-moonstone-silver-128-gb/p/itme52e778c12701?pid=MOBGRMFK2MGRNG4Q&lid=LSTMOBGRMFK2MGRNG4QFZLVXT&marketplace=FLIPKART&q=redmi+smartphone&store=tyy%2F4io&spotlightTagId=BestsellerId_tyy%2F4io&srno=s_1_1&otracker=search&otracker1=search&fm=Search&iid=a35484ac-03fc-428d-ac61-c7c96712a1ac.MOBGRMFK2MGRNG4Q.SEARCH&ppt=sp&ppn=sp&ssid=7gn4beomgw0000001694263541535&qH=16e35e1c76bc3b93', 'https://www.flipkart.com/redmi-11-prime-peppy-purple-128-gb/p/itm52d6b0fe396e9?pid=MOBGZHFGUHYSHQYM&lid=LSTMOBGZHFGUHYSHQYMWGOOJ0&marketplace=FLIPKART&q=redmi+smartphone&store=tyy%2F4io&srno=s_1_2&otracker=search&otracker1=search&fm=organic&iid=a35484ac-03fc-428d-ac61-c7c96712a1ac.MOBGZHFGUHYSHQYM.SEARCH&ppt=hp&ppn=homepage&ssid=7gn4beomgw0000001694263541535&qH=16e35e1c76bc3b93', 'https://www.flipkart.com/redmi-12-jade-black-128-gb/p/itm7b10fd42f78b2?pid=MOBGRMFKKDQ2A3V4&lid=LSTMOBGRMFKKDQ2A3V4XZOVEW&marketplace=FLIPKART&q=redmi+smartphone&store=tyy%2F4io&spotlightTagId=BestsellerId_tyy%2F4io&srno=s_1_3&otracker=search&otracker1=search&fm=organic&iid=a35484ac-03fc-428d-ac61-c7c96712a1ac.MOBGRMFKKDQ2A3V4.SEARCH&ppt=hp&ppn=homepage&ssid=7gn4beomgw0000001694263541535&qH=16e35e1c76bc3b93', 'https://www.flipkart.com/redmi-12-pastel-blue-128-gb/p/itm48719506a7ceb?pid=MOBGRMFKKGYD9ETX&lid=LSTMOBGRMFKKGYD9ETX5KD9VL&marketplace=FLIPKART&q=redmi+smartphone&store=tyy%2F4io&spotlightTagId=BestsellerId_tyy%2F4io&srno=s_1_4&otracker=search&otracker1=search&fm=organic&iid=a35484ac-03fc-428d-ac61-c7c96712a1ac.MOBGRMFKKGYD9ETX.SEARCH&ppt=hp&ppn=homepage&ssid=7gn4beomgw0000001694263541535&qH=16e35e1c76bc3b93', 'https://www.flipkart.com/redmi-a1-black-32-gb/p/itm70b00a77a7d1d?pid=MOBGGYBABVXHHRDQ&lid=LSTMOBGGYBABVXHHRDQI6PZV5&marketplace=FLIPKART&q=redmi+smartphone&store=tyy%2F4io&srno=s_1_5&otracker=search&otracker1=search&fm=organic&iid=a35484ac-03fc-428d-ac61-c7c96712a1ac.MOBGGYBABVXHHRDQ.SEARCH&ppt=hp&ppn=homepage&ssid=7gn4beomgw0000001694263541535&qH=16e35e1c76bc3b93', 'https://www.flipkart.com/redmi-a2-aqua-blue-64-gb/p/itm5d49be2c0a95a?pid=MOBGR4UZWNAYKSUH&lid=LSTMOBGR4UZWNAYKSUHE3CTOU&marketplace=FLIPKART&q=redmi+smartphone&store=tyy%2F4io&srno=s_1_6&otracker=search&otracker1=search&fm=organic&iid=a35484ac-03fc-428d-ac61-c7c96712a1ac.MOBGR4UZWNAYKSUH.SEARCH&ppt=hp&ppn=homepage&ssid=7gn4beomgw0000001694263541535&qH=16e35e1c76bc3b93', 'https://www.flipkart.com/redmi-a2-classic-black-64-gb/p/itm5d49be2c0a95a?pid=MOBGPVYHRXZ3PFZU&lid=LSTMOBGPVYHRXZ3PFZU0QHLLF&marketplace=FLIPKART&q=redmi+smartphone&store=tyy%2F4io&srno=s_1_7&otracker=search&otracker1=search&fm=organic&iid=a35484ac-03fc-428d-ac61-c7c96712a1ac.MOBGPVYHRXZ3PFZU.SEARCH&ppt=hp&ppn=homepage&ssid=7gn4beomgw0000001694263541535&qH=16e35e1c76bc3b93', 'https://www.flipkart.com/redmi-a2-sea-green-32-gb/p/itm5d49be2c0a95a?pid=MOBGPVYATHJDTSSR&lid=LSTMOBGPVYATHJDTSSR6JMF4X&marketplace=FLIPKART&q=redmi+smartphone&store=tyy%2F4io&srno=s_1_8&otracker=search&otracker1=search&fm=organic&iid=a35484ac-03fc-428d-ac61-c7c96712a1ac.MOBGPVYATHJDTSSR.SEARCH&ppt=hp&ppn=homepage&ssid=7gn4beomgw0000001694263541535&qH=16e35e1c76bc3b93', 'https://www.flipkart.com/redmi-a2-aqua-blue-64-gb/p/itm5d49be2c0a95a?pid=MOBGPVYMG9RWX6XY&lid=LSTMOBGPVYMG9RWX6XYCWTZEK&marketplace=FLIPKART&q=redmi+smartphone&store=tyy%2F4io&srno=s_1_9&otracker=search&otracker1=search&fm=organic&iid=a35484ac-03fc-428d-ac61-c7c96712a1ac.MOBGPVYMG9RWX6XY.SEARCH&ppt=hp&ppn=homepage&ssid=7gn4beomgw0000001694263541535&qH=16e35e1c76bc3b93', 'https://www.flipkart.com/redmi-12-pastel-blue-128-gb/p/itm9b1a6640faccd?pid=MOBGRMFKAHNTZPWE&lid=LSTMOBGRMFKAHNTZPWE1H5IWS&marketplace=FLIPKART&q=redmi+smartphone&store=tyy%2F4io&srno=s_1_10&otracker=search&otracker1=search&fm=organic&iid=a35484ac-03fc-428d-ac61-c7c96712a1ac.MOBGRMFKAHNTZPWE.SEARCH&ppt=hp&ppn=homepage&ssid=7gn4beomgw0000001694263541535&qH=16e35e1c76bc3b93', 'https://www.flipkart.com/redmi-a2-aqua-blue-32-gb/p/itm5d49be2c0a95a?pid=MOBGPUZR8GHCE5ZQ&lid=LSTMOBGPUZR8GHCE5ZQ1P4DF9&marketplace=FLIPKART&q=redmi+smartphone&store=tyy%2F4io&srno=s_1_11&otracker=search&otracker1=search&fm=organic&iid=a35484ac-03fc-428d-ac61-c7c96712a1ac.MOBGPUZR8GHCE5ZQ.SEARCH&ppt=hp&ppn=homepage&ssid=7gn4beomgw0000001694263541535&qH=16e35e1c76bc3b93', 'https://www.flipkart.com/redmi-10-power-power-black-128-gb/p/itm97f5d2ec83588?pid=MOBGHDXFYKKZFZGV&lid=LSTMOBGHDXFYKKZFZGVE0QYTC&marketplace=FLIPKART&q=redmi+smartphone&store=tyy%2F4io&srno=s_1_12&otracker=search&otracker1=search&fm=organic&iid=a35484ac-03fc-428d-ac61-c7c96712a1ac.MOBGHDXFYKKZFZGV.SEARCH&ppt=hp&ppn=homepage&ssid=7gn4beomgw0000001694263541535&qH=16e35e1c76bc3b93', 'https://www.flipkart.com/redmi-6a-blue-16-gb/p/itm1ed294a755383?pid=MOBF9Z2Z3YDBSF6V&lid=LSTMOBF9Z2Z3YDBSF6VX16ZOH&marketplace=FLIPKART&q=redmi+smartphone&store=tyy%2F4io&srno=s_1_13&otracker=search&otracker1=search&fm=organic&iid=a35484ac-03fc-428d-ac61-c7c96712a1ac.MOBF9Z2Z3YDBSF6V.SEARCH&ppt=hp&ppn=homepage&ssid=7gn4beomgw0000001694263541535&qH=16e35e1c76bc3b93', 'https://www.flipkart.com/redmi-12-moonstone-silver-128-gb/p/itm6722b15672602?pid=MOBGRMFK4CSR7GGH&lid=LSTMOBGRMFK4CSR7GGHHKEX2Z&marketplace=FLIPKART&q=redmi+smartphone&store=tyy%2F4io&srno=s_1_14&otracker=search&otracker1=search&fm=organic&iid=a35484ac-03fc-428d-ac61-c7c96712a1ac.MOBGRMFK4CSR7GGH.SEARCH&ppt=hp&ppn=homepage&ssid=7gn4beomgw0000001694263541535&qH=16e35e1c76bc3b93', 'https://www.flipkart.com/redmi-a1-light-green-32-gb/p/itmecc9e7ba0a1df?pid=MOBGGYBAHSAJVKHP&lid=LSTMOBGGYBAHSAJVKHP4UBD9A&marketplace=FLIPKART&q=redmi+smartphone&store=tyy%2F4io&srno=s_1_15&otracker=search&otracker1=search&fm=organic&iid=a35484ac-03fc-428d-ac61-c7c96712a1ac.MOBGGYBAHSAJVKHP.SEARCH&ppt=hp&ppn=homepage&ssid=7gn4beomgw0000001694263541535&qH=16e35e1c76bc3b93', 'https://www.flipkart.com/redmi-11-prime-flashy-black-128-gb/p/itm01f508ea28ab0?pid=MOBGZHFGNDNWAZKZ&lid=LSTMOBGZHFGNDNWAZKZUMANTL&marketplace=FLIPKART&q=redmi+smartphone&store=tyy%2F4io&srno=s_1_16&otracker=search&otracker1=search&fm=organic&iid=a35484ac-03fc-428d-ac61-c7c96712a1ac.MOBGZHFGNDNWAZKZ.SEARCH&ppt=hp&ppn=homepage&ssid=7gn4beomgw0000001694263541535&qH=16e35e1c76bc3b93', 'https://www.flipkart.com/redmi-11-prime-playful-green-128-gb/p/itm0b080e6994972?pid=MOBGZHFGZQMESCDK&lid=LSTMOBGZHFGZQMESCDKZ6ILTE&marketplace=FLIPKART&q=redmi+smartphone&store=tyy%2F4io&srno=s_1_17&otracker=search&otracker1=search&fm=organic&iid=a35484ac-03fc-428d-ac61-c7c96712a1ac.MOBGZHFGZQMESCDK.SEARCH&ppt=hp&ppn=homepage&ssid=7gn4beomgw0000001694263541535&qH=16e35e1c76bc3b93', 'https://www.flipkart.com/redmi-a2-sea-green-64-gb/p/itm5d49be2c0a95a?pid=MOBGPVYEHMPGNCBZ&lid=LSTMOBGPVYEHMPGNCBZHUKI4Z&marketplace=FLIPKART&q=redmi+smartphone&store=tyy%2F4io&srno=s_1_18&otracker=search&otracker1=search&fm=organic&iid=a35484ac-03fc-428d-ac61-c7c96712a1ac.MOBGPVYEHMPGNCBZ.SEARCH&ppt=hp&ppn=homepage&ssid=7gn4beomgw0000001694263541535&qH=16e35e1c76bc3b93', 'https://www.flipkart.com/redmi-a2-classic-black-64-gb/p/itm5d49be2c0a95a?pid=MOBGRHB6XAEUADQB&lid=LSTMOBGRHB6XAEUADQBAI4AJ4&marketplace=FLIPKART&q=redmi+smartphone&store=tyy%2F4io&srno=s_1_19&otracker=search&otracker1=search&fm=organic&iid=a35484ac-03fc-428d-ac61-c7c96712a1ac.MOBGRHB6XAEUADQB.SEARCH&ppt=hp&ppn=homepage&ssid=7gn4beomgw0000001694263541535&qH=16e35e1c76bc3b93', 'https://www.flipkart.com/redmi-12-jade-black-128-gb/p/itmb7050ec01c09f?pid=MOBGRMFKTHKQSJEG&lid=LSTMOBGRMFKTHKQSJEGQK3FM2&marketplace=FLIPKART&q=redmi+smartphone&store=tyy%2F4io&srno=s_1_20&otracker=search&otracker1=search&fm=organic&iid=a35484ac-03fc-428d-ac61-c7c96712a1ac.MOBGRMFKTHKQSJEG.SEARCH&ppt=hp&ppn=homepage&ssid=7gn4beomgw0000001694263541535&qH=16e35e1c76bc3b93', 'https://www.flipkart.com/redmi-12-5g-jade-black-128-gb/p/itm0c8ba13f6fc5b?pid=MOBGS7GYGUAJ4UYZ&lid=LSTMOBGS7GYGUAJ4UYZQQUS5Q&marketplace=FLIPKART&q=redmi+smartphone&store=tyy%2F4io&srno=s_1_21&otracker=search&otracker1=search&fm=organic&iid=a35484ac-03fc-428d-ac61-c7c96712a1ac.MOBGS7GYGUAJ4UYZ.SEARCH&ppt=hp&ppn=homepage&ssid=7gn4beomgw0000001694263541535&qH=16e35e1c76bc3b93', 'https://www.flipkart.com/redmi-note-12-ice-blue-64-gb/p/itmee415766dfc1a?pid=MOBGNYHZYZ4CNTCM&lid=LSTMOBGNYHZYZ4CNTCMVONB0S&marketplace=FLIPKART&q=redmi+smartphone&store=tyy%2F4io&srno=s_1_22&otracker=search&otracker1=search&fm=organic&iid=a35484ac-03fc-428d-ac61-c7c96712a1ac.MOBGNYHZYZ4CNTCM.SEARCH&ppt=hp&ppn=homepage&ssid=7gn4beomgw0000001694263541535&qH=16e35e1c76bc3b93', 'https://www.flipkart.com/redmi-note-12-lunar-black-64-gb/p/itm6756d6e7a86be?pid=MOBGNYHZJGGE3ZHM&lid=LSTMOBGNYHZJGGE3ZHMWSTXBO&marketplace=FLIPKART&q=redmi+smartphone&store=tyy%2F4io&srno=s_1_23&otracker=search&otracker1=search&fm=organic&iid=a35484ac-03fc-428d-ac61-c7c96712a1ac.MOBGNYHZJGGE3ZHM.SEARCH&ppt=hp&ppn=homepage&ssid=7gn4beomgw0000001694263541535&qH=16e35e1c76bc3b93', 'https://www.flipkart.com/redmi-note-12-sunrise-gold-64-gb/p/itm5d170187bcbf0?pid=MOBGNYHZ7ZGHES2V&lid=LSTMOBGNYHZ7ZGHES2VQILAET&marketplace=FLIPKART&q=redmi+smartphone&store=tyy%2F4io&srno=s_1_24&otracker=search&otracker1=search&fm=organic&iid=a35484ac-03fc-428d-ac61-c7c96712a1ac.MOBGNYHZ7ZGHES2V.SEARCH&ppt=hp&ppn=homepage&ssid=7gn4beomgw0000001694263541535&qH=16e35e1c76bc3b93']\n"
     ]
    },
    {
     "name": "stdout",
     "output_type": "stream",
     "text": [
      "['https://www.flipkart.com/redmi-12-moonstone-silver-128-gb/p/itme52e778c12701?pid=MOBGRMFK2MGRNG4Q&lid=LSTMOBGRMFK2MGRNG4QFZLVXT&marketplace=FLIPKART&q=redmi+smartphone&store=tyy%2F4io&spotlightTagId=BestsellerId_tyy%2F4io&srno=s_1_1&otracker=search&otracker1=search&fm=Search&iid=a35484ac-03fc-428d-ac61-c7c96712a1ac.MOBGRMFK2MGRNG4Q.SEARCH&ppt=sp&ppn=sp&ssid=7gn4beomgw0000001694263541535&qH=16e35e1c76bc3b93', 'https://www.flipkart.com/redmi-11-prime-peppy-purple-128-gb/p/itm52d6b0fe396e9?pid=MOBGZHFGUHYSHQYM&lid=LSTMOBGZHFGUHYSHQYMWGOOJ0&marketplace=FLIPKART&q=redmi+smartphone&store=tyy%2F4io&srno=s_1_2&otracker=search&otracker1=search&fm=organic&iid=a35484ac-03fc-428d-ac61-c7c96712a1ac.MOBGZHFGUHYSHQYM.SEARCH&ppt=hp&ppn=homepage&ssid=7gn4beomgw0000001694263541535&qH=16e35e1c76bc3b93', 'https://www.flipkart.com/redmi-12-jade-black-128-gb/p/itm7b10fd42f78b2?pid=MOBGRMFKKDQ2A3V4&lid=LSTMOBGRMFKKDQ2A3V4XZOVEW&marketplace=FLIPKART&q=redmi+smartphone&store=tyy%2F4io&spotlightTagId=BestsellerId_tyy%2F4io&srno=s_1_3&otracker=search&otracker1=search&fm=organic&iid=a35484ac-03fc-428d-ac61-c7c96712a1ac.MOBGRMFKKDQ2A3V4.SEARCH&ppt=hp&ppn=homepage&ssid=7gn4beomgw0000001694263541535&qH=16e35e1c76bc3b93', 'https://www.flipkart.com/redmi-12-pastel-blue-128-gb/p/itm48719506a7ceb?pid=MOBGRMFKKGYD9ETX&lid=LSTMOBGRMFKKGYD9ETX5KD9VL&marketplace=FLIPKART&q=redmi+smartphone&store=tyy%2F4io&spotlightTagId=BestsellerId_tyy%2F4io&srno=s_1_4&otracker=search&otracker1=search&fm=organic&iid=a35484ac-03fc-428d-ac61-c7c96712a1ac.MOBGRMFKKGYD9ETX.SEARCH&ppt=hp&ppn=homepage&ssid=7gn4beomgw0000001694263541535&qH=16e35e1c76bc3b93', 'https://www.flipkart.com/redmi-a1-black-32-gb/p/itm70b00a77a7d1d?pid=MOBGGYBABVXHHRDQ&lid=LSTMOBGGYBABVXHHRDQI6PZV5&marketplace=FLIPKART&q=redmi+smartphone&store=tyy%2F4io&srno=s_1_5&otracker=search&otracker1=search&fm=organic&iid=a35484ac-03fc-428d-ac61-c7c96712a1ac.MOBGGYBABVXHHRDQ.SEARCH&ppt=hp&ppn=homepage&ssid=7gn4beomgw0000001694263541535&qH=16e35e1c76bc3b93', 'https://www.flipkart.com/redmi-a2-aqua-blue-64-gb/p/itm5d49be2c0a95a?pid=MOBGR4UZWNAYKSUH&lid=LSTMOBGR4UZWNAYKSUHE3CTOU&marketplace=FLIPKART&q=redmi+smartphone&store=tyy%2F4io&srno=s_1_6&otracker=search&otracker1=search&fm=organic&iid=a35484ac-03fc-428d-ac61-c7c96712a1ac.MOBGR4UZWNAYKSUH.SEARCH&ppt=hp&ppn=homepage&ssid=7gn4beomgw0000001694263541535&qH=16e35e1c76bc3b93', 'https://www.flipkart.com/redmi-a2-classic-black-64-gb/p/itm5d49be2c0a95a?pid=MOBGPVYHRXZ3PFZU&lid=LSTMOBGPVYHRXZ3PFZU0QHLLF&marketplace=FLIPKART&q=redmi+smartphone&store=tyy%2F4io&srno=s_1_7&otracker=search&otracker1=search&fm=organic&iid=a35484ac-03fc-428d-ac61-c7c96712a1ac.MOBGPVYHRXZ3PFZU.SEARCH&ppt=hp&ppn=homepage&ssid=7gn4beomgw0000001694263541535&qH=16e35e1c76bc3b93', 'https://www.flipkart.com/redmi-a2-sea-green-32-gb/p/itm5d49be2c0a95a?pid=MOBGPVYATHJDTSSR&lid=LSTMOBGPVYATHJDTSSR6JMF4X&marketplace=FLIPKART&q=redmi+smartphone&store=tyy%2F4io&srno=s_1_8&otracker=search&otracker1=search&fm=organic&iid=a35484ac-03fc-428d-ac61-c7c96712a1ac.MOBGPVYATHJDTSSR.SEARCH&ppt=hp&ppn=homepage&ssid=7gn4beomgw0000001694263541535&qH=16e35e1c76bc3b93', 'https://www.flipkart.com/redmi-a2-aqua-blue-64-gb/p/itm5d49be2c0a95a?pid=MOBGPVYMG9RWX6XY&lid=LSTMOBGPVYMG9RWX6XYCWTZEK&marketplace=FLIPKART&q=redmi+smartphone&store=tyy%2F4io&srno=s_1_9&otracker=search&otracker1=search&fm=organic&iid=a35484ac-03fc-428d-ac61-c7c96712a1ac.MOBGPVYMG9RWX6XY.SEARCH&ppt=hp&ppn=homepage&ssid=7gn4beomgw0000001694263541535&qH=16e35e1c76bc3b93', 'https://www.flipkart.com/redmi-12-pastel-blue-128-gb/p/itm9b1a6640faccd?pid=MOBGRMFKAHNTZPWE&lid=LSTMOBGRMFKAHNTZPWE1H5IWS&marketplace=FLIPKART&q=redmi+smartphone&store=tyy%2F4io&srno=s_1_10&otracker=search&otracker1=search&fm=organic&iid=a35484ac-03fc-428d-ac61-c7c96712a1ac.MOBGRMFKAHNTZPWE.SEARCH&ppt=hp&ppn=homepage&ssid=7gn4beomgw0000001694263541535&qH=16e35e1c76bc3b93', 'https://www.flipkart.com/redmi-a2-aqua-blue-32-gb/p/itm5d49be2c0a95a?pid=MOBGPUZR8GHCE5ZQ&lid=LSTMOBGPUZR8GHCE5ZQ1P4DF9&marketplace=FLIPKART&q=redmi+smartphone&store=tyy%2F4io&srno=s_1_11&otracker=search&otracker1=search&fm=organic&iid=a35484ac-03fc-428d-ac61-c7c96712a1ac.MOBGPUZR8GHCE5ZQ.SEARCH&ppt=hp&ppn=homepage&ssid=7gn4beomgw0000001694263541535&qH=16e35e1c76bc3b93', 'https://www.flipkart.com/redmi-10-power-power-black-128-gb/p/itm97f5d2ec83588?pid=MOBGHDXFYKKZFZGV&lid=LSTMOBGHDXFYKKZFZGVE0QYTC&marketplace=FLIPKART&q=redmi+smartphone&store=tyy%2F4io&srno=s_1_12&otracker=search&otracker1=search&fm=organic&iid=a35484ac-03fc-428d-ac61-c7c96712a1ac.MOBGHDXFYKKZFZGV.SEARCH&ppt=hp&ppn=homepage&ssid=7gn4beomgw0000001694263541535&qH=16e35e1c76bc3b93', 'https://www.flipkart.com/redmi-6a-blue-16-gb/p/itm1ed294a755383?pid=MOBF9Z2Z3YDBSF6V&lid=LSTMOBF9Z2Z3YDBSF6VX16ZOH&marketplace=FLIPKART&q=redmi+smartphone&store=tyy%2F4io&srno=s_1_13&otracker=search&otracker1=search&fm=organic&iid=a35484ac-03fc-428d-ac61-c7c96712a1ac.MOBF9Z2Z3YDBSF6V.SEARCH&ppt=hp&ppn=homepage&ssid=7gn4beomgw0000001694263541535&qH=16e35e1c76bc3b93', 'https://www.flipkart.com/redmi-12-moonstone-silver-128-gb/p/itm6722b15672602?pid=MOBGRMFK4CSR7GGH&lid=LSTMOBGRMFK4CSR7GGHHKEX2Z&marketplace=FLIPKART&q=redmi+smartphone&store=tyy%2F4io&srno=s_1_14&otracker=search&otracker1=search&fm=organic&iid=a35484ac-03fc-428d-ac61-c7c96712a1ac.MOBGRMFK4CSR7GGH.SEARCH&ppt=hp&ppn=homepage&ssid=7gn4beomgw0000001694263541535&qH=16e35e1c76bc3b93', 'https://www.flipkart.com/redmi-a1-light-green-32-gb/p/itmecc9e7ba0a1df?pid=MOBGGYBAHSAJVKHP&lid=LSTMOBGGYBAHSAJVKHP4UBD9A&marketplace=FLIPKART&q=redmi+smartphone&store=tyy%2F4io&srno=s_1_15&otracker=search&otracker1=search&fm=organic&iid=a35484ac-03fc-428d-ac61-c7c96712a1ac.MOBGGYBAHSAJVKHP.SEARCH&ppt=hp&ppn=homepage&ssid=7gn4beomgw0000001694263541535&qH=16e35e1c76bc3b93', 'https://www.flipkart.com/redmi-11-prime-flashy-black-128-gb/p/itm01f508ea28ab0?pid=MOBGZHFGNDNWAZKZ&lid=LSTMOBGZHFGNDNWAZKZUMANTL&marketplace=FLIPKART&q=redmi+smartphone&store=tyy%2F4io&srno=s_1_16&otracker=search&otracker1=search&fm=organic&iid=a35484ac-03fc-428d-ac61-c7c96712a1ac.MOBGZHFGNDNWAZKZ.SEARCH&ppt=hp&ppn=homepage&ssid=7gn4beomgw0000001694263541535&qH=16e35e1c76bc3b93', 'https://www.flipkart.com/redmi-11-prime-playful-green-128-gb/p/itm0b080e6994972?pid=MOBGZHFGZQMESCDK&lid=LSTMOBGZHFGZQMESCDKZ6ILTE&marketplace=FLIPKART&q=redmi+smartphone&store=tyy%2F4io&srno=s_1_17&otracker=search&otracker1=search&fm=organic&iid=a35484ac-03fc-428d-ac61-c7c96712a1ac.MOBGZHFGZQMESCDK.SEARCH&ppt=hp&ppn=homepage&ssid=7gn4beomgw0000001694263541535&qH=16e35e1c76bc3b93', 'https://www.flipkart.com/redmi-a2-sea-green-64-gb/p/itm5d49be2c0a95a?pid=MOBGPVYEHMPGNCBZ&lid=LSTMOBGPVYEHMPGNCBZHUKI4Z&marketplace=FLIPKART&q=redmi+smartphone&store=tyy%2F4io&srno=s_1_18&otracker=search&otracker1=search&fm=organic&iid=a35484ac-03fc-428d-ac61-c7c96712a1ac.MOBGPVYEHMPGNCBZ.SEARCH&ppt=hp&ppn=homepage&ssid=7gn4beomgw0000001694263541535&qH=16e35e1c76bc3b93', 'https://www.flipkart.com/redmi-a2-classic-black-64-gb/p/itm5d49be2c0a95a?pid=MOBGRHB6XAEUADQB&lid=LSTMOBGRHB6XAEUADQBAI4AJ4&marketplace=FLIPKART&q=redmi+smartphone&store=tyy%2F4io&srno=s_1_19&otracker=search&otracker1=search&fm=organic&iid=a35484ac-03fc-428d-ac61-c7c96712a1ac.MOBGRHB6XAEUADQB.SEARCH&ppt=hp&ppn=homepage&ssid=7gn4beomgw0000001694263541535&qH=16e35e1c76bc3b93', 'https://www.flipkart.com/redmi-12-jade-black-128-gb/p/itmb7050ec01c09f?pid=MOBGRMFKTHKQSJEG&lid=LSTMOBGRMFKTHKQSJEGQK3FM2&marketplace=FLIPKART&q=redmi+smartphone&store=tyy%2F4io&srno=s_1_20&otracker=search&otracker1=search&fm=organic&iid=a35484ac-03fc-428d-ac61-c7c96712a1ac.MOBGRMFKTHKQSJEG.SEARCH&ppt=hp&ppn=homepage&ssid=7gn4beomgw0000001694263541535&qH=16e35e1c76bc3b93', 'https://www.flipkart.com/redmi-12-5g-jade-black-128-gb/p/itm0c8ba13f6fc5b?pid=MOBGS7GYGUAJ4UYZ&lid=LSTMOBGS7GYGUAJ4UYZQQUS5Q&marketplace=FLIPKART&q=redmi+smartphone&store=tyy%2F4io&srno=s_1_21&otracker=search&otracker1=search&fm=organic&iid=a35484ac-03fc-428d-ac61-c7c96712a1ac.MOBGS7GYGUAJ4UYZ.SEARCH&ppt=hp&ppn=homepage&ssid=7gn4beomgw0000001694263541535&qH=16e35e1c76bc3b93', 'https://www.flipkart.com/redmi-note-12-ice-blue-64-gb/p/itmee415766dfc1a?pid=MOBGNYHZYZ4CNTCM&lid=LSTMOBGNYHZYZ4CNTCMVONB0S&marketplace=FLIPKART&q=redmi+smartphone&store=tyy%2F4io&srno=s_1_22&otracker=search&otracker1=search&fm=organic&iid=a35484ac-03fc-428d-ac61-c7c96712a1ac.MOBGNYHZYZ4CNTCM.SEARCH&ppt=hp&ppn=homepage&ssid=7gn4beomgw0000001694263541535&qH=16e35e1c76bc3b93', 'https://www.flipkart.com/redmi-note-12-lunar-black-64-gb/p/itm6756d6e7a86be?pid=MOBGNYHZJGGE3ZHM&lid=LSTMOBGNYHZJGGE3ZHMWSTXBO&marketplace=FLIPKART&q=redmi+smartphone&store=tyy%2F4io&srno=s_1_23&otracker=search&otracker1=search&fm=organic&iid=a35484ac-03fc-428d-ac61-c7c96712a1ac.MOBGNYHZJGGE3ZHM.SEARCH&ppt=hp&ppn=homepage&ssid=7gn4beomgw0000001694263541535&qH=16e35e1c76bc3b93', 'https://www.flipkart.com/redmi-note-12-sunrise-gold-64-gb/p/itm5d170187bcbf0?pid=MOBGNYHZ7ZGHES2V&lid=LSTMOBGNYHZ7ZGHES2VQILAET&marketplace=FLIPKART&q=redmi+smartphone&store=tyy%2F4io&srno=s_1_24&otracker=search&otracker1=search&fm=organic&iid=a35484ac-03fc-428d-ac61-c7c96712a1ac.MOBGNYHZ7ZGHES2V.SEARCH&ppt=hp&ppn=homepage&ssid=7gn4beomgw0000001694263541535&qH=16e35e1c76bc3b93']\n",
      "['https://www.flipkart.com/redmi-12-moonstone-silver-128-gb/p/itme52e778c12701?pid=MOBGRMFK2MGRNG4Q&lid=LSTMOBGRMFK2MGRNG4QFZLVXT&marketplace=FLIPKART&q=redmi+smartphone&store=tyy%2F4io&spotlightTagId=BestsellerId_tyy%2F4io&srno=s_1_1&otracker=search&otracker1=search&fm=Search&iid=a35484ac-03fc-428d-ac61-c7c96712a1ac.MOBGRMFK2MGRNG4Q.SEARCH&ppt=sp&ppn=sp&ssid=7gn4beomgw0000001694263541535&qH=16e35e1c76bc3b93', 'https://www.flipkart.com/redmi-11-prime-peppy-purple-128-gb/p/itm52d6b0fe396e9?pid=MOBGZHFGUHYSHQYM&lid=LSTMOBGZHFGUHYSHQYMWGOOJ0&marketplace=FLIPKART&q=redmi+smartphone&store=tyy%2F4io&srno=s_1_2&otracker=search&otracker1=search&fm=organic&iid=a35484ac-03fc-428d-ac61-c7c96712a1ac.MOBGZHFGUHYSHQYM.SEARCH&ppt=hp&ppn=homepage&ssid=7gn4beomgw0000001694263541535&qH=16e35e1c76bc3b93', 'https://www.flipkart.com/redmi-12-jade-black-128-gb/p/itm7b10fd42f78b2?pid=MOBGRMFKKDQ2A3V4&lid=LSTMOBGRMFKKDQ2A3V4XZOVEW&marketplace=FLIPKART&q=redmi+smartphone&store=tyy%2F4io&spotlightTagId=BestsellerId_tyy%2F4io&srno=s_1_3&otracker=search&otracker1=search&fm=organic&iid=a35484ac-03fc-428d-ac61-c7c96712a1ac.MOBGRMFKKDQ2A3V4.SEARCH&ppt=hp&ppn=homepage&ssid=7gn4beomgw0000001694263541535&qH=16e35e1c76bc3b93', 'https://www.flipkart.com/redmi-12-pastel-blue-128-gb/p/itm48719506a7ceb?pid=MOBGRMFKKGYD9ETX&lid=LSTMOBGRMFKKGYD9ETX5KD9VL&marketplace=FLIPKART&q=redmi+smartphone&store=tyy%2F4io&spotlightTagId=BestsellerId_tyy%2F4io&srno=s_1_4&otracker=search&otracker1=search&fm=organic&iid=a35484ac-03fc-428d-ac61-c7c96712a1ac.MOBGRMFKKGYD9ETX.SEARCH&ppt=hp&ppn=homepage&ssid=7gn4beomgw0000001694263541535&qH=16e35e1c76bc3b93', 'https://www.flipkart.com/redmi-a1-black-32-gb/p/itm70b00a77a7d1d?pid=MOBGGYBABVXHHRDQ&lid=LSTMOBGGYBABVXHHRDQI6PZV5&marketplace=FLIPKART&q=redmi+smartphone&store=tyy%2F4io&srno=s_1_5&otracker=search&otracker1=search&fm=organic&iid=a35484ac-03fc-428d-ac61-c7c96712a1ac.MOBGGYBABVXHHRDQ.SEARCH&ppt=hp&ppn=homepage&ssid=7gn4beomgw0000001694263541535&qH=16e35e1c76bc3b93', 'https://www.flipkart.com/redmi-a2-aqua-blue-64-gb/p/itm5d49be2c0a95a?pid=MOBGR4UZWNAYKSUH&lid=LSTMOBGR4UZWNAYKSUHE3CTOU&marketplace=FLIPKART&q=redmi+smartphone&store=tyy%2F4io&srno=s_1_6&otracker=search&otracker1=search&fm=organic&iid=a35484ac-03fc-428d-ac61-c7c96712a1ac.MOBGR4UZWNAYKSUH.SEARCH&ppt=hp&ppn=homepage&ssid=7gn4beomgw0000001694263541535&qH=16e35e1c76bc3b93', 'https://www.flipkart.com/redmi-a2-classic-black-64-gb/p/itm5d49be2c0a95a?pid=MOBGPVYHRXZ3PFZU&lid=LSTMOBGPVYHRXZ3PFZU0QHLLF&marketplace=FLIPKART&q=redmi+smartphone&store=tyy%2F4io&srno=s_1_7&otracker=search&otracker1=search&fm=organic&iid=a35484ac-03fc-428d-ac61-c7c96712a1ac.MOBGPVYHRXZ3PFZU.SEARCH&ppt=hp&ppn=homepage&ssid=7gn4beomgw0000001694263541535&qH=16e35e1c76bc3b93', 'https://www.flipkart.com/redmi-a2-sea-green-32-gb/p/itm5d49be2c0a95a?pid=MOBGPVYATHJDTSSR&lid=LSTMOBGPVYATHJDTSSR6JMF4X&marketplace=FLIPKART&q=redmi+smartphone&store=tyy%2F4io&srno=s_1_8&otracker=search&otracker1=search&fm=organic&iid=a35484ac-03fc-428d-ac61-c7c96712a1ac.MOBGPVYATHJDTSSR.SEARCH&ppt=hp&ppn=homepage&ssid=7gn4beomgw0000001694263541535&qH=16e35e1c76bc3b93', 'https://www.flipkart.com/redmi-a2-aqua-blue-64-gb/p/itm5d49be2c0a95a?pid=MOBGPVYMG9RWX6XY&lid=LSTMOBGPVYMG9RWX6XYCWTZEK&marketplace=FLIPKART&q=redmi+smartphone&store=tyy%2F4io&srno=s_1_9&otracker=search&otracker1=search&fm=organic&iid=a35484ac-03fc-428d-ac61-c7c96712a1ac.MOBGPVYMG9RWX6XY.SEARCH&ppt=hp&ppn=homepage&ssid=7gn4beomgw0000001694263541535&qH=16e35e1c76bc3b93', 'https://www.flipkart.com/redmi-12-pastel-blue-128-gb/p/itm9b1a6640faccd?pid=MOBGRMFKAHNTZPWE&lid=LSTMOBGRMFKAHNTZPWE1H5IWS&marketplace=FLIPKART&q=redmi+smartphone&store=tyy%2F4io&srno=s_1_10&otracker=search&otracker1=search&fm=organic&iid=a35484ac-03fc-428d-ac61-c7c96712a1ac.MOBGRMFKAHNTZPWE.SEARCH&ppt=hp&ppn=homepage&ssid=7gn4beomgw0000001694263541535&qH=16e35e1c76bc3b93', 'https://www.flipkart.com/redmi-a2-aqua-blue-32-gb/p/itm5d49be2c0a95a?pid=MOBGPUZR8GHCE5ZQ&lid=LSTMOBGPUZR8GHCE5ZQ1P4DF9&marketplace=FLIPKART&q=redmi+smartphone&store=tyy%2F4io&srno=s_1_11&otracker=search&otracker1=search&fm=organic&iid=a35484ac-03fc-428d-ac61-c7c96712a1ac.MOBGPUZR8GHCE5ZQ.SEARCH&ppt=hp&ppn=homepage&ssid=7gn4beomgw0000001694263541535&qH=16e35e1c76bc3b93', 'https://www.flipkart.com/redmi-10-power-power-black-128-gb/p/itm97f5d2ec83588?pid=MOBGHDXFYKKZFZGV&lid=LSTMOBGHDXFYKKZFZGVE0QYTC&marketplace=FLIPKART&q=redmi+smartphone&store=tyy%2F4io&srno=s_1_12&otracker=search&otracker1=search&fm=organic&iid=a35484ac-03fc-428d-ac61-c7c96712a1ac.MOBGHDXFYKKZFZGV.SEARCH&ppt=hp&ppn=homepage&ssid=7gn4beomgw0000001694263541535&qH=16e35e1c76bc3b93', 'https://www.flipkart.com/redmi-6a-blue-16-gb/p/itm1ed294a755383?pid=MOBF9Z2Z3YDBSF6V&lid=LSTMOBF9Z2Z3YDBSF6VX16ZOH&marketplace=FLIPKART&q=redmi+smartphone&store=tyy%2F4io&srno=s_1_13&otracker=search&otracker1=search&fm=organic&iid=a35484ac-03fc-428d-ac61-c7c96712a1ac.MOBF9Z2Z3YDBSF6V.SEARCH&ppt=hp&ppn=homepage&ssid=7gn4beomgw0000001694263541535&qH=16e35e1c76bc3b93', 'https://www.flipkart.com/redmi-12-moonstone-silver-128-gb/p/itm6722b15672602?pid=MOBGRMFK4CSR7GGH&lid=LSTMOBGRMFK4CSR7GGHHKEX2Z&marketplace=FLIPKART&q=redmi+smartphone&store=tyy%2F4io&srno=s_1_14&otracker=search&otracker1=search&fm=organic&iid=a35484ac-03fc-428d-ac61-c7c96712a1ac.MOBGRMFK4CSR7GGH.SEARCH&ppt=hp&ppn=homepage&ssid=7gn4beomgw0000001694263541535&qH=16e35e1c76bc3b93', 'https://www.flipkart.com/redmi-a1-light-green-32-gb/p/itmecc9e7ba0a1df?pid=MOBGGYBAHSAJVKHP&lid=LSTMOBGGYBAHSAJVKHP4UBD9A&marketplace=FLIPKART&q=redmi+smartphone&store=tyy%2F4io&srno=s_1_15&otracker=search&otracker1=search&fm=organic&iid=a35484ac-03fc-428d-ac61-c7c96712a1ac.MOBGGYBAHSAJVKHP.SEARCH&ppt=hp&ppn=homepage&ssid=7gn4beomgw0000001694263541535&qH=16e35e1c76bc3b93', 'https://www.flipkart.com/redmi-11-prime-flashy-black-128-gb/p/itm01f508ea28ab0?pid=MOBGZHFGNDNWAZKZ&lid=LSTMOBGZHFGNDNWAZKZUMANTL&marketplace=FLIPKART&q=redmi+smartphone&store=tyy%2F4io&srno=s_1_16&otracker=search&otracker1=search&fm=organic&iid=a35484ac-03fc-428d-ac61-c7c96712a1ac.MOBGZHFGNDNWAZKZ.SEARCH&ppt=hp&ppn=homepage&ssid=7gn4beomgw0000001694263541535&qH=16e35e1c76bc3b93', 'https://www.flipkart.com/redmi-11-prime-playful-green-128-gb/p/itm0b080e6994972?pid=MOBGZHFGZQMESCDK&lid=LSTMOBGZHFGZQMESCDKZ6ILTE&marketplace=FLIPKART&q=redmi+smartphone&store=tyy%2F4io&srno=s_1_17&otracker=search&otracker1=search&fm=organic&iid=a35484ac-03fc-428d-ac61-c7c96712a1ac.MOBGZHFGZQMESCDK.SEARCH&ppt=hp&ppn=homepage&ssid=7gn4beomgw0000001694263541535&qH=16e35e1c76bc3b93', 'https://www.flipkart.com/redmi-a2-sea-green-64-gb/p/itm5d49be2c0a95a?pid=MOBGPVYEHMPGNCBZ&lid=LSTMOBGPVYEHMPGNCBZHUKI4Z&marketplace=FLIPKART&q=redmi+smartphone&store=tyy%2F4io&srno=s_1_18&otracker=search&otracker1=search&fm=organic&iid=a35484ac-03fc-428d-ac61-c7c96712a1ac.MOBGPVYEHMPGNCBZ.SEARCH&ppt=hp&ppn=homepage&ssid=7gn4beomgw0000001694263541535&qH=16e35e1c76bc3b93', 'https://www.flipkart.com/redmi-a2-classic-black-64-gb/p/itm5d49be2c0a95a?pid=MOBGRHB6XAEUADQB&lid=LSTMOBGRHB6XAEUADQBAI4AJ4&marketplace=FLIPKART&q=redmi+smartphone&store=tyy%2F4io&srno=s_1_19&otracker=search&otracker1=search&fm=organic&iid=a35484ac-03fc-428d-ac61-c7c96712a1ac.MOBGRHB6XAEUADQB.SEARCH&ppt=hp&ppn=homepage&ssid=7gn4beomgw0000001694263541535&qH=16e35e1c76bc3b93', 'https://www.flipkart.com/redmi-12-jade-black-128-gb/p/itmb7050ec01c09f?pid=MOBGRMFKTHKQSJEG&lid=LSTMOBGRMFKTHKQSJEGQK3FM2&marketplace=FLIPKART&q=redmi+smartphone&store=tyy%2F4io&srno=s_1_20&otracker=search&otracker1=search&fm=organic&iid=a35484ac-03fc-428d-ac61-c7c96712a1ac.MOBGRMFKTHKQSJEG.SEARCH&ppt=hp&ppn=homepage&ssid=7gn4beomgw0000001694263541535&qH=16e35e1c76bc3b93', 'https://www.flipkart.com/redmi-12-5g-jade-black-128-gb/p/itm0c8ba13f6fc5b?pid=MOBGS7GYGUAJ4UYZ&lid=LSTMOBGS7GYGUAJ4UYZQQUS5Q&marketplace=FLIPKART&q=redmi+smartphone&store=tyy%2F4io&srno=s_1_21&otracker=search&otracker1=search&fm=organic&iid=a35484ac-03fc-428d-ac61-c7c96712a1ac.MOBGS7GYGUAJ4UYZ.SEARCH&ppt=hp&ppn=homepage&ssid=7gn4beomgw0000001694263541535&qH=16e35e1c76bc3b93', 'https://www.flipkart.com/redmi-note-12-ice-blue-64-gb/p/itmee415766dfc1a?pid=MOBGNYHZYZ4CNTCM&lid=LSTMOBGNYHZYZ4CNTCMVONB0S&marketplace=FLIPKART&q=redmi+smartphone&store=tyy%2F4io&srno=s_1_22&otracker=search&otracker1=search&fm=organic&iid=a35484ac-03fc-428d-ac61-c7c96712a1ac.MOBGNYHZYZ4CNTCM.SEARCH&ppt=hp&ppn=homepage&ssid=7gn4beomgw0000001694263541535&qH=16e35e1c76bc3b93', 'https://www.flipkart.com/redmi-note-12-lunar-black-64-gb/p/itm6756d6e7a86be?pid=MOBGNYHZJGGE3ZHM&lid=LSTMOBGNYHZJGGE3ZHMWSTXBO&marketplace=FLIPKART&q=redmi+smartphone&store=tyy%2F4io&srno=s_1_23&otracker=search&otracker1=search&fm=organic&iid=a35484ac-03fc-428d-ac61-c7c96712a1ac.MOBGNYHZJGGE3ZHM.SEARCH&ppt=hp&ppn=homepage&ssid=7gn4beomgw0000001694263541535&qH=16e35e1c76bc3b93', 'https://www.flipkart.com/redmi-note-12-sunrise-gold-64-gb/p/itm5d170187bcbf0?pid=MOBGNYHZ7ZGHES2V&lid=LSTMOBGNYHZ7ZGHES2VQILAET&marketplace=FLIPKART&q=redmi+smartphone&store=tyy%2F4io&srno=s_1_24&otracker=search&otracker1=search&fm=organic&iid=a35484ac-03fc-428d-ac61-c7c96712a1ac.MOBGNYHZ7ZGHES2V.SEARCH&ppt=hp&ppn=homepage&ssid=7gn4beomgw0000001694263541535&qH=16e35e1c76bc3b93']\n"
     ]
    },
    {
     "name": "stdout",
     "output_type": "stream",
     "text": [
      "['https://www.flipkart.com/redmi-12-moonstone-silver-128-gb/p/itme52e778c12701?pid=MOBGRMFK2MGRNG4Q&lid=LSTMOBGRMFK2MGRNG4QFZLVXT&marketplace=FLIPKART&q=redmi+smartphone&store=tyy%2F4io&spotlightTagId=BestsellerId_tyy%2F4io&srno=s_1_1&otracker=search&otracker1=search&fm=Search&iid=a35484ac-03fc-428d-ac61-c7c96712a1ac.MOBGRMFK2MGRNG4Q.SEARCH&ppt=sp&ppn=sp&ssid=7gn4beomgw0000001694263541535&qH=16e35e1c76bc3b93', 'https://www.flipkart.com/redmi-11-prime-peppy-purple-128-gb/p/itm52d6b0fe396e9?pid=MOBGZHFGUHYSHQYM&lid=LSTMOBGZHFGUHYSHQYMWGOOJ0&marketplace=FLIPKART&q=redmi+smartphone&store=tyy%2F4io&srno=s_1_2&otracker=search&otracker1=search&fm=organic&iid=a35484ac-03fc-428d-ac61-c7c96712a1ac.MOBGZHFGUHYSHQYM.SEARCH&ppt=hp&ppn=homepage&ssid=7gn4beomgw0000001694263541535&qH=16e35e1c76bc3b93', 'https://www.flipkart.com/redmi-12-jade-black-128-gb/p/itm7b10fd42f78b2?pid=MOBGRMFKKDQ2A3V4&lid=LSTMOBGRMFKKDQ2A3V4XZOVEW&marketplace=FLIPKART&q=redmi+smartphone&store=tyy%2F4io&spotlightTagId=BestsellerId_tyy%2F4io&srno=s_1_3&otracker=search&otracker1=search&fm=organic&iid=a35484ac-03fc-428d-ac61-c7c96712a1ac.MOBGRMFKKDQ2A3V4.SEARCH&ppt=hp&ppn=homepage&ssid=7gn4beomgw0000001694263541535&qH=16e35e1c76bc3b93', 'https://www.flipkart.com/redmi-12-pastel-blue-128-gb/p/itm48719506a7ceb?pid=MOBGRMFKKGYD9ETX&lid=LSTMOBGRMFKKGYD9ETX5KD9VL&marketplace=FLIPKART&q=redmi+smartphone&store=tyy%2F4io&spotlightTagId=BestsellerId_tyy%2F4io&srno=s_1_4&otracker=search&otracker1=search&fm=organic&iid=a35484ac-03fc-428d-ac61-c7c96712a1ac.MOBGRMFKKGYD9ETX.SEARCH&ppt=hp&ppn=homepage&ssid=7gn4beomgw0000001694263541535&qH=16e35e1c76bc3b93', 'https://www.flipkart.com/redmi-a1-black-32-gb/p/itm70b00a77a7d1d?pid=MOBGGYBABVXHHRDQ&lid=LSTMOBGGYBABVXHHRDQI6PZV5&marketplace=FLIPKART&q=redmi+smartphone&store=tyy%2F4io&srno=s_1_5&otracker=search&otracker1=search&fm=organic&iid=a35484ac-03fc-428d-ac61-c7c96712a1ac.MOBGGYBABVXHHRDQ.SEARCH&ppt=hp&ppn=homepage&ssid=7gn4beomgw0000001694263541535&qH=16e35e1c76bc3b93', 'https://www.flipkart.com/redmi-a2-aqua-blue-64-gb/p/itm5d49be2c0a95a?pid=MOBGR4UZWNAYKSUH&lid=LSTMOBGR4UZWNAYKSUHE3CTOU&marketplace=FLIPKART&q=redmi+smartphone&store=tyy%2F4io&srno=s_1_6&otracker=search&otracker1=search&fm=organic&iid=a35484ac-03fc-428d-ac61-c7c96712a1ac.MOBGR4UZWNAYKSUH.SEARCH&ppt=hp&ppn=homepage&ssid=7gn4beomgw0000001694263541535&qH=16e35e1c76bc3b93', 'https://www.flipkart.com/redmi-a2-classic-black-64-gb/p/itm5d49be2c0a95a?pid=MOBGPVYHRXZ3PFZU&lid=LSTMOBGPVYHRXZ3PFZU0QHLLF&marketplace=FLIPKART&q=redmi+smartphone&store=tyy%2F4io&srno=s_1_7&otracker=search&otracker1=search&fm=organic&iid=a35484ac-03fc-428d-ac61-c7c96712a1ac.MOBGPVYHRXZ3PFZU.SEARCH&ppt=hp&ppn=homepage&ssid=7gn4beomgw0000001694263541535&qH=16e35e1c76bc3b93', 'https://www.flipkart.com/redmi-a2-sea-green-32-gb/p/itm5d49be2c0a95a?pid=MOBGPVYATHJDTSSR&lid=LSTMOBGPVYATHJDTSSR6JMF4X&marketplace=FLIPKART&q=redmi+smartphone&store=tyy%2F4io&srno=s_1_8&otracker=search&otracker1=search&fm=organic&iid=a35484ac-03fc-428d-ac61-c7c96712a1ac.MOBGPVYATHJDTSSR.SEARCH&ppt=hp&ppn=homepage&ssid=7gn4beomgw0000001694263541535&qH=16e35e1c76bc3b93', 'https://www.flipkart.com/redmi-a2-aqua-blue-64-gb/p/itm5d49be2c0a95a?pid=MOBGPVYMG9RWX6XY&lid=LSTMOBGPVYMG9RWX6XYCWTZEK&marketplace=FLIPKART&q=redmi+smartphone&store=tyy%2F4io&srno=s_1_9&otracker=search&otracker1=search&fm=organic&iid=a35484ac-03fc-428d-ac61-c7c96712a1ac.MOBGPVYMG9RWX6XY.SEARCH&ppt=hp&ppn=homepage&ssid=7gn4beomgw0000001694263541535&qH=16e35e1c76bc3b93', 'https://www.flipkart.com/redmi-12-pastel-blue-128-gb/p/itm9b1a6640faccd?pid=MOBGRMFKAHNTZPWE&lid=LSTMOBGRMFKAHNTZPWE1H5IWS&marketplace=FLIPKART&q=redmi+smartphone&store=tyy%2F4io&srno=s_1_10&otracker=search&otracker1=search&fm=organic&iid=a35484ac-03fc-428d-ac61-c7c96712a1ac.MOBGRMFKAHNTZPWE.SEARCH&ppt=hp&ppn=homepage&ssid=7gn4beomgw0000001694263541535&qH=16e35e1c76bc3b93', 'https://www.flipkart.com/redmi-a2-aqua-blue-32-gb/p/itm5d49be2c0a95a?pid=MOBGPUZR8GHCE5ZQ&lid=LSTMOBGPUZR8GHCE5ZQ1P4DF9&marketplace=FLIPKART&q=redmi+smartphone&store=tyy%2F4io&srno=s_1_11&otracker=search&otracker1=search&fm=organic&iid=a35484ac-03fc-428d-ac61-c7c96712a1ac.MOBGPUZR8GHCE5ZQ.SEARCH&ppt=hp&ppn=homepage&ssid=7gn4beomgw0000001694263541535&qH=16e35e1c76bc3b93', 'https://www.flipkart.com/redmi-10-power-power-black-128-gb/p/itm97f5d2ec83588?pid=MOBGHDXFYKKZFZGV&lid=LSTMOBGHDXFYKKZFZGVE0QYTC&marketplace=FLIPKART&q=redmi+smartphone&store=tyy%2F4io&srno=s_1_12&otracker=search&otracker1=search&fm=organic&iid=a35484ac-03fc-428d-ac61-c7c96712a1ac.MOBGHDXFYKKZFZGV.SEARCH&ppt=hp&ppn=homepage&ssid=7gn4beomgw0000001694263541535&qH=16e35e1c76bc3b93', 'https://www.flipkart.com/redmi-6a-blue-16-gb/p/itm1ed294a755383?pid=MOBF9Z2Z3YDBSF6V&lid=LSTMOBF9Z2Z3YDBSF6VX16ZOH&marketplace=FLIPKART&q=redmi+smartphone&store=tyy%2F4io&srno=s_1_13&otracker=search&otracker1=search&fm=organic&iid=a35484ac-03fc-428d-ac61-c7c96712a1ac.MOBF9Z2Z3YDBSF6V.SEARCH&ppt=hp&ppn=homepage&ssid=7gn4beomgw0000001694263541535&qH=16e35e1c76bc3b93', 'https://www.flipkart.com/redmi-12-moonstone-silver-128-gb/p/itm6722b15672602?pid=MOBGRMFK4CSR7GGH&lid=LSTMOBGRMFK4CSR7GGHHKEX2Z&marketplace=FLIPKART&q=redmi+smartphone&store=tyy%2F4io&srno=s_1_14&otracker=search&otracker1=search&fm=organic&iid=a35484ac-03fc-428d-ac61-c7c96712a1ac.MOBGRMFK4CSR7GGH.SEARCH&ppt=hp&ppn=homepage&ssid=7gn4beomgw0000001694263541535&qH=16e35e1c76bc3b93', 'https://www.flipkart.com/redmi-a1-light-green-32-gb/p/itmecc9e7ba0a1df?pid=MOBGGYBAHSAJVKHP&lid=LSTMOBGGYBAHSAJVKHP4UBD9A&marketplace=FLIPKART&q=redmi+smartphone&store=tyy%2F4io&srno=s_1_15&otracker=search&otracker1=search&fm=organic&iid=a35484ac-03fc-428d-ac61-c7c96712a1ac.MOBGGYBAHSAJVKHP.SEARCH&ppt=hp&ppn=homepage&ssid=7gn4beomgw0000001694263541535&qH=16e35e1c76bc3b93', 'https://www.flipkart.com/redmi-11-prime-flashy-black-128-gb/p/itm01f508ea28ab0?pid=MOBGZHFGNDNWAZKZ&lid=LSTMOBGZHFGNDNWAZKZUMANTL&marketplace=FLIPKART&q=redmi+smartphone&store=tyy%2F4io&srno=s_1_16&otracker=search&otracker1=search&fm=organic&iid=a35484ac-03fc-428d-ac61-c7c96712a1ac.MOBGZHFGNDNWAZKZ.SEARCH&ppt=hp&ppn=homepage&ssid=7gn4beomgw0000001694263541535&qH=16e35e1c76bc3b93', 'https://www.flipkart.com/redmi-11-prime-playful-green-128-gb/p/itm0b080e6994972?pid=MOBGZHFGZQMESCDK&lid=LSTMOBGZHFGZQMESCDKZ6ILTE&marketplace=FLIPKART&q=redmi+smartphone&store=tyy%2F4io&srno=s_1_17&otracker=search&otracker1=search&fm=organic&iid=a35484ac-03fc-428d-ac61-c7c96712a1ac.MOBGZHFGZQMESCDK.SEARCH&ppt=hp&ppn=homepage&ssid=7gn4beomgw0000001694263541535&qH=16e35e1c76bc3b93', 'https://www.flipkart.com/redmi-a2-sea-green-64-gb/p/itm5d49be2c0a95a?pid=MOBGPVYEHMPGNCBZ&lid=LSTMOBGPVYEHMPGNCBZHUKI4Z&marketplace=FLIPKART&q=redmi+smartphone&store=tyy%2F4io&srno=s_1_18&otracker=search&otracker1=search&fm=organic&iid=a35484ac-03fc-428d-ac61-c7c96712a1ac.MOBGPVYEHMPGNCBZ.SEARCH&ppt=hp&ppn=homepage&ssid=7gn4beomgw0000001694263541535&qH=16e35e1c76bc3b93', 'https://www.flipkart.com/redmi-a2-classic-black-64-gb/p/itm5d49be2c0a95a?pid=MOBGRHB6XAEUADQB&lid=LSTMOBGRHB6XAEUADQBAI4AJ4&marketplace=FLIPKART&q=redmi+smartphone&store=tyy%2F4io&srno=s_1_19&otracker=search&otracker1=search&fm=organic&iid=a35484ac-03fc-428d-ac61-c7c96712a1ac.MOBGRHB6XAEUADQB.SEARCH&ppt=hp&ppn=homepage&ssid=7gn4beomgw0000001694263541535&qH=16e35e1c76bc3b93', 'https://www.flipkart.com/redmi-12-jade-black-128-gb/p/itmb7050ec01c09f?pid=MOBGRMFKTHKQSJEG&lid=LSTMOBGRMFKTHKQSJEGQK3FM2&marketplace=FLIPKART&q=redmi+smartphone&store=tyy%2F4io&srno=s_1_20&otracker=search&otracker1=search&fm=organic&iid=a35484ac-03fc-428d-ac61-c7c96712a1ac.MOBGRMFKTHKQSJEG.SEARCH&ppt=hp&ppn=homepage&ssid=7gn4beomgw0000001694263541535&qH=16e35e1c76bc3b93', 'https://www.flipkart.com/redmi-12-5g-jade-black-128-gb/p/itm0c8ba13f6fc5b?pid=MOBGS7GYGUAJ4UYZ&lid=LSTMOBGS7GYGUAJ4UYZQQUS5Q&marketplace=FLIPKART&q=redmi+smartphone&store=tyy%2F4io&srno=s_1_21&otracker=search&otracker1=search&fm=organic&iid=a35484ac-03fc-428d-ac61-c7c96712a1ac.MOBGS7GYGUAJ4UYZ.SEARCH&ppt=hp&ppn=homepage&ssid=7gn4beomgw0000001694263541535&qH=16e35e1c76bc3b93', 'https://www.flipkart.com/redmi-note-12-ice-blue-64-gb/p/itmee415766dfc1a?pid=MOBGNYHZYZ4CNTCM&lid=LSTMOBGNYHZYZ4CNTCMVONB0S&marketplace=FLIPKART&q=redmi+smartphone&store=tyy%2F4io&srno=s_1_22&otracker=search&otracker1=search&fm=organic&iid=a35484ac-03fc-428d-ac61-c7c96712a1ac.MOBGNYHZYZ4CNTCM.SEARCH&ppt=hp&ppn=homepage&ssid=7gn4beomgw0000001694263541535&qH=16e35e1c76bc3b93', 'https://www.flipkart.com/redmi-note-12-lunar-black-64-gb/p/itm6756d6e7a86be?pid=MOBGNYHZJGGE3ZHM&lid=LSTMOBGNYHZJGGE3ZHMWSTXBO&marketplace=FLIPKART&q=redmi+smartphone&store=tyy%2F4io&srno=s_1_23&otracker=search&otracker1=search&fm=organic&iid=a35484ac-03fc-428d-ac61-c7c96712a1ac.MOBGNYHZJGGE3ZHM.SEARCH&ppt=hp&ppn=homepage&ssid=7gn4beomgw0000001694263541535&qH=16e35e1c76bc3b93', 'https://www.flipkart.com/redmi-note-12-sunrise-gold-64-gb/p/itm5d170187bcbf0?pid=MOBGNYHZ7ZGHES2V&lid=LSTMOBGNYHZ7ZGHES2VQILAET&marketplace=FLIPKART&q=redmi+smartphone&store=tyy%2F4io&srno=s_1_24&otracker=search&otracker1=search&fm=organic&iid=a35484ac-03fc-428d-ac61-c7c96712a1ac.MOBGNYHZ7ZGHES2V.SEARCH&ppt=hp&ppn=homepage&ssid=7gn4beomgw0000001694263541535&qH=16e35e1c76bc3b93']\n",
      "['https://www.flipkart.com/redmi-12-moonstone-silver-128-gb/p/itme52e778c12701?pid=MOBGRMFK2MGRNG4Q&lid=LSTMOBGRMFK2MGRNG4QFZLVXT&marketplace=FLIPKART&q=redmi+smartphone&store=tyy%2F4io&spotlightTagId=BestsellerId_tyy%2F4io&srno=s_1_1&otracker=search&otracker1=search&fm=Search&iid=a35484ac-03fc-428d-ac61-c7c96712a1ac.MOBGRMFK2MGRNG4Q.SEARCH&ppt=sp&ppn=sp&ssid=7gn4beomgw0000001694263541535&qH=16e35e1c76bc3b93', 'https://www.flipkart.com/redmi-11-prime-peppy-purple-128-gb/p/itm52d6b0fe396e9?pid=MOBGZHFGUHYSHQYM&lid=LSTMOBGZHFGUHYSHQYMWGOOJ0&marketplace=FLIPKART&q=redmi+smartphone&store=tyy%2F4io&srno=s_1_2&otracker=search&otracker1=search&fm=organic&iid=a35484ac-03fc-428d-ac61-c7c96712a1ac.MOBGZHFGUHYSHQYM.SEARCH&ppt=hp&ppn=homepage&ssid=7gn4beomgw0000001694263541535&qH=16e35e1c76bc3b93', 'https://www.flipkart.com/redmi-12-jade-black-128-gb/p/itm7b10fd42f78b2?pid=MOBGRMFKKDQ2A3V4&lid=LSTMOBGRMFKKDQ2A3V4XZOVEW&marketplace=FLIPKART&q=redmi+smartphone&store=tyy%2F4io&spotlightTagId=BestsellerId_tyy%2F4io&srno=s_1_3&otracker=search&otracker1=search&fm=organic&iid=a35484ac-03fc-428d-ac61-c7c96712a1ac.MOBGRMFKKDQ2A3V4.SEARCH&ppt=hp&ppn=homepage&ssid=7gn4beomgw0000001694263541535&qH=16e35e1c76bc3b93', 'https://www.flipkart.com/redmi-12-pastel-blue-128-gb/p/itm48719506a7ceb?pid=MOBGRMFKKGYD9ETX&lid=LSTMOBGRMFKKGYD9ETX5KD9VL&marketplace=FLIPKART&q=redmi+smartphone&store=tyy%2F4io&spotlightTagId=BestsellerId_tyy%2F4io&srno=s_1_4&otracker=search&otracker1=search&fm=organic&iid=a35484ac-03fc-428d-ac61-c7c96712a1ac.MOBGRMFKKGYD9ETX.SEARCH&ppt=hp&ppn=homepage&ssid=7gn4beomgw0000001694263541535&qH=16e35e1c76bc3b93', 'https://www.flipkart.com/redmi-a1-black-32-gb/p/itm70b00a77a7d1d?pid=MOBGGYBABVXHHRDQ&lid=LSTMOBGGYBABVXHHRDQI6PZV5&marketplace=FLIPKART&q=redmi+smartphone&store=tyy%2F4io&srno=s_1_5&otracker=search&otracker1=search&fm=organic&iid=a35484ac-03fc-428d-ac61-c7c96712a1ac.MOBGGYBABVXHHRDQ.SEARCH&ppt=hp&ppn=homepage&ssid=7gn4beomgw0000001694263541535&qH=16e35e1c76bc3b93', 'https://www.flipkart.com/redmi-a2-aqua-blue-64-gb/p/itm5d49be2c0a95a?pid=MOBGR4UZWNAYKSUH&lid=LSTMOBGR4UZWNAYKSUHE3CTOU&marketplace=FLIPKART&q=redmi+smartphone&store=tyy%2F4io&srno=s_1_6&otracker=search&otracker1=search&fm=organic&iid=a35484ac-03fc-428d-ac61-c7c96712a1ac.MOBGR4UZWNAYKSUH.SEARCH&ppt=hp&ppn=homepage&ssid=7gn4beomgw0000001694263541535&qH=16e35e1c76bc3b93', 'https://www.flipkart.com/redmi-a2-classic-black-64-gb/p/itm5d49be2c0a95a?pid=MOBGPVYHRXZ3PFZU&lid=LSTMOBGPVYHRXZ3PFZU0QHLLF&marketplace=FLIPKART&q=redmi+smartphone&store=tyy%2F4io&srno=s_1_7&otracker=search&otracker1=search&fm=organic&iid=a35484ac-03fc-428d-ac61-c7c96712a1ac.MOBGPVYHRXZ3PFZU.SEARCH&ppt=hp&ppn=homepage&ssid=7gn4beomgw0000001694263541535&qH=16e35e1c76bc3b93', 'https://www.flipkart.com/redmi-a2-sea-green-32-gb/p/itm5d49be2c0a95a?pid=MOBGPVYATHJDTSSR&lid=LSTMOBGPVYATHJDTSSR6JMF4X&marketplace=FLIPKART&q=redmi+smartphone&store=tyy%2F4io&srno=s_1_8&otracker=search&otracker1=search&fm=organic&iid=a35484ac-03fc-428d-ac61-c7c96712a1ac.MOBGPVYATHJDTSSR.SEARCH&ppt=hp&ppn=homepage&ssid=7gn4beomgw0000001694263541535&qH=16e35e1c76bc3b93', 'https://www.flipkart.com/redmi-a2-aqua-blue-64-gb/p/itm5d49be2c0a95a?pid=MOBGPVYMG9RWX6XY&lid=LSTMOBGPVYMG9RWX6XYCWTZEK&marketplace=FLIPKART&q=redmi+smartphone&store=tyy%2F4io&srno=s_1_9&otracker=search&otracker1=search&fm=organic&iid=a35484ac-03fc-428d-ac61-c7c96712a1ac.MOBGPVYMG9RWX6XY.SEARCH&ppt=hp&ppn=homepage&ssid=7gn4beomgw0000001694263541535&qH=16e35e1c76bc3b93', 'https://www.flipkart.com/redmi-12-pastel-blue-128-gb/p/itm9b1a6640faccd?pid=MOBGRMFKAHNTZPWE&lid=LSTMOBGRMFKAHNTZPWE1H5IWS&marketplace=FLIPKART&q=redmi+smartphone&store=tyy%2F4io&srno=s_1_10&otracker=search&otracker1=search&fm=organic&iid=a35484ac-03fc-428d-ac61-c7c96712a1ac.MOBGRMFKAHNTZPWE.SEARCH&ppt=hp&ppn=homepage&ssid=7gn4beomgw0000001694263541535&qH=16e35e1c76bc3b93', 'https://www.flipkart.com/redmi-a2-aqua-blue-32-gb/p/itm5d49be2c0a95a?pid=MOBGPUZR8GHCE5ZQ&lid=LSTMOBGPUZR8GHCE5ZQ1P4DF9&marketplace=FLIPKART&q=redmi+smartphone&store=tyy%2F4io&srno=s_1_11&otracker=search&otracker1=search&fm=organic&iid=a35484ac-03fc-428d-ac61-c7c96712a1ac.MOBGPUZR8GHCE5ZQ.SEARCH&ppt=hp&ppn=homepage&ssid=7gn4beomgw0000001694263541535&qH=16e35e1c76bc3b93', 'https://www.flipkart.com/redmi-10-power-power-black-128-gb/p/itm97f5d2ec83588?pid=MOBGHDXFYKKZFZGV&lid=LSTMOBGHDXFYKKZFZGVE0QYTC&marketplace=FLIPKART&q=redmi+smartphone&store=tyy%2F4io&srno=s_1_12&otracker=search&otracker1=search&fm=organic&iid=a35484ac-03fc-428d-ac61-c7c96712a1ac.MOBGHDXFYKKZFZGV.SEARCH&ppt=hp&ppn=homepage&ssid=7gn4beomgw0000001694263541535&qH=16e35e1c76bc3b93', 'https://www.flipkart.com/redmi-6a-blue-16-gb/p/itm1ed294a755383?pid=MOBF9Z2Z3YDBSF6V&lid=LSTMOBF9Z2Z3YDBSF6VX16ZOH&marketplace=FLIPKART&q=redmi+smartphone&store=tyy%2F4io&srno=s_1_13&otracker=search&otracker1=search&fm=organic&iid=a35484ac-03fc-428d-ac61-c7c96712a1ac.MOBF9Z2Z3YDBSF6V.SEARCH&ppt=hp&ppn=homepage&ssid=7gn4beomgw0000001694263541535&qH=16e35e1c76bc3b93', 'https://www.flipkart.com/redmi-12-moonstone-silver-128-gb/p/itm6722b15672602?pid=MOBGRMFK4CSR7GGH&lid=LSTMOBGRMFK4CSR7GGHHKEX2Z&marketplace=FLIPKART&q=redmi+smartphone&store=tyy%2F4io&srno=s_1_14&otracker=search&otracker1=search&fm=organic&iid=a35484ac-03fc-428d-ac61-c7c96712a1ac.MOBGRMFK4CSR7GGH.SEARCH&ppt=hp&ppn=homepage&ssid=7gn4beomgw0000001694263541535&qH=16e35e1c76bc3b93', 'https://www.flipkart.com/redmi-a1-light-green-32-gb/p/itmecc9e7ba0a1df?pid=MOBGGYBAHSAJVKHP&lid=LSTMOBGGYBAHSAJVKHP4UBD9A&marketplace=FLIPKART&q=redmi+smartphone&store=tyy%2F4io&srno=s_1_15&otracker=search&otracker1=search&fm=organic&iid=a35484ac-03fc-428d-ac61-c7c96712a1ac.MOBGGYBAHSAJVKHP.SEARCH&ppt=hp&ppn=homepage&ssid=7gn4beomgw0000001694263541535&qH=16e35e1c76bc3b93', 'https://www.flipkart.com/redmi-11-prime-flashy-black-128-gb/p/itm01f508ea28ab0?pid=MOBGZHFGNDNWAZKZ&lid=LSTMOBGZHFGNDNWAZKZUMANTL&marketplace=FLIPKART&q=redmi+smartphone&store=tyy%2F4io&srno=s_1_16&otracker=search&otracker1=search&fm=organic&iid=a35484ac-03fc-428d-ac61-c7c96712a1ac.MOBGZHFGNDNWAZKZ.SEARCH&ppt=hp&ppn=homepage&ssid=7gn4beomgw0000001694263541535&qH=16e35e1c76bc3b93', 'https://www.flipkart.com/redmi-11-prime-playful-green-128-gb/p/itm0b080e6994972?pid=MOBGZHFGZQMESCDK&lid=LSTMOBGZHFGZQMESCDKZ6ILTE&marketplace=FLIPKART&q=redmi+smartphone&store=tyy%2F4io&srno=s_1_17&otracker=search&otracker1=search&fm=organic&iid=a35484ac-03fc-428d-ac61-c7c96712a1ac.MOBGZHFGZQMESCDK.SEARCH&ppt=hp&ppn=homepage&ssid=7gn4beomgw0000001694263541535&qH=16e35e1c76bc3b93', 'https://www.flipkart.com/redmi-a2-sea-green-64-gb/p/itm5d49be2c0a95a?pid=MOBGPVYEHMPGNCBZ&lid=LSTMOBGPVYEHMPGNCBZHUKI4Z&marketplace=FLIPKART&q=redmi+smartphone&store=tyy%2F4io&srno=s_1_18&otracker=search&otracker1=search&fm=organic&iid=a35484ac-03fc-428d-ac61-c7c96712a1ac.MOBGPVYEHMPGNCBZ.SEARCH&ppt=hp&ppn=homepage&ssid=7gn4beomgw0000001694263541535&qH=16e35e1c76bc3b93', 'https://www.flipkart.com/redmi-a2-classic-black-64-gb/p/itm5d49be2c0a95a?pid=MOBGRHB6XAEUADQB&lid=LSTMOBGRHB6XAEUADQBAI4AJ4&marketplace=FLIPKART&q=redmi+smartphone&store=tyy%2F4io&srno=s_1_19&otracker=search&otracker1=search&fm=organic&iid=a35484ac-03fc-428d-ac61-c7c96712a1ac.MOBGRHB6XAEUADQB.SEARCH&ppt=hp&ppn=homepage&ssid=7gn4beomgw0000001694263541535&qH=16e35e1c76bc3b93', 'https://www.flipkart.com/redmi-12-jade-black-128-gb/p/itmb7050ec01c09f?pid=MOBGRMFKTHKQSJEG&lid=LSTMOBGRMFKTHKQSJEGQK3FM2&marketplace=FLIPKART&q=redmi+smartphone&store=tyy%2F4io&srno=s_1_20&otracker=search&otracker1=search&fm=organic&iid=a35484ac-03fc-428d-ac61-c7c96712a1ac.MOBGRMFKTHKQSJEG.SEARCH&ppt=hp&ppn=homepage&ssid=7gn4beomgw0000001694263541535&qH=16e35e1c76bc3b93', 'https://www.flipkart.com/redmi-12-5g-jade-black-128-gb/p/itm0c8ba13f6fc5b?pid=MOBGS7GYGUAJ4UYZ&lid=LSTMOBGS7GYGUAJ4UYZQQUS5Q&marketplace=FLIPKART&q=redmi+smartphone&store=tyy%2F4io&srno=s_1_21&otracker=search&otracker1=search&fm=organic&iid=a35484ac-03fc-428d-ac61-c7c96712a1ac.MOBGS7GYGUAJ4UYZ.SEARCH&ppt=hp&ppn=homepage&ssid=7gn4beomgw0000001694263541535&qH=16e35e1c76bc3b93', 'https://www.flipkart.com/redmi-note-12-ice-blue-64-gb/p/itmee415766dfc1a?pid=MOBGNYHZYZ4CNTCM&lid=LSTMOBGNYHZYZ4CNTCMVONB0S&marketplace=FLIPKART&q=redmi+smartphone&store=tyy%2F4io&srno=s_1_22&otracker=search&otracker1=search&fm=organic&iid=a35484ac-03fc-428d-ac61-c7c96712a1ac.MOBGNYHZYZ4CNTCM.SEARCH&ppt=hp&ppn=homepage&ssid=7gn4beomgw0000001694263541535&qH=16e35e1c76bc3b93', 'https://www.flipkart.com/redmi-note-12-lunar-black-64-gb/p/itm6756d6e7a86be?pid=MOBGNYHZJGGE3ZHM&lid=LSTMOBGNYHZJGGE3ZHMWSTXBO&marketplace=FLIPKART&q=redmi+smartphone&store=tyy%2F4io&srno=s_1_23&otracker=search&otracker1=search&fm=organic&iid=a35484ac-03fc-428d-ac61-c7c96712a1ac.MOBGNYHZJGGE3ZHM.SEARCH&ppt=hp&ppn=homepage&ssid=7gn4beomgw0000001694263541535&qH=16e35e1c76bc3b93', 'https://www.flipkart.com/redmi-note-12-sunrise-gold-64-gb/p/itm5d170187bcbf0?pid=MOBGNYHZ7ZGHES2V&lid=LSTMOBGNYHZ7ZGHES2VQILAET&marketplace=FLIPKART&q=redmi+smartphone&store=tyy%2F4io&srno=s_1_24&otracker=search&otracker1=search&fm=organic&iid=a35484ac-03fc-428d-ac61-c7c96712a1ac.MOBGNYHZ7ZGHES2V.SEARCH&ppt=hp&ppn=homepage&ssid=7gn4beomgw0000001694263541535&qH=16e35e1c76bc3b93']\n"
     ]
    },
    {
     "name": "stdout",
     "output_type": "stream",
     "text": [
      "['https://www.flipkart.com/redmi-12-moonstone-silver-128-gb/p/itme52e778c12701?pid=MOBGRMFK2MGRNG4Q&lid=LSTMOBGRMFK2MGRNG4QFZLVXT&marketplace=FLIPKART&q=redmi+smartphone&store=tyy%2F4io&spotlightTagId=BestsellerId_tyy%2F4io&srno=s_1_1&otracker=search&otracker1=search&fm=Search&iid=a35484ac-03fc-428d-ac61-c7c96712a1ac.MOBGRMFK2MGRNG4Q.SEARCH&ppt=sp&ppn=sp&ssid=7gn4beomgw0000001694263541535&qH=16e35e1c76bc3b93', 'https://www.flipkart.com/redmi-11-prime-peppy-purple-128-gb/p/itm52d6b0fe396e9?pid=MOBGZHFGUHYSHQYM&lid=LSTMOBGZHFGUHYSHQYMWGOOJ0&marketplace=FLIPKART&q=redmi+smartphone&store=tyy%2F4io&srno=s_1_2&otracker=search&otracker1=search&fm=organic&iid=a35484ac-03fc-428d-ac61-c7c96712a1ac.MOBGZHFGUHYSHQYM.SEARCH&ppt=hp&ppn=homepage&ssid=7gn4beomgw0000001694263541535&qH=16e35e1c76bc3b93', 'https://www.flipkart.com/redmi-12-jade-black-128-gb/p/itm7b10fd42f78b2?pid=MOBGRMFKKDQ2A3V4&lid=LSTMOBGRMFKKDQ2A3V4XZOVEW&marketplace=FLIPKART&q=redmi+smartphone&store=tyy%2F4io&spotlightTagId=BestsellerId_tyy%2F4io&srno=s_1_3&otracker=search&otracker1=search&fm=organic&iid=a35484ac-03fc-428d-ac61-c7c96712a1ac.MOBGRMFKKDQ2A3V4.SEARCH&ppt=hp&ppn=homepage&ssid=7gn4beomgw0000001694263541535&qH=16e35e1c76bc3b93', 'https://www.flipkart.com/redmi-12-pastel-blue-128-gb/p/itm48719506a7ceb?pid=MOBGRMFKKGYD9ETX&lid=LSTMOBGRMFKKGYD9ETX5KD9VL&marketplace=FLIPKART&q=redmi+smartphone&store=tyy%2F4io&spotlightTagId=BestsellerId_tyy%2F4io&srno=s_1_4&otracker=search&otracker1=search&fm=organic&iid=a35484ac-03fc-428d-ac61-c7c96712a1ac.MOBGRMFKKGYD9ETX.SEARCH&ppt=hp&ppn=homepage&ssid=7gn4beomgw0000001694263541535&qH=16e35e1c76bc3b93', 'https://www.flipkart.com/redmi-a1-black-32-gb/p/itm70b00a77a7d1d?pid=MOBGGYBABVXHHRDQ&lid=LSTMOBGGYBABVXHHRDQI6PZV5&marketplace=FLIPKART&q=redmi+smartphone&store=tyy%2F4io&srno=s_1_5&otracker=search&otracker1=search&fm=organic&iid=a35484ac-03fc-428d-ac61-c7c96712a1ac.MOBGGYBABVXHHRDQ.SEARCH&ppt=hp&ppn=homepage&ssid=7gn4beomgw0000001694263541535&qH=16e35e1c76bc3b93', 'https://www.flipkart.com/redmi-a2-aqua-blue-64-gb/p/itm5d49be2c0a95a?pid=MOBGR4UZWNAYKSUH&lid=LSTMOBGR4UZWNAYKSUHE3CTOU&marketplace=FLIPKART&q=redmi+smartphone&store=tyy%2F4io&srno=s_1_6&otracker=search&otracker1=search&fm=organic&iid=a35484ac-03fc-428d-ac61-c7c96712a1ac.MOBGR4UZWNAYKSUH.SEARCH&ppt=hp&ppn=homepage&ssid=7gn4beomgw0000001694263541535&qH=16e35e1c76bc3b93', 'https://www.flipkart.com/redmi-a2-classic-black-64-gb/p/itm5d49be2c0a95a?pid=MOBGPVYHRXZ3PFZU&lid=LSTMOBGPVYHRXZ3PFZU0QHLLF&marketplace=FLIPKART&q=redmi+smartphone&store=tyy%2F4io&srno=s_1_7&otracker=search&otracker1=search&fm=organic&iid=a35484ac-03fc-428d-ac61-c7c96712a1ac.MOBGPVYHRXZ3PFZU.SEARCH&ppt=hp&ppn=homepage&ssid=7gn4beomgw0000001694263541535&qH=16e35e1c76bc3b93', 'https://www.flipkart.com/redmi-a2-sea-green-32-gb/p/itm5d49be2c0a95a?pid=MOBGPVYATHJDTSSR&lid=LSTMOBGPVYATHJDTSSR6JMF4X&marketplace=FLIPKART&q=redmi+smartphone&store=tyy%2F4io&srno=s_1_8&otracker=search&otracker1=search&fm=organic&iid=a35484ac-03fc-428d-ac61-c7c96712a1ac.MOBGPVYATHJDTSSR.SEARCH&ppt=hp&ppn=homepage&ssid=7gn4beomgw0000001694263541535&qH=16e35e1c76bc3b93', 'https://www.flipkart.com/redmi-a2-aqua-blue-64-gb/p/itm5d49be2c0a95a?pid=MOBGPVYMG9RWX6XY&lid=LSTMOBGPVYMG9RWX6XYCWTZEK&marketplace=FLIPKART&q=redmi+smartphone&store=tyy%2F4io&srno=s_1_9&otracker=search&otracker1=search&fm=organic&iid=a35484ac-03fc-428d-ac61-c7c96712a1ac.MOBGPVYMG9RWX6XY.SEARCH&ppt=hp&ppn=homepage&ssid=7gn4beomgw0000001694263541535&qH=16e35e1c76bc3b93', 'https://www.flipkart.com/redmi-12-pastel-blue-128-gb/p/itm9b1a6640faccd?pid=MOBGRMFKAHNTZPWE&lid=LSTMOBGRMFKAHNTZPWE1H5IWS&marketplace=FLIPKART&q=redmi+smartphone&store=tyy%2F4io&srno=s_1_10&otracker=search&otracker1=search&fm=organic&iid=a35484ac-03fc-428d-ac61-c7c96712a1ac.MOBGRMFKAHNTZPWE.SEARCH&ppt=hp&ppn=homepage&ssid=7gn4beomgw0000001694263541535&qH=16e35e1c76bc3b93', 'https://www.flipkart.com/redmi-a2-aqua-blue-32-gb/p/itm5d49be2c0a95a?pid=MOBGPUZR8GHCE5ZQ&lid=LSTMOBGPUZR8GHCE5ZQ1P4DF9&marketplace=FLIPKART&q=redmi+smartphone&store=tyy%2F4io&srno=s_1_11&otracker=search&otracker1=search&fm=organic&iid=a35484ac-03fc-428d-ac61-c7c96712a1ac.MOBGPUZR8GHCE5ZQ.SEARCH&ppt=hp&ppn=homepage&ssid=7gn4beomgw0000001694263541535&qH=16e35e1c76bc3b93', 'https://www.flipkart.com/redmi-10-power-power-black-128-gb/p/itm97f5d2ec83588?pid=MOBGHDXFYKKZFZGV&lid=LSTMOBGHDXFYKKZFZGVE0QYTC&marketplace=FLIPKART&q=redmi+smartphone&store=tyy%2F4io&srno=s_1_12&otracker=search&otracker1=search&fm=organic&iid=a35484ac-03fc-428d-ac61-c7c96712a1ac.MOBGHDXFYKKZFZGV.SEARCH&ppt=hp&ppn=homepage&ssid=7gn4beomgw0000001694263541535&qH=16e35e1c76bc3b93', 'https://www.flipkart.com/redmi-6a-blue-16-gb/p/itm1ed294a755383?pid=MOBF9Z2Z3YDBSF6V&lid=LSTMOBF9Z2Z3YDBSF6VX16ZOH&marketplace=FLIPKART&q=redmi+smartphone&store=tyy%2F4io&srno=s_1_13&otracker=search&otracker1=search&fm=organic&iid=a35484ac-03fc-428d-ac61-c7c96712a1ac.MOBF9Z2Z3YDBSF6V.SEARCH&ppt=hp&ppn=homepage&ssid=7gn4beomgw0000001694263541535&qH=16e35e1c76bc3b93', 'https://www.flipkart.com/redmi-12-moonstone-silver-128-gb/p/itm6722b15672602?pid=MOBGRMFK4CSR7GGH&lid=LSTMOBGRMFK4CSR7GGHHKEX2Z&marketplace=FLIPKART&q=redmi+smartphone&store=tyy%2F4io&srno=s_1_14&otracker=search&otracker1=search&fm=organic&iid=a35484ac-03fc-428d-ac61-c7c96712a1ac.MOBGRMFK4CSR7GGH.SEARCH&ppt=hp&ppn=homepage&ssid=7gn4beomgw0000001694263541535&qH=16e35e1c76bc3b93', 'https://www.flipkart.com/redmi-a1-light-green-32-gb/p/itmecc9e7ba0a1df?pid=MOBGGYBAHSAJVKHP&lid=LSTMOBGGYBAHSAJVKHP4UBD9A&marketplace=FLIPKART&q=redmi+smartphone&store=tyy%2F4io&srno=s_1_15&otracker=search&otracker1=search&fm=organic&iid=a35484ac-03fc-428d-ac61-c7c96712a1ac.MOBGGYBAHSAJVKHP.SEARCH&ppt=hp&ppn=homepage&ssid=7gn4beomgw0000001694263541535&qH=16e35e1c76bc3b93', 'https://www.flipkart.com/redmi-11-prime-flashy-black-128-gb/p/itm01f508ea28ab0?pid=MOBGZHFGNDNWAZKZ&lid=LSTMOBGZHFGNDNWAZKZUMANTL&marketplace=FLIPKART&q=redmi+smartphone&store=tyy%2F4io&srno=s_1_16&otracker=search&otracker1=search&fm=organic&iid=a35484ac-03fc-428d-ac61-c7c96712a1ac.MOBGZHFGNDNWAZKZ.SEARCH&ppt=hp&ppn=homepage&ssid=7gn4beomgw0000001694263541535&qH=16e35e1c76bc3b93', 'https://www.flipkart.com/redmi-11-prime-playful-green-128-gb/p/itm0b080e6994972?pid=MOBGZHFGZQMESCDK&lid=LSTMOBGZHFGZQMESCDKZ6ILTE&marketplace=FLIPKART&q=redmi+smartphone&store=tyy%2F4io&srno=s_1_17&otracker=search&otracker1=search&fm=organic&iid=a35484ac-03fc-428d-ac61-c7c96712a1ac.MOBGZHFGZQMESCDK.SEARCH&ppt=hp&ppn=homepage&ssid=7gn4beomgw0000001694263541535&qH=16e35e1c76bc3b93', 'https://www.flipkart.com/redmi-a2-sea-green-64-gb/p/itm5d49be2c0a95a?pid=MOBGPVYEHMPGNCBZ&lid=LSTMOBGPVYEHMPGNCBZHUKI4Z&marketplace=FLIPKART&q=redmi+smartphone&store=tyy%2F4io&srno=s_1_18&otracker=search&otracker1=search&fm=organic&iid=a35484ac-03fc-428d-ac61-c7c96712a1ac.MOBGPVYEHMPGNCBZ.SEARCH&ppt=hp&ppn=homepage&ssid=7gn4beomgw0000001694263541535&qH=16e35e1c76bc3b93', 'https://www.flipkart.com/redmi-a2-classic-black-64-gb/p/itm5d49be2c0a95a?pid=MOBGRHB6XAEUADQB&lid=LSTMOBGRHB6XAEUADQBAI4AJ4&marketplace=FLIPKART&q=redmi+smartphone&store=tyy%2F4io&srno=s_1_19&otracker=search&otracker1=search&fm=organic&iid=a35484ac-03fc-428d-ac61-c7c96712a1ac.MOBGRHB6XAEUADQB.SEARCH&ppt=hp&ppn=homepage&ssid=7gn4beomgw0000001694263541535&qH=16e35e1c76bc3b93', 'https://www.flipkart.com/redmi-12-jade-black-128-gb/p/itmb7050ec01c09f?pid=MOBGRMFKTHKQSJEG&lid=LSTMOBGRMFKTHKQSJEGQK3FM2&marketplace=FLIPKART&q=redmi+smartphone&store=tyy%2F4io&srno=s_1_20&otracker=search&otracker1=search&fm=organic&iid=a35484ac-03fc-428d-ac61-c7c96712a1ac.MOBGRMFKTHKQSJEG.SEARCH&ppt=hp&ppn=homepage&ssid=7gn4beomgw0000001694263541535&qH=16e35e1c76bc3b93', 'https://www.flipkart.com/redmi-12-5g-jade-black-128-gb/p/itm0c8ba13f6fc5b?pid=MOBGS7GYGUAJ4UYZ&lid=LSTMOBGS7GYGUAJ4UYZQQUS5Q&marketplace=FLIPKART&q=redmi+smartphone&store=tyy%2F4io&srno=s_1_21&otracker=search&otracker1=search&fm=organic&iid=a35484ac-03fc-428d-ac61-c7c96712a1ac.MOBGS7GYGUAJ4UYZ.SEARCH&ppt=hp&ppn=homepage&ssid=7gn4beomgw0000001694263541535&qH=16e35e1c76bc3b93', 'https://www.flipkart.com/redmi-note-12-ice-blue-64-gb/p/itmee415766dfc1a?pid=MOBGNYHZYZ4CNTCM&lid=LSTMOBGNYHZYZ4CNTCMVONB0S&marketplace=FLIPKART&q=redmi+smartphone&store=tyy%2F4io&srno=s_1_22&otracker=search&otracker1=search&fm=organic&iid=a35484ac-03fc-428d-ac61-c7c96712a1ac.MOBGNYHZYZ4CNTCM.SEARCH&ppt=hp&ppn=homepage&ssid=7gn4beomgw0000001694263541535&qH=16e35e1c76bc3b93', 'https://www.flipkart.com/redmi-note-12-lunar-black-64-gb/p/itm6756d6e7a86be?pid=MOBGNYHZJGGE3ZHM&lid=LSTMOBGNYHZJGGE3ZHMWSTXBO&marketplace=FLIPKART&q=redmi+smartphone&store=tyy%2F4io&srno=s_1_23&otracker=search&otracker1=search&fm=organic&iid=a35484ac-03fc-428d-ac61-c7c96712a1ac.MOBGNYHZJGGE3ZHM.SEARCH&ppt=hp&ppn=homepage&ssid=7gn4beomgw0000001694263541535&qH=16e35e1c76bc3b93', 'https://www.flipkart.com/redmi-note-12-sunrise-gold-64-gb/p/itm5d170187bcbf0?pid=MOBGNYHZ7ZGHES2V&lid=LSTMOBGNYHZ7ZGHES2VQILAET&marketplace=FLIPKART&q=redmi+smartphone&store=tyy%2F4io&srno=s_1_24&otracker=search&otracker1=search&fm=organic&iid=a35484ac-03fc-428d-ac61-c7c96712a1ac.MOBGNYHZ7ZGHES2V.SEARCH&ppt=hp&ppn=homepage&ssid=7gn4beomgw0000001694263541535&qH=16e35e1c76bc3b93']\n",
      "['https://www.flipkart.com/redmi-12-moonstone-silver-128-gb/p/itme52e778c12701?pid=MOBGRMFK2MGRNG4Q&lid=LSTMOBGRMFK2MGRNG4QFZLVXT&marketplace=FLIPKART&q=redmi+smartphone&store=tyy%2F4io&spotlightTagId=BestsellerId_tyy%2F4io&srno=s_1_1&otracker=search&otracker1=search&fm=Search&iid=a35484ac-03fc-428d-ac61-c7c96712a1ac.MOBGRMFK2MGRNG4Q.SEARCH&ppt=sp&ppn=sp&ssid=7gn4beomgw0000001694263541535&qH=16e35e1c76bc3b93', 'https://www.flipkart.com/redmi-11-prime-peppy-purple-128-gb/p/itm52d6b0fe396e9?pid=MOBGZHFGUHYSHQYM&lid=LSTMOBGZHFGUHYSHQYMWGOOJ0&marketplace=FLIPKART&q=redmi+smartphone&store=tyy%2F4io&srno=s_1_2&otracker=search&otracker1=search&fm=organic&iid=a35484ac-03fc-428d-ac61-c7c96712a1ac.MOBGZHFGUHYSHQYM.SEARCH&ppt=hp&ppn=homepage&ssid=7gn4beomgw0000001694263541535&qH=16e35e1c76bc3b93', 'https://www.flipkart.com/redmi-12-jade-black-128-gb/p/itm7b10fd42f78b2?pid=MOBGRMFKKDQ2A3V4&lid=LSTMOBGRMFKKDQ2A3V4XZOVEW&marketplace=FLIPKART&q=redmi+smartphone&store=tyy%2F4io&spotlightTagId=BestsellerId_tyy%2F4io&srno=s_1_3&otracker=search&otracker1=search&fm=organic&iid=a35484ac-03fc-428d-ac61-c7c96712a1ac.MOBGRMFKKDQ2A3V4.SEARCH&ppt=hp&ppn=homepage&ssid=7gn4beomgw0000001694263541535&qH=16e35e1c76bc3b93', 'https://www.flipkart.com/redmi-12-pastel-blue-128-gb/p/itm48719506a7ceb?pid=MOBGRMFKKGYD9ETX&lid=LSTMOBGRMFKKGYD9ETX5KD9VL&marketplace=FLIPKART&q=redmi+smartphone&store=tyy%2F4io&spotlightTagId=BestsellerId_tyy%2F4io&srno=s_1_4&otracker=search&otracker1=search&fm=organic&iid=a35484ac-03fc-428d-ac61-c7c96712a1ac.MOBGRMFKKGYD9ETX.SEARCH&ppt=hp&ppn=homepage&ssid=7gn4beomgw0000001694263541535&qH=16e35e1c76bc3b93', 'https://www.flipkart.com/redmi-a1-black-32-gb/p/itm70b00a77a7d1d?pid=MOBGGYBABVXHHRDQ&lid=LSTMOBGGYBABVXHHRDQI6PZV5&marketplace=FLIPKART&q=redmi+smartphone&store=tyy%2F4io&srno=s_1_5&otracker=search&otracker1=search&fm=organic&iid=a35484ac-03fc-428d-ac61-c7c96712a1ac.MOBGGYBABVXHHRDQ.SEARCH&ppt=hp&ppn=homepage&ssid=7gn4beomgw0000001694263541535&qH=16e35e1c76bc3b93', 'https://www.flipkart.com/redmi-a2-aqua-blue-64-gb/p/itm5d49be2c0a95a?pid=MOBGR4UZWNAYKSUH&lid=LSTMOBGR4UZWNAYKSUHE3CTOU&marketplace=FLIPKART&q=redmi+smartphone&store=tyy%2F4io&srno=s_1_6&otracker=search&otracker1=search&fm=organic&iid=a35484ac-03fc-428d-ac61-c7c96712a1ac.MOBGR4UZWNAYKSUH.SEARCH&ppt=hp&ppn=homepage&ssid=7gn4beomgw0000001694263541535&qH=16e35e1c76bc3b93', 'https://www.flipkart.com/redmi-a2-classic-black-64-gb/p/itm5d49be2c0a95a?pid=MOBGPVYHRXZ3PFZU&lid=LSTMOBGPVYHRXZ3PFZU0QHLLF&marketplace=FLIPKART&q=redmi+smartphone&store=tyy%2F4io&srno=s_1_7&otracker=search&otracker1=search&fm=organic&iid=a35484ac-03fc-428d-ac61-c7c96712a1ac.MOBGPVYHRXZ3PFZU.SEARCH&ppt=hp&ppn=homepage&ssid=7gn4beomgw0000001694263541535&qH=16e35e1c76bc3b93', 'https://www.flipkart.com/redmi-a2-sea-green-32-gb/p/itm5d49be2c0a95a?pid=MOBGPVYATHJDTSSR&lid=LSTMOBGPVYATHJDTSSR6JMF4X&marketplace=FLIPKART&q=redmi+smartphone&store=tyy%2F4io&srno=s_1_8&otracker=search&otracker1=search&fm=organic&iid=a35484ac-03fc-428d-ac61-c7c96712a1ac.MOBGPVYATHJDTSSR.SEARCH&ppt=hp&ppn=homepage&ssid=7gn4beomgw0000001694263541535&qH=16e35e1c76bc3b93', 'https://www.flipkart.com/redmi-a2-aqua-blue-64-gb/p/itm5d49be2c0a95a?pid=MOBGPVYMG9RWX6XY&lid=LSTMOBGPVYMG9RWX6XYCWTZEK&marketplace=FLIPKART&q=redmi+smartphone&store=tyy%2F4io&srno=s_1_9&otracker=search&otracker1=search&fm=organic&iid=a35484ac-03fc-428d-ac61-c7c96712a1ac.MOBGPVYMG9RWX6XY.SEARCH&ppt=hp&ppn=homepage&ssid=7gn4beomgw0000001694263541535&qH=16e35e1c76bc3b93', 'https://www.flipkart.com/redmi-12-pastel-blue-128-gb/p/itm9b1a6640faccd?pid=MOBGRMFKAHNTZPWE&lid=LSTMOBGRMFKAHNTZPWE1H5IWS&marketplace=FLIPKART&q=redmi+smartphone&store=tyy%2F4io&srno=s_1_10&otracker=search&otracker1=search&fm=organic&iid=a35484ac-03fc-428d-ac61-c7c96712a1ac.MOBGRMFKAHNTZPWE.SEARCH&ppt=hp&ppn=homepage&ssid=7gn4beomgw0000001694263541535&qH=16e35e1c76bc3b93', 'https://www.flipkart.com/redmi-a2-aqua-blue-32-gb/p/itm5d49be2c0a95a?pid=MOBGPUZR8GHCE5ZQ&lid=LSTMOBGPUZR8GHCE5ZQ1P4DF9&marketplace=FLIPKART&q=redmi+smartphone&store=tyy%2F4io&srno=s_1_11&otracker=search&otracker1=search&fm=organic&iid=a35484ac-03fc-428d-ac61-c7c96712a1ac.MOBGPUZR8GHCE5ZQ.SEARCH&ppt=hp&ppn=homepage&ssid=7gn4beomgw0000001694263541535&qH=16e35e1c76bc3b93', 'https://www.flipkart.com/redmi-10-power-power-black-128-gb/p/itm97f5d2ec83588?pid=MOBGHDXFYKKZFZGV&lid=LSTMOBGHDXFYKKZFZGVE0QYTC&marketplace=FLIPKART&q=redmi+smartphone&store=tyy%2F4io&srno=s_1_12&otracker=search&otracker1=search&fm=organic&iid=a35484ac-03fc-428d-ac61-c7c96712a1ac.MOBGHDXFYKKZFZGV.SEARCH&ppt=hp&ppn=homepage&ssid=7gn4beomgw0000001694263541535&qH=16e35e1c76bc3b93', 'https://www.flipkart.com/redmi-6a-blue-16-gb/p/itm1ed294a755383?pid=MOBF9Z2Z3YDBSF6V&lid=LSTMOBF9Z2Z3YDBSF6VX16ZOH&marketplace=FLIPKART&q=redmi+smartphone&store=tyy%2F4io&srno=s_1_13&otracker=search&otracker1=search&fm=organic&iid=a35484ac-03fc-428d-ac61-c7c96712a1ac.MOBF9Z2Z3YDBSF6V.SEARCH&ppt=hp&ppn=homepage&ssid=7gn4beomgw0000001694263541535&qH=16e35e1c76bc3b93', 'https://www.flipkart.com/redmi-12-moonstone-silver-128-gb/p/itm6722b15672602?pid=MOBGRMFK4CSR7GGH&lid=LSTMOBGRMFK4CSR7GGHHKEX2Z&marketplace=FLIPKART&q=redmi+smartphone&store=tyy%2F4io&srno=s_1_14&otracker=search&otracker1=search&fm=organic&iid=a35484ac-03fc-428d-ac61-c7c96712a1ac.MOBGRMFK4CSR7GGH.SEARCH&ppt=hp&ppn=homepage&ssid=7gn4beomgw0000001694263541535&qH=16e35e1c76bc3b93', 'https://www.flipkart.com/redmi-a1-light-green-32-gb/p/itmecc9e7ba0a1df?pid=MOBGGYBAHSAJVKHP&lid=LSTMOBGGYBAHSAJVKHP4UBD9A&marketplace=FLIPKART&q=redmi+smartphone&store=tyy%2F4io&srno=s_1_15&otracker=search&otracker1=search&fm=organic&iid=a35484ac-03fc-428d-ac61-c7c96712a1ac.MOBGGYBAHSAJVKHP.SEARCH&ppt=hp&ppn=homepage&ssid=7gn4beomgw0000001694263541535&qH=16e35e1c76bc3b93', 'https://www.flipkart.com/redmi-11-prime-flashy-black-128-gb/p/itm01f508ea28ab0?pid=MOBGZHFGNDNWAZKZ&lid=LSTMOBGZHFGNDNWAZKZUMANTL&marketplace=FLIPKART&q=redmi+smartphone&store=tyy%2F4io&srno=s_1_16&otracker=search&otracker1=search&fm=organic&iid=a35484ac-03fc-428d-ac61-c7c96712a1ac.MOBGZHFGNDNWAZKZ.SEARCH&ppt=hp&ppn=homepage&ssid=7gn4beomgw0000001694263541535&qH=16e35e1c76bc3b93', 'https://www.flipkart.com/redmi-11-prime-playful-green-128-gb/p/itm0b080e6994972?pid=MOBGZHFGZQMESCDK&lid=LSTMOBGZHFGZQMESCDKZ6ILTE&marketplace=FLIPKART&q=redmi+smartphone&store=tyy%2F4io&srno=s_1_17&otracker=search&otracker1=search&fm=organic&iid=a35484ac-03fc-428d-ac61-c7c96712a1ac.MOBGZHFGZQMESCDK.SEARCH&ppt=hp&ppn=homepage&ssid=7gn4beomgw0000001694263541535&qH=16e35e1c76bc3b93', 'https://www.flipkart.com/redmi-a2-sea-green-64-gb/p/itm5d49be2c0a95a?pid=MOBGPVYEHMPGNCBZ&lid=LSTMOBGPVYEHMPGNCBZHUKI4Z&marketplace=FLIPKART&q=redmi+smartphone&store=tyy%2F4io&srno=s_1_18&otracker=search&otracker1=search&fm=organic&iid=a35484ac-03fc-428d-ac61-c7c96712a1ac.MOBGPVYEHMPGNCBZ.SEARCH&ppt=hp&ppn=homepage&ssid=7gn4beomgw0000001694263541535&qH=16e35e1c76bc3b93', 'https://www.flipkart.com/redmi-a2-classic-black-64-gb/p/itm5d49be2c0a95a?pid=MOBGRHB6XAEUADQB&lid=LSTMOBGRHB6XAEUADQBAI4AJ4&marketplace=FLIPKART&q=redmi+smartphone&store=tyy%2F4io&srno=s_1_19&otracker=search&otracker1=search&fm=organic&iid=a35484ac-03fc-428d-ac61-c7c96712a1ac.MOBGRHB6XAEUADQB.SEARCH&ppt=hp&ppn=homepage&ssid=7gn4beomgw0000001694263541535&qH=16e35e1c76bc3b93', 'https://www.flipkart.com/redmi-12-jade-black-128-gb/p/itmb7050ec01c09f?pid=MOBGRMFKTHKQSJEG&lid=LSTMOBGRMFKTHKQSJEGQK3FM2&marketplace=FLIPKART&q=redmi+smartphone&store=tyy%2F4io&srno=s_1_20&otracker=search&otracker1=search&fm=organic&iid=a35484ac-03fc-428d-ac61-c7c96712a1ac.MOBGRMFKTHKQSJEG.SEARCH&ppt=hp&ppn=homepage&ssid=7gn4beomgw0000001694263541535&qH=16e35e1c76bc3b93', 'https://www.flipkart.com/redmi-12-5g-jade-black-128-gb/p/itm0c8ba13f6fc5b?pid=MOBGS7GYGUAJ4UYZ&lid=LSTMOBGS7GYGUAJ4UYZQQUS5Q&marketplace=FLIPKART&q=redmi+smartphone&store=tyy%2F4io&srno=s_1_21&otracker=search&otracker1=search&fm=organic&iid=a35484ac-03fc-428d-ac61-c7c96712a1ac.MOBGS7GYGUAJ4UYZ.SEARCH&ppt=hp&ppn=homepage&ssid=7gn4beomgw0000001694263541535&qH=16e35e1c76bc3b93', 'https://www.flipkart.com/redmi-note-12-ice-blue-64-gb/p/itmee415766dfc1a?pid=MOBGNYHZYZ4CNTCM&lid=LSTMOBGNYHZYZ4CNTCMVONB0S&marketplace=FLIPKART&q=redmi+smartphone&store=tyy%2F4io&srno=s_1_22&otracker=search&otracker1=search&fm=organic&iid=a35484ac-03fc-428d-ac61-c7c96712a1ac.MOBGNYHZYZ4CNTCM.SEARCH&ppt=hp&ppn=homepage&ssid=7gn4beomgw0000001694263541535&qH=16e35e1c76bc3b93', 'https://www.flipkart.com/redmi-note-12-lunar-black-64-gb/p/itm6756d6e7a86be?pid=MOBGNYHZJGGE3ZHM&lid=LSTMOBGNYHZJGGE3ZHMWSTXBO&marketplace=FLIPKART&q=redmi+smartphone&store=tyy%2F4io&srno=s_1_23&otracker=search&otracker1=search&fm=organic&iid=a35484ac-03fc-428d-ac61-c7c96712a1ac.MOBGNYHZJGGE3ZHM.SEARCH&ppt=hp&ppn=homepage&ssid=7gn4beomgw0000001694263541535&qH=16e35e1c76bc3b93', 'https://www.flipkart.com/redmi-note-12-sunrise-gold-64-gb/p/itm5d170187bcbf0?pid=MOBGNYHZ7ZGHES2V&lid=LSTMOBGNYHZ7ZGHES2VQILAET&marketplace=FLIPKART&q=redmi+smartphone&store=tyy%2F4io&srno=s_1_24&otracker=search&otracker1=search&fm=organic&iid=a35484ac-03fc-428d-ac61-c7c96712a1ac.MOBGNYHZ7ZGHES2V.SEARCH&ppt=hp&ppn=homepage&ssid=7gn4beomgw0000001694263541535&qH=16e35e1c76bc3b93']\n"
     ]
    },
    {
     "name": "stdout",
     "output_type": "stream",
     "text": [
      "['https://www.flipkart.com/redmi-12-moonstone-silver-128-gb/p/itme52e778c12701?pid=MOBGRMFK2MGRNG4Q&lid=LSTMOBGRMFK2MGRNG4QFZLVXT&marketplace=FLIPKART&q=redmi+smartphone&store=tyy%2F4io&spotlightTagId=BestsellerId_tyy%2F4io&srno=s_1_1&otracker=search&otracker1=search&fm=Search&iid=a35484ac-03fc-428d-ac61-c7c96712a1ac.MOBGRMFK2MGRNG4Q.SEARCH&ppt=sp&ppn=sp&ssid=7gn4beomgw0000001694263541535&qH=16e35e1c76bc3b93', 'https://www.flipkart.com/redmi-11-prime-peppy-purple-128-gb/p/itm52d6b0fe396e9?pid=MOBGZHFGUHYSHQYM&lid=LSTMOBGZHFGUHYSHQYMWGOOJ0&marketplace=FLIPKART&q=redmi+smartphone&store=tyy%2F4io&srno=s_1_2&otracker=search&otracker1=search&fm=organic&iid=a35484ac-03fc-428d-ac61-c7c96712a1ac.MOBGZHFGUHYSHQYM.SEARCH&ppt=hp&ppn=homepage&ssid=7gn4beomgw0000001694263541535&qH=16e35e1c76bc3b93', 'https://www.flipkart.com/redmi-12-jade-black-128-gb/p/itm7b10fd42f78b2?pid=MOBGRMFKKDQ2A3V4&lid=LSTMOBGRMFKKDQ2A3V4XZOVEW&marketplace=FLIPKART&q=redmi+smartphone&store=tyy%2F4io&spotlightTagId=BestsellerId_tyy%2F4io&srno=s_1_3&otracker=search&otracker1=search&fm=organic&iid=a35484ac-03fc-428d-ac61-c7c96712a1ac.MOBGRMFKKDQ2A3V4.SEARCH&ppt=hp&ppn=homepage&ssid=7gn4beomgw0000001694263541535&qH=16e35e1c76bc3b93', 'https://www.flipkart.com/redmi-12-pastel-blue-128-gb/p/itm48719506a7ceb?pid=MOBGRMFKKGYD9ETX&lid=LSTMOBGRMFKKGYD9ETX5KD9VL&marketplace=FLIPKART&q=redmi+smartphone&store=tyy%2F4io&spotlightTagId=BestsellerId_tyy%2F4io&srno=s_1_4&otracker=search&otracker1=search&fm=organic&iid=a35484ac-03fc-428d-ac61-c7c96712a1ac.MOBGRMFKKGYD9ETX.SEARCH&ppt=hp&ppn=homepage&ssid=7gn4beomgw0000001694263541535&qH=16e35e1c76bc3b93', 'https://www.flipkart.com/redmi-a1-black-32-gb/p/itm70b00a77a7d1d?pid=MOBGGYBABVXHHRDQ&lid=LSTMOBGGYBABVXHHRDQI6PZV5&marketplace=FLIPKART&q=redmi+smartphone&store=tyy%2F4io&srno=s_1_5&otracker=search&otracker1=search&fm=organic&iid=a35484ac-03fc-428d-ac61-c7c96712a1ac.MOBGGYBABVXHHRDQ.SEARCH&ppt=hp&ppn=homepage&ssid=7gn4beomgw0000001694263541535&qH=16e35e1c76bc3b93', 'https://www.flipkart.com/redmi-a2-aqua-blue-64-gb/p/itm5d49be2c0a95a?pid=MOBGR4UZWNAYKSUH&lid=LSTMOBGR4UZWNAYKSUHE3CTOU&marketplace=FLIPKART&q=redmi+smartphone&store=tyy%2F4io&srno=s_1_6&otracker=search&otracker1=search&fm=organic&iid=a35484ac-03fc-428d-ac61-c7c96712a1ac.MOBGR4UZWNAYKSUH.SEARCH&ppt=hp&ppn=homepage&ssid=7gn4beomgw0000001694263541535&qH=16e35e1c76bc3b93', 'https://www.flipkart.com/redmi-a2-classic-black-64-gb/p/itm5d49be2c0a95a?pid=MOBGPVYHRXZ3PFZU&lid=LSTMOBGPVYHRXZ3PFZU0QHLLF&marketplace=FLIPKART&q=redmi+smartphone&store=tyy%2F4io&srno=s_1_7&otracker=search&otracker1=search&fm=organic&iid=a35484ac-03fc-428d-ac61-c7c96712a1ac.MOBGPVYHRXZ3PFZU.SEARCH&ppt=hp&ppn=homepage&ssid=7gn4beomgw0000001694263541535&qH=16e35e1c76bc3b93', 'https://www.flipkart.com/redmi-a2-sea-green-32-gb/p/itm5d49be2c0a95a?pid=MOBGPVYATHJDTSSR&lid=LSTMOBGPVYATHJDTSSR6JMF4X&marketplace=FLIPKART&q=redmi+smartphone&store=tyy%2F4io&srno=s_1_8&otracker=search&otracker1=search&fm=organic&iid=a35484ac-03fc-428d-ac61-c7c96712a1ac.MOBGPVYATHJDTSSR.SEARCH&ppt=hp&ppn=homepage&ssid=7gn4beomgw0000001694263541535&qH=16e35e1c76bc3b93', 'https://www.flipkart.com/redmi-a2-aqua-blue-64-gb/p/itm5d49be2c0a95a?pid=MOBGPVYMG9RWX6XY&lid=LSTMOBGPVYMG9RWX6XYCWTZEK&marketplace=FLIPKART&q=redmi+smartphone&store=tyy%2F4io&srno=s_1_9&otracker=search&otracker1=search&fm=organic&iid=a35484ac-03fc-428d-ac61-c7c96712a1ac.MOBGPVYMG9RWX6XY.SEARCH&ppt=hp&ppn=homepage&ssid=7gn4beomgw0000001694263541535&qH=16e35e1c76bc3b93', 'https://www.flipkart.com/redmi-12-pastel-blue-128-gb/p/itm9b1a6640faccd?pid=MOBGRMFKAHNTZPWE&lid=LSTMOBGRMFKAHNTZPWE1H5IWS&marketplace=FLIPKART&q=redmi+smartphone&store=tyy%2F4io&srno=s_1_10&otracker=search&otracker1=search&fm=organic&iid=a35484ac-03fc-428d-ac61-c7c96712a1ac.MOBGRMFKAHNTZPWE.SEARCH&ppt=hp&ppn=homepage&ssid=7gn4beomgw0000001694263541535&qH=16e35e1c76bc3b93', 'https://www.flipkart.com/redmi-a2-aqua-blue-32-gb/p/itm5d49be2c0a95a?pid=MOBGPUZR8GHCE5ZQ&lid=LSTMOBGPUZR8GHCE5ZQ1P4DF9&marketplace=FLIPKART&q=redmi+smartphone&store=tyy%2F4io&srno=s_1_11&otracker=search&otracker1=search&fm=organic&iid=a35484ac-03fc-428d-ac61-c7c96712a1ac.MOBGPUZR8GHCE5ZQ.SEARCH&ppt=hp&ppn=homepage&ssid=7gn4beomgw0000001694263541535&qH=16e35e1c76bc3b93', 'https://www.flipkart.com/redmi-10-power-power-black-128-gb/p/itm97f5d2ec83588?pid=MOBGHDXFYKKZFZGV&lid=LSTMOBGHDXFYKKZFZGVE0QYTC&marketplace=FLIPKART&q=redmi+smartphone&store=tyy%2F4io&srno=s_1_12&otracker=search&otracker1=search&fm=organic&iid=a35484ac-03fc-428d-ac61-c7c96712a1ac.MOBGHDXFYKKZFZGV.SEARCH&ppt=hp&ppn=homepage&ssid=7gn4beomgw0000001694263541535&qH=16e35e1c76bc3b93', 'https://www.flipkart.com/redmi-6a-blue-16-gb/p/itm1ed294a755383?pid=MOBF9Z2Z3YDBSF6V&lid=LSTMOBF9Z2Z3YDBSF6VX16ZOH&marketplace=FLIPKART&q=redmi+smartphone&store=tyy%2F4io&srno=s_1_13&otracker=search&otracker1=search&fm=organic&iid=a35484ac-03fc-428d-ac61-c7c96712a1ac.MOBF9Z2Z3YDBSF6V.SEARCH&ppt=hp&ppn=homepage&ssid=7gn4beomgw0000001694263541535&qH=16e35e1c76bc3b93', 'https://www.flipkart.com/redmi-12-moonstone-silver-128-gb/p/itm6722b15672602?pid=MOBGRMFK4CSR7GGH&lid=LSTMOBGRMFK4CSR7GGHHKEX2Z&marketplace=FLIPKART&q=redmi+smartphone&store=tyy%2F4io&srno=s_1_14&otracker=search&otracker1=search&fm=organic&iid=a35484ac-03fc-428d-ac61-c7c96712a1ac.MOBGRMFK4CSR7GGH.SEARCH&ppt=hp&ppn=homepage&ssid=7gn4beomgw0000001694263541535&qH=16e35e1c76bc3b93', 'https://www.flipkart.com/redmi-a1-light-green-32-gb/p/itmecc9e7ba0a1df?pid=MOBGGYBAHSAJVKHP&lid=LSTMOBGGYBAHSAJVKHP4UBD9A&marketplace=FLIPKART&q=redmi+smartphone&store=tyy%2F4io&srno=s_1_15&otracker=search&otracker1=search&fm=organic&iid=a35484ac-03fc-428d-ac61-c7c96712a1ac.MOBGGYBAHSAJVKHP.SEARCH&ppt=hp&ppn=homepage&ssid=7gn4beomgw0000001694263541535&qH=16e35e1c76bc3b93', 'https://www.flipkart.com/redmi-11-prime-flashy-black-128-gb/p/itm01f508ea28ab0?pid=MOBGZHFGNDNWAZKZ&lid=LSTMOBGZHFGNDNWAZKZUMANTL&marketplace=FLIPKART&q=redmi+smartphone&store=tyy%2F4io&srno=s_1_16&otracker=search&otracker1=search&fm=organic&iid=a35484ac-03fc-428d-ac61-c7c96712a1ac.MOBGZHFGNDNWAZKZ.SEARCH&ppt=hp&ppn=homepage&ssid=7gn4beomgw0000001694263541535&qH=16e35e1c76bc3b93', 'https://www.flipkart.com/redmi-11-prime-playful-green-128-gb/p/itm0b080e6994972?pid=MOBGZHFGZQMESCDK&lid=LSTMOBGZHFGZQMESCDKZ6ILTE&marketplace=FLIPKART&q=redmi+smartphone&store=tyy%2F4io&srno=s_1_17&otracker=search&otracker1=search&fm=organic&iid=a35484ac-03fc-428d-ac61-c7c96712a1ac.MOBGZHFGZQMESCDK.SEARCH&ppt=hp&ppn=homepage&ssid=7gn4beomgw0000001694263541535&qH=16e35e1c76bc3b93', 'https://www.flipkart.com/redmi-a2-sea-green-64-gb/p/itm5d49be2c0a95a?pid=MOBGPVYEHMPGNCBZ&lid=LSTMOBGPVYEHMPGNCBZHUKI4Z&marketplace=FLIPKART&q=redmi+smartphone&store=tyy%2F4io&srno=s_1_18&otracker=search&otracker1=search&fm=organic&iid=a35484ac-03fc-428d-ac61-c7c96712a1ac.MOBGPVYEHMPGNCBZ.SEARCH&ppt=hp&ppn=homepage&ssid=7gn4beomgw0000001694263541535&qH=16e35e1c76bc3b93', 'https://www.flipkart.com/redmi-a2-classic-black-64-gb/p/itm5d49be2c0a95a?pid=MOBGRHB6XAEUADQB&lid=LSTMOBGRHB6XAEUADQBAI4AJ4&marketplace=FLIPKART&q=redmi+smartphone&store=tyy%2F4io&srno=s_1_19&otracker=search&otracker1=search&fm=organic&iid=a35484ac-03fc-428d-ac61-c7c96712a1ac.MOBGRHB6XAEUADQB.SEARCH&ppt=hp&ppn=homepage&ssid=7gn4beomgw0000001694263541535&qH=16e35e1c76bc3b93', 'https://www.flipkart.com/redmi-12-jade-black-128-gb/p/itmb7050ec01c09f?pid=MOBGRMFKTHKQSJEG&lid=LSTMOBGRMFKTHKQSJEGQK3FM2&marketplace=FLIPKART&q=redmi+smartphone&store=tyy%2F4io&srno=s_1_20&otracker=search&otracker1=search&fm=organic&iid=a35484ac-03fc-428d-ac61-c7c96712a1ac.MOBGRMFKTHKQSJEG.SEARCH&ppt=hp&ppn=homepage&ssid=7gn4beomgw0000001694263541535&qH=16e35e1c76bc3b93', 'https://www.flipkart.com/redmi-12-5g-jade-black-128-gb/p/itm0c8ba13f6fc5b?pid=MOBGS7GYGUAJ4UYZ&lid=LSTMOBGS7GYGUAJ4UYZQQUS5Q&marketplace=FLIPKART&q=redmi+smartphone&store=tyy%2F4io&srno=s_1_21&otracker=search&otracker1=search&fm=organic&iid=a35484ac-03fc-428d-ac61-c7c96712a1ac.MOBGS7GYGUAJ4UYZ.SEARCH&ppt=hp&ppn=homepage&ssid=7gn4beomgw0000001694263541535&qH=16e35e1c76bc3b93', 'https://www.flipkart.com/redmi-note-12-ice-blue-64-gb/p/itmee415766dfc1a?pid=MOBGNYHZYZ4CNTCM&lid=LSTMOBGNYHZYZ4CNTCMVONB0S&marketplace=FLIPKART&q=redmi+smartphone&store=tyy%2F4io&srno=s_1_22&otracker=search&otracker1=search&fm=organic&iid=a35484ac-03fc-428d-ac61-c7c96712a1ac.MOBGNYHZYZ4CNTCM.SEARCH&ppt=hp&ppn=homepage&ssid=7gn4beomgw0000001694263541535&qH=16e35e1c76bc3b93', 'https://www.flipkart.com/redmi-note-12-lunar-black-64-gb/p/itm6756d6e7a86be?pid=MOBGNYHZJGGE3ZHM&lid=LSTMOBGNYHZJGGE3ZHMWSTXBO&marketplace=FLIPKART&q=redmi+smartphone&store=tyy%2F4io&srno=s_1_23&otracker=search&otracker1=search&fm=organic&iid=a35484ac-03fc-428d-ac61-c7c96712a1ac.MOBGNYHZJGGE3ZHM.SEARCH&ppt=hp&ppn=homepage&ssid=7gn4beomgw0000001694263541535&qH=16e35e1c76bc3b93', 'https://www.flipkart.com/redmi-note-12-sunrise-gold-64-gb/p/itm5d170187bcbf0?pid=MOBGNYHZ7ZGHES2V&lid=LSTMOBGNYHZ7ZGHES2VQILAET&marketplace=FLIPKART&q=redmi+smartphone&store=tyy%2F4io&srno=s_1_24&otracker=search&otracker1=search&fm=organic&iid=a35484ac-03fc-428d-ac61-c7c96712a1ac.MOBGNYHZ7ZGHES2V.SEARCH&ppt=hp&ppn=homepage&ssid=7gn4beomgw0000001694263541535&qH=16e35e1c76bc3b93']\n",
      "['https://www.flipkart.com/redmi-12-moonstone-silver-128-gb/p/itme52e778c12701?pid=MOBGRMFK2MGRNG4Q&lid=LSTMOBGRMFK2MGRNG4QFZLVXT&marketplace=FLIPKART&q=redmi+smartphone&store=tyy%2F4io&spotlightTagId=BestsellerId_tyy%2F4io&srno=s_1_1&otracker=search&otracker1=search&fm=Search&iid=a35484ac-03fc-428d-ac61-c7c96712a1ac.MOBGRMFK2MGRNG4Q.SEARCH&ppt=sp&ppn=sp&ssid=7gn4beomgw0000001694263541535&qH=16e35e1c76bc3b93', 'https://www.flipkart.com/redmi-11-prime-peppy-purple-128-gb/p/itm52d6b0fe396e9?pid=MOBGZHFGUHYSHQYM&lid=LSTMOBGZHFGUHYSHQYMWGOOJ0&marketplace=FLIPKART&q=redmi+smartphone&store=tyy%2F4io&srno=s_1_2&otracker=search&otracker1=search&fm=organic&iid=a35484ac-03fc-428d-ac61-c7c96712a1ac.MOBGZHFGUHYSHQYM.SEARCH&ppt=hp&ppn=homepage&ssid=7gn4beomgw0000001694263541535&qH=16e35e1c76bc3b93', 'https://www.flipkart.com/redmi-12-jade-black-128-gb/p/itm7b10fd42f78b2?pid=MOBGRMFKKDQ2A3V4&lid=LSTMOBGRMFKKDQ2A3V4XZOVEW&marketplace=FLIPKART&q=redmi+smartphone&store=tyy%2F4io&spotlightTagId=BestsellerId_tyy%2F4io&srno=s_1_3&otracker=search&otracker1=search&fm=organic&iid=a35484ac-03fc-428d-ac61-c7c96712a1ac.MOBGRMFKKDQ2A3V4.SEARCH&ppt=hp&ppn=homepage&ssid=7gn4beomgw0000001694263541535&qH=16e35e1c76bc3b93', 'https://www.flipkart.com/redmi-12-pastel-blue-128-gb/p/itm48719506a7ceb?pid=MOBGRMFKKGYD9ETX&lid=LSTMOBGRMFKKGYD9ETX5KD9VL&marketplace=FLIPKART&q=redmi+smartphone&store=tyy%2F4io&spotlightTagId=BestsellerId_tyy%2F4io&srno=s_1_4&otracker=search&otracker1=search&fm=organic&iid=a35484ac-03fc-428d-ac61-c7c96712a1ac.MOBGRMFKKGYD9ETX.SEARCH&ppt=hp&ppn=homepage&ssid=7gn4beomgw0000001694263541535&qH=16e35e1c76bc3b93', 'https://www.flipkart.com/redmi-a1-black-32-gb/p/itm70b00a77a7d1d?pid=MOBGGYBABVXHHRDQ&lid=LSTMOBGGYBABVXHHRDQI6PZV5&marketplace=FLIPKART&q=redmi+smartphone&store=tyy%2F4io&srno=s_1_5&otracker=search&otracker1=search&fm=organic&iid=a35484ac-03fc-428d-ac61-c7c96712a1ac.MOBGGYBABVXHHRDQ.SEARCH&ppt=hp&ppn=homepage&ssid=7gn4beomgw0000001694263541535&qH=16e35e1c76bc3b93', 'https://www.flipkart.com/redmi-a2-aqua-blue-64-gb/p/itm5d49be2c0a95a?pid=MOBGR4UZWNAYKSUH&lid=LSTMOBGR4UZWNAYKSUHE3CTOU&marketplace=FLIPKART&q=redmi+smartphone&store=tyy%2F4io&srno=s_1_6&otracker=search&otracker1=search&fm=organic&iid=a35484ac-03fc-428d-ac61-c7c96712a1ac.MOBGR4UZWNAYKSUH.SEARCH&ppt=hp&ppn=homepage&ssid=7gn4beomgw0000001694263541535&qH=16e35e1c76bc3b93', 'https://www.flipkart.com/redmi-a2-classic-black-64-gb/p/itm5d49be2c0a95a?pid=MOBGPVYHRXZ3PFZU&lid=LSTMOBGPVYHRXZ3PFZU0QHLLF&marketplace=FLIPKART&q=redmi+smartphone&store=tyy%2F4io&srno=s_1_7&otracker=search&otracker1=search&fm=organic&iid=a35484ac-03fc-428d-ac61-c7c96712a1ac.MOBGPVYHRXZ3PFZU.SEARCH&ppt=hp&ppn=homepage&ssid=7gn4beomgw0000001694263541535&qH=16e35e1c76bc3b93', 'https://www.flipkart.com/redmi-a2-sea-green-32-gb/p/itm5d49be2c0a95a?pid=MOBGPVYATHJDTSSR&lid=LSTMOBGPVYATHJDTSSR6JMF4X&marketplace=FLIPKART&q=redmi+smartphone&store=tyy%2F4io&srno=s_1_8&otracker=search&otracker1=search&fm=organic&iid=a35484ac-03fc-428d-ac61-c7c96712a1ac.MOBGPVYATHJDTSSR.SEARCH&ppt=hp&ppn=homepage&ssid=7gn4beomgw0000001694263541535&qH=16e35e1c76bc3b93', 'https://www.flipkart.com/redmi-a2-aqua-blue-64-gb/p/itm5d49be2c0a95a?pid=MOBGPVYMG9RWX6XY&lid=LSTMOBGPVYMG9RWX6XYCWTZEK&marketplace=FLIPKART&q=redmi+smartphone&store=tyy%2F4io&srno=s_1_9&otracker=search&otracker1=search&fm=organic&iid=a35484ac-03fc-428d-ac61-c7c96712a1ac.MOBGPVYMG9RWX6XY.SEARCH&ppt=hp&ppn=homepage&ssid=7gn4beomgw0000001694263541535&qH=16e35e1c76bc3b93', 'https://www.flipkart.com/redmi-12-pastel-blue-128-gb/p/itm9b1a6640faccd?pid=MOBGRMFKAHNTZPWE&lid=LSTMOBGRMFKAHNTZPWE1H5IWS&marketplace=FLIPKART&q=redmi+smartphone&store=tyy%2F4io&srno=s_1_10&otracker=search&otracker1=search&fm=organic&iid=a35484ac-03fc-428d-ac61-c7c96712a1ac.MOBGRMFKAHNTZPWE.SEARCH&ppt=hp&ppn=homepage&ssid=7gn4beomgw0000001694263541535&qH=16e35e1c76bc3b93', 'https://www.flipkart.com/redmi-a2-aqua-blue-32-gb/p/itm5d49be2c0a95a?pid=MOBGPUZR8GHCE5ZQ&lid=LSTMOBGPUZR8GHCE5ZQ1P4DF9&marketplace=FLIPKART&q=redmi+smartphone&store=tyy%2F4io&srno=s_1_11&otracker=search&otracker1=search&fm=organic&iid=a35484ac-03fc-428d-ac61-c7c96712a1ac.MOBGPUZR8GHCE5ZQ.SEARCH&ppt=hp&ppn=homepage&ssid=7gn4beomgw0000001694263541535&qH=16e35e1c76bc3b93', 'https://www.flipkart.com/redmi-10-power-power-black-128-gb/p/itm97f5d2ec83588?pid=MOBGHDXFYKKZFZGV&lid=LSTMOBGHDXFYKKZFZGVE0QYTC&marketplace=FLIPKART&q=redmi+smartphone&store=tyy%2F4io&srno=s_1_12&otracker=search&otracker1=search&fm=organic&iid=a35484ac-03fc-428d-ac61-c7c96712a1ac.MOBGHDXFYKKZFZGV.SEARCH&ppt=hp&ppn=homepage&ssid=7gn4beomgw0000001694263541535&qH=16e35e1c76bc3b93', 'https://www.flipkart.com/redmi-6a-blue-16-gb/p/itm1ed294a755383?pid=MOBF9Z2Z3YDBSF6V&lid=LSTMOBF9Z2Z3YDBSF6VX16ZOH&marketplace=FLIPKART&q=redmi+smartphone&store=tyy%2F4io&srno=s_1_13&otracker=search&otracker1=search&fm=organic&iid=a35484ac-03fc-428d-ac61-c7c96712a1ac.MOBF9Z2Z3YDBSF6V.SEARCH&ppt=hp&ppn=homepage&ssid=7gn4beomgw0000001694263541535&qH=16e35e1c76bc3b93', 'https://www.flipkart.com/redmi-12-moonstone-silver-128-gb/p/itm6722b15672602?pid=MOBGRMFK4CSR7GGH&lid=LSTMOBGRMFK4CSR7GGHHKEX2Z&marketplace=FLIPKART&q=redmi+smartphone&store=tyy%2F4io&srno=s_1_14&otracker=search&otracker1=search&fm=organic&iid=a35484ac-03fc-428d-ac61-c7c96712a1ac.MOBGRMFK4CSR7GGH.SEARCH&ppt=hp&ppn=homepage&ssid=7gn4beomgw0000001694263541535&qH=16e35e1c76bc3b93', 'https://www.flipkart.com/redmi-a1-light-green-32-gb/p/itmecc9e7ba0a1df?pid=MOBGGYBAHSAJVKHP&lid=LSTMOBGGYBAHSAJVKHP4UBD9A&marketplace=FLIPKART&q=redmi+smartphone&store=tyy%2F4io&srno=s_1_15&otracker=search&otracker1=search&fm=organic&iid=a35484ac-03fc-428d-ac61-c7c96712a1ac.MOBGGYBAHSAJVKHP.SEARCH&ppt=hp&ppn=homepage&ssid=7gn4beomgw0000001694263541535&qH=16e35e1c76bc3b93', 'https://www.flipkart.com/redmi-11-prime-flashy-black-128-gb/p/itm01f508ea28ab0?pid=MOBGZHFGNDNWAZKZ&lid=LSTMOBGZHFGNDNWAZKZUMANTL&marketplace=FLIPKART&q=redmi+smartphone&store=tyy%2F4io&srno=s_1_16&otracker=search&otracker1=search&fm=organic&iid=a35484ac-03fc-428d-ac61-c7c96712a1ac.MOBGZHFGNDNWAZKZ.SEARCH&ppt=hp&ppn=homepage&ssid=7gn4beomgw0000001694263541535&qH=16e35e1c76bc3b93', 'https://www.flipkart.com/redmi-11-prime-playful-green-128-gb/p/itm0b080e6994972?pid=MOBGZHFGZQMESCDK&lid=LSTMOBGZHFGZQMESCDKZ6ILTE&marketplace=FLIPKART&q=redmi+smartphone&store=tyy%2F4io&srno=s_1_17&otracker=search&otracker1=search&fm=organic&iid=a35484ac-03fc-428d-ac61-c7c96712a1ac.MOBGZHFGZQMESCDK.SEARCH&ppt=hp&ppn=homepage&ssid=7gn4beomgw0000001694263541535&qH=16e35e1c76bc3b93', 'https://www.flipkart.com/redmi-a2-sea-green-64-gb/p/itm5d49be2c0a95a?pid=MOBGPVYEHMPGNCBZ&lid=LSTMOBGPVYEHMPGNCBZHUKI4Z&marketplace=FLIPKART&q=redmi+smartphone&store=tyy%2F4io&srno=s_1_18&otracker=search&otracker1=search&fm=organic&iid=a35484ac-03fc-428d-ac61-c7c96712a1ac.MOBGPVYEHMPGNCBZ.SEARCH&ppt=hp&ppn=homepage&ssid=7gn4beomgw0000001694263541535&qH=16e35e1c76bc3b93', 'https://www.flipkart.com/redmi-a2-classic-black-64-gb/p/itm5d49be2c0a95a?pid=MOBGRHB6XAEUADQB&lid=LSTMOBGRHB6XAEUADQBAI4AJ4&marketplace=FLIPKART&q=redmi+smartphone&store=tyy%2F4io&srno=s_1_19&otracker=search&otracker1=search&fm=organic&iid=a35484ac-03fc-428d-ac61-c7c96712a1ac.MOBGRHB6XAEUADQB.SEARCH&ppt=hp&ppn=homepage&ssid=7gn4beomgw0000001694263541535&qH=16e35e1c76bc3b93', 'https://www.flipkart.com/redmi-12-jade-black-128-gb/p/itmb7050ec01c09f?pid=MOBGRMFKTHKQSJEG&lid=LSTMOBGRMFKTHKQSJEGQK3FM2&marketplace=FLIPKART&q=redmi+smartphone&store=tyy%2F4io&srno=s_1_20&otracker=search&otracker1=search&fm=organic&iid=a35484ac-03fc-428d-ac61-c7c96712a1ac.MOBGRMFKTHKQSJEG.SEARCH&ppt=hp&ppn=homepage&ssid=7gn4beomgw0000001694263541535&qH=16e35e1c76bc3b93', 'https://www.flipkart.com/redmi-12-5g-jade-black-128-gb/p/itm0c8ba13f6fc5b?pid=MOBGS7GYGUAJ4UYZ&lid=LSTMOBGS7GYGUAJ4UYZQQUS5Q&marketplace=FLIPKART&q=redmi+smartphone&store=tyy%2F4io&srno=s_1_21&otracker=search&otracker1=search&fm=organic&iid=a35484ac-03fc-428d-ac61-c7c96712a1ac.MOBGS7GYGUAJ4UYZ.SEARCH&ppt=hp&ppn=homepage&ssid=7gn4beomgw0000001694263541535&qH=16e35e1c76bc3b93', 'https://www.flipkart.com/redmi-note-12-ice-blue-64-gb/p/itmee415766dfc1a?pid=MOBGNYHZYZ4CNTCM&lid=LSTMOBGNYHZYZ4CNTCMVONB0S&marketplace=FLIPKART&q=redmi+smartphone&store=tyy%2F4io&srno=s_1_22&otracker=search&otracker1=search&fm=organic&iid=a35484ac-03fc-428d-ac61-c7c96712a1ac.MOBGNYHZYZ4CNTCM.SEARCH&ppt=hp&ppn=homepage&ssid=7gn4beomgw0000001694263541535&qH=16e35e1c76bc3b93', 'https://www.flipkart.com/redmi-note-12-lunar-black-64-gb/p/itm6756d6e7a86be?pid=MOBGNYHZJGGE3ZHM&lid=LSTMOBGNYHZJGGE3ZHMWSTXBO&marketplace=FLIPKART&q=redmi+smartphone&store=tyy%2F4io&srno=s_1_23&otracker=search&otracker1=search&fm=organic&iid=a35484ac-03fc-428d-ac61-c7c96712a1ac.MOBGNYHZJGGE3ZHM.SEARCH&ppt=hp&ppn=homepage&ssid=7gn4beomgw0000001694263541535&qH=16e35e1c76bc3b93', 'https://www.flipkart.com/redmi-note-12-sunrise-gold-64-gb/p/itm5d170187bcbf0?pid=MOBGNYHZ7ZGHES2V&lid=LSTMOBGNYHZ7ZGHES2VQILAET&marketplace=FLIPKART&q=redmi+smartphone&store=tyy%2F4io&srno=s_1_24&otracker=search&otracker1=search&fm=organic&iid=a35484ac-03fc-428d-ac61-c7c96712a1ac.MOBGNYHZ7ZGHES2V.SEARCH&ppt=hp&ppn=homepage&ssid=7gn4beomgw0000001694263541535&qH=16e35e1c76bc3b93']\n"
     ]
    },
    {
     "name": "stdout",
     "output_type": "stream",
     "text": [
      "['https://www.flipkart.com/redmi-12-moonstone-silver-128-gb/p/itme52e778c12701?pid=MOBGRMFK2MGRNG4Q&lid=LSTMOBGRMFK2MGRNG4QFZLVXT&marketplace=FLIPKART&q=redmi+smartphone&store=tyy%2F4io&spotlightTagId=BestsellerId_tyy%2F4io&srno=s_1_1&otracker=search&otracker1=search&fm=Search&iid=a35484ac-03fc-428d-ac61-c7c96712a1ac.MOBGRMFK2MGRNG4Q.SEARCH&ppt=sp&ppn=sp&ssid=7gn4beomgw0000001694263541535&qH=16e35e1c76bc3b93', 'https://www.flipkart.com/redmi-11-prime-peppy-purple-128-gb/p/itm52d6b0fe396e9?pid=MOBGZHFGUHYSHQYM&lid=LSTMOBGZHFGUHYSHQYMWGOOJ0&marketplace=FLIPKART&q=redmi+smartphone&store=tyy%2F4io&srno=s_1_2&otracker=search&otracker1=search&fm=organic&iid=a35484ac-03fc-428d-ac61-c7c96712a1ac.MOBGZHFGUHYSHQYM.SEARCH&ppt=hp&ppn=homepage&ssid=7gn4beomgw0000001694263541535&qH=16e35e1c76bc3b93', 'https://www.flipkart.com/redmi-12-jade-black-128-gb/p/itm7b10fd42f78b2?pid=MOBGRMFKKDQ2A3V4&lid=LSTMOBGRMFKKDQ2A3V4XZOVEW&marketplace=FLIPKART&q=redmi+smartphone&store=tyy%2F4io&spotlightTagId=BestsellerId_tyy%2F4io&srno=s_1_3&otracker=search&otracker1=search&fm=organic&iid=a35484ac-03fc-428d-ac61-c7c96712a1ac.MOBGRMFKKDQ2A3V4.SEARCH&ppt=hp&ppn=homepage&ssid=7gn4beomgw0000001694263541535&qH=16e35e1c76bc3b93', 'https://www.flipkart.com/redmi-12-pastel-blue-128-gb/p/itm48719506a7ceb?pid=MOBGRMFKKGYD9ETX&lid=LSTMOBGRMFKKGYD9ETX5KD9VL&marketplace=FLIPKART&q=redmi+smartphone&store=tyy%2F4io&spotlightTagId=BestsellerId_tyy%2F4io&srno=s_1_4&otracker=search&otracker1=search&fm=organic&iid=a35484ac-03fc-428d-ac61-c7c96712a1ac.MOBGRMFKKGYD9ETX.SEARCH&ppt=hp&ppn=homepage&ssid=7gn4beomgw0000001694263541535&qH=16e35e1c76bc3b93', 'https://www.flipkart.com/redmi-a1-black-32-gb/p/itm70b00a77a7d1d?pid=MOBGGYBABVXHHRDQ&lid=LSTMOBGGYBABVXHHRDQI6PZV5&marketplace=FLIPKART&q=redmi+smartphone&store=tyy%2F4io&srno=s_1_5&otracker=search&otracker1=search&fm=organic&iid=a35484ac-03fc-428d-ac61-c7c96712a1ac.MOBGGYBABVXHHRDQ.SEARCH&ppt=hp&ppn=homepage&ssid=7gn4beomgw0000001694263541535&qH=16e35e1c76bc3b93', 'https://www.flipkart.com/redmi-a2-aqua-blue-64-gb/p/itm5d49be2c0a95a?pid=MOBGR4UZWNAYKSUH&lid=LSTMOBGR4UZWNAYKSUHE3CTOU&marketplace=FLIPKART&q=redmi+smartphone&store=tyy%2F4io&srno=s_1_6&otracker=search&otracker1=search&fm=organic&iid=a35484ac-03fc-428d-ac61-c7c96712a1ac.MOBGR4UZWNAYKSUH.SEARCH&ppt=hp&ppn=homepage&ssid=7gn4beomgw0000001694263541535&qH=16e35e1c76bc3b93', 'https://www.flipkart.com/redmi-a2-classic-black-64-gb/p/itm5d49be2c0a95a?pid=MOBGPVYHRXZ3PFZU&lid=LSTMOBGPVYHRXZ3PFZU0QHLLF&marketplace=FLIPKART&q=redmi+smartphone&store=tyy%2F4io&srno=s_1_7&otracker=search&otracker1=search&fm=organic&iid=a35484ac-03fc-428d-ac61-c7c96712a1ac.MOBGPVYHRXZ3PFZU.SEARCH&ppt=hp&ppn=homepage&ssid=7gn4beomgw0000001694263541535&qH=16e35e1c76bc3b93', 'https://www.flipkart.com/redmi-a2-sea-green-32-gb/p/itm5d49be2c0a95a?pid=MOBGPVYATHJDTSSR&lid=LSTMOBGPVYATHJDTSSR6JMF4X&marketplace=FLIPKART&q=redmi+smartphone&store=tyy%2F4io&srno=s_1_8&otracker=search&otracker1=search&fm=organic&iid=a35484ac-03fc-428d-ac61-c7c96712a1ac.MOBGPVYATHJDTSSR.SEARCH&ppt=hp&ppn=homepage&ssid=7gn4beomgw0000001694263541535&qH=16e35e1c76bc3b93', 'https://www.flipkart.com/redmi-a2-aqua-blue-64-gb/p/itm5d49be2c0a95a?pid=MOBGPVYMG9RWX6XY&lid=LSTMOBGPVYMG9RWX6XYCWTZEK&marketplace=FLIPKART&q=redmi+smartphone&store=tyy%2F4io&srno=s_1_9&otracker=search&otracker1=search&fm=organic&iid=a35484ac-03fc-428d-ac61-c7c96712a1ac.MOBGPVYMG9RWX6XY.SEARCH&ppt=hp&ppn=homepage&ssid=7gn4beomgw0000001694263541535&qH=16e35e1c76bc3b93', 'https://www.flipkart.com/redmi-12-pastel-blue-128-gb/p/itm9b1a6640faccd?pid=MOBGRMFKAHNTZPWE&lid=LSTMOBGRMFKAHNTZPWE1H5IWS&marketplace=FLIPKART&q=redmi+smartphone&store=tyy%2F4io&srno=s_1_10&otracker=search&otracker1=search&fm=organic&iid=a35484ac-03fc-428d-ac61-c7c96712a1ac.MOBGRMFKAHNTZPWE.SEARCH&ppt=hp&ppn=homepage&ssid=7gn4beomgw0000001694263541535&qH=16e35e1c76bc3b93', 'https://www.flipkart.com/redmi-a2-aqua-blue-32-gb/p/itm5d49be2c0a95a?pid=MOBGPUZR8GHCE5ZQ&lid=LSTMOBGPUZR8GHCE5ZQ1P4DF9&marketplace=FLIPKART&q=redmi+smartphone&store=tyy%2F4io&srno=s_1_11&otracker=search&otracker1=search&fm=organic&iid=a35484ac-03fc-428d-ac61-c7c96712a1ac.MOBGPUZR8GHCE5ZQ.SEARCH&ppt=hp&ppn=homepage&ssid=7gn4beomgw0000001694263541535&qH=16e35e1c76bc3b93', 'https://www.flipkart.com/redmi-10-power-power-black-128-gb/p/itm97f5d2ec83588?pid=MOBGHDXFYKKZFZGV&lid=LSTMOBGHDXFYKKZFZGVE0QYTC&marketplace=FLIPKART&q=redmi+smartphone&store=tyy%2F4io&srno=s_1_12&otracker=search&otracker1=search&fm=organic&iid=a35484ac-03fc-428d-ac61-c7c96712a1ac.MOBGHDXFYKKZFZGV.SEARCH&ppt=hp&ppn=homepage&ssid=7gn4beomgw0000001694263541535&qH=16e35e1c76bc3b93', 'https://www.flipkart.com/redmi-6a-blue-16-gb/p/itm1ed294a755383?pid=MOBF9Z2Z3YDBSF6V&lid=LSTMOBF9Z2Z3YDBSF6VX16ZOH&marketplace=FLIPKART&q=redmi+smartphone&store=tyy%2F4io&srno=s_1_13&otracker=search&otracker1=search&fm=organic&iid=a35484ac-03fc-428d-ac61-c7c96712a1ac.MOBF9Z2Z3YDBSF6V.SEARCH&ppt=hp&ppn=homepage&ssid=7gn4beomgw0000001694263541535&qH=16e35e1c76bc3b93', 'https://www.flipkart.com/redmi-12-moonstone-silver-128-gb/p/itm6722b15672602?pid=MOBGRMFK4CSR7GGH&lid=LSTMOBGRMFK4CSR7GGHHKEX2Z&marketplace=FLIPKART&q=redmi+smartphone&store=tyy%2F4io&srno=s_1_14&otracker=search&otracker1=search&fm=organic&iid=a35484ac-03fc-428d-ac61-c7c96712a1ac.MOBGRMFK4CSR7GGH.SEARCH&ppt=hp&ppn=homepage&ssid=7gn4beomgw0000001694263541535&qH=16e35e1c76bc3b93', 'https://www.flipkart.com/redmi-a1-light-green-32-gb/p/itmecc9e7ba0a1df?pid=MOBGGYBAHSAJVKHP&lid=LSTMOBGGYBAHSAJVKHP4UBD9A&marketplace=FLIPKART&q=redmi+smartphone&store=tyy%2F4io&srno=s_1_15&otracker=search&otracker1=search&fm=organic&iid=a35484ac-03fc-428d-ac61-c7c96712a1ac.MOBGGYBAHSAJVKHP.SEARCH&ppt=hp&ppn=homepage&ssid=7gn4beomgw0000001694263541535&qH=16e35e1c76bc3b93', 'https://www.flipkart.com/redmi-11-prime-flashy-black-128-gb/p/itm01f508ea28ab0?pid=MOBGZHFGNDNWAZKZ&lid=LSTMOBGZHFGNDNWAZKZUMANTL&marketplace=FLIPKART&q=redmi+smartphone&store=tyy%2F4io&srno=s_1_16&otracker=search&otracker1=search&fm=organic&iid=a35484ac-03fc-428d-ac61-c7c96712a1ac.MOBGZHFGNDNWAZKZ.SEARCH&ppt=hp&ppn=homepage&ssid=7gn4beomgw0000001694263541535&qH=16e35e1c76bc3b93', 'https://www.flipkart.com/redmi-11-prime-playful-green-128-gb/p/itm0b080e6994972?pid=MOBGZHFGZQMESCDK&lid=LSTMOBGZHFGZQMESCDKZ6ILTE&marketplace=FLIPKART&q=redmi+smartphone&store=tyy%2F4io&srno=s_1_17&otracker=search&otracker1=search&fm=organic&iid=a35484ac-03fc-428d-ac61-c7c96712a1ac.MOBGZHFGZQMESCDK.SEARCH&ppt=hp&ppn=homepage&ssid=7gn4beomgw0000001694263541535&qH=16e35e1c76bc3b93', 'https://www.flipkart.com/redmi-a2-sea-green-64-gb/p/itm5d49be2c0a95a?pid=MOBGPVYEHMPGNCBZ&lid=LSTMOBGPVYEHMPGNCBZHUKI4Z&marketplace=FLIPKART&q=redmi+smartphone&store=tyy%2F4io&srno=s_1_18&otracker=search&otracker1=search&fm=organic&iid=a35484ac-03fc-428d-ac61-c7c96712a1ac.MOBGPVYEHMPGNCBZ.SEARCH&ppt=hp&ppn=homepage&ssid=7gn4beomgw0000001694263541535&qH=16e35e1c76bc3b93', 'https://www.flipkart.com/redmi-a2-classic-black-64-gb/p/itm5d49be2c0a95a?pid=MOBGRHB6XAEUADQB&lid=LSTMOBGRHB6XAEUADQBAI4AJ4&marketplace=FLIPKART&q=redmi+smartphone&store=tyy%2F4io&srno=s_1_19&otracker=search&otracker1=search&fm=organic&iid=a35484ac-03fc-428d-ac61-c7c96712a1ac.MOBGRHB6XAEUADQB.SEARCH&ppt=hp&ppn=homepage&ssid=7gn4beomgw0000001694263541535&qH=16e35e1c76bc3b93', 'https://www.flipkart.com/redmi-12-jade-black-128-gb/p/itmb7050ec01c09f?pid=MOBGRMFKTHKQSJEG&lid=LSTMOBGRMFKTHKQSJEGQK3FM2&marketplace=FLIPKART&q=redmi+smartphone&store=tyy%2F4io&srno=s_1_20&otracker=search&otracker1=search&fm=organic&iid=a35484ac-03fc-428d-ac61-c7c96712a1ac.MOBGRMFKTHKQSJEG.SEARCH&ppt=hp&ppn=homepage&ssid=7gn4beomgw0000001694263541535&qH=16e35e1c76bc3b93', 'https://www.flipkart.com/redmi-12-5g-jade-black-128-gb/p/itm0c8ba13f6fc5b?pid=MOBGS7GYGUAJ4UYZ&lid=LSTMOBGS7GYGUAJ4UYZQQUS5Q&marketplace=FLIPKART&q=redmi+smartphone&store=tyy%2F4io&srno=s_1_21&otracker=search&otracker1=search&fm=organic&iid=a35484ac-03fc-428d-ac61-c7c96712a1ac.MOBGS7GYGUAJ4UYZ.SEARCH&ppt=hp&ppn=homepage&ssid=7gn4beomgw0000001694263541535&qH=16e35e1c76bc3b93', 'https://www.flipkart.com/redmi-note-12-ice-blue-64-gb/p/itmee415766dfc1a?pid=MOBGNYHZYZ4CNTCM&lid=LSTMOBGNYHZYZ4CNTCMVONB0S&marketplace=FLIPKART&q=redmi+smartphone&store=tyy%2F4io&srno=s_1_22&otracker=search&otracker1=search&fm=organic&iid=a35484ac-03fc-428d-ac61-c7c96712a1ac.MOBGNYHZYZ4CNTCM.SEARCH&ppt=hp&ppn=homepage&ssid=7gn4beomgw0000001694263541535&qH=16e35e1c76bc3b93', 'https://www.flipkart.com/redmi-note-12-lunar-black-64-gb/p/itm6756d6e7a86be?pid=MOBGNYHZJGGE3ZHM&lid=LSTMOBGNYHZJGGE3ZHMWSTXBO&marketplace=FLIPKART&q=redmi+smartphone&store=tyy%2F4io&srno=s_1_23&otracker=search&otracker1=search&fm=organic&iid=a35484ac-03fc-428d-ac61-c7c96712a1ac.MOBGNYHZJGGE3ZHM.SEARCH&ppt=hp&ppn=homepage&ssid=7gn4beomgw0000001694263541535&qH=16e35e1c76bc3b93', 'https://www.flipkart.com/redmi-note-12-sunrise-gold-64-gb/p/itm5d170187bcbf0?pid=MOBGNYHZ7ZGHES2V&lid=LSTMOBGNYHZ7ZGHES2VQILAET&marketplace=FLIPKART&q=redmi+smartphone&store=tyy%2F4io&srno=s_1_24&otracker=search&otracker1=search&fm=organic&iid=a35484ac-03fc-428d-ac61-c7c96712a1ac.MOBGNYHZ7ZGHES2V.SEARCH&ppt=hp&ppn=homepage&ssid=7gn4beomgw0000001694263541535&qH=16e35e1c76bc3b93']\n",
      "['https://www.flipkart.com/redmi-12-moonstone-silver-128-gb/p/itme52e778c12701?pid=MOBGRMFK2MGRNG4Q&lid=LSTMOBGRMFK2MGRNG4QFZLVXT&marketplace=FLIPKART&q=redmi+smartphone&store=tyy%2F4io&spotlightTagId=BestsellerId_tyy%2F4io&srno=s_1_1&otracker=search&otracker1=search&fm=Search&iid=a35484ac-03fc-428d-ac61-c7c96712a1ac.MOBGRMFK2MGRNG4Q.SEARCH&ppt=sp&ppn=sp&ssid=7gn4beomgw0000001694263541535&qH=16e35e1c76bc3b93', 'https://www.flipkart.com/redmi-11-prime-peppy-purple-128-gb/p/itm52d6b0fe396e9?pid=MOBGZHFGUHYSHQYM&lid=LSTMOBGZHFGUHYSHQYMWGOOJ0&marketplace=FLIPKART&q=redmi+smartphone&store=tyy%2F4io&srno=s_1_2&otracker=search&otracker1=search&fm=organic&iid=a35484ac-03fc-428d-ac61-c7c96712a1ac.MOBGZHFGUHYSHQYM.SEARCH&ppt=hp&ppn=homepage&ssid=7gn4beomgw0000001694263541535&qH=16e35e1c76bc3b93', 'https://www.flipkart.com/redmi-12-jade-black-128-gb/p/itm7b10fd42f78b2?pid=MOBGRMFKKDQ2A3V4&lid=LSTMOBGRMFKKDQ2A3V4XZOVEW&marketplace=FLIPKART&q=redmi+smartphone&store=tyy%2F4io&spotlightTagId=BestsellerId_tyy%2F4io&srno=s_1_3&otracker=search&otracker1=search&fm=organic&iid=a35484ac-03fc-428d-ac61-c7c96712a1ac.MOBGRMFKKDQ2A3V4.SEARCH&ppt=hp&ppn=homepage&ssid=7gn4beomgw0000001694263541535&qH=16e35e1c76bc3b93', 'https://www.flipkart.com/redmi-12-pastel-blue-128-gb/p/itm48719506a7ceb?pid=MOBGRMFKKGYD9ETX&lid=LSTMOBGRMFKKGYD9ETX5KD9VL&marketplace=FLIPKART&q=redmi+smartphone&store=tyy%2F4io&spotlightTagId=BestsellerId_tyy%2F4io&srno=s_1_4&otracker=search&otracker1=search&fm=organic&iid=a35484ac-03fc-428d-ac61-c7c96712a1ac.MOBGRMFKKGYD9ETX.SEARCH&ppt=hp&ppn=homepage&ssid=7gn4beomgw0000001694263541535&qH=16e35e1c76bc3b93', 'https://www.flipkart.com/redmi-a1-black-32-gb/p/itm70b00a77a7d1d?pid=MOBGGYBABVXHHRDQ&lid=LSTMOBGGYBABVXHHRDQI6PZV5&marketplace=FLIPKART&q=redmi+smartphone&store=tyy%2F4io&srno=s_1_5&otracker=search&otracker1=search&fm=organic&iid=a35484ac-03fc-428d-ac61-c7c96712a1ac.MOBGGYBABVXHHRDQ.SEARCH&ppt=hp&ppn=homepage&ssid=7gn4beomgw0000001694263541535&qH=16e35e1c76bc3b93', 'https://www.flipkart.com/redmi-a2-aqua-blue-64-gb/p/itm5d49be2c0a95a?pid=MOBGR4UZWNAYKSUH&lid=LSTMOBGR4UZWNAYKSUHE3CTOU&marketplace=FLIPKART&q=redmi+smartphone&store=tyy%2F4io&srno=s_1_6&otracker=search&otracker1=search&fm=organic&iid=a35484ac-03fc-428d-ac61-c7c96712a1ac.MOBGR4UZWNAYKSUH.SEARCH&ppt=hp&ppn=homepage&ssid=7gn4beomgw0000001694263541535&qH=16e35e1c76bc3b93', 'https://www.flipkart.com/redmi-a2-classic-black-64-gb/p/itm5d49be2c0a95a?pid=MOBGPVYHRXZ3PFZU&lid=LSTMOBGPVYHRXZ3PFZU0QHLLF&marketplace=FLIPKART&q=redmi+smartphone&store=tyy%2F4io&srno=s_1_7&otracker=search&otracker1=search&fm=organic&iid=a35484ac-03fc-428d-ac61-c7c96712a1ac.MOBGPVYHRXZ3PFZU.SEARCH&ppt=hp&ppn=homepage&ssid=7gn4beomgw0000001694263541535&qH=16e35e1c76bc3b93', 'https://www.flipkart.com/redmi-a2-sea-green-32-gb/p/itm5d49be2c0a95a?pid=MOBGPVYATHJDTSSR&lid=LSTMOBGPVYATHJDTSSR6JMF4X&marketplace=FLIPKART&q=redmi+smartphone&store=tyy%2F4io&srno=s_1_8&otracker=search&otracker1=search&fm=organic&iid=a35484ac-03fc-428d-ac61-c7c96712a1ac.MOBGPVYATHJDTSSR.SEARCH&ppt=hp&ppn=homepage&ssid=7gn4beomgw0000001694263541535&qH=16e35e1c76bc3b93', 'https://www.flipkart.com/redmi-a2-aqua-blue-64-gb/p/itm5d49be2c0a95a?pid=MOBGPVYMG9RWX6XY&lid=LSTMOBGPVYMG9RWX6XYCWTZEK&marketplace=FLIPKART&q=redmi+smartphone&store=tyy%2F4io&srno=s_1_9&otracker=search&otracker1=search&fm=organic&iid=a35484ac-03fc-428d-ac61-c7c96712a1ac.MOBGPVYMG9RWX6XY.SEARCH&ppt=hp&ppn=homepage&ssid=7gn4beomgw0000001694263541535&qH=16e35e1c76bc3b93', 'https://www.flipkart.com/redmi-12-pastel-blue-128-gb/p/itm9b1a6640faccd?pid=MOBGRMFKAHNTZPWE&lid=LSTMOBGRMFKAHNTZPWE1H5IWS&marketplace=FLIPKART&q=redmi+smartphone&store=tyy%2F4io&srno=s_1_10&otracker=search&otracker1=search&fm=organic&iid=a35484ac-03fc-428d-ac61-c7c96712a1ac.MOBGRMFKAHNTZPWE.SEARCH&ppt=hp&ppn=homepage&ssid=7gn4beomgw0000001694263541535&qH=16e35e1c76bc3b93', 'https://www.flipkart.com/redmi-a2-aqua-blue-32-gb/p/itm5d49be2c0a95a?pid=MOBGPUZR8GHCE5ZQ&lid=LSTMOBGPUZR8GHCE5ZQ1P4DF9&marketplace=FLIPKART&q=redmi+smartphone&store=tyy%2F4io&srno=s_1_11&otracker=search&otracker1=search&fm=organic&iid=a35484ac-03fc-428d-ac61-c7c96712a1ac.MOBGPUZR8GHCE5ZQ.SEARCH&ppt=hp&ppn=homepage&ssid=7gn4beomgw0000001694263541535&qH=16e35e1c76bc3b93', 'https://www.flipkart.com/redmi-10-power-power-black-128-gb/p/itm97f5d2ec83588?pid=MOBGHDXFYKKZFZGV&lid=LSTMOBGHDXFYKKZFZGVE0QYTC&marketplace=FLIPKART&q=redmi+smartphone&store=tyy%2F4io&srno=s_1_12&otracker=search&otracker1=search&fm=organic&iid=a35484ac-03fc-428d-ac61-c7c96712a1ac.MOBGHDXFYKKZFZGV.SEARCH&ppt=hp&ppn=homepage&ssid=7gn4beomgw0000001694263541535&qH=16e35e1c76bc3b93', 'https://www.flipkart.com/redmi-6a-blue-16-gb/p/itm1ed294a755383?pid=MOBF9Z2Z3YDBSF6V&lid=LSTMOBF9Z2Z3YDBSF6VX16ZOH&marketplace=FLIPKART&q=redmi+smartphone&store=tyy%2F4io&srno=s_1_13&otracker=search&otracker1=search&fm=organic&iid=a35484ac-03fc-428d-ac61-c7c96712a1ac.MOBF9Z2Z3YDBSF6V.SEARCH&ppt=hp&ppn=homepage&ssid=7gn4beomgw0000001694263541535&qH=16e35e1c76bc3b93', 'https://www.flipkart.com/redmi-12-moonstone-silver-128-gb/p/itm6722b15672602?pid=MOBGRMFK4CSR7GGH&lid=LSTMOBGRMFK4CSR7GGHHKEX2Z&marketplace=FLIPKART&q=redmi+smartphone&store=tyy%2F4io&srno=s_1_14&otracker=search&otracker1=search&fm=organic&iid=a35484ac-03fc-428d-ac61-c7c96712a1ac.MOBGRMFK4CSR7GGH.SEARCH&ppt=hp&ppn=homepage&ssid=7gn4beomgw0000001694263541535&qH=16e35e1c76bc3b93', 'https://www.flipkart.com/redmi-a1-light-green-32-gb/p/itmecc9e7ba0a1df?pid=MOBGGYBAHSAJVKHP&lid=LSTMOBGGYBAHSAJVKHP4UBD9A&marketplace=FLIPKART&q=redmi+smartphone&store=tyy%2F4io&srno=s_1_15&otracker=search&otracker1=search&fm=organic&iid=a35484ac-03fc-428d-ac61-c7c96712a1ac.MOBGGYBAHSAJVKHP.SEARCH&ppt=hp&ppn=homepage&ssid=7gn4beomgw0000001694263541535&qH=16e35e1c76bc3b93', 'https://www.flipkart.com/redmi-11-prime-flashy-black-128-gb/p/itm01f508ea28ab0?pid=MOBGZHFGNDNWAZKZ&lid=LSTMOBGZHFGNDNWAZKZUMANTL&marketplace=FLIPKART&q=redmi+smartphone&store=tyy%2F4io&srno=s_1_16&otracker=search&otracker1=search&fm=organic&iid=a35484ac-03fc-428d-ac61-c7c96712a1ac.MOBGZHFGNDNWAZKZ.SEARCH&ppt=hp&ppn=homepage&ssid=7gn4beomgw0000001694263541535&qH=16e35e1c76bc3b93', 'https://www.flipkart.com/redmi-11-prime-playful-green-128-gb/p/itm0b080e6994972?pid=MOBGZHFGZQMESCDK&lid=LSTMOBGZHFGZQMESCDKZ6ILTE&marketplace=FLIPKART&q=redmi+smartphone&store=tyy%2F4io&srno=s_1_17&otracker=search&otracker1=search&fm=organic&iid=a35484ac-03fc-428d-ac61-c7c96712a1ac.MOBGZHFGZQMESCDK.SEARCH&ppt=hp&ppn=homepage&ssid=7gn4beomgw0000001694263541535&qH=16e35e1c76bc3b93', 'https://www.flipkart.com/redmi-a2-sea-green-64-gb/p/itm5d49be2c0a95a?pid=MOBGPVYEHMPGNCBZ&lid=LSTMOBGPVYEHMPGNCBZHUKI4Z&marketplace=FLIPKART&q=redmi+smartphone&store=tyy%2F4io&srno=s_1_18&otracker=search&otracker1=search&fm=organic&iid=a35484ac-03fc-428d-ac61-c7c96712a1ac.MOBGPVYEHMPGNCBZ.SEARCH&ppt=hp&ppn=homepage&ssid=7gn4beomgw0000001694263541535&qH=16e35e1c76bc3b93', 'https://www.flipkart.com/redmi-a2-classic-black-64-gb/p/itm5d49be2c0a95a?pid=MOBGRHB6XAEUADQB&lid=LSTMOBGRHB6XAEUADQBAI4AJ4&marketplace=FLIPKART&q=redmi+smartphone&store=tyy%2F4io&srno=s_1_19&otracker=search&otracker1=search&fm=organic&iid=a35484ac-03fc-428d-ac61-c7c96712a1ac.MOBGRHB6XAEUADQB.SEARCH&ppt=hp&ppn=homepage&ssid=7gn4beomgw0000001694263541535&qH=16e35e1c76bc3b93', 'https://www.flipkart.com/redmi-12-jade-black-128-gb/p/itmb7050ec01c09f?pid=MOBGRMFKTHKQSJEG&lid=LSTMOBGRMFKTHKQSJEGQK3FM2&marketplace=FLIPKART&q=redmi+smartphone&store=tyy%2F4io&srno=s_1_20&otracker=search&otracker1=search&fm=organic&iid=a35484ac-03fc-428d-ac61-c7c96712a1ac.MOBGRMFKTHKQSJEG.SEARCH&ppt=hp&ppn=homepage&ssid=7gn4beomgw0000001694263541535&qH=16e35e1c76bc3b93', 'https://www.flipkart.com/redmi-12-5g-jade-black-128-gb/p/itm0c8ba13f6fc5b?pid=MOBGS7GYGUAJ4UYZ&lid=LSTMOBGS7GYGUAJ4UYZQQUS5Q&marketplace=FLIPKART&q=redmi+smartphone&store=tyy%2F4io&srno=s_1_21&otracker=search&otracker1=search&fm=organic&iid=a35484ac-03fc-428d-ac61-c7c96712a1ac.MOBGS7GYGUAJ4UYZ.SEARCH&ppt=hp&ppn=homepage&ssid=7gn4beomgw0000001694263541535&qH=16e35e1c76bc3b93', 'https://www.flipkart.com/redmi-note-12-ice-blue-64-gb/p/itmee415766dfc1a?pid=MOBGNYHZYZ4CNTCM&lid=LSTMOBGNYHZYZ4CNTCMVONB0S&marketplace=FLIPKART&q=redmi+smartphone&store=tyy%2F4io&srno=s_1_22&otracker=search&otracker1=search&fm=organic&iid=a35484ac-03fc-428d-ac61-c7c96712a1ac.MOBGNYHZYZ4CNTCM.SEARCH&ppt=hp&ppn=homepage&ssid=7gn4beomgw0000001694263541535&qH=16e35e1c76bc3b93', 'https://www.flipkart.com/redmi-note-12-lunar-black-64-gb/p/itm6756d6e7a86be?pid=MOBGNYHZJGGE3ZHM&lid=LSTMOBGNYHZJGGE3ZHMWSTXBO&marketplace=FLIPKART&q=redmi+smartphone&store=tyy%2F4io&srno=s_1_23&otracker=search&otracker1=search&fm=organic&iid=a35484ac-03fc-428d-ac61-c7c96712a1ac.MOBGNYHZJGGE3ZHM.SEARCH&ppt=hp&ppn=homepage&ssid=7gn4beomgw0000001694263541535&qH=16e35e1c76bc3b93', 'https://www.flipkart.com/redmi-note-12-sunrise-gold-64-gb/p/itm5d170187bcbf0?pid=MOBGNYHZ7ZGHES2V&lid=LSTMOBGNYHZ7ZGHES2VQILAET&marketplace=FLIPKART&q=redmi+smartphone&store=tyy%2F4io&srno=s_1_24&otracker=search&otracker1=search&fm=organic&iid=a35484ac-03fc-428d-ac61-c7c96712a1ac.MOBGNYHZ7ZGHES2V.SEARCH&ppt=hp&ppn=homepage&ssid=7gn4beomgw0000001694263541535&qH=16e35e1c76bc3b93']\n"
     ]
    },
    {
     "name": "stdout",
     "output_type": "stream",
     "text": [
      "['https://www.flipkart.com/redmi-12-moonstone-silver-128-gb/p/itme52e778c12701?pid=MOBGRMFK2MGRNG4Q&lid=LSTMOBGRMFK2MGRNG4QFZLVXT&marketplace=FLIPKART&q=redmi+smartphone&store=tyy%2F4io&spotlightTagId=BestsellerId_tyy%2F4io&srno=s_1_1&otracker=search&otracker1=search&fm=Search&iid=a35484ac-03fc-428d-ac61-c7c96712a1ac.MOBGRMFK2MGRNG4Q.SEARCH&ppt=sp&ppn=sp&ssid=7gn4beomgw0000001694263541535&qH=16e35e1c76bc3b93', 'https://www.flipkart.com/redmi-11-prime-peppy-purple-128-gb/p/itm52d6b0fe396e9?pid=MOBGZHFGUHYSHQYM&lid=LSTMOBGZHFGUHYSHQYMWGOOJ0&marketplace=FLIPKART&q=redmi+smartphone&store=tyy%2F4io&srno=s_1_2&otracker=search&otracker1=search&fm=organic&iid=a35484ac-03fc-428d-ac61-c7c96712a1ac.MOBGZHFGUHYSHQYM.SEARCH&ppt=hp&ppn=homepage&ssid=7gn4beomgw0000001694263541535&qH=16e35e1c76bc3b93', 'https://www.flipkart.com/redmi-12-jade-black-128-gb/p/itm7b10fd42f78b2?pid=MOBGRMFKKDQ2A3V4&lid=LSTMOBGRMFKKDQ2A3V4XZOVEW&marketplace=FLIPKART&q=redmi+smartphone&store=tyy%2F4io&spotlightTagId=BestsellerId_tyy%2F4io&srno=s_1_3&otracker=search&otracker1=search&fm=organic&iid=a35484ac-03fc-428d-ac61-c7c96712a1ac.MOBGRMFKKDQ2A3V4.SEARCH&ppt=hp&ppn=homepage&ssid=7gn4beomgw0000001694263541535&qH=16e35e1c76bc3b93', 'https://www.flipkart.com/redmi-12-pastel-blue-128-gb/p/itm48719506a7ceb?pid=MOBGRMFKKGYD9ETX&lid=LSTMOBGRMFKKGYD9ETX5KD9VL&marketplace=FLIPKART&q=redmi+smartphone&store=tyy%2F4io&spotlightTagId=BestsellerId_tyy%2F4io&srno=s_1_4&otracker=search&otracker1=search&fm=organic&iid=a35484ac-03fc-428d-ac61-c7c96712a1ac.MOBGRMFKKGYD9ETX.SEARCH&ppt=hp&ppn=homepage&ssid=7gn4beomgw0000001694263541535&qH=16e35e1c76bc3b93', 'https://www.flipkart.com/redmi-a1-black-32-gb/p/itm70b00a77a7d1d?pid=MOBGGYBABVXHHRDQ&lid=LSTMOBGGYBABVXHHRDQI6PZV5&marketplace=FLIPKART&q=redmi+smartphone&store=tyy%2F4io&srno=s_1_5&otracker=search&otracker1=search&fm=organic&iid=a35484ac-03fc-428d-ac61-c7c96712a1ac.MOBGGYBABVXHHRDQ.SEARCH&ppt=hp&ppn=homepage&ssid=7gn4beomgw0000001694263541535&qH=16e35e1c76bc3b93', 'https://www.flipkart.com/redmi-a2-aqua-blue-64-gb/p/itm5d49be2c0a95a?pid=MOBGR4UZWNAYKSUH&lid=LSTMOBGR4UZWNAYKSUHE3CTOU&marketplace=FLIPKART&q=redmi+smartphone&store=tyy%2F4io&srno=s_1_6&otracker=search&otracker1=search&fm=organic&iid=a35484ac-03fc-428d-ac61-c7c96712a1ac.MOBGR4UZWNAYKSUH.SEARCH&ppt=hp&ppn=homepage&ssid=7gn4beomgw0000001694263541535&qH=16e35e1c76bc3b93', 'https://www.flipkart.com/redmi-a2-classic-black-64-gb/p/itm5d49be2c0a95a?pid=MOBGPVYHRXZ3PFZU&lid=LSTMOBGPVYHRXZ3PFZU0QHLLF&marketplace=FLIPKART&q=redmi+smartphone&store=tyy%2F4io&srno=s_1_7&otracker=search&otracker1=search&fm=organic&iid=a35484ac-03fc-428d-ac61-c7c96712a1ac.MOBGPVYHRXZ3PFZU.SEARCH&ppt=hp&ppn=homepage&ssid=7gn4beomgw0000001694263541535&qH=16e35e1c76bc3b93', 'https://www.flipkart.com/redmi-a2-sea-green-32-gb/p/itm5d49be2c0a95a?pid=MOBGPVYATHJDTSSR&lid=LSTMOBGPVYATHJDTSSR6JMF4X&marketplace=FLIPKART&q=redmi+smartphone&store=tyy%2F4io&srno=s_1_8&otracker=search&otracker1=search&fm=organic&iid=a35484ac-03fc-428d-ac61-c7c96712a1ac.MOBGPVYATHJDTSSR.SEARCH&ppt=hp&ppn=homepage&ssid=7gn4beomgw0000001694263541535&qH=16e35e1c76bc3b93', 'https://www.flipkart.com/redmi-a2-aqua-blue-64-gb/p/itm5d49be2c0a95a?pid=MOBGPVYMG9RWX6XY&lid=LSTMOBGPVYMG9RWX6XYCWTZEK&marketplace=FLIPKART&q=redmi+smartphone&store=tyy%2F4io&srno=s_1_9&otracker=search&otracker1=search&fm=organic&iid=a35484ac-03fc-428d-ac61-c7c96712a1ac.MOBGPVYMG9RWX6XY.SEARCH&ppt=hp&ppn=homepage&ssid=7gn4beomgw0000001694263541535&qH=16e35e1c76bc3b93', 'https://www.flipkart.com/redmi-12-pastel-blue-128-gb/p/itm9b1a6640faccd?pid=MOBGRMFKAHNTZPWE&lid=LSTMOBGRMFKAHNTZPWE1H5IWS&marketplace=FLIPKART&q=redmi+smartphone&store=tyy%2F4io&srno=s_1_10&otracker=search&otracker1=search&fm=organic&iid=a35484ac-03fc-428d-ac61-c7c96712a1ac.MOBGRMFKAHNTZPWE.SEARCH&ppt=hp&ppn=homepage&ssid=7gn4beomgw0000001694263541535&qH=16e35e1c76bc3b93', 'https://www.flipkart.com/redmi-a2-aqua-blue-32-gb/p/itm5d49be2c0a95a?pid=MOBGPUZR8GHCE5ZQ&lid=LSTMOBGPUZR8GHCE5ZQ1P4DF9&marketplace=FLIPKART&q=redmi+smartphone&store=tyy%2F4io&srno=s_1_11&otracker=search&otracker1=search&fm=organic&iid=a35484ac-03fc-428d-ac61-c7c96712a1ac.MOBGPUZR8GHCE5ZQ.SEARCH&ppt=hp&ppn=homepage&ssid=7gn4beomgw0000001694263541535&qH=16e35e1c76bc3b93', 'https://www.flipkart.com/redmi-10-power-power-black-128-gb/p/itm97f5d2ec83588?pid=MOBGHDXFYKKZFZGV&lid=LSTMOBGHDXFYKKZFZGVE0QYTC&marketplace=FLIPKART&q=redmi+smartphone&store=tyy%2F4io&srno=s_1_12&otracker=search&otracker1=search&fm=organic&iid=a35484ac-03fc-428d-ac61-c7c96712a1ac.MOBGHDXFYKKZFZGV.SEARCH&ppt=hp&ppn=homepage&ssid=7gn4beomgw0000001694263541535&qH=16e35e1c76bc3b93', 'https://www.flipkart.com/redmi-6a-blue-16-gb/p/itm1ed294a755383?pid=MOBF9Z2Z3YDBSF6V&lid=LSTMOBF9Z2Z3YDBSF6VX16ZOH&marketplace=FLIPKART&q=redmi+smartphone&store=tyy%2F4io&srno=s_1_13&otracker=search&otracker1=search&fm=organic&iid=a35484ac-03fc-428d-ac61-c7c96712a1ac.MOBF9Z2Z3YDBSF6V.SEARCH&ppt=hp&ppn=homepage&ssid=7gn4beomgw0000001694263541535&qH=16e35e1c76bc3b93', 'https://www.flipkart.com/redmi-12-moonstone-silver-128-gb/p/itm6722b15672602?pid=MOBGRMFK4CSR7GGH&lid=LSTMOBGRMFK4CSR7GGHHKEX2Z&marketplace=FLIPKART&q=redmi+smartphone&store=tyy%2F4io&srno=s_1_14&otracker=search&otracker1=search&fm=organic&iid=a35484ac-03fc-428d-ac61-c7c96712a1ac.MOBGRMFK4CSR7GGH.SEARCH&ppt=hp&ppn=homepage&ssid=7gn4beomgw0000001694263541535&qH=16e35e1c76bc3b93', 'https://www.flipkart.com/redmi-a1-light-green-32-gb/p/itmecc9e7ba0a1df?pid=MOBGGYBAHSAJVKHP&lid=LSTMOBGGYBAHSAJVKHP4UBD9A&marketplace=FLIPKART&q=redmi+smartphone&store=tyy%2F4io&srno=s_1_15&otracker=search&otracker1=search&fm=organic&iid=a35484ac-03fc-428d-ac61-c7c96712a1ac.MOBGGYBAHSAJVKHP.SEARCH&ppt=hp&ppn=homepage&ssid=7gn4beomgw0000001694263541535&qH=16e35e1c76bc3b93', 'https://www.flipkart.com/redmi-11-prime-flashy-black-128-gb/p/itm01f508ea28ab0?pid=MOBGZHFGNDNWAZKZ&lid=LSTMOBGZHFGNDNWAZKZUMANTL&marketplace=FLIPKART&q=redmi+smartphone&store=tyy%2F4io&srno=s_1_16&otracker=search&otracker1=search&fm=organic&iid=a35484ac-03fc-428d-ac61-c7c96712a1ac.MOBGZHFGNDNWAZKZ.SEARCH&ppt=hp&ppn=homepage&ssid=7gn4beomgw0000001694263541535&qH=16e35e1c76bc3b93', 'https://www.flipkart.com/redmi-11-prime-playful-green-128-gb/p/itm0b080e6994972?pid=MOBGZHFGZQMESCDK&lid=LSTMOBGZHFGZQMESCDKZ6ILTE&marketplace=FLIPKART&q=redmi+smartphone&store=tyy%2F4io&srno=s_1_17&otracker=search&otracker1=search&fm=organic&iid=a35484ac-03fc-428d-ac61-c7c96712a1ac.MOBGZHFGZQMESCDK.SEARCH&ppt=hp&ppn=homepage&ssid=7gn4beomgw0000001694263541535&qH=16e35e1c76bc3b93', 'https://www.flipkart.com/redmi-a2-sea-green-64-gb/p/itm5d49be2c0a95a?pid=MOBGPVYEHMPGNCBZ&lid=LSTMOBGPVYEHMPGNCBZHUKI4Z&marketplace=FLIPKART&q=redmi+smartphone&store=tyy%2F4io&srno=s_1_18&otracker=search&otracker1=search&fm=organic&iid=a35484ac-03fc-428d-ac61-c7c96712a1ac.MOBGPVYEHMPGNCBZ.SEARCH&ppt=hp&ppn=homepage&ssid=7gn4beomgw0000001694263541535&qH=16e35e1c76bc3b93', 'https://www.flipkart.com/redmi-a2-classic-black-64-gb/p/itm5d49be2c0a95a?pid=MOBGRHB6XAEUADQB&lid=LSTMOBGRHB6XAEUADQBAI4AJ4&marketplace=FLIPKART&q=redmi+smartphone&store=tyy%2F4io&srno=s_1_19&otracker=search&otracker1=search&fm=organic&iid=a35484ac-03fc-428d-ac61-c7c96712a1ac.MOBGRHB6XAEUADQB.SEARCH&ppt=hp&ppn=homepage&ssid=7gn4beomgw0000001694263541535&qH=16e35e1c76bc3b93', 'https://www.flipkart.com/redmi-12-jade-black-128-gb/p/itmb7050ec01c09f?pid=MOBGRMFKTHKQSJEG&lid=LSTMOBGRMFKTHKQSJEGQK3FM2&marketplace=FLIPKART&q=redmi+smartphone&store=tyy%2F4io&srno=s_1_20&otracker=search&otracker1=search&fm=organic&iid=a35484ac-03fc-428d-ac61-c7c96712a1ac.MOBGRMFKTHKQSJEG.SEARCH&ppt=hp&ppn=homepage&ssid=7gn4beomgw0000001694263541535&qH=16e35e1c76bc3b93', 'https://www.flipkart.com/redmi-12-5g-jade-black-128-gb/p/itm0c8ba13f6fc5b?pid=MOBGS7GYGUAJ4UYZ&lid=LSTMOBGS7GYGUAJ4UYZQQUS5Q&marketplace=FLIPKART&q=redmi+smartphone&store=tyy%2F4io&srno=s_1_21&otracker=search&otracker1=search&fm=organic&iid=a35484ac-03fc-428d-ac61-c7c96712a1ac.MOBGS7GYGUAJ4UYZ.SEARCH&ppt=hp&ppn=homepage&ssid=7gn4beomgw0000001694263541535&qH=16e35e1c76bc3b93', 'https://www.flipkart.com/redmi-note-12-ice-blue-64-gb/p/itmee415766dfc1a?pid=MOBGNYHZYZ4CNTCM&lid=LSTMOBGNYHZYZ4CNTCMVONB0S&marketplace=FLIPKART&q=redmi+smartphone&store=tyy%2F4io&srno=s_1_22&otracker=search&otracker1=search&fm=organic&iid=a35484ac-03fc-428d-ac61-c7c96712a1ac.MOBGNYHZYZ4CNTCM.SEARCH&ppt=hp&ppn=homepage&ssid=7gn4beomgw0000001694263541535&qH=16e35e1c76bc3b93', 'https://www.flipkart.com/redmi-note-12-lunar-black-64-gb/p/itm6756d6e7a86be?pid=MOBGNYHZJGGE3ZHM&lid=LSTMOBGNYHZJGGE3ZHMWSTXBO&marketplace=FLIPKART&q=redmi+smartphone&store=tyy%2F4io&srno=s_1_23&otracker=search&otracker1=search&fm=organic&iid=a35484ac-03fc-428d-ac61-c7c96712a1ac.MOBGNYHZJGGE3ZHM.SEARCH&ppt=hp&ppn=homepage&ssid=7gn4beomgw0000001694263541535&qH=16e35e1c76bc3b93', 'https://www.flipkart.com/redmi-note-12-sunrise-gold-64-gb/p/itm5d170187bcbf0?pid=MOBGNYHZ7ZGHES2V&lid=LSTMOBGNYHZ7ZGHES2VQILAET&marketplace=FLIPKART&q=redmi+smartphone&store=tyy%2F4io&srno=s_1_24&otracker=search&otracker1=search&fm=organic&iid=a35484ac-03fc-428d-ac61-c7c96712a1ac.MOBGNYHZ7ZGHES2V.SEARCH&ppt=hp&ppn=homepage&ssid=7gn4beomgw0000001694263541535&qH=16e35e1c76bc3b93']\n",
      "['https://www.flipkart.com/redmi-12-moonstone-silver-128-gb/p/itme52e778c12701?pid=MOBGRMFK2MGRNG4Q&lid=LSTMOBGRMFK2MGRNG4QFZLVXT&marketplace=FLIPKART&q=redmi+smartphone&store=tyy%2F4io&spotlightTagId=BestsellerId_tyy%2F4io&srno=s_1_1&otracker=search&otracker1=search&fm=Search&iid=a35484ac-03fc-428d-ac61-c7c96712a1ac.MOBGRMFK2MGRNG4Q.SEARCH&ppt=sp&ppn=sp&ssid=7gn4beomgw0000001694263541535&qH=16e35e1c76bc3b93', 'https://www.flipkart.com/redmi-11-prime-peppy-purple-128-gb/p/itm52d6b0fe396e9?pid=MOBGZHFGUHYSHQYM&lid=LSTMOBGZHFGUHYSHQYMWGOOJ0&marketplace=FLIPKART&q=redmi+smartphone&store=tyy%2F4io&srno=s_1_2&otracker=search&otracker1=search&fm=organic&iid=a35484ac-03fc-428d-ac61-c7c96712a1ac.MOBGZHFGUHYSHQYM.SEARCH&ppt=hp&ppn=homepage&ssid=7gn4beomgw0000001694263541535&qH=16e35e1c76bc3b93', 'https://www.flipkart.com/redmi-12-jade-black-128-gb/p/itm7b10fd42f78b2?pid=MOBGRMFKKDQ2A3V4&lid=LSTMOBGRMFKKDQ2A3V4XZOVEW&marketplace=FLIPKART&q=redmi+smartphone&store=tyy%2F4io&spotlightTagId=BestsellerId_tyy%2F4io&srno=s_1_3&otracker=search&otracker1=search&fm=organic&iid=a35484ac-03fc-428d-ac61-c7c96712a1ac.MOBGRMFKKDQ2A3V4.SEARCH&ppt=hp&ppn=homepage&ssid=7gn4beomgw0000001694263541535&qH=16e35e1c76bc3b93', 'https://www.flipkart.com/redmi-12-pastel-blue-128-gb/p/itm48719506a7ceb?pid=MOBGRMFKKGYD9ETX&lid=LSTMOBGRMFKKGYD9ETX5KD9VL&marketplace=FLIPKART&q=redmi+smartphone&store=tyy%2F4io&spotlightTagId=BestsellerId_tyy%2F4io&srno=s_1_4&otracker=search&otracker1=search&fm=organic&iid=a35484ac-03fc-428d-ac61-c7c96712a1ac.MOBGRMFKKGYD9ETX.SEARCH&ppt=hp&ppn=homepage&ssid=7gn4beomgw0000001694263541535&qH=16e35e1c76bc3b93', 'https://www.flipkart.com/redmi-a1-black-32-gb/p/itm70b00a77a7d1d?pid=MOBGGYBABVXHHRDQ&lid=LSTMOBGGYBABVXHHRDQI6PZV5&marketplace=FLIPKART&q=redmi+smartphone&store=tyy%2F4io&srno=s_1_5&otracker=search&otracker1=search&fm=organic&iid=a35484ac-03fc-428d-ac61-c7c96712a1ac.MOBGGYBABVXHHRDQ.SEARCH&ppt=hp&ppn=homepage&ssid=7gn4beomgw0000001694263541535&qH=16e35e1c76bc3b93', 'https://www.flipkart.com/redmi-a2-aqua-blue-64-gb/p/itm5d49be2c0a95a?pid=MOBGR4UZWNAYKSUH&lid=LSTMOBGR4UZWNAYKSUHE3CTOU&marketplace=FLIPKART&q=redmi+smartphone&store=tyy%2F4io&srno=s_1_6&otracker=search&otracker1=search&fm=organic&iid=a35484ac-03fc-428d-ac61-c7c96712a1ac.MOBGR4UZWNAYKSUH.SEARCH&ppt=hp&ppn=homepage&ssid=7gn4beomgw0000001694263541535&qH=16e35e1c76bc3b93', 'https://www.flipkart.com/redmi-a2-classic-black-64-gb/p/itm5d49be2c0a95a?pid=MOBGPVYHRXZ3PFZU&lid=LSTMOBGPVYHRXZ3PFZU0QHLLF&marketplace=FLIPKART&q=redmi+smartphone&store=tyy%2F4io&srno=s_1_7&otracker=search&otracker1=search&fm=organic&iid=a35484ac-03fc-428d-ac61-c7c96712a1ac.MOBGPVYHRXZ3PFZU.SEARCH&ppt=hp&ppn=homepage&ssid=7gn4beomgw0000001694263541535&qH=16e35e1c76bc3b93', 'https://www.flipkart.com/redmi-a2-sea-green-32-gb/p/itm5d49be2c0a95a?pid=MOBGPVYATHJDTSSR&lid=LSTMOBGPVYATHJDTSSR6JMF4X&marketplace=FLIPKART&q=redmi+smartphone&store=tyy%2F4io&srno=s_1_8&otracker=search&otracker1=search&fm=organic&iid=a35484ac-03fc-428d-ac61-c7c96712a1ac.MOBGPVYATHJDTSSR.SEARCH&ppt=hp&ppn=homepage&ssid=7gn4beomgw0000001694263541535&qH=16e35e1c76bc3b93', 'https://www.flipkart.com/redmi-a2-aqua-blue-64-gb/p/itm5d49be2c0a95a?pid=MOBGPVYMG9RWX6XY&lid=LSTMOBGPVYMG9RWX6XYCWTZEK&marketplace=FLIPKART&q=redmi+smartphone&store=tyy%2F4io&srno=s_1_9&otracker=search&otracker1=search&fm=organic&iid=a35484ac-03fc-428d-ac61-c7c96712a1ac.MOBGPVYMG9RWX6XY.SEARCH&ppt=hp&ppn=homepage&ssid=7gn4beomgw0000001694263541535&qH=16e35e1c76bc3b93', 'https://www.flipkart.com/redmi-12-pastel-blue-128-gb/p/itm9b1a6640faccd?pid=MOBGRMFKAHNTZPWE&lid=LSTMOBGRMFKAHNTZPWE1H5IWS&marketplace=FLIPKART&q=redmi+smartphone&store=tyy%2F4io&srno=s_1_10&otracker=search&otracker1=search&fm=organic&iid=a35484ac-03fc-428d-ac61-c7c96712a1ac.MOBGRMFKAHNTZPWE.SEARCH&ppt=hp&ppn=homepage&ssid=7gn4beomgw0000001694263541535&qH=16e35e1c76bc3b93', 'https://www.flipkart.com/redmi-a2-aqua-blue-32-gb/p/itm5d49be2c0a95a?pid=MOBGPUZR8GHCE5ZQ&lid=LSTMOBGPUZR8GHCE5ZQ1P4DF9&marketplace=FLIPKART&q=redmi+smartphone&store=tyy%2F4io&srno=s_1_11&otracker=search&otracker1=search&fm=organic&iid=a35484ac-03fc-428d-ac61-c7c96712a1ac.MOBGPUZR8GHCE5ZQ.SEARCH&ppt=hp&ppn=homepage&ssid=7gn4beomgw0000001694263541535&qH=16e35e1c76bc3b93', 'https://www.flipkart.com/redmi-10-power-power-black-128-gb/p/itm97f5d2ec83588?pid=MOBGHDXFYKKZFZGV&lid=LSTMOBGHDXFYKKZFZGVE0QYTC&marketplace=FLIPKART&q=redmi+smartphone&store=tyy%2F4io&srno=s_1_12&otracker=search&otracker1=search&fm=organic&iid=a35484ac-03fc-428d-ac61-c7c96712a1ac.MOBGHDXFYKKZFZGV.SEARCH&ppt=hp&ppn=homepage&ssid=7gn4beomgw0000001694263541535&qH=16e35e1c76bc3b93', 'https://www.flipkart.com/redmi-6a-blue-16-gb/p/itm1ed294a755383?pid=MOBF9Z2Z3YDBSF6V&lid=LSTMOBF9Z2Z3YDBSF6VX16ZOH&marketplace=FLIPKART&q=redmi+smartphone&store=tyy%2F4io&srno=s_1_13&otracker=search&otracker1=search&fm=organic&iid=a35484ac-03fc-428d-ac61-c7c96712a1ac.MOBF9Z2Z3YDBSF6V.SEARCH&ppt=hp&ppn=homepage&ssid=7gn4beomgw0000001694263541535&qH=16e35e1c76bc3b93', 'https://www.flipkart.com/redmi-12-moonstone-silver-128-gb/p/itm6722b15672602?pid=MOBGRMFK4CSR7GGH&lid=LSTMOBGRMFK4CSR7GGHHKEX2Z&marketplace=FLIPKART&q=redmi+smartphone&store=tyy%2F4io&srno=s_1_14&otracker=search&otracker1=search&fm=organic&iid=a35484ac-03fc-428d-ac61-c7c96712a1ac.MOBGRMFK4CSR7GGH.SEARCH&ppt=hp&ppn=homepage&ssid=7gn4beomgw0000001694263541535&qH=16e35e1c76bc3b93', 'https://www.flipkart.com/redmi-a1-light-green-32-gb/p/itmecc9e7ba0a1df?pid=MOBGGYBAHSAJVKHP&lid=LSTMOBGGYBAHSAJVKHP4UBD9A&marketplace=FLIPKART&q=redmi+smartphone&store=tyy%2F4io&srno=s_1_15&otracker=search&otracker1=search&fm=organic&iid=a35484ac-03fc-428d-ac61-c7c96712a1ac.MOBGGYBAHSAJVKHP.SEARCH&ppt=hp&ppn=homepage&ssid=7gn4beomgw0000001694263541535&qH=16e35e1c76bc3b93', 'https://www.flipkart.com/redmi-11-prime-flashy-black-128-gb/p/itm01f508ea28ab0?pid=MOBGZHFGNDNWAZKZ&lid=LSTMOBGZHFGNDNWAZKZUMANTL&marketplace=FLIPKART&q=redmi+smartphone&store=tyy%2F4io&srno=s_1_16&otracker=search&otracker1=search&fm=organic&iid=a35484ac-03fc-428d-ac61-c7c96712a1ac.MOBGZHFGNDNWAZKZ.SEARCH&ppt=hp&ppn=homepage&ssid=7gn4beomgw0000001694263541535&qH=16e35e1c76bc3b93', 'https://www.flipkart.com/redmi-11-prime-playful-green-128-gb/p/itm0b080e6994972?pid=MOBGZHFGZQMESCDK&lid=LSTMOBGZHFGZQMESCDKZ6ILTE&marketplace=FLIPKART&q=redmi+smartphone&store=tyy%2F4io&srno=s_1_17&otracker=search&otracker1=search&fm=organic&iid=a35484ac-03fc-428d-ac61-c7c96712a1ac.MOBGZHFGZQMESCDK.SEARCH&ppt=hp&ppn=homepage&ssid=7gn4beomgw0000001694263541535&qH=16e35e1c76bc3b93', 'https://www.flipkart.com/redmi-a2-sea-green-64-gb/p/itm5d49be2c0a95a?pid=MOBGPVYEHMPGNCBZ&lid=LSTMOBGPVYEHMPGNCBZHUKI4Z&marketplace=FLIPKART&q=redmi+smartphone&store=tyy%2F4io&srno=s_1_18&otracker=search&otracker1=search&fm=organic&iid=a35484ac-03fc-428d-ac61-c7c96712a1ac.MOBGPVYEHMPGNCBZ.SEARCH&ppt=hp&ppn=homepage&ssid=7gn4beomgw0000001694263541535&qH=16e35e1c76bc3b93', 'https://www.flipkart.com/redmi-a2-classic-black-64-gb/p/itm5d49be2c0a95a?pid=MOBGRHB6XAEUADQB&lid=LSTMOBGRHB6XAEUADQBAI4AJ4&marketplace=FLIPKART&q=redmi+smartphone&store=tyy%2F4io&srno=s_1_19&otracker=search&otracker1=search&fm=organic&iid=a35484ac-03fc-428d-ac61-c7c96712a1ac.MOBGRHB6XAEUADQB.SEARCH&ppt=hp&ppn=homepage&ssid=7gn4beomgw0000001694263541535&qH=16e35e1c76bc3b93', 'https://www.flipkart.com/redmi-12-jade-black-128-gb/p/itmb7050ec01c09f?pid=MOBGRMFKTHKQSJEG&lid=LSTMOBGRMFKTHKQSJEGQK3FM2&marketplace=FLIPKART&q=redmi+smartphone&store=tyy%2F4io&srno=s_1_20&otracker=search&otracker1=search&fm=organic&iid=a35484ac-03fc-428d-ac61-c7c96712a1ac.MOBGRMFKTHKQSJEG.SEARCH&ppt=hp&ppn=homepage&ssid=7gn4beomgw0000001694263541535&qH=16e35e1c76bc3b93', 'https://www.flipkart.com/redmi-12-5g-jade-black-128-gb/p/itm0c8ba13f6fc5b?pid=MOBGS7GYGUAJ4UYZ&lid=LSTMOBGS7GYGUAJ4UYZQQUS5Q&marketplace=FLIPKART&q=redmi+smartphone&store=tyy%2F4io&srno=s_1_21&otracker=search&otracker1=search&fm=organic&iid=a35484ac-03fc-428d-ac61-c7c96712a1ac.MOBGS7GYGUAJ4UYZ.SEARCH&ppt=hp&ppn=homepage&ssid=7gn4beomgw0000001694263541535&qH=16e35e1c76bc3b93', 'https://www.flipkart.com/redmi-note-12-ice-blue-64-gb/p/itmee415766dfc1a?pid=MOBGNYHZYZ4CNTCM&lid=LSTMOBGNYHZYZ4CNTCMVONB0S&marketplace=FLIPKART&q=redmi+smartphone&store=tyy%2F4io&srno=s_1_22&otracker=search&otracker1=search&fm=organic&iid=a35484ac-03fc-428d-ac61-c7c96712a1ac.MOBGNYHZYZ4CNTCM.SEARCH&ppt=hp&ppn=homepage&ssid=7gn4beomgw0000001694263541535&qH=16e35e1c76bc3b93', 'https://www.flipkart.com/redmi-note-12-lunar-black-64-gb/p/itm6756d6e7a86be?pid=MOBGNYHZJGGE3ZHM&lid=LSTMOBGNYHZJGGE3ZHMWSTXBO&marketplace=FLIPKART&q=redmi+smartphone&store=tyy%2F4io&srno=s_1_23&otracker=search&otracker1=search&fm=organic&iid=a35484ac-03fc-428d-ac61-c7c96712a1ac.MOBGNYHZJGGE3ZHM.SEARCH&ppt=hp&ppn=homepage&ssid=7gn4beomgw0000001694263541535&qH=16e35e1c76bc3b93', 'https://www.flipkart.com/redmi-note-12-sunrise-gold-64-gb/p/itm5d170187bcbf0?pid=MOBGNYHZ7ZGHES2V&lid=LSTMOBGNYHZ7ZGHES2VQILAET&marketplace=FLIPKART&q=redmi+smartphone&store=tyy%2F4io&srno=s_1_24&otracker=search&otracker1=search&fm=organic&iid=a35484ac-03fc-428d-ac61-c7c96712a1ac.MOBGNYHZ7ZGHES2V.SEARCH&ppt=hp&ppn=homepage&ssid=7gn4beomgw0000001694263541535&qH=16e35e1c76bc3b93']\n"
     ]
    },
    {
     "name": "stdout",
     "output_type": "stream",
     "text": [
      "['https://www.flipkart.com/redmi-12-moonstone-silver-128-gb/p/itme52e778c12701?pid=MOBGRMFK2MGRNG4Q&lid=LSTMOBGRMFK2MGRNG4QFZLVXT&marketplace=FLIPKART&q=redmi+smartphone&store=tyy%2F4io&spotlightTagId=BestsellerId_tyy%2F4io&srno=s_1_1&otracker=search&otracker1=search&fm=Search&iid=a35484ac-03fc-428d-ac61-c7c96712a1ac.MOBGRMFK2MGRNG4Q.SEARCH&ppt=sp&ppn=sp&ssid=7gn4beomgw0000001694263541535&qH=16e35e1c76bc3b93', 'https://www.flipkart.com/redmi-11-prime-peppy-purple-128-gb/p/itm52d6b0fe396e9?pid=MOBGZHFGUHYSHQYM&lid=LSTMOBGZHFGUHYSHQYMWGOOJ0&marketplace=FLIPKART&q=redmi+smartphone&store=tyy%2F4io&srno=s_1_2&otracker=search&otracker1=search&fm=organic&iid=a35484ac-03fc-428d-ac61-c7c96712a1ac.MOBGZHFGUHYSHQYM.SEARCH&ppt=hp&ppn=homepage&ssid=7gn4beomgw0000001694263541535&qH=16e35e1c76bc3b93', 'https://www.flipkart.com/redmi-12-jade-black-128-gb/p/itm7b10fd42f78b2?pid=MOBGRMFKKDQ2A3V4&lid=LSTMOBGRMFKKDQ2A3V4XZOVEW&marketplace=FLIPKART&q=redmi+smartphone&store=tyy%2F4io&spotlightTagId=BestsellerId_tyy%2F4io&srno=s_1_3&otracker=search&otracker1=search&fm=organic&iid=a35484ac-03fc-428d-ac61-c7c96712a1ac.MOBGRMFKKDQ2A3V4.SEARCH&ppt=hp&ppn=homepage&ssid=7gn4beomgw0000001694263541535&qH=16e35e1c76bc3b93', 'https://www.flipkart.com/redmi-12-pastel-blue-128-gb/p/itm48719506a7ceb?pid=MOBGRMFKKGYD9ETX&lid=LSTMOBGRMFKKGYD9ETX5KD9VL&marketplace=FLIPKART&q=redmi+smartphone&store=tyy%2F4io&spotlightTagId=BestsellerId_tyy%2F4io&srno=s_1_4&otracker=search&otracker1=search&fm=organic&iid=a35484ac-03fc-428d-ac61-c7c96712a1ac.MOBGRMFKKGYD9ETX.SEARCH&ppt=hp&ppn=homepage&ssid=7gn4beomgw0000001694263541535&qH=16e35e1c76bc3b93', 'https://www.flipkart.com/redmi-a1-black-32-gb/p/itm70b00a77a7d1d?pid=MOBGGYBABVXHHRDQ&lid=LSTMOBGGYBABVXHHRDQI6PZV5&marketplace=FLIPKART&q=redmi+smartphone&store=tyy%2F4io&srno=s_1_5&otracker=search&otracker1=search&fm=organic&iid=a35484ac-03fc-428d-ac61-c7c96712a1ac.MOBGGYBABVXHHRDQ.SEARCH&ppt=hp&ppn=homepage&ssid=7gn4beomgw0000001694263541535&qH=16e35e1c76bc3b93', 'https://www.flipkart.com/redmi-a2-aqua-blue-64-gb/p/itm5d49be2c0a95a?pid=MOBGR4UZWNAYKSUH&lid=LSTMOBGR4UZWNAYKSUHE3CTOU&marketplace=FLIPKART&q=redmi+smartphone&store=tyy%2F4io&srno=s_1_6&otracker=search&otracker1=search&fm=organic&iid=a35484ac-03fc-428d-ac61-c7c96712a1ac.MOBGR4UZWNAYKSUH.SEARCH&ppt=hp&ppn=homepage&ssid=7gn4beomgw0000001694263541535&qH=16e35e1c76bc3b93', 'https://www.flipkart.com/redmi-a2-classic-black-64-gb/p/itm5d49be2c0a95a?pid=MOBGPVYHRXZ3PFZU&lid=LSTMOBGPVYHRXZ3PFZU0QHLLF&marketplace=FLIPKART&q=redmi+smartphone&store=tyy%2F4io&srno=s_1_7&otracker=search&otracker1=search&fm=organic&iid=a35484ac-03fc-428d-ac61-c7c96712a1ac.MOBGPVYHRXZ3PFZU.SEARCH&ppt=hp&ppn=homepage&ssid=7gn4beomgw0000001694263541535&qH=16e35e1c76bc3b93', 'https://www.flipkart.com/redmi-a2-sea-green-32-gb/p/itm5d49be2c0a95a?pid=MOBGPVYATHJDTSSR&lid=LSTMOBGPVYATHJDTSSR6JMF4X&marketplace=FLIPKART&q=redmi+smartphone&store=tyy%2F4io&srno=s_1_8&otracker=search&otracker1=search&fm=organic&iid=a35484ac-03fc-428d-ac61-c7c96712a1ac.MOBGPVYATHJDTSSR.SEARCH&ppt=hp&ppn=homepage&ssid=7gn4beomgw0000001694263541535&qH=16e35e1c76bc3b93', 'https://www.flipkart.com/redmi-a2-aqua-blue-64-gb/p/itm5d49be2c0a95a?pid=MOBGPVYMG9RWX6XY&lid=LSTMOBGPVYMG9RWX6XYCWTZEK&marketplace=FLIPKART&q=redmi+smartphone&store=tyy%2F4io&srno=s_1_9&otracker=search&otracker1=search&fm=organic&iid=a35484ac-03fc-428d-ac61-c7c96712a1ac.MOBGPVYMG9RWX6XY.SEARCH&ppt=hp&ppn=homepage&ssid=7gn4beomgw0000001694263541535&qH=16e35e1c76bc3b93', 'https://www.flipkart.com/redmi-12-pastel-blue-128-gb/p/itm9b1a6640faccd?pid=MOBGRMFKAHNTZPWE&lid=LSTMOBGRMFKAHNTZPWE1H5IWS&marketplace=FLIPKART&q=redmi+smartphone&store=tyy%2F4io&srno=s_1_10&otracker=search&otracker1=search&fm=organic&iid=a35484ac-03fc-428d-ac61-c7c96712a1ac.MOBGRMFKAHNTZPWE.SEARCH&ppt=hp&ppn=homepage&ssid=7gn4beomgw0000001694263541535&qH=16e35e1c76bc3b93', 'https://www.flipkart.com/redmi-a2-aqua-blue-32-gb/p/itm5d49be2c0a95a?pid=MOBGPUZR8GHCE5ZQ&lid=LSTMOBGPUZR8GHCE5ZQ1P4DF9&marketplace=FLIPKART&q=redmi+smartphone&store=tyy%2F4io&srno=s_1_11&otracker=search&otracker1=search&fm=organic&iid=a35484ac-03fc-428d-ac61-c7c96712a1ac.MOBGPUZR8GHCE5ZQ.SEARCH&ppt=hp&ppn=homepage&ssid=7gn4beomgw0000001694263541535&qH=16e35e1c76bc3b93', 'https://www.flipkart.com/redmi-10-power-power-black-128-gb/p/itm97f5d2ec83588?pid=MOBGHDXFYKKZFZGV&lid=LSTMOBGHDXFYKKZFZGVE0QYTC&marketplace=FLIPKART&q=redmi+smartphone&store=tyy%2F4io&srno=s_1_12&otracker=search&otracker1=search&fm=organic&iid=a35484ac-03fc-428d-ac61-c7c96712a1ac.MOBGHDXFYKKZFZGV.SEARCH&ppt=hp&ppn=homepage&ssid=7gn4beomgw0000001694263541535&qH=16e35e1c76bc3b93', 'https://www.flipkart.com/redmi-6a-blue-16-gb/p/itm1ed294a755383?pid=MOBF9Z2Z3YDBSF6V&lid=LSTMOBF9Z2Z3YDBSF6VX16ZOH&marketplace=FLIPKART&q=redmi+smartphone&store=tyy%2F4io&srno=s_1_13&otracker=search&otracker1=search&fm=organic&iid=a35484ac-03fc-428d-ac61-c7c96712a1ac.MOBF9Z2Z3YDBSF6V.SEARCH&ppt=hp&ppn=homepage&ssid=7gn4beomgw0000001694263541535&qH=16e35e1c76bc3b93', 'https://www.flipkart.com/redmi-12-moonstone-silver-128-gb/p/itm6722b15672602?pid=MOBGRMFK4CSR7GGH&lid=LSTMOBGRMFK4CSR7GGHHKEX2Z&marketplace=FLIPKART&q=redmi+smartphone&store=tyy%2F4io&srno=s_1_14&otracker=search&otracker1=search&fm=organic&iid=a35484ac-03fc-428d-ac61-c7c96712a1ac.MOBGRMFK4CSR7GGH.SEARCH&ppt=hp&ppn=homepage&ssid=7gn4beomgw0000001694263541535&qH=16e35e1c76bc3b93', 'https://www.flipkart.com/redmi-a1-light-green-32-gb/p/itmecc9e7ba0a1df?pid=MOBGGYBAHSAJVKHP&lid=LSTMOBGGYBAHSAJVKHP4UBD9A&marketplace=FLIPKART&q=redmi+smartphone&store=tyy%2F4io&srno=s_1_15&otracker=search&otracker1=search&fm=organic&iid=a35484ac-03fc-428d-ac61-c7c96712a1ac.MOBGGYBAHSAJVKHP.SEARCH&ppt=hp&ppn=homepage&ssid=7gn4beomgw0000001694263541535&qH=16e35e1c76bc3b93', 'https://www.flipkart.com/redmi-11-prime-flashy-black-128-gb/p/itm01f508ea28ab0?pid=MOBGZHFGNDNWAZKZ&lid=LSTMOBGZHFGNDNWAZKZUMANTL&marketplace=FLIPKART&q=redmi+smartphone&store=tyy%2F4io&srno=s_1_16&otracker=search&otracker1=search&fm=organic&iid=a35484ac-03fc-428d-ac61-c7c96712a1ac.MOBGZHFGNDNWAZKZ.SEARCH&ppt=hp&ppn=homepage&ssid=7gn4beomgw0000001694263541535&qH=16e35e1c76bc3b93', 'https://www.flipkart.com/redmi-11-prime-playful-green-128-gb/p/itm0b080e6994972?pid=MOBGZHFGZQMESCDK&lid=LSTMOBGZHFGZQMESCDKZ6ILTE&marketplace=FLIPKART&q=redmi+smartphone&store=tyy%2F4io&srno=s_1_17&otracker=search&otracker1=search&fm=organic&iid=a35484ac-03fc-428d-ac61-c7c96712a1ac.MOBGZHFGZQMESCDK.SEARCH&ppt=hp&ppn=homepage&ssid=7gn4beomgw0000001694263541535&qH=16e35e1c76bc3b93', 'https://www.flipkart.com/redmi-a2-sea-green-64-gb/p/itm5d49be2c0a95a?pid=MOBGPVYEHMPGNCBZ&lid=LSTMOBGPVYEHMPGNCBZHUKI4Z&marketplace=FLIPKART&q=redmi+smartphone&store=tyy%2F4io&srno=s_1_18&otracker=search&otracker1=search&fm=organic&iid=a35484ac-03fc-428d-ac61-c7c96712a1ac.MOBGPVYEHMPGNCBZ.SEARCH&ppt=hp&ppn=homepage&ssid=7gn4beomgw0000001694263541535&qH=16e35e1c76bc3b93', 'https://www.flipkart.com/redmi-a2-classic-black-64-gb/p/itm5d49be2c0a95a?pid=MOBGRHB6XAEUADQB&lid=LSTMOBGRHB6XAEUADQBAI4AJ4&marketplace=FLIPKART&q=redmi+smartphone&store=tyy%2F4io&srno=s_1_19&otracker=search&otracker1=search&fm=organic&iid=a35484ac-03fc-428d-ac61-c7c96712a1ac.MOBGRHB6XAEUADQB.SEARCH&ppt=hp&ppn=homepage&ssid=7gn4beomgw0000001694263541535&qH=16e35e1c76bc3b93', 'https://www.flipkart.com/redmi-12-jade-black-128-gb/p/itmb7050ec01c09f?pid=MOBGRMFKTHKQSJEG&lid=LSTMOBGRMFKTHKQSJEGQK3FM2&marketplace=FLIPKART&q=redmi+smartphone&store=tyy%2F4io&srno=s_1_20&otracker=search&otracker1=search&fm=organic&iid=a35484ac-03fc-428d-ac61-c7c96712a1ac.MOBGRMFKTHKQSJEG.SEARCH&ppt=hp&ppn=homepage&ssid=7gn4beomgw0000001694263541535&qH=16e35e1c76bc3b93', 'https://www.flipkart.com/redmi-12-5g-jade-black-128-gb/p/itm0c8ba13f6fc5b?pid=MOBGS7GYGUAJ4UYZ&lid=LSTMOBGS7GYGUAJ4UYZQQUS5Q&marketplace=FLIPKART&q=redmi+smartphone&store=tyy%2F4io&srno=s_1_21&otracker=search&otracker1=search&fm=organic&iid=a35484ac-03fc-428d-ac61-c7c96712a1ac.MOBGS7GYGUAJ4UYZ.SEARCH&ppt=hp&ppn=homepage&ssid=7gn4beomgw0000001694263541535&qH=16e35e1c76bc3b93', 'https://www.flipkart.com/redmi-note-12-ice-blue-64-gb/p/itmee415766dfc1a?pid=MOBGNYHZYZ4CNTCM&lid=LSTMOBGNYHZYZ4CNTCMVONB0S&marketplace=FLIPKART&q=redmi+smartphone&store=tyy%2F4io&srno=s_1_22&otracker=search&otracker1=search&fm=organic&iid=a35484ac-03fc-428d-ac61-c7c96712a1ac.MOBGNYHZYZ4CNTCM.SEARCH&ppt=hp&ppn=homepage&ssid=7gn4beomgw0000001694263541535&qH=16e35e1c76bc3b93', 'https://www.flipkart.com/redmi-note-12-lunar-black-64-gb/p/itm6756d6e7a86be?pid=MOBGNYHZJGGE3ZHM&lid=LSTMOBGNYHZJGGE3ZHMWSTXBO&marketplace=FLIPKART&q=redmi+smartphone&store=tyy%2F4io&srno=s_1_23&otracker=search&otracker1=search&fm=organic&iid=a35484ac-03fc-428d-ac61-c7c96712a1ac.MOBGNYHZJGGE3ZHM.SEARCH&ppt=hp&ppn=homepage&ssid=7gn4beomgw0000001694263541535&qH=16e35e1c76bc3b93', 'https://www.flipkart.com/redmi-note-12-sunrise-gold-64-gb/p/itm5d170187bcbf0?pid=MOBGNYHZ7ZGHES2V&lid=LSTMOBGNYHZ7ZGHES2VQILAET&marketplace=FLIPKART&q=redmi+smartphone&store=tyy%2F4io&srno=s_1_24&otracker=search&otracker1=search&fm=organic&iid=a35484ac-03fc-428d-ac61-c7c96712a1ac.MOBGNYHZ7ZGHES2V.SEARCH&ppt=hp&ppn=homepage&ssid=7gn4beomgw0000001694263541535&qH=16e35e1c76bc3b93']\n",
      "['https://www.flipkart.com/redmi-12-moonstone-silver-128-gb/p/itme52e778c12701?pid=MOBGRMFK2MGRNG4Q&lid=LSTMOBGRMFK2MGRNG4QFZLVXT&marketplace=FLIPKART&q=redmi+smartphone&store=tyy%2F4io&spotlightTagId=BestsellerId_tyy%2F4io&srno=s_1_1&otracker=search&otracker1=search&fm=Search&iid=a35484ac-03fc-428d-ac61-c7c96712a1ac.MOBGRMFK2MGRNG4Q.SEARCH&ppt=sp&ppn=sp&ssid=7gn4beomgw0000001694263541535&qH=16e35e1c76bc3b93', 'https://www.flipkart.com/redmi-11-prime-peppy-purple-128-gb/p/itm52d6b0fe396e9?pid=MOBGZHFGUHYSHQYM&lid=LSTMOBGZHFGUHYSHQYMWGOOJ0&marketplace=FLIPKART&q=redmi+smartphone&store=tyy%2F4io&srno=s_1_2&otracker=search&otracker1=search&fm=organic&iid=a35484ac-03fc-428d-ac61-c7c96712a1ac.MOBGZHFGUHYSHQYM.SEARCH&ppt=hp&ppn=homepage&ssid=7gn4beomgw0000001694263541535&qH=16e35e1c76bc3b93', 'https://www.flipkart.com/redmi-12-jade-black-128-gb/p/itm7b10fd42f78b2?pid=MOBGRMFKKDQ2A3V4&lid=LSTMOBGRMFKKDQ2A3V4XZOVEW&marketplace=FLIPKART&q=redmi+smartphone&store=tyy%2F4io&spotlightTagId=BestsellerId_tyy%2F4io&srno=s_1_3&otracker=search&otracker1=search&fm=organic&iid=a35484ac-03fc-428d-ac61-c7c96712a1ac.MOBGRMFKKDQ2A3V4.SEARCH&ppt=hp&ppn=homepage&ssid=7gn4beomgw0000001694263541535&qH=16e35e1c76bc3b93', 'https://www.flipkart.com/redmi-12-pastel-blue-128-gb/p/itm48719506a7ceb?pid=MOBGRMFKKGYD9ETX&lid=LSTMOBGRMFKKGYD9ETX5KD9VL&marketplace=FLIPKART&q=redmi+smartphone&store=tyy%2F4io&spotlightTagId=BestsellerId_tyy%2F4io&srno=s_1_4&otracker=search&otracker1=search&fm=organic&iid=a35484ac-03fc-428d-ac61-c7c96712a1ac.MOBGRMFKKGYD9ETX.SEARCH&ppt=hp&ppn=homepage&ssid=7gn4beomgw0000001694263541535&qH=16e35e1c76bc3b93', 'https://www.flipkart.com/redmi-a1-black-32-gb/p/itm70b00a77a7d1d?pid=MOBGGYBABVXHHRDQ&lid=LSTMOBGGYBABVXHHRDQI6PZV5&marketplace=FLIPKART&q=redmi+smartphone&store=tyy%2F4io&srno=s_1_5&otracker=search&otracker1=search&fm=organic&iid=a35484ac-03fc-428d-ac61-c7c96712a1ac.MOBGGYBABVXHHRDQ.SEARCH&ppt=hp&ppn=homepage&ssid=7gn4beomgw0000001694263541535&qH=16e35e1c76bc3b93', 'https://www.flipkart.com/redmi-a2-aqua-blue-64-gb/p/itm5d49be2c0a95a?pid=MOBGR4UZWNAYKSUH&lid=LSTMOBGR4UZWNAYKSUHE3CTOU&marketplace=FLIPKART&q=redmi+smartphone&store=tyy%2F4io&srno=s_1_6&otracker=search&otracker1=search&fm=organic&iid=a35484ac-03fc-428d-ac61-c7c96712a1ac.MOBGR4UZWNAYKSUH.SEARCH&ppt=hp&ppn=homepage&ssid=7gn4beomgw0000001694263541535&qH=16e35e1c76bc3b93', 'https://www.flipkart.com/redmi-a2-classic-black-64-gb/p/itm5d49be2c0a95a?pid=MOBGPVYHRXZ3PFZU&lid=LSTMOBGPVYHRXZ3PFZU0QHLLF&marketplace=FLIPKART&q=redmi+smartphone&store=tyy%2F4io&srno=s_1_7&otracker=search&otracker1=search&fm=organic&iid=a35484ac-03fc-428d-ac61-c7c96712a1ac.MOBGPVYHRXZ3PFZU.SEARCH&ppt=hp&ppn=homepage&ssid=7gn4beomgw0000001694263541535&qH=16e35e1c76bc3b93', 'https://www.flipkart.com/redmi-a2-sea-green-32-gb/p/itm5d49be2c0a95a?pid=MOBGPVYATHJDTSSR&lid=LSTMOBGPVYATHJDTSSR6JMF4X&marketplace=FLIPKART&q=redmi+smartphone&store=tyy%2F4io&srno=s_1_8&otracker=search&otracker1=search&fm=organic&iid=a35484ac-03fc-428d-ac61-c7c96712a1ac.MOBGPVYATHJDTSSR.SEARCH&ppt=hp&ppn=homepage&ssid=7gn4beomgw0000001694263541535&qH=16e35e1c76bc3b93', 'https://www.flipkart.com/redmi-a2-aqua-blue-64-gb/p/itm5d49be2c0a95a?pid=MOBGPVYMG9RWX6XY&lid=LSTMOBGPVYMG9RWX6XYCWTZEK&marketplace=FLIPKART&q=redmi+smartphone&store=tyy%2F4io&srno=s_1_9&otracker=search&otracker1=search&fm=organic&iid=a35484ac-03fc-428d-ac61-c7c96712a1ac.MOBGPVYMG9RWX6XY.SEARCH&ppt=hp&ppn=homepage&ssid=7gn4beomgw0000001694263541535&qH=16e35e1c76bc3b93', 'https://www.flipkart.com/redmi-12-pastel-blue-128-gb/p/itm9b1a6640faccd?pid=MOBGRMFKAHNTZPWE&lid=LSTMOBGRMFKAHNTZPWE1H5IWS&marketplace=FLIPKART&q=redmi+smartphone&store=tyy%2F4io&srno=s_1_10&otracker=search&otracker1=search&fm=organic&iid=a35484ac-03fc-428d-ac61-c7c96712a1ac.MOBGRMFKAHNTZPWE.SEARCH&ppt=hp&ppn=homepage&ssid=7gn4beomgw0000001694263541535&qH=16e35e1c76bc3b93', 'https://www.flipkart.com/redmi-a2-aqua-blue-32-gb/p/itm5d49be2c0a95a?pid=MOBGPUZR8GHCE5ZQ&lid=LSTMOBGPUZR8GHCE5ZQ1P4DF9&marketplace=FLIPKART&q=redmi+smartphone&store=tyy%2F4io&srno=s_1_11&otracker=search&otracker1=search&fm=organic&iid=a35484ac-03fc-428d-ac61-c7c96712a1ac.MOBGPUZR8GHCE5ZQ.SEARCH&ppt=hp&ppn=homepage&ssid=7gn4beomgw0000001694263541535&qH=16e35e1c76bc3b93', 'https://www.flipkart.com/redmi-10-power-power-black-128-gb/p/itm97f5d2ec83588?pid=MOBGHDXFYKKZFZGV&lid=LSTMOBGHDXFYKKZFZGVE0QYTC&marketplace=FLIPKART&q=redmi+smartphone&store=tyy%2F4io&srno=s_1_12&otracker=search&otracker1=search&fm=organic&iid=a35484ac-03fc-428d-ac61-c7c96712a1ac.MOBGHDXFYKKZFZGV.SEARCH&ppt=hp&ppn=homepage&ssid=7gn4beomgw0000001694263541535&qH=16e35e1c76bc3b93', 'https://www.flipkart.com/redmi-6a-blue-16-gb/p/itm1ed294a755383?pid=MOBF9Z2Z3YDBSF6V&lid=LSTMOBF9Z2Z3YDBSF6VX16ZOH&marketplace=FLIPKART&q=redmi+smartphone&store=tyy%2F4io&srno=s_1_13&otracker=search&otracker1=search&fm=organic&iid=a35484ac-03fc-428d-ac61-c7c96712a1ac.MOBF9Z2Z3YDBSF6V.SEARCH&ppt=hp&ppn=homepage&ssid=7gn4beomgw0000001694263541535&qH=16e35e1c76bc3b93', 'https://www.flipkart.com/redmi-12-moonstone-silver-128-gb/p/itm6722b15672602?pid=MOBGRMFK4CSR7GGH&lid=LSTMOBGRMFK4CSR7GGHHKEX2Z&marketplace=FLIPKART&q=redmi+smartphone&store=tyy%2F4io&srno=s_1_14&otracker=search&otracker1=search&fm=organic&iid=a35484ac-03fc-428d-ac61-c7c96712a1ac.MOBGRMFK4CSR7GGH.SEARCH&ppt=hp&ppn=homepage&ssid=7gn4beomgw0000001694263541535&qH=16e35e1c76bc3b93', 'https://www.flipkart.com/redmi-a1-light-green-32-gb/p/itmecc9e7ba0a1df?pid=MOBGGYBAHSAJVKHP&lid=LSTMOBGGYBAHSAJVKHP4UBD9A&marketplace=FLIPKART&q=redmi+smartphone&store=tyy%2F4io&srno=s_1_15&otracker=search&otracker1=search&fm=organic&iid=a35484ac-03fc-428d-ac61-c7c96712a1ac.MOBGGYBAHSAJVKHP.SEARCH&ppt=hp&ppn=homepage&ssid=7gn4beomgw0000001694263541535&qH=16e35e1c76bc3b93', 'https://www.flipkart.com/redmi-11-prime-flashy-black-128-gb/p/itm01f508ea28ab0?pid=MOBGZHFGNDNWAZKZ&lid=LSTMOBGZHFGNDNWAZKZUMANTL&marketplace=FLIPKART&q=redmi+smartphone&store=tyy%2F4io&srno=s_1_16&otracker=search&otracker1=search&fm=organic&iid=a35484ac-03fc-428d-ac61-c7c96712a1ac.MOBGZHFGNDNWAZKZ.SEARCH&ppt=hp&ppn=homepage&ssid=7gn4beomgw0000001694263541535&qH=16e35e1c76bc3b93', 'https://www.flipkart.com/redmi-11-prime-playful-green-128-gb/p/itm0b080e6994972?pid=MOBGZHFGZQMESCDK&lid=LSTMOBGZHFGZQMESCDKZ6ILTE&marketplace=FLIPKART&q=redmi+smartphone&store=tyy%2F4io&srno=s_1_17&otracker=search&otracker1=search&fm=organic&iid=a35484ac-03fc-428d-ac61-c7c96712a1ac.MOBGZHFGZQMESCDK.SEARCH&ppt=hp&ppn=homepage&ssid=7gn4beomgw0000001694263541535&qH=16e35e1c76bc3b93', 'https://www.flipkart.com/redmi-a2-sea-green-64-gb/p/itm5d49be2c0a95a?pid=MOBGPVYEHMPGNCBZ&lid=LSTMOBGPVYEHMPGNCBZHUKI4Z&marketplace=FLIPKART&q=redmi+smartphone&store=tyy%2F4io&srno=s_1_18&otracker=search&otracker1=search&fm=organic&iid=a35484ac-03fc-428d-ac61-c7c96712a1ac.MOBGPVYEHMPGNCBZ.SEARCH&ppt=hp&ppn=homepage&ssid=7gn4beomgw0000001694263541535&qH=16e35e1c76bc3b93', 'https://www.flipkart.com/redmi-a2-classic-black-64-gb/p/itm5d49be2c0a95a?pid=MOBGRHB6XAEUADQB&lid=LSTMOBGRHB6XAEUADQBAI4AJ4&marketplace=FLIPKART&q=redmi+smartphone&store=tyy%2F4io&srno=s_1_19&otracker=search&otracker1=search&fm=organic&iid=a35484ac-03fc-428d-ac61-c7c96712a1ac.MOBGRHB6XAEUADQB.SEARCH&ppt=hp&ppn=homepage&ssid=7gn4beomgw0000001694263541535&qH=16e35e1c76bc3b93', 'https://www.flipkart.com/redmi-12-jade-black-128-gb/p/itmb7050ec01c09f?pid=MOBGRMFKTHKQSJEG&lid=LSTMOBGRMFKTHKQSJEGQK3FM2&marketplace=FLIPKART&q=redmi+smartphone&store=tyy%2F4io&srno=s_1_20&otracker=search&otracker1=search&fm=organic&iid=a35484ac-03fc-428d-ac61-c7c96712a1ac.MOBGRMFKTHKQSJEG.SEARCH&ppt=hp&ppn=homepage&ssid=7gn4beomgw0000001694263541535&qH=16e35e1c76bc3b93', 'https://www.flipkart.com/redmi-12-5g-jade-black-128-gb/p/itm0c8ba13f6fc5b?pid=MOBGS7GYGUAJ4UYZ&lid=LSTMOBGS7GYGUAJ4UYZQQUS5Q&marketplace=FLIPKART&q=redmi+smartphone&store=tyy%2F4io&srno=s_1_21&otracker=search&otracker1=search&fm=organic&iid=a35484ac-03fc-428d-ac61-c7c96712a1ac.MOBGS7GYGUAJ4UYZ.SEARCH&ppt=hp&ppn=homepage&ssid=7gn4beomgw0000001694263541535&qH=16e35e1c76bc3b93', 'https://www.flipkart.com/redmi-note-12-ice-blue-64-gb/p/itmee415766dfc1a?pid=MOBGNYHZYZ4CNTCM&lid=LSTMOBGNYHZYZ4CNTCMVONB0S&marketplace=FLIPKART&q=redmi+smartphone&store=tyy%2F4io&srno=s_1_22&otracker=search&otracker1=search&fm=organic&iid=a35484ac-03fc-428d-ac61-c7c96712a1ac.MOBGNYHZYZ4CNTCM.SEARCH&ppt=hp&ppn=homepage&ssid=7gn4beomgw0000001694263541535&qH=16e35e1c76bc3b93', 'https://www.flipkart.com/redmi-note-12-lunar-black-64-gb/p/itm6756d6e7a86be?pid=MOBGNYHZJGGE3ZHM&lid=LSTMOBGNYHZJGGE3ZHMWSTXBO&marketplace=FLIPKART&q=redmi+smartphone&store=tyy%2F4io&srno=s_1_23&otracker=search&otracker1=search&fm=organic&iid=a35484ac-03fc-428d-ac61-c7c96712a1ac.MOBGNYHZJGGE3ZHM.SEARCH&ppt=hp&ppn=homepage&ssid=7gn4beomgw0000001694263541535&qH=16e35e1c76bc3b93', 'https://www.flipkart.com/redmi-note-12-sunrise-gold-64-gb/p/itm5d170187bcbf0?pid=MOBGNYHZ7ZGHES2V&lid=LSTMOBGNYHZ7ZGHES2VQILAET&marketplace=FLIPKART&q=redmi+smartphone&store=tyy%2F4io&srno=s_1_24&otracker=search&otracker1=search&fm=organic&iid=a35484ac-03fc-428d-ac61-c7c96712a1ac.MOBGNYHZ7ZGHES2V.SEARCH&ppt=hp&ppn=homepage&ssid=7gn4beomgw0000001694263541535&qH=16e35e1c76bc3b93']\n"
     ]
    }
   ],
   "source": [
    "#scraping urls\n",
    "info1=driver.find_elements(By.XPATH, '//div[@class=\"fMghEO\"]')\n",
    "for i in info1:\n",
    "    url=[i.get_attribute('href') for i in driver.find_elements(By.XPATH, '//a[@class=\"_1fQZEK\"]')]\n",
    "    print(url)"
   ]
  },
  {
   "cell_type": "code",
   "execution_count": 73,
   "id": "e72f37bc",
   "metadata": {},
   "outputs": [
    {
     "data": {
      "text/plain": [
       "['Moonstone Silver',\n",
       " 'Peppy Purple',\n",
       " 'Jade Black',\n",
       " 'Pastel Blue',\n",
       " 'Black',\n",
       " 'Aqua Blue',\n",
       " 'Classic Black',\n",
       " 'Sea Green',\n",
       " 'Aqua Blue',\n",
       " 'Pastel Blue',\n",
       " 'Aqua Blue',\n",
       " 'Power Black',\n",
       " 'Blue',\n",
       " 'Moonstone Silver',\n",
       " 'Light Green',\n",
       " 'Flashy Black',\n",
       " 'Playful Green',\n",
       " 'Sea Green',\n",
       " 'Classic Black',\n",
       " 'Jade Black',\n",
       " 'Jade Black',\n",
       " 'Ice Blue',\n",
       " 'Lunar Black',\n",
       " 'Sunrise Gold']"
      ]
     },
     "execution_count": 73,
     "metadata": {},
     "output_type": "execute_result"
    }
   ],
   "source": [
    "#scraping phone colour\n",
    "color_name=[i.text.split('(')[1].split(',')[0] for i in driver.find_elements(By.XPATH, '//div[@class=\"_4rR01T\"]')]\n",
    "color_name"
   ]
  },
  {
   "cell_type": "code",
   "execution_count": 74,
   "id": "e497b8f1",
   "metadata": {},
   "outputs": [
    {
     "data": {
      "text/plain": [
       "24"
      ]
     },
     "execution_count": 74,
     "metadata": {},
     "output_type": "execute_result"
    }
   ],
   "source": [
    "len(color_name)"
   ]
  },
  {
   "cell_type": "code",
   "execution_count": 75,
   "id": "b977b160",
   "metadata": {},
   "outputs": [
    {
     "name": "stdout",
     "output_type": "stream",
     "text": [
      "['4', '6', '4', '4', '2', '2', '4', '2', '4', '6', '2', '8', '2', '6', '2', '6', '6', '4', '2', '6', '6', '6', '6', '6']\n"
     ]
    }
   ],
   "source": [
    "#scraping ram\n",
    "info1=soup.find_all('div', class_=\"fMghEO\")\n",
    "RAM=[i.text.split('|')[0].split(\" \")[0] for i in soup.find_all('div', class_=\"fMghEO\")]\n",
    "print(RAM)"
   ]
  },
  {
   "cell_type": "code",
   "execution_count": 76,
   "id": "3efa29ea",
   "metadata": {},
   "outputs": [
    {
     "name": "stdout",
     "output_type": "stream",
     "text": [
      "24\n"
     ]
    }
   ],
   "source": [
    "#scraping rom\n",
    "info1=soup.find_all('div', class_=\"fMghEO\")\n",
    "for i in info1:\n",
    "    ROM=[i.text.split('GB')[1].split('|')[1] for i in soup.find_all('div', class_=\"fMghEO\")]\n",
    "print(len(ROM))"
   ]
  },
  {
   "cell_type": "code",
   "execution_count": 77,
   "id": "0d705f34",
   "metadata": {},
   "outputs": [
    {
     "name": "stdout",
     "output_type": "stream",
     "text": [
      "[' 128 ', ' 128 ', ' 128 ', ' 128 ', ' 32 ', ' 64 ', ' 64 ', ' 32 ', ' 64 ', ' 128 ', ' 32 ', ' 128 ', ' 16 ', ' 128 ', ' 32 ', ' 128 ', ' 128 ', ' 64 ', ' 64 ', ' 128 ', ' 128 ', ' 64 ', ' 64 ', ' 64 ']\n"
     ]
    }
   ],
   "source": [
    "print(ROM)"
   ]
  },
  {
   "cell_type": "code",
   "execution_count": 78,
   "id": "2e65c221",
   "metadata": {},
   "outputs": [
    {
     "name": "stdout",
     "output_type": "stream",
     "text": [
      "['https://www.flipkart.com/redmi-12-moonstone-silver-128-gb/p/itme52e778c12701?pid=MOBGRMFK2MGRNG4Q&lid=LSTMOBGRMFK2MGRNG4QFZLVXT&marketplace=FLIPKART&q=redmi+smartphone&store=tyy%2F4io&spotlightTagId=BestsellerId_tyy%2F4io&srno=s_1_1&otracker=search&otracker1=search&fm=Search&iid=a35484ac-03fc-428d-ac61-c7c96712a1ac.MOBGRMFK2MGRNG4Q.SEARCH&ppt=sp&ppn=sp&ssid=7gn4beomgw0000001694263541535&qH=16e35e1c76bc3b93', 'https://www.flipkart.com/redmi-11-prime-peppy-purple-128-gb/p/itm52d6b0fe396e9?pid=MOBGZHFGUHYSHQYM&lid=LSTMOBGZHFGUHYSHQYMWGOOJ0&marketplace=FLIPKART&q=redmi+smartphone&store=tyy%2F4io&srno=s_1_2&otracker=search&otracker1=search&fm=organic&iid=a35484ac-03fc-428d-ac61-c7c96712a1ac.MOBGZHFGUHYSHQYM.SEARCH&ppt=hp&ppn=homepage&ssid=7gn4beomgw0000001694263541535&qH=16e35e1c76bc3b93', 'https://www.flipkart.com/redmi-12-jade-black-128-gb/p/itm7b10fd42f78b2?pid=MOBGRMFKKDQ2A3V4&lid=LSTMOBGRMFKKDQ2A3V4XZOVEW&marketplace=FLIPKART&q=redmi+smartphone&store=tyy%2F4io&spotlightTagId=BestsellerId_tyy%2F4io&srno=s_1_3&otracker=search&otracker1=search&fm=organic&iid=a35484ac-03fc-428d-ac61-c7c96712a1ac.MOBGRMFKKDQ2A3V4.SEARCH&ppt=hp&ppn=homepage&ssid=7gn4beomgw0000001694263541535&qH=16e35e1c76bc3b93', 'https://www.flipkart.com/redmi-12-pastel-blue-128-gb/p/itm48719506a7ceb?pid=MOBGRMFKKGYD9ETX&lid=LSTMOBGRMFKKGYD9ETX5KD9VL&marketplace=FLIPKART&q=redmi+smartphone&store=tyy%2F4io&spotlightTagId=BestsellerId_tyy%2F4io&srno=s_1_4&otracker=search&otracker1=search&fm=organic&iid=a35484ac-03fc-428d-ac61-c7c96712a1ac.MOBGRMFKKGYD9ETX.SEARCH&ppt=hp&ppn=homepage&ssid=7gn4beomgw0000001694263541535&qH=16e35e1c76bc3b93', 'https://www.flipkart.com/redmi-a1-black-32-gb/p/itm70b00a77a7d1d?pid=MOBGGYBABVXHHRDQ&lid=LSTMOBGGYBABVXHHRDQI6PZV5&marketplace=FLIPKART&q=redmi+smartphone&store=tyy%2F4io&srno=s_1_5&otracker=search&otracker1=search&fm=organic&iid=a35484ac-03fc-428d-ac61-c7c96712a1ac.MOBGGYBABVXHHRDQ.SEARCH&ppt=hp&ppn=homepage&ssid=7gn4beomgw0000001694263541535&qH=16e35e1c76bc3b93', 'https://www.flipkart.com/redmi-a2-aqua-blue-64-gb/p/itm5d49be2c0a95a?pid=MOBGR4UZWNAYKSUH&lid=LSTMOBGR4UZWNAYKSUHE3CTOU&marketplace=FLIPKART&q=redmi+smartphone&store=tyy%2F4io&srno=s_1_6&otracker=search&otracker1=search&fm=organic&iid=a35484ac-03fc-428d-ac61-c7c96712a1ac.MOBGR4UZWNAYKSUH.SEARCH&ppt=hp&ppn=homepage&ssid=7gn4beomgw0000001694263541535&qH=16e35e1c76bc3b93', 'https://www.flipkart.com/redmi-a2-classic-black-64-gb/p/itm5d49be2c0a95a?pid=MOBGPVYHRXZ3PFZU&lid=LSTMOBGPVYHRXZ3PFZU0QHLLF&marketplace=FLIPKART&q=redmi+smartphone&store=tyy%2F4io&srno=s_1_7&otracker=search&otracker1=search&fm=organic&iid=a35484ac-03fc-428d-ac61-c7c96712a1ac.MOBGPVYHRXZ3PFZU.SEARCH&ppt=hp&ppn=homepage&ssid=7gn4beomgw0000001694263541535&qH=16e35e1c76bc3b93', 'https://www.flipkart.com/redmi-a2-sea-green-32-gb/p/itm5d49be2c0a95a?pid=MOBGPVYATHJDTSSR&lid=LSTMOBGPVYATHJDTSSR6JMF4X&marketplace=FLIPKART&q=redmi+smartphone&store=tyy%2F4io&srno=s_1_8&otracker=search&otracker1=search&fm=organic&iid=a35484ac-03fc-428d-ac61-c7c96712a1ac.MOBGPVYATHJDTSSR.SEARCH&ppt=hp&ppn=homepage&ssid=7gn4beomgw0000001694263541535&qH=16e35e1c76bc3b93', 'https://www.flipkart.com/redmi-a2-aqua-blue-64-gb/p/itm5d49be2c0a95a?pid=MOBGPVYMG9RWX6XY&lid=LSTMOBGPVYMG9RWX6XYCWTZEK&marketplace=FLIPKART&q=redmi+smartphone&store=tyy%2F4io&srno=s_1_9&otracker=search&otracker1=search&fm=organic&iid=a35484ac-03fc-428d-ac61-c7c96712a1ac.MOBGPVYMG9RWX6XY.SEARCH&ppt=hp&ppn=homepage&ssid=7gn4beomgw0000001694263541535&qH=16e35e1c76bc3b93', 'https://www.flipkart.com/redmi-12-pastel-blue-128-gb/p/itm9b1a6640faccd?pid=MOBGRMFKAHNTZPWE&lid=LSTMOBGRMFKAHNTZPWE1H5IWS&marketplace=FLIPKART&q=redmi+smartphone&store=tyy%2F4io&srno=s_1_10&otracker=search&otracker1=search&fm=organic&iid=a35484ac-03fc-428d-ac61-c7c96712a1ac.MOBGRMFKAHNTZPWE.SEARCH&ppt=hp&ppn=homepage&ssid=7gn4beomgw0000001694263541535&qH=16e35e1c76bc3b93', 'https://www.flipkart.com/redmi-a2-aqua-blue-32-gb/p/itm5d49be2c0a95a?pid=MOBGPUZR8GHCE5ZQ&lid=LSTMOBGPUZR8GHCE5ZQ1P4DF9&marketplace=FLIPKART&q=redmi+smartphone&store=tyy%2F4io&srno=s_1_11&otracker=search&otracker1=search&fm=organic&iid=a35484ac-03fc-428d-ac61-c7c96712a1ac.MOBGPUZR8GHCE5ZQ.SEARCH&ppt=hp&ppn=homepage&ssid=7gn4beomgw0000001694263541535&qH=16e35e1c76bc3b93', 'https://www.flipkart.com/redmi-10-power-power-black-128-gb/p/itm97f5d2ec83588?pid=MOBGHDXFYKKZFZGV&lid=LSTMOBGHDXFYKKZFZGVE0QYTC&marketplace=FLIPKART&q=redmi+smartphone&store=tyy%2F4io&srno=s_1_12&otracker=search&otracker1=search&fm=organic&iid=a35484ac-03fc-428d-ac61-c7c96712a1ac.MOBGHDXFYKKZFZGV.SEARCH&ppt=hp&ppn=homepage&ssid=7gn4beomgw0000001694263541535&qH=16e35e1c76bc3b93', 'https://www.flipkart.com/redmi-6a-blue-16-gb/p/itm1ed294a755383?pid=MOBF9Z2Z3YDBSF6V&lid=LSTMOBF9Z2Z3YDBSF6VX16ZOH&marketplace=FLIPKART&q=redmi+smartphone&store=tyy%2F4io&srno=s_1_13&otracker=search&otracker1=search&fm=organic&iid=a35484ac-03fc-428d-ac61-c7c96712a1ac.MOBF9Z2Z3YDBSF6V.SEARCH&ppt=hp&ppn=homepage&ssid=7gn4beomgw0000001694263541535&qH=16e35e1c76bc3b93', 'https://www.flipkart.com/redmi-12-moonstone-silver-128-gb/p/itm6722b15672602?pid=MOBGRMFK4CSR7GGH&lid=LSTMOBGRMFK4CSR7GGHHKEX2Z&marketplace=FLIPKART&q=redmi+smartphone&store=tyy%2F4io&srno=s_1_14&otracker=search&otracker1=search&fm=organic&iid=a35484ac-03fc-428d-ac61-c7c96712a1ac.MOBGRMFK4CSR7GGH.SEARCH&ppt=hp&ppn=homepage&ssid=7gn4beomgw0000001694263541535&qH=16e35e1c76bc3b93', 'https://www.flipkart.com/redmi-a1-light-green-32-gb/p/itmecc9e7ba0a1df?pid=MOBGGYBAHSAJVKHP&lid=LSTMOBGGYBAHSAJVKHP4UBD9A&marketplace=FLIPKART&q=redmi+smartphone&store=tyy%2F4io&srno=s_1_15&otracker=search&otracker1=search&fm=organic&iid=a35484ac-03fc-428d-ac61-c7c96712a1ac.MOBGGYBAHSAJVKHP.SEARCH&ppt=hp&ppn=homepage&ssid=7gn4beomgw0000001694263541535&qH=16e35e1c76bc3b93', 'https://www.flipkart.com/redmi-11-prime-flashy-black-128-gb/p/itm01f508ea28ab0?pid=MOBGZHFGNDNWAZKZ&lid=LSTMOBGZHFGNDNWAZKZUMANTL&marketplace=FLIPKART&q=redmi+smartphone&store=tyy%2F4io&srno=s_1_16&otracker=search&otracker1=search&fm=organic&iid=a35484ac-03fc-428d-ac61-c7c96712a1ac.MOBGZHFGNDNWAZKZ.SEARCH&ppt=hp&ppn=homepage&ssid=7gn4beomgw0000001694263541535&qH=16e35e1c76bc3b93', 'https://www.flipkart.com/redmi-11-prime-playful-green-128-gb/p/itm0b080e6994972?pid=MOBGZHFGZQMESCDK&lid=LSTMOBGZHFGZQMESCDKZ6ILTE&marketplace=FLIPKART&q=redmi+smartphone&store=tyy%2F4io&srno=s_1_17&otracker=search&otracker1=search&fm=organic&iid=a35484ac-03fc-428d-ac61-c7c96712a1ac.MOBGZHFGZQMESCDK.SEARCH&ppt=hp&ppn=homepage&ssid=7gn4beomgw0000001694263541535&qH=16e35e1c76bc3b93', 'https://www.flipkart.com/redmi-a2-sea-green-64-gb/p/itm5d49be2c0a95a?pid=MOBGPVYEHMPGNCBZ&lid=LSTMOBGPVYEHMPGNCBZHUKI4Z&marketplace=FLIPKART&q=redmi+smartphone&store=tyy%2F4io&srno=s_1_18&otracker=search&otracker1=search&fm=organic&iid=a35484ac-03fc-428d-ac61-c7c96712a1ac.MOBGPVYEHMPGNCBZ.SEARCH&ppt=hp&ppn=homepage&ssid=7gn4beomgw0000001694263541535&qH=16e35e1c76bc3b93', 'https://www.flipkart.com/redmi-a2-classic-black-64-gb/p/itm5d49be2c0a95a?pid=MOBGRHB6XAEUADQB&lid=LSTMOBGRHB6XAEUADQBAI4AJ4&marketplace=FLIPKART&q=redmi+smartphone&store=tyy%2F4io&srno=s_1_19&otracker=search&otracker1=search&fm=organic&iid=a35484ac-03fc-428d-ac61-c7c96712a1ac.MOBGRHB6XAEUADQB.SEARCH&ppt=hp&ppn=homepage&ssid=7gn4beomgw0000001694263541535&qH=16e35e1c76bc3b93', 'https://www.flipkart.com/redmi-12-jade-black-128-gb/p/itmb7050ec01c09f?pid=MOBGRMFKTHKQSJEG&lid=LSTMOBGRMFKTHKQSJEGQK3FM2&marketplace=FLIPKART&q=redmi+smartphone&store=tyy%2F4io&srno=s_1_20&otracker=search&otracker1=search&fm=organic&iid=a35484ac-03fc-428d-ac61-c7c96712a1ac.MOBGRMFKTHKQSJEG.SEARCH&ppt=hp&ppn=homepage&ssid=7gn4beomgw0000001694263541535&qH=16e35e1c76bc3b93', 'https://www.flipkart.com/redmi-12-5g-jade-black-128-gb/p/itm0c8ba13f6fc5b?pid=MOBGS7GYGUAJ4UYZ&lid=LSTMOBGS7GYGUAJ4UYZQQUS5Q&marketplace=FLIPKART&q=redmi+smartphone&store=tyy%2F4io&srno=s_1_21&otracker=search&otracker1=search&fm=organic&iid=a35484ac-03fc-428d-ac61-c7c96712a1ac.MOBGS7GYGUAJ4UYZ.SEARCH&ppt=hp&ppn=homepage&ssid=7gn4beomgw0000001694263541535&qH=16e35e1c76bc3b93', 'https://www.flipkart.com/redmi-note-12-ice-blue-64-gb/p/itmee415766dfc1a?pid=MOBGNYHZYZ4CNTCM&lid=LSTMOBGNYHZYZ4CNTCMVONB0S&marketplace=FLIPKART&q=redmi+smartphone&store=tyy%2F4io&srno=s_1_22&otracker=search&otracker1=search&fm=organic&iid=a35484ac-03fc-428d-ac61-c7c96712a1ac.MOBGNYHZYZ4CNTCM.SEARCH&ppt=hp&ppn=homepage&ssid=7gn4beomgw0000001694263541535&qH=16e35e1c76bc3b93', 'https://www.flipkart.com/redmi-note-12-lunar-black-64-gb/p/itm6756d6e7a86be?pid=MOBGNYHZJGGE3ZHM&lid=LSTMOBGNYHZJGGE3ZHMWSTXBO&marketplace=FLIPKART&q=redmi+smartphone&store=tyy%2F4io&srno=s_1_23&otracker=search&otracker1=search&fm=organic&iid=a35484ac-03fc-428d-ac61-c7c96712a1ac.MOBGNYHZJGGE3ZHM.SEARCH&ppt=hp&ppn=homepage&ssid=7gn4beomgw0000001694263541535&qH=16e35e1c76bc3b93', 'https://www.flipkart.com/redmi-note-12-sunrise-gold-64-gb/p/itm5d170187bcbf0?pid=MOBGNYHZ7ZGHES2V&lid=LSTMOBGNYHZ7ZGHES2VQILAET&marketplace=FLIPKART&q=redmi+smartphone&store=tyy%2F4io&srno=s_1_24&otracker=search&otracker1=search&fm=organic&iid=a35484ac-03fc-428d-ac61-c7c96712a1ac.MOBGNYHZ7ZGHES2V.SEARCH&ppt=hp&ppn=homepage&ssid=7gn4beomgw0000001694263541535&qH=16e35e1c76bc3b93']\n",
      "['https://www.flipkart.com/redmi-12-moonstone-silver-128-gb/p/itme52e778c12701?pid=MOBGRMFK2MGRNG4Q&lid=LSTMOBGRMFK2MGRNG4QFZLVXT&marketplace=FLIPKART&q=redmi+smartphone&store=tyy%2F4io&spotlightTagId=BestsellerId_tyy%2F4io&srno=s_1_1&otracker=search&otracker1=search&fm=Search&iid=a35484ac-03fc-428d-ac61-c7c96712a1ac.MOBGRMFK2MGRNG4Q.SEARCH&ppt=sp&ppn=sp&ssid=7gn4beomgw0000001694263541535&qH=16e35e1c76bc3b93', 'https://www.flipkart.com/redmi-11-prime-peppy-purple-128-gb/p/itm52d6b0fe396e9?pid=MOBGZHFGUHYSHQYM&lid=LSTMOBGZHFGUHYSHQYMWGOOJ0&marketplace=FLIPKART&q=redmi+smartphone&store=tyy%2F4io&srno=s_1_2&otracker=search&otracker1=search&fm=organic&iid=a35484ac-03fc-428d-ac61-c7c96712a1ac.MOBGZHFGUHYSHQYM.SEARCH&ppt=hp&ppn=homepage&ssid=7gn4beomgw0000001694263541535&qH=16e35e1c76bc3b93', 'https://www.flipkart.com/redmi-12-jade-black-128-gb/p/itm7b10fd42f78b2?pid=MOBGRMFKKDQ2A3V4&lid=LSTMOBGRMFKKDQ2A3V4XZOVEW&marketplace=FLIPKART&q=redmi+smartphone&store=tyy%2F4io&spotlightTagId=BestsellerId_tyy%2F4io&srno=s_1_3&otracker=search&otracker1=search&fm=organic&iid=a35484ac-03fc-428d-ac61-c7c96712a1ac.MOBGRMFKKDQ2A3V4.SEARCH&ppt=hp&ppn=homepage&ssid=7gn4beomgw0000001694263541535&qH=16e35e1c76bc3b93', 'https://www.flipkart.com/redmi-12-pastel-blue-128-gb/p/itm48719506a7ceb?pid=MOBGRMFKKGYD9ETX&lid=LSTMOBGRMFKKGYD9ETX5KD9VL&marketplace=FLIPKART&q=redmi+smartphone&store=tyy%2F4io&spotlightTagId=BestsellerId_tyy%2F4io&srno=s_1_4&otracker=search&otracker1=search&fm=organic&iid=a35484ac-03fc-428d-ac61-c7c96712a1ac.MOBGRMFKKGYD9ETX.SEARCH&ppt=hp&ppn=homepage&ssid=7gn4beomgw0000001694263541535&qH=16e35e1c76bc3b93', 'https://www.flipkart.com/redmi-a1-black-32-gb/p/itm70b00a77a7d1d?pid=MOBGGYBABVXHHRDQ&lid=LSTMOBGGYBABVXHHRDQI6PZV5&marketplace=FLIPKART&q=redmi+smartphone&store=tyy%2F4io&srno=s_1_5&otracker=search&otracker1=search&fm=organic&iid=a35484ac-03fc-428d-ac61-c7c96712a1ac.MOBGGYBABVXHHRDQ.SEARCH&ppt=hp&ppn=homepage&ssid=7gn4beomgw0000001694263541535&qH=16e35e1c76bc3b93', 'https://www.flipkart.com/redmi-a2-aqua-blue-64-gb/p/itm5d49be2c0a95a?pid=MOBGR4UZWNAYKSUH&lid=LSTMOBGR4UZWNAYKSUHE3CTOU&marketplace=FLIPKART&q=redmi+smartphone&store=tyy%2F4io&srno=s_1_6&otracker=search&otracker1=search&fm=organic&iid=a35484ac-03fc-428d-ac61-c7c96712a1ac.MOBGR4UZWNAYKSUH.SEARCH&ppt=hp&ppn=homepage&ssid=7gn4beomgw0000001694263541535&qH=16e35e1c76bc3b93', 'https://www.flipkart.com/redmi-a2-classic-black-64-gb/p/itm5d49be2c0a95a?pid=MOBGPVYHRXZ3PFZU&lid=LSTMOBGPVYHRXZ3PFZU0QHLLF&marketplace=FLIPKART&q=redmi+smartphone&store=tyy%2F4io&srno=s_1_7&otracker=search&otracker1=search&fm=organic&iid=a35484ac-03fc-428d-ac61-c7c96712a1ac.MOBGPVYHRXZ3PFZU.SEARCH&ppt=hp&ppn=homepage&ssid=7gn4beomgw0000001694263541535&qH=16e35e1c76bc3b93', 'https://www.flipkart.com/redmi-a2-sea-green-32-gb/p/itm5d49be2c0a95a?pid=MOBGPVYATHJDTSSR&lid=LSTMOBGPVYATHJDTSSR6JMF4X&marketplace=FLIPKART&q=redmi+smartphone&store=tyy%2F4io&srno=s_1_8&otracker=search&otracker1=search&fm=organic&iid=a35484ac-03fc-428d-ac61-c7c96712a1ac.MOBGPVYATHJDTSSR.SEARCH&ppt=hp&ppn=homepage&ssid=7gn4beomgw0000001694263541535&qH=16e35e1c76bc3b93', 'https://www.flipkart.com/redmi-a2-aqua-blue-64-gb/p/itm5d49be2c0a95a?pid=MOBGPVYMG9RWX6XY&lid=LSTMOBGPVYMG9RWX6XYCWTZEK&marketplace=FLIPKART&q=redmi+smartphone&store=tyy%2F4io&srno=s_1_9&otracker=search&otracker1=search&fm=organic&iid=a35484ac-03fc-428d-ac61-c7c96712a1ac.MOBGPVYMG9RWX6XY.SEARCH&ppt=hp&ppn=homepage&ssid=7gn4beomgw0000001694263541535&qH=16e35e1c76bc3b93', 'https://www.flipkart.com/redmi-12-pastel-blue-128-gb/p/itm9b1a6640faccd?pid=MOBGRMFKAHNTZPWE&lid=LSTMOBGRMFKAHNTZPWE1H5IWS&marketplace=FLIPKART&q=redmi+smartphone&store=tyy%2F4io&srno=s_1_10&otracker=search&otracker1=search&fm=organic&iid=a35484ac-03fc-428d-ac61-c7c96712a1ac.MOBGRMFKAHNTZPWE.SEARCH&ppt=hp&ppn=homepage&ssid=7gn4beomgw0000001694263541535&qH=16e35e1c76bc3b93', 'https://www.flipkart.com/redmi-a2-aqua-blue-32-gb/p/itm5d49be2c0a95a?pid=MOBGPUZR8GHCE5ZQ&lid=LSTMOBGPUZR8GHCE5ZQ1P4DF9&marketplace=FLIPKART&q=redmi+smartphone&store=tyy%2F4io&srno=s_1_11&otracker=search&otracker1=search&fm=organic&iid=a35484ac-03fc-428d-ac61-c7c96712a1ac.MOBGPUZR8GHCE5ZQ.SEARCH&ppt=hp&ppn=homepage&ssid=7gn4beomgw0000001694263541535&qH=16e35e1c76bc3b93', 'https://www.flipkart.com/redmi-10-power-power-black-128-gb/p/itm97f5d2ec83588?pid=MOBGHDXFYKKZFZGV&lid=LSTMOBGHDXFYKKZFZGVE0QYTC&marketplace=FLIPKART&q=redmi+smartphone&store=tyy%2F4io&srno=s_1_12&otracker=search&otracker1=search&fm=organic&iid=a35484ac-03fc-428d-ac61-c7c96712a1ac.MOBGHDXFYKKZFZGV.SEARCH&ppt=hp&ppn=homepage&ssid=7gn4beomgw0000001694263541535&qH=16e35e1c76bc3b93', 'https://www.flipkart.com/redmi-6a-blue-16-gb/p/itm1ed294a755383?pid=MOBF9Z2Z3YDBSF6V&lid=LSTMOBF9Z2Z3YDBSF6VX16ZOH&marketplace=FLIPKART&q=redmi+smartphone&store=tyy%2F4io&srno=s_1_13&otracker=search&otracker1=search&fm=organic&iid=a35484ac-03fc-428d-ac61-c7c96712a1ac.MOBF9Z2Z3YDBSF6V.SEARCH&ppt=hp&ppn=homepage&ssid=7gn4beomgw0000001694263541535&qH=16e35e1c76bc3b93', 'https://www.flipkart.com/redmi-12-moonstone-silver-128-gb/p/itm6722b15672602?pid=MOBGRMFK4CSR7GGH&lid=LSTMOBGRMFK4CSR7GGHHKEX2Z&marketplace=FLIPKART&q=redmi+smartphone&store=tyy%2F4io&srno=s_1_14&otracker=search&otracker1=search&fm=organic&iid=a35484ac-03fc-428d-ac61-c7c96712a1ac.MOBGRMFK4CSR7GGH.SEARCH&ppt=hp&ppn=homepage&ssid=7gn4beomgw0000001694263541535&qH=16e35e1c76bc3b93', 'https://www.flipkart.com/redmi-a1-light-green-32-gb/p/itmecc9e7ba0a1df?pid=MOBGGYBAHSAJVKHP&lid=LSTMOBGGYBAHSAJVKHP4UBD9A&marketplace=FLIPKART&q=redmi+smartphone&store=tyy%2F4io&srno=s_1_15&otracker=search&otracker1=search&fm=organic&iid=a35484ac-03fc-428d-ac61-c7c96712a1ac.MOBGGYBAHSAJVKHP.SEARCH&ppt=hp&ppn=homepage&ssid=7gn4beomgw0000001694263541535&qH=16e35e1c76bc3b93', 'https://www.flipkart.com/redmi-11-prime-flashy-black-128-gb/p/itm01f508ea28ab0?pid=MOBGZHFGNDNWAZKZ&lid=LSTMOBGZHFGNDNWAZKZUMANTL&marketplace=FLIPKART&q=redmi+smartphone&store=tyy%2F4io&srno=s_1_16&otracker=search&otracker1=search&fm=organic&iid=a35484ac-03fc-428d-ac61-c7c96712a1ac.MOBGZHFGNDNWAZKZ.SEARCH&ppt=hp&ppn=homepage&ssid=7gn4beomgw0000001694263541535&qH=16e35e1c76bc3b93', 'https://www.flipkart.com/redmi-11-prime-playful-green-128-gb/p/itm0b080e6994972?pid=MOBGZHFGZQMESCDK&lid=LSTMOBGZHFGZQMESCDKZ6ILTE&marketplace=FLIPKART&q=redmi+smartphone&store=tyy%2F4io&srno=s_1_17&otracker=search&otracker1=search&fm=organic&iid=a35484ac-03fc-428d-ac61-c7c96712a1ac.MOBGZHFGZQMESCDK.SEARCH&ppt=hp&ppn=homepage&ssid=7gn4beomgw0000001694263541535&qH=16e35e1c76bc3b93', 'https://www.flipkart.com/redmi-a2-sea-green-64-gb/p/itm5d49be2c0a95a?pid=MOBGPVYEHMPGNCBZ&lid=LSTMOBGPVYEHMPGNCBZHUKI4Z&marketplace=FLIPKART&q=redmi+smartphone&store=tyy%2F4io&srno=s_1_18&otracker=search&otracker1=search&fm=organic&iid=a35484ac-03fc-428d-ac61-c7c96712a1ac.MOBGPVYEHMPGNCBZ.SEARCH&ppt=hp&ppn=homepage&ssid=7gn4beomgw0000001694263541535&qH=16e35e1c76bc3b93', 'https://www.flipkart.com/redmi-a2-classic-black-64-gb/p/itm5d49be2c0a95a?pid=MOBGRHB6XAEUADQB&lid=LSTMOBGRHB6XAEUADQBAI4AJ4&marketplace=FLIPKART&q=redmi+smartphone&store=tyy%2F4io&srno=s_1_19&otracker=search&otracker1=search&fm=organic&iid=a35484ac-03fc-428d-ac61-c7c96712a1ac.MOBGRHB6XAEUADQB.SEARCH&ppt=hp&ppn=homepage&ssid=7gn4beomgw0000001694263541535&qH=16e35e1c76bc3b93', 'https://www.flipkart.com/redmi-12-jade-black-128-gb/p/itmb7050ec01c09f?pid=MOBGRMFKTHKQSJEG&lid=LSTMOBGRMFKTHKQSJEGQK3FM2&marketplace=FLIPKART&q=redmi+smartphone&store=tyy%2F4io&srno=s_1_20&otracker=search&otracker1=search&fm=organic&iid=a35484ac-03fc-428d-ac61-c7c96712a1ac.MOBGRMFKTHKQSJEG.SEARCH&ppt=hp&ppn=homepage&ssid=7gn4beomgw0000001694263541535&qH=16e35e1c76bc3b93', 'https://www.flipkart.com/redmi-12-5g-jade-black-128-gb/p/itm0c8ba13f6fc5b?pid=MOBGS7GYGUAJ4UYZ&lid=LSTMOBGS7GYGUAJ4UYZQQUS5Q&marketplace=FLIPKART&q=redmi+smartphone&store=tyy%2F4io&srno=s_1_21&otracker=search&otracker1=search&fm=organic&iid=a35484ac-03fc-428d-ac61-c7c96712a1ac.MOBGS7GYGUAJ4UYZ.SEARCH&ppt=hp&ppn=homepage&ssid=7gn4beomgw0000001694263541535&qH=16e35e1c76bc3b93', 'https://www.flipkart.com/redmi-note-12-ice-blue-64-gb/p/itmee415766dfc1a?pid=MOBGNYHZYZ4CNTCM&lid=LSTMOBGNYHZYZ4CNTCMVONB0S&marketplace=FLIPKART&q=redmi+smartphone&store=tyy%2F4io&srno=s_1_22&otracker=search&otracker1=search&fm=organic&iid=a35484ac-03fc-428d-ac61-c7c96712a1ac.MOBGNYHZYZ4CNTCM.SEARCH&ppt=hp&ppn=homepage&ssid=7gn4beomgw0000001694263541535&qH=16e35e1c76bc3b93', 'https://www.flipkart.com/redmi-note-12-lunar-black-64-gb/p/itm6756d6e7a86be?pid=MOBGNYHZJGGE3ZHM&lid=LSTMOBGNYHZJGGE3ZHMWSTXBO&marketplace=FLIPKART&q=redmi+smartphone&store=tyy%2F4io&srno=s_1_23&otracker=search&otracker1=search&fm=organic&iid=a35484ac-03fc-428d-ac61-c7c96712a1ac.MOBGNYHZJGGE3ZHM.SEARCH&ppt=hp&ppn=homepage&ssid=7gn4beomgw0000001694263541535&qH=16e35e1c76bc3b93', 'https://www.flipkart.com/redmi-note-12-sunrise-gold-64-gb/p/itm5d170187bcbf0?pid=MOBGNYHZ7ZGHES2V&lid=LSTMOBGNYHZ7ZGHES2VQILAET&marketplace=FLIPKART&q=redmi+smartphone&store=tyy%2F4io&srno=s_1_24&otracker=search&otracker1=search&fm=organic&iid=a35484ac-03fc-428d-ac61-c7c96712a1ac.MOBGNYHZ7ZGHES2V.SEARCH&ppt=hp&ppn=homepage&ssid=7gn4beomgw0000001694263541535&qH=16e35e1c76bc3b93']\n"
     ]
    },
    {
     "name": "stdout",
     "output_type": "stream",
     "text": [
      "['https://www.flipkart.com/redmi-12-moonstone-silver-128-gb/p/itme52e778c12701?pid=MOBGRMFK2MGRNG4Q&lid=LSTMOBGRMFK2MGRNG4QFZLVXT&marketplace=FLIPKART&q=redmi+smartphone&store=tyy%2F4io&spotlightTagId=BestsellerId_tyy%2F4io&srno=s_1_1&otracker=search&otracker1=search&fm=Search&iid=a35484ac-03fc-428d-ac61-c7c96712a1ac.MOBGRMFK2MGRNG4Q.SEARCH&ppt=sp&ppn=sp&ssid=7gn4beomgw0000001694263541535&qH=16e35e1c76bc3b93', 'https://www.flipkart.com/redmi-11-prime-peppy-purple-128-gb/p/itm52d6b0fe396e9?pid=MOBGZHFGUHYSHQYM&lid=LSTMOBGZHFGUHYSHQYMWGOOJ0&marketplace=FLIPKART&q=redmi+smartphone&store=tyy%2F4io&srno=s_1_2&otracker=search&otracker1=search&fm=organic&iid=a35484ac-03fc-428d-ac61-c7c96712a1ac.MOBGZHFGUHYSHQYM.SEARCH&ppt=hp&ppn=homepage&ssid=7gn4beomgw0000001694263541535&qH=16e35e1c76bc3b93', 'https://www.flipkart.com/redmi-12-jade-black-128-gb/p/itm7b10fd42f78b2?pid=MOBGRMFKKDQ2A3V4&lid=LSTMOBGRMFKKDQ2A3V4XZOVEW&marketplace=FLIPKART&q=redmi+smartphone&store=tyy%2F4io&spotlightTagId=BestsellerId_tyy%2F4io&srno=s_1_3&otracker=search&otracker1=search&fm=organic&iid=a35484ac-03fc-428d-ac61-c7c96712a1ac.MOBGRMFKKDQ2A3V4.SEARCH&ppt=hp&ppn=homepage&ssid=7gn4beomgw0000001694263541535&qH=16e35e1c76bc3b93', 'https://www.flipkart.com/redmi-12-pastel-blue-128-gb/p/itm48719506a7ceb?pid=MOBGRMFKKGYD9ETX&lid=LSTMOBGRMFKKGYD9ETX5KD9VL&marketplace=FLIPKART&q=redmi+smartphone&store=tyy%2F4io&spotlightTagId=BestsellerId_tyy%2F4io&srno=s_1_4&otracker=search&otracker1=search&fm=organic&iid=a35484ac-03fc-428d-ac61-c7c96712a1ac.MOBGRMFKKGYD9ETX.SEARCH&ppt=hp&ppn=homepage&ssid=7gn4beomgw0000001694263541535&qH=16e35e1c76bc3b93', 'https://www.flipkart.com/redmi-a1-black-32-gb/p/itm70b00a77a7d1d?pid=MOBGGYBABVXHHRDQ&lid=LSTMOBGGYBABVXHHRDQI6PZV5&marketplace=FLIPKART&q=redmi+smartphone&store=tyy%2F4io&srno=s_1_5&otracker=search&otracker1=search&fm=organic&iid=a35484ac-03fc-428d-ac61-c7c96712a1ac.MOBGGYBABVXHHRDQ.SEARCH&ppt=hp&ppn=homepage&ssid=7gn4beomgw0000001694263541535&qH=16e35e1c76bc3b93', 'https://www.flipkart.com/redmi-a2-aqua-blue-64-gb/p/itm5d49be2c0a95a?pid=MOBGR4UZWNAYKSUH&lid=LSTMOBGR4UZWNAYKSUHE3CTOU&marketplace=FLIPKART&q=redmi+smartphone&store=tyy%2F4io&srno=s_1_6&otracker=search&otracker1=search&fm=organic&iid=a35484ac-03fc-428d-ac61-c7c96712a1ac.MOBGR4UZWNAYKSUH.SEARCH&ppt=hp&ppn=homepage&ssid=7gn4beomgw0000001694263541535&qH=16e35e1c76bc3b93', 'https://www.flipkart.com/redmi-a2-classic-black-64-gb/p/itm5d49be2c0a95a?pid=MOBGPVYHRXZ3PFZU&lid=LSTMOBGPVYHRXZ3PFZU0QHLLF&marketplace=FLIPKART&q=redmi+smartphone&store=tyy%2F4io&srno=s_1_7&otracker=search&otracker1=search&fm=organic&iid=a35484ac-03fc-428d-ac61-c7c96712a1ac.MOBGPVYHRXZ3PFZU.SEARCH&ppt=hp&ppn=homepage&ssid=7gn4beomgw0000001694263541535&qH=16e35e1c76bc3b93', 'https://www.flipkart.com/redmi-a2-sea-green-32-gb/p/itm5d49be2c0a95a?pid=MOBGPVYATHJDTSSR&lid=LSTMOBGPVYATHJDTSSR6JMF4X&marketplace=FLIPKART&q=redmi+smartphone&store=tyy%2F4io&srno=s_1_8&otracker=search&otracker1=search&fm=organic&iid=a35484ac-03fc-428d-ac61-c7c96712a1ac.MOBGPVYATHJDTSSR.SEARCH&ppt=hp&ppn=homepage&ssid=7gn4beomgw0000001694263541535&qH=16e35e1c76bc3b93', 'https://www.flipkart.com/redmi-a2-aqua-blue-64-gb/p/itm5d49be2c0a95a?pid=MOBGPVYMG9RWX6XY&lid=LSTMOBGPVYMG9RWX6XYCWTZEK&marketplace=FLIPKART&q=redmi+smartphone&store=tyy%2F4io&srno=s_1_9&otracker=search&otracker1=search&fm=organic&iid=a35484ac-03fc-428d-ac61-c7c96712a1ac.MOBGPVYMG9RWX6XY.SEARCH&ppt=hp&ppn=homepage&ssid=7gn4beomgw0000001694263541535&qH=16e35e1c76bc3b93', 'https://www.flipkart.com/redmi-12-pastel-blue-128-gb/p/itm9b1a6640faccd?pid=MOBGRMFKAHNTZPWE&lid=LSTMOBGRMFKAHNTZPWE1H5IWS&marketplace=FLIPKART&q=redmi+smartphone&store=tyy%2F4io&srno=s_1_10&otracker=search&otracker1=search&fm=organic&iid=a35484ac-03fc-428d-ac61-c7c96712a1ac.MOBGRMFKAHNTZPWE.SEARCH&ppt=hp&ppn=homepage&ssid=7gn4beomgw0000001694263541535&qH=16e35e1c76bc3b93', 'https://www.flipkart.com/redmi-a2-aqua-blue-32-gb/p/itm5d49be2c0a95a?pid=MOBGPUZR8GHCE5ZQ&lid=LSTMOBGPUZR8GHCE5ZQ1P4DF9&marketplace=FLIPKART&q=redmi+smartphone&store=tyy%2F4io&srno=s_1_11&otracker=search&otracker1=search&fm=organic&iid=a35484ac-03fc-428d-ac61-c7c96712a1ac.MOBGPUZR8GHCE5ZQ.SEARCH&ppt=hp&ppn=homepage&ssid=7gn4beomgw0000001694263541535&qH=16e35e1c76bc3b93', 'https://www.flipkart.com/redmi-10-power-power-black-128-gb/p/itm97f5d2ec83588?pid=MOBGHDXFYKKZFZGV&lid=LSTMOBGHDXFYKKZFZGVE0QYTC&marketplace=FLIPKART&q=redmi+smartphone&store=tyy%2F4io&srno=s_1_12&otracker=search&otracker1=search&fm=organic&iid=a35484ac-03fc-428d-ac61-c7c96712a1ac.MOBGHDXFYKKZFZGV.SEARCH&ppt=hp&ppn=homepage&ssid=7gn4beomgw0000001694263541535&qH=16e35e1c76bc3b93', 'https://www.flipkart.com/redmi-6a-blue-16-gb/p/itm1ed294a755383?pid=MOBF9Z2Z3YDBSF6V&lid=LSTMOBF9Z2Z3YDBSF6VX16ZOH&marketplace=FLIPKART&q=redmi+smartphone&store=tyy%2F4io&srno=s_1_13&otracker=search&otracker1=search&fm=organic&iid=a35484ac-03fc-428d-ac61-c7c96712a1ac.MOBF9Z2Z3YDBSF6V.SEARCH&ppt=hp&ppn=homepage&ssid=7gn4beomgw0000001694263541535&qH=16e35e1c76bc3b93', 'https://www.flipkart.com/redmi-12-moonstone-silver-128-gb/p/itm6722b15672602?pid=MOBGRMFK4CSR7GGH&lid=LSTMOBGRMFK4CSR7GGHHKEX2Z&marketplace=FLIPKART&q=redmi+smartphone&store=tyy%2F4io&srno=s_1_14&otracker=search&otracker1=search&fm=organic&iid=a35484ac-03fc-428d-ac61-c7c96712a1ac.MOBGRMFK4CSR7GGH.SEARCH&ppt=hp&ppn=homepage&ssid=7gn4beomgw0000001694263541535&qH=16e35e1c76bc3b93', 'https://www.flipkart.com/redmi-a1-light-green-32-gb/p/itmecc9e7ba0a1df?pid=MOBGGYBAHSAJVKHP&lid=LSTMOBGGYBAHSAJVKHP4UBD9A&marketplace=FLIPKART&q=redmi+smartphone&store=tyy%2F4io&srno=s_1_15&otracker=search&otracker1=search&fm=organic&iid=a35484ac-03fc-428d-ac61-c7c96712a1ac.MOBGGYBAHSAJVKHP.SEARCH&ppt=hp&ppn=homepage&ssid=7gn4beomgw0000001694263541535&qH=16e35e1c76bc3b93', 'https://www.flipkart.com/redmi-11-prime-flashy-black-128-gb/p/itm01f508ea28ab0?pid=MOBGZHFGNDNWAZKZ&lid=LSTMOBGZHFGNDNWAZKZUMANTL&marketplace=FLIPKART&q=redmi+smartphone&store=tyy%2F4io&srno=s_1_16&otracker=search&otracker1=search&fm=organic&iid=a35484ac-03fc-428d-ac61-c7c96712a1ac.MOBGZHFGNDNWAZKZ.SEARCH&ppt=hp&ppn=homepage&ssid=7gn4beomgw0000001694263541535&qH=16e35e1c76bc3b93', 'https://www.flipkart.com/redmi-11-prime-playful-green-128-gb/p/itm0b080e6994972?pid=MOBGZHFGZQMESCDK&lid=LSTMOBGZHFGZQMESCDKZ6ILTE&marketplace=FLIPKART&q=redmi+smartphone&store=tyy%2F4io&srno=s_1_17&otracker=search&otracker1=search&fm=organic&iid=a35484ac-03fc-428d-ac61-c7c96712a1ac.MOBGZHFGZQMESCDK.SEARCH&ppt=hp&ppn=homepage&ssid=7gn4beomgw0000001694263541535&qH=16e35e1c76bc3b93', 'https://www.flipkart.com/redmi-a2-sea-green-64-gb/p/itm5d49be2c0a95a?pid=MOBGPVYEHMPGNCBZ&lid=LSTMOBGPVYEHMPGNCBZHUKI4Z&marketplace=FLIPKART&q=redmi+smartphone&store=tyy%2F4io&srno=s_1_18&otracker=search&otracker1=search&fm=organic&iid=a35484ac-03fc-428d-ac61-c7c96712a1ac.MOBGPVYEHMPGNCBZ.SEARCH&ppt=hp&ppn=homepage&ssid=7gn4beomgw0000001694263541535&qH=16e35e1c76bc3b93', 'https://www.flipkart.com/redmi-a2-classic-black-64-gb/p/itm5d49be2c0a95a?pid=MOBGRHB6XAEUADQB&lid=LSTMOBGRHB6XAEUADQBAI4AJ4&marketplace=FLIPKART&q=redmi+smartphone&store=tyy%2F4io&srno=s_1_19&otracker=search&otracker1=search&fm=organic&iid=a35484ac-03fc-428d-ac61-c7c96712a1ac.MOBGRHB6XAEUADQB.SEARCH&ppt=hp&ppn=homepage&ssid=7gn4beomgw0000001694263541535&qH=16e35e1c76bc3b93', 'https://www.flipkart.com/redmi-12-jade-black-128-gb/p/itmb7050ec01c09f?pid=MOBGRMFKTHKQSJEG&lid=LSTMOBGRMFKTHKQSJEGQK3FM2&marketplace=FLIPKART&q=redmi+smartphone&store=tyy%2F4io&srno=s_1_20&otracker=search&otracker1=search&fm=organic&iid=a35484ac-03fc-428d-ac61-c7c96712a1ac.MOBGRMFKTHKQSJEG.SEARCH&ppt=hp&ppn=homepage&ssid=7gn4beomgw0000001694263541535&qH=16e35e1c76bc3b93', 'https://www.flipkart.com/redmi-12-5g-jade-black-128-gb/p/itm0c8ba13f6fc5b?pid=MOBGS7GYGUAJ4UYZ&lid=LSTMOBGS7GYGUAJ4UYZQQUS5Q&marketplace=FLIPKART&q=redmi+smartphone&store=tyy%2F4io&srno=s_1_21&otracker=search&otracker1=search&fm=organic&iid=a35484ac-03fc-428d-ac61-c7c96712a1ac.MOBGS7GYGUAJ4UYZ.SEARCH&ppt=hp&ppn=homepage&ssid=7gn4beomgw0000001694263541535&qH=16e35e1c76bc3b93', 'https://www.flipkart.com/redmi-note-12-ice-blue-64-gb/p/itmee415766dfc1a?pid=MOBGNYHZYZ4CNTCM&lid=LSTMOBGNYHZYZ4CNTCMVONB0S&marketplace=FLIPKART&q=redmi+smartphone&store=tyy%2F4io&srno=s_1_22&otracker=search&otracker1=search&fm=organic&iid=a35484ac-03fc-428d-ac61-c7c96712a1ac.MOBGNYHZYZ4CNTCM.SEARCH&ppt=hp&ppn=homepage&ssid=7gn4beomgw0000001694263541535&qH=16e35e1c76bc3b93', 'https://www.flipkart.com/redmi-note-12-lunar-black-64-gb/p/itm6756d6e7a86be?pid=MOBGNYHZJGGE3ZHM&lid=LSTMOBGNYHZJGGE3ZHMWSTXBO&marketplace=FLIPKART&q=redmi+smartphone&store=tyy%2F4io&srno=s_1_23&otracker=search&otracker1=search&fm=organic&iid=a35484ac-03fc-428d-ac61-c7c96712a1ac.MOBGNYHZJGGE3ZHM.SEARCH&ppt=hp&ppn=homepage&ssid=7gn4beomgw0000001694263541535&qH=16e35e1c76bc3b93', 'https://www.flipkart.com/redmi-note-12-sunrise-gold-64-gb/p/itm5d170187bcbf0?pid=MOBGNYHZ7ZGHES2V&lid=LSTMOBGNYHZ7ZGHES2VQILAET&marketplace=FLIPKART&q=redmi+smartphone&store=tyy%2F4io&srno=s_1_24&otracker=search&otracker1=search&fm=organic&iid=a35484ac-03fc-428d-ac61-c7c96712a1ac.MOBGNYHZ7ZGHES2V.SEARCH&ppt=hp&ppn=homepage&ssid=7gn4beomgw0000001694263541535&qH=16e35e1c76bc3b93']\n",
      "['https://www.flipkart.com/redmi-12-moonstone-silver-128-gb/p/itme52e778c12701?pid=MOBGRMFK2MGRNG4Q&lid=LSTMOBGRMFK2MGRNG4QFZLVXT&marketplace=FLIPKART&q=redmi+smartphone&store=tyy%2F4io&spotlightTagId=BestsellerId_tyy%2F4io&srno=s_1_1&otracker=search&otracker1=search&fm=Search&iid=a35484ac-03fc-428d-ac61-c7c96712a1ac.MOBGRMFK2MGRNG4Q.SEARCH&ppt=sp&ppn=sp&ssid=7gn4beomgw0000001694263541535&qH=16e35e1c76bc3b93', 'https://www.flipkart.com/redmi-11-prime-peppy-purple-128-gb/p/itm52d6b0fe396e9?pid=MOBGZHFGUHYSHQYM&lid=LSTMOBGZHFGUHYSHQYMWGOOJ0&marketplace=FLIPKART&q=redmi+smartphone&store=tyy%2F4io&srno=s_1_2&otracker=search&otracker1=search&fm=organic&iid=a35484ac-03fc-428d-ac61-c7c96712a1ac.MOBGZHFGUHYSHQYM.SEARCH&ppt=hp&ppn=homepage&ssid=7gn4beomgw0000001694263541535&qH=16e35e1c76bc3b93', 'https://www.flipkart.com/redmi-12-jade-black-128-gb/p/itm7b10fd42f78b2?pid=MOBGRMFKKDQ2A3V4&lid=LSTMOBGRMFKKDQ2A3V4XZOVEW&marketplace=FLIPKART&q=redmi+smartphone&store=tyy%2F4io&spotlightTagId=BestsellerId_tyy%2F4io&srno=s_1_3&otracker=search&otracker1=search&fm=organic&iid=a35484ac-03fc-428d-ac61-c7c96712a1ac.MOBGRMFKKDQ2A3V4.SEARCH&ppt=hp&ppn=homepage&ssid=7gn4beomgw0000001694263541535&qH=16e35e1c76bc3b93', 'https://www.flipkart.com/redmi-12-pastel-blue-128-gb/p/itm48719506a7ceb?pid=MOBGRMFKKGYD9ETX&lid=LSTMOBGRMFKKGYD9ETX5KD9VL&marketplace=FLIPKART&q=redmi+smartphone&store=tyy%2F4io&spotlightTagId=BestsellerId_tyy%2F4io&srno=s_1_4&otracker=search&otracker1=search&fm=organic&iid=a35484ac-03fc-428d-ac61-c7c96712a1ac.MOBGRMFKKGYD9ETX.SEARCH&ppt=hp&ppn=homepage&ssid=7gn4beomgw0000001694263541535&qH=16e35e1c76bc3b93', 'https://www.flipkart.com/redmi-a1-black-32-gb/p/itm70b00a77a7d1d?pid=MOBGGYBABVXHHRDQ&lid=LSTMOBGGYBABVXHHRDQI6PZV5&marketplace=FLIPKART&q=redmi+smartphone&store=tyy%2F4io&srno=s_1_5&otracker=search&otracker1=search&fm=organic&iid=a35484ac-03fc-428d-ac61-c7c96712a1ac.MOBGGYBABVXHHRDQ.SEARCH&ppt=hp&ppn=homepage&ssid=7gn4beomgw0000001694263541535&qH=16e35e1c76bc3b93', 'https://www.flipkart.com/redmi-a2-aqua-blue-64-gb/p/itm5d49be2c0a95a?pid=MOBGR4UZWNAYKSUH&lid=LSTMOBGR4UZWNAYKSUHE3CTOU&marketplace=FLIPKART&q=redmi+smartphone&store=tyy%2F4io&srno=s_1_6&otracker=search&otracker1=search&fm=organic&iid=a35484ac-03fc-428d-ac61-c7c96712a1ac.MOBGR4UZWNAYKSUH.SEARCH&ppt=hp&ppn=homepage&ssid=7gn4beomgw0000001694263541535&qH=16e35e1c76bc3b93', 'https://www.flipkart.com/redmi-a2-classic-black-64-gb/p/itm5d49be2c0a95a?pid=MOBGPVYHRXZ3PFZU&lid=LSTMOBGPVYHRXZ3PFZU0QHLLF&marketplace=FLIPKART&q=redmi+smartphone&store=tyy%2F4io&srno=s_1_7&otracker=search&otracker1=search&fm=organic&iid=a35484ac-03fc-428d-ac61-c7c96712a1ac.MOBGPVYHRXZ3PFZU.SEARCH&ppt=hp&ppn=homepage&ssid=7gn4beomgw0000001694263541535&qH=16e35e1c76bc3b93', 'https://www.flipkart.com/redmi-a2-sea-green-32-gb/p/itm5d49be2c0a95a?pid=MOBGPVYATHJDTSSR&lid=LSTMOBGPVYATHJDTSSR6JMF4X&marketplace=FLIPKART&q=redmi+smartphone&store=tyy%2F4io&srno=s_1_8&otracker=search&otracker1=search&fm=organic&iid=a35484ac-03fc-428d-ac61-c7c96712a1ac.MOBGPVYATHJDTSSR.SEARCH&ppt=hp&ppn=homepage&ssid=7gn4beomgw0000001694263541535&qH=16e35e1c76bc3b93', 'https://www.flipkart.com/redmi-a2-aqua-blue-64-gb/p/itm5d49be2c0a95a?pid=MOBGPVYMG9RWX6XY&lid=LSTMOBGPVYMG9RWX6XYCWTZEK&marketplace=FLIPKART&q=redmi+smartphone&store=tyy%2F4io&srno=s_1_9&otracker=search&otracker1=search&fm=organic&iid=a35484ac-03fc-428d-ac61-c7c96712a1ac.MOBGPVYMG9RWX6XY.SEARCH&ppt=hp&ppn=homepage&ssid=7gn4beomgw0000001694263541535&qH=16e35e1c76bc3b93', 'https://www.flipkart.com/redmi-12-pastel-blue-128-gb/p/itm9b1a6640faccd?pid=MOBGRMFKAHNTZPWE&lid=LSTMOBGRMFKAHNTZPWE1H5IWS&marketplace=FLIPKART&q=redmi+smartphone&store=tyy%2F4io&srno=s_1_10&otracker=search&otracker1=search&fm=organic&iid=a35484ac-03fc-428d-ac61-c7c96712a1ac.MOBGRMFKAHNTZPWE.SEARCH&ppt=hp&ppn=homepage&ssid=7gn4beomgw0000001694263541535&qH=16e35e1c76bc3b93', 'https://www.flipkart.com/redmi-a2-aqua-blue-32-gb/p/itm5d49be2c0a95a?pid=MOBGPUZR8GHCE5ZQ&lid=LSTMOBGPUZR8GHCE5ZQ1P4DF9&marketplace=FLIPKART&q=redmi+smartphone&store=tyy%2F4io&srno=s_1_11&otracker=search&otracker1=search&fm=organic&iid=a35484ac-03fc-428d-ac61-c7c96712a1ac.MOBGPUZR8GHCE5ZQ.SEARCH&ppt=hp&ppn=homepage&ssid=7gn4beomgw0000001694263541535&qH=16e35e1c76bc3b93', 'https://www.flipkart.com/redmi-10-power-power-black-128-gb/p/itm97f5d2ec83588?pid=MOBGHDXFYKKZFZGV&lid=LSTMOBGHDXFYKKZFZGVE0QYTC&marketplace=FLIPKART&q=redmi+smartphone&store=tyy%2F4io&srno=s_1_12&otracker=search&otracker1=search&fm=organic&iid=a35484ac-03fc-428d-ac61-c7c96712a1ac.MOBGHDXFYKKZFZGV.SEARCH&ppt=hp&ppn=homepage&ssid=7gn4beomgw0000001694263541535&qH=16e35e1c76bc3b93', 'https://www.flipkart.com/redmi-6a-blue-16-gb/p/itm1ed294a755383?pid=MOBF9Z2Z3YDBSF6V&lid=LSTMOBF9Z2Z3YDBSF6VX16ZOH&marketplace=FLIPKART&q=redmi+smartphone&store=tyy%2F4io&srno=s_1_13&otracker=search&otracker1=search&fm=organic&iid=a35484ac-03fc-428d-ac61-c7c96712a1ac.MOBF9Z2Z3YDBSF6V.SEARCH&ppt=hp&ppn=homepage&ssid=7gn4beomgw0000001694263541535&qH=16e35e1c76bc3b93', 'https://www.flipkart.com/redmi-12-moonstone-silver-128-gb/p/itm6722b15672602?pid=MOBGRMFK4CSR7GGH&lid=LSTMOBGRMFK4CSR7GGHHKEX2Z&marketplace=FLIPKART&q=redmi+smartphone&store=tyy%2F4io&srno=s_1_14&otracker=search&otracker1=search&fm=organic&iid=a35484ac-03fc-428d-ac61-c7c96712a1ac.MOBGRMFK4CSR7GGH.SEARCH&ppt=hp&ppn=homepage&ssid=7gn4beomgw0000001694263541535&qH=16e35e1c76bc3b93', 'https://www.flipkart.com/redmi-a1-light-green-32-gb/p/itmecc9e7ba0a1df?pid=MOBGGYBAHSAJVKHP&lid=LSTMOBGGYBAHSAJVKHP4UBD9A&marketplace=FLIPKART&q=redmi+smartphone&store=tyy%2F4io&srno=s_1_15&otracker=search&otracker1=search&fm=organic&iid=a35484ac-03fc-428d-ac61-c7c96712a1ac.MOBGGYBAHSAJVKHP.SEARCH&ppt=hp&ppn=homepage&ssid=7gn4beomgw0000001694263541535&qH=16e35e1c76bc3b93', 'https://www.flipkart.com/redmi-11-prime-flashy-black-128-gb/p/itm01f508ea28ab0?pid=MOBGZHFGNDNWAZKZ&lid=LSTMOBGZHFGNDNWAZKZUMANTL&marketplace=FLIPKART&q=redmi+smartphone&store=tyy%2F4io&srno=s_1_16&otracker=search&otracker1=search&fm=organic&iid=a35484ac-03fc-428d-ac61-c7c96712a1ac.MOBGZHFGNDNWAZKZ.SEARCH&ppt=hp&ppn=homepage&ssid=7gn4beomgw0000001694263541535&qH=16e35e1c76bc3b93', 'https://www.flipkart.com/redmi-11-prime-playful-green-128-gb/p/itm0b080e6994972?pid=MOBGZHFGZQMESCDK&lid=LSTMOBGZHFGZQMESCDKZ6ILTE&marketplace=FLIPKART&q=redmi+smartphone&store=tyy%2F4io&srno=s_1_17&otracker=search&otracker1=search&fm=organic&iid=a35484ac-03fc-428d-ac61-c7c96712a1ac.MOBGZHFGZQMESCDK.SEARCH&ppt=hp&ppn=homepage&ssid=7gn4beomgw0000001694263541535&qH=16e35e1c76bc3b93', 'https://www.flipkart.com/redmi-a2-sea-green-64-gb/p/itm5d49be2c0a95a?pid=MOBGPVYEHMPGNCBZ&lid=LSTMOBGPVYEHMPGNCBZHUKI4Z&marketplace=FLIPKART&q=redmi+smartphone&store=tyy%2F4io&srno=s_1_18&otracker=search&otracker1=search&fm=organic&iid=a35484ac-03fc-428d-ac61-c7c96712a1ac.MOBGPVYEHMPGNCBZ.SEARCH&ppt=hp&ppn=homepage&ssid=7gn4beomgw0000001694263541535&qH=16e35e1c76bc3b93', 'https://www.flipkart.com/redmi-a2-classic-black-64-gb/p/itm5d49be2c0a95a?pid=MOBGRHB6XAEUADQB&lid=LSTMOBGRHB6XAEUADQBAI4AJ4&marketplace=FLIPKART&q=redmi+smartphone&store=tyy%2F4io&srno=s_1_19&otracker=search&otracker1=search&fm=organic&iid=a35484ac-03fc-428d-ac61-c7c96712a1ac.MOBGRHB6XAEUADQB.SEARCH&ppt=hp&ppn=homepage&ssid=7gn4beomgw0000001694263541535&qH=16e35e1c76bc3b93', 'https://www.flipkart.com/redmi-12-jade-black-128-gb/p/itmb7050ec01c09f?pid=MOBGRMFKTHKQSJEG&lid=LSTMOBGRMFKTHKQSJEGQK3FM2&marketplace=FLIPKART&q=redmi+smartphone&store=tyy%2F4io&srno=s_1_20&otracker=search&otracker1=search&fm=organic&iid=a35484ac-03fc-428d-ac61-c7c96712a1ac.MOBGRMFKTHKQSJEG.SEARCH&ppt=hp&ppn=homepage&ssid=7gn4beomgw0000001694263541535&qH=16e35e1c76bc3b93', 'https://www.flipkart.com/redmi-12-5g-jade-black-128-gb/p/itm0c8ba13f6fc5b?pid=MOBGS7GYGUAJ4UYZ&lid=LSTMOBGS7GYGUAJ4UYZQQUS5Q&marketplace=FLIPKART&q=redmi+smartphone&store=tyy%2F4io&srno=s_1_21&otracker=search&otracker1=search&fm=organic&iid=a35484ac-03fc-428d-ac61-c7c96712a1ac.MOBGS7GYGUAJ4UYZ.SEARCH&ppt=hp&ppn=homepage&ssid=7gn4beomgw0000001694263541535&qH=16e35e1c76bc3b93', 'https://www.flipkart.com/redmi-note-12-ice-blue-64-gb/p/itmee415766dfc1a?pid=MOBGNYHZYZ4CNTCM&lid=LSTMOBGNYHZYZ4CNTCMVONB0S&marketplace=FLIPKART&q=redmi+smartphone&store=tyy%2F4io&srno=s_1_22&otracker=search&otracker1=search&fm=organic&iid=a35484ac-03fc-428d-ac61-c7c96712a1ac.MOBGNYHZYZ4CNTCM.SEARCH&ppt=hp&ppn=homepage&ssid=7gn4beomgw0000001694263541535&qH=16e35e1c76bc3b93', 'https://www.flipkart.com/redmi-note-12-lunar-black-64-gb/p/itm6756d6e7a86be?pid=MOBGNYHZJGGE3ZHM&lid=LSTMOBGNYHZJGGE3ZHMWSTXBO&marketplace=FLIPKART&q=redmi+smartphone&store=tyy%2F4io&srno=s_1_23&otracker=search&otracker1=search&fm=organic&iid=a35484ac-03fc-428d-ac61-c7c96712a1ac.MOBGNYHZJGGE3ZHM.SEARCH&ppt=hp&ppn=homepage&ssid=7gn4beomgw0000001694263541535&qH=16e35e1c76bc3b93', 'https://www.flipkart.com/redmi-note-12-sunrise-gold-64-gb/p/itm5d170187bcbf0?pid=MOBGNYHZ7ZGHES2V&lid=LSTMOBGNYHZ7ZGHES2VQILAET&marketplace=FLIPKART&q=redmi+smartphone&store=tyy%2F4io&srno=s_1_24&otracker=search&otracker1=search&fm=organic&iid=a35484ac-03fc-428d-ac61-c7c96712a1ac.MOBGNYHZ7ZGHES2V.SEARCH&ppt=hp&ppn=homepage&ssid=7gn4beomgw0000001694263541535&qH=16e35e1c76bc3b93']\n"
     ]
    },
    {
     "name": "stdout",
     "output_type": "stream",
     "text": [
      "['https://www.flipkart.com/redmi-12-moonstone-silver-128-gb/p/itme52e778c12701?pid=MOBGRMFK2MGRNG4Q&lid=LSTMOBGRMFK2MGRNG4QFZLVXT&marketplace=FLIPKART&q=redmi+smartphone&store=tyy%2F4io&spotlightTagId=BestsellerId_tyy%2F4io&srno=s_1_1&otracker=search&otracker1=search&fm=Search&iid=a35484ac-03fc-428d-ac61-c7c96712a1ac.MOBGRMFK2MGRNG4Q.SEARCH&ppt=sp&ppn=sp&ssid=7gn4beomgw0000001694263541535&qH=16e35e1c76bc3b93', 'https://www.flipkart.com/redmi-11-prime-peppy-purple-128-gb/p/itm52d6b0fe396e9?pid=MOBGZHFGUHYSHQYM&lid=LSTMOBGZHFGUHYSHQYMWGOOJ0&marketplace=FLIPKART&q=redmi+smartphone&store=tyy%2F4io&srno=s_1_2&otracker=search&otracker1=search&fm=organic&iid=a35484ac-03fc-428d-ac61-c7c96712a1ac.MOBGZHFGUHYSHQYM.SEARCH&ppt=hp&ppn=homepage&ssid=7gn4beomgw0000001694263541535&qH=16e35e1c76bc3b93', 'https://www.flipkart.com/redmi-12-jade-black-128-gb/p/itm7b10fd42f78b2?pid=MOBGRMFKKDQ2A3V4&lid=LSTMOBGRMFKKDQ2A3V4XZOVEW&marketplace=FLIPKART&q=redmi+smartphone&store=tyy%2F4io&spotlightTagId=BestsellerId_tyy%2F4io&srno=s_1_3&otracker=search&otracker1=search&fm=organic&iid=a35484ac-03fc-428d-ac61-c7c96712a1ac.MOBGRMFKKDQ2A3V4.SEARCH&ppt=hp&ppn=homepage&ssid=7gn4beomgw0000001694263541535&qH=16e35e1c76bc3b93', 'https://www.flipkart.com/redmi-12-pastel-blue-128-gb/p/itm48719506a7ceb?pid=MOBGRMFKKGYD9ETX&lid=LSTMOBGRMFKKGYD9ETX5KD9VL&marketplace=FLIPKART&q=redmi+smartphone&store=tyy%2F4io&spotlightTagId=BestsellerId_tyy%2F4io&srno=s_1_4&otracker=search&otracker1=search&fm=organic&iid=a35484ac-03fc-428d-ac61-c7c96712a1ac.MOBGRMFKKGYD9ETX.SEARCH&ppt=hp&ppn=homepage&ssid=7gn4beomgw0000001694263541535&qH=16e35e1c76bc3b93', 'https://www.flipkart.com/redmi-a1-black-32-gb/p/itm70b00a77a7d1d?pid=MOBGGYBABVXHHRDQ&lid=LSTMOBGGYBABVXHHRDQI6PZV5&marketplace=FLIPKART&q=redmi+smartphone&store=tyy%2F4io&srno=s_1_5&otracker=search&otracker1=search&fm=organic&iid=a35484ac-03fc-428d-ac61-c7c96712a1ac.MOBGGYBABVXHHRDQ.SEARCH&ppt=hp&ppn=homepage&ssid=7gn4beomgw0000001694263541535&qH=16e35e1c76bc3b93', 'https://www.flipkart.com/redmi-a2-aqua-blue-64-gb/p/itm5d49be2c0a95a?pid=MOBGR4UZWNAYKSUH&lid=LSTMOBGR4UZWNAYKSUHE3CTOU&marketplace=FLIPKART&q=redmi+smartphone&store=tyy%2F4io&srno=s_1_6&otracker=search&otracker1=search&fm=organic&iid=a35484ac-03fc-428d-ac61-c7c96712a1ac.MOBGR4UZWNAYKSUH.SEARCH&ppt=hp&ppn=homepage&ssid=7gn4beomgw0000001694263541535&qH=16e35e1c76bc3b93', 'https://www.flipkart.com/redmi-a2-classic-black-64-gb/p/itm5d49be2c0a95a?pid=MOBGPVYHRXZ3PFZU&lid=LSTMOBGPVYHRXZ3PFZU0QHLLF&marketplace=FLIPKART&q=redmi+smartphone&store=tyy%2F4io&srno=s_1_7&otracker=search&otracker1=search&fm=organic&iid=a35484ac-03fc-428d-ac61-c7c96712a1ac.MOBGPVYHRXZ3PFZU.SEARCH&ppt=hp&ppn=homepage&ssid=7gn4beomgw0000001694263541535&qH=16e35e1c76bc3b93', 'https://www.flipkart.com/redmi-a2-sea-green-32-gb/p/itm5d49be2c0a95a?pid=MOBGPVYATHJDTSSR&lid=LSTMOBGPVYATHJDTSSR6JMF4X&marketplace=FLIPKART&q=redmi+smartphone&store=tyy%2F4io&srno=s_1_8&otracker=search&otracker1=search&fm=organic&iid=a35484ac-03fc-428d-ac61-c7c96712a1ac.MOBGPVYATHJDTSSR.SEARCH&ppt=hp&ppn=homepage&ssid=7gn4beomgw0000001694263541535&qH=16e35e1c76bc3b93', 'https://www.flipkart.com/redmi-a2-aqua-blue-64-gb/p/itm5d49be2c0a95a?pid=MOBGPVYMG9RWX6XY&lid=LSTMOBGPVYMG9RWX6XYCWTZEK&marketplace=FLIPKART&q=redmi+smartphone&store=tyy%2F4io&srno=s_1_9&otracker=search&otracker1=search&fm=organic&iid=a35484ac-03fc-428d-ac61-c7c96712a1ac.MOBGPVYMG9RWX6XY.SEARCH&ppt=hp&ppn=homepage&ssid=7gn4beomgw0000001694263541535&qH=16e35e1c76bc3b93', 'https://www.flipkart.com/redmi-12-pastel-blue-128-gb/p/itm9b1a6640faccd?pid=MOBGRMFKAHNTZPWE&lid=LSTMOBGRMFKAHNTZPWE1H5IWS&marketplace=FLIPKART&q=redmi+smartphone&store=tyy%2F4io&srno=s_1_10&otracker=search&otracker1=search&fm=organic&iid=a35484ac-03fc-428d-ac61-c7c96712a1ac.MOBGRMFKAHNTZPWE.SEARCH&ppt=hp&ppn=homepage&ssid=7gn4beomgw0000001694263541535&qH=16e35e1c76bc3b93', 'https://www.flipkart.com/redmi-a2-aqua-blue-32-gb/p/itm5d49be2c0a95a?pid=MOBGPUZR8GHCE5ZQ&lid=LSTMOBGPUZR8GHCE5ZQ1P4DF9&marketplace=FLIPKART&q=redmi+smartphone&store=tyy%2F4io&srno=s_1_11&otracker=search&otracker1=search&fm=organic&iid=a35484ac-03fc-428d-ac61-c7c96712a1ac.MOBGPUZR8GHCE5ZQ.SEARCH&ppt=hp&ppn=homepage&ssid=7gn4beomgw0000001694263541535&qH=16e35e1c76bc3b93', 'https://www.flipkart.com/redmi-10-power-power-black-128-gb/p/itm97f5d2ec83588?pid=MOBGHDXFYKKZFZGV&lid=LSTMOBGHDXFYKKZFZGVE0QYTC&marketplace=FLIPKART&q=redmi+smartphone&store=tyy%2F4io&srno=s_1_12&otracker=search&otracker1=search&fm=organic&iid=a35484ac-03fc-428d-ac61-c7c96712a1ac.MOBGHDXFYKKZFZGV.SEARCH&ppt=hp&ppn=homepage&ssid=7gn4beomgw0000001694263541535&qH=16e35e1c76bc3b93', 'https://www.flipkart.com/redmi-6a-blue-16-gb/p/itm1ed294a755383?pid=MOBF9Z2Z3YDBSF6V&lid=LSTMOBF9Z2Z3YDBSF6VX16ZOH&marketplace=FLIPKART&q=redmi+smartphone&store=tyy%2F4io&srno=s_1_13&otracker=search&otracker1=search&fm=organic&iid=a35484ac-03fc-428d-ac61-c7c96712a1ac.MOBF9Z2Z3YDBSF6V.SEARCH&ppt=hp&ppn=homepage&ssid=7gn4beomgw0000001694263541535&qH=16e35e1c76bc3b93', 'https://www.flipkart.com/redmi-12-moonstone-silver-128-gb/p/itm6722b15672602?pid=MOBGRMFK4CSR7GGH&lid=LSTMOBGRMFK4CSR7GGHHKEX2Z&marketplace=FLIPKART&q=redmi+smartphone&store=tyy%2F4io&srno=s_1_14&otracker=search&otracker1=search&fm=organic&iid=a35484ac-03fc-428d-ac61-c7c96712a1ac.MOBGRMFK4CSR7GGH.SEARCH&ppt=hp&ppn=homepage&ssid=7gn4beomgw0000001694263541535&qH=16e35e1c76bc3b93', 'https://www.flipkart.com/redmi-a1-light-green-32-gb/p/itmecc9e7ba0a1df?pid=MOBGGYBAHSAJVKHP&lid=LSTMOBGGYBAHSAJVKHP4UBD9A&marketplace=FLIPKART&q=redmi+smartphone&store=tyy%2F4io&srno=s_1_15&otracker=search&otracker1=search&fm=organic&iid=a35484ac-03fc-428d-ac61-c7c96712a1ac.MOBGGYBAHSAJVKHP.SEARCH&ppt=hp&ppn=homepage&ssid=7gn4beomgw0000001694263541535&qH=16e35e1c76bc3b93', 'https://www.flipkart.com/redmi-11-prime-flashy-black-128-gb/p/itm01f508ea28ab0?pid=MOBGZHFGNDNWAZKZ&lid=LSTMOBGZHFGNDNWAZKZUMANTL&marketplace=FLIPKART&q=redmi+smartphone&store=tyy%2F4io&srno=s_1_16&otracker=search&otracker1=search&fm=organic&iid=a35484ac-03fc-428d-ac61-c7c96712a1ac.MOBGZHFGNDNWAZKZ.SEARCH&ppt=hp&ppn=homepage&ssid=7gn4beomgw0000001694263541535&qH=16e35e1c76bc3b93', 'https://www.flipkart.com/redmi-11-prime-playful-green-128-gb/p/itm0b080e6994972?pid=MOBGZHFGZQMESCDK&lid=LSTMOBGZHFGZQMESCDKZ6ILTE&marketplace=FLIPKART&q=redmi+smartphone&store=tyy%2F4io&srno=s_1_17&otracker=search&otracker1=search&fm=organic&iid=a35484ac-03fc-428d-ac61-c7c96712a1ac.MOBGZHFGZQMESCDK.SEARCH&ppt=hp&ppn=homepage&ssid=7gn4beomgw0000001694263541535&qH=16e35e1c76bc3b93', 'https://www.flipkart.com/redmi-a2-sea-green-64-gb/p/itm5d49be2c0a95a?pid=MOBGPVYEHMPGNCBZ&lid=LSTMOBGPVYEHMPGNCBZHUKI4Z&marketplace=FLIPKART&q=redmi+smartphone&store=tyy%2F4io&srno=s_1_18&otracker=search&otracker1=search&fm=organic&iid=a35484ac-03fc-428d-ac61-c7c96712a1ac.MOBGPVYEHMPGNCBZ.SEARCH&ppt=hp&ppn=homepage&ssid=7gn4beomgw0000001694263541535&qH=16e35e1c76bc3b93', 'https://www.flipkart.com/redmi-a2-classic-black-64-gb/p/itm5d49be2c0a95a?pid=MOBGRHB6XAEUADQB&lid=LSTMOBGRHB6XAEUADQBAI4AJ4&marketplace=FLIPKART&q=redmi+smartphone&store=tyy%2F4io&srno=s_1_19&otracker=search&otracker1=search&fm=organic&iid=a35484ac-03fc-428d-ac61-c7c96712a1ac.MOBGRHB6XAEUADQB.SEARCH&ppt=hp&ppn=homepage&ssid=7gn4beomgw0000001694263541535&qH=16e35e1c76bc3b93', 'https://www.flipkart.com/redmi-12-jade-black-128-gb/p/itmb7050ec01c09f?pid=MOBGRMFKTHKQSJEG&lid=LSTMOBGRMFKTHKQSJEGQK3FM2&marketplace=FLIPKART&q=redmi+smartphone&store=tyy%2F4io&srno=s_1_20&otracker=search&otracker1=search&fm=organic&iid=a35484ac-03fc-428d-ac61-c7c96712a1ac.MOBGRMFKTHKQSJEG.SEARCH&ppt=hp&ppn=homepage&ssid=7gn4beomgw0000001694263541535&qH=16e35e1c76bc3b93', 'https://www.flipkart.com/redmi-12-5g-jade-black-128-gb/p/itm0c8ba13f6fc5b?pid=MOBGS7GYGUAJ4UYZ&lid=LSTMOBGS7GYGUAJ4UYZQQUS5Q&marketplace=FLIPKART&q=redmi+smartphone&store=tyy%2F4io&srno=s_1_21&otracker=search&otracker1=search&fm=organic&iid=a35484ac-03fc-428d-ac61-c7c96712a1ac.MOBGS7GYGUAJ4UYZ.SEARCH&ppt=hp&ppn=homepage&ssid=7gn4beomgw0000001694263541535&qH=16e35e1c76bc3b93', 'https://www.flipkart.com/redmi-note-12-ice-blue-64-gb/p/itmee415766dfc1a?pid=MOBGNYHZYZ4CNTCM&lid=LSTMOBGNYHZYZ4CNTCMVONB0S&marketplace=FLIPKART&q=redmi+smartphone&store=tyy%2F4io&srno=s_1_22&otracker=search&otracker1=search&fm=organic&iid=a35484ac-03fc-428d-ac61-c7c96712a1ac.MOBGNYHZYZ4CNTCM.SEARCH&ppt=hp&ppn=homepage&ssid=7gn4beomgw0000001694263541535&qH=16e35e1c76bc3b93', 'https://www.flipkart.com/redmi-note-12-lunar-black-64-gb/p/itm6756d6e7a86be?pid=MOBGNYHZJGGE3ZHM&lid=LSTMOBGNYHZJGGE3ZHMWSTXBO&marketplace=FLIPKART&q=redmi+smartphone&store=tyy%2F4io&srno=s_1_23&otracker=search&otracker1=search&fm=organic&iid=a35484ac-03fc-428d-ac61-c7c96712a1ac.MOBGNYHZJGGE3ZHM.SEARCH&ppt=hp&ppn=homepage&ssid=7gn4beomgw0000001694263541535&qH=16e35e1c76bc3b93', 'https://www.flipkart.com/redmi-note-12-sunrise-gold-64-gb/p/itm5d170187bcbf0?pid=MOBGNYHZ7ZGHES2V&lid=LSTMOBGNYHZ7ZGHES2VQILAET&marketplace=FLIPKART&q=redmi+smartphone&store=tyy%2F4io&srno=s_1_24&otracker=search&otracker1=search&fm=organic&iid=a35484ac-03fc-428d-ac61-c7c96712a1ac.MOBGNYHZ7ZGHES2V.SEARCH&ppt=hp&ppn=homepage&ssid=7gn4beomgw0000001694263541535&qH=16e35e1c76bc3b93']\n",
      "['https://www.flipkart.com/redmi-12-moonstone-silver-128-gb/p/itme52e778c12701?pid=MOBGRMFK2MGRNG4Q&lid=LSTMOBGRMFK2MGRNG4QFZLVXT&marketplace=FLIPKART&q=redmi+smartphone&store=tyy%2F4io&spotlightTagId=BestsellerId_tyy%2F4io&srno=s_1_1&otracker=search&otracker1=search&fm=Search&iid=a35484ac-03fc-428d-ac61-c7c96712a1ac.MOBGRMFK2MGRNG4Q.SEARCH&ppt=sp&ppn=sp&ssid=7gn4beomgw0000001694263541535&qH=16e35e1c76bc3b93', 'https://www.flipkart.com/redmi-11-prime-peppy-purple-128-gb/p/itm52d6b0fe396e9?pid=MOBGZHFGUHYSHQYM&lid=LSTMOBGZHFGUHYSHQYMWGOOJ0&marketplace=FLIPKART&q=redmi+smartphone&store=tyy%2F4io&srno=s_1_2&otracker=search&otracker1=search&fm=organic&iid=a35484ac-03fc-428d-ac61-c7c96712a1ac.MOBGZHFGUHYSHQYM.SEARCH&ppt=hp&ppn=homepage&ssid=7gn4beomgw0000001694263541535&qH=16e35e1c76bc3b93', 'https://www.flipkart.com/redmi-12-jade-black-128-gb/p/itm7b10fd42f78b2?pid=MOBGRMFKKDQ2A3V4&lid=LSTMOBGRMFKKDQ2A3V4XZOVEW&marketplace=FLIPKART&q=redmi+smartphone&store=tyy%2F4io&spotlightTagId=BestsellerId_tyy%2F4io&srno=s_1_3&otracker=search&otracker1=search&fm=organic&iid=a35484ac-03fc-428d-ac61-c7c96712a1ac.MOBGRMFKKDQ2A3V4.SEARCH&ppt=hp&ppn=homepage&ssid=7gn4beomgw0000001694263541535&qH=16e35e1c76bc3b93', 'https://www.flipkart.com/redmi-12-pastel-blue-128-gb/p/itm48719506a7ceb?pid=MOBGRMFKKGYD9ETX&lid=LSTMOBGRMFKKGYD9ETX5KD9VL&marketplace=FLIPKART&q=redmi+smartphone&store=tyy%2F4io&spotlightTagId=BestsellerId_tyy%2F4io&srno=s_1_4&otracker=search&otracker1=search&fm=organic&iid=a35484ac-03fc-428d-ac61-c7c96712a1ac.MOBGRMFKKGYD9ETX.SEARCH&ppt=hp&ppn=homepage&ssid=7gn4beomgw0000001694263541535&qH=16e35e1c76bc3b93', 'https://www.flipkart.com/redmi-a1-black-32-gb/p/itm70b00a77a7d1d?pid=MOBGGYBABVXHHRDQ&lid=LSTMOBGGYBABVXHHRDQI6PZV5&marketplace=FLIPKART&q=redmi+smartphone&store=tyy%2F4io&srno=s_1_5&otracker=search&otracker1=search&fm=organic&iid=a35484ac-03fc-428d-ac61-c7c96712a1ac.MOBGGYBABVXHHRDQ.SEARCH&ppt=hp&ppn=homepage&ssid=7gn4beomgw0000001694263541535&qH=16e35e1c76bc3b93', 'https://www.flipkart.com/redmi-a2-aqua-blue-64-gb/p/itm5d49be2c0a95a?pid=MOBGR4UZWNAYKSUH&lid=LSTMOBGR4UZWNAYKSUHE3CTOU&marketplace=FLIPKART&q=redmi+smartphone&store=tyy%2F4io&srno=s_1_6&otracker=search&otracker1=search&fm=organic&iid=a35484ac-03fc-428d-ac61-c7c96712a1ac.MOBGR4UZWNAYKSUH.SEARCH&ppt=hp&ppn=homepage&ssid=7gn4beomgw0000001694263541535&qH=16e35e1c76bc3b93', 'https://www.flipkart.com/redmi-a2-classic-black-64-gb/p/itm5d49be2c0a95a?pid=MOBGPVYHRXZ3PFZU&lid=LSTMOBGPVYHRXZ3PFZU0QHLLF&marketplace=FLIPKART&q=redmi+smartphone&store=tyy%2F4io&srno=s_1_7&otracker=search&otracker1=search&fm=organic&iid=a35484ac-03fc-428d-ac61-c7c96712a1ac.MOBGPVYHRXZ3PFZU.SEARCH&ppt=hp&ppn=homepage&ssid=7gn4beomgw0000001694263541535&qH=16e35e1c76bc3b93', 'https://www.flipkart.com/redmi-a2-sea-green-32-gb/p/itm5d49be2c0a95a?pid=MOBGPVYATHJDTSSR&lid=LSTMOBGPVYATHJDTSSR6JMF4X&marketplace=FLIPKART&q=redmi+smartphone&store=tyy%2F4io&srno=s_1_8&otracker=search&otracker1=search&fm=organic&iid=a35484ac-03fc-428d-ac61-c7c96712a1ac.MOBGPVYATHJDTSSR.SEARCH&ppt=hp&ppn=homepage&ssid=7gn4beomgw0000001694263541535&qH=16e35e1c76bc3b93', 'https://www.flipkart.com/redmi-a2-aqua-blue-64-gb/p/itm5d49be2c0a95a?pid=MOBGPVYMG9RWX6XY&lid=LSTMOBGPVYMG9RWX6XYCWTZEK&marketplace=FLIPKART&q=redmi+smartphone&store=tyy%2F4io&srno=s_1_9&otracker=search&otracker1=search&fm=organic&iid=a35484ac-03fc-428d-ac61-c7c96712a1ac.MOBGPVYMG9RWX6XY.SEARCH&ppt=hp&ppn=homepage&ssid=7gn4beomgw0000001694263541535&qH=16e35e1c76bc3b93', 'https://www.flipkart.com/redmi-12-pastel-blue-128-gb/p/itm9b1a6640faccd?pid=MOBGRMFKAHNTZPWE&lid=LSTMOBGRMFKAHNTZPWE1H5IWS&marketplace=FLIPKART&q=redmi+smartphone&store=tyy%2F4io&srno=s_1_10&otracker=search&otracker1=search&fm=organic&iid=a35484ac-03fc-428d-ac61-c7c96712a1ac.MOBGRMFKAHNTZPWE.SEARCH&ppt=hp&ppn=homepage&ssid=7gn4beomgw0000001694263541535&qH=16e35e1c76bc3b93', 'https://www.flipkart.com/redmi-a2-aqua-blue-32-gb/p/itm5d49be2c0a95a?pid=MOBGPUZR8GHCE5ZQ&lid=LSTMOBGPUZR8GHCE5ZQ1P4DF9&marketplace=FLIPKART&q=redmi+smartphone&store=tyy%2F4io&srno=s_1_11&otracker=search&otracker1=search&fm=organic&iid=a35484ac-03fc-428d-ac61-c7c96712a1ac.MOBGPUZR8GHCE5ZQ.SEARCH&ppt=hp&ppn=homepage&ssid=7gn4beomgw0000001694263541535&qH=16e35e1c76bc3b93', 'https://www.flipkart.com/redmi-10-power-power-black-128-gb/p/itm97f5d2ec83588?pid=MOBGHDXFYKKZFZGV&lid=LSTMOBGHDXFYKKZFZGVE0QYTC&marketplace=FLIPKART&q=redmi+smartphone&store=tyy%2F4io&srno=s_1_12&otracker=search&otracker1=search&fm=organic&iid=a35484ac-03fc-428d-ac61-c7c96712a1ac.MOBGHDXFYKKZFZGV.SEARCH&ppt=hp&ppn=homepage&ssid=7gn4beomgw0000001694263541535&qH=16e35e1c76bc3b93', 'https://www.flipkart.com/redmi-6a-blue-16-gb/p/itm1ed294a755383?pid=MOBF9Z2Z3YDBSF6V&lid=LSTMOBF9Z2Z3YDBSF6VX16ZOH&marketplace=FLIPKART&q=redmi+smartphone&store=tyy%2F4io&srno=s_1_13&otracker=search&otracker1=search&fm=organic&iid=a35484ac-03fc-428d-ac61-c7c96712a1ac.MOBF9Z2Z3YDBSF6V.SEARCH&ppt=hp&ppn=homepage&ssid=7gn4beomgw0000001694263541535&qH=16e35e1c76bc3b93', 'https://www.flipkart.com/redmi-12-moonstone-silver-128-gb/p/itm6722b15672602?pid=MOBGRMFK4CSR7GGH&lid=LSTMOBGRMFK4CSR7GGHHKEX2Z&marketplace=FLIPKART&q=redmi+smartphone&store=tyy%2F4io&srno=s_1_14&otracker=search&otracker1=search&fm=organic&iid=a35484ac-03fc-428d-ac61-c7c96712a1ac.MOBGRMFK4CSR7GGH.SEARCH&ppt=hp&ppn=homepage&ssid=7gn4beomgw0000001694263541535&qH=16e35e1c76bc3b93', 'https://www.flipkart.com/redmi-a1-light-green-32-gb/p/itmecc9e7ba0a1df?pid=MOBGGYBAHSAJVKHP&lid=LSTMOBGGYBAHSAJVKHP4UBD9A&marketplace=FLIPKART&q=redmi+smartphone&store=tyy%2F4io&srno=s_1_15&otracker=search&otracker1=search&fm=organic&iid=a35484ac-03fc-428d-ac61-c7c96712a1ac.MOBGGYBAHSAJVKHP.SEARCH&ppt=hp&ppn=homepage&ssid=7gn4beomgw0000001694263541535&qH=16e35e1c76bc3b93', 'https://www.flipkart.com/redmi-11-prime-flashy-black-128-gb/p/itm01f508ea28ab0?pid=MOBGZHFGNDNWAZKZ&lid=LSTMOBGZHFGNDNWAZKZUMANTL&marketplace=FLIPKART&q=redmi+smartphone&store=tyy%2F4io&srno=s_1_16&otracker=search&otracker1=search&fm=organic&iid=a35484ac-03fc-428d-ac61-c7c96712a1ac.MOBGZHFGNDNWAZKZ.SEARCH&ppt=hp&ppn=homepage&ssid=7gn4beomgw0000001694263541535&qH=16e35e1c76bc3b93', 'https://www.flipkart.com/redmi-11-prime-playful-green-128-gb/p/itm0b080e6994972?pid=MOBGZHFGZQMESCDK&lid=LSTMOBGZHFGZQMESCDKZ6ILTE&marketplace=FLIPKART&q=redmi+smartphone&store=tyy%2F4io&srno=s_1_17&otracker=search&otracker1=search&fm=organic&iid=a35484ac-03fc-428d-ac61-c7c96712a1ac.MOBGZHFGZQMESCDK.SEARCH&ppt=hp&ppn=homepage&ssid=7gn4beomgw0000001694263541535&qH=16e35e1c76bc3b93', 'https://www.flipkart.com/redmi-a2-sea-green-64-gb/p/itm5d49be2c0a95a?pid=MOBGPVYEHMPGNCBZ&lid=LSTMOBGPVYEHMPGNCBZHUKI4Z&marketplace=FLIPKART&q=redmi+smartphone&store=tyy%2F4io&srno=s_1_18&otracker=search&otracker1=search&fm=organic&iid=a35484ac-03fc-428d-ac61-c7c96712a1ac.MOBGPVYEHMPGNCBZ.SEARCH&ppt=hp&ppn=homepage&ssid=7gn4beomgw0000001694263541535&qH=16e35e1c76bc3b93', 'https://www.flipkart.com/redmi-a2-classic-black-64-gb/p/itm5d49be2c0a95a?pid=MOBGRHB6XAEUADQB&lid=LSTMOBGRHB6XAEUADQBAI4AJ4&marketplace=FLIPKART&q=redmi+smartphone&store=tyy%2F4io&srno=s_1_19&otracker=search&otracker1=search&fm=organic&iid=a35484ac-03fc-428d-ac61-c7c96712a1ac.MOBGRHB6XAEUADQB.SEARCH&ppt=hp&ppn=homepage&ssid=7gn4beomgw0000001694263541535&qH=16e35e1c76bc3b93', 'https://www.flipkart.com/redmi-12-jade-black-128-gb/p/itmb7050ec01c09f?pid=MOBGRMFKTHKQSJEG&lid=LSTMOBGRMFKTHKQSJEGQK3FM2&marketplace=FLIPKART&q=redmi+smartphone&store=tyy%2F4io&srno=s_1_20&otracker=search&otracker1=search&fm=organic&iid=a35484ac-03fc-428d-ac61-c7c96712a1ac.MOBGRMFKTHKQSJEG.SEARCH&ppt=hp&ppn=homepage&ssid=7gn4beomgw0000001694263541535&qH=16e35e1c76bc3b93', 'https://www.flipkart.com/redmi-12-5g-jade-black-128-gb/p/itm0c8ba13f6fc5b?pid=MOBGS7GYGUAJ4UYZ&lid=LSTMOBGS7GYGUAJ4UYZQQUS5Q&marketplace=FLIPKART&q=redmi+smartphone&store=tyy%2F4io&srno=s_1_21&otracker=search&otracker1=search&fm=organic&iid=a35484ac-03fc-428d-ac61-c7c96712a1ac.MOBGS7GYGUAJ4UYZ.SEARCH&ppt=hp&ppn=homepage&ssid=7gn4beomgw0000001694263541535&qH=16e35e1c76bc3b93', 'https://www.flipkart.com/redmi-note-12-ice-blue-64-gb/p/itmee415766dfc1a?pid=MOBGNYHZYZ4CNTCM&lid=LSTMOBGNYHZYZ4CNTCMVONB0S&marketplace=FLIPKART&q=redmi+smartphone&store=tyy%2F4io&srno=s_1_22&otracker=search&otracker1=search&fm=organic&iid=a35484ac-03fc-428d-ac61-c7c96712a1ac.MOBGNYHZYZ4CNTCM.SEARCH&ppt=hp&ppn=homepage&ssid=7gn4beomgw0000001694263541535&qH=16e35e1c76bc3b93', 'https://www.flipkart.com/redmi-note-12-lunar-black-64-gb/p/itm6756d6e7a86be?pid=MOBGNYHZJGGE3ZHM&lid=LSTMOBGNYHZJGGE3ZHMWSTXBO&marketplace=FLIPKART&q=redmi+smartphone&store=tyy%2F4io&srno=s_1_23&otracker=search&otracker1=search&fm=organic&iid=a35484ac-03fc-428d-ac61-c7c96712a1ac.MOBGNYHZJGGE3ZHM.SEARCH&ppt=hp&ppn=homepage&ssid=7gn4beomgw0000001694263541535&qH=16e35e1c76bc3b93', 'https://www.flipkart.com/redmi-note-12-sunrise-gold-64-gb/p/itm5d170187bcbf0?pid=MOBGNYHZ7ZGHES2V&lid=LSTMOBGNYHZ7ZGHES2VQILAET&marketplace=FLIPKART&q=redmi+smartphone&store=tyy%2F4io&srno=s_1_24&otracker=search&otracker1=search&fm=organic&iid=a35484ac-03fc-428d-ac61-c7c96712a1ac.MOBGNYHZ7ZGHES2V.SEARCH&ppt=hp&ppn=homepage&ssid=7gn4beomgw0000001694263541535&qH=16e35e1c76bc3b93']\n"
     ]
    },
    {
     "name": "stdout",
     "output_type": "stream",
     "text": [
      "['https://www.flipkart.com/redmi-12-moonstone-silver-128-gb/p/itme52e778c12701?pid=MOBGRMFK2MGRNG4Q&lid=LSTMOBGRMFK2MGRNG4QFZLVXT&marketplace=FLIPKART&q=redmi+smartphone&store=tyy%2F4io&spotlightTagId=BestsellerId_tyy%2F4io&srno=s_1_1&otracker=search&otracker1=search&fm=Search&iid=a35484ac-03fc-428d-ac61-c7c96712a1ac.MOBGRMFK2MGRNG4Q.SEARCH&ppt=sp&ppn=sp&ssid=7gn4beomgw0000001694263541535&qH=16e35e1c76bc3b93', 'https://www.flipkart.com/redmi-11-prime-peppy-purple-128-gb/p/itm52d6b0fe396e9?pid=MOBGZHFGUHYSHQYM&lid=LSTMOBGZHFGUHYSHQYMWGOOJ0&marketplace=FLIPKART&q=redmi+smartphone&store=tyy%2F4io&srno=s_1_2&otracker=search&otracker1=search&fm=organic&iid=a35484ac-03fc-428d-ac61-c7c96712a1ac.MOBGZHFGUHYSHQYM.SEARCH&ppt=hp&ppn=homepage&ssid=7gn4beomgw0000001694263541535&qH=16e35e1c76bc3b93', 'https://www.flipkart.com/redmi-12-jade-black-128-gb/p/itm7b10fd42f78b2?pid=MOBGRMFKKDQ2A3V4&lid=LSTMOBGRMFKKDQ2A3V4XZOVEW&marketplace=FLIPKART&q=redmi+smartphone&store=tyy%2F4io&spotlightTagId=BestsellerId_tyy%2F4io&srno=s_1_3&otracker=search&otracker1=search&fm=organic&iid=a35484ac-03fc-428d-ac61-c7c96712a1ac.MOBGRMFKKDQ2A3V4.SEARCH&ppt=hp&ppn=homepage&ssid=7gn4beomgw0000001694263541535&qH=16e35e1c76bc3b93', 'https://www.flipkart.com/redmi-12-pastel-blue-128-gb/p/itm48719506a7ceb?pid=MOBGRMFKKGYD9ETX&lid=LSTMOBGRMFKKGYD9ETX5KD9VL&marketplace=FLIPKART&q=redmi+smartphone&store=tyy%2F4io&spotlightTagId=BestsellerId_tyy%2F4io&srno=s_1_4&otracker=search&otracker1=search&fm=organic&iid=a35484ac-03fc-428d-ac61-c7c96712a1ac.MOBGRMFKKGYD9ETX.SEARCH&ppt=hp&ppn=homepage&ssid=7gn4beomgw0000001694263541535&qH=16e35e1c76bc3b93', 'https://www.flipkart.com/redmi-a1-black-32-gb/p/itm70b00a77a7d1d?pid=MOBGGYBABVXHHRDQ&lid=LSTMOBGGYBABVXHHRDQI6PZV5&marketplace=FLIPKART&q=redmi+smartphone&store=tyy%2F4io&srno=s_1_5&otracker=search&otracker1=search&fm=organic&iid=a35484ac-03fc-428d-ac61-c7c96712a1ac.MOBGGYBABVXHHRDQ.SEARCH&ppt=hp&ppn=homepage&ssid=7gn4beomgw0000001694263541535&qH=16e35e1c76bc3b93', 'https://www.flipkart.com/redmi-a2-aqua-blue-64-gb/p/itm5d49be2c0a95a?pid=MOBGR4UZWNAYKSUH&lid=LSTMOBGR4UZWNAYKSUHE3CTOU&marketplace=FLIPKART&q=redmi+smartphone&store=tyy%2F4io&srno=s_1_6&otracker=search&otracker1=search&fm=organic&iid=a35484ac-03fc-428d-ac61-c7c96712a1ac.MOBGR4UZWNAYKSUH.SEARCH&ppt=hp&ppn=homepage&ssid=7gn4beomgw0000001694263541535&qH=16e35e1c76bc3b93', 'https://www.flipkart.com/redmi-a2-classic-black-64-gb/p/itm5d49be2c0a95a?pid=MOBGPVYHRXZ3PFZU&lid=LSTMOBGPVYHRXZ3PFZU0QHLLF&marketplace=FLIPKART&q=redmi+smartphone&store=tyy%2F4io&srno=s_1_7&otracker=search&otracker1=search&fm=organic&iid=a35484ac-03fc-428d-ac61-c7c96712a1ac.MOBGPVYHRXZ3PFZU.SEARCH&ppt=hp&ppn=homepage&ssid=7gn4beomgw0000001694263541535&qH=16e35e1c76bc3b93', 'https://www.flipkart.com/redmi-a2-sea-green-32-gb/p/itm5d49be2c0a95a?pid=MOBGPVYATHJDTSSR&lid=LSTMOBGPVYATHJDTSSR6JMF4X&marketplace=FLIPKART&q=redmi+smartphone&store=tyy%2F4io&srno=s_1_8&otracker=search&otracker1=search&fm=organic&iid=a35484ac-03fc-428d-ac61-c7c96712a1ac.MOBGPVYATHJDTSSR.SEARCH&ppt=hp&ppn=homepage&ssid=7gn4beomgw0000001694263541535&qH=16e35e1c76bc3b93', 'https://www.flipkart.com/redmi-a2-aqua-blue-64-gb/p/itm5d49be2c0a95a?pid=MOBGPVYMG9RWX6XY&lid=LSTMOBGPVYMG9RWX6XYCWTZEK&marketplace=FLIPKART&q=redmi+smartphone&store=tyy%2F4io&srno=s_1_9&otracker=search&otracker1=search&fm=organic&iid=a35484ac-03fc-428d-ac61-c7c96712a1ac.MOBGPVYMG9RWX6XY.SEARCH&ppt=hp&ppn=homepage&ssid=7gn4beomgw0000001694263541535&qH=16e35e1c76bc3b93', 'https://www.flipkart.com/redmi-12-pastel-blue-128-gb/p/itm9b1a6640faccd?pid=MOBGRMFKAHNTZPWE&lid=LSTMOBGRMFKAHNTZPWE1H5IWS&marketplace=FLIPKART&q=redmi+smartphone&store=tyy%2F4io&srno=s_1_10&otracker=search&otracker1=search&fm=organic&iid=a35484ac-03fc-428d-ac61-c7c96712a1ac.MOBGRMFKAHNTZPWE.SEARCH&ppt=hp&ppn=homepage&ssid=7gn4beomgw0000001694263541535&qH=16e35e1c76bc3b93', 'https://www.flipkart.com/redmi-a2-aqua-blue-32-gb/p/itm5d49be2c0a95a?pid=MOBGPUZR8GHCE5ZQ&lid=LSTMOBGPUZR8GHCE5ZQ1P4DF9&marketplace=FLIPKART&q=redmi+smartphone&store=tyy%2F4io&srno=s_1_11&otracker=search&otracker1=search&fm=organic&iid=a35484ac-03fc-428d-ac61-c7c96712a1ac.MOBGPUZR8GHCE5ZQ.SEARCH&ppt=hp&ppn=homepage&ssid=7gn4beomgw0000001694263541535&qH=16e35e1c76bc3b93', 'https://www.flipkart.com/redmi-10-power-power-black-128-gb/p/itm97f5d2ec83588?pid=MOBGHDXFYKKZFZGV&lid=LSTMOBGHDXFYKKZFZGVE0QYTC&marketplace=FLIPKART&q=redmi+smartphone&store=tyy%2F4io&srno=s_1_12&otracker=search&otracker1=search&fm=organic&iid=a35484ac-03fc-428d-ac61-c7c96712a1ac.MOBGHDXFYKKZFZGV.SEARCH&ppt=hp&ppn=homepage&ssid=7gn4beomgw0000001694263541535&qH=16e35e1c76bc3b93', 'https://www.flipkart.com/redmi-6a-blue-16-gb/p/itm1ed294a755383?pid=MOBF9Z2Z3YDBSF6V&lid=LSTMOBF9Z2Z3YDBSF6VX16ZOH&marketplace=FLIPKART&q=redmi+smartphone&store=tyy%2F4io&srno=s_1_13&otracker=search&otracker1=search&fm=organic&iid=a35484ac-03fc-428d-ac61-c7c96712a1ac.MOBF9Z2Z3YDBSF6V.SEARCH&ppt=hp&ppn=homepage&ssid=7gn4beomgw0000001694263541535&qH=16e35e1c76bc3b93', 'https://www.flipkart.com/redmi-12-moonstone-silver-128-gb/p/itm6722b15672602?pid=MOBGRMFK4CSR7GGH&lid=LSTMOBGRMFK4CSR7GGHHKEX2Z&marketplace=FLIPKART&q=redmi+smartphone&store=tyy%2F4io&srno=s_1_14&otracker=search&otracker1=search&fm=organic&iid=a35484ac-03fc-428d-ac61-c7c96712a1ac.MOBGRMFK4CSR7GGH.SEARCH&ppt=hp&ppn=homepage&ssid=7gn4beomgw0000001694263541535&qH=16e35e1c76bc3b93', 'https://www.flipkart.com/redmi-a1-light-green-32-gb/p/itmecc9e7ba0a1df?pid=MOBGGYBAHSAJVKHP&lid=LSTMOBGGYBAHSAJVKHP4UBD9A&marketplace=FLIPKART&q=redmi+smartphone&store=tyy%2F4io&srno=s_1_15&otracker=search&otracker1=search&fm=organic&iid=a35484ac-03fc-428d-ac61-c7c96712a1ac.MOBGGYBAHSAJVKHP.SEARCH&ppt=hp&ppn=homepage&ssid=7gn4beomgw0000001694263541535&qH=16e35e1c76bc3b93', 'https://www.flipkart.com/redmi-11-prime-flashy-black-128-gb/p/itm01f508ea28ab0?pid=MOBGZHFGNDNWAZKZ&lid=LSTMOBGZHFGNDNWAZKZUMANTL&marketplace=FLIPKART&q=redmi+smartphone&store=tyy%2F4io&srno=s_1_16&otracker=search&otracker1=search&fm=organic&iid=a35484ac-03fc-428d-ac61-c7c96712a1ac.MOBGZHFGNDNWAZKZ.SEARCH&ppt=hp&ppn=homepage&ssid=7gn4beomgw0000001694263541535&qH=16e35e1c76bc3b93', 'https://www.flipkart.com/redmi-11-prime-playful-green-128-gb/p/itm0b080e6994972?pid=MOBGZHFGZQMESCDK&lid=LSTMOBGZHFGZQMESCDKZ6ILTE&marketplace=FLIPKART&q=redmi+smartphone&store=tyy%2F4io&srno=s_1_17&otracker=search&otracker1=search&fm=organic&iid=a35484ac-03fc-428d-ac61-c7c96712a1ac.MOBGZHFGZQMESCDK.SEARCH&ppt=hp&ppn=homepage&ssid=7gn4beomgw0000001694263541535&qH=16e35e1c76bc3b93', 'https://www.flipkart.com/redmi-a2-sea-green-64-gb/p/itm5d49be2c0a95a?pid=MOBGPVYEHMPGNCBZ&lid=LSTMOBGPVYEHMPGNCBZHUKI4Z&marketplace=FLIPKART&q=redmi+smartphone&store=tyy%2F4io&srno=s_1_18&otracker=search&otracker1=search&fm=organic&iid=a35484ac-03fc-428d-ac61-c7c96712a1ac.MOBGPVYEHMPGNCBZ.SEARCH&ppt=hp&ppn=homepage&ssid=7gn4beomgw0000001694263541535&qH=16e35e1c76bc3b93', 'https://www.flipkart.com/redmi-a2-classic-black-64-gb/p/itm5d49be2c0a95a?pid=MOBGRHB6XAEUADQB&lid=LSTMOBGRHB6XAEUADQBAI4AJ4&marketplace=FLIPKART&q=redmi+smartphone&store=tyy%2F4io&srno=s_1_19&otracker=search&otracker1=search&fm=organic&iid=a35484ac-03fc-428d-ac61-c7c96712a1ac.MOBGRHB6XAEUADQB.SEARCH&ppt=hp&ppn=homepage&ssid=7gn4beomgw0000001694263541535&qH=16e35e1c76bc3b93', 'https://www.flipkart.com/redmi-12-jade-black-128-gb/p/itmb7050ec01c09f?pid=MOBGRMFKTHKQSJEG&lid=LSTMOBGRMFKTHKQSJEGQK3FM2&marketplace=FLIPKART&q=redmi+smartphone&store=tyy%2F4io&srno=s_1_20&otracker=search&otracker1=search&fm=organic&iid=a35484ac-03fc-428d-ac61-c7c96712a1ac.MOBGRMFKTHKQSJEG.SEARCH&ppt=hp&ppn=homepage&ssid=7gn4beomgw0000001694263541535&qH=16e35e1c76bc3b93', 'https://www.flipkart.com/redmi-12-5g-jade-black-128-gb/p/itm0c8ba13f6fc5b?pid=MOBGS7GYGUAJ4UYZ&lid=LSTMOBGS7GYGUAJ4UYZQQUS5Q&marketplace=FLIPKART&q=redmi+smartphone&store=tyy%2F4io&srno=s_1_21&otracker=search&otracker1=search&fm=organic&iid=a35484ac-03fc-428d-ac61-c7c96712a1ac.MOBGS7GYGUAJ4UYZ.SEARCH&ppt=hp&ppn=homepage&ssid=7gn4beomgw0000001694263541535&qH=16e35e1c76bc3b93', 'https://www.flipkart.com/redmi-note-12-ice-blue-64-gb/p/itmee415766dfc1a?pid=MOBGNYHZYZ4CNTCM&lid=LSTMOBGNYHZYZ4CNTCMVONB0S&marketplace=FLIPKART&q=redmi+smartphone&store=tyy%2F4io&srno=s_1_22&otracker=search&otracker1=search&fm=organic&iid=a35484ac-03fc-428d-ac61-c7c96712a1ac.MOBGNYHZYZ4CNTCM.SEARCH&ppt=hp&ppn=homepage&ssid=7gn4beomgw0000001694263541535&qH=16e35e1c76bc3b93', 'https://www.flipkart.com/redmi-note-12-lunar-black-64-gb/p/itm6756d6e7a86be?pid=MOBGNYHZJGGE3ZHM&lid=LSTMOBGNYHZJGGE3ZHMWSTXBO&marketplace=FLIPKART&q=redmi+smartphone&store=tyy%2F4io&srno=s_1_23&otracker=search&otracker1=search&fm=organic&iid=a35484ac-03fc-428d-ac61-c7c96712a1ac.MOBGNYHZJGGE3ZHM.SEARCH&ppt=hp&ppn=homepage&ssid=7gn4beomgw0000001694263541535&qH=16e35e1c76bc3b93', 'https://www.flipkart.com/redmi-note-12-sunrise-gold-64-gb/p/itm5d170187bcbf0?pid=MOBGNYHZ7ZGHES2V&lid=LSTMOBGNYHZ7ZGHES2VQILAET&marketplace=FLIPKART&q=redmi+smartphone&store=tyy%2F4io&srno=s_1_24&otracker=search&otracker1=search&fm=organic&iid=a35484ac-03fc-428d-ac61-c7c96712a1ac.MOBGNYHZ7ZGHES2V.SEARCH&ppt=hp&ppn=homepage&ssid=7gn4beomgw0000001694263541535&qH=16e35e1c76bc3b93']\n",
      "['https://www.flipkart.com/redmi-12-moonstone-silver-128-gb/p/itme52e778c12701?pid=MOBGRMFK2MGRNG4Q&lid=LSTMOBGRMFK2MGRNG4QFZLVXT&marketplace=FLIPKART&q=redmi+smartphone&store=tyy%2F4io&spotlightTagId=BestsellerId_tyy%2F4io&srno=s_1_1&otracker=search&otracker1=search&fm=Search&iid=a35484ac-03fc-428d-ac61-c7c96712a1ac.MOBGRMFK2MGRNG4Q.SEARCH&ppt=sp&ppn=sp&ssid=7gn4beomgw0000001694263541535&qH=16e35e1c76bc3b93', 'https://www.flipkart.com/redmi-11-prime-peppy-purple-128-gb/p/itm52d6b0fe396e9?pid=MOBGZHFGUHYSHQYM&lid=LSTMOBGZHFGUHYSHQYMWGOOJ0&marketplace=FLIPKART&q=redmi+smartphone&store=tyy%2F4io&srno=s_1_2&otracker=search&otracker1=search&fm=organic&iid=a35484ac-03fc-428d-ac61-c7c96712a1ac.MOBGZHFGUHYSHQYM.SEARCH&ppt=hp&ppn=homepage&ssid=7gn4beomgw0000001694263541535&qH=16e35e1c76bc3b93', 'https://www.flipkart.com/redmi-12-jade-black-128-gb/p/itm7b10fd42f78b2?pid=MOBGRMFKKDQ2A3V4&lid=LSTMOBGRMFKKDQ2A3V4XZOVEW&marketplace=FLIPKART&q=redmi+smartphone&store=tyy%2F4io&spotlightTagId=BestsellerId_tyy%2F4io&srno=s_1_3&otracker=search&otracker1=search&fm=organic&iid=a35484ac-03fc-428d-ac61-c7c96712a1ac.MOBGRMFKKDQ2A3V4.SEARCH&ppt=hp&ppn=homepage&ssid=7gn4beomgw0000001694263541535&qH=16e35e1c76bc3b93', 'https://www.flipkart.com/redmi-12-pastel-blue-128-gb/p/itm48719506a7ceb?pid=MOBGRMFKKGYD9ETX&lid=LSTMOBGRMFKKGYD9ETX5KD9VL&marketplace=FLIPKART&q=redmi+smartphone&store=tyy%2F4io&spotlightTagId=BestsellerId_tyy%2F4io&srno=s_1_4&otracker=search&otracker1=search&fm=organic&iid=a35484ac-03fc-428d-ac61-c7c96712a1ac.MOBGRMFKKGYD9ETX.SEARCH&ppt=hp&ppn=homepage&ssid=7gn4beomgw0000001694263541535&qH=16e35e1c76bc3b93', 'https://www.flipkart.com/redmi-a1-black-32-gb/p/itm70b00a77a7d1d?pid=MOBGGYBABVXHHRDQ&lid=LSTMOBGGYBABVXHHRDQI6PZV5&marketplace=FLIPKART&q=redmi+smartphone&store=tyy%2F4io&srno=s_1_5&otracker=search&otracker1=search&fm=organic&iid=a35484ac-03fc-428d-ac61-c7c96712a1ac.MOBGGYBABVXHHRDQ.SEARCH&ppt=hp&ppn=homepage&ssid=7gn4beomgw0000001694263541535&qH=16e35e1c76bc3b93', 'https://www.flipkart.com/redmi-a2-aqua-blue-64-gb/p/itm5d49be2c0a95a?pid=MOBGR4UZWNAYKSUH&lid=LSTMOBGR4UZWNAYKSUHE3CTOU&marketplace=FLIPKART&q=redmi+smartphone&store=tyy%2F4io&srno=s_1_6&otracker=search&otracker1=search&fm=organic&iid=a35484ac-03fc-428d-ac61-c7c96712a1ac.MOBGR4UZWNAYKSUH.SEARCH&ppt=hp&ppn=homepage&ssid=7gn4beomgw0000001694263541535&qH=16e35e1c76bc3b93', 'https://www.flipkart.com/redmi-a2-classic-black-64-gb/p/itm5d49be2c0a95a?pid=MOBGPVYHRXZ3PFZU&lid=LSTMOBGPVYHRXZ3PFZU0QHLLF&marketplace=FLIPKART&q=redmi+smartphone&store=tyy%2F4io&srno=s_1_7&otracker=search&otracker1=search&fm=organic&iid=a35484ac-03fc-428d-ac61-c7c96712a1ac.MOBGPVYHRXZ3PFZU.SEARCH&ppt=hp&ppn=homepage&ssid=7gn4beomgw0000001694263541535&qH=16e35e1c76bc3b93', 'https://www.flipkart.com/redmi-a2-sea-green-32-gb/p/itm5d49be2c0a95a?pid=MOBGPVYATHJDTSSR&lid=LSTMOBGPVYATHJDTSSR6JMF4X&marketplace=FLIPKART&q=redmi+smartphone&store=tyy%2F4io&srno=s_1_8&otracker=search&otracker1=search&fm=organic&iid=a35484ac-03fc-428d-ac61-c7c96712a1ac.MOBGPVYATHJDTSSR.SEARCH&ppt=hp&ppn=homepage&ssid=7gn4beomgw0000001694263541535&qH=16e35e1c76bc3b93', 'https://www.flipkart.com/redmi-a2-aqua-blue-64-gb/p/itm5d49be2c0a95a?pid=MOBGPVYMG9RWX6XY&lid=LSTMOBGPVYMG9RWX6XYCWTZEK&marketplace=FLIPKART&q=redmi+smartphone&store=tyy%2F4io&srno=s_1_9&otracker=search&otracker1=search&fm=organic&iid=a35484ac-03fc-428d-ac61-c7c96712a1ac.MOBGPVYMG9RWX6XY.SEARCH&ppt=hp&ppn=homepage&ssid=7gn4beomgw0000001694263541535&qH=16e35e1c76bc3b93', 'https://www.flipkart.com/redmi-12-pastel-blue-128-gb/p/itm9b1a6640faccd?pid=MOBGRMFKAHNTZPWE&lid=LSTMOBGRMFKAHNTZPWE1H5IWS&marketplace=FLIPKART&q=redmi+smartphone&store=tyy%2F4io&srno=s_1_10&otracker=search&otracker1=search&fm=organic&iid=a35484ac-03fc-428d-ac61-c7c96712a1ac.MOBGRMFKAHNTZPWE.SEARCH&ppt=hp&ppn=homepage&ssid=7gn4beomgw0000001694263541535&qH=16e35e1c76bc3b93', 'https://www.flipkart.com/redmi-a2-aqua-blue-32-gb/p/itm5d49be2c0a95a?pid=MOBGPUZR8GHCE5ZQ&lid=LSTMOBGPUZR8GHCE5ZQ1P4DF9&marketplace=FLIPKART&q=redmi+smartphone&store=tyy%2F4io&srno=s_1_11&otracker=search&otracker1=search&fm=organic&iid=a35484ac-03fc-428d-ac61-c7c96712a1ac.MOBGPUZR8GHCE5ZQ.SEARCH&ppt=hp&ppn=homepage&ssid=7gn4beomgw0000001694263541535&qH=16e35e1c76bc3b93', 'https://www.flipkart.com/redmi-10-power-power-black-128-gb/p/itm97f5d2ec83588?pid=MOBGHDXFYKKZFZGV&lid=LSTMOBGHDXFYKKZFZGVE0QYTC&marketplace=FLIPKART&q=redmi+smartphone&store=tyy%2F4io&srno=s_1_12&otracker=search&otracker1=search&fm=organic&iid=a35484ac-03fc-428d-ac61-c7c96712a1ac.MOBGHDXFYKKZFZGV.SEARCH&ppt=hp&ppn=homepage&ssid=7gn4beomgw0000001694263541535&qH=16e35e1c76bc3b93', 'https://www.flipkart.com/redmi-6a-blue-16-gb/p/itm1ed294a755383?pid=MOBF9Z2Z3YDBSF6V&lid=LSTMOBF9Z2Z3YDBSF6VX16ZOH&marketplace=FLIPKART&q=redmi+smartphone&store=tyy%2F4io&srno=s_1_13&otracker=search&otracker1=search&fm=organic&iid=a35484ac-03fc-428d-ac61-c7c96712a1ac.MOBF9Z2Z3YDBSF6V.SEARCH&ppt=hp&ppn=homepage&ssid=7gn4beomgw0000001694263541535&qH=16e35e1c76bc3b93', 'https://www.flipkart.com/redmi-12-moonstone-silver-128-gb/p/itm6722b15672602?pid=MOBGRMFK4CSR7GGH&lid=LSTMOBGRMFK4CSR7GGHHKEX2Z&marketplace=FLIPKART&q=redmi+smartphone&store=tyy%2F4io&srno=s_1_14&otracker=search&otracker1=search&fm=organic&iid=a35484ac-03fc-428d-ac61-c7c96712a1ac.MOBGRMFK4CSR7GGH.SEARCH&ppt=hp&ppn=homepage&ssid=7gn4beomgw0000001694263541535&qH=16e35e1c76bc3b93', 'https://www.flipkart.com/redmi-a1-light-green-32-gb/p/itmecc9e7ba0a1df?pid=MOBGGYBAHSAJVKHP&lid=LSTMOBGGYBAHSAJVKHP4UBD9A&marketplace=FLIPKART&q=redmi+smartphone&store=tyy%2F4io&srno=s_1_15&otracker=search&otracker1=search&fm=organic&iid=a35484ac-03fc-428d-ac61-c7c96712a1ac.MOBGGYBAHSAJVKHP.SEARCH&ppt=hp&ppn=homepage&ssid=7gn4beomgw0000001694263541535&qH=16e35e1c76bc3b93', 'https://www.flipkart.com/redmi-11-prime-flashy-black-128-gb/p/itm01f508ea28ab0?pid=MOBGZHFGNDNWAZKZ&lid=LSTMOBGZHFGNDNWAZKZUMANTL&marketplace=FLIPKART&q=redmi+smartphone&store=tyy%2F4io&srno=s_1_16&otracker=search&otracker1=search&fm=organic&iid=a35484ac-03fc-428d-ac61-c7c96712a1ac.MOBGZHFGNDNWAZKZ.SEARCH&ppt=hp&ppn=homepage&ssid=7gn4beomgw0000001694263541535&qH=16e35e1c76bc3b93', 'https://www.flipkart.com/redmi-11-prime-playful-green-128-gb/p/itm0b080e6994972?pid=MOBGZHFGZQMESCDK&lid=LSTMOBGZHFGZQMESCDKZ6ILTE&marketplace=FLIPKART&q=redmi+smartphone&store=tyy%2F4io&srno=s_1_17&otracker=search&otracker1=search&fm=organic&iid=a35484ac-03fc-428d-ac61-c7c96712a1ac.MOBGZHFGZQMESCDK.SEARCH&ppt=hp&ppn=homepage&ssid=7gn4beomgw0000001694263541535&qH=16e35e1c76bc3b93', 'https://www.flipkart.com/redmi-a2-sea-green-64-gb/p/itm5d49be2c0a95a?pid=MOBGPVYEHMPGNCBZ&lid=LSTMOBGPVYEHMPGNCBZHUKI4Z&marketplace=FLIPKART&q=redmi+smartphone&store=tyy%2F4io&srno=s_1_18&otracker=search&otracker1=search&fm=organic&iid=a35484ac-03fc-428d-ac61-c7c96712a1ac.MOBGPVYEHMPGNCBZ.SEARCH&ppt=hp&ppn=homepage&ssid=7gn4beomgw0000001694263541535&qH=16e35e1c76bc3b93', 'https://www.flipkart.com/redmi-a2-classic-black-64-gb/p/itm5d49be2c0a95a?pid=MOBGRHB6XAEUADQB&lid=LSTMOBGRHB6XAEUADQBAI4AJ4&marketplace=FLIPKART&q=redmi+smartphone&store=tyy%2F4io&srno=s_1_19&otracker=search&otracker1=search&fm=organic&iid=a35484ac-03fc-428d-ac61-c7c96712a1ac.MOBGRHB6XAEUADQB.SEARCH&ppt=hp&ppn=homepage&ssid=7gn4beomgw0000001694263541535&qH=16e35e1c76bc3b93', 'https://www.flipkart.com/redmi-12-jade-black-128-gb/p/itmb7050ec01c09f?pid=MOBGRMFKTHKQSJEG&lid=LSTMOBGRMFKTHKQSJEGQK3FM2&marketplace=FLIPKART&q=redmi+smartphone&store=tyy%2F4io&srno=s_1_20&otracker=search&otracker1=search&fm=organic&iid=a35484ac-03fc-428d-ac61-c7c96712a1ac.MOBGRMFKTHKQSJEG.SEARCH&ppt=hp&ppn=homepage&ssid=7gn4beomgw0000001694263541535&qH=16e35e1c76bc3b93', 'https://www.flipkart.com/redmi-12-5g-jade-black-128-gb/p/itm0c8ba13f6fc5b?pid=MOBGS7GYGUAJ4UYZ&lid=LSTMOBGS7GYGUAJ4UYZQQUS5Q&marketplace=FLIPKART&q=redmi+smartphone&store=tyy%2F4io&srno=s_1_21&otracker=search&otracker1=search&fm=organic&iid=a35484ac-03fc-428d-ac61-c7c96712a1ac.MOBGS7GYGUAJ4UYZ.SEARCH&ppt=hp&ppn=homepage&ssid=7gn4beomgw0000001694263541535&qH=16e35e1c76bc3b93', 'https://www.flipkart.com/redmi-note-12-ice-blue-64-gb/p/itmee415766dfc1a?pid=MOBGNYHZYZ4CNTCM&lid=LSTMOBGNYHZYZ4CNTCMVONB0S&marketplace=FLIPKART&q=redmi+smartphone&store=tyy%2F4io&srno=s_1_22&otracker=search&otracker1=search&fm=organic&iid=a35484ac-03fc-428d-ac61-c7c96712a1ac.MOBGNYHZYZ4CNTCM.SEARCH&ppt=hp&ppn=homepage&ssid=7gn4beomgw0000001694263541535&qH=16e35e1c76bc3b93', 'https://www.flipkart.com/redmi-note-12-lunar-black-64-gb/p/itm6756d6e7a86be?pid=MOBGNYHZJGGE3ZHM&lid=LSTMOBGNYHZJGGE3ZHMWSTXBO&marketplace=FLIPKART&q=redmi+smartphone&store=tyy%2F4io&srno=s_1_23&otracker=search&otracker1=search&fm=organic&iid=a35484ac-03fc-428d-ac61-c7c96712a1ac.MOBGNYHZJGGE3ZHM.SEARCH&ppt=hp&ppn=homepage&ssid=7gn4beomgw0000001694263541535&qH=16e35e1c76bc3b93', 'https://www.flipkart.com/redmi-note-12-sunrise-gold-64-gb/p/itm5d170187bcbf0?pid=MOBGNYHZ7ZGHES2V&lid=LSTMOBGNYHZ7ZGHES2VQILAET&marketplace=FLIPKART&q=redmi+smartphone&store=tyy%2F4io&srno=s_1_24&otracker=search&otracker1=search&fm=organic&iid=a35484ac-03fc-428d-ac61-c7c96712a1ac.MOBGNYHZ7ZGHES2V.SEARCH&ppt=hp&ppn=homepage&ssid=7gn4beomgw0000001694263541535&qH=16e35e1c76bc3b93']\n"
     ]
    },
    {
     "name": "stdout",
     "output_type": "stream",
     "text": [
      "['https://www.flipkart.com/redmi-12-moonstone-silver-128-gb/p/itme52e778c12701?pid=MOBGRMFK2MGRNG4Q&lid=LSTMOBGRMFK2MGRNG4QFZLVXT&marketplace=FLIPKART&q=redmi+smartphone&store=tyy%2F4io&spotlightTagId=BestsellerId_tyy%2F4io&srno=s_1_1&otracker=search&otracker1=search&fm=Search&iid=a35484ac-03fc-428d-ac61-c7c96712a1ac.MOBGRMFK2MGRNG4Q.SEARCH&ppt=sp&ppn=sp&ssid=7gn4beomgw0000001694263541535&qH=16e35e1c76bc3b93', 'https://www.flipkart.com/redmi-11-prime-peppy-purple-128-gb/p/itm52d6b0fe396e9?pid=MOBGZHFGUHYSHQYM&lid=LSTMOBGZHFGUHYSHQYMWGOOJ0&marketplace=FLIPKART&q=redmi+smartphone&store=tyy%2F4io&srno=s_1_2&otracker=search&otracker1=search&fm=organic&iid=a35484ac-03fc-428d-ac61-c7c96712a1ac.MOBGZHFGUHYSHQYM.SEARCH&ppt=hp&ppn=homepage&ssid=7gn4beomgw0000001694263541535&qH=16e35e1c76bc3b93', 'https://www.flipkart.com/redmi-12-jade-black-128-gb/p/itm7b10fd42f78b2?pid=MOBGRMFKKDQ2A3V4&lid=LSTMOBGRMFKKDQ2A3V4XZOVEW&marketplace=FLIPKART&q=redmi+smartphone&store=tyy%2F4io&spotlightTagId=BestsellerId_tyy%2F4io&srno=s_1_3&otracker=search&otracker1=search&fm=organic&iid=a35484ac-03fc-428d-ac61-c7c96712a1ac.MOBGRMFKKDQ2A3V4.SEARCH&ppt=hp&ppn=homepage&ssid=7gn4beomgw0000001694263541535&qH=16e35e1c76bc3b93', 'https://www.flipkart.com/redmi-12-pastel-blue-128-gb/p/itm48719506a7ceb?pid=MOBGRMFKKGYD9ETX&lid=LSTMOBGRMFKKGYD9ETX5KD9VL&marketplace=FLIPKART&q=redmi+smartphone&store=tyy%2F4io&spotlightTagId=BestsellerId_tyy%2F4io&srno=s_1_4&otracker=search&otracker1=search&fm=organic&iid=a35484ac-03fc-428d-ac61-c7c96712a1ac.MOBGRMFKKGYD9ETX.SEARCH&ppt=hp&ppn=homepage&ssid=7gn4beomgw0000001694263541535&qH=16e35e1c76bc3b93', 'https://www.flipkart.com/redmi-a1-black-32-gb/p/itm70b00a77a7d1d?pid=MOBGGYBABVXHHRDQ&lid=LSTMOBGGYBABVXHHRDQI6PZV5&marketplace=FLIPKART&q=redmi+smartphone&store=tyy%2F4io&srno=s_1_5&otracker=search&otracker1=search&fm=organic&iid=a35484ac-03fc-428d-ac61-c7c96712a1ac.MOBGGYBABVXHHRDQ.SEARCH&ppt=hp&ppn=homepage&ssid=7gn4beomgw0000001694263541535&qH=16e35e1c76bc3b93', 'https://www.flipkart.com/redmi-a2-aqua-blue-64-gb/p/itm5d49be2c0a95a?pid=MOBGR4UZWNAYKSUH&lid=LSTMOBGR4UZWNAYKSUHE3CTOU&marketplace=FLIPKART&q=redmi+smartphone&store=tyy%2F4io&srno=s_1_6&otracker=search&otracker1=search&fm=organic&iid=a35484ac-03fc-428d-ac61-c7c96712a1ac.MOBGR4UZWNAYKSUH.SEARCH&ppt=hp&ppn=homepage&ssid=7gn4beomgw0000001694263541535&qH=16e35e1c76bc3b93', 'https://www.flipkart.com/redmi-a2-classic-black-64-gb/p/itm5d49be2c0a95a?pid=MOBGPVYHRXZ3PFZU&lid=LSTMOBGPVYHRXZ3PFZU0QHLLF&marketplace=FLIPKART&q=redmi+smartphone&store=tyy%2F4io&srno=s_1_7&otracker=search&otracker1=search&fm=organic&iid=a35484ac-03fc-428d-ac61-c7c96712a1ac.MOBGPVYHRXZ3PFZU.SEARCH&ppt=hp&ppn=homepage&ssid=7gn4beomgw0000001694263541535&qH=16e35e1c76bc3b93', 'https://www.flipkart.com/redmi-a2-sea-green-32-gb/p/itm5d49be2c0a95a?pid=MOBGPVYATHJDTSSR&lid=LSTMOBGPVYATHJDTSSR6JMF4X&marketplace=FLIPKART&q=redmi+smartphone&store=tyy%2F4io&srno=s_1_8&otracker=search&otracker1=search&fm=organic&iid=a35484ac-03fc-428d-ac61-c7c96712a1ac.MOBGPVYATHJDTSSR.SEARCH&ppt=hp&ppn=homepage&ssid=7gn4beomgw0000001694263541535&qH=16e35e1c76bc3b93', 'https://www.flipkart.com/redmi-a2-aqua-blue-64-gb/p/itm5d49be2c0a95a?pid=MOBGPVYMG9RWX6XY&lid=LSTMOBGPVYMG9RWX6XYCWTZEK&marketplace=FLIPKART&q=redmi+smartphone&store=tyy%2F4io&srno=s_1_9&otracker=search&otracker1=search&fm=organic&iid=a35484ac-03fc-428d-ac61-c7c96712a1ac.MOBGPVYMG9RWX6XY.SEARCH&ppt=hp&ppn=homepage&ssid=7gn4beomgw0000001694263541535&qH=16e35e1c76bc3b93', 'https://www.flipkart.com/redmi-12-pastel-blue-128-gb/p/itm9b1a6640faccd?pid=MOBGRMFKAHNTZPWE&lid=LSTMOBGRMFKAHNTZPWE1H5IWS&marketplace=FLIPKART&q=redmi+smartphone&store=tyy%2F4io&srno=s_1_10&otracker=search&otracker1=search&fm=organic&iid=a35484ac-03fc-428d-ac61-c7c96712a1ac.MOBGRMFKAHNTZPWE.SEARCH&ppt=hp&ppn=homepage&ssid=7gn4beomgw0000001694263541535&qH=16e35e1c76bc3b93', 'https://www.flipkart.com/redmi-a2-aqua-blue-32-gb/p/itm5d49be2c0a95a?pid=MOBGPUZR8GHCE5ZQ&lid=LSTMOBGPUZR8GHCE5ZQ1P4DF9&marketplace=FLIPKART&q=redmi+smartphone&store=tyy%2F4io&srno=s_1_11&otracker=search&otracker1=search&fm=organic&iid=a35484ac-03fc-428d-ac61-c7c96712a1ac.MOBGPUZR8GHCE5ZQ.SEARCH&ppt=hp&ppn=homepage&ssid=7gn4beomgw0000001694263541535&qH=16e35e1c76bc3b93', 'https://www.flipkart.com/redmi-10-power-power-black-128-gb/p/itm97f5d2ec83588?pid=MOBGHDXFYKKZFZGV&lid=LSTMOBGHDXFYKKZFZGVE0QYTC&marketplace=FLIPKART&q=redmi+smartphone&store=tyy%2F4io&srno=s_1_12&otracker=search&otracker1=search&fm=organic&iid=a35484ac-03fc-428d-ac61-c7c96712a1ac.MOBGHDXFYKKZFZGV.SEARCH&ppt=hp&ppn=homepage&ssid=7gn4beomgw0000001694263541535&qH=16e35e1c76bc3b93', 'https://www.flipkart.com/redmi-6a-blue-16-gb/p/itm1ed294a755383?pid=MOBF9Z2Z3YDBSF6V&lid=LSTMOBF9Z2Z3YDBSF6VX16ZOH&marketplace=FLIPKART&q=redmi+smartphone&store=tyy%2F4io&srno=s_1_13&otracker=search&otracker1=search&fm=organic&iid=a35484ac-03fc-428d-ac61-c7c96712a1ac.MOBF9Z2Z3YDBSF6V.SEARCH&ppt=hp&ppn=homepage&ssid=7gn4beomgw0000001694263541535&qH=16e35e1c76bc3b93', 'https://www.flipkart.com/redmi-12-moonstone-silver-128-gb/p/itm6722b15672602?pid=MOBGRMFK4CSR7GGH&lid=LSTMOBGRMFK4CSR7GGHHKEX2Z&marketplace=FLIPKART&q=redmi+smartphone&store=tyy%2F4io&srno=s_1_14&otracker=search&otracker1=search&fm=organic&iid=a35484ac-03fc-428d-ac61-c7c96712a1ac.MOBGRMFK4CSR7GGH.SEARCH&ppt=hp&ppn=homepage&ssid=7gn4beomgw0000001694263541535&qH=16e35e1c76bc3b93', 'https://www.flipkart.com/redmi-a1-light-green-32-gb/p/itmecc9e7ba0a1df?pid=MOBGGYBAHSAJVKHP&lid=LSTMOBGGYBAHSAJVKHP4UBD9A&marketplace=FLIPKART&q=redmi+smartphone&store=tyy%2F4io&srno=s_1_15&otracker=search&otracker1=search&fm=organic&iid=a35484ac-03fc-428d-ac61-c7c96712a1ac.MOBGGYBAHSAJVKHP.SEARCH&ppt=hp&ppn=homepage&ssid=7gn4beomgw0000001694263541535&qH=16e35e1c76bc3b93', 'https://www.flipkart.com/redmi-11-prime-flashy-black-128-gb/p/itm01f508ea28ab0?pid=MOBGZHFGNDNWAZKZ&lid=LSTMOBGZHFGNDNWAZKZUMANTL&marketplace=FLIPKART&q=redmi+smartphone&store=tyy%2F4io&srno=s_1_16&otracker=search&otracker1=search&fm=organic&iid=a35484ac-03fc-428d-ac61-c7c96712a1ac.MOBGZHFGNDNWAZKZ.SEARCH&ppt=hp&ppn=homepage&ssid=7gn4beomgw0000001694263541535&qH=16e35e1c76bc3b93', 'https://www.flipkart.com/redmi-11-prime-playful-green-128-gb/p/itm0b080e6994972?pid=MOBGZHFGZQMESCDK&lid=LSTMOBGZHFGZQMESCDKZ6ILTE&marketplace=FLIPKART&q=redmi+smartphone&store=tyy%2F4io&srno=s_1_17&otracker=search&otracker1=search&fm=organic&iid=a35484ac-03fc-428d-ac61-c7c96712a1ac.MOBGZHFGZQMESCDK.SEARCH&ppt=hp&ppn=homepage&ssid=7gn4beomgw0000001694263541535&qH=16e35e1c76bc3b93', 'https://www.flipkart.com/redmi-a2-sea-green-64-gb/p/itm5d49be2c0a95a?pid=MOBGPVYEHMPGNCBZ&lid=LSTMOBGPVYEHMPGNCBZHUKI4Z&marketplace=FLIPKART&q=redmi+smartphone&store=tyy%2F4io&srno=s_1_18&otracker=search&otracker1=search&fm=organic&iid=a35484ac-03fc-428d-ac61-c7c96712a1ac.MOBGPVYEHMPGNCBZ.SEARCH&ppt=hp&ppn=homepage&ssid=7gn4beomgw0000001694263541535&qH=16e35e1c76bc3b93', 'https://www.flipkart.com/redmi-a2-classic-black-64-gb/p/itm5d49be2c0a95a?pid=MOBGRHB6XAEUADQB&lid=LSTMOBGRHB6XAEUADQBAI4AJ4&marketplace=FLIPKART&q=redmi+smartphone&store=tyy%2F4io&srno=s_1_19&otracker=search&otracker1=search&fm=organic&iid=a35484ac-03fc-428d-ac61-c7c96712a1ac.MOBGRHB6XAEUADQB.SEARCH&ppt=hp&ppn=homepage&ssid=7gn4beomgw0000001694263541535&qH=16e35e1c76bc3b93', 'https://www.flipkart.com/redmi-12-jade-black-128-gb/p/itmb7050ec01c09f?pid=MOBGRMFKTHKQSJEG&lid=LSTMOBGRMFKTHKQSJEGQK3FM2&marketplace=FLIPKART&q=redmi+smartphone&store=tyy%2F4io&srno=s_1_20&otracker=search&otracker1=search&fm=organic&iid=a35484ac-03fc-428d-ac61-c7c96712a1ac.MOBGRMFKTHKQSJEG.SEARCH&ppt=hp&ppn=homepage&ssid=7gn4beomgw0000001694263541535&qH=16e35e1c76bc3b93', 'https://www.flipkart.com/redmi-12-5g-jade-black-128-gb/p/itm0c8ba13f6fc5b?pid=MOBGS7GYGUAJ4UYZ&lid=LSTMOBGS7GYGUAJ4UYZQQUS5Q&marketplace=FLIPKART&q=redmi+smartphone&store=tyy%2F4io&srno=s_1_21&otracker=search&otracker1=search&fm=organic&iid=a35484ac-03fc-428d-ac61-c7c96712a1ac.MOBGS7GYGUAJ4UYZ.SEARCH&ppt=hp&ppn=homepage&ssid=7gn4beomgw0000001694263541535&qH=16e35e1c76bc3b93', 'https://www.flipkart.com/redmi-note-12-ice-blue-64-gb/p/itmee415766dfc1a?pid=MOBGNYHZYZ4CNTCM&lid=LSTMOBGNYHZYZ4CNTCMVONB0S&marketplace=FLIPKART&q=redmi+smartphone&store=tyy%2F4io&srno=s_1_22&otracker=search&otracker1=search&fm=organic&iid=a35484ac-03fc-428d-ac61-c7c96712a1ac.MOBGNYHZYZ4CNTCM.SEARCH&ppt=hp&ppn=homepage&ssid=7gn4beomgw0000001694263541535&qH=16e35e1c76bc3b93', 'https://www.flipkart.com/redmi-note-12-lunar-black-64-gb/p/itm6756d6e7a86be?pid=MOBGNYHZJGGE3ZHM&lid=LSTMOBGNYHZJGGE3ZHMWSTXBO&marketplace=FLIPKART&q=redmi+smartphone&store=tyy%2F4io&srno=s_1_23&otracker=search&otracker1=search&fm=organic&iid=a35484ac-03fc-428d-ac61-c7c96712a1ac.MOBGNYHZJGGE3ZHM.SEARCH&ppt=hp&ppn=homepage&ssid=7gn4beomgw0000001694263541535&qH=16e35e1c76bc3b93', 'https://www.flipkart.com/redmi-note-12-sunrise-gold-64-gb/p/itm5d170187bcbf0?pid=MOBGNYHZ7ZGHES2V&lid=LSTMOBGNYHZ7ZGHES2VQILAET&marketplace=FLIPKART&q=redmi+smartphone&store=tyy%2F4io&srno=s_1_24&otracker=search&otracker1=search&fm=organic&iid=a35484ac-03fc-428d-ac61-c7c96712a1ac.MOBGNYHZ7ZGHES2V.SEARCH&ppt=hp&ppn=homepage&ssid=7gn4beomgw0000001694263541535&qH=16e35e1c76bc3b93']\n",
      "['https://www.flipkart.com/redmi-12-moonstone-silver-128-gb/p/itme52e778c12701?pid=MOBGRMFK2MGRNG4Q&lid=LSTMOBGRMFK2MGRNG4QFZLVXT&marketplace=FLIPKART&q=redmi+smartphone&store=tyy%2F4io&spotlightTagId=BestsellerId_tyy%2F4io&srno=s_1_1&otracker=search&otracker1=search&fm=Search&iid=a35484ac-03fc-428d-ac61-c7c96712a1ac.MOBGRMFK2MGRNG4Q.SEARCH&ppt=sp&ppn=sp&ssid=7gn4beomgw0000001694263541535&qH=16e35e1c76bc3b93', 'https://www.flipkart.com/redmi-11-prime-peppy-purple-128-gb/p/itm52d6b0fe396e9?pid=MOBGZHFGUHYSHQYM&lid=LSTMOBGZHFGUHYSHQYMWGOOJ0&marketplace=FLIPKART&q=redmi+smartphone&store=tyy%2F4io&srno=s_1_2&otracker=search&otracker1=search&fm=organic&iid=a35484ac-03fc-428d-ac61-c7c96712a1ac.MOBGZHFGUHYSHQYM.SEARCH&ppt=hp&ppn=homepage&ssid=7gn4beomgw0000001694263541535&qH=16e35e1c76bc3b93', 'https://www.flipkart.com/redmi-12-jade-black-128-gb/p/itm7b10fd42f78b2?pid=MOBGRMFKKDQ2A3V4&lid=LSTMOBGRMFKKDQ2A3V4XZOVEW&marketplace=FLIPKART&q=redmi+smartphone&store=tyy%2F4io&spotlightTagId=BestsellerId_tyy%2F4io&srno=s_1_3&otracker=search&otracker1=search&fm=organic&iid=a35484ac-03fc-428d-ac61-c7c96712a1ac.MOBGRMFKKDQ2A3V4.SEARCH&ppt=hp&ppn=homepage&ssid=7gn4beomgw0000001694263541535&qH=16e35e1c76bc3b93', 'https://www.flipkart.com/redmi-12-pastel-blue-128-gb/p/itm48719506a7ceb?pid=MOBGRMFKKGYD9ETX&lid=LSTMOBGRMFKKGYD9ETX5KD9VL&marketplace=FLIPKART&q=redmi+smartphone&store=tyy%2F4io&spotlightTagId=BestsellerId_tyy%2F4io&srno=s_1_4&otracker=search&otracker1=search&fm=organic&iid=a35484ac-03fc-428d-ac61-c7c96712a1ac.MOBGRMFKKGYD9ETX.SEARCH&ppt=hp&ppn=homepage&ssid=7gn4beomgw0000001694263541535&qH=16e35e1c76bc3b93', 'https://www.flipkart.com/redmi-a1-black-32-gb/p/itm70b00a77a7d1d?pid=MOBGGYBABVXHHRDQ&lid=LSTMOBGGYBABVXHHRDQI6PZV5&marketplace=FLIPKART&q=redmi+smartphone&store=tyy%2F4io&srno=s_1_5&otracker=search&otracker1=search&fm=organic&iid=a35484ac-03fc-428d-ac61-c7c96712a1ac.MOBGGYBABVXHHRDQ.SEARCH&ppt=hp&ppn=homepage&ssid=7gn4beomgw0000001694263541535&qH=16e35e1c76bc3b93', 'https://www.flipkart.com/redmi-a2-aqua-blue-64-gb/p/itm5d49be2c0a95a?pid=MOBGR4UZWNAYKSUH&lid=LSTMOBGR4UZWNAYKSUHE3CTOU&marketplace=FLIPKART&q=redmi+smartphone&store=tyy%2F4io&srno=s_1_6&otracker=search&otracker1=search&fm=organic&iid=a35484ac-03fc-428d-ac61-c7c96712a1ac.MOBGR4UZWNAYKSUH.SEARCH&ppt=hp&ppn=homepage&ssid=7gn4beomgw0000001694263541535&qH=16e35e1c76bc3b93', 'https://www.flipkart.com/redmi-a2-classic-black-64-gb/p/itm5d49be2c0a95a?pid=MOBGPVYHRXZ3PFZU&lid=LSTMOBGPVYHRXZ3PFZU0QHLLF&marketplace=FLIPKART&q=redmi+smartphone&store=tyy%2F4io&srno=s_1_7&otracker=search&otracker1=search&fm=organic&iid=a35484ac-03fc-428d-ac61-c7c96712a1ac.MOBGPVYHRXZ3PFZU.SEARCH&ppt=hp&ppn=homepage&ssid=7gn4beomgw0000001694263541535&qH=16e35e1c76bc3b93', 'https://www.flipkart.com/redmi-a2-sea-green-32-gb/p/itm5d49be2c0a95a?pid=MOBGPVYATHJDTSSR&lid=LSTMOBGPVYATHJDTSSR6JMF4X&marketplace=FLIPKART&q=redmi+smartphone&store=tyy%2F4io&srno=s_1_8&otracker=search&otracker1=search&fm=organic&iid=a35484ac-03fc-428d-ac61-c7c96712a1ac.MOBGPVYATHJDTSSR.SEARCH&ppt=hp&ppn=homepage&ssid=7gn4beomgw0000001694263541535&qH=16e35e1c76bc3b93', 'https://www.flipkart.com/redmi-a2-aqua-blue-64-gb/p/itm5d49be2c0a95a?pid=MOBGPVYMG9RWX6XY&lid=LSTMOBGPVYMG9RWX6XYCWTZEK&marketplace=FLIPKART&q=redmi+smartphone&store=tyy%2F4io&srno=s_1_9&otracker=search&otracker1=search&fm=organic&iid=a35484ac-03fc-428d-ac61-c7c96712a1ac.MOBGPVYMG9RWX6XY.SEARCH&ppt=hp&ppn=homepage&ssid=7gn4beomgw0000001694263541535&qH=16e35e1c76bc3b93', 'https://www.flipkart.com/redmi-12-pastel-blue-128-gb/p/itm9b1a6640faccd?pid=MOBGRMFKAHNTZPWE&lid=LSTMOBGRMFKAHNTZPWE1H5IWS&marketplace=FLIPKART&q=redmi+smartphone&store=tyy%2F4io&srno=s_1_10&otracker=search&otracker1=search&fm=organic&iid=a35484ac-03fc-428d-ac61-c7c96712a1ac.MOBGRMFKAHNTZPWE.SEARCH&ppt=hp&ppn=homepage&ssid=7gn4beomgw0000001694263541535&qH=16e35e1c76bc3b93', 'https://www.flipkart.com/redmi-a2-aqua-blue-32-gb/p/itm5d49be2c0a95a?pid=MOBGPUZR8GHCE5ZQ&lid=LSTMOBGPUZR8GHCE5ZQ1P4DF9&marketplace=FLIPKART&q=redmi+smartphone&store=tyy%2F4io&srno=s_1_11&otracker=search&otracker1=search&fm=organic&iid=a35484ac-03fc-428d-ac61-c7c96712a1ac.MOBGPUZR8GHCE5ZQ.SEARCH&ppt=hp&ppn=homepage&ssid=7gn4beomgw0000001694263541535&qH=16e35e1c76bc3b93', 'https://www.flipkart.com/redmi-10-power-power-black-128-gb/p/itm97f5d2ec83588?pid=MOBGHDXFYKKZFZGV&lid=LSTMOBGHDXFYKKZFZGVE0QYTC&marketplace=FLIPKART&q=redmi+smartphone&store=tyy%2F4io&srno=s_1_12&otracker=search&otracker1=search&fm=organic&iid=a35484ac-03fc-428d-ac61-c7c96712a1ac.MOBGHDXFYKKZFZGV.SEARCH&ppt=hp&ppn=homepage&ssid=7gn4beomgw0000001694263541535&qH=16e35e1c76bc3b93', 'https://www.flipkart.com/redmi-6a-blue-16-gb/p/itm1ed294a755383?pid=MOBF9Z2Z3YDBSF6V&lid=LSTMOBF9Z2Z3YDBSF6VX16ZOH&marketplace=FLIPKART&q=redmi+smartphone&store=tyy%2F4io&srno=s_1_13&otracker=search&otracker1=search&fm=organic&iid=a35484ac-03fc-428d-ac61-c7c96712a1ac.MOBF9Z2Z3YDBSF6V.SEARCH&ppt=hp&ppn=homepage&ssid=7gn4beomgw0000001694263541535&qH=16e35e1c76bc3b93', 'https://www.flipkart.com/redmi-12-moonstone-silver-128-gb/p/itm6722b15672602?pid=MOBGRMFK4CSR7GGH&lid=LSTMOBGRMFK4CSR7GGHHKEX2Z&marketplace=FLIPKART&q=redmi+smartphone&store=tyy%2F4io&srno=s_1_14&otracker=search&otracker1=search&fm=organic&iid=a35484ac-03fc-428d-ac61-c7c96712a1ac.MOBGRMFK4CSR7GGH.SEARCH&ppt=hp&ppn=homepage&ssid=7gn4beomgw0000001694263541535&qH=16e35e1c76bc3b93', 'https://www.flipkart.com/redmi-a1-light-green-32-gb/p/itmecc9e7ba0a1df?pid=MOBGGYBAHSAJVKHP&lid=LSTMOBGGYBAHSAJVKHP4UBD9A&marketplace=FLIPKART&q=redmi+smartphone&store=tyy%2F4io&srno=s_1_15&otracker=search&otracker1=search&fm=organic&iid=a35484ac-03fc-428d-ac61-c7c96712a1ac.MOBGGYBAHSAJVKHP.SEARCH&ppt=hp&ppn=homepage&ssid=7gn4beomgw0000001694263541535&qH=16e35e1c76bc3b93', 'https://www.flipkart.com/redmi-11-prime-flashy-black-128-gb/p/itm01f508ea28ab0?pid=MOBGZHFGNDNWAZKZ&lid=LSTMOBGZHFGNDNWAZKZUMANTL&marketplace=FLIPKART&q=redmi+smartphone&store=tyy%2F4io&srno=s_1_16&otracker=search&otracker1=search&fm=organic&iid=a35484ac-03fc-428d-ac61-c7c96712a1ac.MOBGZHFGNDNWAZKZ.SEARCH&ppt=hp&ppn=homepage&ssid=7gn4beomgw0000001694263541535&qH=16e35e1c76bc3b93', 'https://www.flipkart.com/redmi-11-prime-playful-green-128-gb/p/itm0b080e6994972?pid=MOBGZHFGZQMESCDK&lid=LSTMOBGZHFGZQMESCDKZ6ILTE&marketplace=FLIPKART&q=redmi+smartphone&store=tyy%2F4io&srno=s_1_17&otracker=search&otracker1=search&fm=organic&iid=a35484ac-03fc-428d-ac61-c7c96712a1ac.MOBGZHFGZQMESCDK.SEARCH&ppt=hp&ppn=homepage&ssid=7gn4beomgw0000001694263541535&qH=16e35e1c76bc3b93', 'https://www.flipkart.com/redmi-a2-sea-green-64-gb/p/itm5d49be2c0a95a?pid=MOBGPVYEHMPGNCBZ&lid=LSTMOBGPVYEHMPGNCBZHUKI4Z&marketplace=FLIPKART&q=redmi+smartphone&store=tyy%2F4io&srno=s_1_18&otracker=search&otracker1=search&fm=organic&iid=a35484ac-03fc-428d-ac61-c7c96712a1ac.MOBGPVYEHMPGNCBZ.SEARCH&ppt=hp&ppn=homepage&ssid=7gn4beomgw0000001694263541535&qH=16e35e1c76bc3b93', 'https://www.flipkart.com/redmi-a2-classic-black-64-gb/p/itm5d49be2c0a95a?pid=MOBGRHB6XAEUADQB&lid=LSTMOBGRHB6XAEUADQBAI4AJ4&marketplace=FLIPKART&q=redmi+smartphone&store=tyy%2F4io&srno=s_1_19&otracker=search&otracker1=search&fm=organic&iid=a35484ac-03fc-428d-ac61-c7c96712a1ac.MOBGRHB6XAEUADQB.SEARCH&ppt=hp&ppn=homepage&ssid=7gn4beomgw0000001694263541535&qH=16e35e1c76bc3b93', 'https://www.flipkart.com/redmi-12-jade-black-128-gb/p/itmb7050ec01c09f?pid=MOBGRMFKTHKQSJEG&lid=LSTMOBGRMFKTHKQSJEGQK3FM2&marketplace=FLIPKART&q=redmi+smartphone&store=tyy%2F4io&srno=s_1_20&otracker=search&otracker1=search&fm=organic&iid=a35484ac-03fc-428d-ac61-c7c96712a1ac.MOBGRMFKTHKQSJEG.SEARCH&ppt=hp&ppn=homepage&ssid=7gn4beomgw0000001694263541535&qH=16e35e1c76bc3b93', 'https://www.flipkart.com/redmi-12-5g-jade-black-128-gb/p/itm0c8ba13f6fc5b?pid=MOBGS7GYGUAJ4UYZ&lid=LSTMOBGS7GYGUAJ4UYZQQUS5Q&marketplace=FLIPKART&q=redmi+smartphone&store=tyy%2F4io&srno=s_1_21&otracker=search&otracker1=search&fm=organic&iid=a35484ac-03fc-428d-ac61-c7c96712a1ac.MOBGS7GYGUAJ4UYZ.SEARCH&ppt=hp&ppn=homepage&ssid=7gn4beomgw0000001694263541535&qH=16e35e1c76bc3b93', 'https://www.flipkart.com/redmi-note-12-ice-blue-64-gb/p/itmee415766dfc1a?pid=MOBGNYHZYZ4CNTCM&lid=LSTMOBGNYHZYZ4CNTCMVONB0S&marketplace=FLIPKART&q=redmi+smartphone&store=tyy%2F4io&srno=s_1_22&otracker=search&otracker1=search&fm=organic&iid=a35484ac-03fc-428d-ac61-c7c96712a1ac.MOBGNYHZYZ4CNTCM.SEARCH&ppt=hp&ppn=homepage&ssid=7gn4beomgw0000001694263541535&qH=16e35e1c76bc3b93', 'https://www.flipkart.com/redmi-note-12-lunar-black-64-gb/p/itm6756d6e7a86be?pid=MOBGNYHZJGGE3ZHM&lid=LSTMOBGNYHZJGGE3ZHMWSTXBO&marketplace=FLIPKART&q=redmi+smartphone&store=tyy%2F4io&srno=s_1_23&otracker=search&otracker1=search&fm=organic&iid=a35484ac-03fc-428d-ac61-c7c96712a1ac.MOBGNYHZJGGE3ZHM.SEARCH&ppt=hp&ppn=homepage&ssid=7gn4beomgw0000001694263541535&qH=16e35e1c76bc3b93', 'https://www.flipkart.com/redmi-note-12-sunrise-gold-64-gb/p/itm5d170187bcbf0?pid=MOBGNYHZ7ZGHES2V&lid=LSTMOBGNYHZ7ZGHES2VQILAET&marketplace=FLIPKART&q=redmi+smartphone&store=tyy%2F4io&srno=s_1_24&otracker=search&otracker1=search&fm=organic&iid=a35484ac-03fc-428d-ac61-c7c96712a1ac.MOBGNYHZ7ZGHES2V.SEARCH&ppt=hp&ppn=homepage&ssid=7gn4beomgw0000001694263541535&qH=16e35e1c76bc3b93']\n"
     ]
    },
    {
     "name": "stdout",
     "output_type": "stream",
     "text": [
      "['https://www.flipkart.com/redmi-12-moonstone-silver-128-gb/p/itme52e778c12701?pid=MOBGRMFK2MGRNG4Q&lid=LSTMOBGRMFK2MGRNG4QFZLVXT&marketplace=FLIPKART&q=redmi+smartphone&store=tyy%2F4io&spotlightTagId=BestsellerId_tyy%2F4io&srno=s_1_1&otracker=search&otracker1=search&fm=Search&iid=a35484ac-03fc-428d-ac61-c7c96712a1ac.MOBGRMFK2MGRNG4Q.SEARCH&ppt=sp&ppn=sp&ssid=7gn4beomgw0000001694263541535&qH=16e35e1c76bc3b93', 'https://www.flipkart.com/redmi-11-prime-peppy-purple-128-gb/p/itm52d6b0fe396e9?pid=MOBGZHFGUHYSHQYM&lid=LSTMOBGZHFGUHYSHQYMWGOOJ0&marketplace=FLIPKART&q=redmi+smartphone&store=tyy%2F4io&srno=s_1_2&otracker=search&otracker1=search&fm=organic&iid=a35484ac-03fc-428d-ac61-c7c96712a1ac.MOBGZHFGUHYSHQYM.SEARCH&ppt=hp&ppn=homepage&ssid=7gn4beomgw0000001694263541535&qH=16e35e1c76bc3b93', 'https://www.flipkart.com/redmi-12-jade-black-128-gb/p/itm7b10fd42f78b2?pid=MOBGRMFKKDQ2A3V4&lid=LSTMOBGRMFKKDQ2A3V4XZOVEW&marketplace=FLIPKART&q=redmi+smartphone&store=tyy%2F4io&spotlightTagId=BestsellerId_tyy%2F4io&srno=s_1_3&otracker=search&otracker1=search&fm=organic&iid=a35484ac-03fc-428d-ac61-c7c96712a1ac.MOBGRMFKKDQ2A3V4.SEARCH&ppt=hp&ppn=homepage&ssid=7gn4beomgw0000001694263541535&qH=16e35e1c76bc3b93', 'https://www.flipkart.com/redmi-12-pastel-blue-128-gb/p/itm48719506a7ceb?pid=MOBGRMFKKGYD9ETX&lid=LSTMOBGRMFKKGYD9ETX5KD9VL&marketplace=FLIPKART&q=redmi+smartphone&store=tyy%2F4io&spotlightTagId=BestsellerId_tyy%2F4io&srno=s_1_4&otracker=search&otracker1=search&fm=organic&iid=a35484ac-03fc-428d-ac61-c7c96712a1ac.MOBGRMFKKGYD9ETX.SEARCH&ppt=hp&ppn=homepage&ssid=7gn4beomgw0000001694263541535&qH=16e35e1c76bc3b93', 'https://www.flipkart.com/redmi-a1-black-32-gb/p/itm70b00a77a7d1d?pid=MOBGGYBABVXHHRDQ&lid=LSTMOBGGYBABVXHHRDQI6PZV5&marketplace=FLIPKART&q=redmi+smartphone&store=tyy%2F4io&srno=s_1_5&otracker=search&otracker1=search&fm=organic&iid=a35484ac-03fc-428d-ac61-c7c96712a1ac.MOBGGYBABVXHHRDQ.SEARCH&ppt=hp&ppn=homepage&ssid=7gn4beomgw0000001694263541535&qH=16e35e1c76bc3b93', 'https://www.flipkart.com/redmi-a2-aqua-blue-64-gb/p/itm5d49be2c0a95a?pid=MOBGR4UZWNAYKSUH&lid=LSTMOBGR4UZWNAYKSUHE3CTOU&marketplace=FLIPKART&q=redmi+smartphone&store=tyy%2F4io&srno=s_1_6&otracker=search&otracker1=search&fm=organic&iid=a35484ac-03fc-428d-ac61-c7c96712a1ac.MOBGR4UZWNAYKSUH.SEARCH&ppt=hp&ppn=homepage&ssid=7gn4beomgw0000001694263541535&qH=16e35e1c76bc3b93', 'https://www.flipkart.com/redmi-a2-classic-black-64-gb/p/itm5d49be2c0a95a?pid=MOBGPVYHRXZ3PFZU&lid=LSTMOBGPVYHRXZ3PFZU0QHLLF&marketplace=FLIPKART&q=redmi+smartphone&store=tyy%2F4io&srno=s_1_7&otracker=search&otracker1=search&fm=organic&iid=a35484ac-03fc-428d-ac61-c7c96712a1ac.MOBGPVYHRXZ3PFZU.SEARCH&ppt=hp&ppn=homepage&ssid=7gn4beomgw0000001694263541535&qH=16e35e1c76bc3b93', 'https://www.flipkart.com/redmi-a2-sea-green-32-gb/p/itm5d49be2c0a95a?pid=MOBGPVYATHJDTSSR&lid=LSTMOBGPVYATHJDTSSR6JMF4X&marketplace=FLIPKART&q=redmi+smartphone&store=tyy%2F4io&srno=s_1_8&otracker=search&otracker1=search&fm=organic&iid=a35484ac-03fc-428d-ac61-c7c96712a1ac.MOBGPVYATHJDTSSR.SEARCH&ppt=hp&ppn=homepage&ssid=7gn4beomgw0000001694263541535&qH=16e35e1c76bc3b93', 'https://www.flipkart.com/redmi-a2-aqua-blue-64-gb/p/itm5d49be2c0a95a?pid=MOBGPVYMG9RWX6XY&lid=LSTMOBGPVYMG9RWX6XYCWTZEK&marketplace=FLIPKART&q=redmi+smartphone&store=tyy%2F4io&srno=s_1_9&otracker=search&otracker1=search&fm=organic&iid=a35484ac-03fc-428d-ac61-c7c96712a1ac.MOBGPVYMG9RWX6XY.SEARCH&ppt=hp&ppn=homepage&ssid=7gn4beomgw0000001694263541535&qH=16e35e1c76bc3b93', 'https://www.flipkart.com/redmi-12-pastel-blue-128-gb/p/itm9b1a6640faccd?pid=MOBGRMFKAHNTZPWE&lid=LSTMOBGRMFKAHNTZPWE1H5IWS&marketplace=FLIPKART&q=redmi+smartphone&store=tyy%2F4io&srno=s_1_10&otracker=search&otracker1=search&fm=organic&iid=a35484ac-03fc-428d-ac61-c7c96712a1ac.MOBGRMFKAHNTZPWE.SEARCH&ppt=hp&ppn=homepage&ssid=7gn4beomgw0000001694263541535&qH=16e35e1c76bc3b93', 'https://www.flipkart.com/redmi-a2-aqua-blue-32-gb/p/itm5d49be2c0a95a?pid=MOBGPUZR8GHCE5ZQ&lid=LSTMOBGPUZR8GHCE5ZQ1P4DF9&marketplace=FLIPKART&q=redmi+smartphone&store=tyy%2F4io&srno=s_1_11&otracker=search&otracker1=search&fm=organic&iid=a35484ac-03fc-428d-ac61-c7c96712a1ac.MOBGPUZR8GHCE5ZQ.SEARCH&ppt=hp&ppn=homepage&ssid=7gn4beomgw0000001694263541535&qH=16e35e1c76bc3b93', 'https://www.flipkart.com/redmi-10-power-power-black-128-gb/p/itm97f5d2ec83588?pid=MOBGHDXFYKKZFZGV&lid=LSTMOBGHDXFYKKZFZGVE0QYTC&marketplace=FLIPKART&q=redmi+smartphone&store=tyy%2F4io&srno=s_1_12&otracker=search&otracker1=search&fm=organic&iid=a35484ac-03fc-428d-ac61-c7c96712a1ac.MOBGHDXFYKKZFZGV.SEARCH&ppt=hp&ppn=homepage&ssid=7gn4beomgw0000001694263541535&qH=16e35e1c76bc3b93', 'https://www.flipkart.com/redmi-6a-blue-16-gb/p/itm1ed294a755383?pid=MOBF9Z2Z3YDBSF6V&lid=LSTMOBF9Z2Z3YDBSF6VX16ZOH&marketplace=FLIPKART&q=redmi+smartphone&store=tyy%2F4io&srno=s_1_13&otracker=search&otracker1=search&fm=organic&iid=a35484ac-03fc-428d-ac61-c7c96712a1ac.MOBF9Z2Z3YDBSF6V.SEARCH&ppt=hp&ppn=homepage&ssid=7gn4beomgw0000001694263541535&qH=16e35e1c76bc3b93', 'https://www.flipkart.com/redmi-12-moonstone-silver-128-gb/p/itm6722b15672602?pid=MOBGRMFK4CSR7GGH&lid=LSTMOBGRMFK4CSR7GGHHKEX2Z&marketplace=FLIPKART&q=redmi+smartphone&store=tyy%2F4io&srno=s_1_14&otracker=search&otracker1=search&fm=organic&iid=a35484ac-03fc-428d-ac61-c7c96712a1ac.MOBGRMFK4CSR7GGH.SEARCH&ppt=hp&ppn=homepage&ssid=7gn4beomgw0000001694263541535&qH=16e35e1c76bc3b93', 'https://www.flipkart.com/redmi-a1-light-green-32-gb/p/itmecc9e7ba0a1df?pid=MOBGGYBAHSAJVKHP&lid=LSTMOBGGYBAHSAJVKHP4UBD9A&marketplace=FLIPKART&q=redmi+smartphone&store=tyy%2F4io&srno=s_1_15&otracker=search&otracker1=search&fm=organic&iid=a35484ac-03fc-428d-ac61-c7c96712a1ac.MOBGGYBAHSAJVKHP.SEARCH&ppt=hp&ppn=homepage&ssid=7gn4beomgw0000001694263541535&qH=16e35e1c76bc3b93', 'https://www.flipkart.com/redmi-11-prime-flashy-black-128-gb/p/itm01f508ea28ab0?pid=MOBGZHFGNDNWAZKZ&lid=LSTMOBGZHFGNDNWAZKZUMANTL&marketplace=FLIPKART&q=redmi+smartphone&store=tyy%2F4io&srno=s_1_16&otracker=search&otracker1=search&fm=organic&iid=a35484ac-03fc-428d-ac61-c7c96712a1ac.MOBGZHFGNDNWAZKZ.SEARCH&ppt=hp&ppn=homepage&ssid=7gn4beomgw0000001694263541535&qH=16e35e1c76bc3b93', 'https://www.flipkart.com/redmi-11-prime-playful-green-128-gb/p/itm0b080e6994972?pid=MOBGZHFGZQMESCDK&lid=LSTMOBGZHFGZQMESCDKZ6ILTE&marketplace=FLIPKART&q=redmi+smartphone&store=tyy%2F4io&srno=s_1_17&otracker=search&otracker1=search&fm=organic&iid=a35484ac-03fc-428d-ac61-c7c96712a1ac.MOBGZHFGZQMESCDK.SEARCH&ppt=hp&ppn=homepage&ssid=7gn4beomgw0000001694263541535&qH=16e35e1c76bc3b93', 'https://www.flipkart.com/redmi-a2-sea-green-64-gb/p/itm5d49be2c0a95a?pid=MOBGPVYEHMPGNCBZ&lid=LSTMOBGPVYEHMPGNCBZHUKI4Z&marketplace=FLIPKART&q=redmi+smartphone&store=tyy%2F4io&srno=s_1_18&otracker=search&otracker1=search&fm=organic&iid=a35484ac-03fc-428d-ac61-c7c96712a1ac.MOBGPVYEHMPGNCBZ.SEARCH&ppt=hp&ppn=homepage&ssid=7gn4beomgw0000001694263541535&qH=16e35e1c76bc3b93', 'https://www.flipkart.com/redmi-a2-classic-black-64-gb/p/itm5d49be2c0a95a?pid=MOBGRHB6XAEUADQB&lid=LSTMOBGRHB6XAEUADQBAI4AJ4&marketplace=FLIPKART&q=redmi+smartphone&store=tyy%2F4io&srno=s_1_19&otracker=search&otracker1=search&fm=organic&iid=a35484ac-03fc-428d-ac61-c7c96712a1ac.MOBGRHB6XAEUADQB.SEARCH&ppt=hp&ppn=homepage&ssid=7gn4beomgw0000001694263541535&qH=16e35e1c76bc3b93', 'https://www.flipkart.com/redmi-12-jade-black-128-gb/p/itmb7050ec01c09f?pid=MOBGRMFKTHKQSJEG&lid=LSTMOBGRMFKTHKQSJEGQK3FM2&marketplace=FLIPKART&q=redmi+smartphone&store=tyy%2F4io&srno=s_1_20&otracker=search&otracker1=search&fm=organic&iid=a35484ac-03fc-428d-ac61-c7c96712a1ac.MOBGRMFKTHKQSJEG.SEARCH&ppt=hp&ppn=homepage&ssid=7gn4beomgw0000001694263541535&qH=16e35e1c76bc3b93', 'https://www.flipkart.com/redmi-12-5g-jade-black-128-gb/p/itm0c8ba13f6fc5b?pid=MOBGS7GYGUAJ4UYZ&lid=LSTMOBGS7GYGUAJ4UYZQQUS5Q&marketplace=FLIPKART&q=redmi+smartphone&store=tyy%2F4io&srno=s_1_21&otracker=search&otracker1=search&fm=organic&iid=a35484ac-03fc-428d-ac61-c7c96712a1ac.MOBGS7GYGUAJ4UYZ.SEARCH&ppt=hp&ppn=homepage&ssid=7gn4beomgw0000001694263541535&qH=16e35e1c76bc3b93', 'https://www.flipkart.com/redmi-note-12-ice-blue-64-gb/p/itmee415766dfc1a?pid=MOBGNYHZYZ4CNTCM&lid=LSTMOBGNYHZYZ4CNTCMVONB0S&marketplace=FLIPKART&q=redmi+smartphone&store=tyy%2F4io&srno=s_1_22&otracker=search&otracker1=search&fm=organic&iid=a35484ac-03fc-428d-ac61-c7c96712a1ac.MOBGNYHZYZ4CNTCM.SEARCH&ppt=hp&ppn=homepage&ssid=7gn4beomgw0000001694263541535&qH=16e35e1c76bc3b93', 'https://www.flipkart.com/redmi-note-12-lunar-black-64-gb/p/itm6756d6e7a86be?pid=MOBGNYHZJGGE3ZHM&lid=LSTMOBGNYHZJGGE3ZHMWSTXBO&marketplace=FLIPKART&q=redmi+smartphone&store=tyy%2F4io&srno=s_1_23&otracker=search&otracker1=search&fm=organic&iid=a35484ac-03fc-428d-ac61-c7c96712a1ac.MOBGNYHZJGGE3ZHM.SEARCH&ppt=hp&ppn=homepage&ssid=7gn4beomgw0000001694263541535&qH=16e35e1c76bc3b93', 'https://www.flipkart.com/redmi-note-12-sunrise-gold-64-gb/p/itm5d170187bcbf0?pid=MOBGNYHZ7ZGHES2V&lid=LSTMOBGNYHZ7ZGHES2VQILAET&marketplace=FLIPKART&q=redmi+smartphone&store=tyy%2F4io&srno=s_1_24&otracker=search&otracker1=search&fm=organic&iid=a35484ac-03fc-428d-ac61-c7c96712a1ac.MOBGNYHZ7ZGHES2V.SEARCH&ppt=hp&ppn=homepage&ssid=7gn4beomgw0000001694263541535&qH=16e35e1c76bc3b93']\n",
      "['https://www.flipkart.com/redmi-12-moonstone-silver-128-gb/p/itme52e778c12701?pid=MOBGRMFK2MGRNG4Q&lid=LSTMOBGRMFK2MGRNG4QFZLVXT&marketplace=FLIPKART&q=redmi+smartphone&store=tyy%2F4io&spotlightTagId=BestsellerId_tyy%2F4io&srno=s_1_1&otracker=search&otracker1=search&fm=Search&iid=a35484ac-03fc-428d-ac61-c7c96712a1ac.MOBGRMFK2MGRNG4Q.SEARCH&ppt=sp&ppn=sp&ssid=7gn4beomgw0000001694263541535&qH=16e35e1c76bc3b93', 'https://www.flipkart.com/redmi-11-prime-peppy-purple-128-gb/p/itm52d6b0fe396e9?pid=MOBGZHFGUHYSHQYM&lid=LSTMOBGZHFGUHYSHQYMWGOOJ0&marketplace=FLIPKART&q=redmi+smartphone&store=tyy%2F4io&srno=s_1_2&otracker=search&otracker1=search&fm=organic&iid=a35484ac-03fc-428d-ac61-c7c96712a1ac.MOBGZHFGUHYSHQYM.SEARCH&ppt=hp&ppn=homepage&ssid=7gn4beomgw0000001694263541535&qH=16e35e1c76bc3b93', 'https://www.flipkart.com/redmi-12-jade-black-128-gb/p/itm7b10fd42f78b2?pid=MOBGRMFKKDQ2A3V4&lid=LSTMOBGRMFKKDQ2A3V4XZOVEW&marketplace=FLIPKART&q=redmi+smartphone&store=tyy%2F4io&spotlightTagId=BestsellerId_tyy%2F4io&srno=s_1_3&otracker=search&otracker1=search&fm=organic&iid=a35484ac-03fc-428d-ac61-c7c96712a1ac.MOBGRMFKKDQ2A3V4.SEARCH&ppt=hp&ppn=homepage&ssid=7gn4beomgw0000001694263541535&qH=16e35e1c76bc3b93', 'https://www.flipkart.com/redmi-12-pastel-blue-128-gb/p/itm48719506a7ceb?pid=MOBGRMFKKGYD9ETX&lid=LSTMOBGRMFKKGYD9ETX5KD9VL&marketplace=FLIPKART&q=redmi+smartphone&store=tyy%2F4io&spotlightTagId=BestsellerId_tyy%2F4io&srno=s_1_4&otracker=search&otracker1=search&fm=organic&iid=a35484ac-03fc-428d-ac61-c7c96712a1ac.MOBGRMFKKGYD9ETX.SEARCH&ppt=hp&ppn=homepage&ssid=7gn4beomgw0000001694263541535&qH=16e35e1c76bc3b93', 'https://www.flipkart.com/redmi-a1-black-32-gb/p/itm70b00a77a7d1d?pid=MOBGGYBABVXHHRDQ&lid=LSTMOBGGYBABVXHHRDQI6PZV5&marketplace=FLIPKART&q=redmi+smartphone&store=tyy%2F4io&srno=s_1_5&otracker=search&otracker1=search&fm=organic&iid=a35484ac-03fc-428d-ac61-c7c96712a1ac.MOBGGYBABVXHHRDQ.SEARCH&ppt=hp&ppn=homepage&ssid=7gn4beomgw0000001694263541535&qH=16e35e1c76bc3b93', 'https://www.flipkart.com/redmi-a2-aqua-blue-64-gb/p/itm5d49be2c0a95a?pid=MOBGR4UZWNAYKSUH&lid=LSTMOBGR4UZWNAYKSUHE3CTOU&marketplace=FLIPKART&q=redmi+smartphone&store=tyy%2F4io&srno=s_1_6&otracker=search&otracker1=search&fm=organic&iid=a35484ac-03fc-428d-ac61-c7c96712a1ac.MOBGR4UZWNAYKSUH.SEARCH&ppt=hp&ppn=homepage&ssid=7gn4beomgw0000001694263541535&qH=16e35e1c76bc3b93', 'https://www.flipkart.com/redmi-a2-classic-black-64-gb/p/itm5d49be2c0a95a?pid=MOBGPVYHRXZ3PFZU&lid=LSTMOBGPVYHRXZ3PFZU0QHLLF&marketplace=FLIPKART&q=redmi+smartphone&store=tyy%2F4io&srno=s_1_7&otracker=search&otracker1=search&fm=organic&iid=a35484ac-03fc-428d-ac61-c7c96712a1ac.MOBGPVYHRXZ3PFZU.SEARCH&ppt=hp&ppn=homepage&ssid=7gn4beomgw0000001694263541535&qH=16e35e1c76bc3b93', 'https://www.flipkart.com/redmi-a2-sea-green-32-gb/p/itm5d49be2c0a95a?pid=MOBGPVYATHJDTSSR&lid=LSTMOBGPVYATHJDTSSR6JMF4X&marketplace=FLIPKART&q=redmi+smartphone&store=tyy%2F4io&srno=s_1_8&otracker=search&otracker1=search&fm=organic&iid=a35484ac-03fc-428d-ac61-c7c96712a1ac.MOBGPVYATHJDTSSR.SEARCH&ppt=hp&ppn=homepage&ssid=7gn4beomgw0000001694263541535&qH=16e35e1c76bc3b93', 'https://www.flipkart.com/redmi-a2-aqua-blue-64-gb/p/itm5d49be2c0a95a?pid=MOBGPVYMG9RWX6XY&lid=LSTMOBGPVYMG9RWX6XYCWTZEK&marketplace=FLIPKART&q=redmi+smartphone&store=tyy%2F4io&srno=s_1_9&otracker=search&otracker1=search&fm=organic&iid=a35484ac-03fc-428d-ac61-c7c96712a1ac.MOBGPVYMG9RWX6XY.SEARCH&ppt=hp&ppn=homepage&ssid=7gn4beomgw0000001694263541535&qH=16e35e1c76bc3b93', 'https://www.flipkart.com/redmi-12-pastel-blue-128-gb/p/itm9b1a6640faccd?pid=MOBGRMFKAHNTZPWE&lid=LSTMOBGRMFKAHNTZPWE1H5IWS&marketplace=FLIPKART&q=redmi+smartphone&store=tyy%2F4io&srno=s_1_10&otracker=search&otracker1=search&fm=organic&iid=a35484ac-03fc-428d-ac61-c7c96712a1ac.MOBGRMFKAHNTZPWE.SEARCH&ppt=hp&ppn=homepage&ssid=7gn4beomgw0000001694263541535&qH=16e35e1c76bc3b93', 'https://www.flipkart.com/redmi-a2-aqua-blue-32-gb/p/itm5d49be2c0a95a?pid=MOBGPUZR8GHCE5ZQ&lid=LSTMOBGPUZR8GHCE5ZQ1P4DF9&marketplace=FLIPKART&q=redmi+smartphone&store=tyy%2F4io&srno=s_1_11&otracker=search&otracker1=search&fm=organic&iid=a35484ac-03fc-428d-ac61-c7c96712a1ac.MOBGPUZR8GHCE5ZQ.SEARCH&ppt=hp&ppn=homepage&ssid=7gn4beomgw0000001694263541535&qH=16e35e1c76bc3b93', 'https://www.flipkart.com/redmi-10-power-power-black-128-gb/p/itm97f5d2ec83588?pid=MOBGHDXFYKKZFZGV&lid=LSTMOBGHDXFYKKZFZGVE0QYTC&marketplace=FLIPKART&q=redmi+smartphone&store=tyy%2F4io&srno=s_1_12&otracker=search&otracker1=search&fm=organic&iid=a35484ac-03fc-428d-ac61-c7c96712a1ac.MOBGHDXFYKKZFZGV.SEARCH&ppt=hp&ppn=homepage&ssid=7gn4beomgw0000001694263541535&qH=16e35e1c76bc3b93', 'https://www.flipkart.com/redmi-6a-blue-16-gb/p/itm1ed294a755383?pid=MOBF9Z2Z3YDBSF6V&lid=LSTMOBF9Z2Z3YDBSF6VX16ZOH&marketplace=FLIPKART&q=redmi+smartphone&store=tyy%2F4io&srno=s_1_13&otracker=search&otracker1=search&fm=organic&iid=a35484ac-03fc-428d-ac61-c7c96712a1ac.MOBF9Z2Z3YDBSF6V.SEARCH&ppt=hp&ppn=homepage&ssid=7gn4beomgw0000001694263541535&qH=16e35e1c76bc3b93', 'https://www.flipkart.com/redmi-12-moonstone-silver-128-gb/p/itm6722b15672602?pid=MOBGRMFK4CSR7GGH&lid=LSTMOBGRMFK4CSR7GGHHKEX2Z&marketplace=FLIPKART&q=redmi+smartphone&store=tyy%2F4io&srno=s_1_14&otracker=search&otracker1=search&fm=organic&iid=a35484ac-03fc-428d-ac61-c7c96712a1ac.MOBGRMFK4CSR7GGH.SEARCH&ppt=hp&ppn=homepage&ssid=7gn4beomgw0000001694263541535&qH=16e35e1c76bc3b93', 'https://www.flipkart.com/redmi-a1-light-green-32-gb/p/itmecc9e7ba0a1df?pid=MOBGGYBAHSAJVKHP&lid=LSTMOBGGYBAHSAJVKHP4UBD9A&marketplace=FLIPKART&q=redmi+smartphone&store=tyy%2F4io&srno=s_1_15&otracker=search&otracker1=search&fm=organic&iid=a35484ac-03fc-428d-ac61-c7c96712a1ac.MOBGGYBAHSAJVKHP.SEARCH&ppt=hp&ppn=homepage&ssid=7gn4beomgw0000001694263541535&qH=16e35e1c76bc3b93', 'https://www.flipkart.com/redmi-11-prime-flashy-black-128-gb/p/itm01f508ea28ab0?pid=MOBGZHFGNDNWAZKZ&lid=LSTMOBGZHFGNDNWAZKZUMANTL&marketplace=FLIPKART&q=redmi+smartphone&store=tyy%2F4io&srno=s_1_16&otracker=search&otracker1=search&fm=organic&iid=a35484ac-03fc-428d-ac61-c7c96712a1ac.MOBGZHFGNDNWAZKZ.SEARCH&ppt=hp&ppn=homepage&ssid=7gn4beomgw0000001694263541535&qH=16e35e1c76bc3b93', 'https://www.flipkart.com/redmi-11-prime-playful-green-128-gb/p/itm0b080e6994972?pid=MOBGZHFGZQMESCDK&lid=LSTMOBGZHFGZQMESCDKZ6ILTE&marketplace=FLIPKART&q=redmi+smartphone&store=tyy%2F4io&srno=s_1_17&otracker=search&otracker1=search&fm=organic&iid=a35484ac-03fc-428d-ac61-c7c96712a1ac.MOBGZHFGZQMESCDK.SEARCH&ppt=hp&ppn=homepage&ssid=7gn4beomgw0000001694263541535&qH=16e35e1c76bc3b93', 'https://www.flipkart.com/redmi-a2-sea-green-64-gb/p/itm5d49be2c0a95a?pid=MOBGPVYEHMPGNCBZ&lid=LSTMOBGPVYEHMPGNCBZHUKI4Z&marketplace=FLIPKART&q=redmi+smartphone&store=tyy%2F4io&srno=s_1_18&otracker=search&otracker1=search&fm=organic&iid=a35484ac-03fc-428d-ac61-c7c96712a1ac.MOBGPVYEHMPGNCBZ.SEARCH&ppt=hp&ppn=homepage&ssid=7gn4beomgw0000001694263541535&qH=16e35e1c76bc3b93', 'https://www.flipkart.com/redmi-a2-classic-black-64-gb/p/itm5d49be2c0a95a?pid=MOBGRHB6XAEUADQB&lid=LSTMOBGRHB6XAEUADQBAI4AJ4&marketplace=FLIPKART&q=redmi+smartphone&store=tyy%2F4io&srno=s_1_19&otracker=search&otracker1=search&fm=organic&iid=a35484ac-03fc-428d-ac61-c7c96712a1ac.MOBGRHB6XAEUADQB.SEARCH&ppt=hp&ppn=homepage&ssid=7gn4beomgw0000001694263541535&qH=16e35e1c76bc3b93', 'https://www.flipkart.com/redmi-12-jade-black-128-gb/p/itmb7050ec01c09f?pid=MOBGRMFKTHKQSJEG&lid=LSTMOBGRMFKTHKQSJEGQK3FM2&marketplace=FLIPKART&q=redmi+smartphone&store=tyy%2F4io&srno=s_1_20&otracker=search&otracker1=search&fm=organic&iid=a35484ac-03fc-428d-ac61-c7c96712a1ac.MOBGRMFKTHKQSJEG.SEARCH&ppt=hp&ppn=homepage&ssid=7gn4beomgw0000001694263541535&qH=16e35e1c76bc3b93', 'https://www.flipkart.com/redmi-12-5g-jade-black-128-gb/p/itm0c8ba13f6fc5b?pid=MOBGS7GYGUAJ4UYZ&lid=LSTMOBGS7GYGUAJ4UYZQQUS5Q&marketplace=FLIPKART&q=redmi+smartphone&store=tyy%2F4io&srno=s_1_21&otracker=search&otracker1=search&fm=organic&iid=a35484ac-03fc-428d-ac61-c7c96712a1ac.MOBGS7GYGUAJ4UYZ.SEARCH&ppt=hp&ppn=homepage&ssid=7gn4beomgw0000001694263541535&qH=16e35e1c76bc3b93', 'https://www.flipkart.com/redmi-note-12-ice-blue-64-gb/p/itmee415766dfc1a?pid=MOBGNYHZYZ4CNTCM&lid=LSTMOBGNYHZYZ4CNTCMVONB0S&marketplace=FLIPKART&q=redmi+smartphone&store=tyy%2F4io&srno=s_1_22&otracker=search&otracker1=search&fm=organic&iid=a35484ac-03fc-428d-ac61-c7c96712a1ac.MOBGNYHZYZ4CNTCM.SEARCH&ppt=hp&ppn=homepage&ssid=7gn4beomgw0000001694263541535&qH=16e35e1c76bc3b93', 'https://www.flipkart.com/redmi-note-12-lunar-black-64-gb/p/itm6756d6e7a86be?pid=MOBGNYHZJGGE3ZHM&lid=LSTMOBGNYHZJGGE3ZHMWSTXBO&marketplace=FLIPKART&q=redmi+smartphone&store=tyy%2F4io&srno=s_1_23&otracker=search&otracker1=search&fm=organic&iid=a35484ac-03fc-428d-ac61-c7c96712a1ac.MOBGNYHZJGGE3ZHM.SEARCH&ppt=hp&ppn=homepage&ssid=7gn4beomgw0000001694263541535&qH=16e35e1c76bc3b93', 'https://www.flipkart.com/redmi-note-12-sunrise-gold-64-gb/p/itm5d170187bcbf0?pid=MOBGNYHZ7ZGHES2V&lid=LSTMOBGNYHZ7ZGHES2VQILAET&marketplace=FLIPKART&q=redmi+smartphone&store=tyy%2F4io&srno=s_1_24&otracker=search&otracker1=search&fm=organic&iid=a35484ac-03fc-428d-ac61-c7c96712a1ac.MOBGNYHZ7ZGHES2V.SEARCH&ppt=hp&ppn=homepage&ssid=7gn4beomgw0000001694263541535&qH=16e35e1c76bc3b93']\n"
     ]
    },
    {
     "name": "stdout",
     "output_type": "stream",
     "text": [
      "['https://www.flipkart.com/redmi-12-moonstone-silver-128-gb/p/itme52e778c12701?pid=MOBGRMFK2MGRNG4Q&lid=LSTMOBGRMFK2MGRNG4QFZLVXT&marketplace=FLIPKART&q=redmi+smartphone&store=tyy%2F4io&spotlightTagId=BestsellerId_tyy%2F4io&srno=s_1_1&otracker=search&otracker1=search&fm=Search&iid=a35484ac-03fc-428d-ac61-c7c96712a1ac.MOBGRMFK2MGRNG4Q.SEARCH&ppt=sp&ppn=sp&ssid=7gn4beomgw0000001694263541535&qH=16e35e1c76bc3b93', 'https://www.flipkart.com/redmi-11-prime-peppy-purple-128-gb/p/itm52d6b0fe396e9?pid=MOBGZHFGUHYSHQYM&lid=LSTMOBGZHFGUHYSHQYMWGOOJ0&marketplace=FLIPKART&q=redmi+smartphone&store=tyy%2F4io&srno=s_1_2&otracker=search&otracker1=search&fm=organic&iid=a35484ac-03fc-428d-ac61-c7c96712a1ac.MOBGZHFGUHYSHQYM.SEARCH&ppt=hp&ppn=homepage&ssid=7gn4beomgw0000001694263541535&qH=16e35e1c76bc3b93', 'https://www.flipkart.com/redmi-12-jade-black-128-gb/p/itm7b10fd42f78b2?pid=MOBGRMFKKDQ2A3V4&lid=LSTMOBGRMFKKDQ2A3V4XZOVEW&marketplace=FLIPKART&q=redmi+smartphone&store=tyy%2F4io&spotlightTagId=BestsellerId_tyy%2F4io&srno=s_1_3&otracker=search&otracker1=search&fm=organic&iid=a35484ac-03fc-428d-ac61-c7c96712a1ac.MOBGRMFKKDQ2A3V4.SEARCH&ppt=hp&ppn=homepage&ssid=7gn4beomgw0000001694263541535&qH=16e35e1c76bc3b93', 'https://www.flipkart.com/redmi-12-pastel-blue-128-gb/p/itm48719506a7ceb?pid=MOBGRMFKKGYD9ETX&lid=LSTMOBGRMFKKGYD9ETX5KD9VL&marketplace=FLIPKART&q=redmi+smartphone&store=tyy%2F4io&spotlightTagId=BestsellerId_tyy%2F4io&srno=s_1_4&otracker=search&otracker1=search&fm=organic&iid=a35484ac-03fc-428d-ac61-c7c96712a1ac.MOBGRMFKKGYD9ETX.SEARCH&ppt=hp&ppn=homepage&ssid=7gn4beomgw0000001694263541535&qH=16e35e1c76bc3b93', 'https://www.flipkart.com/redmi-a1-black-32-gb/p/itm70b00a77a7d1d?pid=MOBGGYBABVXHHRDQ&lid=LSTMOBGGYBABVXHHRDQI6PZV5&marketplace=FLIPKART&q=redmi+smartphone&store=tyy%2F4io&srno=s_1_5&otracker=search&otracker1=search&fm=organic&iid=a35484ac-03fc-428d-ac61-c7c96712a1ac.MOBGGYBABVXHHRDQ.SEARCH&ppt=hp&ppn=homepage&ssid=7gn4beomgw0000001694263541535&qH=16e35e1c76bc3b93', 'https://www.flipkart.com/redmi-a2-aqua-blue-64-gb/p/itm5d49be2c0a95a?pid=MOBGR4UZWNAYKSUH&lid=LSTMOBGR4UZWNAYKSUHE3CTOU&marketplace=FLIPKART&q=redmi+smartphone&store=tyy%2F4io&srno=s_1_6&otracker=search&otracker1=search&fm=organic&iid=a35484ac-03fc-428d-ac61-c7c96712a1ac.MOBGR4UZWNAYKSUH.SEARCH&ppt=hp&ppn=homepage&ssid=7gn4beomgw0000001694263541535&qH=16e35e1c76bc3b93', 'https://www.flipkart.com/redmi-a2-classic-black-64-gb/p/itm5d49be2c0a95a?pid=MOBGPVYHRXZ3PFZU&lid=LSTMOBGPVYHRXZ3PFZU0QHLLF&marketplace=FLIPKART&q=redmi+smartphone&store=tyy%2F4io&srno=s_1_7&otracker=search&otracker1=search&fm=organic&iid=a35484ac-03fc-428d-ac61-c7c96712a1ac.MOBGPVYHRXZ3PFZU.SEARCH&ppt=hp&ppn=homepage&ssid=7gn4beomgw0000001694263541535&qH=16e35e1c76bc3b93', 'https://www.flipkart.com/redmi-a2-sea-green-32-gb/p/itm5d49be2c0a95a?pid=MOBGPVYATHJDTSSR&lid=LSTMOBGPVYATHJDTSSR6JMF4X&marketplace=FLIPKART&q=redmi+smartphone&store=tyy%2F4io&srno=s_1_8&otracker=search&otracker1=search&fm=organic&iid=a35484ac-03fc-428d-ac61-c7c96712a1ac.MOBGPVYATHJDTSSR.SEARCH&ppt=hp&ppn=homepage&ssid=7gn4beomgw0000001694263541535&qH=16e35e1c76bc3b93', 'https://www.flipkart.com/redmi-a2-aqua-blue-64-gb/p/itm5d49be2c0a95a?pid=MOBGPVYMG9RWX6XY&lid=LSTMOBGPVYMG9RWX6XYCWTZEK&marketplace=FLIPKART&q=redmi+smartphone&store=tyy%2F4io&srno=s_1_9&otracker=search&otracker1=search&fm=organic&iid=a35484ac-03fc-428d-ac61-c7c96712a1ac.MOBGPVYMG9RWX6XY.SEARCH&ppt=hp&ppn=homepage&ssid=7gn4beomgw0000001694263541535&qH=16e35e1c76bc3b93', 'https://www.flipkart.com/redmi-12-pastel-blue-128-gb/p/itm9b1a6640faccd?pid=MOBGRMFKAHNTZPWE&lid=LSTMOBGRMFKAHNTZPWE1H5IWS&marketplace=FLIPKART&q=redmi+smartphone&store=tyy%2F4io&srno=s_1_10&otracker=search&otracker1=search&fm=organic&iid=a35484ac-03fc-428d-ac61-c7c96712a1ac.MOBGRMFKAHNTZPWE.SEARCH&ppt=hp&ppn=homepage&ssid=7gn4beomgw0000001694263541535&qH=16e35e1c76bc3b93', 'https://www.flipkart.com/redmi-a2-aqua-blue-32-gb/p/itm5d49be2c0a95a?pid=MOBGPUZR8GHCE5ZQ&lid=LSTMOBGPUZR8GHCE5ZQ1P4DF9&marketplace=FLIPKART&q=redmi+smartphone&store=tyy%2F4io&srno=s_1_11&otracker=search&otracker1=search&fm=organic&iid=a35484ac-03fc-428d-ac61-c7c96712a1ac.MOBGPUZR8GHCE5ZQ.SEARCH&ppt=hp&ppn=homepage&ssid=7gn4beomgw0000001694263541535&qH=16e35e1c76bc3b93', 'https://www.flipkart.com/redmi-10-power-power-black-128-gb/p/itm97f5d2ec83588?pid=MOBGHDXFYKKZFZGV&lid=LSTMOBGHDXFYKKZFZGVE0QYTC&marketplace=FLIPKART&q=redmi+smartphone&store=tyy%2F4io&srno=s_1_12&otracker=search&otracker1=search&fm=organic&iid=a35484ac-03fc-428d-ac61-c7c96712a1ac.MOBGHDXFYKKZFZGV.SEARCH&ppt=hp&ppn=homepage&ssid=7gn4beomgw0000001694263541535&qH=16e35e1c76bc3b93', 'https://www.flipkart.com/redmi-6a-blue-16-gb/p/itm1ed294a755383?pid=MOBF9Z2Z3YDBSF6V&lid=LSTMOBF9Z2Z3YDBSF6VX16ZOH&marketplace=FLIPKART&q=redmi+smartphone&store=tyy%2F4io&srno=s_1_13&otracker=search&otracker1=search&fm=organic&iid=a35484ac-03fc-428d-ac61-c7c96712a1ac.MOBF9Z2Z3YDBSF6V.SEARCH&ppt=hp&ppn=homepage&ssid=7gn4beomgw0000001694263541535&qH=16e35e1c76bc3b93', 'https://www.flipkart.com/redmi-12-moonstone-silver-128-gb/p/itm6722b15672602?pid=MOBGRMFK4CSR7GGH&lid=LSTMOBGRMFK4CSR7GGHHKEX2Z&marketplace=FLIPKART&q=redmi+smartphone&store=tyy%2F4io&srno=s_1_14&otracker=search&otracker1=search&fm=organic&iid=a35484ac-03fc-428d-ac61-c7c96712a1ac.MOBGRMFK4CSR7GGH.SEARCH&ppt=hp&ppn=homepage&ssid=7gn4beomgw0000001694263541535&qH=16e35e1c76bc3b93', 'https://www.flipkart.com/redmi-a1-light-green-32-gb/p/itmecc9e7ba0a1df?pid=MOBGGYBAHSAJVKHP&lid=LSTMOBGGYBAHSAJVKHP4UBD9A&marketplace=FLIPKART&q=redmi+smartphone&store=tyy%2F4io&srno=s_1_15&otracker=search&otracker1=search&fm=organic&iid=a35484ac-03fc-428d-ac61-c7c96712a1ac.MOBGGYBAHSAJVKHP.SEARCH&ppt=hp&ppn=homepage&ssid=7gn4beomgw0000001694263541535&qH=16e35e1c76bc3b93', 'https://www.flipkart.com/redmi-11-prime-flashy-black-128-gb/p/itm01f508ea28ab0?pid=MOBGZHFGNDNWAZKZ&lid=LSTMOBGZHFGNDNWAZKZUMANTL&marketplace=FLIPKART&q=redmi+smartphone&store=tyy%2F4io&srno=s_1_16&otracker=search&otracker1=search&fm=organic&iid=a35484ac-03fc-428d-ac61-c7c96712a1ac.MOBGZHFGNDNWAZKZ.SEARCH&ppt=hp&ppn=homepage&ssid=7gn4beomgw0000001694263541535&qH=16e35e1c76bc3b93', 'https://www.flipkart.com/redmi-11-prime-playful-green-128-gb/p/itm0b080e6994972?pid=MOBGZHFGZQMESCDK&lid=LSTMOBGZHFGZQMESCDKZ6ILTE&marketplace=FLIPKART&q=redmi+smartphone&store=tyy%2F4io&srno=s_1_17&otracker=search&otracker1=search&fm=organic&iid=a35484ac-03fc-428d-ac61-c7c96712a1ac.MOBGZHFGZQMESCDK.SEARCH&ppt=hp&ppn=homepage&ssid=7gn4beomgw0000001694263541535&qH=16e35e1c76bc3b93', 'https://www.flipkart.com/redmi-a2-sea-green-64-gb/p/itm5d49be2c0a95a?pid=MOBGPVYEHMPGNCBZ&lid=LSTMOBGPVYEHMPGNCBZHUKI4Z&marketplace=FLIPKART&q=redmi+smartphone&store=tyy%2F4io&srno=s_1_18&otracker=search&otracker1=search&fm=organic&iid=a35484ac-03fc-428d-ac61-c7c96712a1ac.MOBGPVYEHMPGNCBZ.SEARCH&ppt=hp&ppn=homepage&ssid=7gn4beomgw0000001694263541535&qH=16e35e1c76bc3b93', 'https://www.flipkart.com/redmi-a2-classic-black-64-gb/p/itm5d49be2c0a95a?pid=MOBGRHB6XAEUADQB&lid=LSTMOBGRHB6XAEUADQBAI4AJ4&marketplace=FLIPKART&q=redmi+smartphone&store=tyy%2F4io&srno=s_1_19&otracker=search&otracker1=search&fm=organic&iid=a35484ac-03fc-428d-ac61-c7c96712a1ac.MOBGRHB6XAEUADQB.SEARCH&ppt=hp&ppn=homepage&ssid=7gn4beomgw0000001694263541535&qH=16e35e1c76bc3b93', 'https://www.flipkart.com/redmi-12-jade-black-128-gb/p/itmb7050ec01c09f?pid=MOBGRMFKTHKQSJEG&lid=LSTMOBGRMFKTHKQSJEGQK3FM2&marketplace=FLIPKART&q=redmi+smartphone&store=tyy%2F4io&srno=s_1_20&otracker=search&otracker1=search&fm=organic&iid=a35484ac-03fc-428d-ac61-c7c96712a1ac.MOBGRMFKTHKQSJEG.SEARCH&ppt=hp&ppn=homepage&ssid=7gn4beomgw0000001694263541535&qH=16e35e1c76bc3b93', 'https://www.flipkart.com/redmi-12-5g-jade-black-128-gb/p/itm0c8ba13f6fc5b?pid=MOBGS7GYGUAJ4UYZ&lid=LSTMOBGS7GYGUAJ4UYZQQUS5Q&marketplace=FLIPKART&q=redmi+smartphone&store=tyy%2F4io&srno=s_1_21&otracker=search&otracker1=search&fm=organic&iid=a35484ac-03fc-428d-ac61-c7c96712a1ac.MOBGS7GYGUAJ4UYZ.SEARCH&ppt=hp&ppn=homepage&ssid=7gn4beomgw0000001694263541535&qH=16e35e1c76bc3b93', 'https://www.flipkart.com/redmi-note-12-ice-blue-64-gb/p/itmee415766dfc1a?pid=MOBGNYHZYZ4CNTCM&lid=LSTMOBGNYHZYZ4CNTCMVONB0S&marketplace=FLIPKART&q=redmi+smartphone&store=tyy%2F4io&srno=s_1_22&otracker=search&otracker1=search&fm=organic&iid=a35484ac-03fc-428d-ac61-c7c96712a1ac.MOBGNYHZYZ4CNTCM.SEARCH&ppt=hp&ppn=homepage&ssid=7gn4beomgw0000001694263541535&qH=16e35e1c76bc3b93', 'https://www.flipkart.com/redmi-note-12-lunar-black-64-gb/p/itm6756d6e7a86be?pid=MOBGNYHZJGGE3ZHM&lid=LSTMOBGNYHZJGGE3ZHMWSTXBO&marketplace=FLIPKART&q=redmi+smartphone&store=tyy%2F4io&srno=s_1_23&otracker=search&otracker1=search&fm=organic&iid=a35484ac-03fc-428d-ac61-c7c96712a1ac.MOBGNYHZJGGE3ZHM.SEARCH&ppt=hp&ppn=homepage&ssid=7gn4beomgw0000001694263541535&qH=16e35e1c76bc3b93', 'https://www.flipkart.com/redmi-note-12-sunrise-gold-64-gb/p/itm5d170187bcbf0?pid=MOBGNYHZ7ZGHES2V&lid=LSTMOBGNYHZ7ZGHES2VQILAET&marketplace=FLIPKART&q=redmi+smartphone&store=tyy%2F4io&srno=s_1_24&otracker=search&otracker1=search&fm=organic&iid=a35484ac-03fc-428d-ac61-c7c96712a1ac.MOBGNYHZ7ZGHES2V.SEARCH&ppt=hp&ppn=homepage&ssid=7gn4beomgw0000001694263541535&qH=16e35e1c76bc3b93']\n",
      "['https://www.flipkart.com/redmi-12-moonstone-silver-128-gb/p/itme52e778c12701?pid=MOBGRMFK2MGRNG4Q&lid=LSTMOBGRMFK2MGRNG4QFZLVXT&marketplace=FLIPKART&q=redmi+smartphone&store=tyy%2F4io&spotlightTagId=BestsellerId_tyy%2F4io&srno=s_1_1&otracker=search&otracker1=search&fm=Search&iid=a35484ac-03fc-428d-ac61-c7c96712a1ac.MOBGRMFK2MGRNG4Q.SEARCH&ppt=sp&ppn=sp&ssid=7gn4beomgw0000001694263541535&qH=16e35e1c76bc3b93', 'https://www.flipkart.com/redmi-11-prime-peppy-purple-128-gb/p/itm52d6b0fe396e9?pid=MOBGZHFGUHYSHQYM&lid=LSTMOBGZHFGUHYSHQYMWGOOJ0&marketplace=FLIPKART&q=redmi+smartphone&store=tyy%2F4io&srno=s_1_2&otracker=search&otracker1=search&fm=organic&iid=a35484ac-03fc-428d-ac61-c7c96712a1ac.MOBGZHFGUHYSHQYM.SEARCH&ppt=hp&ppn=homepage&ssid=7gn4beomgw0000001694263541535&qH=16e35e1c76bc3b93', 'https://www.flipkart.com/redmi-12-jade-black-128-gb/p/itm7b10fd42f78b2?pid=MOBGRMFKKDQ2A3V4&lid=LSTMOBGRMFKKDQ2A3V4XZOVEW&marketplace=FLIPKART&q=redmi+smartphone&store=tyy%2F4io&spotlightTagId=BestsellerId_tyy%2F4io&srno=s_1_3&otracker=search&otracker1=search&fm=organic&iid=a35484ac-03fc-428d-ac61-c7c96712a1ac.MOBGRMFKKDQ2A3V4.SEARCH&ppt=hp&ppn=homepage&ssid=7gn4beomgw0000001694263541535&qH=16e35e1c76bc3b93', 'https://www.flipkart.com/redmi-12-pastel-blue-128-gb/p/itm48719506a7ceb?pid=MOBGRMFKKGYD9ETX&lid=LSTMOBGRMFKKGYD9ETX5KD9VL&marketplace=FLIPKART&q=redmi+smartphone&store=tyy%2F4io&spotlightTagId=BestsellerId_tyy%2F4io&srno=s_1_4&otracker=search&otracker1=search&fm=organic&iid=a35484ac-03fc-428d-ac61-c7c96712a1ac.MOBGRMFKKGYD9ETX.SEARCH&ppt=hp&ppn=homepage&ssid=7gn4beomgw0000001694263541535&qH=16e35e1c76bc3b93', 'https://www.flipkart.com/redmi-a1-black-32-gb/p/itm70b00a77a7d1d?pid=MOBGGYBABVXHHRDQ&lid=LSTMOBGGYBABVXHHRDQI6PZV5&marketplace=FLIPKART&q=redmi+smartphone&store=tyy%2F4io&srno=s_1_5&otracker=search&otracker1=search&fm=organic&iid=a35484ac-03fc-428d-ac61-c7c96712a1ac.MOBGGYBABVXHHRDQ.SEARCH&ppt=hp&ppn=homepage&ssid=7gn4beomgw0000001694263541535&qH=16e35e1c76bc3b93', 'https://www.flipkart.com/redmi-a2-aqua-blue-64-gb/p/itm5d49be2c0a95a?pid=MOBGR4UZWNAYKSUH&lid=LSTMOBGR4UZWNAYKSUHE3CTOU&marketplace=FLIPKART&q=redmi+smartphone&store=tyy%2F4io&srno=s_1_6&otracker=search&otracker1=search&fm=organic&iid=a35484ac-03fc-428d-ac61-c7c96712a1ac.MOBGR4UZWNAYKSUH.SEARCH&ppt=hp&ppn=homepage&ssid=7gn4beomgw0000001694263541535&qH=16e35e1c76bc3b93', 'https://www.flipkart.com/redmi-a2-classic-black-64-gb/p/itm5d49be2c0a95a?pid=MOBGPVYHRXZ3PFZU&lid=LSTMOBGPVYHRXZ3PFZU0QHLLF&marketplace=FLIPKART&q=redmi+smartphone&store=tyy%2F4io&srno=s_1_7&otracker=search&otracker1=search&fm=organic&iid=a35484ac-03fc-428d-ac61-c7c96712a1ac.MOBGPVYHRXZ3PFZU.SEARCH&ppt=hp&ppn=homepage&ssid=7gn4beomgw0000001694263541535&qH=16e35e1c76bc3b93', 'https://www.flipkart.com/redmi-a2-sea-green-32-gb/p/itm5d49be2c0a95a?pid=MOBGPVYATHJDTSSR&lid=LSTMOBGPVYATHJDTSSR6JMF4X&marketplace=FLIPKART&q=redmi+smartphone&store=tyy%2F4io&srno=s_1_8&otracker=search&otracker1=search&fm=organic&iid=a35484ac-03fc-428d-ac61-c7c96712a1ac.MOBGPVYATHJDTSSR.SEARCH&ppt=hp&ppn=homepage&ssid=7gn4beomgw0000001694263541535&qH=16e35e1c76bc3b93', 'https://www.flipkart.com/redmi-a2-aqua-blue-64-gb/p/itm5d49be2c0a95a?pid=MOBGPVYMG9RWX6XY&lid=LSTMOBGPVYMG9RWX6XYCWTZEK&marketplace=FLIPKART&q=redmi+smartphone&store=tyy%2F4io&srno=s_1_9&otracker=search&otracker1=search&fm=organic&iid=a35484ac-03fc-428d-ac61-c7c96712a1ac.MOBGPVYMG9RWX6XY.SEARCH&ppt=hp&ppn=homepage&ssid=7gn4beomgw0000001694263541535&qH=16e35e1c76bc3b93', 'https://www.flipkart.com/redmi-12-pastel-blue-128-gb/p/itm9b1a6640faccd?pid=MOBGRMFKAHNTZPWE&lid=LSTMOBGRMFKAHNTZPWE1H5IWS&marketplace=FLIPKART&q=redmi+smartphone&store=tyy%2F4io&srno=s_1_10&otracker=search&otracker1=search&fm=organic&iid=a35484ac-03fc-428d-ac61-c7c96712a1ac.MOBGRMFKAHNTZPWE.SEARCH&ppt=hp&ppn=homepage&ssid=7gn4beomgw0000001694263541535&qH=16e35e1c76bc3b93', 'https://www.flipkart.com/redmi-a2-aqua-blue-32-gb/p/itm5d49be2c0a95a?pid=MOBGPUZR8GHCE5ZQ&lid=LSTMOBGPUZR8GHCE5ZQ1P4DF9&marketplace=FLIPKART&q=redmi+smartphone&store=tyy%2F4io&srno=s_1_11&otracker=search&otracker1=search&fm=organic&iid=a35484ac-03fc-428d-ac61-c7c96712a1ac.MOBGPUZR8GHCE5ZQ.SEARCH&ppt=hp&ppn=homepage&ssid=7gn4beomgw0000001694263541535&qH=16e35e1c76bc3b93', 'https://www.flipkart.com/redmi-10-power-power-black-128-gb/p/itm97f5d2ec83588?pid=MOBGHDXFYKKZFZGV&lid=LSTMOBGHDXFYKKZFZGVE0QYTC&marketplace=FLIPKART&q=redmi+smartphone&store=tyy%2F4io&srno=s_1_12&otracker=search&otracker1=search&fm=organic&iid=a35484ac-03fc-428d-ac61-c7c96712a1ac.MOBGHDXFYKKZFZGV.SEARCH&ppt=hp&ppn=homepage&ssid=7gn4beomgw0000001694263541535&qH=16e35e1c76bc3b93', 'https://www.flipkart.com/redmi-6a-blue-16-gb/p/itm1ed294a755383?pid=MOBF9Z2Z3YDBSF6V&lid=LSTMOBF9Z2Z3YDBSF6VX16ZOH&marketplace=FLIPKART&q=redmi+smartphone&store=tyy%2F4io&srno=s_1_13&otracker=search&otracker1=search&fm=organic&iid=a35484ac-03fc-428d-ac61-c7c96712a1ac.MOBF9Z2Z3YDBSF6V.SEARCH&ppt=hp&ppn=homepage&ssid=7gn4beomgw0000001694263541535&qH=16e35e1c76bc3b93', 'https://www.flipkart.com/redmi-12-moonstone-silver-128-gb/p/itm6722b15672602?pid=MOBGRMFK4CSR7GGH&lid=LSTMOBGRMFK4CSR7GGHHKEX2Z&marketplace=FLIPKART&q=redmi+smartphone&store=tyy%2F4io&srno=s_1_14&otracker=search&otracker1=search&fm=organic&iid=a35484ac-03fc-428d-ac61-c7c96712a1ac.MOBGRMFK4CSR7GGH.SEARCH&ppt=hp&ppn=homepage&ssid=7gn4beomgw0000001694263541535&qH=16e35e1c76bc3b93', 'https://www.flipkart.com/redmi-a1-light-green-32-gb/p/itmecc9e7ba0a1df?pid=MOBGGYBAHSAJVKHP&lid=LSTMOBGGYBAHSAJVKHP4UBD9A&marketplace=FLIPKART&q=redmi+smartphone&store=tyy%2F4io&srno=s_1_15&otracker=search&otracker1=search&fm=organic&iid=a35484ac-03fc-428d-ac61-c7c96712a1ac.MOBGGYBAHSAJVKHP.SEARCH&ppt=hp&ppn=homepage&ssid=7gn4beomgw0000001694263541535&qH=16e35e1c76bc3b93', 'https://www.flipkart.com/redmi-11-prime-flashy-black-128-gb/p/itm01f508ea28ab0?pid=MOBGZHFGNDNWAZKZ&lid=LSTMOBGZHFGNDNWAZKZUMANTL&marketplace=FLIPKART&q=redmi+smartphone&store=tyy%2F4io&srno=s_1_16&otracker=search&otracker1=search&fm=organic&iid=a35484ac-03fc-428d-ac61-c7c96712a1ac.MOBGZHFGNDNWAZKZ.SEARCH&ppt=hp&ppn=homepage&ssid=7gn4beomgw0000001694263541535&qH=16e35e1c76bc3b93', 'https://www.flipkart.com/redmi-11-prime-playful-green-128-gb/p/itm0b080e6994972?pid=MOBGZHFGZQMESCDK&lid=LSTMOBGZHFGZQMESCDKZ6ILTE&marketplace=FLIPKART&q=redmi+smartphone&store=tyy%2F4io&srno=s_1_17&otracker=search&otracker1=search&fm=organic&iid=a35484ac-03fc-428d-ac61-c7c96712a1ac.MOBGZHFGZQMESCDK.SEARCH&ppt=hp&ppn=homepage&ssid=7gn4beomgw0000001694263541535&qH=16e35e1c76bc3b93', 'https://www.flipkart.com/redmi-a2-sea-green-64-gb/p/itm5d49be2c0a95a?pid=MOBGPVYEHMPGNCBZ&lid=LSTMOBGPVYEHMPGNCBZHUKI4Z&marketplace=FLIPKART&q=redmi+smartphone&store=tyy%2F4io&srno=s_1_18&otracker=search&otracker1=search&fm=organic&iid=a35484ac-03fc-428d-ac61-c7c96712a1ac.MOBGPVYEHMPGNCBZ.SEARCH&ppt=hp&ppn=homepage&ssid=7gn4beomgw0000001694263541535&qH=16e35e1c76bc3b93', 'https://www.flipkart.com/redmi-a2-classic-black-64-gb/p/itm5d49be2c0a95a?pid=MOBGRHB6XAEUADQB&lid=LSTMOBGRHB6XAEUADQBAI4AJ4&marketplace=FLIPKART&q=redmi+smartphone&store=tyy%2F4io&srno=s_1_19&otracker=search&otracker1=search&fm=organic&iid=a35484ac-03fc-428d-ac61-c7c96712a1ac.MOBGRHB6XAEUADQB.SEARCH&ppt=hp&ppn=homepage&ssid=7gn4beomgw0000001694263541535&qH=16e35e1c76bc3b93', 'https://www.flipkart.com/redmi-12-jade-black-128-gb/p/itmb7050ec01c09f?pid=MOBGRMFKTHKQSJEG&lid=LSTMOBGRMFKTHKQSJEGQK3FM2&marketplace=FLIPKART&q=redmi+smartphone&store=tyy%2F4io&srno=s_1_20&otracker=search&otracker1=search&fm=organic&iid=a35484ac-03fc-428d-ac61-c7c96712a1ac.MOBGRMFKTHKQSJEG.SEARCH&ppt=hp&ppn=homepage&ssid=7gn4beomgw0000001694263541535&qH=16e35e1c76bc3b93', 'https://www.flipkart.com/redmi-12-5g-jade-black-128-gb/p/itm0c8ba13f6fc5b?pid=MOBGS7GYGUAJ4UYZ&lid=LSTMOBGS7GYGUAJ4UYZQQUS5Q&marketplace=FLIPKART&q=redmi+smartphone&store=tyy%2F4io&srno=s_1_21&otracker=search&otracker1=search&fm=organic&iid=a35484ac-03fc-428d-ac61-c7c96712a1ac.MOBGS7GYGUAJ4UYZ.SEARCH&ppt=hp&ppn=homepage&ssid=7gn4beomgw0000001694263541535&qH=16e35e1c76bc3b93', 'https://www.flipkart.com/redmi-note-12-ice-blue-64-gb/p/itmee415766dfc1a?pid=MOBGNYHZYZ4CNTCM&lid=LSTMOBGNYHZYZ4CNTCMVONB0S&marketplace=FLIPKART&q=redmi+smartphone&store=tyy%2F4io&srno=s_1_22&otracker=search&otracker1=search&fm=organic&iid=a35484ac-03fc-428d-ac61-c7c96712a1ac.MOBGNYHZYZ4CNTCM.SEARCH&ppt=hp&ppn=homepage&ssid=7gn4beomgw0000001694263541535&qH=16e35e1c76bc3b93', 'https://www.flipkart.com/redmi-note-12-lunar-black-64-gb/p/itm6756d6e7a86be?pid=MOBGNYHZJGGE3ZHM&lid=LSTMOBGNYHZJGGE3ZHMWSTXBO&marketplace=FLIPKART&q=redmi+smartphone&store=tyy%2F4io&srno=s_1_23&otracker=search&otracker1=search&fm=organic&iid=a35484ac-03fc-428d-ac61-c7c96712a1ac.MOBGNYHZJGGE3ZHM.SEARCH&ppt=hp&ppn=homepage&ssid=7gn4beomgw0000001694263541535&qH=16e35e1c76bc3b93', 'https://www.flipkart.com/redmi-note-12-sunrise-gold-64-gb/p/itm5d170187bcbf0?pid=MOBGNYHZ7ZGHES2V&lid=LSTMOBGNYHZ7ZGHES2VQILAET&marketplace=FLIPKART&q=redmi+smartphone&store=tyy%2F4io&srno=s_1_24&otracker=search&otracker1=search&fm=organic&iid=a35484ac-03fc-428d-ac61-c7c96712a1ac.MOBGNYHZ7ZGHES2V.SEARCH&ppt=hp&ppn=homepage&ssid=7gn4beomgw0000001694263541535&qH=16e35e1c76bc3b93']\n"
     ]
    },
    {
     "name": "stdout",
     "output_type": "stream",
     "text": [
      "['https://www.flipkart.com/redmi-12-moonstone-silver-128-gb/p/itme52e778c12701?pid=MOBGRMFK2MGRNG4Q&lid=LSTMOBGRMFK2MGRNG4QFZLVXT&marketplace=FLIPKART&q=redmi+smartphone&store=tyy%2F4io&spotlightTagId=BestsellerId_tyy%2F4io&srno=s_1_1&otracker=search&otracker1=search&fm=Search&iid=a35484ac-03fc-428d-ac61-c7c96712a1ac.MOBGRMFK2MGRNG4Q.SEARCH&ppt=sp&ppn=sp&ssid=7gn4beomgw0000001694263541535&qH=16e35e1c76bc3b93', 'https://www.flipkart.com/redmi-11-prime-peppy-purple-128-gb/p/itm52d6b0fe396e9?pid=MOBGZHFGUHYSHQYM&lid=LSTMOBGZHFGUHYSHQYMWGOOJ0&marketplace=FLIPKART&q=redmi+smartphone&store=tyy%2F4io&srno=s_1_2&otracker=search&otracker1=search&fm=organic&iid=a35484ac-03fc-428d-ac61-c7c96712a1ac.MOBGZHFGUHYSHQYM.SEARCH&ppt=hp&ppn=homepage&ssid=7gn4beomgw0000001694263541535&qH=16e35e1c76bc3b93', 'https://www.flipkart.com/redmi-12-jade-black-128-gb/p/itm7b10fd42f78b2?pid=MOBGRMFKKDQ2A3V4&lid=LSTMOBGRMFKKDQ2A3V4XZOVEW&marketplace=FLIPKART&q=redmi+smartphone&store=tyy%2F4io&spotlightTagId=BestsellerId_tyy%2F4io&srno=s_1_3&otracker=search&otracker1=search&fm=organic&iid=a35484ac-03fc-428d-ac61-c7c96712a1ac.MOBGRMFKKDQ2A3V4.SEARCH&ppt=hp&ppn=homepage&ssid=7gn4beomgw0000001694263541535&qH=16e35e1c76bc3b93', 'https://www.flipkart.com/redmi-12-pastel-blue-128-gb/p/itm48719506a7ceb?pid=MOBGRMFKKGYD9ETX&lid=LSTMOBGRMFKKGYD9ETX5KD9VL&marketplace=FLIPKART&q=redmi+smartphone&store=tyy%2F4io&spotlightTagId=BestsellerId_tyy%2F4io&srno=s_1_4&otracker=search&otracker1=search&fm=organic&iid=a35484ac-03fc-428d-ac61-c7c96712a1ac.MOBGRMFKKGYD9ETX.SEARCH&ppt=hp&ppn=homepage&ssid=7gn4beomgw0000001694263541535&qH=16e35e1c76bc3b93', 'https://www.flipkart.com/redmi-a1-black-32-gb/p/itm70b00a77a7d1d?pid=MOBGGYBABVXHHRDQ&lid=LSTMOBGGYBABVXHHRDQI6PZV5&marketplace=FLIPKART&q=redmi+smartphone&store=tyy%2F4io&srno=s_1_5&otracker=search&otracker1=search&fm=organic&iid=a35484ac-03fc-428d-ac61-c7c96712a1ac.MOBGGYBABVXHHRDQ.SEARCH&ppt=hp&ppn=homepage&ssid=7gn4beomgw0000001694263541535&qH=16e35e1c76bc3b93', 'https://www.flipkart.com/redmi-a2-aqua-blue-64-gb/p/itm5d49be2c0a95a?pid=MOBGR4UZWNAYKSUH&lid=LSTMOBGR4UZWNAYKSUHE3CTOU&marketplace=FLIPKART&q=redmi+smartphone&store=tyy%2F4io&srno=s_1_6&otracker=search&otracker1=search&fm=organic&iid=a35484ac-03fc-428d-ac61-c7c96712a1ac.MOBGR4UZWNAYKSUH.SEARCH&ppt=hp&ppn=homepage&ssid=7gn4beomgw0000001694263541535&qH=16e35e1c76bc3b93', 'https://www.flipkart.com/redmi-a2-classic-black-64-gb/p/itm5d49be2c0a95a?pid=MOBGPVYHRXZ3PFZU&lid=LSTMOBGPVYHRXZ3PFZU0QHLLF&marketplace=FLIPKART&q=redmi+smartphone&store=tyy%2F4io&srno=s_1_7&otracker=search&otracker1=search&fm=organic&iid=a35484ac-03fc-428d-ac61-c7c96712a1ac.MOBGPVYHRXZ3PFZU.SEARCH&ppt=hp&ppn=homepage&ssid=7gn4beomgw0000001694263541535&qH=16e35e1c76bc3b93', 'https://www.flipkart.com/redmi-a2-sea-green-32-gb/p/itm5d49be2c0a95a?pid=MOBGPVYATHJDTSSR&lid=LSTMOBGPVYATHJDTSSR6JMF4X&marketplace=FLIPKART&q=redmi+smartphone&store=tyy%2F4io&srno=s_1_8&otracker=search&otracker1=search&fm=organic&iid=a35484ac-03fc-428d-ac61-c7c96712a1ac.MOBGPVYATHJDTSSR.SEARCH&ppt=hp&ppn=homepage&ssid=7gn4beomgw0000001694263541535&qH=16e35e1c76bc3b93', 'https://www.flipkart.com/redmi-a2-aqua-blue-64-gb/p/itm5d49be2c0a95a?pid=MOBGPVYMG9RWX6XY&lid=LSTMOBGPVYMG9RWX6XYCWTZEK&marketplace=FLIPKART&q=redmi+smartphone&store=tyy%2F4io&srno=s_1_9&otracker=search&otracker1=search&fm=organic&iid=a35484ac-03fc-428d-ac61-c7c96712a1ac.MOBGPVYMG9RWX6XY.SEARCH&ppt=hp&ppn=homepage&ssid=7gn4beomgw0000001694263541535&qH=16e35e1c76bc3b93', 'https://www.flipkart.com/redmi-12-pastel-blue-128-gb/p/itm9b1a6640faccd?pid=MOBGRMFKAHNTZPWE&lid=LSTMOBGRMFKAHNTZPWE1H5IWS&marketplace=FLIPKART&q=redmi+smartphone&store=tyy%2F4io&srno=s_1_10&otracker=search&otracker1=search&fm=organic&iid=a35484ac-03fc-428d-ac61-c7c96712a1ac.MOBGRMFKAHNTZPWE.SEARCH&ppt=hp&ppn=homepage&ssid=7gn4beomgw0000001694263541535&qH=16e35e1c76bc3b93', 'https://www.flipkart.com/redmi-a2-aqua-blue-32-gb/p/itm5d49be2c0a95a?pid=MOBGPUZR8GHCE5ZQ&lid=LSTMOBGPUZR8GHCE5ZQ1P4DF9&marketplace=FLIPKART&q=redmi+smartphone&store=tyy%2F4io&srno=s_1_11&otracker=search&otracker1=search&fm=organic&iid=a35484ac-03fc-428d-ac61-c7c96712a1ac.MOBGPUZR8GHCE5ZQ.SEARCH&ppt=hp&ppn=homepage&ssid=7gn4beomgw0000001694263541535&qH=16e35e1c76bc3b93', 'https://www.flipkart.com/redmi-10-power-power-black-128-gb/p/itm97f5d2ec83588?pid=MOBGHDXFYKKZFZGV&lid=LSTMOBGHDXFYKKZFZGVE0QYTC&marketplace=FLIPKART&q=redmi+smartphone&store=tyy%2F4io&srno=s_1_12&otracker=search&otracker1=search&fm=organic&iid=a35484ac-03fc-428d-ac61-c7c96712a1ac.MOBGHDXFYKKZFZGV.SEARCH&ppt=hp&ppn=homepage&ssid=7gn4beomgw0000001694263541535&qH=16e35e1c76bc3b93', 'https://www.flipkart.com/redmi-6a-blue-16-gb/p/itm1ed294a755383?pid=MOBF9Z2Z3YDBSF6V&lid=LSTMOBF9Z2Z3YDBSF6VX16ZOH&marketplace=FLIPKART&q=redmi+smartphone&store=tyy%2F4io&srno=s_1_13&otracker=search&otracker1=search&fm=organic&iid=a35484ac-03fc-428d-ac61-c7c96712a1ac.MOBF9Z2Z3YDBSF6V.SEARCH&ppt=hp&ppn=homepage&ssid=7gn4beomgw0000001694263541535&qH=16e35e1c76bc3b93', 'https://www.flipkart.com/redmi-12-moonstone-silver-128-gb/p/itm6722b15672602?pid=MOBGRMFK4CSR7GGH&lid=LSTMOBGRMFK4CSR7GGHHKEX2Z&marketplace=FLIPKART&q=redmi+smartphone&store=tyy%2F4io&srno=s_1_14&otracker=search&otracker1=search&fm=organic&iid=a35484ac-03fc-428d-ac61-c7c96712a1ac.MOBGRMFK4CSR7GGH.SEARCH&ppt=hp&ppn=homepage&ssid=7gn4beomgw0000001694263541535&qH=16e35e1c76bc3b93', 'https://www.flipkart.com/redmi-a1-light-green-32-gb/p/itmecc9e7ba0a1df?pid=MOBGGYBAHSAJVKHP&lid=LSTMOBGGYBAHSAJVKHP4UBD9A&marketplace=FLIPKART&q=redmi+smartphone&store=tyy%2F4io&srno=s_1_15&otracker=search&otracker1=search&fm=organic&iid=a35484ac-03fc-428d-ac61-c7c96712a1ac.MOBGGYBAHSAJVKHP.SEARCH&ppt=hp&ppn=homepage&ssid=7gn4beomgw0000001694263541535&qH=16e35e1c76bc3b93', 'https://www.flipkart.com/redmi-11-prime-flashy-black-128-gb/p/itm01f508ea28ab0?pid=MOBGZHFGNDNWAZKZ&lid=LSTMOBGZHFGNDNWAZKZUMANTL&marketplace=FLIPKART&q=redmi+smartphone&store=tyy%2F4io&srno=s_1_16&otracker=search&otracker1=search&fm=organic&iid=a35484ac-03fc-428d-ac61-c7c96712a1ac.MOBGZHFGNDNWAZKZ.SEARCH&ppt=hp&ppn=homepage&ssid=7gn4beomgw0000001694263541535&qH=16e35e1c76bc3b93', 'https://www.flipkart.com/redmi-11-prime-playful-green-128-gb/p/itm0b080e6994972?pid=MOBGZHFGZQMESCDK&lid=LSTMOBGZHFGZQMESCDKZ6ILTE&marketplace=FLIPKART&q=redmi+smartphone&store=tyy%2F4io&srno=s_1_17&otracker=search&otracker1=search&fm=organic&iid=a35484ac-03fc-428d-ac61-c7c96712a1ac.MOBGZHFGZQMESCDK.SEARCH&ppt=hp&ppn=homepage&ssid=7gn4beomgw0000001694263541535&qH=16e35e1c76bc3b93', 'https://www.flipkart.com/redmi-a2-sea-green-64-gb/p/itm5d49be2c0a95a?pid=MOBGPVYEHMPGNCBZ&lid=LSTMOBGPVYEHMPGNCBZHUKI4Z&marketplace=FLIPKART&q=redmi+smartphone&store=tyy%2F4io&srno=s_1_18&otracker=search&otracker1=search&fm=organic&iid=a35484ac-03fc-428d-ac61-c7c96712a1ac.MOBGPVYEHMPGNCBZ.SEARCH&ppt=hp&ppn=homepage&ssid=7gn4beomgw0000001694263541535&qH=16e35e1c76bc3b93', 'https://www.flipkart.com/redmi-a2-classic-black-64-gb/p/itm5d49be2c0a95a?pid=MOBGRHB6XAEUADQB&lid=LSTMOBGRHB6XAEUADQBAI4AJ4&marketplace=FLIPKART&q=redmi+smartphone&store=tyy%2F4io&srno=s_1_19&otracker=search&otracker1=search&fm=organic&iid=a35484ac-03fc-428d-ac61-c7c96712a1ac.MOBGRHB6XAEUADQB.SEARCH&ppt=hp&ppn=homepage&ssid=7gn4beomgw0000001694263541535&qH=16e35e1c76bc3b93', 'https://www.flipkart.com/redmi-12-jade-black-128-gb/p/itmb7050ec01c09f?pid=MOBGRMFKTHKQSJEG&lid=LSTMOBGRMFKTHKQSJEGQK3FM2&marketplace=FLIPKART&q=redmi+smartphone&store=tyy%2F4io&srno=s_1_20&otracker=search&otracker1=search&fm=organic&iid=a35484ac-03fc-428d-ac61-c7c96712a1ac.MOBGRMFKTHKQSJEG.SEARCH&ppt=hp&ppn=homepage&ssid=7gn4beomgw0000001694263541535&qH=16e35e1c76bc3b93', 'https://www.flipkart.com/redmi-12-5g-jade-black-128-gb/p/itm0c8ba13f6fc5b?pid=MOBGS7GYGUAJ4UYZ&lid=LSTMOBGS7GYGUAJ4UYZQQUS5Q&marketplace=FLIPKART&q=redmi+smartphone&store=tyy%2F4io&srno=s_1_21&otracker=search&otracker1=search&fm=organic&iid=a35484ac-03fc-428d-ac61-c7c96712a1ac.MOBGS7GYGUAJ4UYZ.SEARCH&ppt=hp&ppn=homepage&ssid=7gn4beomgw0000001694263541535&qH=16e35e1c76bc3b93', 'https://www.flipkart.com/redmi-note-12-ice-blue-64-gb/p/itmee415766dfc1a?pid=MOBGNYHZYZ4CNTCM&lid=LSTMOBGNYHZYZ4CNTCMVONB0S&marketplace=FLIPKART&q=redmi+smartphone&store=tyy%2F4io&srno=s_1_22&otracker=search&otracker1=search&fm=organic&iid=a35484ac-03fc-428d-ac61-c7c96712a1ac.MOBGNYHZYZ4CNTCM.SEARCH&ppt=hp&ppn=homepage&ssid=7gn4beomgw0000001694263541535&qH=16e35e1c76bc3b93', 'https://www.flipkart.com/redmi-note-12-lunar-black-64-gb/p/itm6756d6e7a86be?pid=MOBGNYHZJGGE3ZHM&lid=LSTMOBGNYHZJGGE3ZHMWSTXBO&marketplace=FLIPKART&q=redmi+smartphone&store=tyy%2F4io&srno=s_1_23&otracker=search&otracker1=search&fm=organic&iid=a35484ac-03fc-428d-ac61-c7c96712a1ac.MOBGNYHZJGGE3ZHM.SEARCH&ppt=hp&ppn=homepage&ssid=7gn4beomgw0000001694263541535&qH=16e35e1c76bc3b93', 'https://www.flipkart.com/redmi-note-12-sunrise-gold-64-gb/p/itm5d170187bcbf0?pid=MOBGNYHZ7ZGHES2V&lid=LSTMOBGNYHZ7ZGHES2VQILAET&marketplace=FLIPKART&q=redmi+smartphone&store=tyy%2F4io&srno=s_1_24&otracker=search&otracker1=search&fm=organic&iid=a35484ac-03fc-428d-ac61-c7c96712a1ac.MOBGNYHZ7ZGHES2V.SEARCH&ppt=hp&ppn=homepage&ssid=7gn4beomgw0000001694263541535&qH=16e35e1c76bc3b93']\n",
      "['https://www.flipkart.com/redmi-12-moonstone-silver-128-gb/p/itme52e778c12701?pid=MOBGRMFK2MGRNG4Q&lid=LSTMOBGRMFK2MGRNG4QFZLVXT&marketplace=FLIPKART&q=redmi+smartphone&store=tyy%2F4io&spotlightTagId=BestsellerId_tyy%2F4io&srno=s_1_1&otracker=search&otracker1=search&fm=Search&iid=a35484ac-03fc-428d-ac61-c7c96712a1ac.MOBGRMFK2MGRNG4Q.SEARCH&ppt=sp&ppn=sp&ssid=7gn4beomgw0000001694263541535&qH=16e35e1c76bc3b93', 'https://www.flipkart.com/redmi-11-prime-peppy-purple-128-gb/p/itm52d6b0fe396e9?pid=MOBGZHFGUHYSHQYM&lid=LSTMOBGZHFGUHYSHQYMWGOOJ0&marketplace=FLIPKART&q=redmi+smartphone&store=tyy%2F4io&srno=s_1_2&otracker=search&otracker1=search&fm=organic&iid=a35484ac-03fc-428d-ac61-c7c96712a1ac.MOBGZHFGUHYSHQYM.SEARCH&ppt=hp&ppn=homepage&ssid=7gn4beomgw0000001694263541535&qH=16e35e1c76bc3b93', 'https://www.flipkart.com/redmi-12-jade-black-128-gb/p/itm7b10fd42f78b2?pid=MOBGRMFKKDQ2A3V4&lid=LSTMOBGRMFKKDQ2A3V4XZOVEW&marketplace=FLIPKART&q=redmi+smartphone&store=tyy%2F4io&spotlightTagId=BestsellerId_tyy%2F4io&srno=s_1_3&otracker=search&otracker1=search&fm=organic&iid=a35484ac-03fc-428d-ac61-c7c96712a1ac.MOBGRMFKKDQ2A3V4.SEARCH&ppt=hp&ppn=homepage&ssid=7gn4beomgw0000001694263541535&qH=16e35e1c76bc3b93', 'https://www.flipkart.com/redmi-12-pastel-blue-128-gb/p/itm48719506a7ceb?pid=MOBGRMFKKGYD9ETX&lid=LSTMOBGRMFKKGYD9ETX5KD9VL&marketplace=FLIPKART&q=redmi+smartphone&store=tyy%2F4io&spotlightTagId=BestsellerId_tyy%2F4io&srno=s_1_4&otracker=search&otracker1=search&fm=organic&iid=a35484ac-03fc-428d-ac61-c7c96712a1ac.MOBGRMFKKGYD9ETX.SEARCH&ppt=hp&ppn=homepage&ssid=7gn4beomgw0000001694263541535&qH=16e35e1c76bc3b93', 'https://www.flipkart.com/redmi-a1-black-32-gb/p/itm70b00a77a7d1d?pid=MOBGGYBABVXHHRDQ&lid=LSTMOBGGYBABVXHHRDQI6PZV5&marketplace=FLIPKART&q=redmi+smartphone&store=tyy%2F4io&srno=s_1_5&otracker=search&otracker1=search&fm=organic&iid=a35484ac-03fc-428d-ac61-c7c96712a1ac.MOBGGYBABVXHHRDQ.SEARCH&ppt=hp&ppn=homepage&ssid=7gn4beomgw0000001694263541535&qH=16e35e1c76bc3b93', 'https://www.flipkart.com/redmi-a2-aqua-blue-64-gb/p/itm5d49be2c0a95a?pid=MOBGR4UZWNAYKSUH&lid=LSTMOBGR4UZWNAYKSUHE3CTOU&marketplace=FLIPKART&q=redmi+smartphone&store=tyy%2F4io&srno=s_1_6&otracker=search&otracker1=search&fm=organic&iid=a35484ac-03fc-428d-ac61-c7c96712a1ac.MOBGR4UZWNAYKSUH.SEARCH&ppt=hp&ppn=homepage&ssid=7gn4beomgw0000001694263541535&qH=16e35e1c76bc3b93', 'https://www.flipkart.com/redmi-a2-classic-black-64-gb/p/itm5d49be2c0a95a?pid=MOBGPVYHRXZ3PFZU&lid=LSTMOBGPVYHRXZ3PFZU0QHLLF&marketplace=FLIPKART&q=redmi+smartphone&store=tyy%2F4io&srno=s_1_7&otracker=search&otracker1=search&fm=organic&iid=a35484ac-03fc-428d-ac61-c7c96712a1ac.MOBGPVYHRXZ3PFZU.SEARCH&ppt=hp&ppn=homepage&ssid=7gn4beomgw0000001694263541535&qH=16e35e1c76bc3b93', 'https://www.flipkart.com/redmi-a2-sea-green-32-gb/p/itm5d49be2c0a95a?pid=MOBGPVYATHJDTSSR&lid=LSTMOBGPVYATHJDTSSR6JMF4X&marketplace=FLIPKART&q=redmi+smartphone&store=tyy%2F4io&srno=s_1_8&otracker=search&otracker1=search&fm=organic&iid=a35484ac-03fc-428d-ac61-c7c96712a1ac.MOBGPVYATHJDTSSR.SEARCH&ppt=hp&ppn=homepage&ssid=7gn4beomgw0000001694263541535&qH=16e35e1c76bc3b93', 'https://www.flipkart.com/redmi-a2-aqua-blue-64-gb/p/itm5d49be2c0a95a?pid=MOBGPVYMG9RWX6XY&lid=LSTMOBGPVYMG9RWX6XYCWTZEK&marketplace=FLIPKART&q=redmi+smartphone&store=tyy%2F4io&srno=s_1_9&otracker=search&otracker1=search&fm=organic&iid=a35484ac-03fc-428d-ac61-c7c96712a1ac.MOBGPVYMG9RWX6XY.SEARCH&ppt=hp&ppn=homepage&ssid=7gn4beomgw0000001694263541535&qH=16e35e1c76bc3b93', 'https://www.flipkart.com/redmi-12-pastel-blue-128-gb/p/itm9b1a6640faccd?pid=MOBGRMFKAHNTZPWE&lid=LSTMOBGRMFKAHNTZPWE1H5IWS&marketplace=FLIPKART&q=redmi+smartphone&store=tyy%2F4io&srno=s_1_10&otracker=search&otracker1=search&fm=organic&iid=a35484ac-03fc-428d-ac61-c7c96712a1ac.MOBGRMFKAHNTZPWE.SEARCH&ppt=hp&ppn=homepage&ssid=7gn4beomgw0000001694263541535&qH=16e35e1c76bc3b93', 'https://www.flipkart.com/redmi-a2-aqua-blue-32-gb/p/itm5d49be2c0a95a?pid=MOBGPUZR8GHCE5ZQ&lid=LSTMOBGPUZR8GHCE5ZQ1P4DF9&marketplace=FLIPKART&q=redmi+smartphone&store=tyy%2F4io&srno=s_1_11&otracker=search&otracker1=search&fm=organic&iid=a35484ac-03fc-428d-ac61-c7c96712a1ac.MOBGPUZR8GHCE5ZQ.SEARCH&ppt=hp&ppn=homepage&ssid=7gn4beomgw0000001694263541535&qH=16e35e1c76bc3b93', 'https://www.flipkart.com/redmi-10-power-power-black-128-gb/p/itm97f5d2ec83588?pid=MOBGHDXFYKKZFZGV&lid=LSTMOBGHDXFYKKZFZGVE0QYTC&marketplace=FLIPKART&q=redmi+smartphone&store=tyy%2F4io&srno=s_1_12&otracker=search&otracker1=search&fm=organic&iid=a35484ac-03fc-428d-ac61-c7c96712a1ac.MOBGHDXFYKKZFZGV.SEARCH&ppt=hp&ppn=homepage&ssid=7gn4beomgw0000001694263541535&qH=16e35e1c76bc3b93', 'https://www.flipkart.com/redmi-6a-blue-16-gb/p/itm1ed294a755383?pid=MOBF9Z2Z3YDBSF6V&lid=LSTMOBF9Z2Z3YDBSF6VX16ZOH&marketplace=FLIPKART&q=redmi+smartphone&store=tyy%2F4io&srno=s_1_13&otracker=search&otracker1=search&fm=organic&iid=a35484ac-03fc-428d-ac61-c7c96712a1ac.MOBF9Z2Z3YDBSF6V.SEARCH&ppt=hp&ppn=homepage&ssid=7gn4beomgw0000001694263541535&qH=16e35e1c76bc3b93', 'https://www.flipkart.com/redmi-12-moonstone-silver-128-gb/p/itm6722b15672602?pid=MOBGRMFK4CSR7GGH&lid=LSTMOBGRMFK4CSR7GGHHKEX2Z&marketplace=FLIPKART&q=redmi+smartphone&store=tyy%2F4io&srno=s_1_14&otracker=search&otracker1=search&fm=organic&iid=a35484ac-03fc-428d-ac61-c7c96712a1ac.MOBGRMFK4CSR7GGH.SEARCH&ppt=hp&ppn=homepage&ssid=7gn4beomgw0000001694263541535&qH=16e35e1c76bc3b93', 'https://www.flipkart.com/redmi-a1-light-green-32-gb/p/itmecc9e7ba0a1df?pid=MOBGGYBAHSAJVKHP&lid=LSTMOBGGYBAHSAJVKHP4UBD9A&marketplace=FLIPKART&q=redmi+smartphone&store=tyy%2F4io&srno=s_1_15&otracker=search&otracker1=search&fm=organic&iid=a35484ac-03fc-428d-ac61-c7c96712a1ac.MOBGGYBAHSAJVKHP.SEARCH&ppt=hp&ppn=homepage&ssid=7gn4beomgw0000001694263541535&qH=16e35e1c76bc3b93', 'https://www.flipkart.com/redmi-11-prime-flashy-black-128-gb/p/itm01f508ea28ab0?pid=MOBGZHFGNDNWAZKZ&lid=LSTMOBGZHFGNDNWAZKZUMANTL&marketplace=FLIPKART&q=redmi+smartphone&store=tyy%2F4io&srno=s_1_16&otracker=search&otracker1=search&fm=organic&iid=a35484ac-03fc-428d-ac61-c7c96712a1ac.MOBGZHFGNDNWAZKZ.SEARCH&ppt=hp&ppn=homepage&ssid=7gn4beomgw0000001694263541535&qH=16e35e1c76bc3b93', 'https://www.flipkart.com/redmi-11-prime-playful-green-128-gb/p/itm0b080e6994972?pid=MOBGZHFGZQMESCDK&lid=LSTMOBGZHFGZQMESCDKZ6ILTE&marketplace=FLIPKART&q=redmi+smartphone&store=tyy%2F4io&srno=s_1_17&otracker=search&otracker1=search&fm=organic&iid=a35484ac-03fc-428d-ac61-c7c96712a1ac.MOBGZHFGZQMESCDK.SEARCH&ppt=hp&ppn=homepage&ssid=7gn4beomgw0000001694263541535&qH=16e35e1c76bc3b93', 'https://www.flipkart.com/redmi-a2-sea-green-64-gb/p/itm5d49be2c0a95a?pid=MOBGPVYEHMPGNCBZ&lid=LSTMOBGPVYEHMPGNCBZHUKI4Z&marketplace=FLIPKART&q=redmi+smartphone&store=tyy%2F4io&srno=s_1_18&otracker=search&otracker1=search&fm=organic&iid=a35484ac-03fc-428d-ac61-c7c96712a1ac.MOBGPVYEHMPGNCBZ.SEARCH&ppt=hp&ppn=homepage&ssid=7gn4beomgw0000001694263541535&qH=16e35e1c76bc3b93', 'https://www.flipkart.com/redmi-a2-classic-black-64-gb/p/itm5d49be2c0a95a?pid=MOBGRHB6XAEUADQB&lid=LSTMOBGRHB6XAEUADQBAI4AJ4&marketplace=FLIPKART&q=redmi+smartphone&store=tyy%2F4io&srno=s_1_19&otracker=search&otracker1=search&fm=organic&iid=a35484ac-03fc-428d-ac61-c7c96712a1ac.MOBGRHB6XAEUADQB.SEARCH&ppt=hp&ppn=homepage&ssid=7gn4beomgw0000001694263541535&qH=16e35e1c76bc3b93', 'https://www.flipkart.com/redmi-12-jade-black-128-gb/p/itmb7050ec01c09f?pid=MOBGRMFKTHKQSJEG&lid=LSTMOBGRMFKTHKQSJEGQK3FM2&marketplace=FLIPKART&q=redmi+smartphone&store=tyy%2F4io&srno=s_1_20&otracker=search&otracker1=search&fm=organic&iid=a35484ac-03fc-428d-ac61-c7c96712a1ac.MOBGRMFKTHKQSJEG.SEARCH&ppt=hp&ppn=homepage&ssid=7gn4beomgw0000001694263541535&qH=16e35e1c76bc3b93', 'https://www.flipkart.com/redmi-12-5g-jade-black-128-gb/p/itm0c8ba13f6fc5b?pid=MOBGS7GYGUAJ4UYZ&lid=LSTMOBGS7GYGUAJ4UYZQQUS5Q&marketplace=FLIPKART&q=redmi+smartphone&store=tyy%2F4io&srno=s_1_21&otracker=search&otracker1=search&fm=organic&iid=a35484ac-03fc-428d-ac61-c7c96712a1ac.MOBGS7GYGUAJ4UYZ.SEARCH&ppt=hp&ppn=homepage&ssid=7gn4beomgw0000001694263541535&qH=16e35e1c76bc3b93', 'https://www.flipkart.com/redmi-note-12-ice-blue-64-gb/p/itmee415766dfc1a?pid=MOBGNYHZYZ4CNTCM&lid=LSTMOBGNYHZYZ4CNTCMVONB0S&marketplace=FLIPKART&q=redmi+smartphone&store=tyy%2F4io&srno=s_1_22&otracker=search&otracker1=search&fm=organic&iid=a35484ac-03fc-428d-ac61-c7c96712a1ac.MOBGNYHZYZ4CNTCM.SEARCH&ppt=hp&ppn=homepage&ssid=7gn4beomgw0000001694263541535&qH=16e35e1c76bc3b93', 'https://www.flipkart.com/redmi-note-12-lunar-black-64-gb/p/itm6756d6e7a86be?pid=MOBGNYHZJGGE3ZHM&lid=LSTMOBGNYHZJGGE3ZHMWSTXBO&marketplace=FLIPKART&q=redmi+smartphone&store=tyy%2F4io&srno=s_1_23&otracker=search&otracker1=search&fm=organic&iid=a35484ac-03fc-428d-ac61-c7c96712a1ac.MOBGNYHZJGGE3ZHM.SEARCH&ppt=hp&ppn=homepage&ssid=7gn4beomgw0000001694263541535&qH=16e35e1c76bc3b93', 'https://www.flipkart.com/redmi-note-12-sunrise-gold-64-gb/p/itm5d170187bcbf0?pid=MOBGNYHZ7ZGHES2V&lid=LSTMOBGNYHZ7ZGHES2VQILAET&marketplace=FLIPKART&q=redmi+smartphone&store=tyy%2F4io&srno=s_1_24&otracker=search&otracker1=search&fm=organic&iid=a35484ac-03fc-428d-ac61-c7c96712a1ac.MOBGNYHZ7ZGHES2V.SEARCH&ppt=hp&ppn=homepage&ssid=7gn4beomgw0000001694263541535&qH=16e35e1c76bc3b93']\n"
     ]
    },
    {
     "name": "stdout",
     "output_type": "stream",
     "text": [
      "['https://www.flipkart.com/redmi-12-moonstone-silver-128-gb/p/itme52e778c12701?pid=MOBGRMFK2MGRNG4Q&lid=LSTMOBGRMFK2MGRNG4QFZLVXT&marketplace=FLIPKART&q=redmi+smartphone&store=tyy%2F4io&spotlightTagId=BestsellerId_tyy%2F4io&srno=s_1_1&otracker=search&otracker1=search&fm=Search&iid=a35484ac-03fc-428d-ac61-c7c96712a1ac.MOBGRMFK2MGRNG4Q.SEARCH&ppt=sp&ppn=sp&ssid=7gn4beomgw0000001694263541535&qH=16e35e1c76bc3b93', 'https://www.flipkart.com/redmi-11-prime-peppy-purple-128-gb/p/itm52d6b0fe396e9?pid=MOBGZHFGUHYSHQYM&lid=LSTMOBGZHFGUHYSHQYMWGOOJ0&marketplace=FLIPKART&q=redmi+smartphone&store=tyy%2F4io&srno=s_1_2&otracker=search&otracker1=search&fm=organic&iid=a35484ac-03fc-428d-ac61-c7c96712a1ac.MOBGZHFGUHYSHQYM.SEARCH&ppt=hp&ppn=homepage&ssid=7gn4beomgw0000001694263541535&qH=16e35e1c76bc3b93', 'https://www.flipkart.com/redmi-12-jade-black-128-gb/p/itm7b10fd42f78b2?pid=MOBGRMFKKDQ2A3V4&lid=LSTMOBGRMFKKDQ2A3V4XZOVEW&marketplace=FLIPKART&q=redmi+smartphone&store=tyy%2F4io&spotlightTagId=BestsellerId_tyy%2F4io&srno=s_1_3&otracker=search&otracker1=search&fm=organic&iid=a35484ac-03fc-428d-ac61-c7c96712a1ac.MOBGRMFKKDQ2A3V4.SEARCH&ppt=hp&ppn=homepage&ssid=7gn4beomgw0000001694263541535&qH=16e35e1c76bc3b93', 'https://www.flipkart.com/redmi-12-pastel-blue-128-gb/p/itm48719506a7ceb?pid=MOBGRMFKKGYD9ETX&lid=LSTMOBGRMFKKGYD9ETX5KD9VL&marketplace=FLIPKART&q=redmi+smartphone&store=tyy%2F4io&spotlightTagId=BestsellerId_tyy%2F4io&srno=s_1_4&otracker=search&otracker1=search&fm=organic&iid=a35484ac-03fc-428d-ac61-c7c96712a1ac.MOBGRMFKKGYD9ETX.SEARCH&ppt=hp&ppn=homepage&ssid=7gn4beomgw0000001694263541535&qH=16e35e1c76bc3b93', 'https://www.flipkart.com/redmi-a1-black-32-gb/p/itm70b00a77a7d1d?pid=MOBGGYBABVXHHRDQ&lid=LSTMOBGGYBABVXHHRDQI6PZV5&marketplace=FLIPKART&q=redmi+smartphone&store=tyy%2F4io&srno=s_1_5&otracker=search&otracker1=search&fm=organic&iid=a35484ac-03fc-428d-ac61-c7c96712a1ac.MOBGGYBABVXHHRDQ.SEARCH&ppt=hp&ppn=homepage&ssid=7gn4beomgw0000001694263541535&qH=16e35e1c76bc3b93', 'https://www.flipkart.com/redmi-a2-aqua-blue-64-gb/p/itm5d49be2c0a95a?pid=MOBGR4UZWNAYKSUH&lid=LSTMOBGR4UZWNAYKSUHE3CTOU&marketplace=FLIPKART&q=redmi+smartphone&store=tyy%2F4io&srno=s_1_6&otracker=search&otracker1=search&fm=organic&iid=a35484ac-03fc-428d-ac61-c7c96712a1ac.MOBGR4UZWNAYKSUH.SEARCH&ppt=hp&ppn=homepage&ssid=7gn4beomgw0000001694263541535&qH=16e35e1c76bc3b93', 'https://www.flipkart.com/redmi-a2-classic-black-64-gb/p/itm5d49be2c0a95a?pid=MOBGPVYHRXZ3PFZU&lid=LSTMOBGPVYHRXZ3PFZU0QHLLF&marketplace=FLIPKART&q=redmi+smartphone&store=tyy%2F4io&srno=s_1_7&otracker=search&otracker1=search&fm=organic&iid=a35484ac-03fc-428d-ac61-c7c96712a1ac.MOBGPVYHRXZ3PFZU.SEARCH&ppt=hp&ppn=homepage&ssid=7gn4beomgw0000001694263541535&qH=16e35e1c76bc3b93', 'https://www.flipkart.com/redmi-a2-sea-green-32-gb/p/itm5d49be2c0a95a?pid=MOBGPVYATHJDTSSR&lid=LSTMOBGPVYATHJDTSSR6JMF4X&marketplace=FLIPKART&q=redmi+smartphone&store=tyy%2F4io&srno=s_1_8&otracker=search&otracker1=search&fm=organic&iid=a35484ac-03fc-428d-ac61-c7c96712a1ac.MOBGPVYATHJDTSSR.SEARCH&ppt=hp&ppn=homepage&ssid=7gn4beomgw0000001694263541535&qH=16e35e1c76bc3b93', 'https://www.flipkart.com/redmi-a2-aqua-blue-64-gb/p/itm5d49be2c0a95a?pid=MOBGPVYMG9RWX6XY&lid=LSTMOBGPVYMG9RWX6XYCWTZEK&marketplace=FLIPKART&q=redmi+smartphone&store=tyy%2F4io&srno=s_1_9&otracker=search&otracker1=search&fm=organic&iid=a35484ac-03fc-428d-ac61-c7c96712a1ac.MOBGPVYMG9RWX6XY.SEARCH&ppt=hp&ppn=homepage&ssid=7gn4beomgw0000001694263541535&qH=16e35e1c76bc3b93', 'https://www.flipkart.com/redmi-12-pastel-blue-128-gb/p/itm9b1a6640faccd?pid=MOBGRMFKAHNTZPWE&lid=LSTMOBGRMFKAHNTZPWE1H5IWS&marketplace=FLIPKART&q=redmi+smartphone&store=tyy%2F4io&srno=s_1_10&otracker=search&otracker1=search&fm=organic&iid=a35484ac-03fc-428d-ac61-c7c96712a1ac.MOBGRMFKAHNTZPWE.SEARCH&ppt=hp&ppn=homepage&ssid=7gn4beomgw0000001694263541535&qH=16e35e1c76bc3b93', 'https://www.flipkart.com/redmi-a2-aqua-blue-32-gb/p/itm5d49be2c0a95a?pid=MOBGPUZR8GHCE5ZQ&lid=LSTMOBGPUZR8GHCE5ZQ1P4DF9&marketplace=FLIPKART&q=redmi+smartphone&store=tyy%2F4io&srno=s_1_11&otracker=search&otracker1=search&fm=organic&iid=a35484ac-03fc-428d-ac61-c7c96712a1ac.MOBGPUZR8GHCE5ZQ.SEARCH&ppt=hp&ppn=homepage&ssid=7gn4beomgw0000001694263541535&qH=16e35e1c76bc3b93', 'https://www.flipkart.com/redmi-10-power-power-black-128-gb/p/itm97f5d2ec83588?pid=MOBGHDXFYKKZFZGV&lid=LSTMOBGHDXFYKKZFZGVE0QYTC&marketplace=FLIPKART&q=redmi+smartphone&store=tyy%2F4io&srno=s_1_12&otracker=search&otracker1=search&fm=organic&iid=a35484ac-03fc-428d-ac61-c7c96712a1ac.MOBGHDXFYKKZFZGV.SEARCH&ppt=hp&ppn=homepage&ssid=7gn4beomgw0000001694263541535&qH=16e35e1c76bc3b93', 'https://www.flipkart.com/redmi-6a-blue-16-gb/p/itm1ed294a755383?pid=MOBF9Z2Z3YDBSF6V&lid=LSTMOBF9Z2Z3YDBSF6VX16ZOH&marketplace=FLIPKART&q=redmi+smartphone&store=tyy%2F4io&srno=s_1_13&otracker=search&otracker1=search&fm=organic&iid=a35484ac-03fc-428d-ac61-c7c96712a1ac.MOBF9Z2Z3YDBSF6V.SEARCH&ppt=hp&ppn=homepage&ssid=7gn4beomgw0000001694263541535&qH=16e35e1c76bc3b93', 'https://www.flipkart.com/redmi-12-moonstone-silver-128-gb/p/itm6722b15672602?pid=MOBGRMFK4CSR7GGH&lid=LSTMOBGRMFK4CSR7GGHHKEX2Z&marketplace=FLIPKART&q=redmi+smartphone&store=tyy%2F4io&srno=s_1_14&otracker=search&otracker1=search&fm=organic&iid=a35484ac-03fc-428d-ac61-c7c96712a1ac.MOBGRMFK4CSR7GGH.SEARCH&ppt=hp&ppn=homepage&ssid=7gn4beomgw0000001694263541535&qH=16e35e1c76bc3b93', 'https://www.flipkart.com/redmi-a1-light-green-32-gb/p/itmecc9e7ba0a1df?pid=MOBGGYBAHSAJVKHP&lid=LSTMOBGGYBAHSAJVKHP4UBD9A&marketplace=FLIPKART&q=redmi+smartphone&store=tyy%2F4io&srno=s_1_15&otracker=search&otracker1=search&fm=organic&iid=a35484ac-03fc-428d-ac61-c7c96712a1ac.MOBGGYBAHSAJVKHP.SEARCH&ppt=hp&ppn=homepage&ssid=7gn4beomgw0000001694263541535&qH=16e35e1c76bc3b93', 'https://www.flipkart.com/redmi-11-prime-flashy-black-128-gb/p/itm01f508ea28ab0?pid=MOBGZHFGNDNWAZKZ&lid=LSTMOBGZHFGNDNWAZKZUMANTL&marketplace=FLIPKART&q=redmi+smartphone&store=tyy%2F4io&srno=s_1_16&otracker=search&otracker1=search&fm=organic&iid=a35484ac-03fc-428d-ac61-c7c96712a1ac.MOBGZHFGNDNWAZKZ.SEARCH&ppt=hp&ppn=homepage&ssid=7gn4beomgw0000001694263541535&qH=16e35e1c76bc3b93', 'https://www.flipkart.com/redmi-11-prime-playful-green-128-gb/p/itm0b080e6994972?pid=MOBGZHFGZQMESCDK&lid=LSTMOBGZHFGZQMESCDKZ6ILTE&marketplace=FLIPKART&q=redmi+smartphone&store=tyy%2F4io&srno=s_1_17&otracker=search&otracker1=search&fm=organic&iid=a35484ac-03fc-428d-ac61-c7c96712a1ac.MOBGZHFGZQMESCDK.SEARCH&ppt=hp&ppn=homepage&ssid=7gn4beomgw0000001694263541535&qH=16e35e1c76bc3b93', 'https://www.flipkart.com/redmi-a2-sea-green-64-gb/p/itm5d49be2c0a95a?pid=MOBGPVYEHMPGNCBZ&lid=LSTMOBGPVYEHMPGNCBZHUKI4Z&marketplace=FLIPKART&q=redmi+smartphone&store=tyy%2F4io&srno=s_1_18&otracker=search&otracker1=search&fm=organic&iid=a35484ac-03fc-428d-ac61-c7c96712a1ac.MOBGPVYEHMPGNCBZ.SEARCH&ppt=hp&ppn=homepage&ssid=7gn4beomgw0000001694263541535&qH=16e35e1c76bc3b93', 'https://www.flipkart.com/redmi-a2-classic-black-64-gb/p/itm5d49be2c0a95a?pid=MOBGRHB6XAEUADQB&lid=LSTMOBGRHB6XAEUADQBAI4AJ4&marketplace=FLIPKART&q=redmi+smartphone&store=tyy%2F4io&srno=s_1_19&otracker=search&otracker1=search&fm=organic&iid=a35484ac-03fc-428d-ac61-c7c96712a1ac.MOBGRHB6XAEUADQB.SEARCH&ppt=hp&ppn=homepage&ssid=7gn4beomgw0000001694263541535&qH=16e35e1c76bc3b93', 'https://www.flipkart.com/redmi-12-jade-black-128-gb/p/itmb7050ec01c09f?pid=MOBGRMFKTHKQSJEG&lid=LSTMOBGRMFKTHKQSJEGQK3FM2&marketplace=FLIPKART&q=redmi+smartphone&store=tyy%2F4io&srno=s_1_20&otracker=search&otracker1=search&fm=organic&iid=a35484ac-03fc-428d-ac61-c7c96712a1ac.MOBGRMFKTHKQSJEG.SEARCH&ppt=hp&ppn=homepage&ssid=7gn4beomgw0000001694263541535&qH=16e35e1c76bc3b93', 'https://www.flipkart.com/redmi-12-5g-jade-black-128-gb/p/itm0c8ba13f6fc5b?pid=MOBGS7GYGUAJ4UYZ&lid=LSTMOBGS7GYGUAJ4UYZQQUS5Q&marketplace=FLIPKART&q=redmi+smartphone&store=tyy%2F4io&srno=s_1_21&otracker=search&otracker1=search&fm=organic&iid=a35484ac-03fc-428d-ac61-c7c96712a1ac.MOBGS7GYGUAJ4UYZ.SEARCH&ppt=hp&ppn=homepage&ssid=7gn4beomgw0000001694263541535&qH=16e35e1c76bc3b93', 'https://www.flipkart.com/redmi-note-12-ice-blue-64-gb/p/itmee415766dfc1a?pid=MOBGNYHZYZ4CNTCM&lid=LSTMOBGNYHZYZ4CNTCMVONB0S&marketplace=FLIPKART&q=redmi+smartphone&store=tyy%2F4io&srno=s_1_22&otracker=search&otracker1=search&fm=organic&iid=a35484ac-03fc-428d-ac61-c7c96712a1ac.MOBGNYHZYZ4CNTCM.SEARCH&ppt=hp&ppn=homepage&ssid=7gn4beomgw0000001694263541535&qH=16e35e1c76bc3b93', 'https://www.flipkart.com/redmi-note-12-lunar-black-64-gb/p/itm6756d6e7a86be?pid=MOBGNYHZJGGE3ZHM&lid=LSTMOBGNYHZJGGE3ZHMWSTXBO&marketplace=FLIPKART&q=redmi+smartphone&store=tyy%2F4io&srno=s_1_23&otracker=search&otracker1=search&fm=organic&iid=a35484ac-03fc-428d-ac61-c7c96712a1ac.MOBGNYHZJGGE3ZHM.SEARCH&ppt=hp&ppn=homepage&ssid=7gn4beomgw0000001694263541535&qH=16e35e1c76bc3b93', 'https://www.flipkart.com/redmi-note-12-sunrise-gold-64-gb/p/itm5d170187bcbf0?pid=MOBGNYHZ7ZGHES2V&lid=LSTMOBGNYHZ7ZGHES2VQILAET&marketplace=FLIPKART&q=redmi+smartphone&store=tyy%2F4io&srno=s_1_24&otracker=search&otracker1=search&fm=organic&iid=a35484ac-03fc-428d-ac61-c7c96712a1ac.MOBGNYHZ7ZGHES2V.SEARCH&ppt=hp&ppn=homepage&ssid=7gn4beomgw0000001694263541535&qH=16e35e1c76bc3b93']\n",
      "['https://www.flipkart.com/redmi-12-moonstone-silver-128-gb/p/itme52e778c12701?pid=MOBGRMFK2MGRNG4Q&lid=LSTMOBGRMFK2MGRNG4QFZLVXT&marketplace=FLIPKART&q=redmi+smartphone&store=tyy%2F4io&spotlightTagId=BestsellerId_tyy%2F4io&srno=s_1_1&otracker=search&otracker1=search&fm=Search&iid=a35484ac-03fc-428d-ac61-c7c96712a1ac.MOBGRMFK2MGRNG4Q.SEARCH&ppt=sp&ppn=sp&ssid=7gn4beomgw0000001694263541535&qH=16e35e1c76bc3b93', 'https://www.flipkart.com/redmi-11-prime-peppy-purple-128-gb/p/itm52d6b0fe396e9?pid=MOBGZHFGUHYSHQYM&lid=LSTMOBGZHFGUHYSHQYMWGOOJ0&marketplace=FLIPKART&q=redmi+smartphone&store=tyy%2F4io&srno=s_1_2&otracker=search&otracker1=search&fm=organic&iid=a35484ac-03fc-428d-ac61-c7c96712a1ac.MOBGZHFGUHYSHQYM.SEARCH&ppt=hp&ppn=homepage&ssid=7gn4beomgw0000001694263541535&qH=16e35e1c76bc3b93', 'https://www.flipkart.com/redmi-12-jade-black-128-gb/p/itm7b10fd42f78b2?pid=MOBGRMFKKDQ2A3V4&lid=LSTMOBGRMFKKDQ2A3V4XZOVEW&marketplace=FLIPKART&q=redmi+smartphone&store=tyy%2F4io&spotlightTagId=BestsellerId_tyy%2F4io&srno=s_1_3&otracker=search&otracker1=search&fm=organic&iid=a35484ac-03fc-428d-ac61-c7c96712a1ac.MOBGRMFKKDQ2A3V4.SEARCH&ppt=hp&ppn=homepage&ssid=7gn4beomgw0000001694263541535&qH=16e35e1c76bc3b93', 'https://www.flipkart.com/redmi-12-pastel-blue-128-gb/p/itm48719506a7ceb?pid=MOBGRMFKKGYD9ETX&lid=LSTMOBGRMFKKGYD9ETX5KD9VL&marketplace=FLIPKART&q=redmi+smartphone&store=tyy%2F4io&spotlightTagId=BestsellerId_tyy%2F4io&srno=s_1_4&otracker=search&otracker1=search&fm=organic&iid=a35484ac-03fc-428d-ac61-c7c96712a1ac.MOBGRMFKKGYD9ETX.SEARCH&ppt=hp&ppn=homepage&ssid=7gn4beomgw0000001694263541535&qH=16e35e1c76bc3b93', 'https://www.flipkart.com/redmi-a1-black-32-gb/p/itm70b00a77a7d1d?pid=MOBGGYBABVXHHRDQ&lid=LSTMOBGGYBABVXHHRDQI6PZV5&marketplace=FLIPKART&q=redmi+smartphone&store=tyy%2F4io&srno=s_1_5&otracker=search&otracker1=search&fm=organic&iid=a35484ac-03fc-428d-ac61-c7c96712a1ac.MOBGGYBABVXHHRDQ.SEARCH&ppt=hp&ppn=homepage&ssid=7gn4beomgw0000001694263541535&qH=16e35e1c76bc3b93', 'https://www.flipkart.com/redmi-a2-aqua-blue-64-gb/p/itm5d49be2c0a95a?pid=MOBGR4UZWNAYKSUH&lid=LSTMOBGR4UZWNAYKSUHE3CTOU&marketplace=FLIPKART&q=redmi+smartphone&store=tyy%2F4io&srno=s_1_6&otracker=search&otracker1=search&fm=organic&iid=a35484ac-03fc-428d-ac61-c7c96712a1ac.MOBGR4UZWNAYKSUH.SEARCH&ppt=hp&ppn=homepage&ssid=7gn4beomgw0000001694263541535&qH=16e35e1c76bc3b93', 'https://www.flipkart.com/redmi-a2-classic-black-64-gb/p/itm5d49be2c0a95a?pid=MOBGPVYHRXZ3PFZU&lid=LSTMOBGPVYHRXZ3PFZU0QHLLF&marketplace=FLIPKART&q=redmi+smartphone&store=tyy%2F4io&srno=s_1_7&otracker=search&otracker1=search&fm=organic&iid=a35484ac-03fc-428d-ac61-c7c96712a1ac.MOBGPVYHRXZ3PFZU.SEARCH&ppt=hp&ppn=homepage&ssid=7gn4beomgw0000001694263541535&qH=16e35e1c76bc3b93', 'https://www.flipkart.com/redmi-a2-sea-green-32-gb/p/itm5d49be2c0a95a?pid=MOBGPVYATHJDTSSR&lid=LSTMOBGPVYATHJDTSSR6JMF4X&marketplace=FLIPKART&q=redmi+smartphone&store=tyy%2F4io&srno=s_1_8&otracker=search&otracker1=search&fm=organic&iid=a35484ac-03fc-428d-ac61-c7c96712a1ac.MOBGPVYATHJDTSSR.SEARCH&ppt=hp&ppn=homepage&ssid=7gn4beomgw0000001694263541535&qH=16e35e1c76bc3b93', 'https://www.flipkart.com/redmi-a2-aqua-blue-64-gb/p/itm5d49be2c0a95a?pid=MOBGPVYMG9RWX6XY&lid=LSTMOBGPVYMG9RWX6XYCWTZEK&marketplace=FLIPKART&q=redmi+smartphone&store=tyy%2F4io&srno=s_1_9&otracker=search&otracker1=search&fm=organic&iid=a35484ac-03fc-428d-ac61-c7c96712a1ac.MOBGPVYMG9RWX6XY.SEARCH&ppt=hp&ppn=homepage&ssid=7gn4beomgw0000001694263541535&qH=16e35e1c76bc3b93', 'https://www.flipkart.com/redmi-12-pastel-blue-128-gb/p/itm9b1a6640faccd?pid=MOBGRMFKAHNTZPWE&lid=LSTMOBGRMFKAHNTZPWE1H5IWS&marketplace=FLIPKART&q=redmi+smartphone&store=tyy%2F4io&srno=s_1_10&otracker=search&otracker1=search&fm=organic&iid=a35484ac-03fc-428d-ac61-c7c96712a1ac.MOBGRMFKAHNTZPWE.SEARCH&ppt=hp&ppn=homepage&ssid=7gn4beomgw0000001694263541535&qH=16e35e1c76bc3b93', 'https://www.flipkart.com/redmi-a2-aqua-blue-32-gb/p/itm5d49be2c0a95a?pid=MOBGPUZR8GHCE5ZQ&lid=LSTMOBGPUZR8GHCE5ZQ1P4DF9&marketplace=FLIPKART&q=redmi+smartphone&store=tyy%2F4io&srno=s_1_11&otracker=search&otracker1=search&fm=organic&iid=a35484ac-03fc-428d-ac61-c7c96712a1ac.MOBGPUZR8GHCE5ZQ.SEARCH&ppt=hp&ppn=homepage&ssid=7gn4beomgw0000001694263541535&qH=16e35e1c76bc3b93', 'https://www.flipkart.com/redmi-10-power-power-black-128-gb/p/itm97f5d2ec83588?pid=MOBGHDXFYKKZFZGV&lid=LSTMOBGHDXFYKKZFZGVE0QYTC&marketplace=FLIPKART&q=redmi+smartphone&store=tyy%2F4io&srno=s_1_12&otracker=search&otracker1=search&fm=organic&iid=a35484ac-03fc-428d-ac61-c7c96712a1ac.MOBGHDXFYKKZFZGV.SEARCH&ppt=hp&ppn=homepage&ssid=7gn4beomgw0000001694263541535&qH=16e35e1c76bc3b93', 'https://www.flipkart.com/redmi-6a-blue-16-gb/p/itm1ed294a755383?pid=MOBF9Z2Z3YDBSF6V&lid=LSTMOBF9Z2Z3YDBSF6VX16ZOH&marketplace=FLIPKART&q=redmi+smartphone&store=tyy%2F4io&srno=s_1_13&otracker=search&otracker1=search&fm=organic&iid=a35484ac-03fc-428d-ac61-c7c96712a1ac.MOBF9Z2Z3YDBSF6V.SEARCH&ppt=hp&ppn=homepage&ssid=7gn4beomgw0000001694263541535&qH=16e35e1c76bc3b93', 'https://www.flipkart.com/redmi-12-moonstone-silver-128-gb/p/itm6722b15672602?pid=MOBGRMFK4CSR7GGH&lid=LSTMOBGRMFK4CSR7GGHHKEX2Z&marketplace=FLIPKART&q=redmi+smartphone&store=tyy%2F4io&srno=s_1_14&otracker=search&otracker1=search&fm=organic&iid=a35484ac-03fc-428d-ac61-c7c96712a1ac.MOBGRMFK4CSR7GGH.SEARCH&ppt=hp&ppn=homepage&ssid=7gn4beomgw0000001694263541535&qH=16e35e1c76bc3b93', 'https://www.flipkart.com/redmi-a1-light-green-32-gb/p/itmecc9e7ba0a1df?pid=MOBGGYBAHSAJVKHP&lid=LSTMOBGGYBAHSAJVKHP4UBD9A&marketplace=FLIPKART&q=redmi+smartphone&store=tyy%2F4io&srno=s_1_15&otracker=search&otracker1=search&fm=organic&iid=a35484ac-03fc-428d-ac61-c7c96712a1ac.MOBGGYBAHSAJVKHP.SEARCH&ppt=hp&ppn=homepage&ssid=7gn4beomgw0000001694263541535&qH=16e35e1c76bc3b93', 'https://www.flipkart.com/redmi-11-prime-flashy-black-128-gb/p/itm01f508ea28ab0?pid=MOBGZHFGNDNWAZKZ&lid=LSTMOBGZHFGNDNWAZKZUMANTL&marketplace=FLIPKART&q=redmi+smartphone&store=tyy%2F4io&srno=s_1_16&otracker=search&otracker1=search&fm=organic&iid=a35484ac-03fc-428d-ac61-c7c96712a1ac.MOBGZHFGNDNWAZKZ.SEARCH&ppt=hp&ppn=homepage&ssid=7gn4beomgw0000001694263541535&qH=16e35e1c76bc3b93', 'https://www.flipkart.com/redmi-11-prime-playful-green-128-gb/p/itm0b080e6994972?pid=MOBGZHFGZQMESCDK&lid=LSTMOBGZHFGZQMESCDKZ6ILTE&marketplace=FLIPKART&q=redmi+smartphone&store=tyy%2F4io&srno=s_1_17&otracker=search&otracker1=search&fm=organic&iid=a35484ac-03fc-428d-ac61-c7c96712a1ac.MOBGZHFGZQMESCDK.SEARCH&ppt=hp&ppn=homepage&ssid=7gn4beomgw0000001694263541535&qH=16e35e1c76bc3b93', 'https://www.flipkart.com/redmi-a2-sea-green-64-gb/p/itm5d49be2c0a95a?pid=MOBGPVYEHMPGNCBZ&lid=LSTMOBGPVYEHMPGNCBZHUKI4Z&marketplace=FLIPKART&q=redmi+smartphone&store=tyy%2F4io&srno=s_1_18&otracker=search&otracker1=search&fm=organic&iid=a35484ac-03fc-428d-ac61-c7c96712a1ac.MOBGPVYEHMPGNCBZ.SEARCH&ppt=hp&ppn=homepage&ssid=7gn4beomgw0000001694263541535&qH=16e35e1c76bc3b93', 'https://www.flipkart.com/redmi-a2-classic-black-64-gb/p/itm5d49be2c0a95a?pid=MOBGRHB6XAEUADQB&lid=LSTMOBGRHB6XAEUADQBAI4AJ4&marketplace=FLIPKART&q=redmi+smartphone&store=tyy%2F4io&srno=s_1_19&otracker=search&otracker1=search&fm=organic&iid=a35484ac-03fc-428d-ac61-c7c96712a1ac.MOBGRHB6XAEUADQB.SEARCH&ppt=hp&ppn=homepage&ssid=7gn4beomgw0000001694263541535&qH=16e35e1c76bc3b93', 'https://www.flipkart.com/redmi-12-jade-black-128-gb/p/itmb7050ec01c09f?pid=MOBGRMFKTHKQSJEG&lid=LSTMOBGRMFKTHKQSJEGQK3FM2&marketplace=FLIPKART&q=redmi+smartphone&store=tyy%2F4io&srno=s_1_20&otracker=search&otracker1=search&fm=organic&iid=a35484ac-03fc-428d-ac61-c7c96712a1ac.MOBGRMFKTHKQSJEG.SEARCH&ppt=hp&ppn=homepage&ssid=7gn4beomgw0000001694263541535&qH=16e35e1c76bc3b93', 'https://www.flipkart.com/redmi-12-5g-jade-black-128-gb/p/itm0c8ba13f6fc5b?pid=MOBGS7GYGUAJ4UYZ&lid=LSTMOBGS7GYGUAJ4UYZQQUS5Q&marketplace=FLIPKART&q=redmi+smartphone&store=tyy%2F4io&srno=s_1_21&otracker=search&otracker1=search&fm=organic&iid=a35484ac-03fc-428d-ac61-c7c96712a1ac.MOBGS7GYGUAJ4UYZ.SEARCH&ppt=hp&ppn=homepage&ssid=7gn4beomgw0000001694263541535&qH=16e35e1c76bc3b93', 'https://www.flipkart.com/redmi-note-12-ice-blue-64-gb/p/itmee415766dfc1a?pid=MOBGNYHZYZ4CNTCM&lid=LSTMOBGNYHZYZ4CNTCMVONB0S&marketplace=FLIPKART&q=redmi+smartphone&store=tyy%2F4io&srno=s_1_22&otracker=search&otracker1=search&fm=organic&iid=a35484ac-03fc-428d-ac61-c7c96712a1ac.MOBGNYHZYZ4CNTCM.SEARCH&ppt=hp&ppn=homepage&ssid=7gn4beomgw0000001694263541535&qH=16e35e1c76bc3b93', 'https://www.flipkart.com/redmi-note-12-lunar-black-64-gb/p/itm6756d6e7a86be?pid=MOBGNYHZJGGE3ZHM&lid=LSTMOBGNYHZJGGE3ZHMWSTXBO&marketplace=FLIPKART&q=redmi+smartphone&store=tyy%2F4io&srno=s_1_23&otracker=search&otracker1=search&fm=organic&iid=a35484ac-03fc-428d-ac61-c7c96712a1ac.MOBGNYHZJGGE3ZHM.SEARCH&ppt=hp&ppn=homepage&ssid=7gn4beomgw0000001694263541535&qH=16e35e1c76bc3b93', 'https://www.flipkart.com/redmi-note-12-sunrise-gold-64-gb/p/itm5d170187bcbf0?pid=MOBGNYHZ7ZGHES2V&lid=LSTMOBGNYHZ7ZGHES2VQILAET&marketplace=FLIPKART&q=redmi+smartphone&store=tyy%2F4io&srno=s_1_24&otracker=search&otracker1=search&fm=organic&iid=a35484ac-03fc-428d-ac61-c7c96712a1ac.MOBGNYHZ7ZGHES2V.SEARCH&ppt=hp&ppn=homepage&ssid=7gn4beomgw0000001694263541535&qH=16e35e1c76bc3b93']\n"
     ]
    },
    {
     "name": "stdout",
     "output_type": "stream",
     "text": [
      "['https://www.flipkart.com/redmi-12-moonstone-silver-128-gb/p/itme52e778c12701?pid=MOBGRMFK2MGRNG4Q&lid=LSTMOBGRMFK2MGRNG4QFZLVXT&marketplace=FLIPKART&q=redmi+smartphone&store=tyy%2F4io&spotlightTagId=BestsellerId_tyy%2F4io&srno=s_1_1&otracker=search&otracker1=search&fm=Search&iid=a35484ac-03fc-428d-ac61-c7c96712a1ac.MOBGRMFK2MGRNG4Q.SEARCH&ppt=sp&ppn=sp&ssid=7gn4beomgw0000001694263541535&qH=16e35e1c76bc3b93', 'https://www.flipkart.com/redmi-11-prime-peppy-purple-128-gb/p/itm52d6b0fe396e9?pid=MOBGZHFGUHYSHQYM&lid=LSTMOBGZHFGUHYSHQYMWGOOJ0&marketplace=FLIPKART&q=redmi+smartphone&store=tyy%2F4io&srno=s_1_2&otracker=search&otracker1=search&fm=organic&iid=a35484ac-03fc-428d-ac61-c7c96712a1ac.MOBGZHFGUHYSHQYM.SEARCH&ppt=hp&ppn=homepage&ssid=7gn4beomgw0000001694263541535&qH=16e35e1c76bc3b93', 'https://www.flipkart.com/redmi-12-jade-black-128-gb/p/itm7b10fd42f78b2?pid=MOBGRMFKKDQ2A3V4&lid=LSTMOBGRMFKKDQ2A3V4XZOVEW&marketplace=FLIPKART&q=redmi+smartphone&store=tyy%2F4io&spotlightTagId=BestsellerId_tyy%2F4io&srno=s_1_3&otracker=search&otracker1=search&fm=organic&iid=a35484ac-03fc-428d-ac61-c7c96712a1ac.MOBGRMFKKDQ2A3V4.SEARCH&ppt=hp&ppn=homepage&ssid=7gn4beomgw0000001694263541535&qH=16e35e1c76bc3b93', 'https://www.flipkart.com/redmi-12-pastel-blue-128-gb/p/itm48719506a7ceb?pid=MOBGRMFKKGYD9ETX&lid=LSTMOBGRMFKKGYD9ETX5KD9VL&marketplace=FLIPKART&q=redmi+smartphone&store=tyy%2F4io&spotlightTagId=BestsellerId_tyy%2F4io&srno=s_1_4&otracker=search&otracker1=search&fm=organic&iid=a35484ac-03fc-428d-ac61-c7c96712a1ac.MOBGRMFKKGYD9ETX.SEARCH&ppt=hp&ppn=homepage&ssid=7gn4beomgw0000001694263541535&qH=16e35e1c76bc3b93', 'https://www.flipkart.com/redmi-a1-black-32-gb/p/itm70b00a77a7d1d?pid=MOBGGYBABVXHHRDQ&lid=LSTMOBGGYBABVXHHRDQI6PZV5&marketplace=FLIPKART&q=redmi+smartphone&store=tyy%2F4io&srno=s_1_5&otracker=search&otracker1=search&fm=organic&iid=a35484ac-03fc-428d-ac61-c7c96712a1ac.MOBGGYBABVXHHRDQ.SEARCH&ppt=hp&ppn=homepage&ssid=7gn4beomgw0000001694263541535&qH=16e35e1c76bc3b93', 'https://www.flipkart.com/redmi-a2-aqua-blue-64-gb/p/itm5d49be2c0a95a?pid=MOBGR4UZWNAYKSUH&lid=LSTMOBGR4UZWNAYKSUHE3CTOU&marketplace=FLIPKART&q=redmi+smartphone&store=tyy%2F4io&srno=s_1_6&otracker=search&otracker1=search&fm=organic&iid=a35484ac-03fc-428d-ac61-c7c96712a1ac.MOBGR4UZWNAYKSUH.SEARCH&ppt=hp&ppn=homepage&ssid=7gn4beomgw0000001694263541535&qH=16e35e1c76bc3b93', 'https://www.flipkart.com/redmi-a2-classic-black-64-gb/p/itm5d49be2c0a95a?pid=MOBGPVYHRXZ3PFZU&lid=LSTMOBGPVYHRXZ3PFZU0QHLLF&marketplace=FLIPKART&q=redmi+smartphone&store=tyy%2F4io&srno=s_1_7&otracker=search&otracker1=search&fm=organic&iid=a35484ac-03fc-428d-ac61-c7c96712a1ac.MOBGPVYHRXZ3PFZU.SEARCH&ppt=hp&ppn=homepage&ssid=7gn4beomgw0000001694263541535&qH=16e35e1c76bc3b93', 'https://www.flipkart.com/redmi-a2-sea-green-32-gb/p/itm5d49be2c0a95a?pid=MOBGPVYATHJDTSSR&lid=LSTMOBGPVYATHJDTSSR6JMF4X&marketplace=FLIPKART&q=redmi+smartphone&store=tyy%2F4io&srno=s_1_8&otracker=search&otracker1=search&fm=organic&iid=a35484ac-03fc-428d-ac61-c7c96712a1ac.MOBGPVYATHJDTSSR.SEARCH&ppt=hp&ppn=homepage&ssid=7gn4beomgw0000001694263541535&qH=16e35e1c76bc3b93', 'https://www.flipkart.com/redmi-a2-aqua-blue-64-gb/p/itm5d49be2c0a95a?pid=MOBGPVYMG9RWX6XY&lid=LSTMOBGPVYMG9RWX6XYCWTZEK&marketplace=FLIPKART&q=redmi+smartphone&store=tyy%2F4io&srno=s_1_9&otracker=search&otracker1=search&fm=organic&iid=a35484ac-03fc-428d-ac61-c7c96712a1ac.MOBGPVYMG9RWX6XY.SEARCH&ppt=hp&ppn=homepage&ssid=7gn4beomgw0000001694263541535&qH=16e35e1c76bc3b93', 'https://www.flipkart.com/redmi-12-pastel-blue-128-gb/p/itm9b1a6640faccd?pid=MOBGRMFKAHNTZPWE&lid=LSTMOBGRMFKAHNTZPWE1H5IWS&marketplace=FLIPKART&q=redmi+smartphone&store=tyy%2F4io&srno=s_1_10&otracker=search&otracker1=search&fm=organic&iid=a35484ac-03fc-428d-ac61-c7c96712a1ac.MOBGRMFKAHNTZPWE.SEARCH&ppt=hp&ppn=homepage&ssid=7gn4beomgw0000001694263541535&qH=16e35e1c76bc3b93', 'https://www.flipkart.com/redmi-a2-aqua-blue-32-gb/p/itm5d49be2c0a95a?pid=MOBGPUZR8GHCE5ZQ&lid=LSTMOBGPUZR8GHCE5ZQ1P4DF9&marketplace=FLIPKART&q=redmi+smartphone&store=tyy%2F4io&srno=s_1_11&otracker=search&otracker1=search&fm=organic&iid=a35484ac-03fc-428d-ac61-c7c96712a1ac.MOBGPUZR8GHCE5ZQ.SEARCH&ppt=hp&ppn=homepage&ssid=7gn4beomgw0000001694263541535&qH=16e35e1c76bc3b93', 'https://www.flipkart.com/redmi-10-power-power-black-128-gb/p/itm97f5d2ec83588?pid=MOBGHDXFYKKZFZGV&lid=LSTMOBGHDXFYKKZFZGVE0QYTC&marketplace=FLIPKART&q=redmi+smartphone&store=tyy%2F4io&srno=s_1_12&otracker=search&otracker1=search&fm=organic&iid=a35484ac-03fc-428d-ac61-c7c96712a1ac.MOBGHDXFYKKZFZGV.SEARCH&ppt=hp&ppn=homepage&ssid=7gn4beomgw0000001694263541535&qH=16e35e1c76bc3b93', 'https://www.flipkart.com/redmi-6a-blue-16-gb/p/itm1ed294a755383?pid=MOBF9Z2Z3YDBSF6V&lid=LSTMOBF9Z2Z3YDBSF6VX16ZOH&marketplace=FLIPKART&q=redmi+smartphone&store=tyy%2F4io&srno=s_1_13&otracker=search&otracker1=search&fm=organic&iid=a35484ac-03fc-428d-ac61-c7c96712a1ac.MOBF9Z2Z3YDBSF6V.SEARCH&ppt=hp&ppn=homepage&ssid=7gn4beomgw0000001694263541535&qH=16e35e1c76bc3b93', 'https://www.flipkart.com/redmi-12-moonstone-silver-128-gb/p/itm6722b15672602?pid=MOBGRMFK4CSR7GGH&lid=LSTMOBGRMFK4CSR7GGHHKEX2Z&marketplace=FLIPKART&q=redmi+smartphone&store=tyy%2F4io&srno=s_1_14&otracker=search&otracker1=search&fm=organic&iid=a35484ac-03fc-428d-ac61-c7c96712a1ac.MOBGRMFK4CSR7GGH.SEARCH&ppt=hp&ppn=homepage&ssid=7gn4beomgw0000001694263541535&qH=16e35e1c76bc3b93', 'https://www.flipkart.com/redmi-a1-light-green-32-gb/p/itmecc9e7ba0a1df?pid=MOBGGYBAHSAJVKHP&lid=LSTMOBGGYBAHSAJVKHP4UBD9A&marketplace=FLIPKART&q=redmi+smartphone&store=tyy%2F4io&srno=s_1_15&otracker=search&otracker1=search&fm=organic&iid=a35484ac-03fc-428d-ac61-c7c96712a1ac.MOBGGYBAHSAJVKHP.SEARCH&ppt=hp&ppn=homepage&ssid=7gn4beomgw0000001694263541535&qH=16e35e1c76bc3b93', 'https://www.flipkart.com/redmi-11-prime-flashy-black-128-gb/p/itm01f508ea28ab0?pid=MOBGZHFGNDNWAZKZ&lid=LSTMOBGZHFGNDNWAZKZUMANTL&marketplace=FLIPKART&q=redmi+smartphone&store=tyy%2F4io&srno=s_1_16&otracker=search&otracker1=search&fm=organic&iid=a35484ac-03fc-428d-ac61-c7c96712a1ac.MOBGZHFGNDNWAZKZ.SEARCH&ppt=hp&ppn=homepage&ssid=7gn4beomgw0000001694263541535&qH=16e35e1c76bc3b93', 'https://www.flipkart.com/redmi-11-prime-playful-green-128-gb/p/itm0b080e6994972?pid=MOBGZHFGZQMESCDK&lid=LSTMOBGZHFGZQMESCDKZ6ILTE&marketplace=FLIPKART&q=redmi+smartphone&store=tyy%2F4io&srno=s_1_17&otracker=search&otracker1=search&fm=organic&iid=a35484ac-03fc-428d-ac61-c7c96712a1ac.MOBGZHFGZQMESCDK.SEARCH&ppt=hp&ppn=homepage&ssid=7gn4beomgw0000001694263541535&qH=16e35e1c76bc3b93', 'https://www.flipkart.com/redmi-a2-sea-green-64-gb/p/itm5d49be2c0a95a?pid=MOBGPVYEHMPGNCBZ&lid=LSTMOBGPVYEHMPGNCBZHUKI4Z&marketplace=FLIPKART&q=redmi+smartphone&store=tyy%2F4io&srno=s_1_18&otracker=search&otracker1=search&fm=organic&iid=a35484ac-03fc-428d-ac61-c7c96712a1ac.MOBGPVYEHMPGNCBZ.SEARCH&ppt=hp&ppn=homepage&ssid=7gn4beomgw0000001694263541535&qH=16e35e1c76bc3b93', 'https://www.flipkart.com/redmi-a2-classic-black-64-gb/p/itm5d49be2c0a95a?pid=MOBGRHB6XAEUADQB&lid=LSTMOBGRHB6XAEUADQBAI4AJ4&marketplace=FLIPKART&q=redmi+smartphone&store=tyy%2F4io&srno=s_1_19&otracker=search&otracker1=search&fm=organic&iid=a35484ac-03fc-428d-ac61-c7c96712a1ac.MOBGRHB6XAEUADQB.SEARCH&ppt=hp&ppn=homepage&ssid=7gn4beomgw0000001694263541535&qH=16e35e1c76bc3b93', 'https://www.flipkart.com/redmi-12-jade-black-128-gb/p/itmb7050ec01c09f?pid=MOBGRMFKTHKQSJEG&lid=LSTMOBGRMFKTHKQSJEGQK3FM2&marketplace=FLIPKART&q=redmi+smartphone&store=tyy%2F4io&srno=s_1_20&otracker=search&otracker1=search&fm=organic&iid=a35484ac-03fc-428d-ac61-c7c96712a1ac.MOBGRMFKTHKQSJEG.SEARCH&ppt=hp&ppn=homepage&ssid=7gn4beomgw0000001694263541535&qH=16e35e1c76bc3b93', 'https://www.flipkart.com/redmi-12-5g-jade-black-128-gb/p/itm0c8ba13f6fc5b?pid=MOBGS7GYGUAJ4UYZ&lid=LSTMOBGS7GYGUAJ4UYZQQUS5Q&marketplace=FLIPKART&q=redmi+smartphone&store=tyy%2F4io&srno=s_1_21&otracker=search&otracker1=search&fm=organic&iid=a35484ac-03fc-428d-ac61-c7c96712a1ac.MOBGS7GYGUAJ4UYZ.SEARCH&ppt=hp&ppn=homepage&ssid=7gn4beomgw0000001694263541535&qH=16e35e1c76bc3b93', 'https://www.flipkart.com/redmi-note-12-ice-blue-64-gb/p/itmee415766dfc1a?pid=MOBGNYHZYZ4CNTCM&lid=LSTMOBGNYHZYZ4CNTCMVONB0S&marketplace=FLIPKART&q=redmi+smartphone&store=tyy%2F4io&srno=s_1_22&otracker=search&otracker1=search&fm=organic&iid=a35484ac-03fc-428d-ac61-c7c96712a1ac.MOBGNYHZYZ4CNTCM.SEARCH&ppt=hp&ppn=homepage&ssid=7gn4beomgw0000001694263541535&qH=16e35e1c76bc3b93', 'https://www.flipkart.com/redmi-note-12-lunar-black-64-gb/p/itm6756d6e7a86be?pid=MOBGNYHZJGGE3ZHM&lid=LSTMOBGNYHZJGGE3ZHMWSTXBO&marketplace=FLIPKART&q=redmi+smartphone&store=tyy%2F4io&srno=s_1_23&otracker=search&otracker1=search&fm=organic&iid=a35484ac-03fc-428d-ac61-c7c96712a1ac.MOBGNYHZJGGE3ZHM.SEARCH&ppt=hp&ppn=homepage&ssid=7gn4beomgw0000001694263541535&qH=16e35e1c76bc3b93', 'https://www.flipkart.com/redmi-note-12-sunrise-gold-64-gb/p/itm5d170187bcbf0?pid=MOBGNYHZ7ZGHES2V&lid=LSTMOBGNYHZ7ZGHES2VQILAET&marketplace=FLIPKART&q=redmi+smartphone&store=tyy%2F4io&srno=s_1_24&otracker=search&otracker1=search&fm=organic&iid=a35484ac-03fc-428d-ac61-c7c96712a1ac.MOBGNYHZ7ZGHES2V.SEARCH&ppt=hp&ppn=homepage&ssid=7gn4beomgw0000001694263541535&qH=16e35e1c76bc3b93']\n",
      "['https://www.flipkart.com/redmi-12-moonstone-silver-128-gb/p/itme52e778c12701?pid=MOBGRMFK2MGRNG4Q&lid=LSTMOBGRMFK2MGRNG4QFZLVXT&marketplace=FLIPKART&q=redmi+smartphone&store=tyy%2F4io&spotlightTagId=BestsellerId_tyy%2F4io&srno=s_1_1&otracker=search&otracker1=search&fm=Search&iid=a35484ac-03fc-428d-ac61-c7c96712a1ac.MOBGRMFK2MGRNG4Q.SEARCH&ppt=sp&ppn=sp&ssid=7gn4beomgw0000001694263541535&qH=16e35e1c76bc3b93', 'https://www.flipkart.com/redmi-11-prime-peppy-purple-128-gb/p/itm52d6b0fe396e9?pid=MOBGZHFGUHYSHQYM&lid=LSTMOBGZHFGUHYSHQYMWGOOJ0&marketplace=FLIPKART&q=redmi+smartphone&store=tyy%2F4io&srno=s_1_2&otracker=search&otracker1=search&fm=organic&iid=a35484ac-03fc-428d-ac61-c7c96712a1ac.MOBGZHFGUHYSHQYM.SEARCH&ppt=hp&ppn=homepage&ssid=7gn4beomgw0000001694263541535&qH=16e35e1c76bc3b93', 'https://www.flipkart.com/redmi-12-jade-black-128-gb/p/itm7b10fd42f78b2?pid=MOBGRMFKKDQ2A3V4&lid=LSTMOBGRMFKKDQ2A3V4XZOVEW&marketplace=FLIPKART&q=redmi+smartphone&store=tyy%2F4io&spotlightTagId=BestsellerId_tyy%2F4io&srno=s_1_3&otracker=search&otracker1=search&fm=organic&iid=a35484ac-03fc-428d-ac61-c7c96712a1ac.MOBGRMFKKDQ2A3V4.SEARCH&ppt=hp&ppn=homepage&ssid=7gn4beomgw0000001694263541535&qH=16e35e1c76bc3b93', 'https://www.flipkart.com/redmi-12-pastel-blue-128-gb/p/itm48719506a7ceb?pid=MOBGRMFKKGYD9ETX&lid=LSTMOBGRMFKKGYD9ETX5KD9VL&marketplace=FLIPKART&q=redmi+smartphone&store=tyy%2F4io&spotlightTagId=BestsellerId_tyy%2F4io&srno=s_1_4&otracker=search&otracker1=search&fm=organic&iid=a35484ac-03fc-428d-ac61-c7c96712a1ac.MOBGRMFKKGYD9ETX.SEARCH&ppt=hp&ppn=homepage&ssid=7gn4beomgw0000001694263541535&qH=16e35e1c76bc3b93', 'https://www.flipkart.com/redmi-a1-black-32-gb/p/itm70b00a77a7d1d?pid=MOBGGYBABVXHHRDQ&lid=LSTMOBGGYBABVXHHRDQI6PZV5&marketplace=FLIPKART&q=redmi+smartphone&store=tyy%2F4io&srno=s_1_5&otracker=search&otracker1=search&fm=organic&iid=a35484ac-03fc-428d-ac61-c7c96712a1ac.MOBGGYBABVXHHRDQ.SEARCH&ppt=hp&ppn=homepage&ssid=7gn4beomgw0000001694263541535&qH=16e35e1c76bc3b93', 'https://www.flipkart.com/redmi-a2-aqua-blue-64-gb/p/itm5d49be2c0a95a?pid=MOBGR4UZWNAYKSUH&lid=LSTMOBGR4UZWNAYKSUHE3CTOU&marketplace=FLIPKART&q=redmi+smartphone&store=tyy%2F4io&srno=s_1_6&otracker=search&otracker1=search&fm=organic&iid=a35484ac-03fc-428d-ac61-c7c96712a1ac.MOBGR4UZWNAYKSUH.SEARCH&ppt=hp&ppn=homepage&ssid=7gn4beomgw0000001694263541535&qH=16e35e1c76bc3b93', 'https://www.flipkart.com/redmi-a2-classic-black-64-gb/p/itm5d49be2c0a95a?pid=MOBGPVYHRXZ3PFZU&lid=LSTMOBGPVYHRXZ3PFZU0QHLLF&marketplace=FLIPKART&q=redmi+smartphone&store=tyy%2F4io&srno=s_1_7&otracker=search&otracker1=search&fm=organic&iid=a35484ac-03fc-428d-ac61-c7c96712a1ac.MOBGPVYHRXZ3PFZU.SEARCH&ppt=hp&ppn=homepage&ssid=7gn4beomgw0000001694263541535&qH=16e35e1c76bc3b93', 'https://www.flipkart.com/redmi-a2-sea-green-32-gb/p/itm5d49be2c0a95a?pid=MOBGPVYATHJDTSSR&lid=LSTMOBGPVYATHJDTSSR6JMF4X&marketplace=FLIPKART&q=redmi+smartphone&store=tyy%2F4io&srno=s_1_8&otracker=search&otracker1=search&fm=organic&iid=a35484ac-03fc-428d-ac61-c7c96712a1ac.MOBGPVYATHJDTSSR.SEARCH&ppt=hp&ppn=homepage&ssid=7gn4beomgw0000001694263541535&qH=16e35e1c76bc3b93', 'https://www.flipkart.com/redmi-a2-aqua-blue-64-gb/p/itm5d49be2c0a95a?pid=MOBGPVYMG9RWX6XY&lid=LSTMOBGPVYMG9RWX6XYCWTZEK&marketplace=FLIPKART&q=redmi+smartphone&store=tyy%2F4io&srno=s_1_9&otracker=search&otracker1=search&fm=organic&iid=a35484ac-03fc-428d-ac61-c7c96712a1ac.MOBGPVYMG9RWX6XY.SEARCH&ppt=hp&ppn=homepage&ssid=7gn4beomgw0000001694263541535&qH=16e35e1c76bc3b93', 'https://www.flipkart.com/redmi-12-pastel-blue-128-gb/p/itm9b1a6640faccd?pid=MOBGRMFKAHNTZPWE&lid=LSTMOBGRMFKAHNTZPWE1H5IWS&marketplace=FLIPKART&q=redmi+smartphone&store=tyy%2F4io&srno=s_1_10&otracker=search&otracker1=search&fm=organic&iid=a35484ac-03fc-428d-ac61-c7c96712a1ac.MOBGRMFKAHNTZPWE.SEARCH&ppt=hp&ppn=homepage&ssid=7gn4beomgw0000001694263541535&qH=16e35e1c76bc3b93', 'https://www.flipkart.com/redmi-a2-aqua-blue-32-gb/p/itm5d49be2c0a95a?pid=MOBGPUZR8GHCE5ZQ&lid=LSTMOBGPUZR8GHCE5ZQ1P4DF9&marketplace=FLIPKART&q=redmi+smartphone&store=tyy%2F4io&srno=s_1_11&otracker=search&otracker1=search&fm=organic&iid=a35484ac-03fc-428d-ac61-c7c96712a1ac.MOBGPUZR8GHCE5ZQ.SEARCH&ppt=hp&ppn=homepage&ssid=7gn4beomgw0000001694263541535&qH=16e35e1c76bc3b93', 'https://www.flipkart.com/redmi-10-power-power-black-128-gb/p/itm97f5d2ec83588?pid=MOBGHDXFYKKZFZGV&lid=LSTMOBGHDXFYKKZFZGVE0QYTC&marketplace=FLIPKART&q=redmi+smartphone&store=tyy%2F4io&srno=s_1_12&otracker=search&otracker1=search&fm=organic&iid=a35484ac-03fc-428d-ac61-c7c96712a1ac.MOBGHDXFYKKZFZGV.SEARCH&ppt=hp&ppn=homepage&ssid=7gn4beomgw0000001694263541535&qH=16e35e1c76bc3b93', 'https://www.flipkart.com/redmi-6a-blue-16-gb/p/itm1ed294a755383?pid=MOBF9Z2Z3YDBSF6V&lid=LSTMOBF9Z2Z3YDBSF6VX16ZOH&marketplace=FLIPKART&q=redmi+smartphone&store=tyy%2F4io&srno=s_1_13&otracker=search&otracker1=search&fm=organic&iid=a35484ac-03fc-428d-ac61-c7c96712a1ac.MOBF9Z2Z3YDBSF6V.SEARCH&ppt=hp&ppn=homepage&ssid=7gn4beomgw0000001694263541535&qH=16e35e1c76bc3b93', 'https://www.flipkart.com/redmi-12-moonstone-silver-128-gb/p/itm6722b15672602?pid=MOBGRMFK4CSR7GGH&lid=LSTMOBGRMFK4CSR7GGHHKEX2Z&marketplace=FLIPKART&q=redmi+smartphone&store=tyy%2F4io&srno=s_1_14&otracker=search&otracker1=search&fm=organic&iid=a35484ac-03fc-428d-ac61-c7c96712a1ac.MOBGRMFK4CSR7GGH.SEARCH&ppt=hp&ppn=homepage&ssid=7gn4beomgw0000001694263541535&qH=16e35e1c76bc3b93', 'https://www.flipkart.com/redmi-a1-light-green-32-gb/p/itmecc9e7ba0a1df?pid=MOBGGYBAHSAJVKHP&lid=LSTMOBGGYBAHSAJVKHP4UBD9A&marketplace=FLIPKART&q=redmi+smartphone&store=tyy%2F4io&srno=s_1_15&otracker=search&otracker1=search&fm=organic&iid=a35484ac-03fc-428d-ac61-c7c96712a1ac.MOBGGYBAHSAJVKHP.SEARCH&ppt=hp&ppn=homepage&ssid=7gn4beomgw0000001694263541535&qH=16e35e1c76bc3b93', 'https://www.flipkart.com/redmi-11-prime-flashy-black-128-gb/p/itm01f508ea28ab0?pid=MOBGZHFGNDNWAZKZ&lid=LSTMOBGZHFGNDNWAZKZUMANTL&marketplace=FLIPKART&q=redmi+smartphone&store=tyy%2F4io&srno=s_1_16&otracker=search&otracker1=search&fm=organic&iid=a35484ac-03fc-428d-ac61-c7c96712a1ac.MOBGZHFGNDNWAZKZ.SEARCH&ppt=hp&ppn=homepage&ssid=7gn4beomgw0000001694263541535&qH=16e35e1c76bc3b93', 'https://www.flipkart.com/redmi-11-prime-playful-green-128-gb/p/itm0b080e6994972?pid=MOBGZHFGZQMESCDK&lid=LSTMOBGZHFGZQMESCDKZ6ILTE&marketplace=FLIPKART&q=redmi+smartphone&store=tyy%2F4io&srno=s_1_17&otracker=search&otracker1=search&fm=organic&iid=a35484ac-03fc-428d-ac61-c7c96712a1ac.MOBGZHFGZQMESCDK.SEARCH&ppt=hp&ppn=homepage&ssid=7gn4beomgw0000001694263541535&qH=16e35e1c76bc3b93', 'https://www.flipkart.com/redmi-a2-sea-green-64-gb/p/itm5d49be2c0a95a?pid=MOBGPVYEHMPGNCBZ&lid=LSTMOBGPVYEHMPGNCBZHUKI4Z&marketplace=FLIPKART&q=redmi+smartphone&store=tyy%2F4io&srno=s_1_18&otracker=search&otracker1=search&fm=organic&iid=a35484ac-03fc-428d-ac61-c7c96712a1ac.MOBGPVYEHMPGNCBZ.SEARCH&ppt=hp&ppn=homepage&ssid=7gn4beomgw0000001694263541535&qH=16e35e1c76bc3b93', 'https://www.flipkart.com/redmi-a2-classic-black-64-gb/p/itm5d49be2c0a95a?pid=MOBGRHB6XAEUADQB&lid=LSTMOBGRHB6XAEUADQBAI4AJ4&marketplace=FLIPKART&q=redmi+smartphone&store=tyy%2F4io&srno=s_1_19&otracker=search&otracker1=search&fm=organic&iid=a35484ac-03fc-428d-ac61-c7c96712a1ac.MOBGRHB6XAEUADQB.SEARCH&ppt=hp&ppn=homepage&ssid=7gn4beomgw0000001694263541535&qH=16e35e1c76bc3b93', 'https://www.flipkart.com/redmi-12-jade-black-128-gb/p/itmb7050ec01c09f?pid=MOBGRMFKTHKQSJEG&lid=LSTMOBGRMFKTHKQSJEGQK3FM2&marketplace=FLIPKART&q=redmi+smartphone&store=tyy%2F4io&srno=s_1_20&otracker=search&otracker1=search&fm=organic&iid=a35484ac-03fc-428d-ac61-c7c96712a1ac.MOBGRMFKTHKQSJEG.SEARCH&ppt=hp&ppn=homepage&ssid=7gn4beomgw0000001694263541535&qH=16e35e1c76bc3b93', 'https://www.flipkart.com/redmi-12-5g-jade-black-128-gb/p/itm0c8ba13f6fc5b?pid=MOBGS7GYGUAJ4UYZ&lid=LSTMOBGS7GYGUAJ4UYZQQUS5Q&marketplace=FLIPKART&q=redmi+smartphone&store=tyy%2F4io&srno=s_1_21&otracker=search&otracker1=search&fm=organic&iid=a35484ac-03fc-428d-ac61-c7c96712a1ac.MOBGS7GYGUAJ4UYZ.SEARCH&ppt=hp&ppn=homepage&ssid=7gn4beomgw0000001694263541535&qH=16e35e1c76bc3b93', 'https://www.flipkart.com/redmi-note-12-ice-blue-64-gb/p/itmee415766dfc1a?pid=MOBGNYHZYZ4CNTCM&lid=LSTMOBGNYHZYZ4CNTCMVONB0S&marketplace=FLIPKART&q=redmi+smartphone&store=tyy%2F4io&srno=s_1_22&otracker=search&otracker1=search&fm=organic&iid=a35484ac-03fc-428d-ac61-c7c96712a1ac.MOBGNYHZYZ4CNTCM.SEARCH&ppt=hp&ppn=homepage&ssid=7gn4beomgw0000001694263541535&qH=16e35e1c76bc3b93', 'https://www.flipkart.com/redmi-note-12-lunar-black-64-gb/p/itm6756d6e7a86be?pid=MOBGNYHZJGGE3ZHM&lid=LSTMOBGNYHZJGGE3ZHMWSTXBO&marketplace=FLIPKART&q=redmi+smartphone&store=tyy%2F4io&srno=s_1_23&otracker=search&otracker1=search&fm=organic&iid=a35484ac-03fc-428d-ac61-c7c96712a1ac.MOBGNYHZJGGE3ZHM.SEARCH&ppt=hp&ppn=homepage&ssid=7gn4beomgw0000001694263541535&qH=16e35e1c76bc3b93', 'https://www.flipkart.com/redmi-note-12-sunrise-gold-64-gb/p/itm5d170187bcbf0?pid=MOBGNYHZ7ZGHES2V&lid=LSTMOBGNYHZ7ZGHES2VQILAET&marketplace=FLIPKART&q=redmi+smartphone&store=tyy%2F4io&srno=s_1_24&otracker=search&otracker1=search&fm=organic&iid=a35484ac-03fc-428d-ac61-c7c96712a1ac.MOBGNYHZ7ZGHES2V.SEARCH&ppt=hp&ppn=homepage&ssid=7gn4beomgw0000001694263541535&qH=16e35e1c76bc3b93']\n"
     ]
    },
    {
     "name": "stdout",
     "output_type": "stream",
     "text": [
      "['https://www.flipkart.com/redmi-12-moonstone-silver-128-gb/p/itme52e778c12701?pid=MOBGRMFK2MGRNG4Q&lid=LSTMOBGRMFK2MGRNG4QFZLVXT&marketplace=FLIPKART&q=redmi+smartphone&store=tyy%2F4io&spotlightTagId=BestsellerId_tyy%2F4io&srno=s_1_1&otracker=search&otracker1=search&fm=Search&iid=a35484ac-03fc-428d-ac61-c7c96712a1ac.MOBGRMFK2MGRNG4Q.SEARCH&ppt=sp&ppn=sp&ssid=7gn4beomgw0000001694263541535&qH=16e35e1c76bc3b93', 'https://www.flipkart.com/redmi-11-prime-peppy-purple-128-gb/p/itm52d6b0fe396e9?pid=MOBGZHFGUHYSHQYM&lid=LSTMOBGZHFGUHYSHQYMWGOOJ0&marketplace=FLIPKART&q=redmi+smartphone&store=tyy%2F4io&srno=s_1_2&otracker=search&otracker1=search&fm=organic&iid=a35484ac-03fc-428d-ac61-c7c96712a1ac.MOBGZHFGUHYSHQYM.SEARCH&ppt=hp&ppn=homepage&ssid=7gn4beomgw0000001694263541535&qH=16e35e1c76bc3b93', 'https://www.flipkart.com/redmi-12-jade-black-128-gb/p/itm7b10fd42f78b2?pid=MOBGRMFKKDQ2A3V4&lid=LSTMOBGRMFKKDQ2A3V4XZOVEW&marketplace=FLIPKART&q=redmi+smartphone&store=tyy%2F4io&spotlightTagId=BestsellerId_tyy%2F4io&srno=s_1_3&otracker=search&otracker1=search&fm=organic&iid=a35484ac-03fc-428d-ac61-c7c96712a1ac.MOBGRMFKKDQ2A3V4.SEARCH&ppt=hp&ppn=homepage&ssid=7gn4beomgw0000001694263541535&qH=16e35e1c76bc3b93', 'https://www.flipkart.com/redmi-12-pastel-blue-128-gb/p/itm48719506a7ceb?pid=MOBGRMFKKGYD9ETX&lid=LSTMOBGRMFKKGYD9ETX5KD9VL&marketplace=FLIPKART&q=redmi+smartphone&store=tyy%2F4io&spotlightTagId=BestsellerId_tyy%2F4io&srno=s_1_4&otracker=search&otracker1=search&fm=organic&iid=a35484ac-03fc-428d-ac61-c7c96712a1ac.MOBGRMFKKGYD9ETX.SEARCH&ppt=hp&ppn=homepage&ssid=7gn4beomgw0000001694263541535&qH=16e35e1c76bc3b93', 'https://www.flipkart.com/redmi-a1-black-32-gb/p/itm70b00a77a7d1d?pid=MOBGGYBABVXHHRDQ&lid=LSTMOBGGYBABVXHHRDQI6PZV5&marketplace=FLIPKART&q=redmi+smartphone&store=tyy%2F4io&srno=s_1_5&otracker=search&otracker1=search&fm=organic&iid=a35484ac-03fc-428d-ac61-c7c96712a1ac.MOBGGYBABVXHHRDQ.SEARCH&ppt=hp&ppn=homepage&ssid=7gn4beomgw0000001694263541535&qH=16e35e1c76bc3b93', 'https://www.flipkart.com/redmi-a2-aqua-blue-64-gb/p/itm5d49be2c0a95a?pid=MOBGR4UZWNAYKSUH&lid=LSTMOBGR4UZWNAYKSUHE3CTOU&marketplace=FLIPKART&q=redmi+smartphone&store=tyy%2F4io&srno=s_1_6&otracker=search&otracker1=search&fm=organic&iid=a35484ac-03fc-428d-ac61-c7c96712a1ac.MOBGR4UZWNAYKSUH.SEARCH&ppt=hp&ppn=homepage&ssid=7gn4beomgw0000001694263541535&qH=16e35e1c76bc3b93', 'https://www.flipkart.com/redmi-a2-classic-black-64-gb/p/itm5d49be2c0a95a?pid=MOBGPVYHRXZ3PFZU&lid=LSTMOBGPVYHRXZ3PFZU0QHLLF&marketplace=FLIPKART&q=redmi+smartphone&store=tyy%2F4io&srno=s_1_7&otracker=search&otracker1=search&fm=organic&iid=a35484ac-03fc-428d-ac61-c7c96712a1ac.MOBGPVYHRXZ3PFZU.SEARCH&ppt=hp&ppn=homepage&ssid=7gn4beomgw0000001694263541535&qH=16e35e1c76bc3b93', 'https://www.flipkart.com/redmi-a2-sea-green-32-gb/p/itm5d49be2c0a95a?pid=MOBGPVYATHJDTSSR&lid=LSTMOBGPVYATHJDTSSR6JMF4X&marketplace=FLIPKART&q=redmi+smartphone&store=tyy%2F4io&srno=s_1_8&otracker=search&otracker1=search&fm=organic&iid=a35484ac-03fc-428d-ac61-c7c96712a1ac.MOBGPVYATHJDTSSR.SEARCH&ppt=hp&ppn=homepage&ssid=7gn4beomgw0000001694263541535&qH=16e35e1c76bc3b93', 'https://www.flipkart.com/redmi-a2-aqua-blue-64-gb/p/itm5d49be2c0a95a?pid=MOBGPVYMG9RWX6XY&lid=LSTMOBGPVYMG9RWX6XYCWTZEK&marketplace=FLIPKART&q=redmi+smartphone&store=tyy%2F4io&srno=s_1_9&otracker=search&otracker1=search&fm=organic&iid=a35484ac-03fc-428d-ac61-c7c96712a1ac.MOBGPVYMG9RWX6XY.SEARCH&ppt=hp&ppn=homepage&ssid=7gn4beomgw0000001694263541535&qH=16e35e1c76bc3b93', 'https://www.flipkart.com/redmi-12-pastel-blue-128-gb/p/itm9b1a6640faccd?pid=MOBGRMFKAHNTZPWE&lid=LSTMOBGRMFKAHNTZPWE1H5IWS&marketplace=FLIPKART&q=redmi+smartphone&store=tyy%2F4io&srno=s_1_10&otracker=search&otracker1=search&fm=organic&iid=a35484ac-03fc-428d-ac61-c7c96712a1ac.MOBGRMFKAHNTZPWE.SEARCH&ppt=hp&ppn=homepage&ssid=7gn4beomgw0000001694263541535&qH=16e35e1c76bc3b93', 'https://www.flipkart.com/redmi-a2-aqua-blue-32-gb/p/itm5d49be2c0a95a?pid=MOBGPUZR8GHCE5ZQ&lid=LSTMOBGPUZR8GHCE5ZQ1P4DF9&marketplace=FLIPKART&q=redmi+smartphone&store=tyy%2F4io&srno=s_1_11&otracker=search&otracker1=search&fm=organic&iid=a35484ac-03fc-428d-ac61-c7c96712a1ac.MOBGPUZR8GHCE5ZQ.SEARCH&ppt=hp&ppn=homepage&ssid=7gn4beomgw0000001694263541535&qH=16e35e1c76bc3b93', 'https://www.flipkart.com/redmi-10-power-power-black-128-gb/p/itm97f5d2ec83588?pid=MOBGHDXFYKKZFZGV&lid=LSTMOBGHDXFYKKZFZGVE0QYTC&marketplace=FLIPKART&q=redmi+smartphone&store=tyy%2F4io&srno=s_1_12&otracker=search&otracker1=search&fm=organic&iid=a35484ac-03fc-428d-ac61-c7c96712a1ac.MOBGHDXFYKKZFZGV.SEARCH&ppt=hp&ppn=homepage&ssid=7gn4beomgw0000001694263541535&qH=16e35e1c76bc3b93', 'https://www.flipkart.com/redmi-6a-blue-16-gb/p/itm1ed294a755383?pid=MOBF9Z2Z3YDBSF6V&lid=LSTMOBF9Z2Z3YDBSF6VX16ZOH&marketplace=FLIPKART&q=redmi+smartphone&store=tyy%2F4io&srno=s_1_13&otracker=search&otracker1=search&fm=organic&iid=a35484ac-03fc-428d-ac61-c7c96712a1ac.MOBF9Z2Z3YDBSF6V.SEARCH&ppt=hp&ppn=homepage&ssid=7gn4beomgw0000001694263541535&qH=16e35e1c76bc3b93', 'https://www.flipkart.com/redmi-12-moonstone-silver-128-gb/p/itm6722b15672602?pid=MOBGRMFK4CSR7GGH&lid=LSTMOBGRMFK4CSR7GGHHKEX2Z&marketplace=FLIPKART&q=redmi+smartphone&store=tyy%2F4io&srno=s_1_14&otracker=search&otracker1=search&fm=organic&iid=a35484ac-03fc-428d-ac61-c7c96712a1ac.MOBGRMFK4CSR7GGH.SEARCH&ppt=hp&ppn=homepage&ssid=7gn4beomgw0000001694263541535&qH=16e35e1c76bc3b93', 'https://www.flipkart.com/redmi-a1-light-green-32-gb/p/itmecc9e7ba0a1df?pid=MOBGGYBAHSAJVKHP&lid=LSTMOBGGYBAHSAJVKHP4UBD9A&marketplace=FLIPKART&q=redmi+smartphone&store=tyy%2F4io&srno=s_1_15&otracker=search&otracker1=search&fm=organic&iid=a35484ac-03fc-428d-ac61-c7c96712a1ac.MOBGGYBAHSAJVKHP.SEARCH&ppt=hp&ppn=homepage&ssid=7gn4beomgw0000001694263541535&qH=16e35e1c76bc3b93', 'https://www.flipkart.com/redmi-11-prime-flashy-black-128-gb/p/itm01f508ea28ab0?pid=MOBGZHFGNDNWAZKZ&lid=LSTMOBGZHFGNDNWAZKZUMANTL&marketplace=FLIPKART&q=redmi+smartphone&store=tyy%2F4io&srno=s_1_16&otracker=search&otracker1=search&fm=organic&iid=a35484ac-03fc-428d-ac61-c7c96712a1ac.MOBGZHFGNDNWAZKZ.SEARCH&ppt=hp&ppn=homepage&ssid=7gn4beomgw0000001694263541535&qH=16e35e1c76bc3b93', 'https://www.flipkart.com/redmi-11-prime-playful-green-128-gb/p/itm0b080e6994972?pid=MOBGZHFGZQMESCDK&lid=LSTMOBGZHFGZQMESCDKZ6ILTE&marketplace=FLIPKART&q=redmi+smartphone&store=tyy%2F4io&srno=s_1_17&otracker=search&otracker1=search&fm=organic&iid=a35484ac-03fc-428d-ac61-c7c96712a1ac.MOBGZHFGZQMESCDK.SEARCH&ppt=hp&ppn=homepage&ssid=7gn4beomgw0000001694263541535&qH=16e35e1c76bc3b93', 'https://www.flipkart.com/redmi-a2-sea-green-64-gb/p/itm5d49be2c0a95a?pid=MOBGPVYEHMPGNCBZ&lid=LSTMOBGPVYEHMPGNCBZHUKI4Z&marketplace=FLIPKART&q=redmi+smartphone&store=tyy%2F4io&srno=s_1_18&otracker=search&otracker1=search&fm=organic&iid=a35484ac-03fc-428d-ac61-c7c96712a1ac.MOBGPVYEHMPGNCBZ.SEARCH&ppt=hp&ppn=homepage&ssid=7gn4beomgw0000001694263541535&qH=16e35e1c76bc3b93', 'https://www.flipkart.com/redmi-a2-classic-black-64-gb/p/itm5d49be2c0a95a?pid=MOBGRHB6XAEUADQB&lid=LSTMOBGRHB6XAEUADQBAI4AJ4&marketplace=FLIPKART&q=redmi+smartphone&store=tyy%2F4io&srno=s_1_19&otracker=search&otracker1=search&fm=organic&iid=a35484ac-03fc-428d-ac61-c7c96712a1ac.MOBGRHB6XAEUADQB.SEARCH&ppt=hp&ppn=homepage&ssid=7gn4beomgw0000001694263541535&qH=16e35e1c76bc3b93', 'https://www.flipkart.com/redmi-12-jade-black-128-gb/p/itmb7050ec01c09f?pid=MOBGRMFKTHKQSJEG&lid=LSTMOBGRMFKTHKQSJEGQK3FM2&marketplace=FLIPKART&q=redmi+smartphone&store=tyy%2F4io&srno=s_1_20&otracker=search&otracker1=search&fm=organic&iid=a35484ac-03fc-428d-ac61-c7c96712a1ac.MOBGRMFKTHKQSJEG.SEARCH&ppt=hp&ppn=homepage&ssid=7gn4beomgw0000001694263541535&qH=16e35e1c76bc3b93', 'https://www.flipkart.com/redmi-12-5g-jade-black-128-gb/p/itm0c8ba13f6fc5b?pid=MOBGS7GYGUAJ4UYZ&lid=LSTMOBGS7GYGUAJ4UYZQQUS5Q&marketplace=FLIPKART&q=redmi+smartphone&store=tyy%2F4io&srno=s_1_21&otracker=search&otracker1=search&fm=organic&iid=a35484ac-03fc-428d-ac61-c7c96712a1ac.MOBGS7GYGUAJ4UYZ.SEARCH&ppt=hp&ppn=homepage&ssid=7gn4beomgw0000001694263541535&qH=16e35e1c76bc3b93', 'https://www.flipkart.com/redmi-note-12-ice-blue-64-gb/p/itmee415766dfc1a?pid=MOBGNYHZYZ4CNTCM&lid=LSTMOBGNYHZYZ4CNTCMVONB0S&marketplace=FLIPKART&q=redmi+smartphone&store=tyy%2F4io&srno=s_1_22&otracker=search&otracker1=search&fm=organic&iid=a35484ac-03fc-428d-ac61-c7c96712a1ac.MOBGNYHZYZ4CNTCM.SEARCH&ppt=hp&ppn=homepage&ssid=7gn4beomgw0000001694263541535&qH=16e35e1c76bc3b93', 'https://www.flipkart.com/redmi-note-12-lunar-black-64-gb/p/itm6756d6e7a86be?pid=MOBGNYHZJGGE3ZHM&lid=LSTMOBGNYHZJGGE3ZHMWSTXBO&marketplace=FLIPKART&q=redmi+smartphone&store=tyy%2F4io&srno=s_1_23&otracker=search&otracker1=search&fm=organic&iid=a35484ac-03fc-428d-ac61-c7c96712a1ac.MOBGNYHZJGGE3ZHM.SEARCH&ppt=hp&ppn=homepage&ssid=7gn4beomgw0000001694263541535&qH=16e35e1c76bc3b93', 'https://www.flipkart.com/redmi-note-12-sunrise-gold-64-gb/p/itm5d170187bcbf0?pid=MOBGNYHZ7ZGHES2V&lid=LSTMOBGNYHZ7ZGHES2VQILAET&marketplace=FLIPKART&q=redmi+smartphone&store=tyy%2F4io&srno=s_1_24&otracker=search&otracker1=search&fm=organic&iid=a35484ac-03fc-428d-ac61-c7c96712a1ac.MOBGNYHZ7ZGHES2V.SEARCH&ppt=hp&ppn=homepage&ssid=7gn4beomgw0000001694263541535&qH=16e35e1c76bc3b93']\n",
      "['https://www.flipkart.com/redmi-12-moonstone-silver-128-gb/p/itme52e778c12701?pid=MOBGRMFK2MGRNG4Q&lid=LSTMOBGRMFK2MGRNG4QFZLVXT&marketplace=FLIPKART&q=redmi+smartphone&store=tyy%2F4io&spotlightTagId=BestsellerId_tyy%2F4io&srno=s_1_1&otracker=search&otracker1=search&fm=Search&iid=a35484ac-03fc-428d-ac61-c7c96712a1ac.MOBGRMFK2MGRNG4Q.SEARCH&ppt=sp&ppn=sp&ssid=7gn4beomgw0000001694263541535&qH=16e35e1c76bc3b93', 'https://www.flipkart.com/redmi-11-prime-peppy-purple-128-gb/p/itm52d6b0fe396e9?pid=MOBGZHFGUHYSHQYM&lid=LSTMOBGZHFGUHYSHQYMWGOOJ0&marketplace=FLIPKART&q=redmi+smartphone&store=tyy%2F4io&srno=s_1_2&otracker=search&otracker1=search&fm=organic&iid=a35484ac-03fc-428d-ac61-c7c96712a1ac.MOBGZHFGUHYSHQYM.SEARCH&ppt=hp&ppn=homepage&ssid=7gn4beomgw0000001694263541535&qH=16e35e1c76bc3b93', 'https://www.flipkart.com/redmi-12-jade-black-128-gb/p/itm7b10fd42f78b2?pid=MOBGRMFKKDQ2A3V4&lid=LSTMOBGRMFKKDQ2A3V4XZOVEW&marketplace=FLIPKART&q=redmi+smartphone&store=tyy%2F4io&spotlightTagId=BestsellerId_tyy%2F4io&srno=s_1_3&otracker=search&otracker1=search&fm=organic&iid=a35484ac-03fc-428d-ac61-c7c96712a1ac.MOBGRMFKKDQ2A3V4.SEARCH&ppt=hp&ppn=homepage&ssid=7gn4beomgw0000001694263541535&qH=16e35e1c76bc3b93', 'https://www.flipkart.com/redmi-12-pastel-blue-128-gb/p/itm48719506a7ceb?pid=MOBGRMFKKGYD9ETX&lid=LSTMOBGRMFKKGYD9ETX5KD9VL&marketplace=FLIPKART&q=redmi+smartphone&store=tyy%2F4io&spotlightTagId=BestsellerId_tyy%2F4io&srno=s_1_4&otracker=search&otracker1=search&fm=organic&iid=a35484ac-03fc-428d-ac61-c7c96712a1ac.MOBGRMFKKGYD9ETX.SEARCH&ppt=hp&ppn=homepage&ssid=7gn4beomgw0000001694263541535&qH=16e35e1c76bc3b93', 'https://www.flipkart.com/redmi-a1-black-32-gb/p/itm70b00a77a7d1d?pid=MOBGGYBABVXHHRDQ&lid=LSTMOBGGYBABVXHHRDQI6PZV5&marketplace=FLIPKART&q=redmi+smartphone&store=tyy%2F4io&srno=s_1_5&otracker=search&otracker1=search&fm=organic&iid=a35484ac-03fc-428d-ac61-c7c96712a1ac.MOBGGYBABVXHHRDQ.SEARCH&ppt=hp&ppn=homepage&ssid=7gn4beomgw0000001694263541535&qH=16e35e1c76bc3b93', 'https://www.flipkart.com/redmi-a2-aqua-blue-64-gb/p/itm5d49be2c0a95a?pid=MOBGR4UZWNAYKSUH&lid=LSTMOBGR4UZWNAYKSUHE3CTOU&marketplace=FLIPKART&q=redmi+smartphone&store=tyy%2F4io&srno=s_1_6&otracker=search&otracker1=search&fm=organic&iid=a35484ac-03fc-428d-ac61-c7c96712a1ac.MOBGR4UZWNAYKSUH.SEARCH&ppt=hp&ppn=homepage&ssid=7gn4beomgw0000001694263541535&qH=16e35e1c76bc3b93', 'https://www.flipkart.com/redmi-a2-classic-black-64-gb/p/itm5d49be2c0a95a?pid=MOBGPVYHRXZ3PFZU&lid=LSTMOBGPVYHRXZ3PFZU0QHLLF&marketplace=FLIPKART&q=redmi+smartphone&store=tyy%2F4io&srno=s_1_7&otracker=search&otracker1=search&fm=organic&iid=a35484ac-03fc-428d-ac61-c7c96712a1ac.MOBGPVYHRXZ3PFZU.SEARCH&ppt=hp&ppn=homepage&ssid=7gn4beomgw0000001694263541535&qH=16e35e1c76bc3b93', 'https://www.flipkart.com/redmi-a2-sea-green-32-gb/p/itm5d49be2c0a95a?pid=MOBGPVYATHJDTSSR&lid=LSTMOBGPVYATHJDTSSR6JMF4X&marketplace=FLIPKART&q=redmi+smartphone&store=tyy%2F4io&srno=s_1_8&otracker=search&otracker1=search&fm=organic&iid=a35484ac-03fc-428d-ac61-c7c96712a1ac.MOBGPVYATHJDTSSR.SEARCH&ppt=hp&ppn=homepage&ssid=7gn4beomgw0000001694263541535&qH=16e35e1c76bc3b93', 'https://www.flipkart.com/redmi-a2-aqua-blue-64-gb/p/itm5d49be2c0a95a?pid=MOBGPVYMG9RWX6XY&lid=LSTMOBGPVYMG9RWX6XYCWTZEK&marketplace=FLIPKART&q=redmi+smartphone&store=tyy%2F4io&srno=s_1_9&otracker=search&otracker1=search&fm=organic&iid=a35484ac-03fc-428d-ac61-c7c96712a1ac.MOBGPVYMG9RWX6XY.SEARCH&ppt=hp&ppn=homepage&ssid=7gn4beomgw0000001694263541535&qH=16e35e1c76bc3b93', 'https://www.flipkart.com/redmi-12-pastel-blue-128-gb/p/itm9b1a6640faccd?pid=MOBGRMFKAHNTZPWE&lid=LSTMOBGRMFKAHNTZPWE1H5IWS&marketplace=FLIPKART&q=redmi+smartphone&store=tyy%2F4io&srno=s_1_10&otracker=search&otracker1=search&fm=organic&iid=a35484ac-03fc-428d-ac61-c7c96712a1ac.MOBGRMFKAHNTZPWE.SEARCH&ppt=hp&ppn=homepage&ssid=7gn4beomgw0000001694263541535&qH=16e35e1c76bc3b93', 'https://www.flipkart.com/redmi-a2-aqua-blue-32-gb/p/itm5d49be2c0a95a?pid=MOBGPUZR8GHCE5ZQ&lid=LSTMOBGPUZR8GHCE5ZQ1P4DF9&marketplace=FLIPKART&q=redmi+smartphone&store=tyy%2F4io&srno=s_1_11&otracker=search&otracker1=search&fm=organic&iid=a35484ac-03fc-428d-ac61-c7c96712a1ac.MOBGPUZR8GHCE5ZQ.SEARCH&ppt=hp&ppn=homepage&ssid=7gn4beomgw0000001694263541535&qH=16e35e1c76bc3b93', 'https://www.flipkart.com/redmi-10-power-power-black-128-gb/p/itm97f5d2ec83588?pid=MOBGHDXFYKKZFZGV&lid=LSTMOBGHDXFYKKZFZGVE0QYTC&marketplace=FLIPKART&q=redmi+smartphone&store=tyy%2F4io&srno=s_1_12&otracker=search&otracker1=search&fm=organic&iid=a35484ac-03fc-428d-ac61-c7c96712a1ac.MOBGHDXFYKKZFZGV.SEARCH&ppt=hp&ppn=homepage&ssid=7gn4beomgw0000001694263541535&qH=16e35e1c76bc3b93', 'https://www.flipkart.com/redmi-6a-blue-16-gb/p/itm1ed294a755383?pid=MOBF9Z2Z3YDBSF6V&lid=LSTMOBF9Z2Z3YDBSF6VX16ZOH&marketplace=FLIPKART&q=redmi+smartphone&store=tyy%2F4io&srno=s_1_13&otracker=search&otracker1=search&fm=organic&iid=a35484ac-03fc-428d-ac61-c7c96712a1ac.MOBF9Z2Z3YDBSF6V.SEARCH&ppt=hp&ppn=homepage&ssid=7gn4beomgw0000001694263541535&qH=16e35e1c76bc3b93', 'https://www.flipkart.com/redmi-12-moonstone-silver-128-gb/p/itm6722b15672602?pid=MOBGRMFK4CSR7GGH&lid=LSTMOBGRMFK4CSR7GGHHKEX2Z&marketplace=FLIPKART&q=redmi+smartphone&store=tyy%2F4io&srno=s_1_14&otracker=search&otracker1=search&fm=organic&iid=a35484ac-03fc-428d-ac61-c7c96712a1ac.MOBGRMFK4CSR7GGH.SEARCH&ppt=hp&ppn=homepage&ssid=7gn4beomgw0000001694263541535&qH=16e35e1c76bc3b93', 'https://www.flipkart.com/redmi-a1-light-green-32-gb/p/itmecc9e7ba0a1df?pid=MOBGGYBAHSAJVKHP&lid=LSTMOBGGYBAHSAJVKHP4UBD9A&marketplace=FLIPKART&q=redmi+smartphone&store=tyy%2F4io&srno=s_1_15&otracker=search&otracker1=search&fm=organic&iid=a35484ac-03fc-428d-ac61-c7c96712a1ac.MOBGGYBAHSAJVKHP.SEARCH&ppt=hp&ppn=homepage&ssid=7gn4beomgw0000001694263541535&qH=16e35e1c76bc3b93', 'https://www.flipkart.com/redmi-11-prime-flashy-black-128-gb/p/itm01f508ea28ab0?pid=MOBGZHFGNDNWAZKZ&lid=LSTMOBGZHFGNDNWAZKZUMANTL&marketplace=FLIPKART&q=redmi+smartphone&store=tyy%2F4io&srno=s_1_16&otracker=search&otracker1=search&fm=organic&iid=a35484ac-03fc-428d-ac61-c7c96712a1ac.MOBGZHFGNDNWAZKZ.SEARCH&ppt=hp&ppn=homepage&ssid=7gn4beomgw0000001694263541535&qH=16e35e1c76bc3b93', 'https://www.flipkart.com/redmi-11-prime-playful-green-128-gb/p/itm0b080e6994972?pid=MOBGZHFGZQMESCDK&lid=LSTMOBGZHFGZQMESCDKZ6ILTE&marketplace=FLIPKART&q=redmi+smartphone&store=tyy%2F4io&srno=s_1_17&otracker=search&otracker1=search&fm=organic&iid=a35484ac-03fc-428d-ac61-c7c96712a1ac.MOBGZHFGZQMESCDK.SEARCH&ppt=hp&ppn=homepage&ssid=7gn4beomgw0000001694263541535&qH=16e35e1c76bc3b93', 'https://www.flipkart.com/redmi-a2-sea-green-64-gb/p/itm5d49be2c0a95a?pid=MOBGPVYEHMPGNCBZ&lid=LSTMOBGPVYEHMPGNCBZHUKI4Z&marketplace=FLIPKART&q=redmi+smartphone&store=tyy%2F4io&srno=s_1_18&otracker=search&otracker1=search&fm=organic&iid=a35484ac-03fc-428d-ac61-c7c96712a1ac.MOBGPVYEHMPGNCBZ.SEARCH&ppt=hp&ppn=homepage&ssid=7gn4beomgw0000001694263541535&qH=16e35e1c76bc3b93', 'https://www.flipkart.com/redmi-a2-classic-black-64-gb/p/itm5d49be2c0a95a?pid=MOBGRHB6XAEUADQB&lid=LSTMOBGRHB6XAEUADQBAI4AJ4&marketplace=FLIPKART&q=redmi+smartphone&store=tyy%2F4io&srno=s_1_19&otracker=search&otracker1=search&fm=organic&iid=a35484ac-03fc-428d-ac61-c7c96712a1ac.MOBGRHB6XAEUADQB.SEARCH&ppt=hp&ppn=homepage&ssid=7gn4beomgw0000001694263541535&qH=16e35e1c76bc3b93', 'https://www.flipkart.com/redmi-12-jade-black-128-gb/p/itmb7050ec01c09f?pid=MOBGRMFKTHKQSJEG&lid=LSTMOBGRMFKTHKQSJEGQK3FM2&marketplace=FLIPKART&q=redmi+smartphone&store=tyy%2F4io&srno=s_1_20&otracker=search&otracker1=search&fm=organic&iid=a35484ac-03fc-428d-ac61-c7c96712a1ac.MOBGRMFKTHKQSJEG.SEARCH&ppt=hp&ppn=homepage&ssid=7gn4beomgw0000001694263541535&qH=16e35e1c76bc3b93', 'https://www.flipkart.com/redmi-12-5g-jade-black-128-gb/p/itm0c8ba13f6fc5b?pid=MOBGS7GYGUAJ4UYZ&lid=LSTMOBGS7GYGUAJ4UYZQQUS5Q&marketplace=FLIPKART&q=redmi+smartphone&store=tyy%2F4io&srno=s_1_21&otracker=search&otracker1=search&fm=organic&iid=a35484ac-03fc-428d-ac61-c7c96712a1ac.MOBGS7GYGUAJ4UYZ.SEARCH&ppt=hp&ppn=homepage&ssid=7gn4beomgw0000001694263541535&qH=16e35e1c76bc3b93', 'https://www.flipkart.com/redmi-note-12-ice-blue-64-gb/p/itmee415766dfc1a?pid=MOBGNYHZYZ4CNTCM&lid=LSTMOBGNYHZYZ4CNTCMVONB0S&marketplace=FLIPKART&q=redmi+smartphone&store=tyy%2F4io&srno=s_1_22&otracker=search&otracker1=search&fm=organic&iid=a35484ac-03fc-428d-ac61-c7c96712a1ac.MOBGNYHZYZ4CNTCM.SEARCH&ppt=hp&ppn=homepage&ssid=7gn4beomgw0000001694263541535&qH=16e35e1c76bc3b93', 'https://www.flipkart.com/redmi-note-12-lunar-black-64-gb/p/itm6756d6e7a86be?pid=MOBGNYHZJGGE3ZHM&lid=LSTMOBGNYHZJGGE3ZHMWSTXBO&marketplace=FLIPKART&q=redmi+smartphone&store=tyy%2F4io&srno=s_1_23&otracker=search&otracker1=search&fm=organic&iid=a35484ac-03fc-428d-ac61-c7c96712a1ac.MOBGNYHZJGGE3ZHM.SEARCH&ppt=hp&ppn=homepage&ssid=7gn4beomgw0000001694263541535&qH=16e35e1c76bc3b93', 'https://www.flipkart.com/redmi-note-12-sunrise-gold-64-gb/p/itm5d170187bcbf0?pid=MOBGNYHZ7ZGHES2V&lid=LSTMOBGNYHZ7ZGHES2VQILAET&marketplace=FLIPKART&q=redmi+smartphone&store=tyy%2F4io&srno=s_1_24&otracker=search&otracker1=search&fm=organic&iid=a35484ac-03fc-428d-ac61-c7c96712a1ac.MOBGNYHZ7ZGHES2V.SEARCH&ppt=hp&ppn=homepage&ssid=7gn4beomgw0000001694263541535&qH=16e35e1c76bc3b93']\n"
     ]
    },
    {
     "name": "stdout",
     "output_type": "stream",
     "text": [
      "['https://www.flipkart.com/redmi-12-moonstone-silver-128-gb/p/itme52e778c12701?pid=MOBGRMFK2MGRNG4Q&lid=LSTMOBGRMFK2MGRNG4QFZLVXT&marketplace=FLIPKART&q=redmi+smartphone&store=tyy%2F4io&spotlightTagId=BestsellerId_tyy%2F4io&srno=s_1_1&otracker=search&otracker1=search&fm=Search&iid=a35484ac-03fc-428d-ac61-c7c96712a1ac.MOBGRMFK2MGRNG4Q.SEARCH&ppt=sp&ppn=sp&ssid=7gn4beomgw0000001694263541535&qH=16e35e1c76bc3b93', 'https://www.flipkart.com/redmi-11-prime-peppy-purple-128-gb/p/itm52d6b0fe396e9?pid=MOBGZHFGUHYSHQYM&lid=LSTMOBGZHFGUHYSHQYMWGOOJ0&marketplace=FLIPKART&q=redmi+smartphone&store=tyy%2F4io&srno=s_1_2&otracker=search&otracker1=search&fm=organic&iid=a35484ac-03fc-428d-ac61-c7c96712a1ac.MOBGZHFGUHYSHQYM.SEARCH&ppt=hp&ppn=homepage&ssid=7gn4beomgw0000001694263541535&qH=16e35e1c76bc3b93', 'https://www.flipkart.com/redmi-12-jade-black-128-gb/p/itm7b10fd42f78b2?pid=MOBGRMFKKDQ2A3V4&lid=LSTMOBGRMFKKDQ2A3V4XZOVEW&marketplace=FLIPKART&q=redmi+smartphone&store=tyy%2F4io&spotlightTagId=BestsellerId_tyy%2F4io&srno=s_1_3&otracker=search&otracker1=search&fm=organic&iid=a35484ac-03fc-428d-ac61-c7c96712a1ac.MOBGRMFKKDQ2A3V4.SEARCH&ppt=hp&ppn=homepage&ssid=7gn4beomgw0000001694263541535&qH=16e35e1c76bc3b93', 'https://www.flipkart.com/redmi-12-pastel-blue-128-gb/p/itm48719506a7ceb?pid=MOBGRMFKKGYD9ETX&lid=LSTMOBGRMFKKGYD9ETX5KD9VL&marketplace=FLIPKART&q=redmi+smartphone&store=tyy%2F4io&spotlightTagId=BestsellerId_tyy%2F4io&srno=s_1_4&otracker=search&otracker1=search&fm=organic&iid=a35484ac-03fc-428d-ac61-c7c96712a1ac.MOBGRMFKKGYD9ETX.SEARCH&ppt=hp&ppn=homepage&ssid=7gn4beomgw0000001694263541535&qH=16e35e1c76bc3b93', 'https://www.flipkart.com/redmi-a1-black-32-gb/p/itm70b00a77a7d1d?pid=MOBGGYBABVXHHRDQ&lid=LSTMOBGGYBABVXHHRDQI6PZV5&marketplace=FLIPKART&q=redmi+smartphone&store=tyy%2F4io&srno=s_1_5&otracker=search&otracker1=search&fm=organic&iid=a35484ac-03fc-428d-ac61-c7c96712a1ac.MOBGGYBABVXHHRDQ.SEARCH&ppt=hp&ppn=homepage&ssid=7gn4beomgw0000001694263541535&qH=16e35e1c76bc3b93', 'https://www.flipkart.com/redmi-a2-aqua-blue-64-gb/p/itm5d49be2c0a95a?pid=MOBGR4UZWNAYKSUH&lid=LSTMOBGR4UZWNAYKSUHE3CTOU&marketplace=FLIPKART&q=redmi+smartphone&store=tyy%2F4io&srno=s_1_6&otracker=search&otracker1=search&fm=organic&iid=a35484ac-03fc-428d-ac61-c7c96712a1ac.MOBGR4UZWNAYKSUH.SEARCH&ppt=hp&ppn=homepage&ssid=7gn4beomgw0000001694263541535&qH=16e35e1c76bc3b93', 'https://www.flipkart.com/redmi-a2-classic-black-64-gb/p/itm5d49be2c0a95a?pid=MOBGPVYHRXZ3PFZU&lid=LSTMOBGPVYHRXZ3PFZU0QHLLF&marketplace=FLIPKART&q=redmi+smartphone&store=tyy%2F4io&srno=s_1_7&otracker=search&otracker1=search&fm=organic&iid=a35484ac-03fc-428d-ac61-c7c96712a1ac.MOBGPVYHRXZ3PFZU.SEARCH&ppt=hp&ppn=homepage&ssid=7gn4beomgw0000001694263541535&qH=16e35e1c76bc3b93', 'https://www.flipkart.com/redmi-a2-sea-green-32-gb/p/itm5d49be2c0a95a?pid=MOBGPVYATHJDTSSR&lid=LSTMOBGPVYATHJDTSSR6JMF4X&marketplace=FLIPKART&q=redmi+smartphone&store=tyy%2F4io&srno=s_1_8&otracker=search&otracker1=search&fm=organic&iid=a35484ac-03fc-428d-ac61-c7c96712a1ac.MOBGPVYATHJDTSSR.SEARCH&ppt=hp&ppn=homepage&ssid=7gn4beomgw0000001694263541535&qH=16e35e1c76bc3b93', 'https://www.flipkart.com/redmi-a2-aqua-blue-64-gb/p/itm5d49be2c0a95a?pid=MOBGPVYMG9RWX6XY&lid=LSTMOBGPVYMG9RWX6XYCWTZEK&marketplace=FLIPKART&q=redmi+smartphone&store=tyy%2F4io&srno=s_1_9&otracker=search&otracker1=search&fm=organic&iid=a35484ac-03fc-428d-ac61-c7c96712a1ac.MOBGPVYMG9RWX6XY.SEARCH&ppt=hp&ppn=homepage&ssid=7gn4beomgw0000001694263541535&qH=16e35e1c76bc3b93', 'https://www.flipkart.com/redmi-12-pastel-blue-128-gb/p/itm9b1a6640faccd?pid=MOBGRMFKAHNTZPWE&lid=LSTMOBGRMFKAHNTZPWE1H5IWS&marketplace=FLIPKART&q=redmi+smartphone&store=tyy%2F4io&srno=s_1_10&otracker=search&otracker1=search&fm=organic&iid=a35484ac-03fc-428d-ac61-c7c96712a1ac.MOBGRMFKAHNTZPWE.SEARCH&ppt=hp&ppn=homepage&ssid=7gn4beomgw0000001694263541535&qH=16e35e1c76bc3b93', 'https://www.flipkart.com/redmi-a2-aqua-blue-32-gb/p/itm5d49be2c0a95a?pid=MOBGPUZR8GHCE5ZQ&lid=LSTMOBGPUZR8GHCE5ZQ1P4DF9&marketplace=FLIPKART&q=redmi+smartphone&store=tyy%2F4io&srno=s_1_11&otracker=search&otracker1=search&fm=organic&iid=a35484ac-03fc-428d-ac61-c7c96712a1ac.MOBGPUZR8GHCE5ZQ.SEARCH&ppt=hp&ppn=homepage&ssid=7gn4beomgw0000001694263541535&qH=16e35e1c76bc3b93', 'https://www.flipkart.com/redmi-10-power-power-black-128-gb/p/itm97f5d2ec83588?pid=MOBGHDXFYKKZFZGV&lid=LSTMOBGHDXFYKKZFZGVE0QYTC&marketplace=FLIPKART&q=redmi+smartphone&store=tyy%2F4io&srno=s_1_12&otracker=search&otracker1=search&fm=organic&iid=a35484ac-03fc-428d-ac61-c7c96712a1ac.MOBGHDXFYKKZFZGV.SEARCH&ppt=hp&ppn=homepage&ssid=7gn4beomgw0000001694263541535&qH=16e35e1c76bc3b93', 'https://www.flipkart.com/redmi-6a-blue-16-gb/p/itm1ed294a755383?pid=MOBF9Z2Z3YDBSF6V&lid=LSTMOBF9Z2Z3YDBSF6VX16ZOH&marketplace=FLIPKART&q=redmi+smartphone&store=tyy%2F4io&srno=s_1_13&otracker=search&otracker1=search&fm=organic&iid=a35484ac-03fc-428d-ac61-c7c96712a1ac.MOBF9Z2Z3YDBSF6V.SEARCH&ppt=hp&ppn=homepage&ssid=7gn4beomgw0000001694263541535&qH=16e35e1c76bc3b93', 'https://www.flipkart.com/redmi-12-moonstone-silver-128-gb/p/itm6722b15672602?pid=MOBGRMFK4CSR7GGH&lid=LSTMOBGRMFK4CSR7GGHHKEX2Z&marketplace=FLIPKART&q=redmi+smartphone&store=tyy%2F4io&srno=s_1_14&otracker=search&otracker1=search&fm=organic&iid=a35484ac-03fc-428d-ac61-c7c96712a1ac.MOBGRMFK4CSR7GGH.SEARCH&ppt=hp&ppn=homepage&ssid=7gn4beomgw0000001694263541535&qH=16e35e1c76bc3b93', 'https://www.flipkart.com/redmi-a1-light-green-32-gb/p/itmecc9e7ba0a1df?pid=MOBGGYBAHSAJVKHP&lid=LSTMOBGGYBAHSAJVKHP4UBD9A&marketplace=FLIPKART&q=redmi+smartphone&store=tyy%2F4io&srno=s_1_15&otracker=search&otracker1=search&fm=organic&iid=a35484ac-03fc-428d-ac61-c7c96712a1ac.MOBGGYBAHSAJVKHP.SEARCH&ppt=hp&ppn=homepage&ssid=7gn4beomgw0000001694263541535&qH=16e35e1c76bc3b93', 'https://www.flipkart.com/redmi-11-prime-flashy-black-128-gb/p/itm01f508ea28ab0?pid=MOBGZHFGNDNWAZKZ&lid=LSTMOBGZHFGNDNWAZKZUMANTL&marketplace=FLIPKART&q=redmi+smartphone&store=tyy%2F4io&srno=s_1_16&otracker=search&otracker1=search&fm=organic&iid=a35484ac-03fc-428d-ac61-c7c96712a1ac.MOBGZHFGNDNWAZKZ.SEARCH&ppt=hp&ppn=homepage&ssid=7gn4beomgw0000001694263541535&qH=16e35e1c76bc3b93', 'https://www.flipkart.com/redmi-11-prime-playful-green-128-gb/p/itm0b080e6994972?pid=MOBGZHFGZQMESCDK&lid=LSTMOBGZHFGZQMESCDKZ6ILTE&marketplace=FLIPKART&q=redmi+smartphone&store=tyy%2F4io&srno=s_1_17&otracker=search&otracker1=search&fm=organic&iid=a35484ac-03fc-428d-ac61-c7c96712a1ac.MOBGZHFGZQMESCDK.SEARCH&ppt=hp&ppn=homepage&ssid=7gn4beomgw0000001694263541535&qH=16e35e1c76bc3b93', 'https://www.flipkart.com/redmi-a2-sea-green-64-gb/p/itm5d49be2c0a95a?pid=MOBGPVYEHMPGNCBZ&lid=LSTMOBGPVYEHMPGNCBZHUKI4Z&marketplace=FLIPKART&q=redmi+smartphone&store=tyy%2F4io&srno=s_1_18&otracker=search&otracker1=search&fm=organic&iid=a35484ac-03fc-428d-ac61-c7c96712a1ac.MOBGPVYEHMPGNCBZ.SEARCH&ppt=hp&ppn=homepage&ssid=7gn4beomgw0000001694263541535&qH=16e35e1c76bc3b93', 'https://www.flipkart.com/redmi-a2-classic-black-64-gb/p/itm5d49be2c0a95a?pid=MOBGRHB6XAEUADQB&lid=LSTMOBGRHB6XAEUADQBAI4AJ4&marketplace=FLIPKART&q=redmi+smartphone&store=tyy%2F4io&srno=s_1_19&otracker=search&otracker1=search&fm=organic&iid=a35484ac-03fc-428d-ac61-c7c96712a1ac.MOBGRHB6XAEUADQB.SEARCH&ppt=hp&ppn=homepage&ssid=7gn4beomgw0000001694263541535&qH=16e35e1c76bc3b93', 'https://www.flipkart.com/redmi-12-jade-black-128-gb/p/itmb7050ec01c09f?pid=MOBGRMFKTHKQSJEG&lid=LSTMOBGRMFKTHKQSJEGQK3FM2&marketplace=FLIPKART&q=redmi+smartphone&store=tyy%2F4io&srno=s_1_20&otracker=search&otracker1=search&fm=organic&iid=a35484ac-03fc-428d-ac61-c7c96712a1ac.MOBGRMFKTHKQSJEG.SEARCH&ppt=hp&ppn=homepage&ssid=7gn4beomgw0000001694263541535&qH=16e35e1c76bc3b93', 'https://www.flipkart.com/redmi-12-5g-jade-black-128-gb/p/itm0c8ba13f6fc5b?pid=MOBGS7GYGUAJ4UYZ&lid=LSTMOBGS7GYGUAJ4UYZQQUS5Q&marketplace=FLIPKART&q=redmi+smartphone&store=tyy%2F4io&srno=s_1_21&otracker=search&otracker1=search&fm=organic&iid=a35484ac-03fc-428d-ac61-c7c96712a1ac.MOBGS7GYGUAJ4UYZ.SEARCH&ppt=hp&ppn=homepage&ssid=7gn4beomgw0000001694263541535&qH=16e35e1c76bc3b93', 'https://www.flipkart.com/redmi-note-12-ice-blue-64-gb/p/itmee415766dfc1a?pid=MOBGNYHZYZ4CNTCM&lid=LSTMOBGNYHZYZ4CNTCMVONB0S&marketplace=FLIPKART&q=redmi+smartphone&store=tyy%2F4io&srno=s_1_22&otracker=search&otracker1=search&fm=organic&iid=a35484ac-03fc-428d-ac61-c7c96712a1ac.MOBGNYHZYZ4CNTCM.SEARCH&ppt=hp&ppn=homepage&ssid=7gn4beomgw0000001694263541535&qH=16e35e1c76bc3b93', 'https://www.flipkart.com/redmi-note-12-lunar-black-64-gb/p/itm6756d6e7a86be?pid=MOBGNYHZJGGE3ZHM&lid=LSTMOBGNYHZJGGE3ZHMWSTXBO&marketplace=FLIPKART&q=redmi+smartphone&store=tyy%2F4io&srno=s_1_23&otracker=search&otracker1=search&fm=organic&iid=a35484ac-03fc-428d-ac61-c7c96712a1ac.MOBGNYHZJGGE3ZHM.SEARCH&ppt=hp&ppn=homepage&ssid=7gn4beomgw0000001694263541535&qH=16e35e1c76bc3b93', 'https://www.flipkart.com/redmi-note-12-sunrise-gold-64-gb/p/itm5d170187bcbf0?pid=MOBGNYHZ7ZGHES2V&lid=LSTMOBGNYHZ7ZGHES2VQILAET&marketplace=FLIPKART&q=redmi+smartphone&store=tyy%2F4io&srno=s_1_24&otracker=search&otracker1=search&fm=organic&iid=a35484ac-03fc-428d-ac61-c7c96712a1ac.MOBGNYHZ7ZGHES2V.SEARCH&ppt=hp&ppn=homepage&ssid=7gn4beomgw0000001694263541535&qH=16e35e1c76bc3b93']\n",
      "['https://www.flipkart.com/redmi-12-moonstone-silver-128-gb/p/itme52e778c12701?pid=MOBGRMFK2MGRNG4Q&lid=LSTMOBGRMFK2MGRNG4QFZLVXT&marketplace=FLIPKART&q=redmi+smartphone&store=tyy%2F4io&spotlightTagId=BestsellerId_tyy%2F4io&srno=s_1_1&otracker=search&otracker1=search&fm=Search&iid=a35484ac-03fc-428d-ac61-c7c96712a1ac.MOBGRMFK2MGRNG4Q.SEARCH&ppt=sp&ppn=sp&ssid=7gn4beomgw0000001694263541535&qH=16e35e1c76bc3b93', 'https://www.flipkart.com/redmi-11-prime-peppy-purple-128-gb/p/itm52d6b0fe396e9?pid=MOBGZHFGUHYSHQYM&lid=LSTMOBGZHFGUHYSHQYMWGOOJ0&marketplace=FLIPKART&q=redmi+smartphone&store=tyy%2F4io&srno=s_1_2&otracker=search&otracker1=search&fm=organic&iid=a35484ac-03fc-428d-ac61-c7c96712a1ac.MOBGZHFGUHYSHQYM.SEARCH&ppt=hp&ppn=homepage&ssid=7gn4beomgw0000001694263541535&qH=16e35e1c76bc3b93', 'https://www.flipkart.com/redmi-12-jade-black-128-gb/p/itm7b10fd42f78b2?pid=MOBGRMFKKDQ2A3V4&lid=LSTMOBGRMFKKDQ2A3V4XZOVEW&marketplace=FLIPKART&q=redmi+smartphone&store=tyy%2F4io&spotlightTagId=BestsellerId_tyy%2F4io&srno=s_1_3&otracker=search&otracker1=search&fm=organic&iid=a35484ac-03fc-428d-ac61-c7c96712a1ac.MOBGRMFKKDQ2A3V4.SEARCH&ppt=hp&ppn=homepage&ssid=7gn4beomgw0000001694263541535&qH=16e35e1c76bc3b93', 'https://www.flipkart.com/redmi-12-pastel-blue-128-gb/p/itm48719506a7ceb?pid=MOBGRMFKKGYD9ETX&lid=LSTMOBGRMFKKGYD9ETX5KD9VL&marketplace=FLIPKART&q=redmi+smartphone&store=tyy%2F4io&spotlightTagId=BestsellerId_tyy%2F4io&srno=s_1_4&otracker=search&otracker1=search&fm=organic&iid=a35484ac-03fc-428d-ac61-c7c96712a1ac.MOBGRMFKKGYD9ETX.SEARCH&ppt=hp&ppn=homepage&ssid=7gn4beomgw0000001694263541535&qH=16e35e1c76bc3b93', 'https://www.flipkart.com/redmi-a1-black-32-gb/p/itm70b00a77a7d1d?pid=MOBGGYBABVXHHRDQ&lid=LSTMOBGGYBABVXHHRDQI6PZV5&marketplace=FLIPKART&q=redmi+smartphone&store=tyy%2F4io&srno=s_1_5&otracker=search&otracker1=search&fm=organic&iid=a35484ac-03fc-428d-ac61-c7c96712a1ac.MOBGGYBABVXHHRDQ.SEARCH&ppt=hp&ppn=homepage&ssid=7gn4beomgw0000001694263541535&qH=16e35e1c76bc3b93', 'https://www.flipkart.com/redmi-a2-aqua-blue-64-gb/p/itm5d49be2c0a95a?pid=MOBGR4UZWNAYKSUH&lid=LSTMOBGR4UZWNAYKSUHE3CTOU&marketplace=FLIPKART&q=redmi+smartphone&store=tyy%2F4io&srno=s_1_6&otracker=search&otracker1=search&fm=organic&iid=a35484ac-03fc-428d-ac61-c7c96712a1ac.MOBGR4UZWNAYKSUH.SEARCH&ppt=hp&ppn=homepage&ssid=7gn4beomgw0000001694263541535&qH=16e35e1c76bc3b93', 'https://www.flipkart.com/redmi-a2-classic-black-64-gb/p/itm5d49be2c0a95a?pid=MOBGPVYHRXZ3PFZU&lid=LSTMOBGPVYHRXZ3PFZU0QHLLF&marketplace=FLIPKART&q=redmi+smartphone&store=tyy%2F4io&srno=s_1_7&otracker=search&otracker1=search&fm=organic&iid=a35484ac-03fc-428d-ac61-c7c96712a1ac.MOBGPVYHRXZ3PFZU.SEARCH&ppt=hp&ppn=homepage&ssid=7gn4beomgw0000001694263541535&qH=16e35e1c76bc3b93', 'https://www.flipkart.com/redmi-a2-sea-green-32-gb/p/itm5d49be2c0a95a?pid=MOBGPVYATHJDTSSR&lid=LSTMOBGPVYATHJDTSSR6JMF4X&marketplace=FLIPKART&q=redmi+smartphone&store=tyy%2F4io&srno=s_1_8&otracker=search&otracker1=search&fm=organic&iid=a35484ac-03fc-428d-ac61-c7c96712a1ac.MOBGPVYATHJDTSSR.SEARCH&ppt=hp&ppn=homepage&ssid=7gn4beomgw0000001694263541535&qH=16e35e1c76bc3b93', 'https://www.flipkart.com/redmi-a2-aqua-blue-64-gb/p/itm5d49be2c0a95a?pid=MOBGPVYMG9RWX6XY&lid=LSTMOBGPVYMG9RWX6XYCWTZEK&marketplace=FLIPKART&q=redmi+smartphone&store=tyy%2F4io&srno=s_1_9&otracker=search&otracker1=search&fm=organic&iid=a35484ac-03fc-428d-ac61-c7c96712a1ac.MOBGPVYMG9RWX6XY.SEARCH&ppt=hp&ppn=homepage&ssid=7gn4beomgw0000001694263541535&qH=16e35e1c76bc3b93', 'https://www.flipkart.com/redmi-12-pastel-blue-128-gb/p/itm9b1a6640faccd?pid=MOBGRMFKAHNTZPWE&lid=LSTMOBGRMFKAHNTZPWE1H5IWS&marketplace=FLIPKART&q=redmi+smartphone&store=tyy%2F4io&srno=s_1_10&otracker=search&otracker1=search&fm=organic&iid=a35484ac-03fc-428d-ac61-c7c96712a1ac.MOBGRMFKAHNTZPWE.SEARCH&ppt=hp&ppn=homepage&ssid=7gn4beomgw0000001694263541535&qH=16e35e1c76bc3b93', 'https://www.flipkart.com/redmi-a2-aqua-blue-32-gb/p/itm5d49be2c0a95a?pid=MOBGPUZR8GHCE5ZQ&lid=LSTMOBGPUZR8GHCE5ZQ1P4DF9&marketplace=FLIPKART&q=redmi+smartphone&store=tyy%2F4io&srno=s_1_11&otracker=search&otracker1=search&fm=organic&iid=a35484ac-03fc-428d-ac61-c7c96712a1ac.MOBGPUZR8GHCE5ZQ.SEARCH&ppt=hp&ppn=homepage&ssid=7gn4beomgw0000001694263541535&qH=16e35e1c76bc3b93', 'https://www.flipkart.com/redmi-10-power-power-black-128-gb/p/itm97f5d2ec83588?pid=MOBGHDXFYKKZFZGV&lid=LSTMOBGHDXFYKKZFZGVE0QYTC&marketplace=FLIPKART&q=redmi+smartphone&store=tyy%2F4io&srno=s_1_12&otracker=search&otracker1=search&fm=organic&iid=a35484ac-03fc-428d-ac61-c7c96712a1ac.MOBGHDXFYKKZFZGV.SEARCH&ppt=hp&ppn=homepage&ssid=7gn4beomgw0000001694263541535&qH=16e35e1c76bc3b93', 'https://www.flipkart.com/redmi-6a-blue-16-gb/p/itm1ed294a755383?pid=MOBF9Z2Z3YDBSF6V&lid=LSTMOBF9Z2Z3YDBSF6VX16ZOH&marketplace=FLIPKART&q=redmi+smartphone&store=tyy%2F4io&srno=s_1_13&otracker=search&otracker1=search&fm=organic&iid=a35484ac-03fc-428d-ac61-c7c96712a1ac.MOBF9Z2Z3YDBSF6V.SEARCH&ppt=hp&ppn=homepage&ssid=7gn4beomgw0000001694263541535&qH=16e35e1c76bc3b93', 'https://www.flipkart.com/redmi-12-moonstone-silver-128-gb/p/itm6722b15672602?pid=MOBGRMFK4CSR7GGH&lid=LSTMOBGRMFK4CSR7GGHHKEX2Z&marketplace=FLIPKART&q=redmi+smartphone&store=tyy%2F4io&srno=s_1_14&otracker=search&otracker1=search&fm=organic&iid=a35484ac-03fc-428d-ac61-c7c96712a1ac.MOBGRMFK4CSR7GGH.SEARCH&ppt=hp&ppn=homepage&ssid=7gn4beomgw0000001694263541535&qH=16e35e1c76bc3b93', 'https://www.flipkart.com/redmi-a1-light-green-32-gb/p/itmecc9e7ba0a1df?pid=MOBGGYBAHSAJVKHP&lid=LSTMOBGGYBAHSAJVKHP4UBD9A&marketplace=FLIPKART&q=redmi+smartphone&store=tyy%2F4io&srno=s_1_15&otracker=search&otracker1=search&fm=organic&iid=a35484ac-03fc-428d-ac61-c7c96712a1ac.MOBGGYBAHSAJVKHP.SEARCH&ppt=hp&ppn=homepage&ssid=7gn4beomgw0000001694263541535&qH=16e35e1c76bc3b93', 'https://www.flipkart.com/redmi-11-prime-flashy-black-128-gb/p/itm01f508ea28ab0?pid=MOBGZHFGNDNWAZKZ&lid=LSTMOBGZHFGNDNWAZKZUMANTL&marketplace=FLIPKART&q=redmi+smartphone&store=tyy%2F4io&srno=s_1_16&otracker=search&otracker1=search&fm=organic&iid=a35484ac-03fc-428d-ac61-c7c96712a1ac.MOBGZHFGNDNWAZKZ.SEARCH&ppt=hp&ppn=homepage&ssid=7gn4beomgw0000001694263541535&qH=16e35e1c76bc3b93', 'https://www.flipkart.com/redmi-11-prime-playful-green-128-gb/p/itm0b080e6994972?pid=MOBGZHFGZQMESCDK&lid=LSTMOBGZHFGZQMESCDKZ6ILTE&marketplace=FLIPKART&q=redmi+smartphone&store=tyy%2F4io&srno=s_1_17&otracker=search&otracker1=search&fm=organic&iid=a35484ac-03fc-428d-ac61-c7c96712a1ac.MOBGZHFGZQMESCDK.SEARCH&ppt=hp&ppn=homepage&ssid=7gn4beomgw0000001694263541535&qH=16e35e1c76bc3b93', 'https://www.flipkart.com/redmi-a2-sea-green-64-gb/p/itm5d49be2c0a95a?pid=MOBGPVYEHMPGNCBZ&lid=LSTMOBGPVYEHMPGNCBZHUKI4Z&marketplace=FLIPKART&q=redmi+smartphone&store=tyy%2F4io&srno=s_1_18&otracker=search&otracker1=search&fm=organic&iid=a35484ac-03fc-428d-ac61-c7c96712a1ac.MOBGPVYEHMPGNCBZ.SEARCH&ppt=hp&ppn=homepage&ssid=7gn4beomgw0000001694263541535&qH=16e35e1c76bc3b93', 'https://www.flipkart.com/redmi-a2-classic-black-64-gb/p/itm5d49be2c0a95a?pid=MOBGRHB6XAEUADQB&lid=LSTMOBGRHB6XAEUADQBAI4AJ4&marketplace=FLIPKART&q=redmi+smartphone&store=tyy%2F4io&srno=s_1_19&otracker=search&otracker1=search&fm=organic&iid=a35484ac-03fc-428d-ac61-c7c96712a1ac.MOBGRHB6XAEUADQB.SEARCH&ppt=hp&ppn=homepage&ssid=7gn4beomgw0000001694263541535&qH=16e35e1c76bc3b93', 'https://www.flipkart.com/redmi-12-jade-black-128-gb/p/itmb7050ec01c09f?pid=MOBGRMFKTHKQSJEG&lid=LSTMOBGRMFKTHKQSJEGQK3FM2&marketplace=FLIPKART&q=redmi+smartphone&store=tyy%2F4io&srno=s_1_20&otracker=search&otracker1=search&fm=organic&iid=a35484ac-03fc-428d-ac61-c7c96712a1ac.MOBGRMFKTHKQSJEG.SEARCH&ppt=hp&ppn=homepage&ssid=7gn4beomgw0000001694263541535&qH=16e35e1c76bc3b93', 'https://www.flipkart.com/redmi-12-5g-jade-black-128-gb/p/itm0c8ba13f6fc5b?pid=MOBGS7GYGUAJ4UYZ&lid=LSTMOBGS7GYGUAJ4UYZQQUS5Q&marketplace=FLIPKART&q=redmi+smartphone&store=tyy%2F4io&srno=s_1_21&otracker=search&otracker1=search&fm=organic&iid=a35484ac-03fc-428d-ac61-c7c96712a1ac.MOBGS7GYGUAJ4UYZ.SEARCH&ppt=hp&ppn=homepage&ssid=7gn4beomgw0000001694263541535&qH=16e35e1c76bc3b93', 'https://www.flipkart.com/redmi-note-12-ice-blue-64-gb/p/itmee415766dfc1a?pid=MOBGNYHZYZ4CNTCM&lid=LSTMOBGNYHZYZ4CNTCMVONB0S&marketplace=FLIPKART&q=redmi+smartphone&store=tyy%2F4io&srno=s_1_22&otracker=search&otracker1=search&fm=organic&iid=a35484ac-03fc-428d-ac61-c7c96712a1ac.MOBGNYHZYZ4CNTCM.SEARCH&ppt=hp&ppn=homepage&ssid=7gn4beomgw0000001694263541535&qH=16e35e1c76bc3b93', 'https://www.flipkart.com/redmi-note-12-lunar-black-64-gb/p/itm6756d6e7a86be?pid=MOBGNYHZJGGE3ZHM&lid=LSTMOBGNYHZJGGE3ZHMWSTXBO&marketplace=FLIPKART&q=redmi+smartphone&store=tyy%2F4io&srno=s_1_23&otracker=search&otracker1=search&fm=organic&iid=a35484ac-03fc-428d-ac61-c7c96712a1ac.MOBGNYHZJGGE3ZHM.SEARCH&ppt=hp&ppn=homepage&ssid=7gn4beomgw0000001694263541535&qH=16e35e1c76bc3b93', 'https://www.flipkart.com/redmi-note-12-sunrise-gold-64-gb/p/itm5d170187bcbf0?pid=MOBGNYHZ7ZGHES2V&lid=LSTMOBGNYHZ7ZGHES2VQILAET&marketplace=FLIPKART&q=redmi+smartphone&store=tyy%2F4io&srno=s_1_24&otracker=search&otracker1=search&fm=organic&iid=a35484ac-03fc-428d-ac61-c7c96712a1ac.MOBGNYHZ7ZGHES2V.SEARCH&ppt=hp&ppn=homepage&ssid=7gn4beomgw0000001694263541535&qH=16e35e1c76bc3b93']\n"
     ]
    }
   ],
   "source": [
    "#scraping urls\n",
    "info1=soup.find_all('div', class_=\"fMghEO\")\n",
    "for i in info1:\n",
    "    url=[i.get_attribute('href') for i in driver.find_elements(By.XPATH, '//a[@class=\"_1fQZEK\"]')]\n",
    "    print(url)"
   ]
  },
  {
   "cell_type": "code",
   "execution_count": 79,
   "id": "d5d59211",
   "metadata": {},
   "outputs": [
    {
     "name": "stdout",
     "output_type": "stream",
     "text": [
      "[<div class=\"fMghEO\"><ul class=\"_1xgFaf\"><li class=\"rgWa7D\">4 GB RAM | 128 GB ROM | Expandable Upto 1 TB</li><li class=\"rgWa7D\">17.25 cm (6.79 inch) Full HD+ Display</li><li class=\"rgWa7D\">50MP + 8MP + 2MP | 8MP Front Camera</li><li class=\"rgWa7D\">5000 mAh Battery</li><li class=\"rgWa7D\">Helio G88 Processor</li><li class=\"rgWa7D\">1 Year Manufacturer Warranty for Phone and 6 Months Warranty for in the Box Accessories</li></ul></div>, <div class=\"fMghEO\"><ul class=\"_1xgFaf\"><li class=\"rgWa7D\">6 GB RAM | 128 GB ROM | Expandable Upto 512 GB</li><li class=\"rgWa7D\">16.71 cm (6.58 inch) Full HD+ Display</li><li class=\"rgWa7D\">50MP + 2MP + 2MP | 8MP Front Camera</li><li class=\"rgWa7D\">5000 mAh Battery</li><li class=\"rgWa7D\">Helio G99 Processor</li><li class=\"rgWa7D\">1 Year Manufacturer Warranty for Phone and 6 Months Warranty for In the Box Accessories</li></ul></div>, <div class=\"fMghEO\"><ul class=\"_1xgFaf\"><li class=\"rgWa7D\">4 GB RAM | 128 GB ROM | Expandable Upto 1 TB</li><li class=\"rgWa7D\">17.25 cm (6.79 inch) Full HD+ Display</li><li class=\"rgWa7D\">50MP + 8MP + 2MP | 8MP Front Camera</li><li class=\"rgWa7D\">5000 mAh Battery</li><li class=\"rgWa7D\">Helio G88 Processor</li><li class=\"rgWa7D\">1 Year Manufacturer Warranty for Phone and 6 Months Warranty for in the Box Accessories</li></ul></div>, <div class=\"fMghEO\"><ul class=\"_1xgFaf\"><li class=\"rgWa7D\">4 GB RAM | 128 GB ROM | Expandable Upto 1 TB</li><li class=\"rgWa7D\">17.25 cm (6.79 inch) Full HD+ Display</li><li class=\"rgWa7D\">50MP + 8MP + 2MP | 8MP Front Camera</li><li class=\"rgWa7D\">5000 mAh Battery</li><li class=\"rgWa7D\">Helio G88 Processor</li><li class=\"rgWa7D\">1 Year Manufacturer Warranty for Phone and 6 Months Warranty for in the Box Accessories</li></ul></div>, <div class=\"fMghEO\"><ul class=\"_1xgFaf\"><li class=\"rgWa7D\">2 GB RAM | 32 GB ROM | Expandable Upto 512 GB</li><li class=\"rgWa7D\">16.56 cm (6.52 inch) HD+ Display</li><li class=\"rgWa7D\">8MP Rear Camera | 5MP Front Camera</li><li class=\"rgWa7D\">5000 mAh Lithium Polymer Battery</li><li class=\"rgWa7D\">Mediatek Helio A22 Processor</li><li class=\"rgWa7D\">1 Year Manufacturer Warranty for Phone and 6 Months Warranty for in the Box Accessories</li></ul></div>, <div class=\"fMghEO\"><ul class=\"_1xgFaf\"><li class=\"rgWa7D\">2 GB RAM | 64 GB ROM</li><li class=\"rgWa7D\">16.56 cm (6.52 inch) Display</li><li class=\"rgWa7D\">8MP Rear Camera</li><li class=\"rgWa7D\">5000 mAh Battery</li><li class=\"rgWa7D\">2 year on phone domestic</li></ul></div>, <div class=\"fMghEO\"><ul class=\"_1xgFaf\"><li class=\"rgWa7D\">4 GB RAM | 64 GB ROM</li><li class=\"rgWa7D\">16.56 cm (6.52 inch) Display</li><li class=\"rgWa7D\">8MP Rear Camera</li><li class=\"rgWa7D\">5000 mAh Battery</li><li class=\"rgWa7D\">2 year on phone domestic</li></ul></div>, <div class=\"fMghEO\"><ul class=\"_1xgFaf\"><li class=\"rgWa7D\">2 GB RAM | 32 GB ROM</li><li class=\"rgWa7D\">16.56 cm (6.52 inch) Display</li><li class=\"rgWa7D\">8MP Rear Camera</li><li class=\"rgWa7D\">5000 mAh Battery</li><li class=\"rgWa7D\">2 year on phone domestic</li></ul></div>, <div class=\"fMghEO\"><ul class=\"_1xgFaf\"><li class=\"rgWa7D\">4 GB RAM | 64 GB ROM</li><li class=\"rgWa7D\">16.56 cm (6.52 inch) Display</li><li class=\"rgWa7D\">8MP Rear Camera</li><li class=\"rgWa7D\">5000 mAh Battery</li><li class=\"rgWa7D\">2 year on phone domestic</li></ul></div>, <div class=\"fMghEO\"><ul class=\"_1xgFaf\"><li class=\"rgWa7D\">6 GB RAM | 128 GB ROM | Expandable Upto 1 TB</li><li class=\"rgWa7D\">17.25 cm (6.79 inch) Full HD+ Display</li><li class=\"rgWa7D\">50MP + 8MP + 2MP | 8MP Front Camera</li><li class=\"rgWa7D\">5000 mAh Battery</li><li class=\"rgWa7D\">Helio G88 Processor</li><li class=\"rgWa7D\">1 Year Manufacturer Warranty for Phone and 6 Months Warranty for in the Box Accessories</li></ul></div>, <div class=\"fMghEO\"><ul class=\"_1xgFaf\"><li class=\"rgWa7D\">2 GB RAM | 32 GB ROM</li><li class=\"rgWa7D\">16.56 cm (6.52 inch) Display</li><li class=\"rgWa7D\">8MP Rear Camera</li><li class=\"rgWa7D\">5000 mAh Battery</li><li class=\"rgWa7D\">2 year on phone domestic</li></ul></div>, <div class=\"fMghEO\"><ul class=\"_1xgFaf\"><li class=\"rgWa7D\">8 GB RAM | 128 GB ROM</li><li class=\"rgWa7D\">17.02 cm (6.7 inch) Display</li><li class=\"rgWa7D\">50MP Rear Camera | 5MP Front Camera</li><li class=\"rgWa7D\">6000 mAh Battery</li><li class=\"rgWa7D\">12 Months Warranty</li></ul></div>, <div class=\"fMghEO\"><ul class=\"_1xgFaf\"><li class=\"rgWa7D\">2 GB RAM | 16 GB ROM | Expandable Upto 128 GB</li><li class=\"rgWa7D\">13.84 cm (5.45 inch) Display</li><li class=\"rgWa7D\">13MP Rear Camera | 5MP Front Camera</li><li class=\"rgWa7D\">3000 mAh Battery</li><li class=\"rgWa7D\">1 Year Manufacturer Warranty</li></ul></div>, <div class=\"fMghEO\"><ul class=\"_1xgFaf\"><li class=\"rgWa7D\">6 GB RAM | 128 GB ROM | Expandable Upto 1 TB</li><li class=\"rgWa7D\">17.25 cm (6.79 inch) Full HD+ Display</li><li class=\"rgWa7D\">50MP + 8MP + 2MP | 8MP Front Camera</li><li class=\"rgWa7D\">5000 mAh Battery</li><li class=\"rgWa7D\">Helio G88 Processor</li><li class=\"rgWa7D\">1 Year Manufacturer Warranty for Phone and 6 Months Warranty for in the Box Accessories</li></ul></div>, <div class=\"fMghEO\"><ul class=\"_1xgFaf\"><li class=\"rgWa7D\">2 GB RAM | 32 GB ROM | Expandable Upto 512 GB</li><li class=\"rgWa7D\">16.56 cm (6.52 inch) HD+ Display</li><li class=\"rgWa7D\">8MP Rear Camera | 5MP Front Camera</li><li class=\"rgWa7D\">5000 mAh Lithium Polymer Battery</li><li class=\"rgWa7D\">Mediatek Helio A22 Processor</li><li class=\"rgWa7D\">1 Year Manufacturer Warranty for Phone and 6 Months Warranty for in the Box Accessories</li></ul></div>, <div class=\"fMghEO\"><ul class=\"_1xgFaf\"><li class=\"rgWa7D\">6 GB RAM | 128 GB ROM | Expandable Upto 512 GB</li><li class=\"rgWa7D\">16.71 cm (6.58 inch) Full HD+ Display</li><li class=\"rgWa7D\">50MP + 2MP + 2MP | 8MP Front Camera</li><li class=\"rgWa7D\">5000 mAh Battery</li><li class=\"rgWa7D\">Helio G99 Processor</li><li class=\"rgWa7D\">1 Year Manufacturer Warranty for Phone and 6 Months Warranty for In the Box Accessories</li></ul></div>, <div class=\"fMghEO\"><ul class=\"_1xgFaf\"><li class=\"rgWa7D\">6 GB RAM | 128 GB ROM | Expandable Upto 512 GB</li><li class=\"rgWa7D\">16.71 cm (6.58 inch) Full HD+ Display</li><li class=\"rgWa7D\">50MP + 2MP + 2MP | 8MP Front Camera</li><li class=\"rgWa7D\">5000 mAh Battery</li><li class=\"rgWa7D\">Helio G99 Processor</li><li class=\"rgWa7D\">1 Year Manufacturer Warranty for Phone and 6 Months Warranty for In the Box Accessories</li></ul></div>, <div class=\"fMghEO\"><ul class=\"_1xgFaf\"><li class=\"rgWa7D\">4 GB RAM | 64 GB ROM</li><li class=\"rgWa7D\">16.56 cm (6.52 inch) Display</li><li class=\"rgWa7D\">8MP Rear Camera</li><li class=\"rgWa7D\">5000 mAh Battery</li><li class=\"rgWa7D\">2 year on phone domestic</li></ul></div>, <div class=\"fMghEO\"><ul class=\"_1xgFaf\"><li class=\"rgWa7D\">2 GB RAM | 64 GB ROM</li><li class=\"rgWa7D\">16.56 cm (6.52 inch) Display</li><li class=\"rgWa7D\">8MP Rear Camera</li><li class=\"rgWa7D\">5000 mAh Battery</li><li class=\"rgWa7D\">2 year on phone domestic</li></ul></div>, <div class=\"fMghEO\"><ul class=\"_1xgFaf\"><li class=\"rgWa7D\">6 GB RAM | 128 GB ROM | Expandable Upto 1 TB</li><li class=\"rgWa7D\">17.25 cm (6.79 inch) Full HD+ Display</li><li class=\"rgWa7D\">50MP + 8MP + 2MP | 8MP Front Camera</li><li class=\"rgWa7D\">5000 mAh Battery</li><li class=\"rgWa7D\">Helio G88 Processor</li><li class=\"rgWa7D\">1 Year Manufacturer Warranty for Phone and 6 Months Warranty for in the Box Accessories</li></ul></div>, <div class=\"fMghEO\"><ul class=\"_1xgFaf\"><li class=\"rgWa7D\">6 GB RAM | 128 GB ROM</li><li class=\"rgWa7D\">17.25 cm (6.79 inch) Full HD Display</li><li class=\"rgWa7D\">50MP Rear Camera</li><li class=\"rgWa7D\">5000 mAh Battery</li><li class=\"rgWa7D\">1 Year Domestic Warranty for Phone and 6 Months Warranty for In-Box Accessories</li></ul></div>, <div class=\"fMghEO\"><ul class=\"_1xgFaf\"><li class=\"rgWa7D\">6 GB RAM | 64 GB ROM | Expandable Upto 1 TB</li><li class=\"rgWa7D\">16.94 cm (6.67 inch) Full HD+ Super AMOLED Display</li><li class=\"rgWa7D\">50MP + 8MP + 2MP | 13MP Front Camera</li><li class=\"rgWa7D\">5000 mAh Battery</li><li class=\"rgWa7D\">Snapdragon 685 Processor</li><li class=\"rgWa7D\">1 Year Manufacturer Warranty for Phone and 6 Months Warranty for In the Box Accessories</li></ul></div>, <div class=\"fMghEO\"><ul class=\"_1xgFaf\"><li class=\"rgWa7D\">6 GB RAM | 64 GB ROM | Expandable Upto 1 TB</li><li class=\"rgWa7D\">16.94 cm (6.67 inch) Full HD+ Super AMOLED Display</li><li class=\"rgWa7D\">50MP + 8MP + 2MP | 13MP Front Camera</li><li class=\"rgWa7D\">5000 mAh Battery</li><li class=\"rgWa7D\">Snapdragon 685 Processor</li><li class=\"rgWa7D\">1 Year Manufacturer Warranty for Phone and 6 Months Warranty for In the Box Accessories</li></ul></div>, <div class=\"fMghEO\"><ul class=\"_1xgFaf\"><li class=\"rgWa7D\">6 GB RAM | 64 GB ROM | Expandable Upto 1 TB</li><li class=\"rgWa7D\">16.94 cm (6.67 inch) Full HD+ Super AMOLED Display</li><li class=\"rgWa7D\">50MP + 8MP + 2MP | 13MP Front Camera</li><li class=\"rgWa7D\">5000 mAh Battery</li><li class=\"rgWa7D\">Snapdragon 685 Processor</li><li class=\"rgWa7D\">1 Year Manufacturer Warranty for Phone and 6 Months Warranty for In the Box Accessories</li></ul></div>]\n"
     ]
    }
   ],
   "source": [
    "info=soup.find_all('div', class_='fMghEO')\n",
    "print(info)\n"
   ]
  },
  {
   "cell_type": "code",
   "execution_count": 80,
   "id": "2d629b51",
   "metadata": {},
   "outputs": [
    {
     "name": "stdout",
     "output_type": "stream",
     "text": [
      "5000 \n",
      "5000 \n",
      "5000 \n",
      "5000 \n",
      "5000 \n",
      "5000 \n",
      "5000 \n",
      "5000 \n",
      "5000 \n",
      "5000 \n",
      "5000 \n",
      "6000 \n",
      "3000 \n",
      "5000 \n",
      "5000 \n",
      "5000 \n",
      "5000 \n",
      "5000 \n",
      "5000 \n",
      "5000 \n",
      "5000 \n",
      "5000 \n",
      "5000 \n",
      "5000 \n"
     ]
    }
   ],
   "source": [
    "#scraping battery\n",
    "for i in info:\n",
    "    information=i.find_all('li', class_='rgWa7D')\n",
    "    battery=information[3].text.split('mAh')[0]\n",
    "    print(battery)"
   ]
  },
  {
   "cell_type": "code",
   "execution_count": 81,
   "id": "74ed19af",
   "metadata": {},
   "outputs": [
    {
     "name": "stdout",
     "output_type": "stream",
     "text": [
      "50MP + 8MP + 2MP   8MP Front Camera\n",
      "50MP + 2MP + 2MP   8MP Front Camera\n",
      "50MP + 8MP + 2MP   8MP Front Camera\n",
      "50MP + 8MP + 2MP   8MP Front Camera\n",
      "8MP Rear Camera   5MP Front Camera\n",
      "8MP Rear Camera 0\n",
      "8MP Rear Camera 0\n",
      "8MP Rear Camera 0\n",
      "8MP Rear Camera 0\n",
      "50MP + 8MP + 2MP   8MP Front Camera\n",
      "8MP Rear Camera 0\n",
      "50MP Rear Camera   5MP Front Camera\n",
      "13MP Rear Camera   5MP Front Camera\n",
      "50MP + 8MP + 2MP   8MP Front Camera\n",
      "8MP Rear Camera   5MP Front Camera\n",
      "50MP + 2MP + 2MP   8MP Front Camera\n",
      "50MP + 2MP + 2MP   8MP Front Camera\n",
      "8MP Rear Camera 0\n",
      "8MP Rear Camera 0\n",
      "50MP + 8MP + 2MP   8MP Front Camera\n",
      "50MP Rear Camera 0\n",
      "50MP + 8MP + 2MP   13MP Front Camera\n",
      "50MP + 8MP + 2MP   13MP Front Camera\n",
      "50MP + 8MP + 2MP   13MP Front Camera\n"
     ]
    }
   ],
   "source": [
    "#combining camera info\n",
    "for i in info:\n",
    "    information=i.find_all('li', class_='rgWa7D')\n",
    "    camera=information[2].text.split('|')\n",
    "    try:\n",
    "        prim_cam=camera[0]\n",
    "        sec_cam=camera[1]\n",
    "    except:\n",
    "        sec_cam=0\n",
    "    print(prim_cam, sec_cam)"
   ]
  },
  {
   "cell_type": "code",
   "execution_count": 82,
   "id": "a07c7145",
   "metadata": {},
   "outputs": [
    {
     "name": "stdout",
     "output_type": "stream",
     "text": [
      "4 GB 128 GB\n",
      "6 GB 128 GB\n",
      "4 GB 128 GB\n",
      "4 GB 128 GB\n",
      "2 GB 32 GB\n",
      "2 GB 64 GB\n",
      "4 GB 64 GB\n",
      "2 GB 32 GB\n",
      "4 GB 64 GB\n",
      "6 GB 128 GB\n",
      "2 GB 32 GB\n",
      "8 GB 128 GB\n",
      "2 GB 16 GB\n",
      "6 GB 128 GB\n",
      "2 GB 32 GB\n",
      "6 GB 128 GB\n",
      "6 GB 128 GB\n",
      "4 GB 64 GB\n",
      "2 GB 64 GB\n",
      "6 GB 128 GB\n",
      "6 GB 128 GB\n",
      "6 GB 64 GB\n",
      "6 GB 64 GB\n",
      "6 GB 64 GB\n"
     ]
    }
   ],
   "source": [
    "#combining ram and rom info\n",
    "for i in info:\n",
    "    information=i.find_all('li', class_='rgWa7D')\n",
    "    space=information[0].text\n",
    "    RAM1=space.split('|')[0].strip(' RAM')\n",
    "    ROM1=space.split('|')[1].strip(' ROM')\n",
    "    print(RAM1, ROM1)"
   ]
  },
  {
   "cell_type": "code",
   "execution_count": 83,
   "id": "c41553b2",
   "metadata": {},
   "outputs": [
    {
     "name": "stdout",
     "output_type": "stream",
     "text": [
      "17.25 cm\n",
      "16.71 cm\n",
      "17.25 cm\n",
      "17.25 cm\n",
      "16.56 cm\n",
      "16.56 cm\n",
      "16.56 cm\n",
      "16.56 cm\n",
      "16.56 cm\n",
      "17.25 cm\n",
      "16.56 cm\n",
      "17.02 cm\n",
      "13.84 cm\n",
      "17.25 cm\n",
      "16.56 cm\n",
      "16.71 cm\n",
      "16.71 cm\n",
      "16.56 cm\n",
      "16.56 cm\n",
      "17.25 cm\n",
      "17.25 cm\n",
      "16.94 cm\n",
      "16.94 cm\n",
      "16.94 cm\n"
     ]
    }
   ],
   "source": [
    "\n",
    "for i in info:\n",
    "    information=i.find_all('li', class_='rgWa7D')\n",
    "    display_size=information[1].text.split(' (')[0]\n",
    "    print(display_size)"
   ]
  },
  {
   "cell_type": "code",
   "execution_count": 84,
   "id": "40a51f62",
   "metadata": {},
   "outputs": [],
   "source": [
    "Phone_details=pd.DataFrame({\"Brand\":brand_name, \"Smartphone Name\":smartphone_name, \"Color\":color_name, \"RAM\":RAM1, 'ROM':ROM1, 'Primary Camera':prim_cam, \"Secondary Camera\":sec_cam, 'Display Size':display_size, 'Battery Capacity':battery, \"Price\":price, 'Product URL':url})"
   ]
  },
  {
   "cell_type": "code",
   "execution_count": 85,
   "id": "3694d175",
   "metadata": {
    "scrolled": true
   },
   "outputs": [
    {
     "data": {
      "text/html": [
       "<div>\n",
       "<style scoped>\n",
       "    .dataframe tbody tr th:only-of-type {\n",
       "        vertical-align: middle;\n",
       "    }\n",
       "\n",
       "    .dataframe tbody tr th {\n",
       "        vertical-align: top;\n",
       "    }\n",
       "\n",
       "    .dataframe thead th {\n",
       "        text-align: right;\n",
       "    }\n",
       "</style>\n",
       "<table border=\"1\" class=\"dataframe\">\n",
       "  <thead>\n",
       "    <tr style=\"text-align: right;\">\n",
       "      <th></th>\n",
       "      <th>Brand</th>\n",
       "      <th>Smartphone Name</th>\n",
       "      <th>Color</th>\n",
       "      <th>RAM</th>\n",
       "      <th>ROM</th>\n",
       "      <th>Primary Camera</th>\n",
       "      <th>Secondary Camera</th>\n",
       "      <th>Display Size</th>\n",
       "      <th>Battery Capacity</th>\n",
       "      <th>Price</th>\n",
       "      <th>Product URL</th>\n",
       "    </tr>\n",
       "  </thead>\n",
       "  <tbody>\n",
       "    <tr>\n",
       "      <th>0</th>\n",
       "      <td>REDMI</td>\n",
       "      <td>REDMI 12 (Moonstone Silver, 128 GB)</td>\n",
       "      <td>Moonstone Silver</td>\n",
       "      <td>6 GB</td>\n",
       "      <td>64 GB</td>\n",
       "      <td>50MP + 8MP + 2MP</td>\n",
       "      <td>13MP Front Camera</td>\n",
       "      <td>16.94 cm</td>\n",
       "      <td>5000</td>\n",
       "      <td>₹9,999</td>\n",
       "      <td>https://www.flipkart.com/redmi-12-moonstone-si...</td>\n",
       "    </tr>\n",
       "    <tr>\n",
       "      <th>1</th>\n",
       "      <td>REDMI</td>\n",
       "      <td>REDMI 11 Prime (Peppy Purple, 128 GB)</td>\n",
       "      <td>Peppy Purple</td>\n",
       "      <td>6 GB</td>\n",
       "      <td>64 GB</td>\n",
       "      <td>50MP + 8MP + 2MP</td>\n",
       "      <td>13MP Front Camera</td>\n",
       "      <td>16.94 cm</td>\n",
       "      <td>5000</td>\n",
       "      <td>₹10,499</td>\n",
       "      <td>https://www.flipkart.com/redmi-11-prime-peppy-...</td>\n",
       "    </tr>\n",
       "    <tr>\n",
       "      <th>2</th>\n",
       "      <td>REDMI</td>\n",
       "      <td>REDMI 12 (Jade Black, 128 GB)</td>\n",
       "      <td>Jade Black</td>\n",
       "      <td>6 GB</td>\n",
       "      <td>64 GB</td>\n",
       "      <td>50MP + 8MP + 2MP</td>\n",
       "      <td>13MP Front Camera</td>\n",
       "      <td>16.94 cm</td>\n",
       "      <td>5000</td>\n",
       "      <td>₹9,999</td>\n",
       "      <td>https://www.flipkart.com/redmi-12-jade-black-1...</td>\n",
       "    </tr>\n",
       "    <tr>\n",
       "      <th>3</th>\n",
       "      <td>REDMI</td>\n",
       "      <td>REDMI 12 (Pastel Blue, 128 GB)</td>\n",
       "      <td>Pastel Blue</td>\n",
       "      <td>6 GB</td>\n",
       "      <td>64 GB</td>\n",
       "      <td>50MP + 8MP + 2MP</td>\n",
       "      <td>13MP Front Camera</td>\n",
       "      <td>16.94 cm</td>\n",
       "      <td>5000</td>\n",
       "      <td>₹9,999</td>\n",
       "      <td>https://www.flipkart.com/redmi-12-pastel-blue-...</td>\n",
       "    </tr>\n",
       "    <tr>\n",
       "      <th>4</th>\n",
       "      <td>REDMI</td>\n",
       "      <td>REDMI A1+ (Black, 32 GB)</td>\n",
       "      <td>Black</td>\n",
       "      <td>6 GB</td>\n",
       "      <td>64 GB</td>\n",
       "      <td>50MP + 8MP + 2MP</td>\n",
       "      <td>13MP Front Camera</td>\n",
       "      <td>16.94 cm</td>\n",
       "      <td>5000</td>\n",
       "      <td>₹6,299</td>\n",
       "      <td>https://www.flipkart.com/redmi-a1-black-32-gb/...</td>\n",
       "    </tr>\n",
       "    <tr>\n",
       "      <th>5</th>\n",
       "      <td>REDMI</td>\n",
       "      <td>REDMI A2 (Aqua Blue, 64 GB)</td>\n",
       "      <td>Aqua Blue</td>\n",
       "      <td>6 GB</td>\n",
       "      <td>64 GB</td>\n",
       "      <td>50MP + 8MP + 2MP</td>\n",
       "      <td>13MP Front Camera</td>\n",
       "      <td>16.94 cm</td>\n",
       "      <td>5000</td>\n",
       "      <td>₹6,640</td>\n",
       "      <td>https://www.flipkart.com/redmi-a2-aqua-blue-64...</td>\n",
       "    </tr>\n",
       "    <tr>\n",
       "      <th>6</th>\n",
       "      <td>REDMI</td>\n",
       "      <td>REDMI A2 (Classic Black, 64 GB)</td>\n",
       "      <td>Classic Black</td>\n",
       "      <td>6 GB</td>\n",
       "      <td>64 GB</td>\n",
       "      <td>50MP + 8MP + 2MP</td>\n",
       "      <td>13MP Front Camera</td>\n",
       "      <td>16.94 cm</td>\n",
       "      <td>5000</td>\n",
       "      <td>₹6,802</td>\n",
       "      <td>https://www.flipkart.com/redmi-a2-classic-blac...</td>\n",
       "    </tr>\n",
       "    <tr>\n",
       "      <th>7</th>\n",
       "      <td>REDMI</td>\n",
       "      <td>REDMI A2 (Sea Green, 32 GB)</td>\n",
       "      <td>Sea Green</td>\n",
       "      <td>6 GB</td>\n",
       "      <td>64 GB</td>\n",
       "      <td>50MP + 8MP + 2MP</td>\n",
       "      <td>13MP Front Camera</td>\n",
       "      <td>16.94 cm</td>\n",
       "      <td>5000</td>\n",
       "      <td>₹6,725</td>\n",
       "      <td>https://www.flipkart.com/redmi-a2-sea-green-32...</td>\n",
       "    </tr>\n",
       "    <tr>\n",
       "      <th>8</th>\n",
       "      <td>REDMI</td>\n",
       "      <td>REDMI A2 (Aqua Blue, 64 GB)</td>\n",
       "      <td>Aqua Blue</td>\n",
       "      <td>6 GB</td>\n",
       "      <td>64 GB</td>\n",
       "      <td>50MP + 8MP + 2MP</td>\n",
       "      <td>13MP Front Camera</td>\n",
       "      <td>16.94 cm</td>\n",
       "      <td>5000</td>\n",
       "      <td>₹6,808</td>\n",
       "      <td>https://www.flipkart.com/redmi-a2-aqua-blue-64...</td>\n",
       "    </tr>\n",
       "    <tr>\n",
       "      <th>9</th>\n",
       "      <td>REDMI</td>\n",
       "      <td>REDMI 12 (Pastel Blue, 128 GB)</td>\n",
       "      <td>Pastel Blue</td>\n",
       "      <td>6 GB</td>\n",
       "      <td>64 GB</td>\n",
       "      <td>50MP + 8MP + 2MP</td>\n",
       "      <td>13MP Front Camera</td>\n",
       "      <td>16.94 cm</td>\n",
       "      <td>5000</td>\n",
       "      <td>₹11,499</td>\n",
       "      <td>https://www.flipkart.com/redmi-12-pastel-blue-...</td>\n",
       "    </tr>\n",
       "    <tr>\n",
       "      <th>10</th>\n",
       "      <td>REDMI</td>\n",
       "      <td>REDMI A2 (Aqua Blue, 32 GB)</td>\n",
       "      <td>Aqua Blue</td>\n",
       "      <td>6 GB</td>\n",
       "      <td>64 GB</td>\n",
       "      <td>50MP + 8MP + 2MP</td>\n",
       "      <td>13MP Front Camera</td>\n",
       "      <td>16.94 cm</td>\n",
       "      <td>5000</td>\n",
       "      <td>₹7,128</td>\n",
       "      <td>https://www.flipkart.com/redmi-a2-aqua-blue-32...</td>\n",
       "    </tr>\n",
       "    <tr>\n",
       "      <th>11</th>\n",
       "      <td>REDMI</td>\n",
       "      <td>REDMI 10 Power (Power Black, 128 GB)</td>\n",
       "      <td>Power Black</td>\n",
       "      <td>6 GB</td>\n",
       "      <td>64 GB</td>\n",
       "      <td>50MP + 8MP + 2MP</td>\n",
       "      <td>13MP Front Camera</td>\n",
       "      <td>16.94 cm</td>\n",
       "      <td>5000</td>\n",
       "      <td>₹12,540</td>\n",
       "      <td>https://www.flipkart.com/redmi-10-power-power-...</td>\n",
       "    </tr>\n",
       "    <tr>\n",
       "      <th>12</th>\n",
       "      <td>Redmi</td>\n",
       "      <td>Redmi 6A (Blue, 16 GB)</td>\n",
       "      <td>Blue</td>\n",
       "      <td>6 GB</td>\n",
       "      <td>64 GB</td>\n",
       "      <td>50MP + 8MP + 2MP</td>\n",
       "      <td>13MP Front Camera</td>\n",
       "      <td>16.94 cm</td>\n",
       "      <td>5000</td>\n",
       "      <td>₹6,490</td>\n",
       "      <td>https://www.flipkart.com/redmi-6a-blue-16-gb/p...</td>\n",
       "    </tr>\n",
       "    <tr>\n",
       "      <th>13</th>\n",
       "      <td>REDMI</td>\n",
       "      <td>REDMI 12 (Moonstone Silver, 128 GB)</td>\n",
       "      <td>Moonstone Silver</td>\n",
       "      <td>6 GB</td>\n",
       "      <td>64 GB</td>\n",
       "      <td>50MP + 8MP + 2MP</td>\n",
       "      <td>13MP Front Camera</td>\n",
       "      <td>16.94 cm</td>\n",
       "      <td>5000</td>\n",
       "      <td>₹11,499</td>\n",
       "      <td>https://www.flipkart.com/redmi-12-moonstone-si...</td>\n",
       "    </tr>\n",
       "    <tr>\n",
       "      <th>14</th>\n",
       "      <td>REDMI</td>\n",
       "      <td>REDMI A1+ (Light Green, 32 GB)</td>\n",
       "      <td>Light Green</td>\n",
       "      <td>6 GB</td>\n",
       "      <td>64 GB</td>\n",
       "      <td>50MP + 8MP + 2MP</td>\n",
       "      <td>13MP Front Camera</td>\n",
       "      <td>16.94 cm</td>\n",
       "      <td>5000</td>\n",
       "      <td>₹6,299</td>\n",
       "      <td>https://www.flipkart.com/redmi-a1-light-green-...</td>\n",
       "    </tr>\n",
       "    <tr>\n",
       "      <th>15</th>\n",
       "      <td>REDMI</td>\n",
       "      <td>REDMI 11 Prime (Flashy Black, 128 GB)</td>\n",
       "      <td>Flashy Black</td>\n",
       "      <td>6 GB</td>\n",
       "      <td>64 GB</td>\n",
       "      <td>50MP + 8MP + 2MP</td>\n",
       "      <td>13MP Front Camera</td>\n",
       "      <td>16.94 cm</td>\n",
       "      <td>5000</td>\n",
       "      <td>₹10,499</td>\n",
       "      <td>https://www.flipkart.com/redmi-11-prime-flashy...</td>\n",
       "    </tr>\n",
       "    <tr>\n",
       "      <th>16</th>\n",
       "      <td>REDMI</td>\n",
       "      <td>REDMI 11 Prime (Playful Green, 128 GB)</td>\n",
       "      <td>Playful Green</td>\n",
       "      <td>6 GB</td>\n",
       "      <td>64 GB</td>\n",
       "      <td>50MP + 8MP + 2MP</td>\n",
       "      <td>13MP Front Camera</td>\n",
       "      <td>16.94 cm</td>\n",
       "      <td>5000</td>\n",
       "      <td>₹10,499</td>\n",
       "      <td>https://www.flipkart.com/redmi-11-prime-playfu...</td>\n",
       "    </tr>\n",
       "    <tr>\n",
       "      <th>17</th>\n",
       "      <td>REDMI</td>\n",
       "      <td>REDMI A2 (Sea Green, 64 GB)</td>\n",
       "      <td>Sea Green</td>\n",
       "      <td>6 GB</td>\n",
       "      <td>64 GB</td>\n",
       "      <td>50MP + 8MP + 2MP</td>\n",
       "      <td>13MP Front Camera</td>\n",
       "      <td>16.94 cm</td>\n",
       "      <td>5000</td>\n",
       "      <td>₹6,804</td>\n",
       "      <td>https://www.flipkart.com/redmi-a2-sea-green-64...</td>\n",
       "    </tr>\n",
       "    <tr>\n",
       "      <th>18</th>\n",
       "      <td>REDMI</td>\n",
       "      <td>REDMI A2 (Classic Black, 64 GB)</td>\n",
       "      <td>Classic Black</td>\n",
       "      <td>6 GB</td>\n",
       "      <td>64 GB</td>\n",
       "      <td>50MP + 8MP + 2MP</td>\n",
       "      <td>13MP Front Camera</td>\n",
       "      <td>16.94 cm</td>\n",
       "      <td>5000</td>\n",
       "      <td>₹6,745</td>\n",
       "      <td>https://www.flipkart.com/redmi-a2-classic-blac...</td>\n",
       "    </tr>\n",
       "    <tr>\n",
       "      <th>19</th>\n",
       "      <td>REDMI</td>\n",
       "      <td>REDMI 12 (Jade Black, 128 GB)</td>\n",
       "      <td>Jade Black</td>\n",
       "      <td>6 GB</td>\n",
       "      <td>64 GB</td>\n",
       "      <td>50MP + 8MP + 2MP</td>\n",
       "      <td>13MP Front Camera</td>\n",
       "      <td>16.94 cm</td>\n",
       "      <td>5000</td>\n",
       "      <td>₹11,499</td>\n",
       "      <td>https://www.flipkart.com/redmi-12-jade-black-1...</td>\n",
       "    </tr>\n",
       "    <tr>\n",
       "      <th>20</th>\n",
       "      <td>REDMI</td>\n",
       "      <td>REDMI 12 5G (Jade Black, 128 GB)</td>\n",
       "      <td>Jade Black</td>\n",
       "      <td>6 GB</td>\n",
       "      <td>64 GB</td>\n",
       "      <td>50MP + 8MP + 2MP</td>\n",
       "      <td>13MP Front Camera</td>\n",
       "      <td>16.94 cm</td>\n",
       "      <td>5000</td>\n",
       "      <td>₹15,755</td>\n",
       "      <td>https://www.flipkart.com/redmi-12-5g-jade-blac...</td>\n",
       "    </tr>\n",
       "    <tr>\n",
       "      <th>21</th>\n",
       "      <td>REDMI</td>\n",
       "      <td>REDMI Note 12 (Ice Blue, 64 GB)</td>\n",
       "      <td>Ice Blue</td>\n",
       "      <td>6 GB</td>\n",
       "      <td>64 GB</td>\n",
       "      <td>50MP + 8MP + 2MP</td>\n",
       "      <td>13MP Front Camera</td>\n",
       "      <td>16.94 cm</td>\n",
       "      <td>5000</td>\n",
       "      <td>₹12,999</td>\n",
       "      <td>https://www.flipkart.com/redmi-note-12-ice-blu...</td>\n",
       "    </tr>\n",
       "    <tr>\n",
       "      <th>22</th>\n",
       "      <td>REDMI</td>\n",
       "      <td>REDMI Note 12 (Lunar Black, 64 GB)</td>\n",
       "      <td>Lunar Black</td>\n",
       "      <td>6 GB</td>\n",
       "      <td>64 GB</td>\n",
       "      <td>50MP + 8MP + 2MP</td>\n",
       "      <td>13MP Front Camera</td>\n",
       "      <td>16.94 cm</td>\n",
       "      <td>5000</td>\n",
       "      <td>₹12,999</td>\n",
       "      <td>https://www.flipkart.com/redmi-note-12-lunar-b...</td>\n",
       "    </tr>\n",
       "    <tr>\n",
       "      <th>23</th>\n",
       "      <td>REDMI</td>\n",
       "      <td>REDMI Note 12 (Sunrise Gold, 64 GB)</td>\n",
       "      <td>Sunrise Gold</td>\n",
       "      <td>6 GB</td>\n",
       "      <td>64 GB</td>\n",
       "      <td>50MP + 8MP + 2MP</td>\n",
       "      <td>13MP Front Camera</td>\n",
       "      <td>16.94 cm</td>\n",
       "      <td>5000</td>\n",
       "      <td>₹12,999</td>\n",
       "      <td>https://www.flipkart.com/redmi-note-12-sunrise...</td>\n",
       "    </tr>\n",
       "  </tbody>\n",
       "</table>\n",
       "</div>"
      ],
      "text/plain": [
       "    Brand                         Smartphone Name             Color   RAM  \\\n",
       "0   REDMI     REDMI 12 (Moonstone Silver, 128 GB)  Moonstone Silver  6 GB   \n",
       "1   REDMI   REDMI 11 Prime (Peppy Purple, 128 GB)      Peppy Purple  6 GB   \n",
       "2   REDMI           REDMI 12 (Jade Black, 128 GB)        Jade Black  6 GB   \n",
       "3   REDMI          REDMI 12 (Pastel Blue, 128 GB)       Pastel Blue  6 GB   \n",
       "4   REDMI                REDMI A1+ (Black, 32 GB)             Black  6 GB   \n",
       "5   REDMI             REDMI A2 (Aqua Blue, 64 GB)         Aqua Blue  6 GB   \n",
       "6   REDMI         REDMI A2 (Classic Black, 64 GB)     Classic Black  6 GB   \n",
       "7   REDMI             REDMI A2 (Sea Green, 32 GB)         Sea Green  6 GB   \n",
       "8   REDMI             REDMI A2 (Aqua Blue, 64 GB)         Aqua Blue  6 GB   \n",
       "9   REDMI          REDMI 12 (Pastel Blue, 128 GB)       Pastel Blue  6 GB   \n",
       "10  REDMI             REDMI A2 (Aqua Blue, 32 GB)         Aqua Blue  6 GB   \n",
       "11  REDMI    REDMI 10 Power (Power Black, 128 GB)       Power Black  6 GB   \n",
       "12  Redmi                  Redmi 6A (Blue, 16 GB)              Blue  6 GB   \n",
       "13  REDMI     REDMI 12 (Moonstone Silver, 128 GB)  Moonstone Silver  6 GB   \n",
       "14  REDMI          REDMI A1+ (Light Green, 32 GB)       Light Green  6 GB   \n",
       "15  REDMI   REDMI 11 Prime (Flashy Black, 128 GB)      Flashy Black  6 GB   \n",
       "16  REDMI  REDMI 11 Prime (Playful Green, 128 GB)     Playful Green  6 GB   \n",
       "17  REDMI             REDMI A2 (Sea Green, 64 GB)         Sea Green  6 GB   \n",
       "18  REDMI         REDMI A2 (Classic Black, 64 GB)     Classic Black  6 GB   \n",
       "19  REDMI           REDMI 12 (Jade Black, 128 GB)        Jade Black  6 GB   \n",
       "20  REDMI        REDMI 12 5G (Jade Black, 128 GB)        Jade Black  6 GB   \n",
       "21  REDMI         REDMI Note 12 (Ice Blue, 64 GB)          Ice Blue  6 GB   \n",
       "22  REDMI      REDMI Note 12 (Lunar Black, 64 GB)       Lunar Black  6 GB   \n",
       "23  REDMI     REDMI Note 12 (Sunrise Gold, 64 GB)      Sunrise Gold  6 GB   \n",
       "\n",
       "      ROM     Primary Camera    Secondary Camera Display Size  \\\n",
       "0   64 GB  50MP + 8MP + 2MP    13MP Front Camera     16.94 cm   \n",
       "1   64 GB  50MP + 8MP + 2MP    13MP Front Camera     16.94 cm   \n",
       "2   64 GB  50MP + 8MP + 2MP    13MP Front Camera     16.94 cm   \n",
       "3   64 GB  50MP + 8MP + 2MP    13MP Front Camera     16.94 cm   \n",
       "4   64 GB  50MP + 8MP + 2MP    13MP Front Camera     16.94 cm   \n",
       "5   64 GB  50MP + 8MP + 2MP    13MP Front Camera     16.94 cm   \n",
       "6   64 GB  50MP + 8MP + 2MP    13MP Front Camera     16.94 cm   \n",
       "7   64 GB  50MP + 8MP + 2MP    13MP Front Camera     16.94 cm   \n",
       "8   64 GB  50MP + 8MP + 2MP    13MP Front Camera     16.94 cm   \n",
       "9   64 GB  50MP + 8MP + 2MP    13MP Front Camera     16.94 cm   \n",
       "10  64 GB  50MP + 8MP + 2MP    13MP Front Camera     16.94 cm   \n",
       "11  64 GB  50MP + 8MP + 2MP    13MP Front Camera     16.94 cm   \n",
       "12  64 GB  50MP + 8MP + 2MP    13MP Front Camera     16.94 cm   \n",
       "13  64 GB  50MP + 8MP + 2MP    13MP Front Camera     16.94 cm   \n",
       "14  64 GB  50MP + 8MP + 2MP    13MP Front Camera     16.94 cm   \n",
       "15  64 GB  50MP + 8MP + 2MP    13MP Front Camera     16.94 cm   \n",
       "16  64 GB  50MP + 8MP + 2MP    13MP Front Camera     16.94 cm   \n",
       "17  64 GB  50MP + 8MP + 2MP    13MP Front Camera     16.94 cm   \n",
       "18  64 GB  50MP + 8MP + 2MP    13MP Front Camera     16.94 cm   \n",
       "19  64 GB  50MP + 8MP + 2MP    13MP Front Camera     16.94 cm   \n",
       "20  64 GB  50MP + 8MP + 2MP    13MP Front Camera     16.94 cm   \n",
       "21  64 GB  50MP + 8MP + 2MP    13MP Front Camera     16.94 cm   \n",
       "22  64 GB  50MP + 8MP + 2MP    13MP Front Camera     16.94 cm   \n",
       "23  64 GB  50MP + 8MP + 2MP    13MP Front Camera     16.94 cm   \n",
       "\n",
       "   Battery Capacity    Price  \\\n",
       "0             5000    ₹9,999   \n",
       "1             5000   ₹10,499   \n",
       "2             5000    ₹9,999   \n",
       "3             5000    ₹9,999   \n",
       "4             5000    ₹6,299   \n",
       "5             5000    ₹6,640   \n",
       "6             5000    ₹6,802   \n",
       "7             5000    ₹6,725   \n",
       "8             5000    ₹6,808   \n",
       "9             5000   ₹11,499   \n",
       "10            5000    ₹7,128   \n",
       "11            5000   ₹12,540   \n",
       "12            5000    ₹6,490   \n",
       "13            5000   ₹11,499   \n",
       "14            5000    ₹6,299   \n",
       "15            5000   ₹10,499   \n",
       "16            5000   ₹10,499   \n",
       "17            5000    ₹6,804   \n",
       "18            5000    ₹6,745   \n",
       "19            5000   ₹11,499   \n",
       "20            5000   ₹15,755   \n",
       "21            5000   ₹12,999   \n",
       "22            5000   ₹12,999   \n",
       "23            5000   ₹12,999   \n",
       "\n",
       "                                          Product URL  \n",
       "0   https://www.flipkart.com/redmi-12-moonstone-si...  \n",
       "1   https://www.flipkart.com/redmi-11-prime-peppy-...  \n",
       "2   https://www.flipkart.com/redmi-12-jade-black-1...  \n",
       "3   https://www.flipkart.com/redmi-12-pastel-blue-...  \n",
       "4   https://www.flipkart.com/redmi-a1-black-32-gb/...  \n",
       "5   https://www.flipkart.com/redmi-a2-aqua-blue-64...  \n",
       "6   https://www.flipkart.com/redmi-a2-classic-blac...  \n",
       "7   https://www.flipkart.com/redmi-a2-sea-green-32...  \n",
       "8   https://www.flipkart.com/redmi-a2-aqua-blue-64...  \n",
       "9   https://www.flipkart.com/redmi-12-pastel-blue-...  \n",
       "10  https://www.flipkart.com/redmi-a2-aqua-blue-32...  \n",
       "11  https://www.flipkart.com/redmi-10-power-power-...  \n",
       "12  https://www.flipkart.com/redmi-6a-blue-16-gb/p...  \n",
       "13  https://www.flipkart.com/redmi-12-moonstone-si...  \n",
       "14  https://www.flipkart.com/redmi-a1-light-green-...  \n",
       "15  https://www.flipkart.com/redmi-11-prime-flashy...  \n",
       "16  https://www.flipkart.com/redmi-11-prime-playfu...  \n",
       "17  https://www.flipkart.com/redmi-a2-sea-green-64...  \n",
       "18  https://www.flipkart.com/redmi-a2-classic-blac...  \n",
       "19  https://www.flipkart.com/redmi-12-jade-black-1...  \n",
       "20  https://www.flipkart.com/redmi-12-5g-jade-blac...  \n",
       "21  https://www.flipkart.com/redmi-note-12-ice-blu...  \n",
       "22  https://www.flipkart.com/redmi-note-12-lunar-b...  \n",
       "23  https://www.flipkart.com/redmi-note-12-sunrise...  "
      ]
     },
     "execution_count": 85,
     "metadata": {},
     "output_type": "execute_result"
    }
   ],
   "source": [
    "Phone_details"
   ]
  },
  {
   "cell_type": "code",
   "execution_count": 28,
   "id": "a1a23c88",
   "metadata": {},
   "outputs": [],
   "source": [
    "Phone_details.to_csv(r'C:\\Users\\jkart\\Documents\\DATA TRAINED\\flip robo internship\\Phone_Details.csv')"
   ]
  },
  {
   "cell_type": "code",
   "execution_count": 18,
   "id": "f2cd6bf2",
   "metadata": {},
   "outputs": [],
   "source": [
    "#question 5"
   ]
  },
  {
   "cell_type": "code",
   "execution_count": 17,
   "id": "c182a5ea",
   "metadata": {},
   "outputs": [
    {
     "name": "stdout",
     "output_type": "stream",
     "text": [
      "Enter City name that has to be searched : vaishali\n",
      "URL Extracted:  https://www.google.co.in/maps/place/Vaishali,+Bihar/@21.0686228,82.7525294,5z/data=!4m6!3m5!1s0x39ed5ea75b91d0f1:0x9f7b3d2988e373b5!8m2!3d25.6838206!4d85.354965!16zL20vMDVrcG4y?entry=ttu\n",
      "Latitude = 21.0686228, Longitude = 82.7525294\n"
     ]
    }
   ],
   "source": [
    "# to get web browser\n",
    "driver=webdriver.Chrome() \n",
    "time.sleep(2)\n",
    "\n",
    "# opening google maps\n",
    "url = \"https://www.google.co.in/maps\"\n",
    "driver.get(url)\n",
    "time.sleep(2)\n",
    "\n",
    "\n",
    "#Sending keyword for seach bar and search button\n",
    "city = input('Enter City name that has to be searched : ')\n",
    "search_bar = driver.find_element(By.ID,\"searchboxinput\")                       \n",
    "search_bar.clear()                                                             \n",
    "time.sleep(2)\n",
    "search_bar.send_keys(city)                                                     \n",
    "search_btn = driver.find_element(By.ID,\"searchbox-searchbutton\")              \n",
    "search_btn.click()                                                             \n",
    "time.sleep(3)\n",
    "\n",
    "try:\n",
    "    url_string = driver.current_url\n",
    "    print(\"URL Extracted: \", url_string)\n",
    "    lat_lng = re.findall(r'@(.*)data',url_string)\n",
    "    if len(lat_lng):\n",
    "        lat_lng_list = lat_lng[0].split(\",\")\n",
    "        if len(lat_lng_list)>=2:\n",
    "            lat = lat_lng_list[0]\n",
    "            lng = lat_lng_list[1]\n",
    "        print(\"Latitude = {}, Longitude = {}\".format(lat, lng))\n",
    "\n",
    "except Exception as e:\n",
    "        print(\"Error: \", str(e))"
   ]
  },
  {
   "cell_type": "code",
   "execution_count": 19,
   "id": "1448dbbd",
   "metadata": {},
   "outputs": [],
   "source": [
    "#question 6"
   ]
  },
  {
   "cell_type": "code",
   "execution_count": 3,
   "id": "7199f7a9",
   "metadata": {},
   "outputs": [],
   "source": [
    "# Connecting to the webdriver\n",
    "driver=webdriver.Chrome()"
   ]
  },
  {
   "cell_type": "code",
   "execution_count": 4,
   "id": "35ca3373",
   "metadata": {},
   "outputs": [],
   "source": [
    "# opening the url digit.in\n",
    "url = \"https://www.digit.in/\"\n",
    "driver.get(url)\n",
    "time.sleep(2)"
   ]
  },
  {
   "cell_type": "code",
   "execution_count": 5,
   "id": "d875463a",
   "metadata": {},
   "outputs": [],
   "source": [
    "#searching for best laptop\n",
    "best_gam_laptops = driver.find_element(By.XPATH,\"//div[@class='listing_container']//ul//li[9]\").click()\n",
    "time.sleep(4)"
   ]
  },
  {
   "cell_type": "code",
   "execution_count": 6,
   "id": "c88afc1b",
   "metadata": {},
   "outputs": [],
   "source": [
    "#Creating empty lists\n",
    "Laptop_Name = []\n",
    "Operating_sys = []\n",
    "Display = []\n",
    "Processor = []\n",
    "Memory = []\n",
    "Weight = []\n",
    "Dimensions = []\n",
    "Graph_proc = []\n",
    "Price = []"
   ]
  },
  {
   "cell_type": "code",
   "execution_count": 7,
   "id": "be75a268",
   "metadata": {},
   "outputs": [],
   "source": [
    "# Scraping the data of laptop names\n",
    "laptop_name= driver.find_elements(By.XPATH,'//span[@class=\"datahreflink\"]/h3')\n",
    "for name in laptop_name:\n",
    "    Laptop_Name.append(name.text)\n",
    "    \n",
    "    \n",
    "#Scraping the data of operating system\n",
    "try:\n",
    "    op_sys = driver.find_elements(By.XPATH,'//div[@class=\"Spcs-details\"]//table/tbody/tr[4]/td[3]')\n",
    "    for os in op_sys:\n",
    "        Operating_sys.append(os.text)\n",
    "except NoSuchElementException:\n",
    "    pass\n",
    "\n",
    "\n",
    "#Scraping data of display of the laptop\n",
    "try:\n",
    "    display= driver.find_elements(By.XPATH,'//div[@class=\"Spcs-details\"]/table/tbody/tr[3]/td[3]')\n",
    "    for disp in display:\n",
    "        Display.append(disp.text)\n",
    "except NoSuchElementException:\n",
    "    pass\n",
    "\n",
    "\n",
    "#Scraping data of Processor\n",
    "try:\n",
    "    processor = driver.find_elements(By.XPATH,'//div[@class=\"Spcs-details\"]/table/tbody/tr[2]/td[3]')\n",
    "    for pro in processor:\n",
    "        Processor.append(pro.text)\n",
    "except NoSuchElementException:\n",
    "    pass\n",
    "\n",
    "#Scraping data of memory\n",
    "try:\n",
    "    memory = driver.find_elements(By.XPATH,'//div[@class=\"Spcs-details\"]/table/tbody/tr[5]/td[3]')\n",
    "    for memo in memory:\n",
    "        Memory.append(memo.text)\n",
    "except NoSuchElementException:\n",
    "    pass\n",
    "\n",
    "\n",
    "#Scraping data of dimensions\n",
    "try:\n",
    "    dimension = driver.find_elements(By.XPATH,'//div[@class=\"Spcs-details\"]/table/tbody/tr[7]/td[3]')\n",
    "    for dim in dimension:\n",
    "        Dimensions.append(dim.text)\n",
    "except NoSuchElementException:\n",
    "    pass\n",
    "\n",
    "\n",
    "#Scraping data of Graph processor\n",
    "try:\n",
    "    graph = driver.find_elements(By.XPATH,'//div[@class=\"Spcs-details\"]/table/tbody/tr[6]/td[3]')\n",
    "    for gra in graph:\n",
    "        Graph_proc.append(gra.text)\n",
    "except NoSuchElementException:\n",
    "    pass\n",
    "\n",
    "\n",
    "#Scraping data of price\n",
    "try:\n",
    "    price = driver.find_elements(By.XPATH,'//div[@class=\"Spcs-details\"]/table/tbody/tr[8]/td[3]')\n",
    "    for pri in price:\n",
    "        Price.append(pri.text.replace('₹','Rs '))\n",
    "except NoSuchElementException:\n",
    "    pass"
   ]
  },
  {
   "cell_type": "code",
   "execution_count": 8,
   "id": "e6da9e0a",
   "metadata": {},
   "outputs": [
    {
     "name": "stdout",
     "output_type": "stream",
     "text": [
      "7 7 7 7 7 7 7 7\n"
     ]
    }
   ],
   "source": [
    "print(len(Laptop_Name),len(Operating_sys),len(Display),len(Processor),len(Memory),len(Dimensions),len(Graph_proc),len(Price))"
   ]
  },
  {
   "cell_type": "code",
   "execution_count": 9,
   "id": "e4d41799",
   "metadata": {},
   "outputs": [],
   "source": [
    "data=list(zip(Laptop_Name, Operating_sys, Display, Processor, Memory, Dimensions, Graph_proc, Price))"
   ]
  },
  {
   "cell_type": "code",
   "execution_count": 11,
   "id": "4ec63ae5",
   "metadata": {},
   "outputs": [],
   "source": [
    "df=pd.DataFrame(data,columns=['Laptop_Name','Operating_System','Display','Processor','Memory','Dimension','Graph_Proc','Price'])"
   ]
  },
  {
   "cell_type": "code",
   "execution_count": 12,
   "id": "c96cd531",
   "metadata": {},
   "outputs": [
    {
     "data": {
      "text/html": [
       "<div>\n",
       "<style scoped>\n",
       "    .dataframe tbody tr th:only-of-type {\n",
       "        vertical-align: middle;\n",
       "    }\n",
       "\n",
       "    .dataframe tbody tr th {\n",
       "        vertical-align: top;\n",
       "    }\n",
       "\n",
       "    .dataframe thead th {\n",
       "        text-align: right;\n",
       "    }\n",
       "</style>\n",
       "<table border=\"1\" class=\"dataframe\">\n",
       "  <thead>\n",
       "    <tr style=\"text-align: right;\">\n",
       "      <th></th>\n",
       "      <th>Laptop_Name</th>\n",
       "      <th>Operating_System</th>\n",
       "      <th>Display</th>\n",
       "      <th>Processor</th>\n",
       "      <th>Memory</th>\n",
       "      <th>Dimension</th>\n",
       "      <th>Graph_Proc</th>\n",
       "      <th>Price</th>\n",
       "    </tr>\n",
       "  </thead>\n",
       "  <tbody>\n",
       "    <tr>\n",
       "      <th>0</th>\n",
       "      <td>HP OMEN 17 (2023)</td>\n",
       "      <td>Windows 11 Home</td>\n",
       "      <td>17.3″ (2560 x 1440) screen, 165 Hz refresh rate</td>\n",
       "      <td>13th Gen Intel Core i7-13700HX 16 core process...</td>\n",
       "      <td>16 GB DDR5GB RAM &amp; 1 TB SSD</td>\n",
       "      <td>397.1 x 262 x 27 mm dimension &amp; 2.78 kg weight</td>\n",
       "      <td>12 GB DDR6 NVIDIA GeForce RTX 4080 Graphics card</td>\n",
       "      <td>Rs  269,777</td>\n",
       "    </tr>\n",
       "    <tr>\n",
       "      <th>1</th>\n",
       "      <td>MSI Titan GT77 12UHS</td>\n",
       "      <td>Windows 11 Home</td>\n",
       "      <td>17.3″ (3840 x 2160) screen, 120 Hz refresh rate</td>\n",
       "      <td>12th Gen Intel Core i9-12900HX 16 core process...</td>\n",
       "      <td>64 GB DDR5GB RAM &amp; 2 TB SSD</td>\n",
       "      <td>397 x 330 x 23 mm dimension &amp; 3.3 kg weight</td>\n",
       "      <td>16 GB DDR6 NVIDIA GeForce RTX 3080Ti Graphics ...</td>\n",
       "      <td>Rs  499,990</td>\n",
       "    </tr>\n",
       "    <tr>\n",
       "      <th>2</th>\n",
       "      <td>Lenovo Legion 5i Pro</td>\n",
       "      <td>Windows 11 Home</td>\n",
       "      <td>16″ (2560 x 1600) screen</td>\n",
       "      <td>12th Gen Intel Core i7-12700H 14 core processo...</td>\n",
       "      <td>32 GB DDR5GB RAM &amp; 1 TB SSD</td>\n",
       "      <td>359.9 x 264.4 x 19.9 mm dimension &amp; 3.6 kg weight</td>\n",
       "      <td>NVIDIA GeForce RTX 3070 Ti Graphics card</td>\n",
       "      <td>Rs  179,990</td>\n",
       "    </tr>\n",
       "    <tr>\n",
       "      <th>3</th>\n",
       "      <td>ASUS ROG Strix Scar 18 2023</td>\n",
       "      <td>Windows 11 Home</td>\n",
       "      <td>18″ (1920 x 1200) screen, 165 Hz refresh rate</td>\n",
       "      <td>13th Gen Intel Core i9-13980HX 24 core process...</td>\n",
       "      <td>32 GB DDR5GB RAM &amp; 1 TB SSD</td>\n",
       "      <td>294 x 399 x 23 mm dimension &amp; 3.1 kg weight</td>\n",
       "      <td>12 GB DDR6 NVIDIA GeForce RTX 4080 Graphics card</td>\n",
       "      <td>Rs  279,990</td>\n",
       "    </tr>\n",
       "    <tr>\n",
       "      <th>4</th>\n",
       "      <td>Acer Predator Helios Neo 16</td>\n",
       "      <td>Windows 11 Home</td>\n",
       "      <td>16″ (2560 x 1600) screen, 165 Hz refresh rate</td>\n",
       "      <td>13th Gen Intel Core i7-13700HX processor</td>\n",
       "      <td>16 GB DDR5GB RAM &amp; 1 TB SSD</td>\n",
       "      <td>360 x 279 x 28 mm dimension &amp; 2.6 kg weight</td>\n",
       "      <td>8 GB DDR6 NVIDIA GeForce RTX 4060 Graphics card</td>\n",
       "      <td>Rs  149,990</td>\n",
       "    </tr>\n",
       "    <tr>\n",
       "      <th>5</th>\n",
       "      <td>ASUS ROG Zephyrus G14</td>\n",
       "      <td>Windows 11 Home</td>\n",
       "      <td>14″ (1920 x 1200) screen, 144 Hz refresh rate</td>\n",
       "      <td>AMD Ryzen 9-6900HS 8 core processor with 4.9 G...</td>\n",
       "      <td>16 GB DDR5GB RAM &amp; 1 TB SSD</td>\n",
       "      <td>312 x 227 x 19 mm dimension &amp; 1.65 kg weight</td>\n",
       "      <td>8 GB DDR6 AMD Radeon RX 6700S Graphics card</td>\n",
       "      <td>Rs  156,990</td>\n",
       "    </tr>\n",
       "    <tr>\n",
       "      <th>6</th>\n",
       "      <td>MSI Cyborg 15</td>\n",
       "      <td>Windows 11 Home</td>\n",
       "      <td>15.6″ (1920 x 1080) screen, 144 Hz refresh rate</td>\n",
       "      <td>12th Gen Intel Core i7-12650H 10 core processo...</td>\n",
       "      <td>16 GB DDR5GB RAM &amp; 1 TB SSD</td>\n",
       "      <td>&amp; 1.98 kg weight</td>\n",
       "      <td>8 GB DDR6 NVIDIA GeForce RTX 4060 Graphics card</td>\n",
       "      <td>Rs  125,000</td>\n",
       "    </tr>\n",
       "  </tbody>\n",
       "</table>\n",
       "</div>"
      ],
      "text/plain": [
       "                   Laptop_Name Operating_System  \\\n",
       "0            HP OMEN 17 (2023)  Windows 11 Home   \n",
       "1         MSI Titan GT77 12UHS  Windows 11 Home   \n",
       "2         Lenovo Legion 5i Pro  Windows 11 Home   \n",
       "3  ASUS ROG Strix Scar 18 2023  Windows 11 Home   \n",
       "4  Acer Predator Helios Neo 16  Windows 11 Home   \n",
       "5        ASUS ROG Zephyrus G14  Windows 11 Home   \n",
       "6                MSI Cyborg 15  Windows 11 Home   \n",
       "\n",
       "                                           Display  \\\n",
       "0  17.3″ (2560 x 1440) screen, 165 Hz refresh rate   \n",
       "1  17.3″ (3840 x 2160) screen, 120 Hz refresh rate   \n",
       "2                         16″ (2560 x 1600) screen   \n",
       "3    18″ (1920 x 1200) screen, 165 Hz refresh rate   \n",
       "4    16″ (2560 x 1600) screen, 165 Hz refresh rate   \n",
       "5    14″ (1920 x 1200) screen, 144 Hz refresh rate   \n",
       "6  15.6″ (1920 x 1080) screen, 144 Hz refresh rate   \n",
       "\n",
       "                                           Processor  \\\n",
       "0  13th Gen Intel Core i7-13700HX 16 core process...   \n",
       "1  12th Gen Intel Core i9-12900HX 16 core process...   \n",
       "2  12th Gen Intel Core i7-12700H 14 core processo...   \n",
       "3  13th Gen Intel Core i9-13980HX 24 core process...   \n",
       "4           13th Gen Intel Core i7-13700HX processor   \n",
       "5  AMD Ryzen 9-6900HS 8 core processor with 4.9 G...   \n",
       "6  12th Gen Intel Core i7-12650H 10 core processo...   \n",
       "\n",
       "                        Memory  \\\n",
       "0  16 GB DDR5GB RAM & 1 TB SSD   \n",
       "1  64 GB DDR5GB RAM & 2 TB SSD   \n",
       "2  32 GB DDR5GB RAM & 1 TB SSD   \n",
       "3  32 GB DDR5GB RAM & 1 TB SSD   \n",
       "4  16 GB DDR5GB RAM & 1 TB SSD   \n",
       "5  16 GB DDR5GB RAM & 1 TB SSD   \n",
       "6  16 GB DDR5GB RAM & 1 TB SSD   \n",
       "\n",
       "                                           Dimension  \\\n",
       "0     397.1 x 262 x 27 mm dimension & 2.78 kg weight   \n",
       "1        397 x 330 x 23 mm dimension & 3.3 kg weight   \n",
       "2  359.9 x 264.4 x 19.9 mm dimension & 3.6 kg weight   \n",
       "3        294 x 399 x 23 mm dimension & 3.1 kg weight   \n",
       "4        360 x 279 x 28 mm dimension & 2.6 kg weight   \n",
       "5       312 x 227 x 19 mm dimension & 1.65 kg weight   \n",
       "6                                   & 1.98 kg weight   \n",
       "\n",
       "                                          Graph_Proc        Price  \n",
       "0   12 GB DDR6 NVIDIA GeForce RTX 4080 Graphics card  Rs  269,777  \n",
       "1  16 GB DDR6 NVIDIA GeForce RTX 3080Ti Graphics ...  Rs  499,990  \n",
       "2           NVIDIA GeForce RTX 3070 Ti Graphics card  Rs  179,990  \n",
       "3   12 GB DDR6 NVIDIA GeForce RTX 4080 Graphics card  Rs  279,990  \n",
       "4    8 GB DDR6 NVIDIA GeForce RTX 4060 Graphics card  Rs  149,990  \n",
       "5        8 GB DDR6 AMD Radeon RX 6700S Graphics card  Rs  156,990  \n",
       "6    8 GB DDR6 NVIDIA GeForce RTX 4060 Graphics card  Rs  125,000  "
      ]
     },
     "execution_count": 12,
     "metadata": {},
     "output_type": "execute_result"
    }
   ],
   "source": [
    "df"
   ]
  },
  {
   "cell_type": "code",
   "execution_count": 13,
   "id": "991d39e9",
   "metadata": {},
   "outputs": [],
   "source": [
    "#question 7"
   ]
  },
  {
   "cell_type": "code",
   "execution_count": 2,
   "id": "aa161553",
   "metadata": {},
   "outputs": [],
   "source": [
    "# Connecting to the webdriver\n",
    "driver=webdriver.Chrome()\n",
    "#Getting the specified url\n",
    "url = \"https://www.forbes.com/?sh=7df7e2b02254\"\n",
    "driver.get(url)\n",
    "time.sleep(3)"
   ]
  },
  {
   "cell_type": "code",
   "execution_count": 3,
   "id": "b3e7dc74",
   "metadata": {},
   "outputs": [],
   "source": [
    "#clicking on the explore button\n",
    "button = driver.find_element(By.XPATH,'//div[@class=\"_69hVhdY4\"]')\n",
    "button.click()\n",
    "time.sleep(1)"
   ]
  },
  {
   "cell_type": "code",
   "execution_count": 5,
   "id": "9dc53dc4",
   "metadata": {},
   "outputs": [],
   "source": [
    "#select billionaire  \n",
    "bill = driver.find_element(By.XPATH,'/html/body/div[1]/header/nav/div[1]/div[1]/div/div[2]/ul/li[2]/div[1]')\n",
    "bill.click()\n",
    "time.sleep(1)"
   ]
  },
  {
   "cell_type": "code",
   "execution_count": 6,
   "id": "a587323d",
   "metadata": {},
   "outputs": [],
   "source": [
    "#select world billionaire  \n",
    "world_bill= driver.find_element(By.XPATH,'/html/body/div[1]/header/nav/div[1]/div[1]/div/div[2]/ul/li[2]/div[2]/div[3]/ul/li[1]/a')\n",
    "world_bill.click()\n",
    "time.sleep(1)"
   ]
  },
  {
   "cell_type": "code",
   "execution_count": 12,
   "id": "c5c151a0",
   "metadata": {},
   "outputs": [],
   "source": [
    "#scraping rank\n",
    "rank= [i.text for i in driver.find_elements(By.XPATH,'//div[@class=\"Table_rank___YBhk Table_dataCell__2QCve\"]')]\n",
    "time.sleep(2)\n",
    "\n",
    "#scraping name\n",
    "name=[i.text for i in driver.find_elements(By.XPATH, '//div[@class=\"TableRow_cell__db-hv Table_cell__houv9\"]')][1:1400:7]\n",
    "time.sleep(2)\n",
    "\n",
    "#scraping age\n",
    "age=[i.text for i in driver.find_elements(By.XPATH, '//div[@class=\"Table_dataCell__2QCve\"]')][1:800:4]\n",
    "time.sleep(2)\n",
    "\n",
    "#sccraping industry\n",
    "industry=[i.text for i in driver.find_elements(By.XPATH, '//div[@class=\"Table_dataCell__2QCve\"]')][3:800:4]\n",
    "time.sleep(2)\n",
    "\n",
    "#scraping source\n",
    "source=[i.text for i in driver.find_elements(By.XPATH, '//div[@class=\"Table_dataCell__2QCve\"]')][2:800:4]\n",
    "time.sleep(2)\n",
    "\n",
    "#scraping net_worth\n",
    "net_worth=[i.text for i in driver.find_elements(By.XPATH, '//div[@class=\"Table_netWorth___L4R5 Table_dataCell__2QCve\"]')]\n",
    "time.sleep(2)\n",
    "\n",
    "#scraping country_name\n",
    "country=[i.text for i in driver.find_elements(By.XPATH, '//div[@class=\"TableRow_cell__db-hv Table_cell__houv9\"]')][4:1400:7]\n",
    "time.sleep(2)"
   ]
  },
  {
   "cell_type": "code",
   "execution_count": 17,
   "id": "6a07547e",
   "metadata": {},
   "outputs": [],
   "source": [
    "#scraping source\n",
    "source=[i.text for i in driver.find_elements(By.XPATH, '//div[@class=\"Table_dataCell__2QCve\"]')][2:800:4]\n",
    "time.sleep(2)"
   ]
  },
  {
   "cell_type": "code",
   "execution_count": 18,
   "id": "e9d81cb6",
   "metadata": {},
   "outputs": [
    {
     "data": {
      "text/plain": [
       "200"
      ]
     },
     "execution_count": 18,
     "metadata": {},
     "output_type": "execute_result"
    }
   ],
   "source": [
    "len(source)"
   ]
  },
  {
   "cell_type": "code",
   "execution_count": 19,
   "id": "9af08bbf",
   "metadata": {},
   "outputs": [
    {
     "name": "stdout",
     "output_type": "stream",
     "text": [
      "['LVMH', 'Tesla, SpaceX', 'Amazon', 'Oracle', 'Berkshire Hathaway', 'Microsoft', 'Bloomberg LP', 'Telecom', 'Diversified', 'Microsoft', \"L'Oréal\", 'Google', 'Zara', 'Google', 'Beverages, pharmaceuticals', 'Facebook', 'Koch Industries', 'Koch Industries', 'Walmart', 'Walmart', 'Walmart', 'Media', 'Dell Technologies', 'Infrastructure, commodities', 'Nike', 'TikTok', 'Retail', 'Luxury goods', 'Shipping', 'Nutella, chocolates', 'Candy, pet food', 'Candy, pet food', 'Diversified', 'Internet media', 'Casinos', 'Hedge funds', 'Red Bull', 'Batteries', 'Fashion retail', 'Music, chemicals', 'Chanel', 'Chanel', 'Shipping', 'Shipping', 'E-commerce', 'Fasteners', 'Real estate', 'Trading, investments', 'Hedge funds', 'Investments', 'BMW, pharmaceuticals', 'Mining', 'Online games', 'Mining', 'software services', 'Coal', 'Discount brokerage', 'Fertilizers, coal', 'BMW', 'Amazon', 'Banking, tobacco', 'Metals', 'E-commerce', 'Home appliances', 'Mining', 'Banking, tobacco', 'Chemicals', 'Vaccines', 'Internet, telecom', 'Steel, transport', 'Cheese', 'Fidelity', 'Gas, chemicals', 'Walmart', 'Package delivery', 'Semiconductors', 'Estee Lauder', 'Sensors', 'Steel, investments', 'Oil', 'Hospitals', 'Mining', 'Hedge funds', 'Automobiles', 'Mining, copper products', 'Real estate, shipping', 'Pig breeding', 'Batteries, automobiles', 'Oil & gas', 'Hedge funds', 'Oil, gas', 'Quicken Loans', 'Steel', 'Hedge funds', 'Investments', 'Steel', 'Real estate', 'Home improvement stores', 'Newspapers, TV network', 'Banking', \"Aldi, Trader Joe's\", 'Finance, telecommunications', 'medical devices', 'H&M', 'Google', 'Hedge funds', 'Soy sauce', 'Supermarkets', 'Supermarkets', 'Beer', 'Real estate', 'Pharmaceuticals', 'Wireless networking', 'Retail, investments', 'Batteries', 'Diversified', 'Retail', 'Alcohol, real estate', 'Heineken', 'Medical devices', 'Automobiles', 'Steel, telecom, investments', 'Paints', 'Commodities', 'Cement, sugar', 'Real estate', 'Shipping', 'Hospitals', 'Casinos/hotels', 'Shipping', 'Building supplies', 'WhatsApp', 'Dallas Cowboys', 'Oil & gas, banking', 'Real estate', 'Automobiles, batteries', 'Real estate', 'Banking', 'Sports, real estate', 'Oil, banking, telecom', 'Energy', 'Coal', 'Vaccines', 'Auto parts', 'Apple, Disney', 'Palm oil, shipping, property', 'Real estate', 'Messaging app', 'Pharmaceuticals', 'Pharmaceuticals', 'Agribusiness', 'Online retail', 'Hedge funds', 'Fertilizer, real estate', 'Manufacturing', 'Investments', 'Luxury goods', 'Luxury goods', 'Video surveillance', 'Internet media', 'Energy, sports, entertainment', 'Gas stations', 'Retail, media', 'Media', 'Manufacturing, New England Patriots', 'Beer', 'Gold', 'E-commerce', 'Cryptocurrency exchange', 'Banks, real estate', 'Software', 'Medical devices', 'Business software', 'Oil', 'Steel', 'Facebook', 'Auto parts', 'Walmart', 'Software', 'Banking, property', 'Real estate', 'Oil', 'Diversified', 'Infrastructure, commodities', 'Hermes', 'Shipping', 'Shipping', 'Shipping', 'Investments', 'Fertilizers', 'Private equity', 'Smartphones', 'Manufacturing', 'Pharmaceuticals', 'Warehouse automation', 'Solar panels', 'Chemicals', 'Candy, pet food', 'Candy, pet food', 'Candy, pet food']\n"
     ]
    }
   ],
   "source": [
    "print(source)"
   ]
  },
  {
   "cell_type": "code",
   "execution_count": 22,
   "id": "01885733",
   "metadata": {},
   "outputs": [],
   "source": [
    "#sccraping industry\n",
    "industry=[i.text for i in driver.find_elements(By.XPATH, '//div[@class=\"Table_dataCell__2QCve\"]')][3:800:4]\n",
    "time.sleep(2)"
   ]
  },
  {
   "cell_type": "code",
   "execution_count": 23,
   "id": "774b6e60",
   "metadata": {},
   "outputs": [
    {
     "name": "stdout",
     "output_type": "stream",
     "text": [
      "['Fashion & Retail', 'Automotive', 'Technology', 'Technology', 'Finance & Investments', 'Technology', 'Media & Entertainment', 'Telecom', 'Diversified', 'Technology', 'Fashion & Retail', 'Technology', 'Fashion & Retail', 'Technology', 'Food & Beverage', 'Technology', 'Diversified', 'Diversified', 'Fashion & Retail', 'Fashion & Retail', 'Fashion & Retail', 'Media & Entertainment', 'Technology', 'Diversified', 'Fashion & Retail', 'Technology', 'Fashion & Retail', 'Fashion & Retail', 'Logistics', 'Food & Beverage', 'Food & Beverage', 'Food & Beverage', 'Diversified', 'Technology', 'Gambling & Casinos', 'Finance & Investments', 'Food & Beverage', 'Automotive', 'Fashion & Retail', 'Diversified', 'Fashion & Retail', 'Fashion & Retail', 'Logistics', 'Logistics', 'Technology', 'Manufacturing', 'Real Estate', 'Finance & Investments', 'Finance & Investments', 'Finance & Investments', 'Automotive', 'Metals & Mining', 'Technology', 'Metals & Mining', 'Technology', 'Energy', 'Finance & Investments', 'Metals & Mining', 'Automotive', 'Technology', 'Finance & Investments', 'Metals & Mining', 'Technology', 'Manufacturing', 'Metals & Mining', 'Manufacturing', 'Manufacturing', 'Healthcare', 'Telecom', 'Metals & Mining', 'Food & Beverage', 'Finance & Investments', 'Energy', 'Fashion & Retail', 'Service', 'Technology', 'Fashion & Retail', 'Manufacturing', 'Metals & Mining', 'Energy', 'Healthcare', 'Metals & Mining', 'Finance & Investments', 'Automotive', 'Metals & Mining', 'Diversified', 'Food & Beverage', 'Automotive', 'Energy', 'Finance & Investments', 'Energy', 'Finance & Investments', 'Metals & Mining', 'Finance & Investments', 'Finance & Investments', 'Metals & Mining', 'Real Estate', 'Fashion & Retail', 'Media & Entertainment', 'Finance & Investments', 'Fashion & Retail', 'Finance & Investments', 'Healthcare', 'Fashion & Retail', 'Technology', 'Finance & Investments', 'Food & Beverage', 'Fashion & Retail', 'Fashion & Retail', 'Food & Beverage', 'Real Estate', 'Healthcare', 'Technology', 'Fashion & Retail', 'Automotive', 'Diversified', 'Fashion & Retail', 'Food & Beverage', 'Food & Beverage', 'Healthcare', 'Automotive', 'Metals & Mining', 'Manufacturing', 'Diversified', 'Manufacturing', 'Real Estate', 'Diversified', 'Healthcare', 'Gambling & Casinos', 'Logistics', 'Construction & Engineering', 'Technology', 'Sports', 'Energy', 'Real Estate', 'Automotive', 'Real Estate', 'Finance & Investments', 'Sports', 'Energy', 'Energy', 'Metals & Mining', 'Healthcare', 'Automotive', 'Technology', 'Diversified', 'Real Estate', 'Technology', 'Healthcare', 'Healthcare', 'Food & Beverage', 'Fashion & Retail', 'Finance & Investments', 'Manufacturing', 'Manufacturing', 'Finance & Investments', 'Fashion & Retail', 'Fashion & Retail', 'Finance & Investments', 'Technology', 'Finance & Investments', 'Fashion & Retail', 'Fashion & Retail', 'Media & Entertainment', 'Sports', 'Food & Beverage', 'Finance & Investments', 'Fashion & Retail', 'Finance & Investments', 'Finance & Investments', 'Technology', 'Healthcare', 'Technology', 'Energy', 'Manufacturing', 'Technology', 'Automotive', 'Fashion & Retail', 'Technology', 'Diversified', 'Real Estate', 'Energy', 'Service', 'Diversified', 'Fashion & Retail', 'Logistics', 'Logistics', 'Logistics', 'Finance & Investments', 'Manufacturing', 'Finance & Investments', 'Technology', 'Manufacturing', 'Healthcare', 'Technology', 'Energy', 'Manufacturing', 'Food & Beverage', 'Food & Beverage', 'Food & Beverage']\n"
     ]
    }
   ],
   "source": [
    "print(industry)"
   ]
  },
  {
   "cell_type": "code",
   "execution_count": 13,
   "id": "2ba58aad",
   "metadata": {},
   "outputs": [
    {
     "name": "stdout",
     "output_type": "stream",
     "text": [
      "200 200 200 200 200 200 200\n"
     ]
    }
   ],
   "source": [
    "print(len(rank),len(name),len(net_worth),len(age), len(source), len(industry),len(country))"
   ]
  },
  {
   "cell_type": "code",
   "execution_count": 24,
   "id": "8dc20a69",
   "metadata": {},
   "outputs": [],
   "source": [
    "Billionare_list=pd.DataFrame({\"Rank\":rank, \"Name\":name, \"Net Worth\":net_worth, \"Age\": age, \"COUNTRY / TERRITORY\":country, \"Source\":source, \"Industry\":industry})"
   ]
  },
  {
   "cell_type": "code",
   "execution_count": 25,
   "id": "5693c3e6",
   "metadata": {},
   "outputs": [
    {
     "data": {
      "text/html": [
       "<div>\n",
       "<style scoped>\n",
       "    .dataframe tbody tr th:only-of-type {\n",
       "        vertical-align: middle;\n",
       "    }\n",
       "\n",
       "    .dataframe tbody tr th {\n",
       "        vertical-align: top;\n",
       "    }\n",
       "\n",
       "    .dataframe thead th {\n",
       "        text-align: right;\n",
       "    }\n",
       "</style>\n",
       "<table border=\"1\" class=\"dataframe\">\n",
       "  <thead>\n",
       "    <tr style=\"text-align: right;\">\n",
       "      <th></th>\n",
       "      <th>Rank</th>\n",
       "      <th>Name</th>\n",
       "      <th>Net Worth</th>\n",
       "      <th>Age</th>\n",
       "      <th>COUNTRY / TERRITORY</th>\n",
       "      <th>Source</th>\n",
       "      <th>Industry</th>\n",
       "    </tr>\n",
       "  </thead>\n",
       "  <tbody>\n",
       "    <tr>\n",
       "      <th>0</th>\n",
       "      <td>1</td>\n",
       "      <td>Bernard Arnault &amp; family</td>\n",
       "      <td>$211 B</td>\n",
       "      <td>74</td>\n",
       "      <td>France</td>\n",
       "      <td>LVMH</td>\n",
       "      <td>Fashion &amp; Retail</td>\n",
       "    </tr>\n",
       "    <tr>\n",
       "      <th>1</th>\n",
       "      <td>2</td>\n",
       "      <td>Elon Musk</td>\n",
       "      <td>$180 B</td>\n",
       "      <td>51</td>\n",
       "      <td>United States</td>\n",
       "      <td>Tesla, SpaceX</td>\n",
       "      <td>Automotive</td>\n",
       "    </tr>\n",
       "    <tr>\n",
       "      <th>2</th>\n",
       "      <td>3</td>\n",
       "      <td>Jeff Bezos</td>\n",
       "      <td>$114 B</td>\n",
       "      <td>59</td>\n",
       "      <td>United States</td>\n",
       "      <td>Amazon</td>\n",
       "      <td>Technology</td>\n",
       "    </tr>\n",
       "    <tr>\n",
       "      <th>3</th>\n",
       "      <td>4</td>\n",
       "      <td>Larry Ellison</td>\n",
       "      <td>$107 B</td>\n",
       "      <td>78</td>\n",
       "      <td>United States</td>\n",
       "      <td>Oracle</td>\n",
       "      <td>Technology</td>\n",
       "    </tr>\n",
       "    <tr>\n",
       "      <th>4</th>\n",
       "      <td>5</td>\n",
       "      <td>Warren Buffett</td>\n",
       "      <td>$106 B</td>\n",
       "      <td>92</td>\n",
       "      <td>United States</td>\n",
       "      <td>Berkshire Hathaway</td>\n",
       "      <td>Finance &amp; Investments</td>\n",
       "    </tr>\n",
       "    <tr>\n",
       "      <th>...</th>\n",
       "      <td>...</td>\n",
       "      <td>...</td>\n",
       "      <td>...</td>\n",
       "      <td>...</td>\n",
       "      <td>...</td>\n",
       "      <td>...</td>\n",
       "      <td>...</td>\n",
       "    </tr>\n",
       "    <tr>\n",
       "      <th>195</th>\n",
       "      <td>195</td>\n",
       "      <td>Jin Baofang</td>\n",
       "      <td>$9.6 B</td>\n",
       "      <td>70</td>\n",
       "      <td>China</td>\n",
       "      <td>Solar panels</td>\n",
       "      <td>Energy</td>\n",
       "    </tr>\n",
       "    <tr>\n",
       "      <th>196</th>\n",
       "      <td>195</td>\n",
       "      <td>Luo Liguo &amp; family</td>\n",
       "      <td>$9.6 B</td>\n",
       "      <td>67</td>\n",
       "      <td>China</td>\n",
       "      <td>Chemicals</td>\n",
       "      <td>Manufacturing</td>\n",
       "    </tr>\n",
       "    <tr>\n",
       "      <th>197</th>\n",
       "      <td>195</td>\n",
       "      <td>Marijke Mars</td>\n",
       "      <td>$9.6 B</td>\n",
       "      <td>58</td>\n",
       "      <td>United States</td>\n",
       "      <td>Candy, pet food</td>\n",
       "      <td>Food &amp; Beverage</td>\n",
       "    </tr>\n",
       "    <tr>\n",
       "      <th>198</th>\n",
       "      <td>195</td>\n",
       "      <td>Pamela Mars</td>\n",
       "      <td>$9.6 B</td>\n",
       "      <td>62</td>\n",
       "      <td>United States</td>\n",
       "      <td>Candy, pet food</td>\n",
       "      <td>Food &amp; Beverage</td>\n",
       "    </tr>\n",
       "    <tr>\n",
       "      <th>199</th>\n",
       "      <td>195</td>\n",
       "      <td>Valerie Mars</td>\n",
       "      <td>$9.6 B</td>\n",
       "      <td>64</td>\n",
       "      <td>United States</td>\n",
       "      <td>Candy, pet food</td>\n",
       "      <td>Food &amp; Beverage</td>\n",
       "    </tr>\n",
       "  </tbody>\n",
       "</table>\n",
       "<p>200 rows × 7 columns</p>\n",
       "</div>"
      ],
      "text/plain": [
       "    Rank                      Name Net Worth Age COUNTRY / TERRITORY  \\\n",
       "0      1  Bernard Arnault & family    $211 B  74              France   \n",
       "1      2                 Elon Musk    $180 B  51       United States   \n",
       "2      3                Jeff Bezos    $114 B  59       United States   \n",
       "3      4             Larry Ellison    $107 B  78       United States   \n",
       "4      5            Warren Buffett    $106 B  92       United States   \n",
       "..   ...                       ...       ...  ..                 ...   \n",
       "195  195               Jin Baofang    $9.6 B  70               China   \n",
       "196  195        Luo Liguo & family    $9.6 B  67               China   \n",
       "197  195              Marijke Mars    $9.6 B  58       United States   \n",
       "198  195               Pamela Mars    $9.6 B  62       United States   \n",
       "199  195              Valerie Mars    $9.6 B  64       United States   \n",
       "\n",
       "                 Source               Industry  \n",
       "0                  LVMH       Fashion & Retail  \n",
       "1         Tesla, SpaceX             Automotive  \n",
       "2                Amazon             Technology  \n",
       "3                Oracle             Technology  \n",
       "4    Berkshire Hathaway  Finance & Investments  \n",
       "..                  ...                    ...  \n",
       "195        Solar panels                 Energy  \n",
       "196           Chemicals          Manufacturing  \n",
       "197     Candy, pet food        Food & Beverage  \n",
       "198     Candy, pet food        Food & Beverage  \n",
       "199     Candy, pet food        Food & Beverage  \n",
       "\n",
       "[200 rows x 7 columns]"
      ]
     },
     "execution_count": 25,
     "metadata": {},
     "output_type": "execute_result"
    }
   ],
   "source": [
    "Billionare_list"
   ]
  },
  {
   "cell_type": "code",
   "execution_count": 26,
   "id": "8fe85aff",
   "metadata": {},
   "outputs": [],
   "source": [
    "Billionare_list.to_csv(r'C:\\Users\\jkart\\Documents\\DATA TRAINED\\flip robo internship\\Billionare_list.csv')"
   ]
  },
  {
   "cell_type": "code",
   "execution_count": 29,
   "id": "4286a1b0",
   "metadata": {},
   "outputs": [],
   "source": [
    "#question 8"
   ]
  },
  {
   "cell_type": "code",
   "execution_count": 5,
   "id": "54af138b",
   "metadata": {},
   "outputs": [],
   "source": [
    "# to get web browser\n",
    "driver=webdriver.Chrome() \n",
    "time.sleep(2)\n",
    "# to get url\n",
    "url = \"https://www.youtube.com/\"\n",
    "driver.get(url)\n",
    "time.sleep(2)"
   ]
  },
  {
   "cell_type": "code",
   "execution_count": 6,
   "id": "cd507e7a",
   "metadata": {},
   "outputs": [
    {
     "name": "stdout",
     "output_type": "stream",
     "text": [
      "Enter the video you want to search : gadar 2\n"
     ]
    }
   ],
   "source": [
    "# input the keywords that user wants to search\n",
    "user_input = input('Enter the video you want to search : ')\n",
    "\n",
    "#finding element for search bar\n",
    "search_bar = driver.find_element(By.XPATH,'//input[@id=\"search\"]')\n",
    "search_bar.send_keys(user_input)\n",
    "time.sleep(1)"
   ]
  },
  {
   "cell_type": "code",
   "execution_count": 7,
   "id": "939f0bdb",
   "metadata": {},
   "outputs": [],
   "source": [
    "#clicking on search button\n",
    "search_btn = driver.find_element(By.ID,\"search-icon-legacy\")  \n",
    "search_btn.click()\n",
    "time.sleep(1)"
   ]
  },
  {
   "cell_type": "code",
   "execution_count": 8,
   "id": "35088981",
   "metadata": {},
   "outputs": [],
   "source": [
    "#clicking on first video\n",
    "link_click = driver.find_element(By.XPATH,\"//yt-formatted-string[@class ='style-scope ytd-video-renderer']\")\n",
    "link_click.click()"
   ]
  },
  {
   "cell_type": "code",
   "execution_count": 9,
   "id": "eea62836",
   "metadata": {},
   "outputs": [],
   "source": [
    "# 10000 time we scroll down to generate more Comments\n",
    "for _ in range(10000):\n",
    "    driver.execute_script(\"window.scrollBy(0,10000)\")"
   ]
  },
  {
   "cell_type": "code",
   "execution_count": 3,
   "id": "195d63b7",
   "metadata": {},
   "outputs": [],
   "source": [
    "# empty lists\n",
    "comments = []\n",
    "comment_time = []\n",
    "upvote=[]"
   ]
  },
  {
   "cell_type": "code",
   "execution_count": 18,
   "id": "f78ebd98",
   "metadata": {},
   "outputs": [],
   "source": [
    "# to scrape comments\n",
    "cm_tags = driver.find_elements(By.ID,\"content-text\")\n",
    "for cm in cm_tags:\n",
    "    if cm.text is None:\n",
    "        comments.append(\"--\")\n",
    "    else:\n",
    "        comments.append(cm.text)\n",
    "time.sleep(5)"
   ]
  },
  {
   "cell_type": "code",
   "execution_count": 19,
   "id": "08e67fc3",
   "metadata": {},
   "outputs": [],
   "source": [
    "# to scrape comments\n",
    "ct_tags = driver.find_elements(By.XPATH,\"//a[contains(text(),'ago')]\")\n",
    "for ct in ct_tags:\n",
    "    if ct.text is None:\n",
    "        comment_time.append(\"--\")\n",
    "    else:\n",
    "        comment_time.append(ct.text)\n",
    "time.sleep(5)"
   ]
  },
  {
   "cell_type": "code",
   "execution_count": 20,
   "id": "9aba7346",
   "metadata": {},
   "outputs": [],
   "source": [
    "# to scrape comments\n",
    "upvote_tags = driver.find_elements(By.XPATH,'//span[@id=\"vote-count-middle\"]')\n",
    "for vt in upvote_tags:\n",
    "    if vt.text is None:\n",
    "        upvote.append(\"--\")\n",
    "    else:\n",
    "        upvote.append(vt.text)\n",
    "time.sleep(5)"
   ]
  },
  {
   "cell_type": "code",
   "execution_count": 21,
   "id": "c4f41176",
   "metadata": {},
   "outputs": [
    {
     "name": "stdout",
     "output_type": "stream",
     "text": [
      "708 720 720\n"
     ]
    }
   ],
   "source": [
    "print(len(comments), len(comment_time), len(upvote))"
   ]
  },
  {
   "cell_type": "code",
   "execution_count": 22,
   "id": "291211aa",
   "metadata": {},
   "outputs": [],
   "source": [
    "#Creating dataframe\n",
    "Youtube=pd.DataFrame({})\n",
    "Youtube['Comments'] = comments[:500]\n",
    "Youtube['Comment_time'] = comment_time[:500]\n",
    "Youtube['upvote'] = upvote[:500]"
   ]
  },
  {
   "cell_type": "code",
   "execution_count": 23,
   "id": "51c14dc4",
   "metadata": {},
   "outputs": [
    {
     "data": {
      "text/html": [
       "<div>\n",
       "<style scoped>\n",
       "    .dataframe tbody tr th:only-of-type {\n",
       "        vertical-align: middle;\n",
       "    }\n",
       "\n",
       "    .dataframe tbody tr th {\n",
       "        vertical-align: top;\n",
       "    }\n",
       "\n",
       "    .dataframe thead th {\n",
       "        text-align: right;\n",
       "    }\n",
       "</style>\n",
       "<table border=\"1\" class=\"dataframe\">\n",
       "  <thead>\n",
       "    <tr style=\"text-align: right;\">\n",
       "      <th></th>\n",
       "      <th>Comments</th>\n",
       "      <th>Comment_time</th>\n",
       "      <th>upvote</th>\n",
       "    </tr>\n",
       "  </thead>\n",
       "  <tbody>\n",
       "    <tr>\n",
       "      <th>0</th>\n",
       "      <td>Click Here to Subscribe Channel : https://bit....</td>\n",
       "      <td>3 weeks ago</td>\n",
       "      <td>550</td>\n",
       "    </tr>\n",
       "    <tr>\n",
       "      <th>1</th>\n",
       "      <td>Tara Singh ke liye aapka yeh pyaar, humare liy...</td>\n",
       "      <td>1 month ago</td>\n",
       "      <td>6.3K</td>\n",
       "    </tr>\n",
       "    <tr>\n",
       "      <th>2</th>\n",
       "      <td>Only 80,s kids can understand the feeling of s...</td>\n",
       "      <td>3 weeks ago</td>\n",
       "      <td>191</td>\n",
       "    </tr>\n",
       "    <tr>\n",
       "      <th>3</th>\n",
       "      <td>I am happy to see Amisha Patel because in boll...</td>\n",
       "      <td>2 weeks ago</td>\n",
       "      <td>104</td>\n",
       "    </tr>\n",
       "    <tr>\n",
       "      <th>4</th>\n",
       "      <td>Only 90's kids can understand the feeling of s...</td>\n",
       "      <td>3 weeks ago</td>\n",
       "      <td>676</td>\n",
       "    </tr>\n",
       "    <tr>\n",
       "      <th>...</th>\n",
       "      <td>...</td>\n",
       "      <td>...</td>\n",
       "      <td>...</td>\n",
       "    </tr>\n",
       "    <tr>\n",
       "      <th>495</th>\n",
       "      <td>Just watched it Yesterday \\nThis is a Masterpi...</td>\n",
       "      <td>2 weeks ago (edited)</td>\n",
       "      <td>20</td>\n",
       "    </tr>\n",
       "    <tr>\n",
       "      <th>496</th>\n",
       "      <td>What a fantastic movie watched 2nd time on the...</td>\n",
       "      <td>9 days ago</td>\n",
       "      <td>7</td>\n",
       "    </tr>\n",
       "    <tr>\n",
       "      <th>497</th>\n",
       "      <td>The Handpump scene.....legit goosebumps if you...</td>\n",
       "      <td>1 month ago</td>\n",
       "      <td>8.1K</td>\n",
       "    </tr>\n",
       "    <tr>\n",
       "      <th>498</th>\n",
       "      <td>May Amrish Puri's soul rest in peace.  Best ac...</td>\n",
       "      <td>3 weeks ago</td>\n",
       "      <td>100</td>\n",
       "    </tr>\n",
       "    <tr>\n",
       "      <th>499</th>\n",
       "      <td>100 percent this movie is going to be blockbus...</td>\n",
       "      <td>4 weeks ago</td>\n",
       "      <td>60</td>\n",
       "    </tr>\n",
       "  </tbody>\n",
       "</table>\n",
       "<p>500 rows × 3 columns</p>\n",
       "</div>"
      ],
      "text/plain": [
       "                                              Comments          Comment_time  \\\n",
       "0    Click Here to Subscribe Channel : https://bit....           3 weeks ago   \n",
       "1    Tara Singh ke liye aapka yeh pyaar, humare liy...           1 month ago   \n",
       "2    Only 80,s kids can understand the feeling of s...           3 weeks ago   \n",
       "3    I am happy to see Amisha Patel because in boll...           2 weeks ago   \n",
       "4    Only 90's kids can understand the feeling of s...           3 weeks ago   \n",
       "..                                                 ...                   ...   \n",
       "495  Just watched it Yesterday \\nThis is a Masterpi...  2 weeks ago (edited)   \n",
       "496  What a fantastic movie watched 2nd time on the...            9 days ago   \n",
       "497  The Handpump scene.....legit goosebumps if you...           1 month ago   \n",
       "498  May Amrish Puri's soul rest in peace.  Best ac...           3 weeks ago   \n",
       "499  100 percent this movie is going to be blockbus...           4 weeks ago   \n",
       "\n",
       "    upvote  \n",
       "0      550  \n",
       "1     6.3K  \n",
       "2      191  \n",
       "3      104  \n",
       "4      676  \n",
       "..     ...  \n",
       "495     20  \n",
       "496      7  \n",
       "497   8.1K  \n",
       "498    100  \n",
       "499     60  \n",
       "\n",
       "[500 rows x 3 columns]"
      ]
     },
     "execution_count": 23,
     "metadata": {},
     "output_type": "execute_result"
    }
   ],
   "source": [
    "Youtube"
   ]
  },
  {
   "cell_type": "code",
   "execution_count": 24,
   "id": "bf4962d2",
   "metadata": {},
   "outputs": [],
   "source": [
    "#question 9"
   ]
  },
  {
   "cell_type": "code",
   "execution_count": 25,
   "id": "98a7b1c7",
   "metadata": {},
   "outputs": [],
   "source": [
    "driver=webdriver.Chrome()"
   ]
  },
  {
   "cell_type": "code",
   "execution_count": 26,
   "id": "bc3b3697",
   "metadata": {},
   "outputs": [],
   "source": [
    "#get url\n",
    "driver.get('https://www.hostelworld.com/')"
   ]
  },
  {
   "cell_type": "code",
   "execution_count": 27,
   "id": "4a0f0ce6",
   "metadata": {},
   "outputs": [],
   "source": [
    "#sending input \n",
    "input=driver.find_element(By.XPATH, '/html/body/div[3]/div/div/div[2]/div[2]/div[2]/div/div/div/div[1]/div/div/div[2]/input')\n",
    "input.send_keys('London')"
   ]
  },
  {
   "cell_type": "code",
   "execution_count": 28,
   "id": "4782af98",
   "metadata": {},
   "outputs": [],
   "source": [
    "#clicking on london\n",
    "select=driver.find_element(By.XPATH, '/html/body/div[3]/div/div/div[2]/div[2]/div[2]/div/div/div/div[1]/div[2]/div/ul/li[2]/button')\n",
    "select.click()"
   ]
  },
  {
   "cell_type": "code",
   "execution_count": 29,
   "id": "eda65715",
   "metadata": {},
   "outputs": [],
   "source": [
    "#clicking on search button\n",
    "search_btn=driver.find_element(By.XPATH, '/html/body/div[3]/div/div/div[2]/div[2]/div[2]/div/div/div/div[5]/button[1]')\n",
    "search_btn.click()\n",
    "time.sleep(5)"
   ]
  },
  {
   "cell_type": "code",
   "execution_count": 30,
   "id": "b1295e25",
   "metadata": {},
   "outputs": [],
   "source": [
    "#empty lists\n",
    "hostel_name = []\n",
    "distance = []\n",
    "rating = []\n",
    "reviews = []\n",
    "facilities = []\n",
    "description =[]\n",
    "product_url = []"
   ]
  },
  {
   "cell_type": "code",
   "execution_count": 31,
   "id": "9a1a0bd9",
   "metadata": {},
   "outputs": [
    {
     "data": {
      "text/plain": [
       "[\"Wombat's City Hostel London\",\n",
       " \"St Christopher's Village\",\n",
       " 'Onefam Notting Hill',\n",
       " 'NX London Hostel',\n",
       " 'Urbany Hostel London',\n",
       " 'Generator London',\n",
       " 'Safestay London Elephant & Castle',\n",
       " 'Clink261',\n",
       " 'Phoenix Hostel',\n",
       " 'Safestay London Kensington Holland Park',\n",
       " 'No.8 Willesden Hostel London',\n",
       " 'Destinations Hostels @ The Gallery',\n",
       " 'Queen Elizabeth Chelsea',\n",
       " 'No.8 Seven Sisters',\n",
       " 'London Backpackers',\n",
       " 'Kabannas London St Pancras',\n",
       " 'Hostelle - women only hostel London',\n",
       " \"St Christopher's Hammersmith\",\n",
       " \"St Christopher's Camden\",\n",
       " 'Prime Backpackers Angel',\n",
       " 'Bell House Hostel',\n",
       " 'Saint James Backpackers',\n",
       " \"St Christopher's Greenwich\",\n",
       " 'PubLove @ The Steam Engine, Waterloo',\n",
       " 'PubLove @ The Crown, Battersea',\n",
       " 'The Backpackshack',\n",
       " 'Book a Bed Hostels',\n",
       " 'Park Villa',\n",
       " 'Hootananny Hostel',\n",
       " 'YHA London Earls Court']"
      ]
     },
     "execution_count": 31,
     "metadata": {},
     "output_type": "execute_result"
    }
   ],
   "source": [
    "#scraping hostel_name\n",
    "hostel_name=[i.text for i in driver.find_elements(By.XPATH, '//div[@class=\"property-name\"]')][2:]\n",
    "hostel_name"
   ]
  },
  {
   "cell_type": "code",
   "execution_count": 32,
   "id": "dfcee16f",
   "metadata": {},
   "outputs": [
    {
     "data": {
      "text/plain": [
       "['3.6km',\n",
       " '1.8km',\n",
       " '5.5km',\n",
       " '6.1km',\n",
       " '5.4km',\n",
       " '3km',\n",
       " '1.7km',\n",
       " '3.2km',\n",
       " '4.2km',\n",
       " '5.8km',\n",
       " '10km',\n",
       " '1.7km',\n",
       " '5.7km',\n",
       " '9km',\n",
       " '11.9km',\n",
       " '3.3km',\n",
       " '5.1km',\n",
       " '7.5km',\n",
       " '4.3km',\n",
       " '3.6km',\n",
       " '4.2km',\n",
       " '5.5km',\n",
       " '7.6km',\n",
       " '0.5km',\n",
       " '4.7km',\n",
       " '10.9km',\n",
       " '6.9km',\n",
       " '6.3km',\n",
       " '5km',\n",
       " '5.1km']"
      ]
     },
     "execution_count": 32,
     "metadata": {},
     "output_type": "execute_result"
    }
   ],
   "source": [
    "#scraping distance\n",
    "distance=[i.text.strip('- ').split(' from')[0] for i in driver.find_elements(By.XPATH, '//span[@class=\"distance-description\"]')]\n",
    "distance"
   ]
  },
  {
   "cell_type": "code",
   "execution_count": 33,
   "id": "6456fca3",
   "metadata": {},
   "outputs": [
    {
     "data": {
      "text/plain": [
       "['9.0',\n",
       " '8.2',\n",
       " '9.7',\n",
       " '7.7',\n",
       " '9.5',\n",
       " '7.7',\n",
       " '7.1',\n",
       " '8.1',\n",
       " '7.5',\n",
       " '7.0',\n",
       " '6.7',\n",
       " '9.2',\n",
       " '7.5',\n",
       " '5.2',\n",
       " '7.9',\n",
       " '8.4',\n",
       " '8.8',\n",
       " '7.5',\n",
       " '7.5',\n",
       " '7.9',\n",
       " '7.8',\n",
       " '7.6',\n",
       " '7.8',\n",
       " '7.8',\n",
       " '7.9',\n",
       " '8.4',\n",
       " '7.4',\n",
       " '8.5',\n",
       " '8.3',\n",
       " '9.2']"
      ]
     },
     "execution_count": 33,
     "metadata": {},
     "output_type": "execute_result"
    }
   ],
   "source": [
    "#scraping rating\n",
    "rating=[i.text for i in driver.find_elements(By.XPATH, '//span[@class=\"number\"]')][2:]\n",
    "rating"
   ]
  },
  {
   "cell_type": "code",
   "execution_count": 34,
   "id": "4f39d02b",
   "metadata": {},
   "outputs": [
    {
     "data": {
      "text/plain": [
       "['15293',\n",
       " '12392',\n",
       " '2246',\n",
       " '1937',\n",
       " '902',\n",
       " '7726',\n",
       " '5099',\n",
       " '396',\n",
       " '4396',\n",
       " '1641',\n",
       " '5081',\n",
       " '225',\n",
       " '3551',\n",
       " '4056',\n",
       " '4516',\n",
       " '2893',\n",
       " '31',\n",
       " '4298',\n",
       " '4087',\n",
       " '791',\n",
       " '93',\n",
       " '1918',\n",
       " '3382',\n",
       " '421',\n",
       " '309',\n",
       " '773',\n",
       " '1275',\n",
       " '912',\n",
       " '1518',\n",
       " '1466']"
      ]
     },
     "execution_count": 34,
     "metadata": {},
     "output_type": "execute_result"
    }
   ],
   "source": [
    "#scraping total review\n",
    "total_reviews=[i.text.strip('(').strip(\")\") for i in driver.find_elements(By.XPATH, '//span[@class=\"left-margin\"]')]\n",
    "total_reviews"
   ]
  },
  {
   "cell_type": "code",
   "execution_count": 35,
   "id": "f20c12b8",
   "metadata": {},
   "outputs": [
    {
     "data": {
      "text/plain": [
       "[\"https://www.hostelworld.com/pwa/hosteldetails.php/Wombat's%20City%20Hostel%20London/London/88047?from=2023-09-10&to=2023-09-13&guests=2\",\n",
       " \"https://www.hostelworld.com/pwa/hosteldetails.php/St%20Christopher's%20Village/London/502?from=2023-09-10&to=2023-09-13&guests=2\",\n",
       " 'https://www.hostelworld.com/pwa/hosteldetails.php/Onefam%20Notting%20Hill/London/291433?from=2023-09-10&to=2023-09-13&guests=2',\n",
       " 'https://www.hostelworld.com/pwa/hosteldetails.php/NX%20London%20Hostel/London/15204?from=2023-09-10&to=2023-09-13&guests=2',\n",
       " 'https://www.hostelworld.com/pwa/hosteldetails.php/Urbany%20Hostel%20London/London/303427?from=2023-09-10&to=2023-09-13&guests=2',\n",
       " 'https://www.hostelworld.com/pwa/hosteldetails.php/Generator%20London/London/510?from=2023-09-10&to=2023-09-13&guests=2',\n",
       " 'https://www.hostelworld.com/pwa/hosteldetails.php/Safestay%20London%20Elephant%20&%20Castle/London/55551?from=2023-09-10&to=2023-09-13&guests=2',\n",
       " 'https://www.hostelworld.com/pwa/hosteldetails.php/Clink261/London/516?from=2023-09-10&to=2023-09-13&guests=2',\n",
       " 'https://www.hostelworld.com/pwa/hosteldetails.php/Phoenix%20Hostel/London/48221?from=2023-09-10&to=2023-09-13&guests=2',\n",
       " 'https://www.hostelworld.com/pwa/hosteldetails.php/Safestay%20London%20Kensington%20Holland%20Park/London/93920?from=2023-09-10&to=2023-09-13&guests=2',\n",
       " 'https://www.hostelworld.com/pwa/hosteldetails.php/No.8%20Willesden%20Hostel%20London/London/18420?from=2023-09-10&to=2023-09-13&guests=2',\n",
       " 'https://www.hostelworld.com/pwa/hosteldetails.php/Destinations%20Hostels%20@%20The%20Gallery/London/314563?from=2023-09-10&to=2023-09-13&guests=2',\n",
       " 'https://www.hostelworld.com/pwa/hosteldetails.php/Queen%20Elizabeth%20Chelsea/London/50443?from=2023-09-10&to=2023-09-13&guests=2',\n",
       " 'https://www.hostelworld.com/pwa/hosteldetails.php/No.8%20Seven%20Sisters/London/91108?from=2023-09-10&to=2023-09-13&guests=2',\n",
       " 'https://www.hostelworld.com/pwa/hosteldetails.php/London%20Backpackers/London/527?from=2023-09-10&to=2023-09-13&guests=2',\n",
       " 'https://www.hostelworld.com/pwa/hosteldetails.php/Kabannas%20London%20St%20Pancras/London/7010?from=2023-09-10&to=2023-09-13&guests=2',\n",
       " 'https://www.hostelworld.com/pwa/hosteldetails.php/Hostelle%20-%20women%20only%20hostel%20London/London/316723?from=2023-09-10&to=2023-09-13&guests=2',\n",
       " \"https://www.hostelworld.com/pwa/hosteldetails.php/St%20Christopher's%20Hammersmith/London/20976?from=2023-09-10&to=2023-09-13&guests=2\",\n",
       " \"https://www.hostelworld.com/pwa/hosteldetails.php/St%20Christopher's%20Camden/London/505?from=2023-09-10&to=2023-09-13&guests=2\",\n",
       " 'https://www.hostelworld.com/pwa/hosteldetails.php/Prime%20Backpackers%20Angel/London/93902?from=2023-09-10&to=2023-09-13&guests=2',\n",
       " 'https://www.hostelworld.com/pwa/hosteldetails.php/Bell%20House%20Hostel/London/315821?from=2023-09-10&to=2023-09-13&guests=2',\n",
       " 'https://www.hostelworld.com/pwa/hosteldetails.php/Saint%20James%20Backpackers/London/70909?from=2023-09-10&to=2023-09-13&guests=2',\n",
       " \"https://www.hostelworld.com/pwa/hosteldetails.php/St%20Christopher's%20Greenwich/London/501?from=2023-09-10&to=2023-09-13&guests=2\",\n",
       " 'https://www.hostelworld.com/pwa/hosteldetails.php/PubLove%20@%20The%20Steam%20Engine,%20Waterloo/London/29389?from=2023-09-10&to=2023-09-13&guests=2',\n",
       " 'https://www.hostelworld.com/pwa/hosteldetails.php/PubLove%20@%20The%20Crown,%20Battersea/London/60336?from=2023-09-10&to=2023-09-13&guests=2',\n",
       " 'https://www.hostelworld.com/pwa/hosteldetails.php/The%20Backpackshack/London/63112?from=2023-09-10&to=2023-09-13&guests=2',\n",
       " 'https://www.hostelworld.com/pwa/hosteldetails.php/Book%20a%20Bed%20Hostels/London/14746?from=2023-09-10&to=2023-09-13&guests=2',\n",
       " 'https://www.hostelworld.com/pwa/hosteldetails.php/Park%20Villa/London/98066?from=2023-09-10&to=2023-09-13&guests=2',\n",
       " 'https://www.hostelworld.com/pwa/hosteldetails.php/Hootananny%20Hostel/London/24068?from=2023-09-10&to=2023-09-13&guests=2',\n",
       " 'https://www.hostelworld.com/pwa/hosteldetails.php/YHA%20London%20Earls%20Court/London/6981?from=2023-09-10&to=2023-09-13&guests=2']"
      ]
     },
     "execution_count": 35,
     "metadata": {},
     "output_type": "execute_result"
    }
   ],
   "source": [
    "#scraping urls\n",
    "url=[i.get_attribute('href') for i in driver.find_elements(By.XPATH, '//a[@rel=\"noreferrer noopener\"]')][2:]\n",
    "url"
   ]
  },
  {
   "cell_type": "code",
   "execution_count": 37,
   "id": "b18cbb30",
   "metadata": {},
   "outputs": [],
   "source": [
    "#scraping property des\n",
    "property_des=[]\n",
    "for i in url:\n",
    "    driver.get(i)\n",
    "    propert =[i.text for i in driver.find_elements(By.XPATH, '//div[@class=\"content collapse-content\"]')][:1]\n",
    "    property_des.append(propert)"
   ]
  },
  {
   "cell_type": "code",
   "execution_count": 38,
   "id": "05d4cf43",
   "metadata": {},
   "outputs": [
    {
     "name": "stdout",
     "output_type": "stream",
     "text": [
      "['Linen Included Free City Maps Free WiFi Free Internet Access Free City Tour', 'Wheelchair Friendly Security Lockers Key Card Access Common Room Elevator Bicycle Parking BBQ Breakfast Not Included Meeting Rooms Adaptors Book Exchange Hot Showers Self-Catering Facilities Dishwasher Cooker Fridge/Freezer Utensils Dryer Outdoor Terrace Reading Light Hair Dryers For Hire Iron / Ironing Board Safe Deposit Box Microwave Washing Machine Follows Covid-19 sanitation guidance', 'Internet access Laundry Facilities Towels for hire Luggage Storage Fax Service 24 Hour Reception ATM Housekeeping Internet café Late check-out', 'Bar Meals Available Vending Machines Cafe Tea & Coffee Making Facilities', 'Board Games Pool Table Foosball Wi-Fi']\n",
      "\n",
      "\n",
      "['Linen Included Free WiFi Free Internet Access', 'Security Lockers Common Room Elevator Breakfast Not Included Air Conditioning Adaptors Book Exchange Hot Showers Dryer Reading Light Hair Dryers For Hire Hair Dryers Iron / Ironing Board Microwave Washing Machine Towels Not Included Follows Covid-19 sanitation guidance', 'Internet access Laundry Facilities Towels for hire Luggage Storage 24 Hour Reception 24 Hour Security Housekeeping Late check-out', 'Restaurant Bar Meals Available Vending Machines Tea & Coffee Making Facilities', 'Nightclub Board Games Games Room Wi-Fi']\n",
      "\n",
      "\n",
      "['Linen Included Free WiFi Free Internet Access', 'Breakfast Not Included Hot Showers Self-Catering Facilities Flexible NRR', 'Luggage Storage', 'Tea & Coffee Making Facilities']\n",
      "\n",
      "\n",
      "['Free Breakfast Linen Included Towels Included Free WiFi', 'Security Lockers Common Room Hot Showers Self-Catering Facilities Fridge/Freezer Utensils Hair Dryers For Hire Hair Dryers Microwave Washing Machine', 'Internet access Laundry Facilities Towels for hire Housekeeping Express check-in / out Reception (limited hours)', 'Meals Available Tea & Coffee Making Facilities', 'Wi-Fi']\n",
      "\n",
      "\n",
      "['Linen Included Free WiFi', 'Security Lockers Microwave Follows Covid-19 sanitation guidance', 'Luggage Storage 24 Hour Reception', 'Tea & Coffee Making Facilities', 'Wi-Fi']\n",
      "\n",
      "\n",
      "['Linen Included Free City Maps Free WiFi Free Internet Access', 'Wheelchair Friendly Security Lockers Key Card Access Common Room Elevator Bicycle Parking Breakfast Not Included Meeting Rooms Hot Showers Reading Light Safe Deposit Box Card Phones Towels Not Included', 'Internet access Laundry Facilities Airport Transfers Bicycle Hire Towels for hire Luggage Storage 24 Hour Reception Tours/Travel Desk ATM Shuttle Bus 24 Hour Security Housekeeping Express check-in / out Late check-out', 'Restaurant Bar Meals Available Vending Machines Cafe', 'Nightclub Board Games Games Room Pool Table Foosball Wi-Fi']\n",
      "\n",
      "\n",
      "['Linen Included Free WiFi', 'Security Lockers Key Card Access Common Room Adaptors Hot Showers Cots Available Dryer Outdoor Terrace Reading Light Hair Dryers For Hire Iron / Ironing Board Washing Machine Towels Not Included Follows Covid-19 sanitation guidance', 'Internet access Laundry Facilities Towels for hire Luggage Storage 24 Hour Reception ATM 24 Hour Security Housekeeping Late check-out', 'Restaurant Bar Vending Machines Cafe', 'Pool Table Wi-Fi']\n",
      "\n",
      "\n",
      "['Linen Included Free City Maps Free WiFi', 'Key Card Access Common Room Elevator Adaptors Book Exchange Hot Showers Self-Catering Facilities Fridge/Freezer Utensils Dryer Reading Light Hair Dryers For Hire Hair Dryers Safe Deposit Box Microwave Washing Machine Flexible NRR Follows Covid-19 sanitation guidance', 'Internet access Laundry Facilities Towels for hire Luggage Storage Fax Service 24 Hour Reception Tours/Travel Desk Postal Service Housekeeping', 'Board Games Wi-Fi']\n",
      "\n",
      "\n",
      "['Linen Included Free City Maps Free WiFi Free Internet Access', 'Security Lockers Key Card Access Common Room Breakfast Not Included Adaptors Hot Showers Fridge/Freezer Utensils Hair Dryers Microwave Towels Not Included Follows Covid-19 sanitation guidance', 'Internet access Luggage Storage 24 Hour Reception Housekeeping Reception (limited hours)', 'Bar', \"DVD's Board Games Wi-Fi\"]\n",
      "\n",
      "\n",
      "['Linen Included Free WiFi', 'Security Lockers Key Card Access Common Room Breakfast Not Included Adaptors Hot Showers Dryer Outdoor Terrace Reading Light Hair Dryers For Hire Hair Dryers Iron / Ironing Board Safe Deposit Box Card Phones Washing Machine Towels Not Included', 'Laundry Facilities Towels for hire Luggage Storage 24 Hour Reception ATM 24 Hour Security Housekeeping', 'Bar Meals Available Vending Machines Cafe', 'Games Room Pool Table Wi-Fi']\n",
      "\n",
      "\n",
      "['Linen Included Free WiFi', 'Security Lockers Key Card Access Common Room Breakfast Not Included Adaptors Hot Showers Self-Catering Facilities Cooker Fridge/Freezer Utensils Cable TV Outdoor Terrace Iron / Ironing Board Microwave Towels Not Included Follows Covid-19 sanitation guidance', 'Luggage Storage 24 Hour Security Housekeeping Reception (limited hours)', 'Bar Tea & Coffee Making Facilities', 'Games Room Pool Table Wi-Fi']\n",
      "\n",
      "\n",
      "['Free Breakfast Linen Included Free City Maps Free WiFi Free Internet Access', 'Security Lockers Common Room Air Conditioning Hot Showers Fridge/Freezer Utensils Dryer Cable TV Reading Light Hair Dryers Iron / Ironing Board Safe Deposit Box Microwave Washing Machine Rooms 4 Refugees', 'Internet access Laundry Facilities Towels for hire Luggage Storage 24 Hour Security Housekeeping Late check-out Reception (limited hours)', 'Restaurant Bar Meals Available Vending Machines Mini-Supermarket Tea & Coffee Making Facilities', \"PlayStation DVD's Board Games Games Room Wi-Fi\"]\n",
      "\n",
      "\n",
      "['Linen Included Free City Maps Free WiFi Free Internet Access', 'Security Lockers Common Room Breakfast Not Included Adaptors Book Exchange Hot Showers Hair Dryers For Hire Hair Dryers Flexible NRR', 'Internet access Luggage Storage 24 Hour Reception Tours/Travel Desk 24 Hour Security Housekeeping', 'Bar', 'Board Games']\n",
      "\n",
      "\n",
      "['Linen Included Free WiFi', 'Security Lockers Key Card Access Common Room Bicycle Parking Breakfast Not Included Adaptors Hot Showers Self-Catering Facilities Cooker Fridge/Freezer Utensils Cable TV Outdoor Terrace Iron / Ironing Board Microwave Towels Not Included Follows Covid-19 sanitation guidance', 'Luggage Storage 24 Hour Security Housekeeping Reception (limited hours)', 'Bar Tea & Coffee Making Facilities', 'Games Room Pool Table Wi-Fi']\n",
      "\n",
      "\n",
      "['Linen Included Free City Maps Free WiFi Free Internet Access', 'Security Lockers Key Card Access Common Room Breakfast Not Included Adaptors Book Exchange Hot Showers Self-Catering Facilities Cooker Fridge/Freezer Utensils Dryer Cable TV Reading Light Hair Dryers For Hire Hair Dryers Iron / Ironing Board Safe Deposit Box Microwave Washing Machine Towels Not Included Flexible NRR Follows Covid-19 sanitation guidance', 'Internet access Laundry Facilities Towels for hire Luggage Storage Tours/Travel Desk Postal Service 24 Hour Security Housekeeping Reception (limited hours)', 'Tea & Coffee Making Facilities', 'Board Games Games Room Pool Table Wi-Fi']\n",
      "\n",
      "\n",
      "['Linen Included Free City Maps Free WiFi', 'Wheelchair Friendly Security Lockers Key Card Access Elevator Breakfast Not Included Adaptors Book Exchange Hot Showers Reading Light Hair Dryers Washing Machine Towels Not Included Follows Covid-19 sanitation guidance', 'Internet access Towels for hire Luggage Storage 24 Hour Reception Tours/Travel Desk 24 Hour Security', 'Bar Meals Available Cafe']\n",
      "\n",
      "\n",
      "['Linen Included Free City Maps Free WiFi Free Internet Access', 'Common Room Hot Showers Fridge/Freezer Cable TV Outdoor Terrace Hair Dryers Iron / Ironing Board Microwave Follows Covid-19 sanitation guidance', 'Laundry Facilities Towels for hire Luggage Storage 24 Hour Reception Housekeeping', 'Tea & Coffee Making Facilities', \"DVD's Board Games Wi-Fi\"]\n",
      "\n",
      "\n",
      "['Linen Included Free City Maps Free WiFi Free Internet Access', 'Security Lockers Key Card Access Hot Showers Reading Light Hair Dryers For Hire Hair Dryers Microwave Towels Not Included Follows Covid-19 sanitation guidance', 'Internet access Towels for hire Luggage Storage 24 Hour Reception Housekeeping Late check-out', 'Restaurant Bar Vending Machines', 'Nightclub Wi-Fi']\n",
      "\n",
      "\n",
      "['Linen Included Free City Maps Free WiFi Free Internet Access', 'Security Lockers Key Card Access Common Room Breakfast Not Included Adaptors Book Exchange Dryer Cable TV Hair Dryers For Hire Washing Machine Follows Covid-19 sanitation guidance', 'Internet access Laundry Facilities Towels for hire Luggage Storage 24 Hour Reception 24 Hour Security Housekeeping', 'Restaurant Bar Meals Available Cafe', \"Nightclub DVD's Board Games Wi-Fi\"]\n",
      "\n",
      "\n"
     ]
    },
    {
     "name": "stdout",
     "output_type": "stream",
     "text": [
      "['Linen Included Free City Maps Towels Included Free WiFi Free Internet Access Free City Tour', 'Security Lockers Key Card Access Common Room BBQ Breakfast Not Included Adaptors Book Exchange Hot Showers Self-Catering Facilities Cooker Fridge/Freezer Utensils Dryer Cable TV Outdoor Terrace Reading Light Hair Dryers For Hire Hair Dryers Iron / Ironing Board Microwave Washing Machine Follows Covid-19 sanitation guidance', 'Internet access Laundry Facilities Towels for hire Luggage Storage 24 Hour Security Reception (limited hours)', 'Tea & Coffee Making Facilities', 'Board Games Wi-Fi']\n",
      "\n",
      "\n",
      "['Linen Included Free WiFi', 'Security Lockers', 'Bicycle Hire Towels for hire 24 Hour Reception Housekeeping', 'Bar', 'Wi-Fi']\n",
      "\n",
      "\n",
      "['Free Breakfast Linen Included Free City Maps Free WiFi Free Internet Access', 'Common Room BBQ Adaptors Hot Showers Self-Catering Facilities Cooker Fridge/Freezer Cable TV Outdoor Terrace Jobs Board Hair Dryers For Hire Hair Dryers Microwave Towels Not Included Follows Covid-19 sanitation guidance', 'Internet access Towels for hire Luggage Storage 24 Hour Reception 24 Hour Security Housekeeping Reception (limited hours)', 'Meals Available Vending Machines Cafe Tea & Coffee Making Facilities', \"PlayStation DVD's Board Games Wi-Fi\"]\n",
      "\n",
      "\n",
      "['Linen Included Free City Maps Free WiFi Free Internet Access', 'Security Lockers Key Card Access Common Room Breakfast Not Included Adaptors Hot Showers Dryer Outdoor Terrace Reading Light Hair Dryers Microwave Washing Machine Towels Not Included Follows Covid-19 sanitation guidance', 'Internet access Laundry Facilities Towels for hire Luggage Storage Housekeeping Reception (limited hours)', 'Restaurant Bar Meals Available Vending Machines', \"Nightclub DVD's Board Games Wi-Fi\"]\n",
      "\n",
      "\n",
      "['Linen Included Free City Maps Free WiFi', 'Security Lockers Key Card Access Adaptors Hot Showers Outdoor Terrace Hair Dryers Ceiling fan Iron / Ironing Board Towels Not Included Flexible NRR', 'Internet access Towels for hire Luggage Storage 24 Hour Reception Tours/Travel Desk 24 Hour Security Housekeeping Late check-out', 'Restaurant Bar Meals Available Cafe', 'Board Games Wi-Fi']\n",
      "\n",
      "\n",
      "['Linen Included Free City Maps Free WiFi', 'Security Lockers Adaptors Hot Showers Utensils Outdoor Terrace Iron / Ironing Board Towels Not Included Flexible NRR', 'Luggage Storage 24 Hour Reception 24 Hour Security Housekeeping Late check-out', 'Restaurant Bar Meals Available Cafe', 'Board Games Wi-Fi']\n",
      "\n",
      "\n",
      "['Linen Included Free Parking Towels Included Free WiFi Free Internet Access', 'Breakfast Not Included Adaptors Hot Showers Self-Catering Facilities Parking Hair Dryers', 'Internet access Luggage Storage Postal Service 24 Hour Security', 'Bar Tea & Coffee Making Facilities', 'Games Room Pool Table']\n",
      "\n",
      "\n",
      "['Linen Included Free City Maps Free WiFi Free Internet Access', 'Wheelchair Friendly Security Lockers Key Card Access Common Room Bicycle Parking Breakfast Not Included Adaptors Hot Showers Fridge/Freezer Dryer Cable TV Reading Light Hair Dryers For Hire Hair Dryers Iron / Ironing Board Safe Deposit Box Card Phones Washing Machine', 'Internet access Laundry Facilities Towels for hire Luggage Storage Fax Service 24 Hour Security Housekeeping', 'Restaurant Bar Meals Available Vending Machines Tea & Coffee Making Facilities', 'Wii Board Games Games Room Foosball Wi-Fi']\n",
      "\n",
      "\n",
      "['Linen Included Free WiFi Free Internet Access', 'Security Lockers Key Card Access Common Room Bicycle Parking BBQ Breakfast Not Included Adaptors Book Exchange Hot Showers Linen Not Included Self-Catering Facilities Dishwasher Cooker Fridge/Freezer Utensils Dryer Cable TV Reading Light Parking Hair Dryers Iron / Ironing Board Safe Deposit Box Microwave Washing Machine Towels Not Included Follows Covid-19 sanitation guidance', 'Internet access Laundry Facilities Towels for hire Luggage Storage Housekeeping Reception (limited hours)', 'Tea & Coffee Making Facilities', 'Board Games Games Room Wi-Fi']\n",
      "\n",
      "\n",
      "['Free Breakfast Linen Included Free City Maps Free WiFi Free Internet Access', 'Security Lockers Common Room Bicycle Parking Adaptors Hot Showers Self-Catering Facilities Cable TV Outdoor Terrace', 'Towels for hire Luggage Storage ATM Housekeeping', 'Restaurant Bar Tea & Coffee Making Facilities', \"DVD's Pool Table\"]\n",
      "\n",
      "\n",
      "['Linen Included Free WiFi', 'Security Lockers Key Card Access Common Room Breakfast Not Included Book Exchange Self-Catering Facilities Cable TV Reading Light Hair Dryers For Hire Washing Machine Follows Covid-19 sanitation guidance', 'Internet access Towels for hire Luggage Storage 24 Hour Reception 24 Hour Security', 'Cafe', 'Board Games']\n",
      "\n",
      "\n"
     ]
    }
   ],
   "source": [
    "#scraping all facilities\n",
    "for i in url:\n",
    "    driver.get(i)\n",
    "    all_facilities=[i.text for i in driver.find_elements(By.XPATH, '//ul[@class=\"facilities\"]')]\n",
    "    print(all_facilities)\n",
    "    print('\\n')"
   ]
  },
  {
   "cell_type": "code",
   "execution_count": 39,
   "id": "b3b100d9",
   "metadata": {},
   "outputs": [
    {
     "name": "stdout",
     "output_type": "stream",
     "text": [
      "30 30 30 30 30\n"
     ]
    }
   ],
   "source": [
    "print(len(hostel_name), len(rating), len(total_reviews), len(property_des), len(distance))"
   ]
  },
  {
   "cell_type": "code",
   "execution_count": 40,
   "id": "687f2191",
   "metadata": {},
   "outputs": [
    {
     "data": {
      "text/html": [
       "<div>\n",
       "<style scoped>\n",
       "    .dataframe tbody tr th:only-of-type {\n",
       "        vertical-align: middle;\n",
       "    }\n",
       "\n",
       "    .dataframe tbody tr th {\n",
       "        vertical-align: top;\n",
       "    }\n",
       "\n",
       "    .dataframe thead th {\n",
       "        text-align: right;\n",
       "    }\n",
       "</style>\n",
       "<table border=\"1\" class=\"dataframe\">\n",
       "  <thead>\n",
       "    <tr style=\"text-align: right;\">\n",
       "      <th></th>\n",
       "      <th>Hostel Name</th>\n",
       "      <th>Distance from City Centre</th>\n",
       "      <th>rating</th>\n",
       "      <th>Total Reviews</th>\n",
       "      <th>Property Description</th>\n",
       "    </tr>\n",
       "  </thead>\n",
       "  <tbody>\n",
       "    <tr>\n",
       "      <th>0</th>\n",
       "      <td>Wombat's City Hostel London</td>\n",
       "      <td>3.6km</td>\n",
       "      <td>9.0</td>\n",
       "      <td>15293</td>\n",
       "      <td>[A safe haven in the middle of the metropolis:...</td>\n",
       "    </tr>\n",
       "    <tr>\n",
       "      <th>1</th>\n",
       "      <td>St Christopher's Village</td>\n",
       "      <td>1.8km</td>\n",
       "      <td>8.2</td>\n",
       "      <td>12392</td>\n",
       "      <td>[St Christopher's Inn at The Village in London...</td>\n",
       "    </tr>\n",
       "    <tr>\n",
       "      <th>2</th>\n",
       "      <td>Onefam Notting Hill</td>\n",
       "      <td>5.5km</td>\n",
       "      <td>9.7</td>\n",
       "      <td>2246</td>\n",
       "      <td>[The perfect place for solo travelers to conne...</td>\n",
       "    </tr>\n",
       "    <tr>\n",
       "      <th>3</th>\n",
       "      <td>NX London Hostel</td>\n",
       "      <td>6.1km</td>\n",
       "      <td>7.7</td>\n",
       "      <td>1937</td>\n",
       "      <td>[Welcome to NX London Hostel!\\n\\nPLEASE READ I...</td>\n",
       "    </tr>\n",
       "    <tr>\n",
       "      <th>4</th>\n",
       "      <td>Urbany Hostel London</td>\n",
       "      <td>5.4km</td>\n",
       "      <td>9.5</td>\n",
       "      <td>902</td>\n",
       "      <td>[Welcome to Urbany Hostel London, our first in...</td>\n",
       "    </tr>\n",
       "    <tr>\n",
       "      <th>5</th>\n",
       "      <td>Generator London</td>\n",
       "      <td>3km</td>\n",
       "      <td>7.7</td>\n",
       "      <td>7726</td>\n",
       "      <td>[Generator London is a design hotel-hostel loc...</td>\n",
       "    </tr>\n",
       "    <tr>\n",
       "      <th>6</th>\n",
       "      <td>Safestay London Elephant &amp; Castle</td>\n",
       "      <td>1.7km</td>\n",
       "      <td>7.1</td>\n",
       "      <td>5099</td>\n",
       "      <td>[Safestay at Elephant &amp; Castle is ideal if you...</td>\n",
       "    </tr>\n",
       "    <tr>\n",
       "      <th>7</th>\n",
       "      <td>Clink261</td>\n",
       "      <td>3.2km</td>\n",
       "      <td>8.1</td>\n",
       "      <td>396</td>\n",
       "      <td>[Welcome to Clink261!\\n\\nClink261 is a comfort...</td>\n",
       "    </tr>\n",
       "    <tr>\n",
       "      <th>8</th>\n",
       "      <td>Phoenix Hostel</td>\n",
       "      <td>4.2km</td>\n",
       "      <td>7.5</td>\n",
       "      <td>4396</td>\n",
       "      <td>[The Phoenix Bar &amp; Hostel, housed in a homely ...</td>\n",
       "    </tr>\n",
       "    <tr>\n",
       "      <th>9</th>\n",
       "      <td>Safestay London Kensington Holland Park</td>\n",
       "      <td>5.8km</td>\n",
       "      <td>7.0</td>\n",
       "      <td>1641</td>\n",
       "      <td>[Safestay Holland Park\\n\\nSafestay Holland Par...</td>\n",
       "    </tr>\n",
       "    <tr>\n",
       "      <th>10</th>\n",
       "      <td>No.8 Willesden Hostel London</td>\n",
       "      <td>10km</td>\n",
       "      <td>6.7</td>\n",
       "      <td>5081</td>\n",
       "      <td>[At No.8 we take pride in our Customer Service...</td>\n",
       "    </tr>\n",
       "    <tr>\n",
       "      <th>11</th>\n",
       "      <td>Destinations Hostels @ The Gallery</td>\n",
       "      <td>1.7km</td>\n",
       "      <td>9.2</td>\n",
       "      <td>225</td>\n",
       "      <td>[We are back, we previously operated near Lond...</td>\n",
       "    </tr>\n",
       "    <tr>\n",
       "      <th>12</th>\n",
       "      <td>Queen Elizabeth Chelsea</td>\n",
       "      <td>5.7km</td>\n",
       "      <td>7.5</td>\n",
       "      <td>3551</td>\n",
       "      <td>[PLEASE NOTE WE ONLY ACCEPT GUESTS FROM THE AG...</td>\n",
       "    </tr>\n",
       "    <tr>\n",
       "      <th>13</th>\n",
       "      <td>No.8 Seven Sisters</td>\n",
       "      <td>9km</td>\n",
       "      <td>5.2</td>\n",
       "      <td>4056</td>\n",
       "      <td>[For Great Facilities, Comfort &amp; Affordability...</td>\n",
       "    </tr>\n",
       "    <tr>\n",
       "      <th>14</th>\n",
       "      <td>London Backpackers</td>\n",
       "      <td>11.9km</td>\n",
       "      <td>7.9</td>\n",
       "      <td>4516</td>\n",
       "      <td>[IMPORTANT NOTICE: \\n\\nThis hostel is for 18 -...</td>\n",
       "    </tr>\n",
       "    <tr>\n",
       "      <th>15</th>\n",
       "      <td>Kabannas London St Pancras</td>\n",
       "      <td>3.3km</td>\n",
       "      <td>8.4</td>\n",
       "      <td>2893</td>\n",
       "      <td>[Located opposite Kings Cross/St Pancras Inter...</td>\n",
       "    </tr>\n",
       "    <tr>\n",
       "      <th>16</th>\n",
       "      <td>Hostelle - women only hostel London</td>\n",
       "      <td>5.1km</td>\n",
       "      <td>8.8</td>\n",
       "      <td>31</td>\n",
       "      <td>[Hostelle is the first and only all-women host...</td>\n",
       "    </tr>\n",
       "    <tr>\n",
       "      <th>17</th>\n",
       "      <td>St Christopher's Hammersmith</td>\n",
       "      <td>7.5km</td>\n",
       "      <td>7.5</td>\n",
       "      <td>4298</td>\n",
       "      <td>[I thanks all the staff for st christpher's ho...</td>\n",
       "    </tr>\n",
       "    <tr>\n",
       "      <th>18</th>\n",
       "      <td>St Christopher's Camden</td>\n",
       "      <td>4.3km</td>\n",
       "      <td>7.5</td>\n",
       "      <td>4087</td>\n",
       "      <td>[Find our Camden hostel in London's north, sma...</td>\n",
       "    </tr>\n",
       "    <tr>\n",
       "      <th>19</th>\n",
       "      <td>Prime Backpackers Angel</td>\n",
       "      <td>3.6km</td>\n",
       "      <td>7.9</td>\n",
       "      <td>791</td>\n",
       "      <td>[The hostel is housed in a historic building i...</td>\n",
       "    </tr>\n",
       "    <tr>\n",
       "      <th>20</th>\n",
       "      <td>Bell House Hostel</td>\n",
       "      <td>4.2km</td>\n",
       "      <td>7.8</td>\n",
       "      <td>93</td>\n",
       "      <td>[Boasting a bar and a shared lounge, Bell Hous...</td>\n",
       "    </tr>\n",
       "    <tr>\n",
       "      <th>21</th>\n",
       "      <td>Saint James Backpackers</td>\n",
       "      <td>5.5km</td>\n",
       "      <td>7.6</td>\n",
       "      <td>1918</td>\n",
       "      <td>[We are located in central London - just 5 min...</td>\n",
       "    </tr>\n",
       "    <tr>\n",
       "      <th>22</th>\n",
       "      <td>St Christopher's Greenwich</td>\n",
       "      <td>7.6km</td>\n",
       "      <td>7.8</td>\n",
       "      <td>3382</td>\n",
       "      <td>[Discover South London's rich history in the c...</td>\n",
       "    </tr>\n",
       "    <tr>\n",
       "      <th>23</th>\n",
       "      <td>PubLove @ The Steam Engine, Waterloo</td>\n",
       "      <td>0.5km</td>\n",
       "      <td>7.8</td>\n",
       "      <td>421</td>\n",
       "      <td>[The heart &amp; soul of London backpacking\\nPull ...</td>\n",
       "    </tr>\n",
       "    <tr>\n",
       "      <th>24</th>\n",
       "      <td>PubLove @ The Crown, Battersea</td>\n",
       "      <td>4.7km</td>\n",
       "      <td>7.9</td>\n",
       "      <td>309</td>\n",
       "      <td>[Do London like a local.\\nStay just outside th...</td>\n",
       "    </tr>\n",
       "    <tr>\n",
       "      <th>25</th>\n",
       "      <td>The Backpackshack</td>\n",
       "      <td>10.9km</td>\n",
       "      <td>8.4</td>\n",
       "      <td>773</td>\n",
       "      <td>[Our hostel is located inside a traditional En...</td>\n",
       "    </tr>\n",
       "    <tr>\n",
       "      <th>26</th>\n",
       "      <td>Book a Bed Hostels</td>\n",
       "      <td>6.9km</td>\n",
       "      <td>7.4</td>\n",
       "      <td>1275</td>\n",
       "      <td>[Welcome to Venture Hostel.Venture Hostel is a...</td>\n",
       "    </tr>\n",
       "    <tr>\n",
       "      <th>27</th>\n",
       "      <td>Park Villa</td>\n",
       "      <td>6.3km</td>\n",
       "      <td>8.5</td>\n",
       "      <td>912</td>\n",
       "      <td>[Park Villa is a new boutique hostel in the he...</td>\n",
       "    </tr>\n",
       "    <tr>\n",
       "      <th>28</th>\n",
       "      <td>Hootananny Hostel</td>\n",
       "      <td>5km</td>\n",
       "      <td>8.3</td>\n",
       "      <td>1518</td>\n",
       "      <td>[Hootananny is a lively hostel with spacious r...</td>\n",
       "    </tr>\n",
       "    <tr>\n",
       "      <th>29</th>\n",
       "      <td>YHA London Earls Court</td>\n",
       "      <td>5.1km</td>\n",
       "      <td>9.2</td>\n",
       "      <td>1466</td>\n",
       "      <td>[Temporary changes at YHA London Earl's Court\\...</td>\n",
       "    </tr>\n",
       "  </tbody>\n",
       "</table>\n",
       "</div>"
      ],
      "text/plain": [
       "                                Hostel Name Distance from City Centre rating  \\\n",
       "0               Wombat's City Hostel London                     3.6km    9.0   \n",
       "1                  St Christopher's Village                     1.8km    8.2   \n",
       "2                       Onefam Notting Hill                     5.5km    9.7   \n",
       "3                          NX London Hostel                     6.1km    7.7   \n",
       "4                      Urbany Hostel London                     5.4km    9.5   \n",
       "5                          Generator London                       3km    7.7   \n",
       "6         Safestay London Elephant & Castle                     1.7km    7.1   \n",
       "7                                  Clink261                     3.2km    8.1   \n",
       "8                            Phoenix Hostel                     4.2km    7.5   \n",
       "9   Safestay London Kensington Holland Park                     5.8km    7.0   \n",
       "10             No.8 Willesden Hostel London                      10km    6.7   \n",
       "11       Destinations Hostels @ The Gallery                     1.7km    9.2   \n",
       "12                  Queen Elizabeth Chelsea                     5.7km    7.5   \n",
       "13                       No.8 Seven Sisters                       9km    5.2   \n",
       "14                       London Backpackers                    11.9km    7.9   \n",
       "15               Kabannas London St Pancras                     3.3km    8.4   \n",
       "16      Hostelle - women only hostel London                     5.1km    8.8   \n",
       "17             St Christopher's Hammersmith                     7.5km    7.5   \n",
       "18                  St Christopher's Camden                     4.3km    7.5   \n",
       "19                  Prime Backpackers Angel                     3.6km    7.9   \n",
       "20                        Bell House Hostel                     4.2km    7.8   \n",
       "21                  Saint James Backpackers                     5.5km    7.6   \n",
       "22               St Christopher's Greenwich                     7.6km    7.8   \n",
       "23     PubLove @ The Steam Engine, Waterloo                     0.5km    7.8   \n",
       "24           PubLove @ The Crown, Battersea                     4.7km    7.9   \n",
       "25                        The Backpackshack                    10.9km    8.4   \n",
       "26                       Book a Bed Hostels                     6.9km    7.4   \n",
       "27                               Park Villa                     6.3km    8.5   \n",
       "28                        Hootananny Hostel                       5km    8.3   \n",
       "29                   YHA London Earls Court                     5.1km    9.2   \n",
       "\n",
       "   Total Reviews                               Property Description  \n",
       "0          15293  [A safe haven in the middle of the metropolis:...  \n",
       "1          12392  [St Christopher's Inn at The Village in London...  \n",
       "2           2246  [The perfect place for solo travelers to conne...  \n",
       "3           1937  [Welcome to NX London Hostel!\\n\\nPLEASE READ I...  \n",
       "4            902  [Welcome to Urbany Hostel London, our first in...  \n",
       "5           7726  [Generator London is a design hotel-hostel loc...  \n",
       "6           5099  [Safestay at Elephant & Castle is ideal if you...  \n",
       "7            396  [Welcome to Clink261!\\n\\nClink261 is a comfort...  \n",
       "8           4396  [The Phoenix Bar & Hostel, housed in a homely ...  \n",
       "9           1641  [Safestay Holland Park\\n\\nSafestay Holland Par...  \n",
       "10          5081  [At No.8 we take pride in our Customer Service...  \n",
       "11           225  [We are back, we previously operated near Lond...  \n",
       "12          3551  [PLEASE NOTE WE ONLY ACCEPT GUESTS FROM THE AG...  \n",
       "13          4056  [For Great Facilities, Comfort & Affordability...  \n",
       "14          4516  [IMPORTANT NOTICE: \\n\\nThis hostel is for 18 -...  \n",
       "15          2893  [Located opposite Kings Cross/St Pancras Inter...  \n",
       "16            31  [Hostelle is the first and only all-women host...  \n",
       "17          4298  [I thanks all the staff for st christpher's ho...  \n",
       "18          4087  [Find our Camden hostel in London's north, sma...  \n",
       "19           791  [The hostel is housed in a historic building i...  \n",
       "20            93  [Boasting a bar and a shared lounge, Bell Hous...  \n",
       "21          1918  [We are located in central London - just 5 min...  \n",
       "22          3382  [Discover South London's rich history in the c...  \n",
       "23           421  [The heart & soul of London backpacking\\nPull ...  \n",
       "24           309  [Do London like a local.\\nStay just outside th...  \n",
       "25           773  [Our hostel is located inside a traditional En...  \n",
       "26          1275  [Welcome to Venture Hostel.Venture Hostel is a...  \n",
       "27           912  [Park Villa is a new boutique hostel in the he...  \n",
       "28          1518  [Hootananny is a lively hostel with spacious r...  \n",
       "29          1466  [Temporary changes at YHA London Earl's Court\\...  "
      ]
     },
     "execution_count": 40,
     "metadata": {},
     "output_type": "execute_result"
    }
   ],
   "source": [
    "#creating dataframe\n",
    "Hostel_details=pd.DataFrame({\"Hostel Name\":hostel_name, \"Distance from City Centre\":distance, \"rating\":rating ,\"Total Reviews\": total_reviews, \"Property Description\":property_des})\n",
    "Hostel_details"
   ]
  },
  {
   "cell_type": "code",
   "execution_count": null,
   "id": "cba315c5",
   "metadata": {},
   "outputs": [],
   "source": []
  }
 ],
 "metadata": {
  "kernelspec": {
   "display_name": "Python 3 (ipykernel)",
   "language": "python",
   "name": "python3"
  },
  "language_info": {
   "codemirror_mode": {
    "name": "ipython",
    "version": 3
   },
   "file_extension": ".py",
   "mimetype": "text/x-python",
   "name": "python",
   "nbconvert_exporter": "python",
   "pygments_lexer": "ipython3",
   "version": "3.9.13"
  }
 },
 "nbformat": 4,
 "nbformat_minor": 5
}
