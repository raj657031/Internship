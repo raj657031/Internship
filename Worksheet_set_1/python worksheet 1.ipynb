{
 "cells": [
  {
   "cell_type": "code",
   "execution_count": null,
   "id": "8713f091",
   "metadata": {},
   "outputs": [],
   "source": [
    "#question 11\n",
    "num = int(input())\n",
    "if num < 0:\n",
    "    print ('Factorial does not exist')\n",
    "elif num == 0:\n",
    "    print(1)\n",
    "else:\n",
    "    data = 1\n",
    "    for i in range (1, num + 1):\n",
    "        data = data * i\n",
    "    print(data)"
   ]
  },
  {
   "cell_type": "code",
   "execution_count": null,
   "id": "df6e0439",
   "metadata": {},
   "outputs": [],
   "source": [
    "#question 12\n",
    "num= int(input(\"Enter the number:\"))\n",
    "\n",
    "if num==0|1:\n",
    "    print(num, 'is neither prime nor composite')\n",
    "elif num>1:\n",
    "    for i in range(2, num):\n",
    "        if (num%i)==0:\n",
    "            print(num, 'is a prime number')\n",
    "        else:\n",
    "            print(num, 'is a composite number')"
   ]
  },
  {
   "cell_type": "code",
   "execution_count": null,
   "id": "0e15004b",
   "metadata": {},
   "outputs": [],
   "source": [
    "#question 13\n",
    "def palindrome(str):\n",
    "    if (str==str[::-1]):\n",
    "        print(str, 'is a palindrome string')\n",
    "    else:\n",
    "        print(str, 'is not palindrome')\n",
    "        \n",
    "palindrome(\"raj\")\n",
    "    "
   ]
  },
  {
   "cell_type": "code",
   "execution_count": null,
   "id": "31623a48",
   "metadata": {},
   "outputs": [],
   "source": [
    "#question 14\n",
    "data1= int(input('Enter data1: '))\n",
    "data2= int(input('Enter data2: '))\n",
    "\n",
    "data3=((data1)**2+(data2)**2)**(1/2)\n",
    "print ('Hypotenuse is', data3)"
   ]
  },
  {
   "cell_type": "code",
   "execution_count": null,
   "id": "5da97287",
   "metadata": {},
   "outputs": [],
   "source": [
    "#question 15\n",
    "string=input(\"Enter the string: \")\n",
    "char=input(\"Please enter the char to find frequency of ta character\\n\")\n",
    "count=0\n",
    "i=0\n",
    "while(i<len(string)):\n",
    "    if(string[i]==char):\n",
    "        count=count+1\n",
    "    i=i+1\n",
    "print(\"The frequency of the \",char,\"in the string is: \",count)"
   ]
  }
 ],
 "metadata": {
  "kernelspec": {
   "display_name": "Python 3 (ipykernel)",
   "language": "python",
   "name": "python3"
  },
  "language_info": {
   "codemirror_mode": {
    "name": "ipython",
    "version": 3
   },
   "file_extension": ".py",
   "mimetype": "text/x-python",
   "name": "python",
   "nbconvert_exporter": "python",
   "pygments_lexer": "ipython3",
   "version": "3.9.13"
  }
 },
 "nbformat": 4,
 "nbformat_minor": 5
}
