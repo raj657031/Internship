{
 "cells": [
  {
   "cell_type": "code",
   "execution_count": null,
   "id": "54265d8c",
   "metadata": {},
   "outputs": [],
   "source": [
    "                                          web scraping assignment-4 "
   ]
  },
  {
   "cell_type": "code",
   "execution_count": 72,
   "id": "47677b08",
   "metadata": {},
   "outputs": [],
   "source": [
    "# Importing Libraries\n",
    "import selenium\n",
    "import pandas as pd\n",
    "import time\n",
    "from bs4 import BeautifulSoup\n",
    "\n",
    "# Importing selenium webdriver \n",
    "from selenium import webdriver\n",
    "import warnings\n",
    "warnings.filterwarnings('ignore')\n",
    "\n",
    "# Importing required Exceptions which needs to handled\n",
    "from selenium.common.exceptions import StaleElementReferenceException, NoSuchElementException\n",
    "from selenium.webdriver.common.by import By\n",
    "#Importing requests\n",
    "import requests\n",
    "\n",
    "# importing regex\n",
    "import re\n"
   ]
  },
  {
   "cell_type": "code",
   "execution_count": null,
   "id": "76f797b0",
   "metadata": {},
   "outputs": [],
   "source": [
    "#question 1"
   ]
  },
  {
   "cell_type": "code",
   "execution_count": 2,
   "id": "ebb78ef9",
   "metadata": {},
   "outputs": [],
   "source": [
    "# Connecting to the webdriver\n",
    "driver=webdriver.Chrome()"
   ]
  },
  {
   "cell_type": "code",
   "execution_count": 3,
   "id": "44fa2da3",
   "metadata": {},
   "outputs": [],
   "source": [
    "# Getting the webpage of mentioned url \n",
    "url = \"https://en.wikipedia.org/wiki/List_of_most-viewed_YouTube_videos\"\n",
    "driver.get(url)"
   ]
  },
  {
   "cell_type": "code",
   "execution_count": 74,
   "id": "3cea922b",
   "metadata": {},
   "outputs": [],
   "source": [
    "rank=[i.text for i in driver.find_elements(By.XPATH,'//table[@class=\"wikitable sortable jquery-tablesorter\"]/tbody/tr/td[1]')][:30]"
   ]
  },
  {
   "cell_type": "code",
   "execution_count": 67,
   "id": "baf9bbdc",
   "metadata": {},
   "outputs": [
    {
     "data": {
      "text/plain": [
       "29"
      ]
     },
     "execution_count": 67,
     "metadata": {},
     "output_type": "execute_result"
    }
   ],
   "source": [
    "len(rank\n",
    ")"
   ]
  },
  {
   "cell_type": "code",
   "execution_count": 75,
   "id": "1b57251b",
   "metadata": {},
   "outputs": [],
   "source": [
    "name=[i.text for i in driver.find_elements(By.XPATH,'//table[@class=\"wikitable sortable jquery-tablesorter\"]/tbody/tr/td[2]')][:30]"
   ]
  },
  {
   "cell_type": "code",
   "execution_count": 58,
   "id": "e8888feb",
   "metadata": {},
   "outputs": [
    {
     "data": {
      "text/plain": [
       "31"
      ]
     },
     "execution_count": 58,
     "metadata": {},
     "output_type": "execute_result"
    }
   ],
   "source": [
    "len(name)"
   ]
  },
  {
   "cell_type": "code",
   "execution_count": 10,
   "id": "6b9ebc36",
   "metadata": {},
   "outputs": [
    {
     "name": "stdout",
     "output_type": "stream",
     "text": [
      "['\"Despacito\"[9]', '\"Johny Johny Yes Papa\"[16]', '\"Bath Song\"[17]', '\"Shape of You\"[18]', '\"See You Again\"[21]', '\"Wheels on the Bus\"[26]', '\"Phonics Song with Two Words\"[27]', '\"Uptown Funk\"[28]', '\"Learning Colors – Colorful Eggs on a Farm\"[29]', '\"Gangnam Style\"[30]', '\"Masha and the Bear – Recipe for Disaster\"[35]', '\"Dame Tu Cosita\"[36]', '\"Axel F\"[37]', '\"Sugar\"[38]', '\"Counting Stars\"[39]', '\"Roar\"[40]', '\"Baa Baa Black Sheep\"[41]', '\"Waka Waka (This Time for Africa)\"[42]', '\"Sorry\"[43]', '\"Lakdi Ki Kathi\"[44]', '\"Thinking Out Loud\"[45]', '\"Dark Horse\"[46]', '\"Humpty the train on a fruits ride\"[47]', '\"Perfect\"[48]', '\"Faded\"[49]', '\"Let Her Go\"[50]', '\"Girls Like You\"[51]', '\"Lean On\"[52]', '\"Bailando\"[53]', \"Pinkfong Baby Shark - Kids' Songs & Stories\", 'Luis Fonsi', 'Wiz Khalifa', 'Psy', 'Justin Bieber', 'Lady Gaga', 'HDCYT', 'Judson Laipply', 'RCA Records', 'Judson Laipply', 'CLARUSBARTEL72', 'Judson Laipply', 'Smosh', 'eggtea', 'mugenized', 'youtubedude', 'joeB', 'Nikesoccer', 'larfus', 'jawed']\n"
     ]
    }
   ],
   "source": [
    "print(name)"
   ]
  },
  {
   "cell_type": "code",
   "execution_count": 76,
   "id": "575957a1",
   "metadata": {},
   "outputs": [],
   "source": [
    "artist=[i.text for i in driver.find_elements(By.XPATH,'//table[@class=\"wikitable sortable jquery-tablesorter\"]/tbody/tr/td[3]')][:30]"
   ]
  },
  {
   "cell_type": "code",
   "execution_count": 15,
   "id": "5bc4325a",
   "metadata": {},
   "outputs": [
    {
     "data": {
      "text/plain": [
       "49"
      ]
     },
     "execution_count": 15,
     "metadata": {},
     "output_type": "execute_result"
    }
   ],
   "source": [
    "len(artist)"
   ]
  },
  {
   "cell_type": "code",
   "execution_count": 77,
   "id": "62e15d2d",
   "metadata": {},
   "outputs": [],
   "source": [
    "upload_date=[i.text for i in driver.find_elements(By.XPATH,'//table[@class=\"wikitable sortable jquery-tablesorter\"]/tbody/tr/td[5]')][:30]"
   ]
  },
  {
   "cell_type": "code",
   "execution_count": 78,
   "id": "b0544a98",
   "metadata": {},
   "outputs": [],
   "source": [
    "views=[i.text for i in driver.find_elements(By.XPATH,'//table[@class=\"wikitable sortable jquery-tablesorter\"]/tbody/tr/td[4]')][:30]"
   ]
  },
  {
   "cell_type": "code",
   "execution_count": 79,
   "id": "5372659c",
   "metadata": {},
   "outputs": [],
   "source": [
    "youtube=pd.DataFrame({\"rank\":rank,\"name\":name,\"artist\":artist,\"upload\":upload_date,\"views\":views})"
   ]
  },
  {
   "cell_type": "code",
   "execution_count": 80,
   "id": "fabf6fb0",
   "metadata": {},
   "outputs": [
    {
     "data": {
      "text/html": [
       "<div>\n",
       "<style scoped>\n",
       "    .dataframe tbody tr th:only-of-type {\n",
       "        vertical-align: middle;\n",
       "    }\n",
       "\n",
       "    .dataframe tbody tr th {\n",
       "        vertical-align: top;\n",
       "    }\n",
       "\n",
       "    .dataframe thead th {\n",
       "        text-align: right;\n",
       "    }\n",
       "</style>\n",
       "<table border=\"1\" class=\"dataframe\">\n",
       "  <thead>\n",
       "    <tr style=\"text-align: right;\">\n",
       "      <th></th>\n",
       "      <th>rank</th>\n",
       "      <th>name</th>\n",
       "      <th>artist</th>\n",
       "      <th>upload</th>\n",
       "      <th>views</th>\n",
       "    </tr>\n",
       "  </thead>\n",
       "  <tbody>\n",
       "    <tr>\n",
       "      <th>0</th>\n",
       "      <td>1.</td>\n",
       "      <td>\"Baby Shark Dance\"[6]</td>\n",
       "      <td>Pinkfong Baby Shark - Kids' Songs &amp; Stories</td>\n",
       "      <td>June 17, 2016</td>\n",
       "      <td>13.29</td>\n",
       "    </tr>\n",
       "    <tr>\n",
       "      <th>1</th>\n",
       "      <td>2.</td>\n",
       "      <td>\"Despacito\"[9]</td>\n",
       "      <td>Luis Fonsi</td>\n",
       "      <td>January 12, 2017</td>\n",
       "      <td>8.25</td>\n",
       "    </tr>\n",
       "    <tr>\n",
       "      <th>2</th>\n",
       "      <td>3.</td>\n",
       "      <td>\"Johny Johny Yes Papa\"[16]</td>\n",
       "      <td>LooLoo Kids - Nursery Rhymes and Children's Songs</td>\n",
       "      <td>October 8, 2016</td>\n",
       "      <td>6.78</td>\n",
       "    </tr>\n",
       "    <tr>\n",
       "      <th>3</th>\n",
       "      <td>4.</td>\n",
       "      <td>\"Bath Song\"[17]</td>\n",
       "      <td>Cocomelon - Nursery Rhymes</td>\n",
       "      <td>May 2, 2018</td>\n",
       "      <td>6.38</td>\n",
       "    </tr>\n",
       "    <tr>\n",
       "      <th>4</th>\n",
       "      <td>5.</td>\n",
       "      <td>\"Shape of You\"[18]</td>\n",
       "      <td>Ed Sheeran</td>\n",
       "      <td>January 30, 2017</td>\n",
       "      <td>6.07</td>\n",
       "    </tr>\n",
       "    <tr>\n",
       "      <th>5</th>\n",
       "      <td>6.</td>\n",
       "      <td>\"See You Again\"[21]</td>\n",
       "      <td>Wiz Khalifa</td>\n",
       "      <td>April 6, 2015</td>\n",
       "      <td>6.01</td>\n",
       "    </tr>\n",
       "    <tr>\n",
       "      <th>6</th>\n",
       "      <td>7.</td>\n",
       "      <td>\"Wheels on the Bus\"[26]</td>\n",
       "      <td>Cocomelon - Nursery Rhymes</td>\n",
       "      <td>May 24, 2018</td>\n",
       "      <td>5.53</td>\n",
       "    </tr>\n",
       "    <tr>\n",
       "      <th>7</th>\n",
       "      <td>8.</td>\n",
       "      <td>\"Phonics Song with Two Words\"[27]</td>\n",
       "      <td>ChuChu TV Nursery Rhymes &amp; Kids Songs</td>\n",
       "      <td>March 6, 2014</td>\n",
       "      <td>5.47</td>\n",
       "    </tr>\n",
       "    <tr>\n",
       "      <th>8</th>\n",
       "      <td>9.</td>\n",
       "      <td>\"Uptown Funk\"[28]</td>\n",
       "      <td>Mark Ronson</td>\n",
       "      <td>November 19, 2014</td>\n",
       "      <td>5.02</td>\n",
       "    </tr>\n",
       "    <tr>\n",
       "      <th>9</th>\n",
       "      <td>10.</td>\n",
       "      <td>\"Learning Colors – Colorful Eggs on a Farm\"[29]</td>\n",
       "      <td>Miroshka TV</td>\n",
       "      <td>February 27, 2018</td>\n",
       "      <td>4.96</td>\n",
       "    </tr>\n",
       "    <tr>\n",
       "      <th>10</th>\n",
       "      <td>11.</td>\n",
       "      <td>\"Gangnam Style\"[30]</td>\n",
       "      <td>officialpsy</td>\n",
       "      <td>July 15, 2012</td>\n",
       "      <td>4.88</td>\n",
       "    </tr>\n",
       "    <tr>\n",
       "      <th>11</th>\n",
       "      <td>12.</td>\n",
       "      <td>\"Masha and the Bear – Recipe for Disaster\"[35]</td>\n",
       "      <td>Get Movies</td>\n",
       "      <td>January 31, 2012</td>\n",
       "      <td>4.56</td>\n",
       "    </tr>\n",
       "    <tr>\n",
       "      <th>12</th>\n",
       "      <td>13.</td>\n",
       "      <td>\"Dame Tu Cosita\"[36]</td>\n",
       "      <td>Ultra Records</td>\n",
       "      <td>April 5, 2018</td>\n",
       "      <td>4.43</td>\n",
       "    </tr>\n",
       "    <tr>\n",
       "      <th>13</th>\n",
       "      <td>14.</td>\n",
       "      <td>\"Axel F\"[37]</td>\n",
       "      <td>Crazy Frog</td>\n",
       "      <td>June 16, 2009</td>\n",
       "      <td>4.04</td>\n",
       "    </tr>\n",
       "    <tr>\n",
       "      <th>14</th>\n",
       "      <td>15.</td>\n",
       "      <td>\"Sugar\"[38]</td>\n",
       "      <td>Maroon 5</td>\n",
       "      <td>January 14, 2015</td>\n",
       "      <td>3.93</td>\n",
       "    </tr>\n",
       "    <tr>\n",
       "      <th>15</th>\n",
       "      <td>16.</td>\n",
       "      <td>\"Counting Stars\"[39]</td>\n",
       "      <td>OneRepublic</td>\n",
       "      <td>May 31, 2013</td>\n",
       "      <td>3.86</td>\n",
       "    </tr>\n",
       "    <tr>\n",
       "      <th>16</th>\n",
       "      <td>17.</td>\n",
       "      <td>\"Roar\"[40]</td>\n",
       "      <td>Katy Perry</td>\n",
       "      <td>September 5, 2013</td>\n",
       "      <td>3.86</td>\n",
       "    </tr>\n",
       "    <tr>\n",
       "      <th>17</th>\n",
       "      <td>18.</td>\n",
       "      <td>\"Baa Baa Black Sheep\"[41]</td>\n",
       "      <td>Cocomelon - Nursery Rhymes</td>\n",
       "      <td>June 25, 2018</td>\n",
       "      <td>3.76</td>\n",
       "    </tr>\n",
       "    <tr>\n",
       "      <th>18</th>\n",
       "      <td>19.</td>\n",
       "      <td>\"Waka Waka (This Time for Africa)\"[42]</td>\n",
       "      <td>Shakira</td>\n",
       "      <td>June 4, 2010</td>\n",
       "      <td>3.71</td>\n",
       "    </tr>\n",
       "    <tr>\n",
       "      <th>19</th>\n",
       "      <td>20.</td>\n",
       "      <td>\"Sorry\"[43]</td>\n",
       "      <td>Justin Bieber</td>\n",
       "      <td>October 22, 2015</td>\n",
       "      <td>3.70</td>\n",
       "    </tr>\n",
       "    <tr>\n",
       "      <th>20</th>\n",
       "      <td>21.</td>\n",
       "      <td>\"Lakdi Ki Kathi\"[44]</td>\n",
       "      <td>Jingle Toons</td>\n",
       "      <td>June 14, 2018</td>\n",
       "      <td>3.67</td>\n",
       "    </tr>\n",
       "    <tr>\n",
       "      <th>21</th>\n",
       "      <td>22.</td>\n",
       "      <td>\"Thinking Out Loud\"[45]</td>\n",
       "      <td>Ed Sheeran</td>\n",
       "      <td>October 7, 2014</td>\n",
       "      <td>3.65</td>\n",
       "    </tr>\n",
       "    <tr>\n",
       "      <th>22</th>\n",
       "      <td>23.</td>\n",
       "      <td>\"Dark Horse\"[46]</td>\n",
       "      <td>Katy Perry</td>\n",
       "      <td>February 20, 2014</td>\n",
       "      <td>3.58</td>\n",
       "    </tr>\n",
       "    <tr>\n",
       "      <th>23</th>\n",
       "      <td>24.</td>\n",
       "      <td>\"Humpty the train on a fruits ride\"[47]</td>\n",
       "      <td>Kiddiestv Hindi - Nursery Rhymes &amp; Kids Songs</td>\n",
       "      <td>January 26, 2018</td>\n",
       "      <td>3.54</td>\n",
       "    </tr>\n",
       "    <tr>\n",
       "      <th>24</th>\n",
       "      <td>25.</td>\n",
       "      <td>\"Perfect\"[48]</td>\n",
       "      <td>Ed Sheeran</td>\n",
       "      <td>November 9, 2017</td>\n",
       "      <td>3.53</td>\n",
       "    </tr>\n",
       "    <tr>\n",
       "      <th>25</th>\n",
       "      <td>26.</td>\n",
       "      <td>\"Faded\"[49]</td>\n",
       "      <td>Alan Walker</td>\n",
       "      <td>December 3, 2015</td>\n",
       "      <td>3.51</td>\n",
       "    </tr>\n",
       "    <tr>\n",
       "      <th>26</th>\n",
       "      <td>27.</td>\n",
       "      <td>\"Let Her Go\"[50]</td>\n",
       "      <td>Passenger</td>\n",
       "      <td>July 25, 2012</td>\n",
       "      <td>3.50</td>\n",
       "    </tr>\n",
       "    <tr>\n",
       "      <th>27</th>\n",
       "      <td>28.</td>\n",
       "      <td>\"Girls Like You\"[51]</td>\n",
       "      <td>Maroon 5</td>\n",
       "      <td>May 31, 2018</td>\n",
       "      <td>3.47</td>\n",
       "    </tr>\n",
       "    <tr>\n",
       "      <th>28</th>\n",
       "      <td>29.</td>\n",
       "      <td>\"Lean On\"[52]</td>\n",
       "      <td>Major Lazer Official</td>\n",
       "      <td>March 22, 2015</td>\n",
       "      <td>3.45</td>\n",
       "    </tr>\n",
       "    <tr>\n",
       "      <th>29</th>\n",
       "      <td>30.</td>\n",
       "      <td>\"Bailando\"[53]</td>\n",
       "      <td>Enrique Iglesias</td>\n",
       "      <td>April 11, 2014</td>\n",
       "      <td>3.45</td>\n",
       "    </tr>\n",
       "  </tbody>\n",
       "</table>\n",
       "</div>"
      ],
      "text/plain": [
       "   rank                                             name  \\\n",
       "0    1.                            \"Baby Shark Dance\"[6]   \n",
       "1    2.                                   \"Despacito\"[9]   \n",
       "2    3.                       \"Johny Johny Yes Papa\"[16]   \n",
       "3    4.                                  \"Bath Song\"[17]   \n",
       "4    5.                               \"Shape of You\"[18]   \n",
       "5    6.                              \"See You Again\"[21]   \n",
       "6    7.                          \"Wheels on the Bus\"[26]   \n",
       "7    8.                \"Phonics Song with Two Words\"[27]   \n",
       "8    9.                                \"Uptown Funk\"[28]   \n",
       "9   10.  \"Learning Colors – Colorful Eggs on a Farm\"[29]   \n",
       "10  11.                              \"Gangnam Style\"[30]   \n",
       "11  12.   \"Masha and the Bear – Recipe for Disaster\"[35]   \n",
       "12  13.                             \"Dame Tu Cosita\"[36]   \n",
       "13  14.                                     \"Axel F\"[37]   \n",
       "14  15.                                      \"Sugar\"[38]   \n",
       "15  16.                             \"Counting Stars\"[39]   \n",
       "16  17.                                       \"Roar\"[40]   \n",
       "17  18.                        \"Baa Baa Black Sheep\"[41]   \n",
       "18  19.           \"Waka Waka (This Time for Africa)\"[42]   \n",
       "19  20.                                      \"Sorry\"[43]   \n",
       "20  21.                             \"Lakdi Ki Kathi\"[44]   \n",
       "21  22.                          \"Thinking Out Loud\"[45]   \n",
       "22  23.                                 \"Dark Horse\"[46]   \n",
       "23  24.          \"Humpty the train on a fruits ride\"[47]   \n",
       "24  25.                                    \"Perfect\"[48]   \n",
       "25  26.                                      \"Faded\"[49]   \n",
       "26  27.                                 \"Let Her Go\"[50]   \n",
       "27  28.                             \"Girls Like You\"[51]   \n",
       "28  29.                                    \"Lean On\"[52]   \n",
       "29  30.                                   \"Bailando\"[53]   \n",
       "\n",
       "                                               artist             upload  \\\n",
       "0         Pinkfong Baby Shark - Kids' Songs & Stories      June 17, 2016   \n",
       "1                                          Luis Fonsi   January 12, 2017   \n",
       "2   LooLoo Kids - Nursery Rhymes and Children's Songs    October 8, 2016   \n",
       "3                          Cocomelon - Nursery Rhymes        May 2, 2018   \n",
       "4                                          Ed Sheeran   January 30, 2017   \n",
       "5                                         Wiz Khalifa      April 6, 2015   \n",
       "6                          Cocomelon - Nursery Rhymes       May 24, 2018   \n",
       "7               ChuChu TV Nursery Rhymes & Kids Songs      March 6, 2014   \n",
       "8                                         Mark Ronson  November 19, 2014   \n",
       "9                                         Miroshka TV  February 27, 2018   \n",
       "10                                        officialpsy      July 15, 2012   \n",
       "11                                         Get Movies   January 31, 2012   \n",
       "12                                      Ultra Records      April 5, 2018   \n",
       "13                                         Crazy Frog      June 16, 2009   \n",
       "14                                           Maroon 5   January 14, 2015   \n",
       "15                                        OneRepublic       May 31, 2013   \n",
       "16                                         Katy Perry  September 5, 2013   \n",
       "17                         Cocomelon - Nursery Rhymes      June 25, 2018   \n",
       "18                                            Shakira       June 4, 2010   \n",
       "19                                      Justin Bieber   October 22, 2015   \n",
       "20                                       Jingle Toons      June 14, 2018   \n",
       "21                                         Ed Sheeran    October 7, 2014   \n",
       "22                                         Katy Perry  February 20, 2014   \n",
       "23      Kiddiestv Hindi - Nursery Rhymes & Kids Songs   January 26, 2018   \n",
       "24                                         Ed Sheeran   November 9, 2017   \n",
       "25                                        Alan Walker   December 3, 2015   \n",
       "26                                          Passenger      July 25, 2012   \n",
       "27                                           Maroon 5       May 31, 2018   \n",
       "28                               Major Lazer Official     March 22, 2015   \n",
       "29                                   Enrique Iglesias     April 11, 2014   \n",
       "\n",
       "    views  \n",
       "0   13.29  \n",
       "1    8.25  \n",
       "2    6.78  \n",
       "3    6.38  \n",
       "4    6.07  \n",
       "5    6.01  \n",
       "6    5.53  \n",
       "7    5.47  \n",
       "8    5.02  \n",
       "9    4.96  \n",
       "10   4.88  \n",
       "11   4.56  \n",
       "12   4.43  \n",
       "13   4.04  \n",
       "14   3.93  \n",
       "15   3.86  \n",
       "16   3.86  \n",
       "17   3.76  \n",
       "18   3.71  \n",
       "19   3.70  \n",
       "20   3.67  \n",
       "21   3.65  \n",
       "22   3.58  \n",
       "23   3.54  \n",
       "24   3.53  \n",
       "25   3.51  \n",
       "26   3.50  \n",
       "27   3.47  \n",
       "28   3.45  \n",
       "29   3.45  "
      ]
     },
     "execution_count": 80,
     "metadata": {},
     "output_type": "execute_result"
    }
   ],
   "source": [
    "youtube"
   ]
  },
  {
   "cell_type": "code",
   "execution_count": 81,
   "id": "6a2dd054",
   "metadata": {},
   "outputs": [],
   "source": [
    "driver.close()"
   ]
  },
  {
   "cell_type": "code",
   "execution_count": null,
   "id": "546f4fe3",
   "metadata": {},
   "outputs": [],
   "source": [
    "#question 2"
   ]
  },
  {
   "cell_type": "code",
   "execution_count": 2,
   "id": "b8fe76c8",
   "metadata": {},
   "outputs": [],
   "source": [
    "url='http://www.bcci.tv/'"
   ]
  },
  {
   "cell_type": "code",
   "execution_count": 3,
   "id": "e33e79c1",
   "metadata": {},
   "outputs": [],
   "source": [
    "driver=webdriver.Chrome()"
   ]
  },
  {
   "cell_type": "code",
   "execution_count": 4,
   "id": "d1ca61f6",
   "metadata": {},
   "outputs": [],
   "source": [
    "driver.get(url)"
   ]
  },
  {
   "cell_type": "code",
   "execution_count": 5,
   "id": "bfe975d7",
   "metadata": {},
   "outputs": [],
   "source": [
    "driver.find_element(By.XPATH,'/html/body/div[17]/button').click()"
   ]
  },
  {
   "cell_type": "code",
   "execution_count": 7,
   "id": "87cc5148",
   "metadata": {},
   "outputs": [],
   "source": [
    "driver.find_element(By.XPATH,'/html/body/nav/div[1]/button').click()"
   ]
  },
  {
   "cell_type": "code",
   "execution_count": 8,
   "id": "fabdbcc6",
   "metadata": {},
   "outputs": [],
   "source": [
    "driver.find_element(By.XPATH,'/html/body/nav/div[1]/div[2]/ul[1]/li[2]/a').click()"
   ]
  },
  {
   "cell_type": "code",
   "execution_count": 9,
   "id": "ee8b2582",
   "metadata": {},
   "outputs": [],
   "source": [
    "matchtitle=[i.text.replace('-',\"\") for i in driver.find_elements(By.XPATH,'//div[@class=\"match-card-top\"]/h5')]"
   ]
  },
  {
   "cell_type": "code",
   "execution_count": 10,
   "id": "74ec0e39",
   "metadata": {},
   "outputs": [
    {
     "data": {
      "text/plain": [
       "8"
      ]
     },
     "execution_count": 10,
     "metadata": {},
     "output_type": "execute_result"
    }
   ],
   "source": [
    "len(matchtitle)"
   ]
  },
  {
   "cell_type": "code",
   "execution_count": 35,
   "id": "47cf6685",
   "metadata": {},
   "outputs": [],
   "source": [
    "series=[i.text.replace('-',\"\") for i in driver.find_elements(By.XPATH,'//span[@class=\"matchOrderText ng-binding ng-scope\"]')]"
   ]
  },
  {
   "cell_type": "code",
   "execution_count": 12,
   "id": "3c30ed23",
   "metadata": {},
   "outputs": [
    {
     "data": {
      "text/plain": [
       "8"
      ]
     },
     "execution_count": 12,
     "metadata": {},
     "output_type": "execute_result"
    }
   ],
   "source": [
    "len(series)"
   ]
  },
  {
   "cell_type": "code",
   "execution_count": 14,
   "id": "af2dd62e",
   "metadata": {},
   "outputs": [],
   "source": [
    "place=[i.text for i in driver.find_elements(By.XPATH,'//span[@class=\"ng-binding ng-scope\"]')]"
   ]
  },
  {
   "cell_type": "code",
   "execution_count": 29,
   "id": "e903c5da",
   "metadata": {},
   "outputs": [],
   "source": [
    "date=[i.text.replace('-',\"\") for i in driver.find_elements(By.XPATH,'//div[@class=\"match-dates ng-binding\"]')]"
   ]
  },
  {
   "cell_type": "code",
   "execution_count": 30,
   "id": "c4ce1f67",
   "metadata": {},
   "outputs": [],
   "source": [
    "time=[i.text.replace('IST',\"\") for i in driver.find_elements(By.XPATH,'//div[@class=\"match-info\"]/div[2]')]"
   ]
  },
  {
   "cell_type": "code",
   "execution_count": 31,
   "id": "50fbe4e8",
   "metadata": {},
   "outputs": [
    {
     "data": {
      "text/plain": [
       "8"
      ]
     },
     "execution_count": 31,
     "metadata": {},
     "output_type": "execute_result"
    }
   ],
   "source": [
    "len(place)"
   ]
  },
  {
   "cell_type": "code",
   "execution_count": 32,
   "id": "91a9bd01",
   "metadata": {},
   "outputs": [
    {
     "data": {
      "text/plain": [
       "(8, 8)"
      ]
     },
     "execution_count": 32,
     "metadata": {},
     "output_type": "execute_result"
    }
   ],
   "source": [
    "len(date),len(time)"
   ]
  },
  {
   "cell_type": "code",
   "execution_count": 25,
   "id": "4b70a359",
   "metadata": {},
   "outputs": [
    {
     "name": "stdout",
     "output_type": "stream",
     "text": [
      "['15 SEP 2023', '3:00 PM IST', '17 SEP 2023', '3:00 PM IST', '21 SEP 2023', '6:30 AM IST', '22 SEP 2023', '1:30 PM IST', '24 SEP 2023', '1:30 PM IST', '27 SEP 2023', '1:30 PM IST', '30 SEP 2023', '2:00 PM IST', '3 OCT 2023', '6:30 AM IST']\n"
     ]
    }
   ],
   "source": [
    "print(date)"
   ]
  },
  {
   "cell_type": "code",
   "execution_count": 36,
   "id": "916b2a33",
   "metadata": {},
   "outputs": [],
   "source": [
    "international_fixtures=pd.DataFrame({'match_title':matchtitle,'series':series,'place':place,'date':date,'time':time})"
   ]
  },
  {
   "cell_type": "code",
   "execution_count": 37,
   "id": "fb61326f",
   "metadata": {},
   "outputs": [
    {
     "data": {
      "text/html": [
       "<div>\n",
       "<style scoped>\n",
       "    .dataframe tbody tr th:only-of-type {\n",
       "        vertical-align: middle;\n",
       "    }\n",
       "\n",
       "    .dataframe tbody tr th {\n",
       "        vertical-align: top;\n",
       "    }\n",
       "\n",
       "    .dataframe thead th {\n",
       "        text-align: right;\n",
       "    }\n",
       "</style>\n",
       "<table border=\"1\" class=\"dataframe\">\n",
       "  <thead>\n",
       "    <tr style=\"text-align: right;\">\n",
       "      <th></th>\n",
       "      <th>match_title</th>\n",
       "      <th>series</th>\n",
       "      <th>place</th>\n",
       "      <th>date</th>\n",
       "      <th>time</th>\n",
       "    </tr>\n",
       "  </thead>\n",
       "  <tbody>\n",
       "    <tr>\n",
       "      <th>0</th>\n",
       "      <td>ASIA CUP 2023</td>\n",
       "      <td>5th ODI</td>\n",
       "      <td>R Premadasa International Stadium,</td>\n",
       "      <td>15 SEP 2023</td>\n",
       "      <td>3:00 PM</td>\n",
       "    </tr>\n",
       "    <tr>\n",
       "      <th>1</th>\n",
       "      <td>ASIA CUP 2023</td>\n",
       "      <td>Final</td>\n",
       "      <td>R Premadasa International Stadium,</td>\n",
       "      <td>17 SEP 2023</td>\n",
       "      <td>3:00 PM</td>\n",
       "    </tr>\n",
       "    <tr>\n",
       "      <th>2</th>\n",
       "      <td>19TH ASIAN GAMES 2023</td>\n",
       "      <td>1st T20I</td>\n",
       "      <td>Pingfeng Cricket Field,</td>\n",
       "      <td>21 SEP 2023</td>\n",
       "      <td>6:30 AM</td>\n",
       "    </tr>\n",
       "    <tr>\n",
       "      <th>3</th>\n",
       "      <td>AUSTRALIA TOUR OF INDIA 202324</td>\n",
       "      <td>1st ODI</td>\n",
       "      <td>Punjab Cricket Association IS Bindra Stadium,</td>\n",
       "      <td>22 SEP 2023</td>\n",
       "      <td>1:30 PM</td>\n",
       "    </tr>\n",
       "    <tr>\n",
       "      <th>4</th>\n",
       "      <td>AUSTRALIA TOUR OF INDIA 202324</td>\n",
       "      <td>2nd ODI</td>\n",
       "      <td>Holkar Cricket Stadium,</td>\n",
       "      <td>24 SEP 2023</td>\n",
       "      <td>1:30 PM</td>\n",
       "    </tr>\n",
       "    <tr>\n",
       "      <th>5</th>\n",
       "      <td>AUSTRALIA TOUR OF INDIA 202324</td>\n",
       "      <td>3rd ODI</td>\n",
       "      <td>Saurashtra Cricket Association Stadium,</td>\n",
       "      <td>27 SEP 2023</td>\n",
       "      <td>1:30 PM</td>\n",
       "    </tr>\n",
       "    <tr>\n",
       "      <th>6</th>\n",
       "      <td>ICC MENS WORLD CUP 2023 WARMUP MATCHES</td>\n",
       "      <td>1st ODI</td>\n",
       "      <td>Barsapara Cricket Stadium,</td>\n",
       "      <td>30 SEP 2023</td>\n",
       "      <td>2:00 PM</td>\n",
       "    </tr>\n",
       "    <tr>\n",
       "      <th>7</th>\n",
       "      <td>19TH ASIAN GAMES 2023</td>\n",
       "      <td>1st T20I</td>\n",
       "      <td>Pingfeng Cricket Field,</td>\n",
       "      <td>3 OCT 2023</td>\n",
       "      <td>6:30 AM</td>\n",
       "    </tr>\n",
       "  </tbody>\n",
       "</table>\n",
       "</div>"
      ],
      "text/plain": [
       "                              match_title     series  \\\n",
       "0                           ASIA CUP 2023   5th ODI    \n",
       "1                           ASIA CUP 2023     Final    \n",
       "2                   19TH ASIAN GAMES 2023  1st T20I    \n",
       "3          AUSTRALIA TOUR OF INDIA 202324   1st ODI    \n",
       "4          AUSTRALIA TOUR OF INDIA 202324   2nd ODI    \n",
       "5          AUSTRALIA TOUR OF INDIA 202324   3rd ODI    \n",
       "6  ICC MENS WORLD CUP 2023 WARMUP MATCHES   1st ODI    \n",
       "7                   19TH ASIAN GAMES 2023  1st T20I    \n",
       "\n",
       "                                           place         date      time  \n",
       "0             R Premadasa International Stadium,  15 SEP 2023  3:00 PM   \n",
       "1             R Premadasa International Stadium,  17 SEP 2023  3:00 PM   \n",
       "2                        Pingfeng Cricket Field,  21 SEP 2023  6:30 AM   \n",
       "3  Punjab Cricket Association IS Bindra Stadium,  22 SEP 2023  1:30 PM   \n",
       "4                        Holkar Cricket Stadium,  24 SEP 2023  1:30 PM   \n",
       "5        Saurashtra Cricket Association Stadium,  27 SEP 2023  1:30 PM   \n",
       "6                     Barsapara Cricket Stadium,  30 SEP 2023  2:00 PM   \n",
       "7                        Pingfeng Cricket Field,   3 OCT 2023  6:30 AM   "
      ]
     },
     "execution_count": 37,
     "metadata": {},
     "output_type": "execute_result"
    }
   ],
   "source": [
    "international_fixtures"
   ]
  },
  {
   "cell_type": "code",
   "execution_count": null,
   "id": "73a70851",
   "metadata": {},
   "outputs": [],
   "source": [
    "#question 3"
   ]
  },
  {
   "cell_type": "code",
   "execution_count": 3,
   "id": "a560bef7",
   "metadata": {},
   "outputs": [],
   "source": [
    "# Connecting to the webdriver\n",
    "driver=webdriver.Chrome()"
   ]
  },
  {
   "cell_type": "code",
   "execution_count": 4,
   "id": "ccf81180",
   "metadata": {},
   "outputs": [],
   "source": [
    "# Getting the webpage of mentioned url \n",
    "url = \"http://statisticstimes.com/\"\n",
    "driver.get(url)"
   ]
  },
  {
   "cell_type": "code",
   "execution_count": 5,
   "id": "a2dd1c99",
   "metadata": {},
   "outputs": [],
   "source": [
    "#Clicking on economy section\n",
    "economy = driver.find_element(By.XPATH,'//div[@class=\"navbar\"]//div[2]//button').click()\n",
    "\n",
    "urls = driver.find_element(By.XPATH,'//div[@class=\"dropdown-content\"]//a[3]')\n",
    "indianeco_page = urls.get_attribute(\"href\")\n",
    "#Going to indian economy page\n",
    "driver.get(indianeco_page)  \n",
    "time.sleep(5)"
   ]
  },
  {
   "cell_type": "code",
   "execution_count": 6,
   "id": "3e6b6e37",
   "metadata": {},
   "outputs": [],
   "source": [
    "#get the url of page containing GDP of indian states\n",
    "sta_GDP = driver.find_element(By.XPATH,'//ul[@style=\"list-style-type:none;margin-left:20px;\"]/li/a')\n",
    "GDP_url = sta_GDP.get_attribute(\"href\")\n",
    "\n",
    "driver.get(GDP_url)\n",
    "time.sleep(6)\n",
    "\n",
    "\n",
    "#Scraping data of rank\n",
    "rank= [i.text for i in driver.find_elements(By.XPATH,'//div[@id=\"table_id_wrapper\"]//tbody//tr//td[1]')]\n",
    "\n",
    "#Scraping data of state name\n",
    "state_name= [i.text for i in driver.find_elements(By.XPATH,'//div[@id=\"table_id_wrapper\"]//tbody//tr//td[2]')]\n",
    "\n",
    "# Scraping data of GSDP at current price (18-19)\n",
    "gsdp_1= [i.text for i in driver.find_elements(By.XPATH,'//div[@id=\"table_id_wrapper\"]//tbody//tr//td[3]')]\n",
    "\n",
    "#Scraping data of GSDP at current price (17-18)\n",
    "gsdp_2= [i.text for i in driver.find_elements(By.XPATH,'//div[@id=\"table_id_wrapper\"]//tbody//tr//td[4]')]\n",
    "\n",
    "#Scraping data of Share(2017)\n",
    "share= [i.text for i in driver.find_elements(By.XPATH,'//div[@id=\"table_id_wrapper\"]//tbody//tr//td[5]')]\n",
    "\n",
    "#Scraping data of GDP($ billion)\n",
    "gdp= [i.text for i in driver.find_elements(By.XPATH,'//div[@id=\"table_id_wrapper\"]//tbody//tr//td[6]')]"
   ]
  },
  {
   "cell_type": "code",
   "execution_count": 8,
   "id": "835efdc7",
   "metadata": {},
   "outputs": [],
   "source": [
    "#DataFraming\n",
    "data=list(zip(rank,state_name,gsdp_1,gsdp_2,share,gdp))"
   ]
  },
  {
   "cell_type": "code",
   "execution_count": 9,
   "id": "29e0deea",
   "metadata": {},
   "outputs": [],
   "source": [
    "df=pd.DataFrame(data,columns=['Rank','Indian_State','GSDP(19-20)','GSDP(18-19)','Share','GDP'])"
   ]
  },
  {
   "cell_type": "code",
   "execution_count": 10,
   "id": "a8c779a2",
   "metadata": {},
   "outputs": [
    {
     "data": {
      "text/html": [
       "<div>\n",
       "<style scoped>\n",
       "    .dataframe tbody tr th:only-of-type {\n",
       "        vertical-align: middle;\n",
       "    }\n",
       "\n",
       "    .dataframe tbody tr th {\n",
       "        vertical-align: top;\n",
       "    }\n",
       "\n",
       "    .dataframe thead th {\n",
       "        text-align: right;\n",
       "    }\n",
       "</style>\n",
       "<table border=\"1\" class=\"dataframe\">\n",
       "  <thead>\n",
       "    <tr style=\"text-align: right;\">\n",
       "      <th></th>\n",
       "      <th>Rank</th>\n",
       "      <th>Indian_State</th>\n",
       "      <th>GSDP(19-20)</th>\n",
       "      <th>GSDP(18-19)</th>\n",
       "      <th>Share</th>\n",
       "      <th>GDP</th>\n",
       "    </tr>\n",
       "  </thead>\n",
       "  <tbody>\n",
       "    <tr>\n",
       "      <th>0</th>\n",
       "      <td>1</td>\n",
       "      <td>Maharashtra</td>\n",
       "      <td>-</td>\n",
       "      <td>2,632,792</td>\n",
       "      <td>13.94%</td>\n",
       "      <td>399.921</td>\n",
       "    </tr>\n",
       "    <tr>\n",
       "      <th>1</th>\n",
       "      <td>2</td>\n",
       "      <td>Tamil Nadu</td>\n",
       "      <td>1,845,853</td>\n",
       "      <td>1,630,208</td>\n",
       "      <td>8.63%</td>\n",
       "      <td>247.629</td>\n",
       "    </tr>\n",
       "    <tr>\n",
       "      <th>2</th>\n",
       "      <td>3</td>\n",
       "      <td>Uttar Pradesh</td>\n",
       "      <td>1,687,818</td>\n",
       "      <td>1,584,764</td>\n",
       "      <td>8.39%</td>\n",
       "      <td>240.726</td>\n",
       "    </tr>\n",
       "    <tr>\n",
       "      <th>3</th>\n",
       "      <td>4</td>\n",
       "      <td>Gujarat</td>\n",
       "      <td>-</td>\n",
       "      <td>1,502,899</td>\n",
       "      <td>7.96%</td>\n",
       "      <td>228.290</td>\n",
       "    </tr>\n",
       "    <tr>\n",
       "      <th>4</th>\n",
       "      <td>5</td>\n",
       "      <td>Karnataka</td>\n",
       "      <td>1,631,977</td>\n",
       "      <td>1,493,127</td>\n",
       "      <td>7.91%</td>\n",
       "      <td>226.806</td>\n",
       "    </tr>\n",
       "    <tr>\n",
       "      <th>5</th>\n",
       "      <td>6</td>\n",
       "      <td>West Bengal</td>\n",
       "      <td>1,253,832</td>\n",
       "      <td>1,089,898</td>\n",
       "      <td>5.77%</td>\n",
       "      <td>165.556</td>\n",
       "    </tr>\n",
       "    <tr>\n",
       "      <th>6</th>\n",
       "      <td>7</td>\n",
       "      <td>Rajasthan</td>\n",
       "      <td>1,020,989</td>\n",
       "      <td>942,586</td>\n",
       "      <td>4.99%</td>\n",
       "      <td>143.179</td>\n",
       "    </tr>\n",
       "    <tr>\n",
       "      <th>7</th>\n",
       "      <td>8</td>\n",
       "      <td>Andhra Pradesh</td>\n",
       "      <td>972,782</td>\n",
       "      <td>862,957</td>\n",
       "      <td>4.57%</td>\n",
       "      <td>131.083</td>\n",
       "    </tr>\n",
       "    <tr>\n",
       "      <th>8</th>\n",
       "      <td>9</td>\n",
       "      <td>Telangana</td>\n",
       "      <td>969,604</td>\n",
       "      <td>861,031</td>\n",
       "      <td>4.56%</td>\n",
       "      <td>130.791</td>\n",
       "    </tr>\n",
       "    <tr>\n",
       "      <th>9</th>\n",
       "      <td>10</td>\n",
       "      <td>Madhya Pradesh</td>\n",
       "      <td>906,672</td>\n",
       "      <td>809,592</td>\n",
       "      <td>4.29%</td>\n",
       "      <td>122.977</td>\n",
       "    </tr>\n",
       "    <tr>\n",
       "      <th>10</th>\n",
       "      <td>11</td>\n",
       "      <td>Kerala</td>\n",
       "      <td>-</td>\n",
       "      <td>781,653</td>\n",
       "      <td>4.14%</td>\n",
       "      <td>118.733</td>\n",
       "    </tr>\n",
       "    <tr>\n",
       "      <th>11</th>\n",
       "      <td>12</td>\n",
       "      <td>Delhi</td>\n",
       "      <td>856,112</td>\n",
       "      <td>774,870</td>\n",
       "      <td>4.10%</td>\n",
       "      <td>117.703</td>\n",
       "    </tr>\n",
       "    <tr>\n",
       "      <th>12</th>\n",
       "      <td>13</td>\n",
       "      <td>Haryana</td>\n",
       "      <td>831,610</td>\n",
       "      <td>734,163</td>\n",
       "      <td>3.89%</td>\n",
       "      <td>111.519</td>\n",
       "    </tr>\n",
       "    <tr>\n",
       "      <th>13</th>\n",
       "      <td>14</td>\n",
       "      <td>Bihar</td>\n",
       "      <td>611,804</td>\n",
       "      <td>530,363</td>\n",
       "      <td>2.81%</td>\n",
       "      <td>80.562</td>\n",
       "    </tr>\n",
       "    <tr>\n",
       "      <th>14</th>\n",
       "      <td>15</td>\n",
       "      <td>Punjab</td>\n",
       "      <td>574,760</td>\n",
       "      <td>526,376</td>\n",
       "      <td>2.79%</td>\n",
       "      <td>79.957</td>\n",
       "    </tr>\n",
       "    <tr>\n",
       "      <th>15</th>\n",
       "      <td>16</td>\n",
       "      <td>Odisha</td>\n",
       "      <td>521,275</td>\n",
       "      <td>487,805</td>\n",
       "      <td>2.58%</td>\n",
       "      <td>74.098</td>\n",
       "    </tr>\n",
       "    <tr>\n",
       "      <th>16</th>\n",
       "      <td>17</td>\n",
       "      <td>Assam</td>\n",
       "      <td>-</td>\n",
       "      <td>315,881</td>\n",
       "      <td>1.67%</td>\n",
       "      <td>47.982</td>\n",
       "    </tr>\n",
       "    <tr>\n",
       "      <th>17</th>\n",
       "      <td>18</td>\n",
       "      <td>Chhattisgarh</td>\n",
       "      <td>329,180</td>\n",
       "      <td>304,063</td>\n",
       "      <td>1.61%</td>\n",
       "      <td>46.187</td>\n",
       "    </tr>\n",
       "    <tr>\n",
       "      <th>18</th>\n",
       "      <td>19</td>\n",
       "      <td>Jharkhand</td>\n",
       "      <td>328,598</td>\n",
       "      <td>297,204</td>\n",
       "      <td>1.57%</td>\n",
       "      <td>45.145</td>\n",
       "    </tr>\n",
       "    <tr>\n",
       "      <th>19</th>\n",
       "      <td>20</td>\n",
       "      <td>Uttarakhand</td>\n",
       "      <td>-</td>\n",
       "      <td>245,895</td>\n",
       "      <td>1.30%</td>\n",
       "      <td>37.351</td>\n",
       "    </tr>\n",
       "    <tr>\n",
       "      <th>20</th>\n",
       "      <td>21</td>\n",
       "      <td>Jammu &amp; Kashmir</td>\n",
       "      <td>-</td>\n",
       "      <td>155,956</td>\n",
       "      <td>0.83%</td>\n",
       "      <td>23.690</td>\n",
       "    </tr>\n",
       "    <tr>\n",
       "      <th>21</th>\n",
       "      <td>22</td>\n",
       "      <td>Himachal Pradesh</td>\n",
       "      <td>165,472</td>\n",
       "      <td>153,845</td>\n",
       "      <td>0.81%</td>\n",
       "      <td>23.369</td>\n",
       "    </tr>\n",
       "    <tr>\n",
       "      <th>22</th>\n",
       "      <td>23</td>\n",
       "      <td>Goa</td>\n",
       "      <td>80,449</td>\n",
       "      <td>73,170</td>\n",
       "      <td>0.39%</td>\n",
       "      <td>11.115</td>\n",
       "    </tr>\n",
       "    <tr>\n",
       "      <th>23</th>\n",
       "      <td>24</td>\n",
       "      <td>Tripura</td>\n",
       "      <td>55,984</td>\n",
       "      <td>49,845</td>\n",
       "      <td>0.26%</td>\n",
       "      <td>7.571</td>\n",
       "    </tr>\n",
       "    <tr>\n",
       "      <th>24</th>\n",
       "      <td>25</td>\n",
       "      <td>Chandigarh</td>\n",
       "      <td>-</td>\n",
       "      <td>42,114</td>\n",
       "      <td>0.22%</td>\n",
       "      <td>6.397</td>\n",
       "    </tr>\n",
       "    <tr>\n",
       "      <th>25</th>\n",
       "      <td>26</td>\n",
       "      <td>Puducherry</td>\n",
       "      <td>38,253</td>\n",
       "      <td>34,433</td>\n",
       "      <td>0.18%</td>\n",
       "      <td>5.230</td>\n",
       "    </tr>\n",
       "    <tr>\n",
       "      <th>26</th>\n",
       "      <td>27</td>\n",
       "      <td>Meghalaya</td>\n",
       "      <td>36,572</td>\n",
       "      <td>33,481</td>\n",
       "      <td>0.18%</td>\n",
       "      <td>5.086</td>\n",
       "    </tr>\n",
       "    <tr>\n",
       "      <th>27</th>\n",
       "      <td>28</td>\n",
       "      <td>Sikkim</td>\n",
       "      <td>32,496</td>\n",
       "      <td>28,723</td>\n",
       "      <td>0.15%</td>\n",
       "      <td>4.363</td>\n",
       "    </tr>\n",
       "    <tr>\n",
       "      <th>28</th>\n",
       "      <td>29</td>\n",
       "      <td>Manipur</td>\n",
       "      <td>31,790</td>\n",
       "      <td>27,870</td>\n",
       "      <td>0.15%</td>\n",
       "      <td>4.233</td>\n",
       "    </tr>\n",
       "    <tr>\n",
       "      <th>29</th>\n",
       "      <td>30</td>\n",
       "      <td>Nagaland</td>\n",
       "      <td>-</td>\n",
       "      <td>27,283</td>\n",
       "      <td>0.14%</td>\n",
       "      <td>4.144</td>\n",
       "    </tr>\n",
       "    <tr>\n",
       "      <th>30</th>\n",
       "      <td>31</td>\n",
       "      <td>Arunachal Pradesh</td>\n",
       "      <td>-</td>\n",
       "      <td>24,603</td>\n",
       "      <td>0.13%</td>\n",
       "      <td>3.737</td>\n",
       "    </tr>\n",
       "    <tr>\n",
       "      <th>31</th>\n",
       "      <td>32</td>\n",
       "      <td>Mizoram</td>\n",
       "      <td>26,503</td>\n",
       "      <td>22,287</td>\n",
       "      <td>0.12%</td>\n",
       "      <td>3.385</td>\n",
       "    </tr>\n",
       "    <tr>\n",
       "      <th>32</th>\n",
       "      <td>33</td>\n",
       "      <td>Andaman &amp; Nicobar Islands</td>\n",
       "      <td>-</td>\n",
       "      <td>-</td>\n",
       "      <td>-</td>\n",
       "      <td>-</td>\n",
       "    </tr>\n",
       "  </tbody>\n",
       "</table>\n",
       "</div>"
      ],
      "text/plain": [
       "   Rank               Indian_State GSDP(19-20) GSDP(18-19)   Share      GDP\n",
       "0     1                Maharashtra           -   2,632,792  13.94%  399.921\n",
       "1     2                 Tamil Nadu   1,845,853   1,630,208   8.63%  247.629\n",
       "2     3              Uttar Pradesh   1,687,818   1,584,764   8.39%  240.726\n",
       "3     4                    Gujarat           -   1,502,899   7.96%  228.290\n",
       "4     5                  Karnataka   1,631,977   1,493,127   7.91%  226.806\n",
       "5     6                West Bengal   1,253,832   1,089,898   5.77%  165.556\n",
       "6     7                  Rajasthan   1,020,989     942,586   4.99%  143.179\n",
       "7     8             Andhra Pradesh     972,782     862,957   4.57%  131.083\n",
       "8     9                  Telangana     969,604     861,031   4.56%  130.791\n",
       "9    10             Madhya Pradesh     906,672     809,592   4.29%  122.977\n",
       "10   11                     Kerala           -     781,653   4.14%  118.733\n",
       "11   12                      Delhi     856,112     774,870   4.10%  117.703\n",
       "12   13                    Haryana     831,610     734,163   3.89%  111.519\n",
       "13   14                      Bihar     611,804     530,363   2.81%   80.562\n",
       "14   15                     Punjab     574,760     526,376   2.79%   79.957\n",
       "15   16                     Odisha     521,275     487,805   2.58%   74.098\n",
       "16   17                      Assam           -     315,881   1.67%   47.982\n",
       "17   18               Chhattisgarh     329,180     304,063   1.61%   46.187\n",
       "18   19                  Jharkhand     328,598     297,204   1.57%   45.145\n",
       "19   20                Uttarakhand           -     245,895   1.30%   37.351\n",
       "20   21            Jammu & Kashmir           -     155,956   0.83%   23.690\n",
       "21   22           Himachal Pradesh     165,472     153,845   0.81%   23.369\n",
       "22   23                        Goa      80,449      73,170   0.39%   11.115\n",
       "23   24                    Tripura      55,984      49,845   0.26%    7.571\n",
       "24   25                 Chandigarh           -      42,114   0.22%    6.397\n",
       "25   26                 Puducherry      38,253      34,433   0.18%    5.230\n",
       "26   27                  Meghalaya      36,572      33,481   0.18%    5.086\n",
       "27   28                     Sikkim      32,496      28,723   0.15%    4.363\n",
       "28   29                    Manipur      31,790      27,870   0.15%    4.233\n",
       "29   30                   Nagaland           -      27,283   0.14%    4.144\n",
       "30   31          Arunachal Pradesh           -      24,603   0.13%    3.737\n",
       "31   32                    Mizoram      26,503      22,287   0.12%    3.385\n",
       "32   33  Andaman & Nicobar Islands           -           -       -        -"
      ]
     },
     "execution_count": 10,
     "metadata": {},
     "output_type": "execute_result"
    }
   ],
   "source": [
    "df"
   ]
  },
  {
   "cell_type": "code",
   "execution_count": null,
   "id": "a3ef9838",
   "metadata": {},
   "outputs": [],
   "source": [
    "#question 4"
   ]
  },
  {
   "cell_type": "code",
   "execution_count": 114,
   "id": "bba8fc79",
   "metadata": {},
   "outputs": [],
   "source": [
    "# Connecting to the webdriver\n",
    "driver=webdriver.Chrome()"
   ]
  },
  {
   "cell_type": "code",
   "execution_count": 115,
   "id": "c26e790c",
   "metadata": {},
   "outputs": [],
   "source": [
    "#getting the desired webpage.\n",
    "url='https://github.com/'\n",
    "driver.get(url)\n",
    "time.sleep(2)"
   ]
  },
  {
   "cell_type": "code",
   "execution_count": 118,
   "id": "197da7e8",
   "metadata": {},
   "outputs": [],
   "source": [
    "#Getting explore button and clicking on it\n",
    "explore = driver.find_element(By.XPATH,\"/html/body/div[1]/div[1]/header/div/div[1]/deferred-side-panel/div/modal-dialog/div[3]/nav/nav-list/ul/li[1]/a/span[2]\").click()"
   ]
  },
  {
   "cell_type": "code",
   "execution_count": 119,
   "id": "b905bf82",
   "metadata": {},
   "outputs": [],
   "source": [
    "#Getting trending and clicking on it\n",
    "trending = driver.find_element(By.XPATH,\"/html/body/div[1]/div[6]/main/div[2]/div/div/div[3]/div[1]/div[1]/h3/a\").click()"
   ]
  },
  {
   "cell_type": "code",
   "execution_count": 109,
   "id": "f410eef0",
   "metadata": {},
   "outputs": [],
   "source": [
    "#scraping repositories title\n",
    "repo_title=[i.text for i in driver.find_elements(By.XPATH,'//a[@class=\"Link\"]')][1:26]\n",
    "    \n",
    " #scraping repositories discription\n",
    "discription=[i.text for i in driver.find_elements(By.XPATH,'//p[@class=\"col-9 color-fg-muted my-1 pr-4\"]')][:25]        \n",
    "    \n",
    "#scraping languages used   \n",
    "language_used=[i.text for i in driver.find_elements(By.XPATH,'//span[@itemprop=\"programmingLanguage\"]')][:25]\n",
    "    "
   ]
  },
  {
   "cell_type": "code",
   "execution_count": 110,
   "id": "13e81912",
   "metadata": {},
   "outputs": [
    {
     "data": {
      "text/plain": [
       "(25, 25, 25)"
      ]
     },
     "execution_count": 110,
     "metadata": {},
     "output_type": "execute_result"
    }
   ],
   "source": [
    "len(repo_title),len(discription),len(language_used)"
   ]
  },
  {
   "cell_type": "code",
   "execution_count": 111,
   "id": "acf0091a",
   "metadata": {},
   "outputs": [],
   "source": [
    "data=list(zip(repo_title,discription,language_used))"
   ]
  },
  {
   "cell_type": "code",
   "execution_count": 112,
   "id": "263cd8c0",
   "metadata": {},
   "outputs": [],
   "source": [
    "df=pd.DataFrame(data,columns=['Repository_title','Repository_description','Language_used'])"
   ]
  },
  {
   "cell_type": "code",
   "execution_count": 113,
   "id": "39bc9628",
   "metadata": {},
   "outputs": [
    {
     "data": {
      "text/html": [
       "<div>\n",
       "<style scoped>\n",
       "    .dataframe tbody tr th:only-of-type {\n",
       "        vertical-align: middle;\n",
       "    }\n",
       "\n",
       "    .dataframe tbody tr th {\n",
       "        vertical-align: top;\n",
       "    }\n",
       "\n",
       "    .dataframe thead th {\n",
       "        text-align: right;\n",
       "    }\n",
       "</style>\n",
       "<table border=\"1\" class=\"dataframe\">\n",
       "  <thead>\n",
       "    <tr style=\"text-align: right;\">\n",
       "      <th></th>\n",
       "      <th>Repository_title</th>\n",
       "      <th>Repository_description</th>\n",
       "      <th>Language_used</th>\n",
       "    </tr>\n",
       "  </thead>\n",
       "  <tbody>\n",
       "    <tr>\n",
       "      <th>0</th>\n",
       "      <td>godotengine / godot</td>\n",
       "      <td>Godot Engine – Multi-platform 2D and 3D game e...</td>\n",
       "      <td>C++</td>\n",
       "    </tr>\n",
       "    <tr>\n",
       "      <th>1</th>\n",
       "      <td>coqui-ai / TTS</td>\n",
       "      <td>🐸💬 - a deep learning toolkit for Text-to-Speec...</td>\n",
       "      <td>Python</td>\n",
       "    </tr>\n",
       "    <tr>\n",
       "      <th>2</th>\n",
       "      <td>isocpp / CppCoreGuidelines</td>\n",
       "      <td>The C++ Core Guidelines are a set of tried-and...</td>\n",
       "      <td>Python</td>\n",
       "    </tr>\n",
       "    <tr>\n",
       "      <th>3</th>\n",
       "      <td>MonoGame / MonoGame</td>\n",
       "      <td>One framework for creating powerful cross-plat...</td>\n",
       "      <td>C#</td>\n",
       "    </tr>\n",
       "    <tr>\n",
       "      <th>4</th>\n",
       "      <td>aiwaves-cn / agents</td>\n",
       "      <td>An Open-source Framework for Autonomous Langua...</td>\n",
       "      <td>Python</td>\n",
       "    </tr>\n",
       "    <tr>\n",
       "      <th>5</th>\n",
       "      <td>zhile-io / pandora</td>\n",
       "      <td>潘多拉，一个让你呼吸顺畅的ChatGPT。Pandora, a ChatGPT client...</td>\n",
       "      <td>Python</td>\n",
       "    </tr>\n",
       "    <tr>\n",
       "      <th>6</th>\n",
       "      <td>badlogic / heissepreise</td>\n",
       "      <td>Jo eh.</td>\n",
       "      <td>JavaScript</td>\n",
       "    </tr>\n",
       "    <tr>\n",
       "      <th>7</th>\n",
       "      <td>lodash / lodash</td>\n",
       "      <td>A modern JavaScript utility library delivering...</td>\n",
       "      <td>JavaScript</td>\n",
       "    </tr>\n",
       "    <tr>\n",
       "      <th>8</th>\n",
       "      <td>Klipper3d / klipper</td>\n",
       "      <td>Klipper is a 3d-printer firmware</td>\n",
       "      <td>C</td>\n",
       "    </tr>\n",
       "    <tr>\n",
       "      <th>9</th>\n",
       "      <td>stride3d / stride</td>\n",
       "      <td>Stride Game Engine (formerly Xenko)</td>\n",
       "      <td>C#</td>\n",
       "    </tr>\n",
       "    <tr>\n",
       "      <th>10</th>\n",
       "      <td>nuejs / nuejs</td>\n",
       "      <td>Build user interfaces with 10x less code. Alte...</td>\n",
       "      <td>JavaScript</td>\n",
       "    </tr>\n",
       "    <tr>\n",
       "      <th>11</th>\n",
       "      <td>langchain-ai / langchain-nextjs-template</td>\n",
       "      <td>LangChain + Next.js starter template</td>\n",
       "      <td>TypeScript</td>\n",
       "    </tr>\n",
       "    <tr>\n",
       "      <th>12</th>\n",
       "      <td>commaai / openpilot</td>\n",
       "      <td>openpilot is an open source driver assistance ...</td>\n",
       "      <td>Python</td>\n",
       "    </tr>\n",
       "    <tr>\n",
       "      <th>13</th>\n",
       "      <td>facebookresearch / nougat</td>\n",
       "      <td>Implementation of Nougat Neural Optical Unders...</td>\n",
       "      <td>Python</td>\n",
       "    </tr>\n",
       "    <tr>\n",
       "      <th>14</th>\n",
       "      <td>KenneyNL / Starter-Kit-3D-Platformer</td>\n",
       "      <td>Godot</td>\n",
       "      <td>GDScript</td>\n",
       "    </tr>\n",
       "    <tr>\n",
       "      <th>15</th>\n",
       "      <td>godotengine / godot-docs</td>\n",
       "      <td>Godot Engine official documentation</td>\n",
       "      <td>reStructuredText</td>\n",
       "    </tr>\n",
       "    <tr>\n",
       "      <th>16</th>\n",
       "      <td>AUTOMATIC1111 / stable-diffusion-webui</td>\n",
       "      <td>Stable Diffusion web UI</td>\n",
       "      <td>Python</td>\n",
       "    </tr>\n",
       "    <tr>\n",
       "      <th>17</th>\n",
       "      <td>yoheinakajima / instagraph</td>\n",
       "      <td>Converts text input or URL into knowledge grap...</td>\n",
       "      <td>Python</td>\n",
       "    </tr>\n",
       "    <tr>\n",
       "      <th>18</th>\n",
       "      <td>godotengine / godot-demo-projects</td>\n",
       "      <td>Demonstration and Template Projects</td>\n",
       "      <td>GDScript</td>\n",
       "    </tr>\n",
       "    <tr>\n",
       "      <th>19</th>\n",
       "      <td>guidance-ai / guidance</td>\n",
       "      <td>A guidance language for controlling large lang...</td>\n",
       "      <td>Jupyter Notebook</td>\n",
       "    </tr>\n",
       "    <tr>\n",
       "      <th>20</th>\n",
       "      <td>FlaxEngine / FlaxEngine</td>\n",
       "      <td>Flax Engine – multi-platform 3D game engine</td>\n",
       "      <td>C++</td>\n",
       "    </tr>\n",
       "    <tr>\n",
       "      <th>21</th>\n",
       "      <td>ripienaar / free-for-dev</td>\n",
       "      <td>A list of SaaS, PaaS and IaaS offerings that h...</td>\n",
       "      <td>HTML</td>\n",
       "    </tr>\n",
       "    <tr>\n",
       "      <th>22</th>\n",
       "      <td>fishaudio / Bert-VITS2</td>\n",
       "      <td>vits2 backbone with bert</td>\n",
       "      <td>Python</td>\n",
       "    </tr>\n",
       "    <tr>\n",
       "      <th>23</th>\n",
       "      <td>TheAlgorithms / Python</td>\n",
       "      <td>All Algorithms implemented in Python</td>\n",
       "      <td>Python</td>\n",
       "    </tr>\n",
       "    <tr>\n",
       "      <th>24</th>\n",
       "      <td>89luca89 / distrobox</td>\n",
       "      <td>Use any linux distribution inside your termina...</td>\n",
       "      <td>Shell</td>\n",
       "    </tr>\n",
       "  </tbody>\n",
       "</table>\n",
       "</div>"
      ],
      "text/plain": [
       "                            Repository_title  \\\n",
       "0                        godotengine / godot   \n",
       "1                             coqui-ai / TTS   \n",
       "2                 isocpp / CppCoreGuidelines   \n",
       "3                        MonoGame / MonoGame   \n",
       "4                        aiwaves-cn / agents   \n",
       "5                         zhile-io / pandora   \n",
       "6                    badlogic / heissepreise   \n",
       "7                            lodash / lodash   \n",
       "8                        Klipper3d / klipper   \n",
       "9                          stride3d / stride   \n",
       "10                             nuejs / nuejs   \n",
       "11  langchain-ai / langchain-nextjs-template   \n",
       "12                       commaai / openpilot   \n",
       "13                 facebookresearch / nougat   \n",
       "14      KenneyNL / Starter-Kit-3D-Platformer   \n",
       "15                  godotengine / godot-docs   \n",
       "16    AUTOMATIC1111 / stable-diffusion-webui   \n",
       "17                yoheinakajima / instagraph   \n",
       "18         godotengine / godot-demo-projects   \n",
       "19                    guidance-ai / guidance   \n",
       "20                   FlaxEngine / FlaxEngine   \n",
       "21                  ripienaar / free-for-dev   \n",
       "22                    fishaudio / Bert-VITS2   \n",
       "23                    TheAlgorithms / Python   \n",
       "24                      89luca89 / distrobox   \n",
       "\n",
       "                               Repository_description     Language_used  \n",
       "0   Godot Engine – Multi-platform 2D and 3D game e...               C++  \n",
       "1   🐸💬 - a deep learning toolkit for Text-to-Speec...            Python  \n",
       "2   The C++ Core Guidelines are a set of tried-and...            Python  \n",
       "3   One framework for creating powerful cross-plat...                C#  \n",
       "4   An Open-source Framework for Autonomous Langua...            Python  \n",
       "5   潘多拉，一个让你呼吸顺畅的ChatGPT。Pandora, a ChatGPT client...            Python  \n",
       "6                                              Jo eh.        JavaScript  \n",
       "7   A modern JavaScript utility library delivering...        JavaScript  \n",
       "8                    Klipper is a 3d-printer firmware                 C  \n",
       "9                 Stride Game Engine (formerly Xenko)                C#  \n",
       "10  Build user interfaces with 10x less code. Alte...        JavaScript  \n",
       "11               LangChain + Next.js starter template        TypeScript  \n",
       "12  openpilot is an open source driver assistance ...            Python  \n",
       "13  Implementation of Nougat Neural Optical Unders...            Python  \n",
       "14                                              Godot          GDScript  \n",
       "15                Godot Engine official documentation  reStructuredText  \n",
       "16                            Stable Diffusion web UI            Python  \n",
       "17  Converts text input or URL into knowledge grap...            Python  \n",
       "18                Demonstration and Template Projects          GDScript  \n",
       "19  A guidance language for controlling large lang...  Jupyter Notebook  \n",
       "20        Flax Engine – multi-platform 3D game engine               C++  \n",
       "21  A list of SaaS, PaaS and IaaS offerings that h...              HTML  \n",
       "22                           vits2 backbone with bert            Python  \n",
       "23               All Algorithms implemented in Python            Python  \n",
       "24  Use any linux distribution inside your termina...             Shell  "
      ]
     },
     "execution_count": 113,
     "metadata": {},
     "output_type": "execute_result"
    }
   ],
   "source": [
    "df"
   ]
  },
  {
   "cell_type": "code",
   "execution_count": null,
   "id": "e67fd384",
   "metadata": {},
   "outputs": [],
   "source": [
    "#question 5"
   ]
  },
  {
   "cell_type": "code",
   "execution_count": 11,
   "id": "572364e1",
   "metadata": {},
   "outputs": [],
   "source": [
    "# to get web drivers\n",
    "driver=webdriver.Chrome()  \n",
    "time.sleep(2)\n",
    "\n",
    "# Opening the billboard\n",
    "url = \"https://www.billboard.com/\"\n",
    "driver.get(url)\n",
    "time.sleep(2)"
   ]
  },
  {
   "cell_type": "code",
   "execution_count": 14,
   "id": "4975f9af",
   "metadata": {},
   "outputs": [],
   "source": [
    "#Clicking on option\n",
    "driver.find_element(By.XPATH,\"/html/body/div[3]/header/div/div[4]/div/div[1]/div[1]/button\").click()"
   ]
  },
  {
   "cell_type": "code",
   "execution_count": 15,
   "id": "fa81198f",
   "metadata": {},
   "outputs": [],
   "source": [
    "#Clicking on charts\n",
    "driver.find_element(By.XPATH,\"/html/body/div[3]/div[9]/div/div/div/ul/li[1]/h3/a\").click()"
   ]
  },
  {
   "cell_type": "code",
   "execution_count": 16,
   "id": "f972d29d",
   "metadata": {},
   "outputs": [],
   "source": [
    "# clicking view chart\n",
    "driver.find_element(By.XPATH,\"/html/body/div[3]/main/div[2]/div[1]/div[1]/div/div/div[3]/a\").click()"
   ]
  },
  {
   "cell_type": "code",
   "execution_count": 17,
   "id": "0a45aa4f",
   "metadata": {},
   "outputs": [],
   "source": [
    "#Scraping data of song name\n",
    "song_name = [i.text for i in driver.find_elements(By.XPATH,'//div[@class=\"o-chart-results-list-row-container\"]/ul/li[4]/ul/li/h3')][:100]"
   ]
  },
  {
   "cell_type": "code",
   "execution_count": 18,
   "id": "8b7d7ed1",
   "metadata": {},
   "outputs": [
    {
     "data": {
      "text/plain": [
       "100"
      ]
     },
     "execution_count": 18,
     "metadata": {},
     "output_type": "execute_result"
    }
   ],
   "source": [
    "len(song_name)"
   ]
  },
  {
   "cell_type": "code",
   "execution_count": 33,
   "id": "00f94bf6",
   "metadata": {},
   "outputs": [],
   "source": [
    "#Scraping data of artist name\n",
    "artist_name = [i.text for i in driver.find_elements(By.XPATH,'//div[@class=\"o-chart-results-list-row-container\"]/ul/li[4]/ul/li/span')][:400:4]"
   ]
  },
  {
   "cell_type": "code",
   "execution_count": 34,
   "id": "9553a3e0",
   "metadata": {},
   "outputs": [
    {
     "data": {
      "text/plain": [
       "100"
      ]
     },
     "execution_count": 34,
     "metadata": {},
     "output_type": "execute_result"
    }
   ],
   "source": [
    "len(artist_name)"
   ]
  },
  {
   "cell_type": "code",
   "execution_count": 35,
   "id": "96597cf2",
   "metadata": {},
   "outputs": [
    {
     "name": "stdout",
     "output_type": "stream",
     "text": [
      "['Doja Cat', 'Zach Bryan Featuring Kacey Musgraves', 'Luke Combs', 'Taylor Swift', 'Morgan Wallen', 'Dua Lipa', 'SZA', 'Gunna', 'Olivia Rodrigo', 'Rema & Selena Gomez', 'Oliver Anthony Music', 'Nicki Minaj & Ice Spice With Aqua', 'Miley Cyrus', 'Lil Durk Featuring J. Cole', 'Bailey Zimmerman', 'Miley Cyrus', 'Zach Bryan Featuring The War And Treaty', 'Jelly Roll', 'Morgan Wallen', 'Taylor Swift', 'SZA', 'Billie Eilish', 'Nicki Minaj', 'Taylor Swift Featuring Ice Spice', 'Metro Boomin, The Weeknd & 21 Savage', 'Olivia Rodrigo', 'Travis Scott Featuring Drake', 'Noah Kahan With Post Malone', 'Zach Bryan', 'Jason Aldean', 'Karol G & Peso Pluma', 'Luke Combs', 'Lainey Wilson', 'Travis Scott', 'Zach Bryan Featuring The Lumineers', 'Kane Brown', 'Jung Kook Featuring Latto', 'Jimmy Buffett', 'Selena Gomez', 'Zach Bryan', 'Doechii Featuring Kodak Black', 'David Kushner', 'Karol G', 'Myke Towers', 'Fifty Fifty', 'Doja Cat', 'Peso Pluma, Gabito Ballesteros & Junior H', 'Zach Bryan', 'Zach Bryan', 'Travis Scott Featuring SZA & Future', 'Young Nudy Featuring 21 Savage', 'Zach Bryan', 'Zach Bryan', 'Travis Scott Featuring Playboi Carti', 'Zach Bryan', 'Rod Wave', 'Chris Stapleton', 'Usher, Summer Walker & 21 Savage', 'HARDY', 'Ice Spice', 'Calle 24 x Chino Pacas x Fuerza Regida', 'Tim McGraw', 'Zach Bryan', 'Morgan Wallen', 'Tyler Childers', 'The Weeknd, Playboi Carti & Madonna', 'Sexyy Red', 'Latto Featuring Cardi B', 'Zach Bryan Featuring Sierra Ferrell', 'Fuerza Regida', 'Peso Pluma & Grupo Frontera', 'Bad Bunny', 'Thomas Rhett', 'Travis Scott, Bad Bunny & The Weeknd', 'That Mexican OT, Paul Wall & DRODi', 'Young Thug Featuring Drake', 'Zach Bryan Featuring Maggie Rogers', 'Zach Bryan', 'Jelly Roll With Lainey Wilson', 'Zach Bryan', 'Teddy Swims', 'Zach Bryan', 'DaBaby', 'Timbaland, Nelly Furtado & Justin Timberlake', 'Kaliii', 'Burna Boy', 'Warren Zeiders', 'Zach Bryan', 'Fuerza Regida', 'Tyler, The Creator Featuring Kali Uchis', 'Karol G', 'Parmalee', 'Grupo Frontera & Grupo Firme', 'Chris Brown', 'Peso Pluma', 'Lil Durk Featuring Morgan Wallen', 'Rod Wave', 'Jon Pardi', 'Carin Leon', 'Karol G']\n"
     ]
    }
   ],
   "source": [
    "print(artist_name)"
   ]
  },
  {
   "cell_type": "code",
   "execution_count": 42,
   "id": "c2f8144d",
   "metadata": {},
   "outputs": [],
   "source": [
    "#Scraping data of last_week_rank\n",
    "last_week_rank = [i.text for i in driver.find_elements(By.XPATH,'//div[@class=\"o-chart-results-list-row-container\"]/ul/li[4]/ul/li[4]')]"
   ]
  },
  {
   "cell_type": "code",
   "execution_count": 43,
   "id": "f45b340a",
   "metadata": {},
   "outputs": [
    {
     "data": {
      "text/plain": [
       "100"
      ]
     },
     "execution_count": 43,
     "metadata": {},
     "output_type": "execute_result"
    }
   ],
   "source": [
    "len(last_week_rank)"
   ]
  },
  {
   "cell_type": "code",
   "execution_count": 44,
   "id": "791fc7b5",
   "metadata": {},
   "outputs": [
    {
     "name": "stdout",
     "output_type": "stream",
     "text": [
      "['3', '1', '2', '5', '4', '9', '7', '10', '12', '11', '6', '13', '15', '16', '21', '8', '14', '26', '34', '32', '27', '30', '-', '25', '33', '35', '36', '42', '20', '45', '43', '40', '46', '49', '17', '51', '28', '-', '19', '18', '53', '52', '50', '54', '48', '-', '56', '24', '31', '55', '59', '29', '23', '58', '22', '-', '63', '65', '68', '64', '-', '62', '38', '73', '83', '71', '-', '60', '37', '74', '70', '66', '77', '67', '75', '81', '76', '41', '84', '88', '82', '44', '78', '-', '79', '80', '92', '47', '91', '87', '90', '99', '-', '96', '100', '93', '85', '72', '97', '86']\n"
     ]
    }
   ],
   "source": [
    "print(last_week_rank)"
   ]
  },
  {
   "cell_type": "code",
   "execution_count": 45,
   "id": "473c2fb0",
   "metadata": {},
   "outputs": [],
   "source": [
    "#Scraping data of peak_rank\n",
    "peak_rank = [i.text for i in driver.find_elements(By.XPATH,'//div[@class=\"o-chart-results-list-row-container\"]/ul/li[4]/ul/li[5]')]"
   ]
  },
  {
   "cell_type": "code",
   "execution_count": 46,
   "id": "ee67f817",
   "metadata": {},
   "outputs": [
    {
     "data": {
      "text/plain": [
       "100"
      ]
     },
     "execution_count": 46,
     "metadata": {},
     "output_type": "execute_result"
    }
   ],
   "source": [
    "len(peak_rank)"
   ]
  },
  {
   "cell_type": "code",
   "execution_count": 49,
   "id": "d0a7eddd",
   "metadata": {},
   "outputs": [],
   "source": [
    "#Scraping data of weeks_on_board\n",
    "wkson_board = [i.text for i in driver.find_elements(By.XPATH,'//div[@class=\"o-chart-results-list-row-container\"]/ul/li[4]/ul/li[6]')]"
   ]
  },
  {
   "cell_type": "code",
   "execution_count": 50,
   "id": "80728084",
   "metadata": {},
   "outputs": [
    {
     "data": {
      "text/plain": [
       "100"
      ]
     },
     "execution_count": 50,
     "metadata": {},
     "output_type": "execute_result"
    }
   ],
   "source": [
    "len(wkson_board)"
   ]
  },
  {
   "cell_type": "code",
   "execution_count": 51,
   "id": "a6b8f645",
   "metadata": {},
   "outputs": [],
   "source": [
    "data=list(zip(song_name,artist_name,last_week_rank,peak_rank,wkson_board))"
   ]
  },
  {
   "cell_type": "code",
   "execution_count": 53,
   "id": "7944a932",
   "metadata": {},
   "outputs": [],
   "source": [
    "df=pd.DataFrame(data,columns=['SONG_NAME','ARTIST_NAME','LAST_WEEK_RANK','PEAK_RANK','WEEKS_ON_BOARD'])"
   ]
  },
  {
   "cell_type": "code",
   "execution_count": 54,
   "id": "4cbc12c2",
   "metadata": {},
   "outputs": [
    {
     "data": {
      "text/html": [
       "<div>\n",
       "<style scoped>\n",
       "    .dataframe tbody tr th:only-of-type {\n",
       "        vertical-align: middle;\n",
       "    }\n",
       "\n",
       "    .dataframe tbody tr th {\n",
       "        vertical-align: top;\n",
       "    }\n",
       "\n",
       "    .dataframe thead th {\n",
       "        text-align: right;\n",
       "    }\n",
       "</style>\n",
       "<table border=\"1\" class=\"dataframe\">\n",
       "  <thead>\n",
       "    <tr style=\"text-align: right;\">\n",
       "      <th></th>\n",
       "      <th>SONG_NAME</th>\n",
       "      <th>ARTIST_NAME</th>\n",
       "      <th>LAST_WEEK_RANK</th>\n",
       "      <th>PEAK_RANK</th>\n",
       "      <th>WEEKS_ON_BOARD</th>\n",
       "    </tr>\n",
       "  </thead>\n",
       "  <tbody>\n",
       "    <tr>\n",
       "      <th>0</th>\n",
       "      <td>Paint The Town Red</td>\n",
       "      <td>Doja Cat</td>\n",
       "      <td>3</td>\n",
       "      <td>1</td>\n",
       "      <td>5</td>\n",
       "    </tr>\n",
       "    <tr>\n",
       "      <th>1</th>\n",
       "      <td>I Remember Everything</td>\n",
       "      <td>Zach Bryan Featuring Kacey Musgraves</td>\n",
       "      <td>1</td>\n",
       "      <td>1</td>\n",
       "      <td>2</td>\n",
       "    </tr>\n",
       "    <tr>\n",
       "      <th>2</th>\n",
       "      <td>Fast Car</td>\n",
       "      <td>Luke Combs</td>\n",
       "      <td>2</td>\n",
       "      <td>2</td>\n",
       "      <td>24</td>\n",
       "    </tr>\n",
       "    <tr>\n",
       "      <th>3</th>\n",
       "      <td>Cruel Summer</td>\n",
       "      <td>Taylor Swift</td>\n",
       "      <td>5</td>\n",
       "      <td>3</td>\n",
       "      <td>18</td>\n",
       "    </tr>\n",
       "    <tr>\n",
       "      <th>4</th>\n",
       "      <td>Last Night</td>\n",
       "      <td>Morgan Wallen</td>\n",
       "      <td>4</td>\n",
       "      <td>1</td>\n",
       "      <td>32</td>\n",
       "    </tr>\n",
       "    <tr>\n",
       "      <th>...</th>\n",
       "      <td>...</td>\n",
       "      <td>...</td>\n",
       "      <td>...</td>\n",
       "      <td>...</td>\n",
       "      <td>...</td>\n",
       "    </tr>\n",
       "    <tr>\n",
       "      <th>95</th>\n",
       "      <td>Stand By Me</td>\n",
       "      <td>Lil Durk Featuring Morgan Wallen</td>\n",
       "      <td>93</td>\n",
       "      <td>22</td>\n",
       "      <td>15</td>\n",
       "    </tr>\n",
       "    <tr>\n",
       "      <th>96</th>\n",
       "      <td>Call Your Friends</td>\n",
       "      <td>Rod Wave</td>\n",
       "      <td>85</td>\n",
       "      <td>26</td>\n",
       "      <td>3</td>\n",
       "    </tr>\n",
       "    <tr>\n",
       "      <th>97</th>\n",
       "      <td>Your Heart Or Mine</td>\n",
       "      <td>Jon Pardi</td>\n",
       "      <td>72</td>\n",
       "      <td>47</td>\n",
       "      <td>17</td>\n",
       "    </tr>\n",
       "    <tr>\n",
       "      <th>98</th>\n",
       "      <td>Primera Cita</td>\n",
       "      <td>Carin Leon</td>\n",
       "      <td>97</td>\n",
       "      <td>97</td>\n",
       "      <td>2</td>\n",
       "    </tr>\n",
       "    <tr>\n",
       "      <th>99</th>\n",
       "      <td>S91</td>\n",
       "      <td>Karol G</td>\n",
       "      <td>86</td>\n",
       "      <td>45</td>\n",
       "      <td>6</td>\n",
       "    </tr>\n",
       "  </tbody>\n",
       "</table>\n",
       "<p>100 rows × 5 columns</p>\n",
       "</div>"
      ],
      "text/plain": [
       "                SONG_NAME                           ARTIST_NAME  \\\n",
       "0      Paint The Town Red                              Doja Cat   \n",
       "1   I Remember Everything  Zach Bryan Featuring Kacey Musgraves   \n",
       "2                Fast Car                            Luke Combs   \n",
       "3            Cruel Summer                          Taylor Swift   \n",
       "4              Last Night                         Morgan Wallen   \n",
       "..                    ...                                   ...   \n",
       "95            Stand By Me      Lil Durk Featuring Morgan Wallen   \n",
       "96      Call Your Friends                              Rod Wave   \n",
       "97     Your Heart Or Mine                             Jon Pardi   \n",
       "98           Primera Cita                            Carin Leon   \n",
       "99                    S91                               Karol G   \n",
       "\n",
       "   LAST_WEEK_RANK PEAK_RANK WEEKS_ON_BOARD  \n",
       "0               3         1              5  \n",
       "1               1         1              2  \n",
       "2               2         2             24  \n",
       "3               5         3             18  \n",
       "4               4         1             32  \n",
       "..            ...       ...            ...  \n",
       "95             93        22             15  \n",
       "96             85        26              3  \n",
       "97             72        47             17  \n",
       "98             97        97              2  \n",
       "99             86        45              6  \n",
       "\n",
       "[100 rows x 5 columns]"
      ]
     },
     "execution_count": 54,
     "metadata": {},
     "output_type": "execute_result"
    }
   ],
   "source": [
    "df"
   ]
  },
  {
   "cell_type": "code",
   "execution_count": null,
   "id": "dcdac115",
   "metadata": {},
   "outputs": [],
   "source": [
    "#question 6"
   ]
  },
  {
   "cell_type": "code",
   "execution_count": 55,
   "id": "d203868d",
   "metadata": {},
   "outputs": [],
   "source": [
    "# to get web drivers\n",
    "driver=webdriver.Chrome()\n",
    "time.sleep(2)\n",
    "\n",
    "# Opening the theguardian.com\n",
    "url = \"https://www.theguardian.com/news/datablog/2012/aug/09/best-selling-books-all-time-fifty-shades-grey-compare\"\n",
    "driver.get(url)\n",
    "time.sleep(2)"
   ]
  },
  {
   "cell_type": "code",
   "execution_count": 60,
   "id": "c43917aa",
   "metadata": {},
   "outputs": [],
   "source": [
    "#scraping data of book names\n",
    "book_name=[i.text for i in driver.find_elements(By.XPATH,'//table[@class=\"in-article sortable\"]/tbody/tr/td[2]')]\n",
    "\n",
    "#Scraping data of author names\n",
    "author_name=[i.text for i in driver.find_elements(By.XPATH,'//table[@class=\"in-article sortable\"]/tbody/tr/td[3]')]\n",
    "\n",
    "#Scraping data of volumes sold\n",
    "volume_sold=[i.text for i in driver.find_elements(By.XPATH,'//table[@class=\"in-article sortable\"]/tbody/tr/td[4]')]\n",
    "\n",
    "#Scraping data of publisher names\n",
    "publisher_name=[i.text for i in driver.find_elements(By.XPATH,'//table[@class=\"in-article sortable\"]/tbody/tr/td[5]')]\n",
    "\n",
    "#Scraping data of genre\n",
    "genre=[i.text for i in driver.find_elements(By.XPATH,'//table[@class=\"in-article sortable\"]/tbody/tr/td[6]')]"
   ]
  },
  {
   "cell_type": "code",
   "execution_count": 62,
   "id": "3aef69c7",
   "metadata": {},
   "outputs": [
    {
     "data": {
      "text/plain": [
       "(100, 100, 100, 100, 100)"
      ]
     },
     "execution_count": 62,
     "metadata": {},
     "output_type": "execute_result"
    }
   ],
   "source": [
    "len(book_name),len(author_name),len(volume_sold),len(publisher_name),len(genre)"
   ]
  },
  {
   "cell_type": "code",
   "execution_count": 63,
   "id": "dfaa37e4",
   "metadata": {},
   "outputs": [],
   "source": [
    "data=list(zip(book_name,author_name,volume_sold,publisher_name,genre))"
   ]
  },
  {
   "cell_type": "code",
   "execution_count": 64,
   "id": "d6a69e85",
   "metadata": {},
   "outputs": [],
   "source": [
    "df=pd.DataFrame(data,columns=['BOOK_NAME','AUTHOR_NAME','VOLUMES_SOLD','PUBLISHER_NAME','GENRE'])"
   ]
  },
  {
   "cell_type": "code",
   "execution_count": 65,
   "id": "d81bd48f",
   "metadata": {},
   "outputs": [
    {
     "data": {
      "text/html": [
       "<div>\n",
       "<style scoped>\n",
       "    .dataframe tbody tr th:only-of-type {\n",
       "        vertical-align: middle;\n",
       "    }\n",
       "\n",
       "    .dataframe tbody tr th {\n",
       "        vertical-align: top;\n",
       "    }\n",
       "\n",
       "    .dataframe thead th {\n",
       "        text-align: right;\n",
       "    }\n",
       "</style>\n",
       "<table border=\"1\" class=\"dataframe\">\n",
       "  <thead>\n",
       "    <tr style=\"text-align: right;\">\n",
       "      <th></th>\n",
       "      <th>BOOK_NAME</th>\n",
       "      <th>AUTHOR_NAME</th>\n",
       "      <th>VOLUMES_SOLD</th>\n",
       "      <th>PUBLISHER_NAME</th>\n",
       "      <th>GENRE</th>\n",
       "    </tr>\n",
       "  </thead>\n",
       "  <tbody>\n",
       "    <tr>\n",
       "      <th>0</th>\n",
       "      <td>Da Vinci Code,The</td>\n",
       "      <td>Brown, Dan</td>\n",
       "      <td>5,094,805</td>\n",
       "      <td>Transworld</td>\n",
       "      <td>Crime, Thriller &amp; Adventure</td>\n",
       "    </tr>\n",
       "    <tr>\n",
       "      <th>1</th>\n",
       "      <td>Harry Potter and the Deathly Hallows</td>\n",
       "      <td>Rowling, J.K.</td>\n",
       "      <td>4,475,152</td>\n",
       "      <td>Bloomsbury</td>\n",
       "      <td>Children's Fiction</td>\n",
       "    </tr>\n",
       "    <tr>\n",
       "      <th>2</th>\n",
       "      <td>Harry Potter and the Philosopher's Stone</td>\n",
       "      <td>Rowling, J.K.</td>\n",
       "      <td>4,200,654</td>\n",
       "      <td>Bloomsbury</td>\n",
       "      <td>Children's Fiction</td>\n",
       "    </tr>\n",
       "    <tr>\n",
       "      <th>3</th>\n",
       "      <td>Harry Potter and the Order of the Phoenix</td>\n",
       "      <td>Rowling, J.K.</td>\n",
       "      <td>4,179,479</td>\n",
       "      <td>Bloomsbury</td>\n",
       "      <td>Children's Fiction</td>\n",
       "    </tr>\n",
       "    <tr>\n",
       "      <th>4</th>\n",
       "      <td>Fifty Shades of Grey</td>\n",
       "      <td>James, E. L.</td>\n",
       "      <td>3,758,936</td>\n",
       "      <td>Random House</td>\n",
       "      <td>Romance &amp; Sagas</td>\n",
       "    </tr>\n",
       "    <tr>\n",
       "      <th>...</th>\n",
       "      <td>...</td>\n",
       "      <td>...</td>\n",
       "      <td>...</td>\n",
       "      <td>...</td>\n",
       "      <td>...</td>\n",
       "    </tr>\n",
       "    <tr>\n",
       "      <th>95</th>\n",
       "      <td>Ghost,The</td>\n",
       "      <td>Harris, Robert</td>\n",
       "      <td>807,311</td>\n",
       "      <td>Random House</td>\n",
       "      <td>General &amp; Literary Fiction</td>\n",
       "    </tr>\n",
       "    <tr>\n",
       "      <th>96</th>\n",
       "      <td>Happy Days with the Naked Chef</td>\n",
       "      <td>Oliver, Jamie</td>\n",
       "      <td>794,201</td>\n",
       "      <td>Penguin</td>\n",
       "      <td>Food &amp; Drink: General</td>\n",
       "    </tr>\n",
       "    <tr>\n",
       "      <th>97</th>\n",
       "      <td>Hunger Games,The:Hunger Games Trilogy</td>\n",
       "      <td>Collins, Suzanne</td>\n",
       "      <td>792,187</td>\n",
       "      <td>Scholastic Ltd.</td>\n",
       "      <td>Young Adult Fiction</td>\n",
       "    </tr>\n",
       "    <tr>\n",
       "      <th>98</th>\n",
       "      <td>Lost Boy,The:A Foster Child's Search for the L...</td>\n",
       "      <td>Pelzer, Dave</td>\n",
       "      <td>791,507</td>\n",
       "      <td>Orion</td>\n",
       "      <td>Biography: General</td>\n",
       "    </tr>\n",
       "    <tr>\n",
       "      <th>99</th>\n",
       "      <td>Jamie's Ministry of Food:Anyone Can Learn to C...</td>\n",
       "      <td>Oliver, Jamie</td>\n",
       "      <td>791,095</td>\n",
       "      <td>Penguin</td>\n",
       "      <td>Food &amp; Drink: General</td>\n",
       "    </tr>\n",
       "  </tbody>\n",
       "</table>\n",
       "<p>100 rows × 5 columns</p>\n",
       "</div>"
      ],
      "text/plain": [
       "                                            BOOK_NAME       AUTHOR_NAME  \\\n",
       "0                                   Da Vinci Code,The        Brown, Dan   \n",
       "1                Harry Potter and the Deathly Hallows     Rowling, J.K.   \n",
       "2            Harry Potter and the Philosopher's Stone     Rowling, J.K.   \n",
       "3           Harry Potter and the Order of the Phoenix     Rowling, J.K.   \n",
       "4                                Fifty Shades of Grey      James, E. L.   \n",
       "..                                                ...               ...   \n",
       "95                                          Ghost,The    Harris, Robert   \n",
       "96                     Happy Days with the Naked Chef     Oliver, Jamie   \n",
       "97              Hunger Games,The:Hunger Games Trilogy  Collins, Suzanne   \n",
       "98  Lost Boy,The:A Foster Child's Search for the L...      Pelzer, Dave   \n",
       "99  Jamie's Ministry of Food:Anyone Can Learn to C...     Oliver, Jamie   \n",
       "\n",
       "   VOLUMES_SOLD   PUBLISHER_NAME                        GENRE  \n",
       "0     5,094,805       Transworld  Crime, Thriller & Adventure  \n",
       "1     4,475,152       Bloomsbury           Children's Fiction  \n",
       "2     4,200,654       Bloomsbury           Children's Fiction  \n",
       "3     4,179,479       Bloomsbury           Children's Fiction  \n",
       "4     3,758,936     Random House              Romance & Sagas  \n",
       "..          ...              ...                          ...  \n",
       "95      807,311     Random House   General & Literary Fiction  \n",
       "96      794,201          Penguin        Food & Drink: General  \n",
       "97      792,187  Scholastic Ltd.          Young Adult Fiction  \n",
       "98      791,507            Orion           Biography: General  \n",
       "99      791,095          Penguin        Food & Drink: General  \n",
       "\n",
       "[100 rows x 5 columns]"
      ]
     },
     "execution_count": 65,
     "metadata": {},
     "output_type": "execute_result"
    }
   ],
   "source": [
    "df"
   ]
  },
  {
   "cell_type": "code",
   "execution_count": null,
   "id": "15473ac3",
   "metadata": {},
   "outputs": [],
   "source": [
    "#question 7"
   ]
  },
  {
   "cell_type": "code",
   "execution_count": 66,
   "id": "b14a7024",
   "metadata": {},
   "outputs": [],
   "source": [
    "# to get web drivers\n",
    "driver=webdriver.Chrome()\n",
    "time.sleep(2)\n",
    "\n",
    "# Opening the imdb.com\n",
    "url = \"http://www.imdb.com/list/ls095964455/\"\n",
    "driver.get(url)\n",
    "time.sleep(2)"
   ]
  },
  {
   "cell_type": "code",
   "execution_count": 67,
   "id": "35de5a68",
   "metadata": {},
   "outputs": [],
   "source": [
    "#scraping data of book names\n",
    "movie_name=[i.text for i in driver.find_elements(By.XPATH,'//div[@class=\"lister-item-content\"]/h3//a')]\n",
    "\n",
    "#Scraping data of year\n",
    "year=[i.text for i in driver.find_elements(By.XPATH,'//div[@class=\"lister-item-content\"]/h3/span[2]')]\n",
    "\n",
    "#Scraping data of genre\n",
    "genre=[i.text for i in driver.find_elements(By.XPATH,'//span[@class=\"genre\"]')]\n",
    "\n",
    "#Scraping data of run_time\n",
    "run_time=[i.text for i in driver.find_elements(By.XPATH,'//span[@class=\"runtime\"]')]\n",
    "\n",
    "#Scraping data of ratings\n",
    "ratings=[i.text for i in driver.find_elements(By.XPATH,'//div[@class=\"ipl-rating-star small\"]')]\n",
    "\n",
    "#Scraping data of votes\n",
    "votes=[i.text for i in driver.find_elements(By.XPATH,'//span[@name=\"nv\"]')]"
   ]
  },
  {
   "cell_type": "code",
   "execution_count": 68,
   "id": "2015b657",
   "metadata": {},
   "outputs": [
    {
     "data": {
      "text/plain": [
       "(100, 100, 100, 100, 100, 100)"
      ]
     },
     "execution_count": 68,
     "metadata": {},
     "output_type": "execute_result"
    }
   ],
   "source": [
    "len(movie_name),len(year),len(genre),len(run_time),len(ratings),len(votes)"
   ]
  },
  {
   "cell_type": "code",
   "execution_count": 69,
   "id": "dcab04c5",
   "metadata": {},
   "outputs": [],
   "source": [
    "data=list(zip(movie_name,year,genre,run_time,ratings,votes))"
   ]
  },
  {
   "cell_type": "code",
   "execution_count": 70,
   "id": "deba20b8",
   "metadata": {},
   "outputs": [],
   "source": [
    "df=pd.DataFrame(data,columns=['MOVIE_NAME','YEAR','GENRE','RUN_TIME','RATINGS','VOTES'])"
   ]
  },
  {
   "cell_type": "code",
   "execution_count": 71,
   "id": "a0e5370a",
   "metadata": {},
   "outputs": [
    {
     "data": {
      "text/html": [
       "<div>\n",
       "<style scoped>\n",
       "    .dataframe tbody tr th:only-of-type {\n",
       "        vertical-align: middle;\n",
       "    }\n",
       "\n",
       "    .dataframe tbody tr th {\n",
       "        vertical-align: top;\n",
       "    }\n",
       "\n",
       "    .dataframe thead th {\n",
       "        text-align: right;\n",
       "    }\n",
       "</style>\n",
       "<table border=\"1\" class=\"dataframe\">\n",
       "  <thead>\n",
       "    <tr style=\"text-align: right;\">\n",
       "      <th></th>\n",
       "      <th>MOVIE_NAME</th>\n",
       "      <th>YEAR</th>\n",
       "      <th>GENRE</th>\n",
       "      <th>RUN_TIME</th>\n",
       "      <th>RATINGS</th>\n",
       "      <th>VOTES</th>\n",
       "    </tr>\n",
       "  </thead>\n",
       "  <tbody>\n",
       "    <tr>\n",
       "      <th>0</th>\n",
       "      <td>Game of Thrones</td>\n",
       "      <td>(2011–2019)</td>\n",
       "      <td>Action, Adventure, Drama</td>\n",
       "      <td>57 min</td>\n",
       "      <td>9.2</td>\n",
       "      <td>2,204,314</td>\n",
       "    </tr>\n",
       "    <tr>\n",
       "      <th>1</th>\n",
       "      <td>Stranger Things</td>\n",
       "      <td>(2016–2025)</td>\n",
       "      <td>Drama, Fantasy, Horror</td>\n",
       "      <td>51 min</td>\n",
       "      <td>8.7</td>\n",
       "      <td>1,275,833</td>\n",
       "    </tr>\n",
       "    <tr>\n",
       "      <th>2</th>\n",
       "      <td>The Walking Dead</td>\n",
       "      <td>(2010–2022)</td>\n",
       "      <td>Drama, Horror, Thriller</td>\n",
       "      <td>44 min</td>\n",
       "      <td>8.1</td>\n",
       "      <td>1,045,925</td>\n",
       "    </tr>\n",
       "    <tr>\n",
       "      <th>3</th>\n",
       "      <td>13 Reasons Why</td>\n",
       "      <td>(2017–2020)</td>\n",
       "      <td>Drama, Mystery, Thriller</td>\n",
       "      <td>60 min</td>\n",
       "      <td>7.5</td>\n",
       "      <td>307,369</td>\n",
       "    </tr>\n",
       "    <tr>\n",
       "      <th>4</th>\n",
       "      <td>The 100</td>\n",
       "      <td>(2014–2020)</td>\n",
       "      <td>Drama, Mystery, Sci-Fi</td>\n",
       "      <td>43 min</td>\n",
       "      <td>7.6</td>\n",
       "      <td>266,467</td>\n",
       "    </tr>\n",
       "    <tr>\n",
       "      <th>...</th>\n",
       "      <td>...</td>\n",
       "      <td>...</td>\n",
       "      <td>...</td>\n",
       "      <td>...</td>\n",
       "      <td>...</td>\n",
       "      <td>...</td>\n",
       "    </tr>\n",
       "    <tr>\n",
       "      <th>95</th>\n",
       "      <td>Reign</td>\n",
       "      <td>(2013–2017)</td>\n",
       "      <td>Drama</td>\n",
       "      <td>42 min</td>\n",
       "      <td>7.5</td>\n",
       "      <td>52,729</td>\n",
       "    </tr>\n",
       "    <tr>\n",
       "      <th>96</th>\n",
       "      <td>A Series of Unfortunate Events</td>\n",
       "      <td>(2017–2019)</td>\n",
       "      <td>Adventure, Comedy, Drama</td>\n",
       "      <td>50 min</td>\n",
       "      <td>7.8</td>\n",
       "      <td>64,783</td>\n",
       "    </tr>\n",
       "    <tr>\n",
       "      <th>97</th>\n",
       "      <td>Criminal Minds</td>\n",
       "      <td>(2005– )</td>\n",
       "      <td>Crime, Drama, Mystery</td>\n",
       "      <td>42 min</td>\n",
       "      <td>8.1</td>\n",
       "      <td>211,059</td>\n",
       "    </tr>\n",
       "    <tr>\n",
       "      <th>98</th>\n",
       "      <td>Scream: The TV Series</td>\n",
       "      <td>(2015–2019)</td>\n",
       "      <td>Comedy, Crime, Drama</td>\n",
       "      <td>45 min</td>\n",
       "      <td>7</td>\n",
       "      <td>43,902</td>\n",
       "    </tr>\n",
       "    <tr>\n",
       "      <th>99</th>\n",
       "      <td>The Haunting of Hill House</td>\n",
       "      <td>(2018)</td>\n",
       "      <td>Drama, Horror, Mystery</td>\n",
       "      <td>572 min</td>\n",
       "      <td>8.6</td>\n",
       "      <td>266,022</td>\n",
       "    </tr>\n",
       "  </tbody>\n",
       "</table>\n",
       "<p>100 rows × 6 columns</p>\n",
       "</div>"
      ],
      "text/plain": [
       "                        MOVIE_NAME         YEAR                     GENRE  \\\n",
       "0                  Game of Thrones  (2011–2019)  Action, Adventure, Drama   \n",
       "1                  Stranger Things  (2016–2025)    Drama, Fantasy, Horror   \n",
       "2                 The Walking Dead  (2010–2022)   Drama, Horror, Thriller   \n",
       "3                   13 Reasons Why  (2017–2020)  Drama, Mystery, Thriller   \n",
       "4                          The 100  (2014–2020)    Drama, Mystery, Sci-Fi   \n",
       "..                             ...          ...                       ...   \n",
       "95                           Reign  (2013–2017)                     Drama   \n",
       "96  A Series of Unfortunate Events  (2017–2019)  Adventure, Comedy, Drama   \n",
       "97                  Criminal Minds     (2005– )     Crime, Drama, Mystery   \n",
       "98           Scream: The TV Series  (2015–2019)      Comedy, Crime, Drama   \n",
       "99      The Haunting of Hill House       (2018)    Drama, Horror, Mystery   \n",
       "\n",
       "   RUN_TIME RATINGS      VOTES  \n",
       "0    57 min     9.2  2,204,314  \n",
       "1    51 min     8.7  1,275,833  \n",
       "2    44 min     8.1  1,045,925  \n",
       "3    60 min     7.5    307,369  \n",
       "4    43 min     7.6    266,467  \n",
       "..      ...     ...        ...  \n",
       "95   42 min     7.5     52,729  \n",
       "96   50 min     7.8     64,783  \n",
       "97   42 min     8.1    211,059  \n",
       "98   45 min       7     43,902  \n",
       "99  572 min     8.6    266,022  \n",
       "\n",
       "[100 rows x 6 columns]"
      ]
     },
     "execution_count": 71,
     "metadata": {},
     "output_type": "execute_result"
    }
   ],
   "source": [
    "df"
   ]
  },
  {
   "cell_type": "code",
   "execution_count": 73,
   "id": "a0dd8409",
   "metadata": {},
   "outputs": [],
   "source": [
    "#question 8"
   ]
  },
  {
   "cell_type": "code",
   "execution_count": 74,
   "id": "88d4d334",
   "metadata": {},
   "outputs": [],
   "source": []
  }
 ],
 "metadata": {
  "kernelspec": {
   "display_name": "Python 3 (ipykernel)",
   "language": "python",
   "name": "python3"
  },
  "language_info": {
   "codemirror_mode": {
    "name": "ipython",
    "version": 3
   },
   "file_extension": ".py",
   "mimetype": "text/x-python",
   "name": "python",
   "nbconvert_exporter": "python",
   "pygments_lexer": "ipython3",
   "version": "3.9.13"
  }
 },
 "nbformat": 4,
 "nbformat_minor": 5
}
