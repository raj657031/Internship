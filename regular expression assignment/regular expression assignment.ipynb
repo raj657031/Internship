{
 "cells": [
  {
   "cell_type": "code",
   "execution_count": 21,
   "id": "b1376c5f",
   "metadata": {
    "scrolled": true
   },
   "outputs": [
    {
     "name": "stdout",
     "output_type": "stream",
     "text": [
      "Python:Exercises::PHP:exercises:\n"
     ]
    }
   ],
   "source": [
    "#question1\n",
    "text= 'Python Exercises, PHP exercises.'\n",
    "print(re.sub(\"[ .,]\",\":\",text))"
   ]
  },
  {
   "cell_type": "code",
   "execution_count": 4,
   "id": "85d2ac93",
   "metadata": {},
   "outputs": [
    {
     "name": "stdout",
     "output_type": "stream",
     "text": [
      "['an', 'adventurous', 'archaeologist', 'earthed', 'an', 'ancient', 'artifact', 'an', 'eager', 'entomologist', 'eagerly', 'examined', 'exotic', 'ects', 'enigmatic', 'est', 'excitedly', 'ering', 'exceptional', 'ecies', 'and', 'amazing', 'eries']\n"
     ]
    }
   ],
   "source": [
    "#question2\n",
    "text= \"Astonishingly, an adventurous archaeologist unearthed an ancient artifact, while an eager entomologist eagerly examined exotic insects in the enigmatic forest, excitedly discovering exceptional species and amazing mysteries.\"\n",
    "list=re.findall(\"[ae]\\w+\",text)\n",
    "print(list)"
   ]
  },
  {
   "cell_type": "code",
   "execution_count": 30,
   "id": "0811853d",
   "metadata": {},
   "outputs": [
    {
     "name": "stdout",
     "output_type": "stream",
     "text": [
      "['Jump', 'over', 'lazy', 'fast']\n"
     ]
    }
   ],
   "source": [
    "#question3\n",
    "text= \"Jump over the lazy dog and run fast now.\"\n",
    "pattern=r\"\\w{4}\"\n",
    "reg= re.compile(pattern)\n",
    "result=reg.findall(text)\n",
    "print(result)"
   ]
  },
  {
   "cell_type": "code",
   "execution_count": 17,
   "id": "430c873a",
   "metadata": {},
   "outputs": [
    {
     "name": "stdout",
     "output_type": "stream",
     "text": [
      "['Tom', 'has', 'six', 'cats', 'and', 'two', 'dogs', 'The', 'red', 'car', 'near', 'the', 'tall', 'trees']\n"
     ]
    }
   ],
   "source": [
    "#question4\n",
    "import re\n",
    "text = \"Tom has six cats and two dogs. The red car parked near the tall trees.\"\n",
    "pattern=r\"\\b\\w{3,5}\\b\"\n",
    "regpattern=re.compile(pattern)\n",
    "result=regpattern.findall(text\n",
    "print(result)"
   ]
  },
  {
   "cell_type": "code",
   "execution_count": 68,
   "id": "6a41e5d4",
   "metadata": {},
   "outputs": [
    {
     "name": "stdout",
     "output_type": "stream",
     "text": [
      "example.com\n",
      "hr@fliprobo.com\n",
      "github.com\n",
      "Hello Data Science World\n",
      "Data Scientist\n"
     ]
    }
   ],
   "source": [
    "#question5\n",
    "import re\n",
    "data=[\"example(.com)\",\"hr@fliprobo(.com)\",\"github(.com)\",\"Hello (Data Science World)\",\"Data (Scientist)\"]  \n",
    "pattern=r\"[(|)]\"\n",
    "reg= re.compile(pattern)\n",
    "for i in data:\n",
    "    print(re.sub(reg, \"\" ,i))"
   ]
  },
  {
   "cell_type": "code",
   "execution_count": 33,
   "id": "6808108c",
   "metadata": {},
   "outputs": [
    {
     "name": "stdout",
     "output_type": "stream",
     "text": [
      "example\n",
      "hr@fliprobo\n",
      "github\n",
      "Hello\n",
      "Data\n"
     ]
    }
   ],
   "source": [
    "#question6\n",
    "import re\n",
    "data=[\"example(.com)\",  \"hr@fliprobo(.com)\",  \"github(.com)\",  \"Hello (Data Science World)\",  \"Data (Scientist)\"] \n",
    "reg=r\" ?\\(\\.?[^)]+\\)\"\n",
    "for i in data:\n",
    "    print(re.sub(reg,\"\",i))"
   ]
  },
  {
   "cell_type": "code",
   "execution_count": 67,
   "id": "369d8936",
   "metadata": {},
   "outputs": [
    {
     "name": "stdout",
     "output_type": "stream",
     "text": [
      "['Importance', 'Of', 'Regular', 'Expressions', 'In', 'Python']\n"
     ]
    }
   ],
   "source": [
    "#question7\n",
    "import re\n",
    "text=\"ImportanceOfRegularExpressionsInPython\"\n",
    "pattern=r\"[A-Z][a-z]*\"\n",
    "reg=re.compile(pattern)\n",
    "print(re.findall(reg, text))"
   ]
  },
  {
   "cell_type": "code",
   "execution_count": 39,
   "id": "77eca32f",
   "metadata": {},
   "outputs": [
    {
     "name": "stdout",
     "output_type": "stream",
     "text": [
      "RegularExpression 1IsAn 2ImportantTopic 3InPython\n"
     ]
    }
   ],
   "source": [
    "#question8\n",
    "def data(text):\n",
    "    return re.sub(r\"(\\w)([0-9])\", r\"\\1 \\2\", text)\n",
    "print(data(\"RegularExpression1IsAn2ImportantTopic3InPython\"))"
   ]
  },
  {
   "cell_type": "code",
   "execution_count": 40,
   "id": "c889cab3",
   "metadata": {},
   "outputs": [
    {
     "name": "stdout",
     "output_type": "stream",
     "text": [
      "Regular Expression 1Is An 2Important Topic 3In Python\n"
     ]
    }
   ],
   "source": [
    "#question9\n",
    "def data(text):\n",
    "    return re.sub(r\"(\\w)([0-9]|[A-Z])\", r\"\\1 \\2\", text)\n",
    "print(data(\"RegularExpression1IsAn2ImportantTopic3InPython\"))"
   ]
  },
  {
   "cell_type": "code",
   "execution_count": 44,
   "id": "0d23f5a0",
   "metadata": {},
   "outputs": [
    {
     "name": "stdout",
     "output_type": "stream",
     "text": [
      "['xyz@domain.com', 'xyz.abc@sdomain.domain.com.', 'hr@fliprobo.com']\n"
     ]
    }
   ],
   "source": [
    "#question10\n",
    "import re\n",
    "text=\"\"\"Hello my name is Data Science and my email address is xyz@domain.com and alternate email address is xyz.abc@sdomain.domain.com. \n",
    "Please contact us at hr@fliprobo.com for further information. \n",
    "\"\"\"\n",
    "email=re.findall(r\"[\\w.]{0,20}@[\\w]+.[A-Za-z.]*\",text)          \n",
    "print(email)"
   ]
  },
  {
   "cell_type": "code",
   "execution_count": 73,
   "id": "ff9cfa3b",
   "metadata": {},
   "outputs": [
    {
     "name": "stdout",
     "output_type": "stream",
     "text": [
      "True\n"
     ]
    }
   ],
   "source": [
    "#question11\n",
    "import re\n",
    "text=\"Hello_World_123\"\n",
    "pattern=r\"[A-Za-z0-9_]*$\"\n",
    "reg=re.compile(pattern)\n",
    "print(bool(re.match(reg, text)))"
   ]
  },
  {
   "cell_type": "code",
   "execution_count": 45,
   "id": "b6c0b098",
   "metadata": {},
   "outputs": [
    {
     "name": "stdout",
     "output_type": "stream",
     "text": [
      "False\n",
      "True\n",
      "False\n",
      "False\n",
      "True\n"
     ]
    }
   ],
   "source": [
    "#question12\n",
    "#finding string starting with '3'\n",
    "import re\n",
    "str=[\"784561\", \"352491\", \"245781\", \"45768\", \"34187\"]   \n",
    "for i in str:\n",
    "    x=re.compile(r\"^3\") \n",
    "    if x.match(i):\n",
    "        print(True)\n",
    "    else:\n",
    "        print(False) "
   ]
  },
  {
   "cell_type": "code",
   "execution_count": 46,
   "id": "9622cf32",
   "metadata": {},
   "outputs": [
    {
     "name": "stdout",
     "output_type": "stream",
     "text": [
      "565.5.735.154\n"
     ]
    }
   ],
   "source": [
    "#question13\n",
    "#removing zeros from ip\n",
    "import re\n",
    "ip=\"565.05.0735.154\"\n",
    "reg=re.sub(r'\\.[0]*', \".\",ip)\n",
    "print(reg)"
   ]
  },
  {
   "cell_type": "code",
   "execution_count": 48,
   "id": "df3c7ebc",
   "metadata": {},
   "outputs": [
    {
     "name": "stdout",
     "output_type": "stream",
     "text": [
      "['August 15th 1947']\n"
     ]
    }
   ],
   "source": [
    "#question14\n",
    "import re\n",
    "text=''' On August 15th 1947 that India was declared independent from British colonialism, and the reins of control were handed over to the leaders of the Country’.'''\n",
    "print(re.findall(\"[A-Z][a-z]+\\s\\d{2}[a-z]{2}\\s\\d{4}\", text))\n"
   ]
  },
  {
   "cell_type": "code",
   "execution_count": 49,
   "id": "562b1277",
   "metadata": {},
   "outputs": [
    {
     "name": "stdout",
     "output_type": "stream",
     "text": [
      "Found\n",
      "Found\n",
      "Not Found\n"
     ]
    }
   ],
   "source": [
    "#question15\n",
    "text = 'The quick brown fox jumps over the lazy dog.'\n",
    "words=[\"fox\", \"dog\", \"horse\"] \n",
    "for i in words:\n",
    "    if re.search(i, text):\n",
    "        print(\"Found\")\n",
    "    else:\n",
    "        print(\"Not Found\")"
   ]
  },
  {
   "cell_type": "code",
   "execution_count": 50,
   "id": "23e0ebf0",
   "metadata": {},
   "outputs": [
    {
     "name": "stdout",
     "output_type": "stream",
     "text": [
      "<re.Match object; span=(16, 19), match='fox'>\n",
      "(16, 19)\n"
     ]
    }
   ],
   "source": [
    "#question16\n",
    "text = 'The quick brown fox jumps over the lazy dog.'\n",
    "word=\"fox\"\n",
    "match=re.search(word, text)\n",
    "print (match)\n",
    "print (match.span())"
   ]
  },
  {
   "cell_type": "code",
   "execution_count": 52,
   "id": "541b3728",
   "metadata": {},
   "outputs": [
    {
     "name": "stdout",
     "output_type": "stream",
     "text": [
      "<re.Match object; span=(7, 16), match='exercises'>\n"
     ]
    }
   ],
   "source": [
    "#question17\n",
    "text = 'Python exercises, PHP exercises, C# exercises'\n",
    "word='exercises'\n",
    "print(re.search(word, text))"
   ]
  },
  {
   "cell_type": "code",
   "execution_count": 74,
   "id": "6d5f0714",
   "metadata": {},
   "outputs": [
    {
     "name": "stdout",
     "output_type": "stream",
     "text": [
      "exercises 7 16\n",
      "exercises 22 31\n",
      "exercises 36 45\n"
     ]
    }
   ],
   "source": [
    "#question18\n",
    "import re \n",
    "text = 'Python exercises, PHP exercises, C# exercises'\n",
    "reg=re.finditer('exercises', text)\n",
    "for match in reg:\n",
    "    print(match.group(), match.start(), match.end())"
   ]
  },
  {
   "cell_type": "code",
   "execution_count": 54,
   "id": "f0e1a28c",
   "metadata": {},
   "outputs": [
    {
     "data": {
      "text/plain": [
       "'04-05-2014'"
      ]
     },
     "execution_count": 54,
     "metadata": {},
     "output_type": "execute_result"
    }
   ],
   "source": [
    "#question19\n",
    "import re\n",
    "def date_format(date):\n",
    "    return re.sub(r'(\\d{4})-(\\d{2})-(\\d{2})', \"\\\\3-\\\\2-\\\\1\",date)\n",
    "date=\"2014-05-04\"\n",
    "date_format(date)"
   ]
  },
  {
   "cell_type": "code",
   "execution_count": 75,
   "id": "9eb7fd49",
   "metadata": {},
   "outputs": [
    {
     "name": "stdout",
     "output_type": "stream",
     "text": [
      "True\n"
     ]
    }
   ],
   "source": [
    "#question20\n",
    "def decimal(num):\n",
    "    import re\n",
    "    pattern=r\"^[0-9]+(\\.[0-9]{1,2})?$\"\n",
    "    dec_num = re.compile(pattern)\n",
    "    return bool(re.search(dec_num, num))\n",
    "print(decimal('123.11'))"
   ]
  },
  {
   "cell_type": "code",
   "execution_count": 55,
   "id": "d1da8d01",
   "metadata": {
    "scrolled": true
   },
   "outputs": [
    {
     "name": "stdout",
     "output_type": "stream",
     "text": [
      "15\n",
      "Index :  14\n",
      "10\n",
      "Index :  32\n"
     ]
    }
   ],
   "source": [
    "#question21\n",
    "import re\n",
    "text=\"The store had 15 red apples and 10 green bananas on sale today.\"\n",
    "match =re.finditer(\"\\d+\", text)\n",
    "for i in match:\n",
    "    print(i.group())\n",
    "    print('Index : ', i.start())"
   ]
  },
  {
   "cell_type": "code",
   "execution_count": 57,
   "id": "57503c4e",
   "metadata": {},
   "outputs": [
    {
     "name": "stdout",
     "output_type": "stream",
     "text": [
      "950\n"
     ]
    }
   ],
   "source": [
    "#question22\n",
    "import re\n",
    "text=\"My marks in each semester are: 947, 896, 926, 524, 734, 950, 642\"\n",
    "num=re.findall(\"\\d+\", text)\n",
    "print(max(num))"
   ]
  },
  {
   "cell_type": "code",
   "execution_count": 58,
   "id": "5e617d6b",
   "metadata": {},
   "outputs": [
    {
     "name": "stdout",
     "output_type": "stream",
     "text": [
      "Regular Expression Is An Important Topic In Python\n"
     ]
    }
   ],
   "source": [
    "#question23\n",
    "def text(text):\n",
    "    return re.sub(r\"(\\w)([A-Z])\", r\"\\1 \\2\", text)\n",
    "print(text(\"RegularExpressionIsAnImportantTopicInPython\"))"
   ]
  },
  {
   "cell_type": "code",
   "execution_count": 78,
   "id": "3d21573f",
   "metadata": {},
   "outputs": [
    {
     "data": {
      "text/plain": [
       "'Matched'"
      ]
     },
     "execution_count": 78,
     "metadata": {},
     "output_type": "execute_result"
    }
   ],
   "source": [
    "#question24\n",
    "import re\n",
    "def text(str):\n",
    "    match=re.compile('[A-Z][a-z]+')\n",
    "    if re.search(match, str):\n",
    "        return \"Matched\"\n",
    "    else:\n",
    "        return \"Not Matched\"\n",
    "\n",
    "text(\"This is Python Program\")\n",
    "\n"
   ]
  },
  {
   "cell_type": "code",
   "execution_count": 59,
   "id": "2a9dad68",
   "metadata": {},
   "outputs": [
    {
     "name": "stdout",
     "output_type": "stream",
     "text": [
      "Hello hello world\n"
     ]
    }
   ],
   "source": [
    "#question25\n",
    "import re\n",
    "text=\"Hello hello world world\"\n",
    "print(re.sub('\\\\b(\\\\w+)(?:\\\\W+\\\\1\\\\b)+',r'\\1', text))\n"
   ]
  },
  {
   "cell_type": "code",
   "execution_count": 77,
   "id": "c74102ef",
   "metadata": {},
   "outputs": [
    {
     "name": "stdout",
     "output_type": "stream",
     "text": [
      "Matched\n"
     ]
    }
   ],
   "source": [
    "#question26\n",
    "import re\n",
    "def text(str):\n",
    "    x= re.compile(r'[A-Za-z0-9]$')\n",
    "    if re.search(x, str):\n",
    "        print('Matched')\n",
    "    else:\n",
    "        print ('Not Matched')\n",
    "        \n",
    "text('project2307')"
   ]
  },
  {
   "cell_type": "code",
   "execution_count": 61,
   "id": "91c33ca6",
   "metadata": {},
   "outputs": [
    {
     "name": "stdout",
     "output_type": "stream",
     "text": [
      "['#Doltiwal', '#xyzabc', '#Demonetization']\n"
     ]
    }
   ],
   "source": [
    "#question27\n",
    "import re\n",
    "text=\"\"\"RT @kapil_kausik: #Doltiwal I mean #xyzabc is \"hurt\" by #Demonetization as the same has rendered USELESS <ed><U+00A0><U+00BD><ed><U+00B1><U+0089> \"acquired funds\" No wo\"\"\"\n",
    "match=re.findall('#\\S+', text)\n",
    "print (match)\n"
   ]
  },
  {
   "cell_type": "code",
   "execution_count": 66,
   "id": "3371ebaa",
   "metadata": {},
   "outputs": [
    {
     "name": "stdout",
     "output_type": "stream",
     "text": [
      "@Jags123456 Bharat band on 28??<ed><ed>Those who  are protesting #demonetization  are all different party leaders\n"
     ]
    }
   ],
   "source": [
    "#question28\n",
    "text=\"@Jags123456 Bharat band on 28??<ed><U+00A0><U+00BD><ed><U+00B8><U+0082>Those who  are protesting #demonetization  are all different party leaders\"\n",
    "pattern='<U\\+[A-Z0-9]*>'\n",
    "match=re.compile(pattern)\n",
    "print(re.sub(match, '', text))"
   ]
  },
  {
   "cell_type": "code",
   "execution_count": 63,
   "id": "293cdab1",
   "metadata": {},
   "outputs": [
    {
     "name": "stdout",
     "output_type": "stream",
     "text": [
      "['12-09-1992', '15-12-1999']\n"
     ]
    }
   ],
   "source": [
    "#question29\n",
    "text=\"Ron was born on 12-09-1992 and he was admitted to school 15-12-1999.\"\n",
    "print(re.findall('\\d{2}-\\d{2}-\\d{4}', text))"
   ]
  },
  {
   "cell_type": "code",
   "execution_count": 65,
   "id": "206de3de",
   "metadata": {},
   "outputs": [
    {
     "name": "stdout",
     "output_type": "stream",
     "text": [
      " following example creates  ArrayList  a capacity   elements. 4 elements   added   ArrayList   ArrayList  trimmed accordingly.\n"
     ]
    }
   ],
   "source": [
    "#question30\n",
    "text=\"The following example creates an ArrayList with a capacity of 50 elements. 4 elements are then added to the ArrayList and the ArrayList is trimmed accordingly.\"\n",
    "pattern=r'\\b\\w{2,4}\\b'\n",
    "reg=re.compile(pattern)\n",
    "print(re.sub(reg,\"\", text))   "
   ]
  }
 ],
 "metadata": {
  "kernelspec": {
   "display_name": "Python 3 (ipykernel)",
   "language": "python",
   "name": "python3"
  },
  "language_info": {
   "codemirror_mode": {
    "name": "ipython",
    "version": 3
   },
   "file_extension": ".py",
   "mimetype": "text/x-python",
   "name": "python",
   "nbconvert_exporter": "python",
   "pygments_lexer": "ipython3",
   "version": "3.9.13"
  }
 },
 "nbformat": 4,
 "nbformat_minor": 5
}
